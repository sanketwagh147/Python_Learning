{
 "cells": [
  {
   "cell_type": "markdown",
   "id": "7cd65cad-f7ff-461f-a072-ae9465c07a8f",
   "metadata": {},
   "source": [
    "# Validating Password in Python using regex"
   ]
  },
  {
   "cell_type": "markdown",
   "id": "3ca18c35-bdc1-49e0-a798-2ae0baec57c1",
   "metadata": {},
   "source": [
    "## `{}` curly braces limit the count \n",
    ">`{min, max}` denotes minimum and maximum number of characters (max is optional)"
   ]
  },
  {
   "cell_type": "markdown",
   "id": "72ea04fa-4694-476d-a7e4-dca8893c9239",
   "metadata": {},
   "source": [
    "## re.fullmatch(pattern , string)\n",
    "> ?"
   ]
  },
  {
   "cell_type": "code",
   "execution_count": 15,
   "id": "28dc79ce-cbac-4bee-ae57-72bb59153c2e",
   "metadata": {},
   "outputs": [
    {
     "name": "stdout",
     "output_type": "stream",
     "text": [
      "1 : <re.Match object; span=(0, 10), match='Hey123@456'>\n",
      "2 : None\n",
      "3 : <re.Match object; span=(0, 11), match='amazing@123'>\n",
      "4 : None\n"
     ]
    }
   ],
   "source": [
    "import re\n",
    "# validade if password in of minimum length and have any of characters\n",
    "string_1 = \"Hey123@456\"\n",
    "string_2 = \"thisis great\"\n",
    "string_3 = \"amazing@123\"\n",
    "string_4 = \"hi12345\"\n",
    "string_list = [string_1, string_2, string_3, string_4]\n",
    "alphanum =  \"A-Za-z0-9\"\n",
    "special_chr = \"@#$%^&+=\"\n",
    "pattern = \"[\" +alphanum + special_chr+ \"]\"+\"{8,}\" \n",
    "for index,string in enumerate(string_list, start =1):\n",
    "    print(index,\":\",re.fullmatch(pattern , string))\n"
   ]
  },
  {
   "cell_type": "markdown",
   "id": "48b6074d-f1d7-4520-909c-15bbbe7b4296",
   "metadata": {},
   "source": [
    "Explanation:</br>\n",
    "2: No match as it has space character which we did not describe in the pattern </br>\n",
    "4: Length less than 8"
   ]
  },
  {
   "cell_type": "markdown",
   "id": "88c5d39a-1d1c-41fe-ab04-336bbf9dca04",
   "metadata": {},
   "source": [
    "### To check if password meets certain criteria\n",
    "> Must have a lowecase letter </br>\n",
    "> Must have a uppercase letter </br>\n",
    "> Must have a digit </br>\n",
    "> Must have a special character </br>\n",
    "> Must be 8 digits long"
   ]
  },
  {
   "cell_type": "markdown",
   "id": "65f1fcf6-3459-4050-bc5e-50d733dfeea1",
   "metadata": {},
   "source": [
    "## Assertion (?=)\n",
    "> When match is possible in some way or somecondition which is followed by assertion syntax.\n",
    "\n"
   ]
  },
  {
   "cell_type": "markdown",
   "id": "36f72550-34d6-43b7-adc8-992fa24413fc",
   "metadata": {},
   "source": [
    "### (?=.*) positive lookahead assertion (must have atleast one character)"
   ]
  },
  {
   "cell_type": "code",
   "execution_count": 2,
   "id": "7d1f9624-c698-4c7e-99f5-5e0c454a7699",
   "metadata": {},
   "outputs": [
    {
     "data": {
      "text/plain": [
       "(<re.Match object; span=(0, 10), match='Hey123@456'>, None)"
      ]
     },
     "execution_count": 2,
     "metadata": {},
     "output_type": "execute_result"
    }
   ],
   "source": [
    "# special_chr = \"[#$%^&+=]\"\n",
    "# lower =\"[a-z]\"\n",
    "# upper = \"[A-Z]\"\n",
    "# digits = \"[0-9]\"\n",
    "pattern_2 = \"(?=.*[a-z])(?=.*[A-Z])(?=.*\\d)(?=.*[@$!%*?&])[A-Za-z\\d@$!%*?&]{8,}\"\n",
    "re.fullmatch(pattern_2, string_1), re.fullmatch(pattern_2, string_3)"
   ]
  },
  {
   "cell_type": "code",
   "execution_count": null,
   "id": "98d4bdb1-90e8-418a-a5ed-b8d61e0a6fe5",
   "metadata": {},
   "outputs": [],
   "source": []
  },
  {
   "cell_type": "code",
   "execution_count": null,
   "id": "f043b0dc-d82b-4825-878c-f7828eca10e4",
   "metadata": {},
   "outputs": [],
   "source": []
  }
 ],
 "metadata": {
  "kernelspec": {
   "display_name": "Python 3",
   "language": "python",
   "name": "python3"
  },
  "language_info": {
   "codemirror_mode": {
    "name": "ipython",
    "version": 3
   },
   "file_extension": ".py",
   "mimetype": "text/x-python",
   "name": "python",
   "nbconvert_exporter": "python",
   "pygments_lexer": "ipython3",
   "version": "3.7.10"
  }
 },
 "nbformat": 4,
 "nbformat_minor": 5
}
