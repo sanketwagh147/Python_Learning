{
 "nbformat": 4,
 "nbformat_minor": 0,
 "metadata": {
  "kernelspec": {
   "display_name": "Python 3",
   "language": "python",
   "name": "python3"
  },
  "language_info": {
   "codemirror_mode": {
    "name": "ipython",
    "version": 3
   },
   "file_extension": ".py",
   "mimetype": "text/x-python",
   "name": "python",
   "nbconvert_exporter": "python",
   "pygments_lexer": "ipython3",
   "version": "3.7.1"
  },
  "colab": {
   "name": "Copy of Data Wrangling.ipynb",
   "provenance": [],
   "collapsed_sections": []
  }
 },
 "cells": [
  {
   "cell_type": "markdown",
   "metadata": {
    "id": "UWwxx82WO9dR"
   },
   "source": [
    "# <b><u>Merge & Groupby Operations in Pandas"
   ]
  },
  {
   "cell_type": "markdown",
   "metadata": {
    "id": "ZAPuRH3gk1Tq"
   },
   "source": [
    "## **We can merge dataframes using the following methods**\n",
    "\n",
    "* <code> pd.concat( [df] , axis) </code>\n",
    "\n",
    "* <code> pd.merge( df1, df2 ,on,how,suffixes) </code>\n",
    "\n",
    "\n",
    "\n",
    "\n",
    "### More detailed documentation here : https://pandas.pydata.org/pandas-docs/stable/user_guide/merging.html"
   ]
  },
  {
   "cell_type": "code",
   "metadata": {
    "id": "S8si_pxGG8wE"
   },
   "source": [
    "import pandas as pd\n",
    "import numpy as np"
   ],
   "execution_count": 14,
   "outputs": []
  },
  {
   "cell_type": "code",
   "metadata": {
    "id": "tdKMY7rnG3ft"
   },
   "source": [
    "file_path = r\"C:\\Users\\Admin\\PycharmProjects\\Practice\\ALmabetter\\datasets\\imdb_data.csv\"\n",
    "imdb_df=pd.read_csv(file_path)"
   ],
   "execution_count": 15,
   "outputs": []
  },
  {
   "cell_type": "code",
   "metadata": {
    "colab": {
     "base_uri": "https://localhost:8080/",
     "height": 248
    },
    "id": "psgepNDtHf2F",
    "outputId": "4b911862-0f3a-4a04-c104-8fe2353e0444"
   },
   "source": [
    "imdb_df.head(1)"
   ],
   "execution_count": 16,
   "outputs": [
    {
     "data": {
      "text/plain": "   id                              belongs_to_collection    budget  \\\n0   1  [{'id': 313576, 'name': 'Hot Tub Time Machine ...  14000000   \n\n                           genres homepage    imdb_id original_language  \\\n0  [{'id': 35, 'name': 'Comedy'}]      NaN  tt2637294                en   \n\n           original_title                                           overview  \\\n0  Hot Tub Time Machine 2  When Lou, who has become the \"father of the In...   \n\n   popularity  ... release_date runtime  \\\n0    6.575393  ...      2/20/15    93.0   \n\n                           spoken_languages    status  \\\n0  [{'iso_639_1': 'en', 'name': 'English'}]  Released   \n\n                                             tagline                   title  \\\n0  The Laws of Space and Time are About to be Vio...  Hot Tub Time Machine 2   \n\n                                            Keywords  \\\n0  [{'id': 4379, 'name': 'time travel'}, {'id': 9...   \n\n                                                cast  \\\n0  [{'cast_id': 4, 'character': 'Lou', 'credit_id...   \n\n                                                crew   revenue  \n0  [{'credit_id': '59ac067c92514107af02c8c8', 'de...  12314651  \n\n[1 rows x 23 columns]",
      "text/html": "<div>\n<style scoped>\n    .dataframe tbody tr th:only-of-type {\n        vertical-align: middle;\n    }\n\n    .dataframe tbody tr th {\n        vertical-align: top;\n    }\n\n    .dataframe thead th {\n        text-align: right;\n    }\n</style>\n<table border=\"1\" class=\"dataframe\">\n  <thead>\n    <tr style=\"text-align: right;\">\n      <th></th>\n      <th>id</th>\n      <th>belongs_to_collection</th>\n      <th>budget</th>\n      <th>genres</th>\n      <th>homepage</th>\n      <th>imdb_id</th>\n      <th>original_language</th>\n      <th>original_title</th>\n      <th>overview</th>\n      <th>popularity</th>\n      <th>...</th>\n      <th>release_date</th>\n      <th>runtime</th>\n      <th>spoken_languages</th>\n      <th>status</th>\n      <th>tagline</th>\n      <th>title</th>\n      <th>Keywords</th>\n      <th>cast</th>\n      <th>crew</th>\n      <th>revenue</th>\n    </tr>\n  </thead>\n  <tbody>\n    <tr>\n      <th>0</th>\n      <td>1</td>\n      <td>[{'id': 313576, 'name': 'Hot Tub Time Machine ...</td>\n      <td>14000000</td>\n      <td>[{'id': 35, 'name': 'Comedy'}]</td>\n      <td>NaN</td>\n      <td>tt2637294</td>\n      <td>en</td>\n      <td>Hot Tub Time Machine 2</td>\n      <td>When Lou, who has become the \"father of the In...</td>\n      <td>6.575393</td>\n      <td>...</td>\n      <td>2/20/15</td>\n      <td>93.0</td>\n      <td>[{'iso_639_1': 'en', 'name': 'English'}]</td>\n      <td>Released</td>\n      <td>The Laws of Space and Time are About to be Vio...</td>\n      <td>Hot Tub Time Machine 2</td>\n      <td>[{'id': 4379, 'name': 'time travel'}, {'id': 9...</td>\n      <td>[{'cast_id': 4, 'character': 'Lou', 'credit_id...</td>\n      <td>[{'credit_id': '59ac067c92514107af02c8c8', 'de...</td>\n      <td>12314651</td>\n    </tr>\n  </tbody>\n</table>\n<p>1 rows × 23 columns</p>\n</div>"
     },
     "execution_count": 16,
     "metadata": {},
     "output_type": "execute_result"
    }
   ]
  },
  {
   "cell_type": "code",
   "metadata": {
    "id": "aIH8zOuQIJd2"
   },
   "source": [
    "imdb_df.drop(\"id\", axis=1, inplace=True)"
   ],
   "execution_count": 17,
   "outputs": []
  },
  {
   "cell_type": "markdown",
   "metadata": {
    "id": "szWnTBK8HieU"
   },
   "source": [
    "## Let us go ahead and create three subsets of our original dataset"
   ]
  },
  {
   "cell_type": "code",
   "execution_count": 18,
   "outputs": [],
   "source": [
    "\n",
    "filter1 = imdb_df[\"runtime\"] >= 150\n",
    "filter2= (imdb_df[\"runtime\"] < 150) & (imdb_df[\"runtime\"] > 100)\n",
    "filter3 = imdb_df[\"runtime\"] <= 100\n",
    "# Create three dataframes"
   ],
   "metadata": {
    "collapsed": false,
    "pycharm": {
     "name": "#%%\n"
    }
   }
  },
  {
   "cell_type": "code",
   "execution_count": 19,
   "outputs": [],
   "source": [
    "\n",
    "imdb1 = imdb_df[filter1]\n",
    "imdb2 = imdb_df[filter2]\n",
    "imdb3 = imdb_df[filter3]"
   ],
   "metadata": {
    "collapsed": false,
    "pycharm": {
     "name": "#%%\n"
    }
   }
  },
  {
   "cell_type": "code",
   "metadata": {
    "id": "XEyiLKiDJ-l_",
    "colab": {
     "base_uri": "https://localhost:8080/",
     "height": 702
    },
    "outputId": "496b98d4-aa21-4082-e843-586663ba82ad"
   },
   "source": [
    "imdb3[\"runtime\"].head(2)"
   ],
   "execution_count": 20,
   "outputs": [
    {
     "data": {
      "text/plain": "0    93.0\n5    83.0\nName: runtime, dtype: float64"
     },
     "execution_count": 20,
     "metadata": {},
     "output_type": "execute_result"
    }
   ]
  },
  {
   "cell_type": "code",
   "metadata": {
    "id": "tWJJs_X7KBGU",
    "colab": {
     "base_uri": "https://localhost:8080/",
     "height": 616
    },
    "outputId": "c4f2f93f-c109-4332-dfd9-c862714d8ff6"
   },
   "source": [
    "imdb2.head(2)"
   ],
   "execution_count": 21,
   "outputs": [
    {
     "data": {
      "text/plain": "                               belongs_to_collection    budget  \\\n1  [{'id': 107674, 'name': 'The Princess Diaries ...  40000000   \n2                                                NaN   3300000   \n\n                                              genres  \\\n1  [{'id': 35, 'name': 'Comedy'}, {'id': 18, 'nam...   \n2                      [{'id': 18, 'name': 'Drama'}]   \n\n                            homepage    imdb_id original_language  \\\n1                                NaN  tt0368933                en   \n2  http://sonyclassics.com/whiplash/  tt2582802                en   \n\n                             original_title  \\\n1  The Princess Diaries 2: Royal Engagement   \n2                                  Whiplash   \n\n                                            overview  popularity  \\\n1  Mia Thermopolis is now a college graduate and ...    8.248895   \n2  Under the direction of a ruthless instructor, ...   64.299990   \n\n                        poster_path  ... release_date runtime  \\\n1  /w9Z7A0GHEhIp7etpj0vyKOeU1Wx.jpg  ...       8/6/04   113.0   \n2  /lIv1QinFqz4dlp5U4lQ6HaiskOZ.jpg  ...     10/10/14   105.0   \n\n                           spoken_languages    status  \\\n1  [{'iso_639_1': 'en', 'name': 'English'}]  Released   \n2  [{'iso_639_1': 'en', 'name': 'English'}]  Released   \n\n                                             tagline  \\\n1  It can take a lifetime to find true love; she'...   \n2    The road to greatness can take you to the edge.   \n\n                                      title  \\\n1  The Princess Diaries 2: Royal Engagement   \n2                                  Whiplash   \n\n                                            Keywords  \\\n1  [{'id': 2505, 'name': 'coronation'}, {'id': 42...   \n2  [{'id': 1416, 'name': 'jazz'}, {'id': 1523, 'n...   \n\n                                                cast  \\\n1  [{'cast_id': 1, 'character': 'Mia Thermopolis'...   \n2  [{'cast_id': 5, 'character': 'Andrew Neimann',...   \n\n                                                crew   revenue  \n1  [{'credit_id': '52fe43fe9251416c7502563d', 'de...  95149435  \n2  [{'credit_id': '54d5356ec3a3683ba0000039', 'de...  13092000  \n\n[2 rows x 22 columns]",
      "text/html": "<div>\n<style scoped>\n    .dataframe tbody tr th:only-of-type {\n        vertical-align: middle;\n    }\n\n    .dataframe tbody tr th {\n        vertical-align: top;\n    }\n\n    .dataframe thead th {\n        text-align: right;\n    }\n</style>\n<table border=\"1\" class=\"dataframe\">\n  <thead>\n    <tr style=\"text-align: right;\">\n      <th></th>\n      <th>belongs_to_collection</th>\n      <th>budget</th>\n      <th>genres</th>\n      <th>homepage</th>\n      <th>imdb_id</th>\n      <th>original_language</th>\n      <th>original_title</th>\n      <th>overview</th>\n      <th>popularity</th>\n      <th>poster_path</th>\n      <th>...</th>\n      <th>release_date</th>\n      <th>runtime</th>\n      <th>spoken_languages</th>\n      <th>status</th>\n      <th>tagline</th>\n      <th>title</th>\n      <th>Keywords</th>\n      <th>cast</th>\n      <th>crew</th>\n      <th>revenue</th>\n    </tr>\n  </thead>\n  <tbody>\n    <tr>\n      <th>1</th>\n      <td>[{'id': 107674, 'name': 'The Princess Diaries ...</td>\n      <td>40000000</td>\n      <td>[{'id': 35, 'name': 'Comedy'}, {'id': 18, 'nam...</td>\n      <td>NaN</td>\n      <td>tt0368933</td>\n      <td>en</td>\n      <td>The Princess Diaries 2: Royal Engagement</td>\n      <td>Mia Thermopolis is now a college graduate and ...</td>\n      <td>8.248895</td>\n      <td>/w9Z7A0GHEhIp7etpj0vyKOeU1Wx.jpg</td>\n      <td>...</td>\n      <td>8/6/04</td>\n      <td>113.0</td>\n      <td>[{'iso_639_1': 'en', 'name': 'English'}]</td>\n      <td>Released</td>\n      <td>It can take a lifetime to find true love; she'...</td>\n      <td>The Princess Diaries 2: Royal Engagement</td>\n      <td>[{'id': 2505, 'name': 'coronation'}, {'id': 42...</td>\n      <td>[{'cast_id': 1, 'character': 'Mia Thermopolis'...</td>\n      <td>[{'credit_id': '52fe43fe9251416c7502563d', 'de...</td>\n      <td>95149435</td>\n    </tr>\n    <tr>\n      <th>2</th>\n      <td>NaN</td>\n      <td>3300000</td>\n      <td>[{'id': 18, 'name': 'Drama'}]</td>\n      <td>http://sonyclassics.com/whiplash/</td>\n      <td>tt2582802</td>\n      <td>en</td>\n      <td>Whiplash</td>\n      <td>Under the direction of a ruthless instructor, ...</td>\n      <td>64.299990</td>\n      <td>/lIv1QinFqz4dlp5U4lQ6HaiskOZ.jpg</td>\n      <td>...</td>\n      <td>10/10/14</td>\n      <td>105.0</td>\n      <td>[{'iso_639_1': 'en', 'name': 'English'}]</td>\n      <td>Released</td>\n      <td>The road to greatness can take you to the edge.</td>\n      <td>Whiplash</td>\n      <td>[{'id': 1416, 'name': 'jazz'}, {'id': 1523, 'n...</td>\n      <td>[{'cast_id': 5, 'character': 'Andrew Neimann',...</td>\n      <td>[{'credit_id': '54d5356ec3a3683ba0000039', 'de...</td>\n      <td>13092000</td>\n    </tr>\n  </tbody>\n</table>\n<p>2 rows × 22 columns</p>\n</div>"
     },
     "execution_count": 21,
     "metadata": {},
     "output_type": "execute_result"
    }
   ]
  },
  {
   "cell_type": "code",
   "metadata": {
    "id": "R0H0OqW_KDET",
    "colab": {
     "base_uri": "https://localhost:8080/",
     "height": 685
    },
    "outputId": "0e730d75-7787-44d8-c475-a3f763fac678"
   },
   "source": [
    "imdb3.head(2)"
   ],
   "execution_count": 22,
   "outputs": [
    {
     "data": {
      "text/plain": "                               belongs_to_collection    budget  \\\n0  [{'id': 313576, 'name': 'Hot Tub Time Machine ...  14000000   \n5                                                NaN   8000000   \n\n                                              genres homepage    imdb_id  \\\n0                     [{'id': 35, 'name': 'Comedy'}]      NaN  tt2637294   \n5  [{'id': 16, 'name': 'Animation'}, {'id': 12, '...      NaN  tt0093743   \n\n  original_language                          original_title  \\\n0                en                  Hot Tub Time Machine 2   \n5                en  Pinocchio and the Emperor of the Night   \n\n                                            overview  popularity  \\\n0  When Lou, who has become the \"father of the In...    6.575393   \n5  Pinocchio and his friends, a glow worm and a m...    0.743274   \n\n                        poster_path  ... release_date runtime  \\\n0  /tQtWuwvMf0hCc2QR2tkolwl7c3c.jpg  ...      2/20/15    93.0   \n5  /6IDqA1D2NBIVhzEEaMMRL28iBrq.jpg  ...       8/6/87    83.0   \n\n                           spoken_languages    status  \\\n0  [{'iso_639_1': 'en', 'name': 'English'}]  Released   \n5  [{'iso_639_1': 'en', 'name': 'English'}]  Released   \n\n                                             tagline  \\\n0  The Laws of Space and Time are About to be Vio...   \n5                                                NaN   \n\n                                    title  \\\n0                  Hot Tub Time Machine 2   \n5  Pinocchio and the Emperor of the Night   \n\n                                            Keywords  \\\n0  [{'id': 4379, 'name': 'time travel'}, {'id': 9...   \n5                                                NaN   \n\n                                                cast  \\\n0  [{'cast_id': 4, 'character': 'Lou', 'credit_id...   \n5  [{'cast_id': 6, 'character': 'Pinocchio (voice...   \n\n                                                crew   revenue  \n0  [{'credit_id': '59ac067c92514107af02c8c8', 'de...  12314651  \n5  [{'credit_id': '52fe46f49251416c9106558b', 'de...   3261638  \n\n[2 rows x 22 columns]",
      "text/html": "<div>\n<style scoped>\n    .dataframe tbody tr th:only-of-type {\n        vertical-align: middle;\n    }\n\n    .dataframe tbody tr th {\n        vertical-align: top;\n    }\n\n    .dataframe thead th {\n        text-align: right;\n    }\n</style>\n<table border=\"1\" class=\"dataframe\">\n  <thead>\n    <tr style=\"text-align: right;\">\n      <th></th>\n      <th>belongs_to_collection</th>\n      <th>budget</th>\n      <th>genres</th>\n      <th>homepage</th>\n      <th>imdb_id</th>\n      <th>original_language</th>\n      <th>original_title</th>\n      <th>overview</th>\n      <th>popularity</th>\n      <th>poster_path</th>\n      <th>...</th>\n      <th>release_date</th>\n      <th>runtime</th>\n      <th>spoken_languages</th>\n      <th>status</th>\n      <th>tagline</th>\n      <th>title</th>\n      <th>Keywords</th>\n      <th>cast</th>\n      <th>crew</th>\n      <th>revenue</th>\n    </tr>\n  </thead>\n  <tbody>\n    <tr>\n      <th>0</th>\n      <td>[{'id': 313576, 'name': 'Hot Tub Time Machine ...</td>\n      <td>14000000</td>\n      <td>[{'id': 35, 'name': 'Comedy'}]</td>\n      <td>NaN</td>\n      <td>tt2637294</td>\n      <td>en</td>\n      <td>Hot Tub Time Machine 2</td>\n      <td>When Lou, who has become the \"father of the In...</td>\n      <td>6.575393</td>\n      <td>/tQtWuwvMf0hCc2QR2tkolwl7c3c.jpg</td>\n      <td>...</td>\n      <td>2/20/15</td>\n      <td>93.0</td>\n      <td>[{'iso_639_1': 'en', 'name': 'English'}]</td>\n      <td>Released</td>\n      <td>The Laws of Space and Time are About to be Vio...</td>\n      <td>Hot Tub Time Machine 2</td>\n      <td>[{'id': 4379, 'name': 'time travel'}, {'id': 9...</td>\n      <td>[{'cast_id': 4, 'character': 'Lou', 'credit_id...</td>\n      <td>[{'credit_id': '59ac067c92514107af02c8c8', 'de...</td>\n      <td>12314651</td>\n    </tr>\n    <tr>\n      <th>5</th>\n      <td>NaN</td>\n      <td>8000000</td>\n      <td>[{'id': 16, 'name': 'Animation'}, {'id': 12, '...</td>\n      <td>NaN</td>\n      <td>tt0093743</td>\n      <td>en</td>\n      <td>Pinocchio and the Emperor of the Night</td>\n      <td>Pinocchio and his friends, a glow worm and a m...</td>\n      <td>0.743274</td>\n      <td>/6IDqA1D2NBIVhzEEaMMRL28iBrq.jpg</td>\n      <td>...</td>\n      <td>8/6/87</td>\n      <td>83.0</td>\n      <td>[{'iso_639_1': 'en', 'name': 'English'}]</td>\n      <td>Released</td>\n      <td>NaN</td>\n      <td>Pinocchio and the Emperor of the Night</td>\n      <td>NaN</td>\n      <td>[{'cast_id': 6, 'character': 'Pinocchio (voice...</td>\n      <td>[{'credit_id': '52fe46f49251416c9106558b', 'de...</td>\n      <td>3261638</td>\n    </tr>\n  </tbody>\n</table>\n<p>2 rows × 22 columns</p>\n</div>"
     },
     "execution_count": 22,
     "metadata": {},
     "output_type": "execute_result"
    }
   ]
  },
  {
   "cell_type": "code",
   "metadata": {
    "id": "UZSgihHqk1Tt",
    "colab": {
     "base_uri": "https://localhost:8080/",
     "height": 1000
    },
    "outputId": "97bbf344-f0cc-4eed-f0c4-bc00ecf0506a"
   },
   "source": [
    "# Concat both axis\n",
    "imdb_non_null_runtime = pd.concat([imdb1,imdb2,imdb3])\n",
    "imdb_non_null_runtime.shape, \" ---- \", imdb_df.shape"
   ],
   "execution_count": 23,
   "outputs": [
    {
     "data": {
      "text/plain": "((2998, 22), ' ---- ', (3000, 22))"
     },
     "execution_count": 23,
     "metadata": {},
     "output_type": "execute_result"
    }
   ]
  },
  {
   "cell_type": "code",
   "metadata": {
    "colab": {
     "base_uri": "https://localhost:8080/"
    },
    "id": "Hi9tpntjmaD8",
    "outputId": "77fdce6e-c446-402f-be42-f07c120a6624"
   },
   "source": [
    "imdb_df.info()"
   ],
   "execution_count": 24,
   "outputs": [
    {
     "name": "stdout",
     "output_type": "stream",
     "text": [
      "<class 'pandas.core.frame.DataFrame'>\n",
      "RangeIndex: 3000 entries, 0 to 2999\n",
      "Data columns (total 22 columns):\n",
      " #   Column                 Non-Null Count  Dtype  \n",
      "---  ------                 --------------  -----  \n",
      " 0   belongs_to_collection  604 non-null    object \n",
      " 1   budget                 3000 non-null   int64  \n",
      " 2   genres                 2993 non-null   object \n",
      " 3   homepage               946 non-null    object \n",
      " 4   imdb_id                3000 non-null   object \n",
      " 5   original_language      3000 non-null   object \n",
      " 6   original_title         3000 non-null   object \n",
      " 7   overview               2992 non-null   object \n",
      " 8   popularity             3000 non-null   float64\n",
      " 9   poster_path            2999 non-null   object \n",
      " 10  production_companies   2844 non-null   object \n",
      " 11  production_countries   2945 non-null   object \n",
      " 12  release_date           3000 non-null   object \n",
      " 13  runtime                2998 non-null   float64\n",
      " 14  spoken_languages       2980 non-null   object \n",
      " 15  status                 3000 non-null   object \n",
      " 16  tagline                2403 non-null   object \n",
      " 17  title                  3000 non-null   object \n",
      " 18  Keywords               2724 non-null   object \n",
      " 19  cast                   2987 non-null   object \n",
      " 20  crew                   2984 non-null   object \n",
      " 21  revenue                3000 non-null   int64  \n",
      "dtypes: float64(2), int64(2), object(18)\n",
      "memory usage: 515.8+ KB\n"
     ]
    }
   ]
  },
  {
   "cell_type": "code",
   "metadata": {
    "colab": {
     "base_uri": "https://localhost:8080/"
    },
    "id": "7YqIWJFhmRkY",
    "outputId": "67eb7880-b25d-4826-9386-d41475e678b7"
   },
   "source": [
    "imdb_df.shape"
   ],
   "execution_count": 25,
   "outputs": [
    {
     "data": {
      "text/plain": "(3000, 22)"
     },
     "execution_count": 25,
     "metadata": {},
     "output_type": "execute_result"
    }
   ]
  },
  {
   "cell_type": "code",
   "metadata": {
    "colab": {
     "base_uri": "https://localhost:8080/"
    },
    "id": "uTNUVRqSmEND",
    "outputId": "0fd371b9-8516-45c0-84f0-11d8a1f088bc"
   },
   "source": [
    "imdb1.shape,imdb2.shape,imdb3.shape"
   ],
   "execution_count": 26,
   "outputs": [
    {
     "data": {
      "text/plain": "((135, 22), (1586, 22), (1277, 22))"
     },
     "execution_count": 26,
     "metadata": {},
     "output_type": "execute_result"
    }
   ]
  },
  {
   "cell_type": "code",
   "execution_count": 26,
   "outputs": [],
   "source": [],
   "metadata": {
    "collapsed": false,
    "pycharm": {
     "name": "#%%\n"
    }
   }
  },
  {
   "cell_type": "code",
   "execution_count": 27,
   "outputs": [
    {
     "data": {
      "text/plain": "(2998, 66)"
     },
     "execution_count": 27,
     "metadata": {},
     "output_type": "execute_result"
    }
   ],
   "source": [
    "imdb_non_null_runtime_C = pd.concat([imdb1,imdb2,imdb3], axis=1)\n",
    "imdb_non_null_runtime_C.shape"
   ],
   "metadata": {
    "collapsed": false,
    "pycharm": {
     "name": "#%%\n"
    }
   }
  },
  {
   "cell_type": "code",
   "execution_count": 28,
   "outputs": [
    {
     "name": "stdout",
     "output_type": "stream",
     "text": [
      "<class 'pandas.core.frame.DataFrame'>\n",
      "Int64Index: 2998 entries, 0 to 2999\n",
      "Data columns (total 66 columns):\n",
      " #   Column                 Non-Null Count  Dtype  \n",
      "---  ------                 --------------  -----  \n",
      " 0   belongs_to_collection  21 non-null     object \n",
      " 1   budget                 135 non-null    float64\n",
      " 2   genres                 134 non-null    object \n",
      " 3   homepage               40 non-null     object \n",
      " 4   imdb_id                135 non-null    object \n",
      " 5   original_language      135 non-null    object \n",
      " 6   original_title         135 non-null    object \n",
      " 7   overview               135 non-null    object \n",
      " 8   popularity             135 non-null    float64\n",
      " 9   poster_path            135 non-null    object \n",
      " 10  production_companies   125 non-null    object \n",
      " 11  production_countries   134 non-null    object \n",
      " 12  release_date           135 non-null    object \n",
      " 13  runtime                135 non-null    float64\n",
      " 14  spoken_languages       135 non-null    object \n",
      " 15  status                 135 non-null    object \n",
      " 16  tagline                85 non-null     object \n",
      " 17  title                  135 non-null    object \n",
      " 18  Keywords               120 non-null    object \n",
      " 19  cast                   132 non-null    object \n",
      " 20  crew                   132 non-null    object \n",
      " 21  revenue                135 non-null    float64\n",
      " 22  belongs_to_collection  297 non-null    object \n",
      " 23  budget                 1586 non-null   float64\n",
      " 24  genres                 1584 non-null   object \n",
      " 25  homepage               529 non-null    object \n",
      " 26  imdb_id                1586 non-null   object \n",
      " 27  original_language      1586 non-null   object \n",
      " 28  original_title         1586 non-null   object \n",
      " 29  overview               1586 non-null   object \n",
      " 30  popularity             1586 non-null   float64\n",
      " 31  poster_path            1586 non-null   object \n",
      " 32  production_companies   1535 non-null   object \n",
      " 33  production_countries   1568 non-null   object \n",
      " 34  release_date           1586 non-null   object \n",
      " 35  runtime                1586 non-null   float64\n",
      " 36  spoken_languages       1580 non-null   object \n",
      " 37  status                 1586 non-null   object \n",
      " 38  tagline                1312 non-null   object \n",
      " 39  title                  1586 non-null   object \n",
      " 40  Keywords               1476 non-null   object \n",
      " 41  cast                   1577 non-null   object \n",
      " 42  crew                   1576 non-null   object \n",
      " 43  revenue                1586 non-null   float64\n",
      " 44  belongs_to_collection  286 non-null    object \n",
      " 45  budget                 1277 non-null   float64\n",
      " 46  genres                 1273 non-null   object \n",
      " 47  homepage               377 non-null    object \n",
      " 48  imdb_id                1277 non-null   object \n",
      " 49  original_language      1277 non-null   object \n",
      " 50  original_title         1277 non-null   object \n",
      " 51  overview               1271 non-null   object \n",
      " 52  popularity             1277 non-null   float64\n",
      " 53  poster_path            1277 non-null   object \n",
      " 54  production_companies   1183 non-null   object \n",
      " 55  production_countries   1242 non-null   object \n",
      " 56  release_date           1277 non-null   object \n",
      " 57  runtime                1277 non-null   float64\n",
      " 58  spoken_languages       1264 non-null   object \n",
      " 59  status                 1277 non-null   object \n",
      " 60  tagline                1006 non-null   object \n",
      " 61  title                  1277 non-null   object \n",
      " 62  Keywords               1127 non-null   object \n",
      " 63  cast                   1276 non-null   object \n",
      " 64  crew                   1275 non-null   object \n",
      " 65  revenue                1277 non-null   float64\n",
      "dtypes: float64(12), object(54)\n",
      "memory usage: 1.5+ MB\n"
     ]
    }
   ],
   "source": [
    "imdb_non_null_runtime_C.info()"
   ],
   "metadata": {
    "collapsed": false,
    "pycharm": {
     "name": "#%%\n"
    }
   }
  },
  {
   "cell_type": "code",
   "metadata": {
    "id": "lu4ISkIqpUpZ"
   },
   "source": [
    "list_of_dfs = []\n",
    "for file_name in :\n",
    "  df = pd.read_csv(\"\")\n",
    "  list_of_dfs.append(df)"
   ],
   "execution_count": 29,
   "outputs": [
    {
     "ename": "SyntaxError",
     "evalue": "invalid syntax (<ipython-input-29-7e0556799396>, line 2)",
     "output_type": "error",
     "traceback": [
      "\u001B[1;36m  File \u001B[1;32m\"<ipython-input-29-7e0556799396>\"\u001B[1;36m, line \u001B[1;32m2\u001B[0m\n\u001B[1;33m    for file_name in :\u001B[0m\n\u001B[1;37m                     ^\u001B[0m\n\u001B[1;31mSyntaxError\u001B[0m\u001B[1;31m:\u001B[0m invalid syntax\n"
     ]
    }
   ]
  },
  {
   "cell_type": "code",
   "metadata": {
    "id": "7fWoqZY8pkjQ"
   },
   "source": [
    "consolidated_df = pd.concat(list_of_dfs)"
   ],
   "execution_count": null,
   "outputs": []
  },
  {
   "cell_type": "code",
   "metadata": {
    "id": "QZGaA5c-pj-k"
   },
   "source": [],
   "execution_count": null,
   "outputs": []
  },
  {
   "cell_type": "code",
   "metadata": {
    "id": "E8hTAkQdk1Tv"
   },
   "source": [
    "# Concatenate along a particular axis\n",
    "sample_df = pd.concat([imdb1, imdb2],axis=1)"
   ],
   "execution_count": null,
   "outputs": []
  },
  {
   "cell_type": "code",
   "metadata": {
    "colab": {
     "base_uri": "https://localhost:8080/",
     "height": 633
    },
    "id": "3egbU4uqnpUl",
    "outputId": "cc13b26a-6e51-4782-b951-f92168ddb2fd"
   },
   "source": [
    "sample_df.tail()"
   ],
   "execution_count": null,
   "outputs": []
  },
  {
   "cell_type": "code",
   "metadata": {
    "colab": {
     "base_uri": "https://localhost:8080/"
    },
    "id": "ZSijc2RRnvAr",
    "outputId": "cb049d48-fa4c-4af7-a472-08c2454a20c7"
   },
   "source": [
    "sample_df.info()"
   ],
   "execution_count": null,
   "outputs": []
  },
  {
   "cell_type": "code",
   "metadata": {
    "colab": {
     "base_uri": "https://localhost:8080/"
    },
    "id": "V-LlVhvCngw2",
    "outputId": "a494a553-98b4-44cf-b323-47e48f40de01"
   },
   "source": [
    "sample_df.columns"
   ],
   "execution_count": null,
   "outputs": []
  },
  {
   "cell_type": "code",
   "metadata": {
    "colab": {
     "base_uri": "https://localhost:8080/"
    },
    "id": "STN5fGF3IwSt",
    "outputId": "f693d0cf-c930-4e39-b7f4-9337644b9c1c"
   },
   "source": [
    "imdb1.shape, imdb2.shape"
   ],
   "execution_count": null,
   "outputs": []
  },
  {
   "cell_type": "markdown",
   "metadata": {
    "id": "Io85Ya5_0ntl"
   },
   "source": [
    "# Now let's do some joins\n",
    "\n",
    "* ### Inner join\n",
    "* ### Left join\n",
    "* ### Right join\n",
    "* ### Outer join"
   ]
  },
  {
   "cell_type": "markdown",
   "metadata": {
    "id": "mVLRAoC6Y6r5"
   },
   "source": [
    "![join-types-merge-names.jpg](data:image/jpeg;base64,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)"
   ]
  },
  {
   "cell_type": "code",
   "metadata": {
    "id": "sicF9Q7VJHAn"
   },
   "source": [
    "# Let us create a dataframe which consists of only English movies\n",
    "english_movies = imdb_df[imdb_df['original_language'] == 'en']\n",
    "\n",
    "# Next let us create another dataframe which consists of only those movies whose length is greater than 100 mins\n",
    "long_movies = imdb_df.loc[imdb_df['runtime'] >= 100,['imdb_id','original_language']]"
   ],
   "execution_count": null,
   "outputs": []
  },
  {
   "cell_type": "code",
   "metadata": {
    "colab": {
     "base_uri": "https://localhost:8080/"
    },
    "id": "uccybmBaJnBa",
    "outputId": "7d062231-0a12-4a70-a057-9cf8ccb3b87c"
   },
   "source": [
    "english_movies.shape, long_movies.shape"
   ],
   "execution_count": null,
   "outputs": []
  },
  {
   "cell_type": "code",
   "metadata": {
    "colab": {
     "base_uri": "https://localhost:8080/"
    },
    "id": "krXLHdrDqy4_",
    "outputId": "164347ad-cdee-4fe0-8fc9-17a792e65346"
   },
   "source": [
    "type(long_movies)"
   ],
   "execution_count": null,
   "outputs": []
  },
  {
   "cell_type": "markdown",
   "metadata": {
    "id": "r22ON2MkKq4C"
   },
   "source": [
    "# <u><b> Using inner join to merge the two dataframes"
   ]
  },
  {
   "cell_type": "code",
   "metadata": {
    "id": "21VbGQWRk1T8"
   },
   "source": [
    "# Merging the two dataframes using inner join\n",
    "merged_IJ_df = pd.merge(english_movies, long_movies, how='inner',left_on='imdb_id',right_on='imdb_id') "
   ],
   "execution_count": null,
   "outputs": []
  },
  {
   "cell_type": "code",
   "metadata": {
    "id": "d-40lT-a1yj8",
    "colab": {
     "base_uri": "https://localhost:8080/",
     "height": 1000
    },
    "outputId": "3fb9092d-5a9c-4598-9fd6-429db1930a35"
   },
   "source": [
    "merged_IJ_df"
   ],
   "execution_count": null,
   "outputs": []
  },
  {
   "cell_type": "code",
   "metadata": {
    "id": "gzMB252CsYpM"
   },
   "source": [
    "temp_df = imdb_df[(imdb_df['original_language'] == 'en') & (imdb_df['runtime'] >=100)]"
   ],
   "execution_count": null,
   "outputs": []
  },
  {
   "cell_type": "code",
   "metadata": {
    "colab": {
     "base_uri": "https://localhost:8080/"
    },
    "id": "GHKnALmFsjEg",
    "outputId": "c50f7f3a-eb1d-4922-96c9-b6195f5348e3"
   },
   "source": [
    "temp_df.shape"
   ],
   "execution_count": null,
   "outputs": []
  },
  {
   "cell_type": "markdown",
   "metadata": {
    "id": "T78RkXC1Kyni"
   },
   "source": [
    "# <u><b> Using left join to merge the two dataframes"
   ]
  },
  {
   "cell_type": "code",
   "metadata": {
    "id": "JVM1DtplXDif"
   },
   "source": [
    "# Merging the two dataframes using left join\n",
    "merged_LJ_df = pd.merge(english_movies, long_movies, how='left',left_on='imdb_id',right_on='imdb_id') "
   ],
   "execution_count": null,
   "outputs": []
  },
  {
   "cell_type": "code",
   "metadata": {
    "id": "xRnwWWIqXIII",
    "colab": {
     "base_uri": "https://localhost:8080/",
     "height": 1000
    },
    "outputId": "937fe3aa-dee6-4811-a7a8-4229e26558cf"
   },
   "source": [
    "merged_LJ_df"
   ],
   "execution_count": null,
   "outputs": []
  },
  {
   "cell_type": "markdown",
   "metadata": {
    "id": "6tZPpuFXK1re"
   },
   "source": [
    "# <u><b> Using right join to merge the two dataframes"
   ]
  },
  {
   "cell_type": "code",
   "metadata": {
    "id": "qI6d9d8LXMaH"
   },
   "source": [
    "# Merging the two dataframes using right join\n",
    "merged_RJ_df = pd.merge(english_movies, long_movies, how='right',left_on=['imdb_id'],right_on='imdb_id') "
   ],
   "execution_count": null,
   "outputs": []
  },
  {
   "cell_type": "code",
   "metadata": {
    "id": "CpUy7x1hXS-B",
    "colab": {
     "base_uri": "https://localhost:8080/",
     "height": 998
    },
    "outputId": "746b05d0-b1f8-4ce5-90a6-14acdf9060fd"
   },
   "source": [
    "merged_RJ_df"
   ],
   "execution_count": null,
   "outputs": []
  },
  {
   "cell_type": "markdown",
   "metadata": {
    "id": "IzAzmqL8LHOx"
   },
   "source": [
    "# <u><b> Using outer join to merge the two dataframes"
   ]
  },
  {
   "cell_type": "code",
   "metadata": {
    "id": "zogDu4Z5k1UE"
   },
   "source": [
    "# Outer Join\n",
    "merged_OJ_df = pd.merge(english_movies[['imdb_id','runtime']],long_movies, on='imdb_id', how='outer')"
   ],
   "execution_count": null,
   "outputs": []
  },
  {
   "cell_type": "code",
   "metadata": {
    "colab": {
     "base_uri": "https://localhost:8080/",
     "height": 408
    },
    "id": "bB9tOVJlLmIS",
    "outputId": "3e58ab91-f63d-4a69-c162-c9f8842b40d2"
   },
   "source": [
    "merged_OJ_df"
   ],
   "execution_count": null,
   "outputs": []
  },
  {
   "cell_type": "markdown",
   "metadata": {
    "id": "lOR9skyLk1Uf"
   },
   "source": [
    "# **Finally let us do some <code>groupby</code> operations**"
   ]
  },
  {
   "cell_type": "code",
   "metadata": {
    "id": "rY7dTkAvLv3-"
   },
   "source": [
    "# Importing datetime modules\n",
    "from datetime import datetime\n",
    "from datetime import date"
   ],
   "execution_count": 32,
   "outputs": []
  },
  {
   "cell_type": "code",
   "metadata": {
    "id": "IuOHzexQ1GF8"
   },
   "source": [
    "def parse_string_to_date(datestring):\n",
    "\n",
    "  return convert_to_year(datestring)"
   ],
   "execution_count": 33,
   "outputs": []
  },
  {
   "cell_type": "code",
   "metadata": {
    "id": "gl97sd-_L7D_"
   },
   "source": [
    "imdb_df['new_release_date']= imdb_df.apply(lambda x : datetime.strptime(x['release_date'],'%m/%d/%y'),axis=1)"
   ],
   "execution_count": 40,
   "outputs": []
  },
  {
   "cell_type": "code",
   "metadata": {
    "id": "KpZ0gjje0tWF"
   },
   "source": [
    "def convert_to_year(datevalue):\n",
    "  return datevalue.year"
   ],
   "execution_count": 41,
   "outputs": []
  },
  {
   "cell_type": "code",
   "metadata": {
    "id": "R2vyW0-PL622"
   },
   "source": [
    "imdb_df['Year_of_release_1'] = imdb_df['new_release_date'].apply(convert_to_year)"
   ],
   "execution_count": 42,
   "outputs": []
  },
  {
   "cell_type": "code",
   "metadata": {
    "colab": {
     "base_uri": "https://localhost:8080/"
    },
    "id": "_iFTpwQl0BgE",
    "outputId": "59818547-2330-4405-a473-cd0d60369f29"
   },
   "source": [
    "imdb_df['new_release_date'][2].year"
   ],
   "execution_count": 43,
   "outputs": [
    {
     "data": {
      "text/plain": "2014"
     },
     "execution_count": 43,
     "metadata": {},
     "output_type": "execute_result"
    }
   ]
  },
  {
   "cell_type": "code",
   "metadata": {
    "colab": {
     "base_uri": "https://localhost:8080/",
     "height": 633
    },
    "id": "LxPke66PM4uR",
    "outputId": "7aed7b27-04e6-4440-bd94-d186e96a3aac"
   },
   "source": [
    "imdb_df.head()"
   ],
   "execution_count": 44,
   "outputs": [
    {
     "data": {
      "text/plain": "                               belongs_to_collection    budget  \\\n0  [{'id': 313576, 'name': 'Hot Tub Time Machine ...  14000000   \n1  [{'id': 107674, 'name': 'The Princess Diaries ...  40000000   \n2                                                NaN   3300000   \n3                                                NaN   1200000   \n4                                                NaN         0   \n\n                                              genres  \\\n0                     [{'id': 35, 'name': 'Comedy'}]   \n1  [{'id': 35, 'name': 'Comedy'}, {'id': 18, 'nam...   \n2                      [{'id': 18, 'name': 'Drama'}]   \n3  [{'id': 53, 'name': 'Thriller'}, {'id': 18, 'n...   \n4  [{'id': 28, 'name': 'Action'}, {'id': 53, 'nam...   \n\n                            homepage    imdb_id original_language  \\\n0                                NaN  tt2637294                en   \n1                                NaN  tt0368933                en   \n2  http://sonyclassics.com/whiplash/  tt2582802                en   \n3         http://kahaanithefilm.com/  tt1821480                hi   \n4                                NaN  tt1380152                ko   \n\n                             original_title  \\\n0                    Hot Tub Time Machine 2   \n1  The Princess Diaries 2: Royal Engagement   \n2                                  Whiplash   \n3                                   Kahaani   \n4                                      마린보이   \n\n                                            overview  popularity  \\\n0  When Lou, who has become the \"father of the In...    6.575393   \n1  Mia Thermopolis is now a college graduate and ...    8.248895   \n2  Under the direction of a ruthless instructor, ...   64.299990   \n3  Vidya Bagchi (Vidya Balan) arrives in Kolkata ...    3.174936   \n4  Marine Boy is the story of a former national s...    1.148070   \n\n                        poster_path  ...    status  \\\n0  /tQtWuwvMf0hCc2QR2tkolwl7c3c.jpg  ...  Released   \n1  /w9Z7A0GHEhIp7etpj0vyKOeU1Wx.jpg  ...  Released   \n2  /lIv1QinFqz4dlp5U4lQ6HaiskOZ.jpg  ...  Released   \n3  /aTXRaPrWSinhcmCrcfJK17urp3F.jpg  ...  Released   \n4  /m22s7zvkVFDU9ir56PiiqIEWFdT.jpg  ...  Released   \n\n                                             tagline  \\\n0  The Laws of Space and Time are About to be Vio...   \n1  It can take a lifetime to find true love; she'...   \n2    The road to greatness can take you to the edge.   \n3                                                NaN   \n4                                                NaN   \n\n                                      title  \\\n0                    Hot Tub Time Machine 2   \n1  The Princess Diaries 2: Royal Engagement   \n2                                  Whiplash   \n3                                   Kahaani   \n4                                Marine Boy   \n\n                                            Keywords  \\\n0  [{'id': 4379, 'name': 'time travel'}, {'id': 9...   \n1  [{'id': 2505, 'name': 'coronation'}, {'id': 42...   \n2  [{'id': 1416, 'name': 'jazz'}, {'id': 1523, 'n...   \n3  [{'id': 10092, 'name': 'mystery'}, {'id': 1054...   \n4                                                NaN   \n\n                                                cast  \\\n0  [{'cast_id': 4, 'character': 'Lou', 'credit_id...   \n1  [{'cast_id': 1, 'character': 'Mia Thermopolis'...   \n2  [{'cast_id': 5, 'character': 'Andrew Neimann',...   \n3  [{'cast_id': 1, 'character': 'Vidya Bagchi', '...   \n4  [{'cast_id': 3, 'character': 'Chun-soo', 'cred...   \n\n                                                crew   revenue  \\\n0  [{'credit_id': '59ac067c92514107af02c8c8', 'de...  12314651   \n1  [{'credit_id': '52fe43fe9251416c7502563d', 'de...  95149435   \n2  [{'credit_id': '54d5356ec3a3683ba0000039', 'de...  13092000   \n3  [{'credit_id': '52fe48779251416c9108d6eb', 'de...  16000000   \n4  [{'credit_id': '52fe464b9251416c75073b43', 'de...   3923970   \n\n  new_release_date_2 new_release_date Year_of_release_1  \n0         2015-02-20       2015-02-20              2015  \n1         2004-08-06       2004-08-06              2004  \n2         2014-10-10       2014-10-10              2014  \n3         2012-03-09       2012-03-09              2012  \n4         2009-02-05       2009-02-05              2009  \n\n[5 rows x 25 columns]",
      "text/html": "<div>\n<style scoped>\n    .dataframe tbody tr th:only-of-type {\n        vertical-align: middle;\n    }\n\n    .dataframe tbody tr th {\n        vertical-align: top;\n    }\n\n    .dataframe thead th {\n        text-align: right;\n    }\n</style>\n<table border=\"1\" class=\"dataframe\">\n  <thead>\n    <tr style=\"text-align: right;\">\n      <th></th>\n      <th>belongs_to_collection</th>\n      <th>budget</th>\n      <th>genres</th>\n      <th>homepage</th>\n      <th>imdb_id</th>\n      <th>original_language</th>\n      <th>original_title</th>\n      <th>overview</th>\n      <th>popularity</th>\n      <th>poster_path</th>\n      <th>...</th>\n      <th>status</th>\n      <th>tagline</th>\n      <th>title</th>\n      <th>Keywords</th>\n      <th>cast</th>\n      <th>crew</th>\n      <th>revenue</th>\n      <th>new_release_date_2</th>\n      <th>new_release_date</th>\n      <th>Year_of_release_1</th>\n    </tr>\n  </thead>\n  <tbody>\n    <tr>\n      <th>0</th>\n      <td>[{'id': 313576, 'name': 'Hot Tub Time Machine ...</td>\n      <td>14000000</td>\n      <td>[{'id': 35, 'name': 'Comedy'}]</td>\n      <td>NaN</td>\n      <td>tt2637294</td>\n      <td>en</td>\n      <td>Hot Tub Time Machine 2</td>\n      <td>When Lou, who has become the \"father of the In...</td>\n      <td>6.575393</td>\n      <td>/tQtWuwvMf0hCc2QR2tkolwl7c3c.jpg</td>\n      <td>...</td>\n      <td>Released</td>\n      <td>The Laws of Space and Time are About to be Vio...</td>\n      <td>Hot Tub Time Machine 2</td>\n      <td>[{'id': 4379, 'name': 'time travel'}, {'id': 9...</td>\n      <td>[{'cast_id': 4, 'character': 'Lou', 'credit_id...</td>\n      <td>[{'credit_id': '59ac067c92514107af02c8c8', 'de...</td>\n      <td>12314651</td>\n      <td>2015-02-20</td>\n      <td>2015-02-20</td>\n      <td>2015</td>\n    </tr>\n    <tr>\n      <th>1</th>\n      <td>[{'id': 107674, 'name': 'The Princess Diaries ...</td>\n      <td>40000000</td>\n      <td>[{'id': 35, 'name': 'Comedy'}, {'id': 18, 'nam...</td>\n      <td>NaN</td>\n      <td>tt0368933</td>\n      <td>en</td>\n      <td>The Princess Diaries 2: Royal Engagement</td>\n      <td>Mia Thermopolis is now a college graduate and ...</td>\n      <td>8.248895</td>\n      <td>/w9Z7A0GHEhIp7etpj0vyKOeU1Wx.jpg</td>\n      <td>...</td>\n      <td>Released</td>\n      <td>It can take a lifetime to find true love; she'...</td>\n      <td>The Princess Diaries 2: Royal Engagement</td>\n      <td>[{'id': 2505, 'name': 'coronation'}, {'id': 42...</td>\n      <td>[{'cast_id': 1, 'character': 'Mia Thermopolis'...</td>\n      <td>[{'credit_id': '52fe43fe9251416c7502563d', 'de...</td>\n      <td>95149435</td>\n      <td>2004-08-06</td>\n      <td>2004-08-06</td>\n      <td>2004</td>\n    </tr>\n    <tr>\n      <th>2</th>\n      <td>NaN</td>\n      <td>3300000</td>\n      <td>[{'id': 18, 'name': 'Drama'}]</td>\n      <td>http://sonyclassics.com/whiplash/</td>\n      <td>tt2582802</td>\n      <td>en</td>\n      <td>Whiplash</td>\n      <td>Under the direction of a ruthless instructor, ...</td>\n      <td>64.299990</td>\n      <td>/lIv1QinFqz4dlp5U4lQ6HaiskOZ.jpg</td>\n      <td>...</td>\n      <td>Released</td>\n      <td>The road to greatness can take you to the edge.</td>\n      <td>Whiplash</td>\n      <td>[{'id': 1416, 'name': 'jazz'}, {'id': 1523, 'n...</td>\n      <td>[{'cast_id': 5, 'character': 'Andrew Neimann',...</td>\n      <td>[{'credit_id': '54d5356ec3a3683ba0000039', 'de...</td>\n      <td>13092000</td>\n      <td>2014-10-10</td>\n      <td>2014-10-10</td>\n      <td>2014</td>\n    </tr>\n    <tr>\n      <th>3</th>\n      <td>NaN</td>\n      <td>1200000</td>\n      <td>[{'id': 53, 'name': 'Thriller'}, {'id': 18, 'n...</td>\n      <td>http://kahaanithefilm.com/</td>\n      <td>tt1821480</td>\n      <td>hi</td>\n      <td>Kahaani</td>\n      <td>Vidya Bagchi (Vidya Balan) arrives in Kolkata ...</td>\n      <td>3.174936</td>\n      <td>/aTXRaPrWSinhcmCrcfJK17urp3F.jpg</td>\n      <td>...</td>\n      <td>Released</td>\n      <td>NaN</td>\n      <td>Kahaani</td>\n      <td>[{'id': 10092, 'name': 'mystery'}, {'id': 1054...</td>\n      <td>[{'cast_id': 1, 'character': 'Vidya Bagchi', '...</td>\n      <td>[{'credit_id': '52fe48779251416c9108d6eb', 'de...</td>\n      <td>16000000</td>\n      <td>2012-03-09</td>\n      <td>2012-03-09</td>\n      <td>2012</td>\n    </tr>\n    <tr>\n      <th>4</th>\n      <td>NaN</td>\n      <td>0</td>\n      <td>[{'id': 28, 'name': 'Action'}, {'id': 53, 'nam...</td>\n      <td>NaN</td>\n      <td>tt1380152</td>\n      <td>ko</td>\n      <td>마린보이</td>\n      <td>Marine Boy is the story of a former national s...</td>\n      <td>1.148070</td>\n      <td>/m22s7zvkVFDU9ir56PiiqIEWFdT.jpg</td>\n      <td>...</td>\n      <td>Released</td>\n      <td>NaN</td>\n      <td>Marine Boy</td>\n      <td>NaN</td>\n      <td>[{'cast_id': 3, 'character': 'Chun-soo', 'cred...</td>\n      <td>[{'credit_id': '52fe464b9251416c75073b43', 'de...</td>\n      <td>3923970</td>\n      <td>2009-02-05</td>\n      <td>2009-02-05</td>\n      <td>2009</td>\n    </tr>\n  </tbody>\n</table>\n<p>5 rows × 25 columns</p>\n</div>"
     },
     "execution_count": 44,
     "metadata": {},
     "output_type": "execute_result"
    }
   ]
  },
  {
   "cell_type": "code",
   "metadata": {
    "id": "vNPZ2SCwNTy7"
   },
   "source": [
    "imdb_df['new_release_date'] = np.where(imdb_df['new_release_date'] > 2020,imdb_df['new_release_datee'] - 100,imdb_df['Year_of_release'])"
   ],
   "execution_count": 47,
   "outputs": [
    {
     "ename": "TypeError",
     "evalue": "Invalid comparison between dtype=datetime64[ns] and int",
     "output_type": "error",
     "traceback": [
      "\u001B[1;31m---------------------------------------------------------------------------\u001B[0m",
      "\u001B[1;31mInvalidComparison\u001B[0m                         Traceback (most recent call last)",
      "\u001B[1;32mC:\\ProgramData\\Anaconda3\\lib\\site-packages\\pandas\\core\\arrays\\datetimelike.py\u001B[0m in \u001B[0;36m_cmp_method\u001B[1;34m(self, other, op)\u001B[0m\n\u001B[0;32m   1007\u001B[0m         \u001B[1;32mtry\u001B[0m\u001B[1;33m:\u001B[0m\u001B[1;33m\u001B[0m\u001B[1;33m\u001B[0m\u001B[0m\n\u001B[1;32m-> 1008\u001B[1;33m             \u001B[0mother\u001B[0m \u001B[1;33m=\u001B[0m \u001B[0mself\u001B[0m\u001B[1;33m.\u001B[0m\u001B[0m_validate_comparison_value\u001B[0m\u001B[1;33m(\u001B[0m\u001B[0mother\u001B[0m\u001B[1;33m)\u001B[0m\u001B[1;33m\u001B[0m\u001B[1;33m\u001B[0m\u001B[0m\n\u001B[0m\u001B[0;32m   1009\u001B[0m         \u001B[1;32mexcept\u001B[0m \u001B[0mInvalidComparison\u001B[0m\u001B[1;33m:\u001B[0m\u001B[1;33m\u001B[0m\u001B[1;33m\u001B[0m\u001B[0m\n",
      "\u001B[1;32mC:\\ProgramData\\Anaconda3\\lib\\site-packages\\pandas\\core\\arrays\\datetimelike.py\u001B[0m in \u001B[0;36m_validate_comparison_value\u001B[1;34m(self, other)\u001B[0m\n\u001B[0;32m    545\u001B[0m         \u001B[1;32melif\u001B[0m \u001B[1;32mnot\u001B[0m \u001B[0mis_list_like\u001B[0m\u001B[1;33m(\u001B[0m\u001B[0mother\u001B[0m\u001B[1;33m)\u001B[0m\u001B[1;33m:\u001B[0m\u001B[1;33m\u001B[0m\u001B[1;33m\u001B[0m\u001B[0m\n\u001B[1;32m--> 546\u001B[1;33m             \u001B[1;32mraise\u001B[0m \u001B[0mInvalidComparison\u001B[0m\u001B[1;33m(\u001B[0m\u001B[0mother\u001B[0m\u001B[1;33m)\u001B[0m\u001B[1;33m\u001B[0m\u001B[1;33m\u001B[0m\u001B[0m\n\u001B[0m\u001B[0;32m    547\u001B[0m \u001B[1;33m\u001B[0m\u001B[0m\n",
      "\u001B[1;31mInvalidComparison\u001B[0m: 2020",
      "\nDuring handling of the above exception, another exception occurred:\n",
      "\u001B[1;31mTypeError\u001B[0m                                 Traceback (most recent call last)",
      "\u001B[1;32m<ipython-input-47-b302d6095e54>\u001B[0m in \u001B[0;36m<module>\u001B[1;34m\u001B[0m\n\u001B[1;32m----> 1\u001B[1;33m \u001B[0mimdb_df\u001B[0m\u001B[1;33m[\u001B[0m\u001B[1;34m'new_release_date'\u001B[0m\u001B[1;33m]\u001B[0m \u001B[1;33m=\u001B[0m \u001B[0mnp\u001B[0m\u001B[1;33m.\u001B[0m\u001B[0mwhere\u001B[0m\u001B[1;33m(\u001B[0m\u001B[0mimdb_df\u001B[0m\u001B[1;33m[\u001B[0m\u001B[1;34m'new_release_date'\u001B[0m\u001B[1;33m]\u001B[0m \u001B[1;33m>\u001B[0m \u001B[1;36m2020\u001B[0m\u001B[1;33m,\u001B[0m\u001B[0mimdb_df\u001B[0m\u001B[1;33m[\u001B[0m\u001B[1;34m'new_release_datee'\u001B[0m\u001B[1;33m]\u001B[0m \u001B[1;33m-\u001B[0m \u001B[1;36m100\u001B[0m\u001B[1;33m,\u001B[0m\u001B[0mimdb_df\u001B[0m\u001B[1;33m[\u001B[0m\u001B[1;34m'new_release_date'\u001B[0m\u001B[1;33m]\u001B[0m\u001B[1;33m)\u001B[0m\u001B[1;33m\u001B[0m\u001B[1;33m\u001B[0m\u001B[0m\n\u001B[0m",
      "\u001B[1;32mC:\\ProgramData\\Anaconda3\\lib\\site-packages\\pandas\\core\\ops\\common.py\u001B[0m in \u001B[0;36mnew_method\u001B[1;34m(self, other)\u001B[0m\n\u001B[0;32m     67\u001B[0m         \u001B[0mother\u001B[0m \u001B[1;33m=\u001B[0m \u001B[0mitem_from_zerodim\u001B[0m\u001B[1;33m(\u001B[0m\u001B[0mother\u001B[0m\u001B[1;33m)\u001B[0m\u001B[1;33m\u001B[0m\u001B[1;33m\u001B[0m\u001B[0m\n\u001B[0;32m     68\u001B[0m \u001B[1;33m\u001B[0m\u001B[0m\n\u001B[1;32m---> 69\u001B[1;33m         \u001B[1;32mreturn\u001B[0m \u001B[0mmethod\u001B[0m\u001B[1;33m(\u001B[0m\u001B[0mself\u001B[0m\u001B[1;33m,\u001B[0m \u001B[0mother\u001B[0m\u001B[1;33m)\u001B[0m\u001B[1;33m\u001B[0m\u001B[1;33m\u001B[0m\u001B[0m\n\u001B[0m\u001B[0;32m     70\u001B[0m \u001B[1;33m\u001B[0m\u001B[0m\n\u001B[0;32m     71\u001B[0m     \u001B[1;32mreturn\u001B[0m \u001B[0mnew_method\u001B[0m\u001B[1;33m\u001B[0m\u001B[1;33m\u001B[0m\u001B[0m\n",
      "\u001B[1;32mC:\\ProgramData\\Anaconda3\\lib\\site-packages\\pandas\\core\\arraylike.py\u001B[0m in \u001B[0;36m__gt__\u001B[1;34m(self, other)\u001B[0m\n\u001B[0;32m     46\u001B[0m     \u001B[1;33m@\u001B[0m\u001B[0munpack_zerodim_and_defer\u001B[0m\u001B[1;33m(\u001B[0m\u001B[1;34m\"__gt__\"\u001B[0m\u001B[1;33m)\u001B[0m\u001B[1;33m\u001B[0m\u001B[1;33m\u001B[0m\u001B[0m\n\u001B[0;32m     47\u001B[0m     \u001B[1;32mdef\u001B[0m \u001B[0m__gt__\u001B[0m\u001B[1;33m(\u001B[0m\u001B[0mself\u001B[0m\u001B[1;33m,\u001B[0m \u001B[0mother\u001B[0m\u001B[1;33m)\u001B[0m\u001B[1;33m:\u001B[0m\u001B[1;33m\u001B[0m\u001B[1;33m\u001B[0m\u001B[0m\n\u001B[1;32m---> 48\u001B[1;33m         \u001B[1;32mreturn\u001B[0m \u001B[0mself\u001B[0m\u001B[1;33m.\u001B[0m\u001B[0m_cmp_method\u001B[0m\u001B[1;33m(\u001B[0m\u001B[0mother\u001B[0m\u001B[1;33m,\u001B[0m \u001B[0moperator\u001B[0m\u001B[1;33m.\u001B[0m\u001B[0mgt\u001B[0m\u001B[1;33m)\u001B[0m\u001B[1;33m\u001B[0m\u001B[1;33m\u001B[0m\u001B[0m\n\u001B[0m\u001B[0;32m     49\u001B[0m \u001B[1;33m\u001B[0m\u001B[0m\n\u001B[0;32m     50\u001B[0m     \u001B[1;33m@\u001B[0m\u001B[0munpack_zerodim_and_defer\u001B[0m\u001B[1;33m(\u001B[0m\u001B[1;34m\"__ge__\"\u001B[0m\u001B[1;33m)\u001B[0m\u001B[1;33m\u001B[0m\u001B[1;33m\u001B[0m\u001B[0m\n",
      "\u001B[1;32mC:\\ProgramData\\Anaconda3\\lib\\site-packages\\pandas\\core\\series.py\u001B[0m in \u001B[0;36m_cmp_method\u001B[1;34m(self, other, op)\u001B[0m\n\u001B[0;32m   5499\u001B[0m \u001B[1;33m\u001B[0m\u001B[0m\n\u001B[0;32m   5500\u001B[0m         \u001B[1;32mwith\u001B[0m \u001B[0mnp\u001B[0m\u001B[1;33m.\u001B[0m\u001B[0merrstate\u001B[0m\u001B[1;33m(\u001B[0m\u001B[0mall\u001B[0m\u001B[1;33m=\u001B[0m\u001B[1;34m\"ignore\"\u001B[0m\u001B[1;33m)\u001B[0m\u001B[1;33m:\u001B[0m\u001B[1;33m\u001B[0m\u001B[1;33m\u001B[0m\u001B[0m\n\u001B[1;32m-> 5501\u001B[1;33m             \u001B[0mres_values\u001B[0m \u001B[1;33m=\u001B[0m \u001B[0mops\u001B[0m\u001B[1;33m.\u001B[0m\u001B[0mcomparison_op\u001B[0m\u001B[1;33m(\u001B[0m\u001B[0mlvalues\u001B[0m\u001B[1;33m,\u001B[0m \u001B[0mrvalues\u001B[0m\u001B[1;33m,\u001B[0m \u001B[0mop\u001B[0m\u001B[1;33m)\u001B[0m\u001B[1;33m\u001B[0m\u001B[1;33m\u001B[0m\u001B[0m\n\u001B[0m\u001B[0;32m   5502\u001B[0m \u001B[1;33m\u001B[0m\u001B[0m\n\u001B[0;32m   5503\u001B[0m         \u001B[1;32mreturn\u001B[0m \u001B[0mself\u001B[0m\u001B[1;33m.\u001B[0m\u001B[0m_construct_result\u001B[0m\u001B[1;33m(\u001B[0m\u001B[0mres_values\u001B[0m\u001B[1;33m,\u001B[0m \u001B[0mname\u001B[0m\u001B[1;33m=\u001B[0m\u001B[0mres_name\u001B[0m\u001B[1;33m)\u001B[0m\u001B[1;33m\u001B[0m\u001B[1;33m\u001B[0m\u001B[0m\n",
      "\u001B[1;32mC:\\ProgramData\\Anaconda3\\lib\\site-packages\\pandas\\core\\ops\\array_ops.py\u001B[0m in \u001B[0;36mcomparison_op\u001B[1;34m(left, right, op)\u001B[0m\n\u001B[0;32m    268\u001B[0m     ):\n\u001B[0;32m    269\u001B[0m         \u001B[1;31m# Call the method on lvalues\u001B[0m\u001B[1;33m\u001B[0m\u001B[1;33m\u001B[0m\u001B[1;33m\u001B[0m\u001B[0m\n\u001B[1;32m--> 270\u001B[1;33m         \u001B[0mres_values\u001B[0m \u001B[1;33m=\u001B[0m \u001B[0mop\u001B[0m\u001B[1;33m(\u001B[0m\u001B[0mlvalues\u001B[0m\u001B[1;33m,\u001B[0m \u001B[0mrvalues\u001B[0m\u001B[1;33m)\u001B[0m\u001B[1;33m\u001B[0m\u001B[1;33m\u001B[0m\u001B[0m\n\u001B[0m\u001B[0;32m    271\u001B[0m \u001B[1;33m\u001B[0m\u001B[0m\n\u001B[0;32m    272\u001B[0m     \u001B[1;32melif\u001B[0m \u001B[0mis_scalar\u001B[0m\u001B[1;33m(\u001B[0m\u001B[0mrvalues\u001B[0m\u001B[1;33m)\u001B[0m \u001B[1;32mand\u001B[0m \u001B[0misna\u001B[0m\u001B[1;33m(\u001B[0m\u001B[0mrvalues\u001B[0m\u001B[1;33m)\u001B[0m\u001B[1;33m:\u001B[0m\u001B[1;33m\u001B[0m\u001B[1;33m\u001B[0m\u001B[0m\n",
      "\u001B[1;32mC:\\ProgramData\\Anaconda3\\lib\\site-packages\\pandas\\core\\ops\\common.py\u001B[0m in \u001B[0;36mnew_method\u001B[1;34m(self, other)\u001B[0m\n\u001B[0;32m     67\u001B[0m         \u001B[0mother\u001B[0m \u001B[1;33m=\u001B[0m \u001B[0mitem_from_zerodim\u001B[0m\u001B[1;33m(\u001B[0m\u001B[0mother\u001B[0m\u001B[1;33m)\u001B[0m\u001B[1;33m\u001B[0m\u001B[1;33m\u001B[0m\u001B[0m\n\u001B[0;32m     68\u001B[0m \u001B[1;33m\u001B[0m\u001B[0m\n\u001B[1;32m---> 69\u001B[1;33m         \u001B[1;32mreturn\u001B[0m \u001B[0mmethod\u001B[0m\u001B[1;33m(\u001B[0m\u001B[0mself\u001B[0m\u001B[1;33m,\u001B[0m \u001B[0mother\u001B[0m\u001B[1;33m)\u001B[0m\u001B[1;33m\u001B[0m\u001B[1;33m\u001B[0m\u001B[0m\n\u001B[0m\u001B[0;32m     70\u001B[0m \u001B[1;33m\u001B[0m\u001B[0m\n\u001B[0;32m     71\u001B[0m     \u001B[1;32mreturn\u001B[0m \u001B[0mnew_method\u001B[0m\u001B[1;33m\u001B[0m\u001B[1;33m\u001B[0m\u001B[0m\n",
      "\u001B[1;32mC:\\ProgramData\\Anaconda3\\lib\\site-packages\\pandas\\core\\arraylike.py\u001B[0m in \u001B[0;36m__gt__\u001B[1;34m(self, other)\u001B[0m\n\u001B[0;32m     46\u001B[0m     \u001B[1;33m@\u001B[0m\u001B[0munpack_zerodim_and_defer\u001B[0m\u001B[1;33m(\u001B[0m\u001B[1;34m\"__gt__\"\u001B[0m\u001B[1;33m)\u001B[0m\u001B[1;33m\u001B[0m\u001B[1;33m\u001B[0m\u001B[0m\n\u001B[0;32m     47\u001B[0m     \u001B[1;32mdef\u001B[0m \u001B[0m__gt__\u001B[0m\u001B[1;33m(\u001B[0m\u001B[0mself\u001B[0m\u001B[1;33m,\u001B[0m \u001B[0mother\u001B[0m\u001B[1;33m)\u001B[0m\u001B[1;33m:\u001B[0m\u001B[1;33m\u001B[0m\u001B[1;33m\u001B[0m\u001B[0m\n\u001B[1;32m---> 48\u001B[1;33m         \u001B[1;32mreturn\u001B[0m \u001B[0mself\u001B[0m\u001B[1;33m.\u001B[0m\u001B[0m_cmp_method\u001B[0m\u001B[1;33m(\u001B[0m\u001B[0mother\u001B[0m\u001B[1;33m,\u001B[0m \u001B[0moperator\u001B[0m\u001B[1;33m.\u001B[0m\u001B[0mgt\u001B[0m\u001B[1;33m)\u001B[0m\u001B[1;33m\u001B[0m\u001B[1;33m\u001B[0m\u001B[0m\n\u001B[0m\u001B[0;32m     49\u001B[0m \u001B[1;33m\u001B[0m\u001B[0m\n\u001B[0;32m     50\u001B[0m     \u001B[1;33m@\u001B[0m\u001B[0munpack_zerodim_and_defer\u001B[0m\u001B[1;33m(\u001B[0m\u001B[1;34m\"__ge__\"\u001B[0m\u001B[1;33m)\u001B[0m\u001B[1;33m\u001B[0m\u001B[1;33m\u001B[0m\u001B[0m\n",
      "\u001B[1;32mC:\\ProgramData\\Anaconda3\\lib\\site-packages\\pandas\\core\\arrays\\datetimelike.py\u001B[0m in \u001B[0;36m_cmp_method\u001B[1;34m(self, other, op)\u001B[0m\n\u001B[0;32m   1008\u001B[0m             \u001B[0mother\u001B[0m \u001B[1;33m=\u001B[0m \u001B[0mself\u001B[0m\u001B[1;33m.\u001B[0m\u001B[0m_validate_comparison_value\u001B[0m\u001B[1;33m(\u001B[0m\u001B[0mother\u001B[0m\u001B[1;33m)\u001B[0m\u001B[1;33m\u001B[0m\u001B[1;33m\u001B[0m\u001B[0m\n\u001B[0;32m   1009\u001B[0m         \u001B[1;32mexcept\u001B[0m \u001B[0mInvalidComparison\u001B[0m\u001B[1;33m:\u001B[0m\u001B[1;33m\u001B[0m\u001B[1;33m\u001B[0m\u001B[0m\n\u001B[1;32m-> 1010\u001B[1;33m             \u001B[1;32mreturn\u001B[0m \u001B[0minvalid_comparison\u001B[0m\u001B[1;33m(\u001B[0m\u001B[0mself\u001B[0m\u001B[1;33m,\u001B[0m \u001B[0mother\u001B[0m\u001B[1;33m,\u001B[0m \u001B[0mop\u001B[0m\u001B[1;33m)\u001B[0m\u001B[1;33m\u001B[0m\u001B[1;33m\u001B[0m\u001B[0m\n\u001B[0m\u001B[0;32m   1011\u001B[0m \u001B[1;33m\u001B[0m\u001B[0m\n\u001B[0;32m   1012\u001B[0m         \u001B[0mdtype\u001B[0m \u001B[1;33m=\u001B[0m \u001B[0mgetattr\u001B[0m\u001B[1;33m(\u001B[0m\u001B[0mother\u001B[0m\u001B[1;33m,\u001B[0m \u001B[1;34m\"dtype\"\u001B[0m\u001B[1;33m,\u001B[0m \u001B[1;32mNone\u001B[0m\u001B[1;33m)\u001B[0m\u001B[1;33m\u001B[0m\u001B[1;33m\u001B[0m\u001B[0m\n",
      "\u001B[1;32mC:\\ProgramData\\Anaconda3\\lib\\site-packages\\pandas\\core\\ops\\invalid.py\u001B[0m in \u001B[0;36minvalid_comparison\u001B[1;34m(left, right, op)\u001B[0m\n\u001B[0;32m     32\u001B[0m     \u001B[1;32melse\u001B[0m\u001B[1;33m:\u001B[0m\u001B[1;33m\u001B[0m\u001B[1;33m\u001B[0m\u001B[0m\n\u001B[0;32m     33\u001B[0m         \u001B[0mtyp\u001B[0m \u001B[1;33m=\u001B[0m \u001B[0mtype\u001B[0m\u001B[1;33m(\u001B[0m\u001B[0mright\u001B[0m\u001B[1;33m)\u001B[0m\u001B[1;33m.\u001B[0m\u001B[0m__name__\u001B[0m\u001B[1;33m\u001B[0m\u001B[1;33m\u001B[0m\u001B[0m\n\u001B[1;32m---> 34\u001B[1;33m         \u001B[1;32mraise\u001B[0m \u001B[0mTypeError\u001B[0m\u001B[1;33m(\u001B[0m\u001B[1;34mf\"Invalid comparison between dtype={left.dtype} and {typ}\"\u001B[0m\u001B[1;33m)\u001B[0m\u001B[1;33m\u001B[0m\u001B[1;33m\u001B[0m\u001B[0m\n\u001B[0m\u001B[0;32m     35\u001B[0m     \u001B[1;32mreturn\u001B[0m \u001B[0mres_values\u001B[0m\u001B[1;33m\u001B[0m\u001B[1;33m\u001B[0m\u001B[0m\n\u001B[0;32m     36\u001B[0m \u001B[1;33m\u001B[0m\u001B[0m\n",
      "\u001B[1;31mTypeError\u001B[0m: Invalid comparison between dtype=datetime64[ns] and int"
     ]
    }
   ]
  },
  {
   "cell_type": "code",
   "metadata": {
    "id": "xVSFDQWok1Ul",
    "colab": {
     "base_uri": "https://localhost:8080/"
    },
    "outputId": "ac2f08f3-a969-47d7-b40a-638674723a26"
   },
   "source": [
    "imdb_df['Year_of_release'].unique()"
   ],
   "execution_count": null,
   "outputs": []
  },
  {
   "cell_type": "code",
   "metadata": {
    "colab": {
     "base_uri": "https://localhost:8080/"
    },
    "id": "JOHTpRW43DPe",
    "outputId": "db818bff-4820-40f6-9282-8f54309391ae"
   },
   "source": [
    "imdb_df['Year_of_release'].min()"
   ],
   "execution_count": null,
   "outputs": []
  },
  {
   "cell_type": "code",
   "metadata": {
    "id": "NoDE3sHzk1Uq"
   },
   "source": [
    "# We can find the maximum movie runtime across different years\n",
    "max_runtime_movies_by_year = imdb_df.groupby('Year_of_release')['runtime'].max()"
   ],
   "execution_count": 45,
   "outputs": [
    {
     "ename": "KeyError",
     "evalue": "'Year_of_release'",
     "output_type": "error",
     "traceback": [
      "\u001B[1;31m---------------------------------------------------------------------------\u001B[0m",
      "\u001B[1;31mKeyError\u001B[0m                                  Traceback (most recent call last)",
      "\u001B[1;32m<ipython-input-45-cafd8aef0787>\u001B[0m in \u001B[0;36m<module>\u001B[1;34m\u001B[0m\n\u001B[0;32m      1\u001B[0m \u001B[1;31m# We can find the maximum movie runtime across different years\u001B[0m\u001B[1;33m\u001B[0m\u001B[1;33m\u001B[0m\u001B[1;33m\u001B[0m\u001B[0m\n\u001B[1;32m----> 2\u001B[1;33m \u001B[0mmax_runtime_movies_by_year\u001B[0m \u001B[1;33m=\u001B[0m \u001B[0mimdb_df\u001B[0m\u001B[1;33m.\u001B[0m\u001B[0mgroupby\u001B[0m\u001B[1;33m(\u001B[0m\u001B[1;34m'Year_of_release'\u001B[0m\u001B[1;33m)\u001B[0m\u001B[1;33m[\u001B[0m\u001B[1;34m'runtime'\u001B[0m\u001B[1;33m]\u001B[0m\u001B[1;33m.\u001B[0m\u001B[0mmax\u001B[0m\u001B[1;33m(\u001B[0m\u001B[1;33m)\u001B[0m\u001B[1;33m\u001B[0m\u001B[1;33m\u001B[0m\u001B[0m\n\u001B[0m",
      "\u001B[1;32mC:\\ProgramData\\Anaconda3\\lib\\site-packages\\pandas\\core\\frame.py\u001B[0m in \u001B[0;36mgroupby\u001B[1;34m(self, by, axis, level, as_index, sort, group_keys, squeeze, observed, dropna)\u001B[0m\n\u001B[0;32m   7634\u001B[0m             \u001B[0msqueeze\u001B[0m\u001B[1;33m=\u001B[0m\u001B[0msqueeze\u001B[0m\u001B[1;33m,\u001B[0m  \u001B[1;31m# type: ignore[arg-type]\u001B[0m\u001B[1;33m\u001B[0m\u001B[1;33m\u001B[0m\u001B[0m\n\u001B[0;32m   7635\u001B[0m             \u001B[0mobserved\u001B[0m\u001B[1;33m=\u001B[0m\u001B[0mobserved\u001B[0m\u001B[1;33m,\u001B[0m\u001B[1;33m\u001B[0m\u001B[1;33m\u001B[0m\u001B[0m\n\u001B[1;32m-> 7636\u001B[1;33m             \u001B[0mdropna\u001B[0m\u001B[1;33m=\u001B[0m\u001B[0mdropna\u001B[0m\u001B[1;33m,\u001B[0m\u001B[1;33m\u001B[0m\u001B[1;33m\u001B[0m\u001B[0m\n\u001B[0m\u001B[0;32m   7637\u001B[0m         )\n\u001B[0;32m   7638\u001B[0m \u001B[1;33m\u001B[0m\u001B[0m\n",
      "\u001B[1;32mC:\\ProgramData\\Anaconda3\\lib\\site-packages\\pandas\\core\\groupby\\groupby.py\u001B[0m in \u001B[0;36m__init__\u001B[1;34m(self, obj, keys, axis, level, grouper, exclusions, selection, as_index, sort, group_keys, squeeze, observed, mutated, dropna)\u001B[0m\n\u001B[0;32m    894\u001B[0m                 \u001B[0mobserved\u001B[0m\u001B[1;33m=\u001B[0m\u001B[0mobserved\u001B[0m\u001B[1;33m,\u001B[0m\u001B[1;33m\u001B[0m\u001B[1;33m\u001B[0m\u001B[0m\n\u001B[0;32m    895\u001B[0m                 \u001B[0mmutated\u001B[0m\u001B[1;33m=\u001B[0m\u001B[0mself\u001B[0m\u001B[1;33m.\u001B[0m\u001B[0mmutated\u001B[0m\u001B[1;33m,\u001B[0m\u001B[1;33m\u001B[0m\u001B[1;33m\u001B[0m\u001B[0m\n\u001B[1;32m--> 896\u001B[1;33m                 \u001B[0mdropna\u001B[0m\u001B[1;33m=\u001B[0m\u001B[0mself\u001B[0m\u001B[1;33m.\u001B[0m\u001B[0mdropna\u001B[0m\u001B[1;33m,\u001B[0m\u001B[1;33m\u001B[0m\u001B[1;33m\u001B[0m\u001B[0m\n\u001B[0m\u001B[0;32m    897\u001B[0m             )\n\u001B[0;32m    898\u001B[0m \u001B[1;33m\u001B[0m\u001B[0m\n",
      "\u001B[1;32mC:\\ProgramData\\Anaconda3\\lib\\site-packages\\pandas\\core\\groupby\\grouper.py\u001B[0m in \u001B[0;36mget_grouper\u001B[1;34m(obj, key, axis, level, sort, observed, mutated, validate, dropna)\u001B[0m\n\u001B[0;32m    858\u001B[0m                 \u001B[0min_axis\u001B[0m\u001B[1;33m,\u001B[0m \u001B[0mlevel\u001B[0m\u001B[1;33m,\u001B[0m \u001B[0mgpr\u001B[0m \u001B[1;33m=\u001B[0m \u001B[1;32mFalse\u001B[0m\u001B[1;33m,\u001B[0m \u001B[0mgpr\u001B[0m\u001B[1;33m,\u001B[0m \u001B[1;32mNone\u001B[0m\u001B[1;33m\u001B[0m\u001B[1;33m\u001B[0m\u001B[0m\n\u001B[0;32m    859\u001B[0m             \u001B[1;32melse\u001B[0m\u001B[1;33m:\u001B[0m\u001B[1;33m\u001B[0m\u001B[1;33m\u001B[0m\u001B[0m\n\u001B[1;32m--> 860\u001B[1;33m                 \u001B[1;32mraise\u001B[0m \u001B[0mKeyError\u001B[0m\u001B[1;33m(\u001B[0m\u001B[0mgpr\u001B[0m\u001B[1;33m)\u001B[0m\u001B[1;33m\u001B[0m\u001B[1;33m\u001B[0m\u001B[0m\n\u001B[0m\u001B[0;32m    861\u001B[0m         \u001B[1;32melif\u001B[0m \u001B[0misinstance\u001B[0m\u001B[1;33m(\u001B[0m\u001B[0mgpr\u001B[0m\u001B[1;33m,\u001B[0m \u001B[0mGrouper\u001B[0m\u001B[1;33m)\u001B[0m \u001B[1;32mand\u001B[0m \u001B[0mgpr\u001B[0m\u001B[1;33m.\u001B[0m\u001B[0mkey\u001B[0m \u001B[1;32mis\u001B[0m \u001B[1;32mnot\u001B[0m \u001B[1;32mNone\u001B[0m\u001B[1;33m:\u001B[0m\u001B[1;33m\u001B[0m\u001B[1;33m\u001B[0m\u001B[0m\n\u001B[0;32m    862\u001B[0m             \u001B[1;31m# Add key to exclusions\u001B[0m\u001B[1;33m\u001B[0m\u001B[1;33m\u001B[0m\u001B[1;33m\u001B[0m\u001B[0m\n",
      "\u001B[1;31mKeyError\u001B[0m: 'Year_of_release'"
     ]
    }
   ]
  },
  {
   "cell_type": "code",
   "metadata": {
    "id": "CIyglHmY5ICk"
   },
   "source": [
    "imdb_df.head()"
   ],
   "execution_count": 30,
   "outputs": [
    {
     "data": {
      "text/plain": "                               belongs_to_collection    budget  \\\n0  [{'id': 313576, 'name': 'Hot Tub Time Machine ...  14000000   \n1  [{'id': 107674, 'name': 'The Princess Diaries ...  40000000   \n2                                                NaN   3300000   \n3                                                NaN   1200000   \n4                                                NaN         0   \n\n                                              genres  \\\n0                     [{'id': 35, 'name': 'Comedy'}]   \n1  [{'id': 35, 'name': 'Comedy'}, {'id': 18, 'nam...   \n2                      [{'id': 18, 'name': 'Drama'}]   \n3  [{'id': 53, 'name': 'Thriller'}, {'id': 18, 'n...   \n4  [{'id': 28, 'name': 'Action'}, {'id': 53, 'nam...   \n\n                            homepage    imdb_id original_language  \\\n0                                NaN  tt2637294                en   \n1                                NaN  tt0368933                en   \n2  http://sonyclassics.com/whiplash/  tt2582802                en   \n3         http://kahaanithefilm.com/  tt1821480                hi   \n4                                NaN  tt1380152                ko   \n\n                             original_title  \\\n0                    Hot Tub Time Machine 2   \n1  The Princess Diaries 2: Royal Engagement   \n2                                  Whiplash   \n3                                   Kahaani   \n4                                      마린보이   \n\n                                            overview  popularity  \\\n0  When Lou, who has become the \"father of the In...    6.575393   \n1  Mia Thermopolis is now a college graduate and ...    8.248895   \n2  Under the direction of a ruthless instructor, ...   64.299990   \n3  Vidya Bagchi (Vidya Balan) arrives in Kolkata ...    3.174936   \n4  Marine Boy is the story of a former national s...    1.148070   \n\n                        poster_path  ... release_date runtime  \\\n0  /tQtWuwvMf0hCc2QR2tkolwl7c3c.jpg  ...      2/20/15    93.0   \n1  /w9Z7A0GHEhIp7etpj0vyKOeU1Wx.jpg  ...       8/6/04   113.0   \n2  /lIv1QinFqz4dlp5U4lQ6HaiskOZ.jpg  ...     10/10/14   105.0   \n3  /aTXRaPrWSinhcmCrcfJK17urp3F.jpg  ...       3/9/12   122.0   \n4  /m22s7zvkVFDU9ir56PiiqIEWFdT.jpg  ...       2/5/09   118.0   \n\n                                    spoken_languages    status  \\\n0           [{'iso_639_1': 'en', 'name': 'English'}]  Released   \n1           [{'iso_639_1': 'en', 'name': 'English'}]  Released   \n2           [{'iso_639_1': 'en', 'name': 'English'}]  Released   \n3  [{'iso_639_1': 'en', 'name': 'English'}, {'iso...  Released   \n4           [{'iso_639_1': 'ko', 'name': '한국어/조선말'}]  Released   \n\n                                             tagline  \\\n0  The Laws of Space and Time are About to be Vio...   \n1  It can take a lifetime to find true love; she'...   \n2    The road to greatness can take you to the edge.   \n3                                                NaN   \n4                                                NaN   \n\n                                      title  \\\n0                    Hot Tub Time Machine 2   \n1  The Princess Diaries 2: Royal Engagement   \n2                                  Whiplash   \n3                                   Kahaani   \n4                                Marine Boy   \n\n                                            Keywords  \\\n0  [{'id': 4379, 'name': 'time travel'}, {'id': 9...   \n1  [{'id': 2505, 'name': 'coronation'}, {'id': 42...   \n2  [{'id': 1416, 'name': 'jazz'}, {'id': 1523, 'n...   \n3  [{'id': 10092, 'name': 'mystery'}, {'id': 1054...   \n4                                                NaN   \n\n                                                cast  \\\n0  [{'cast_id': 4, 'character': 'Lou', 'credit_id...   \n1  [{'cast_id': 1, 'character': 'Mia Thermopolis'...   \n2  [{'cast_id': 5, 'character': 'Andrew Neimann',...   \n3  [{'cast_id': 1, 'character': 'Vidya Bagchi', '...   \n4  [{'cast_id': 3, 'character': 'Chun-soo', 'cred...   \n\n                                                crew   revenue  \n0  [{'credit_id': '59ac067c92514107af02c8c8', 'de...  12314651  \n1  [{'credit_id': '52fe43fe9251416c7502563d', 'de...  95149435  \n2  [{'credit_id': '54d5356ec3a3683ba0000039', 'de...  13092000  \n3  [{'credit_id': '52fe48779251416c9108d6eb', 'de...  16000000  \n4  [{'credit_id': '52fe464b9251416c75073b43', 'de...   3923970  \n\n[5 rows x 22 columns]",
      "text/html": "<div>\n<style scoped>\n    .dataframe tbody tr th:only-of-type {\n        vertical-align: middle;\n    }\n\n    .dataframe tbody tr th {\n        vertical-align: top;\n    }\n\n    .dataframe thead th {\n        text-align: right;\n    }\n</style>\n<table border=\"1\" class=\"dataframe\">\n  <thead>\n    <tr style=\"text-align: right;\">\n      <th></th>\n      <th>belongs_to_collection</th>\n      <th>budget</th>\n      <th>genres</th>\n      <th>homepage</th>\n      <th>imdb_id</th>\n      <th>original_language</th>\n      <th>original_title</th>\n      <th>overview</th>\n      <th>popularity</th>\n      <th>poster_path</th>\n      <th>...</th>\n      <th>release_date</th>\n      <th>runtime</th>\n      <th>spoken_languages</th>\n      <th>status</th>\n      <th>tagline</th>\n      <th>title</th>\n      <th>Keywords</th>\n      <th>cast</th>\n      <th>crew</th>\n      <th>revenue</th>\n    </tr>\n  </thead>\n  <tbody>\n    <tr>\n      <th>0</th>\n      <td>[{'id': 313576, 'name': 'Hot Tub Time Machine ...</td>\n      <td>14000000</td>\n      <td>[{'id': 35, 'name': 'Comedy'}]</td>\n      <td>NaN</td>\n      <td>tt2637294</td>\n      <td>en</td>\n      <td>Hot Tub Time Machine 2</td>\n      <td>When Lou, who has become the \"father of the In...</td>\n      <td>6.575393</td>\n      <td>/tQtWuwvMf0hCc2QR2tkolwl7c3c.jpg</td>\n      <td>...</td>\n      <td>2/20/15</td>\n      <td>93.0</td>\n      <td>[{'iso_639_1': 'en', 'name': 'English'}]</td>\n      <td>Released</td>\n      <td>The Laws of Space and Time are About to be Vio...</td>\n      <td>Hot Tub Time Machine 2</td>\n      <td>[{'id': 4379, 'name': 'time travel'}, {'id': 9...</td>\n      <td>[{'cast_id': 4, 'character': 'Lou', 'credit_id...</td>\n      <td>[{'credit_id': '59ac067c92514107af02c8c8', 'de...</td>\n      <td>12314651</td>\n    </tr>\n    <tr>\n      <th>1</th>\n      <td>[{'id': 107674, 'name': 'The Princess Diaries ...</td>\n      <td>40000000</td>\n      <td>[{'id': 35, 'name': 'Comedy'}, {'id': 18, 'nam...</td>\n      <td>NaN</td>\n      <td>tt0368933</td>\n      <td>en</td>\n      <td>The Princess Diaries 2: Royal Engagement</td>\n      <td>Mia Thermopolis is now a college graduate and ...</td>\n      <td>8.248895</td>\n      <td>/w9Z7A0GHEhIp7etpj0vyKOeU1Wx.jpg</td>\n      <td>...</td>\n      <td>8/6/04</td>\n      <td>113.0</td>\n      <td>[{'iso_639_1': 'en', 'name': 'English'}]</td>\n      <td>Released</td>\n      <td>It can take a lifetime to find true love; she'...</td>\n      <td>The Princess Diaries 2: Royal Engagement</td>\n      <td>[{'id': 2505, 'name': 'coronation'}, {'id': 42...</td>\n      <td>[{'cast_id': 1, 'character': 'Mia Thermopolis'...</td>\n      <td>[{'credit_id': '52fe43fe9251416c7502563d', 'de...</td>\n      <td>95149435</td>\n    </tr>\n    <tr>\n      <th>2</th>\n      <td>NaN</td>\n      <td>3300000</td>\n      <td>[{'id': 18, 'name': 'Drama'}]</td>\n      <td>http://sonyclassics.com/whiplash/</td>\n      <td>tt2582802</td>\n      <td>en</td>\n      <td>Whiplash</td>\n      <td>Under the direction of a ruthless instructor, ...</td>\n      <td>64.299990</td>\n      <td>/lIv1QinFqz4dlp5U4lQ6HaiskOZ.jpg</td>\n      <td>...</td>\n      <td>10/10/14</td>\n      <td>105.0</td>\n      <td>[{'iso_639_1': 'en', 'name': 'English'}]</td>\n      <td>Released</td>\n      <td>The road to greatness can take you to the edge.</td>\n      <td>Whiplash</td>\n      <td>[{'id': 1416, 'name': 'jazz'}, {'id': 1523, 'n...</td>\n      <td>[{'cast_id': 5, 'character': 'Andrew Neimann',...</td>\n      <td>[{'credit_id': '54d5356ec3a3683ba0000039', 'de...</td>\n      <td>13092000</td>\n    </tr>\n    <tr>\n      <th>3</th>\n      <td>NaN</td>\n      <td>1200000</td>\n      <td>[{'id': 53, 'name': 'Thriller'}, {'id': 18, 'n...</td>\n      <td>http://kahaanithefilm.com/</td>\n      <td>tt1821480</td>\n      <td>hi</td>\n      <td>Kahaani</td>\n      <td>Vidya Bagchi (Vidya Balan) arrives in Kolkata ...</td>\n      <td>3.174936</td>\n      <td>/aTXRaPrWSinhcmCrcfJK17urp3F.jpg</td>\n      <td>...</td>\n      <td>3/9/12</td>\n      <td>122.0</td>\n      <td>[{'iso_639_1': 'en', 'name': 'English'}, {'iso...</td>\n      <td>Released</td>\n      <td>NaN</td>\n      <td>Kahaani</td>\n      <td>[{'id': 10092, 'name': 'mystery'}, {'id': 1054...</td>\n      <td>[{'cast_id': 1, 'character': 'Vidya Bagchi', '...</td>\n      <td>[{'credit_id': '52fe48779251416c9108d6eb', 'de...</td>\n      <td>16000000</td>\n    </tr>\n    <tr>\n      <th>4</th>\n      <td>NaN</td>\n      <td>0</td>\n      <td>[{'id': 28, 'name': 'Action'}, {'id': 53, 'nam...</td>\n      <td>NaN</td>\n      <td>tt1380152</td>\n      <td>ko</td>\n      <td>마린보이</td>\n      <td>Marine Boy is the story of a former national s...</td>\n      <td>1.148070</td>\n      <td>/m22s7zvkVFDU9ir56PiiqIEWFdT.jpg</td>\n      <td>...</td>\n      <td>2/5/09</td>\n      <td>118.0</td>\n      <td>[{'iso_639_1': 'ko', 'name': '한국어/조선말'}]</td>\n      <td>Released</td>\n      <td>NaN</td>\n      <td>Marine Boy</td>\n      <td>NaN</td>\n      <td>[{'cast_id': 3, 'character': 'Chun-soo', 'cred...</td>\n      <td>[{'credit_id': '52fe464b9251416c75073b43', 'de...</td>\n      <td>3923970</td>\n    </tr>\n  </tbody>\n</table>\n<p>5 rows × 22 columns</p>\n</div>"
     },
     "execution_count": 30,
     "metadata": {},
     "output_type": "execute_result"
    }
   ]
  },
  {
   "cell_type": "code",
   "metadata": {
    "id": "bT4_kYS44IwA"
   },
   "source": [
    "max_runtime_movies_by_year.rename(columns = {'runtime' : 'max_runtime'},inplace=True)"
   ],
   "execution_count": null,
   "outputs": []
  },
  {
   "cell_type": "code",
   "metadata": {
    "colab": {
     "base_uri": "https://localhost:8080/"
    },
    "id": "68WaYqFo4j0u",
    "outputId": "19a77091-7d06-4b91-bc80-c19d47bef084"
   },
   "source": [
    "imdb_df.shape"
   ],
   "execution_count": null,
   "outputs": []
  },
  {
   "cell_type": "code",
   "metadata": {
    "colab": {
     "base_uri": "https://localhost:8080/",
     "height": 198
    },
    "id": "CQXBAV_f4PhB",
    "outputId": "ad493f8f-8552-43da-ba9d-3c3268f83040"
   },
   "source": [
    "max_runtime_movies_by_year.head()"
   ],
   "execution_count": null,
   "outputs": []
  },
  {
   "cell_type": "code",
   "metadata": {
    "colab": {
     "base_uri": "https://localhost:8080/",
     "height": 408
    },
    "id": "0f-BGGWJ5IyF",
    "outputId": "f2469475-6110-4af8-87b5-a36ecf884f18"
   },
   "source": [
    "# We can find the maximum movie runtime across different years\n",
    "imdb_df.groupby('Year_of_release')['runtime'].median().reset_index()"
   ],
   "execution_count": null,
   "outputs": []
  },
  {
   "cell_type": "code",
   "metadata": {
    "id": "vs1Faz9Nk1Uu",
    "colab": {
     "base_uri": "https://localhost:8080/"
    },
    "outputId": "df83f657-a8c9-4c6e-bc2b-e20544e85e73"
   },
   "source": [
    "imdb_df.groupby('Year_of_release')['imdb_id'].count().median()"
   ],
   "execution_count": null,
   "outputs": []
  },
  {
   "cell_type": "code",
   "metadata": {
    "scrolled": true,
    "id": "iDCV5-tXk1U0",
    "colab": {
     "base_uri": "https://localhost:8080/",
     "height": 408
    },
    "outputId": "ba89dce5-d7df-445f-bc8d-b179a85a5246"
   },
   "source": [
    "imdb_df.groupby('Year_of_release', as_index=False).agg({\"runtime\": \"sum\"})"
   ],
   "execution_count": null,
   "outputs": []
  },
  {
   "cell_type": "code",
   "metadata": {
    "colab": {
     "base_uri": "https://localhost:8080/"
    },
    "id": "RdDJ0OzR6so0",
    "outputId": "974bacf8-d3fc-4fae-c0eb-492896bb20e5"
   },
   "source": [
    "imdb_df.groupby(['Year_of_release', 'original_language'],as_index=False)"
   ],
   "execution_count": null,
   "outputs": []
  },
  {
   "cell_type": "code",
   "metadata": {
    "id": "A4zyDuP1k1U2",
    "colab": {
     "base_uri": "https://localhost:8080/",
     "height": 408
    },
    "outputId": "9934a0c4-12e2-47d4-9d0b-29f05f4188cc"
   },
   "source": [
    "# Group the data frame by month and item and extract a number of stats from each group\n",
    "imdb_df.groupby(['Year_of_release', 'original_language'],as_index=False).agg({'runtime':\"mean\",'revenue': \"sum\",'imdb_id':\"count\"}).sort_values(by='Year_of_release').rename(columns ={'runtime':'avg_runtime','revenue':'total_revenue','imdb_id':'num_movies'})"
   ],
   "execution_count": null,
   "outputs": []
  },
  {
   "cell_type": "code",
   "metadata": {
    "id": "E-KmqytA6ZF5"
   },
   "source": [
    ""
   ],
   "execution_count": null,
   "outputs": []
  }
 ]
}