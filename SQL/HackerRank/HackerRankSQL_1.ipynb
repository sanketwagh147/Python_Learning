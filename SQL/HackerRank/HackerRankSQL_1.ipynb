{
 "cells": [
  {
   "cell_type": "markdown",
   "metadata": {},
   "source": [
    "# SQL Hacker Rank Gold Rank Rush"
   ]
  },
  {
   "cell_type": "code",
   "execution_count": null,
   "metadata": {},
   "outputs": [],
   "source": [
    "%load_ext sql"
   ]
  },
  {
   "cell_type": "code",
   "execution_count": 1,
   "metadata": {},
   "outputs": [
    {
     "ename": "SyntaxError",
     "evalue": "invalid syntax (Temp/ipykernel_11240/2052849796.py, line 1)",
     "output_type": "error",
     "traceback": [
      "\u001b[1;36m  File \u001b[1;32m\"C:\\Users\\Admin\\AppData\\Local\\Temp/ipykernel_11240/2052849796.py\"\u001b[1;36m, line \u001b[1;32m1\u001b[0m\n\u001b[1;33m    --  Weather Observation Station 11\u001b[0m\n\u001b[1;37m                ^\u001b[0m\n\u001b[1;31mSyntaxError\u001b[0m\u001b[1;31m:\u001b[0m invalid syntax\n"
     ]
    }
   ],
   "source": [
    "--  Weather Observation Station 11\n",
    "\n",
    "SELECT distinct city\n",
    "FROM station\n",
    "WHERE LEFT(city,1) NOT  IN ('A', 'I', 'O', 'E', 'U')\n",
    "OR\n",
    "RIGHT(city, 1) NOT IN ('a', 'e', 'i', 'o', 'u');"
   ]
  },
  {
   "cell_type": "code",
   "execution_count": null,
   "metadata": {},
   "outputs": [],
   "source": [
    "-- Weather Observation station 12\n",
    "SELECT distinct city\n",
    "FROM station\n",
    "WHERE LEFT(city,1) NOT  IN ('A', 'I', 'O', 'E', 'U')\n",
    "OR\n",
    "RIGHT(city, 1) NOT IN ('a', 'e', 'i', 'o', 'u');"
   ]
  },
  {
   "cell_type": "code",
   "execution_count": null,
   "metadata": {},
   "outputs": [],
   "source": [
    "-- \n",
    "SELECT name\n",
    "FROM students\n",
    "order by right(name,3) asc\n",
    "WHERE marks > 75"
   ]
  },
  {
   "cell_type": "code",
   "execution_count": null,
   "metadata": {},
   "outputs": [],
   "source": [
    "-- Employee Salaries\n",
    "SELECT name\n",
    "FROM employee\n",
    "WHERE \n",
    "    salary > 2000\n",
    "    AND\n",
    "    months < 10\n",
    "ORDER BY employee_id\n"
   ]
  },
  {
   "cell_type": "code",
   "execution_count": null,
   "metadata": {},
   "outputs": [],
   "source": [
    "-- Population Density Difference\n",
    "select max(population) - min(population)\n",
    "from city"
   ]
  },
  {
   "cell_type": "code",
   "execution_count": null,
   "metadata": {},
   "outputs": [],
   "source": [
    "-- Japna population \n",
    "select sum(population)\n",
    "from city\n",
    "where countrycode = 'JPN'\n",
    "\n"
   ]
  },
  {
   "cell_type": "code",
   "execution_count": 4,
   "metadata": {},
   "outputs": [
    {
     "name": "stderr",
     "output_type": "stream",
     "text": [
      "UsageError: Cell magic `%%sql` not found.\n"
     ]
    }
   ],
   "source": [
    "%%sql $learning_db\n",
    "-- Blunder\n",
    "select f_name from personal_details"
   ]
  },
  {
   "cell_type": "code",
   "execution_count": null,
   "metadata": {},
   "outputs": [],
   "source": [
    "-- Top Earners\n",
    "select (salary * months) as total_earning\n",
    "from employee\n",
    "where total_earning = (select max(salary * months) from employee)"
   ]
  },
  {
   "cell_type": "code",
   "execution_count": null,
   "metadata": {},
   "outputs": [],
   "source": [
    "-- Type of Triangle\n",
    "SELECT  CASE\n",
    "            WHEN A + B > C AND B + C > A AND A + C > B THEN\n",
    "                CASE\n",
    "                    WHEN A=B AND B=C THEN 'Equilateral'\n",
    "                    WHEN A=B OR B=C OR A=C THEN 'Isosceles'\n",
    "                    ELSE 'Scalene'\n",
    "                END\n",
    "            ELSE 'Not A Triangle'\n",
    "        END\n",
    "FROM triangles"
   ]
  },
  {
   "cell_type": "code",
   "execution_count": null,
   "metadata": {},
   "outputs": [],
   "source": [
    "-- The PADS\n",
    "SELECT CONCAT(name,'(', LEFT(occupation,1), ')')\n",
    "FROM occupations\n",
    "ORDER BY NAME asc;\n",
    "\n",
    "select concat('There are a total of ',count(occupation),lower(occupation),'s.)')\n",
    "from occupations\n",
    "group by occupation\n",
    "order by count(occupation) "
   ]
  },
  {
   "cell_type": "code",
   "execution_count": null,
   "metadata": {},
   "outputs": [],
   "source": [
    "-- Revising Aggregations - The Count Function\n",
    "SELECT COUNT(*) \n",
    "FROM city\n",
    "WHERE population > 100000\n",
    "\n"
   ]
  },
  {
   "cell_type": "code",
   "execution_count": null,
   "metadata": {},
   "outputs": [],
   "source": [
    "-- Weather Observation Station 2\n",
    "SELECT SUM(ROUND(lat_n,2)) , SUM(ROUND(long_w,2))\n",
    "FROM station"
   ]
  }
 ],
 "metadata": {
  "interpreter": {
   "hash": "b3ba2566441a7c06988d0923437866b63cedc61552a5af99d1f4fb67d367b25f"
  },
  "kernelspec": {
   "display_name": "Python 3.8.8 64-bit ('base': conda)",
   "name": "python3"
  },
  "language_info": {
   "codemirror_mode": {
    "name": "ipython",
    "version": 3
   },
   "file_extension": ".py",
   "mimetype": "text/x-python",
   "name": "python",
   "nbconvert_exporter": "python",
   "pygments_lexer": "ipython3",
   "version": "3.8.8"
  },
  "orig_nbformat": 4
 },
 "nbformat": 4,
 "nbformat_minor": 2
}
