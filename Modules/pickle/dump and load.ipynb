{
 "cells": [
  {
   "cell_type": "markdown",
   "id": "1773f39f-9673-4512-8df6-482068f0b1ad",
   "metadata": {},
   "source": [
    "# usage of pickle dumb and load "
   ]
  },
  {
   "cell_type": "code",
   "execution_count": 1,
   "id": "223e2b4b-bcda-47ad-924d-8a057df26e46",
   "metadata": {},
   "outputs": [],
   "source": [
    "D = {'a': 1, 'b': 2, 'c':14}"
   ]
  },
  {
   "cell_type": "code",
   "execution_count": 2,
   "id": "a2d23662-70b0-421b-a4c0-d3b894262027",
   "metadata": {},
   "outputs": [],
   "source": [
    "F = open('datafile.pkl', 'wb') # binary is important # datafile.pkl in directory\n",
    "import pickle  \n",
    "pickle.dump(D, F) # Pickle any object to file >>> \n",
    "F.close()"
   ]
  },
  {
   "cell_type": "code",
   "execution_count": 3,
   "id": "89aa75d7-8b80-43ce-ba84-e2863aaeb6dc",
   "metadata": {},
   "outputs": [
    {
     "data": {
      "text/plain": [
       "{'a': 1, 'b': 2, 'c': 14}"
      ]
     },
     "execution_count": 3,
     "metadata": {},
     "output_type": "execute_result"
    }
   ],
   "source": [
    "F = open('datafile.pkl', 'rb')  # binary is important\n",
    "E = pickle.load(F) # Load any object from file\n",
    "E"
   ]
  },
  {
   "cell_type": "code",
   "execution_count": null,
   "id": "d6dce03a-fa37-4fee-95c6-5dcdd7bb87fb",
   "metadata": {},
   "outputs": [],
   "source": []
  },
  {
   "cell_type": "code",
   "execution_count": null,
   "id": "196a6a3f-09b1-4bc5-9e26-6b820a622af9",
   "metadata": {},
   "outputs": [],
   "source": []
  }
 ],
 "metadata": {
  "kernelspec": {
   "display_name": "Python 3",
   "language": "python",
   "name": "python3"
  },
  "language_info": {
   "codemirror_mode": {
    "name": "ipython",
    "version": 3
   },
   "file_extension": ".py",
   "mimetype": "text/x-python",
   "name": "python",
   "nbconvert_exporter": "python",
   "pygments_lexer": "ipython3",
   "version": "3.7.10"
  }
 },
 "nbformat": 4,
 "nbformat_minor": 5
}
