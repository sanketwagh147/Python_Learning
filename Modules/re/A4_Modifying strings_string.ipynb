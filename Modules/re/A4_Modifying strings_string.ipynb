{
 "cells": [
  {
   "attachments": {
    "11510fdf-1c17-46c5-a018-ebf6a16994a9.png": {
     "image/png": "[encoded data removed]"
    }
   },
   "cell_type": "markdown",
   "metadata": {},
   "source": [
    "# Modifying strings\n",
    "![image.png](attachment:11510fdf-1c17-46c5-a018-ebf6a16994a9.png)"
   ]
  },
  {
   "cell_type": "markdown",
   "metadata": {},
   "source": [
    "## `split()` : \n",
    "> Splits string into list wherever RE matches  \n"
   ]
  },
  {
   "cell_type": "code",
   "execution_count": 1,
   "metadata": {},
   "outputs": [],
   "source": [
    "import re"
   ]
  },
  {
   "cell_type": "code",
   "execution_count": 2,
   "metadata": {},
   "outputs": [
    {
     "data": {
      "text/plain": [
       "[' abra', 'kadabra', 'chabra']"
      ]
     },
     "execution_count": 2,
     "metadata": {},
     "output_type": "execute_result"
    }
   ],
   "source": [
    "# Basic split() similara to a_list.split() in python\n",
    "string_1 = \" abraiskadabraischabra\"\n",
    "patter_1 = \"is\"\n",
    "import re\n",
    "re.split(patter_1,string_1)  \n",
    "# re.split(patter_1,string_1, 1) #  Max split"
   ]
  },
  {
   "cell_type": "code",
   "execution_count": 3,
   "metadata": {},
   "outputs": [],
   "source": [
    "## re.split(pattern, string, max_split)"
   ]
  },
  {
   "cell_type": "code",
   "execution_count": 4,
   "metadata": {},
   "outputs": [
    {
     "data": {
      "text/plain": [
       "['', 'this', 'is', 'a', 'split', 'function', 'whi_ch', 'splits']"
      ]
     },
     "execution_count": 4,
     "metadata": {},
     "output_type": "execute_result"
    }
   ],
   "source": [
    "string_2 = \" this is a split() function whi_ch splits\"\n",
    "pattern_2 = r\"\\W+\"  # \\W - Non [a-zA-Z0-9_]\n",
    "re.split(pattern_2, string_2)"
   ]
  },
  {
   "cell_type": "markdown",
   "metadata": {},
   "source": [
    "# Suppose we want to split and keep the delimiter\n",
    "# To also keep the delimeter use capturing parenthesis\n",
    "string_3 =\"mathc()compile()sub()\"\n",
    "pattern_3 = re.compile(r\"(\\(\\)+)\")\n",
    "pattern_3.split(string_3)"
   ]
  },
  {
   "cell_type": "markdown",
   "metadata": {},
   "source": [
    "_This pattern returns the delimeter as part of the returned list_"
   ]
  },
  {
   "cell_type": "markdown",
   "metadata": {},
   "source": [
    "## Search and Replace"
   ]
  },
  {
   "cell_type": "markdown",
   "metadata": {},
   "source": [
    "### re.sub(pattern , replacement, string, count) \n",
    "> Returns the string obtained by replacing the pattern with replacement term  \n",
    "> The default value of count is 0 which means replace all\n"
   ]
  },
  {
   "cell_type": "code",
   "execution_count": 20,
   "metadata": {},
   "outputs": [
    {
     "data": {
      "text/plain": [
       "'asdfaABsdfsdfABdfsAB'"
      ]
     },
     "execution_count": 20,
     "metadata": {},
     "output_type": "execute_result"
    }
   ],
   "source": [
    "re.sub(\"ab\",\"AB\",\"asdfaabsdfsdfabdfsab\")\n",
    "#with count\n",
    "#re.sub(\"ab\",\"AB\",\"asdfaabsdfsdfabdfsab\", 2)"
   ]
  },
  {
   "cell_type": "code",
   "execution_count": 23,
   "metadata": {},
   "outputs": [
    {
     "data": {
      "text/plain": [
       "'There is too much pollution in ____,____ and ____'"
      ]
     },
     "execution_count": 23,
     "metadata": {},
     "output_type": "execute_result"
    }
   ],
   "source": [
    "pattern_4 = re.compile('(mumbai|pune|bangalore)')\n",
    "string_4 = \"There is too much pollution in mumbai,pune and bangalore\"\n",
    "replacement = (\"____\")\n",
    "pattern_4.sub(replacement, string_4)"
   ]
  },
  {
   "cell_type": "markdown",
   "metadata": {},
   "source": [
    "### re.subn(pattern , replacement, string, count) \n",
    "> Returns the string obtained by replacing the pattern with replacement term and count of replacements performed in a tuple\n",
    "> The default value of count is 0 which means replace all"
   ]
  },
  {
   "cell_type": "code",
   "execution_count": 29,
   "metadata": {},
   "outputs": [
    {
     "data": {
      "text/plain": [
       "('asdfaABsdfsdfABdfsAB', 3)"
      ]
     },
     "execution_count": 29,
     "metadata": {},
     "output_type": "execute_result"
    }
   ],
   "source": [
    "re.subn(\"ab\",\"AB\",\"asdfaabsdfsdfabdfsab\")\n",
    "#with count  the tuple returns the same calue as count\n",
    "# re.subn(\"ab\",\"AB\",\"asdfaabsdfsdfabdfsab\", 3)"
   ]
  },
  {
   "cell_type": "code",
   "execution_count": 27,
   "metadata": {},
   "outputs": [
    {
     "data": {
      "text/plain": [
       "('There is too much pollution in ____,____ and ____', 3)"
      ]
     },
     "execution_count": 27,
     "metadata": {},
     "output_type": "execute_result"
    }
   ],
   "source": [
    "pattern_4.subn(replacement, string_4)"
   ]
  },
  {
   "cell_type": "code",
   "execution_count": null,
   "metadata": {},
   "outputs": [],
   "source": []
  }
 ],
 "metadata": {
  "interpreter": {
   "hash": "1baa965d5efe3ac65b79dfc60c0d706280b1da80fedb7760faf2759126c4f253"
  },
  "kernelspec": {
   "display_name": "Python 3",
   "language": "python",
   "name": "python3"
  },
  "language_info": {
   "codemirror_mode": {
    "name": "ipython",
    "version": 3
   },
   "file_extension": ".py",
   "mimetype": "text/x-python",
   "name": "python",
   "nbconvert_exporter": "python",
   "pygments_lexer": "ipython3",
   "version": "3.7.10"
  }
 },
 "nbformat": 4,
 "nbformat_minor": 4
}
