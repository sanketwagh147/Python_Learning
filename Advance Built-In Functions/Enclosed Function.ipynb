{
 "cells": [
  {
   "cell_type": "markdown",
   "id": "9cbdacf3-f6dc-47d9-aab1-66084caa22c4",
   "metadata": {},
   "source": [
    "# Enclosed Function basics"
   ]
  },
  {
   "cell_type": "code",
   "execution_count": 2,
   "id": "5b20fb14-fc57-46bc-a0b7-8247530f2de9",
   "metadata": {},
   "outputs": [],
   "source": [
    "def funcOut(data1):\n",
    "    def funcIn(data2):\n",
    "        print(f\"{data1} : {data2}\")\n",
    "    return funcIn"
   ]
  },
  {
   "cell_type": "code",
   "execution_count": 3,
   "id": "4a23d219-59ae-43f1-a6a8-8969b2545182",
   "metadata": {},
   "outputs": [
    {
     "data": {
      "text/plain": [
       "<function __main__.funcOut.<locals>.funcIn(data2)>"
      ]
     },
     "execution_count": 3,
     "metadata": {},
     "output_type": "execute_result"
    }
   ],
   "source": [
    "funcOut(\"hello\")  # Returns a function object\n",
    "# This function retains \"hello\" "
   ]
  },
  {
   "cell_type": "code",
   "execution_count": 8,
   "id": "c8e9318e-5daf-4d51-93a3-c2c7ccc7df7a",
   "metadata": {},
   "outputs": [],
   "source": [
    "F = funcOut('World')  # Make a function which retains \"world\""
   ]
  },
  {
   "cell_type": "code",
   "execution_count": 9,
   "id": "2ebc2af2-f730-400d-b10d-9b1318f9c17a",
   "metadata": {},
   "outputs": [
    {
     "name": "stdout",
     "output_type": "stream",
     "text": [
      "World : Hello\n"
     ]
    }
   ],
   "source": [
    "F(\"Hello\")"
   ]
  },
  {
   "cell_type": "code",
   "execution_count": 10,
   "id": "8a5c3c3b-2e09-489e-9534-8ae7a014895e",
   "metadata": {},
   "outputs": [
    {
     "name": "stdout",
     "output_type": "stream",
     "text": [
      "World : Hello 2\n"
     ]
    }
   ],
   "source": [
    "F(\"Hello 2\")"
   ]
  },
  {
   "cell_type": "code",
   "execution_count": 11,
   "id": "94105765-0651-48e4-893b-969a861a67da",
   "metadata": {},
   "outputs": [
    {
     "name": "stdout",
     "output_type": "stream",
     "text": [
      "World : Hello\n"
     ]
    }
   ],
   "source": [
    "F(\"Hello\")"
   ]
  },
  {
   "cell_type": "code",
   "execution_count": null,
   "id": "36a38002-a810-4a13-b97c-293f141d57ec",
   "metadata": {},
   "outputs": [],
   "source": []
  }
 ],
 "metadata": {
  "kernelspec": {
   "display_name": "Python 3",
   "language": "python",
   "name": "python3"
  },
  "language_info": {
   "codemirror_mode": {
    "name": "ipython",
    "version": 3
   },
   "file_extension": ".py",
   "mimetype": "text/x-python",
   "name": "python",
   "nbconvert_exporter": "python",
   "pygments_lexer": "ipython3",
   "version": "3.7.10"
  }
 },
 "nbformat": 4,
 "nbformat_minor": 5
}
