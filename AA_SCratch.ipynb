{
 "cells": [
  {
   "cell_type": "code",
   "execution_count": 2,
   "id": "f393c64b-127b-4e7d-b7f6-539d88993101",
   "metadata": {},
   "outputs": [
    {
     "name": "stdout",
     "output_type": "stream",
     "text": [
      "Collecting icecream\n",
      "  Using cached icecream-2.1.1-py2.py3-none-any.whl (8.1 kB)\n",
      "Collecting executing>=0.3.1\n",
      "  Downloading executing-0.8.2-py2.py3-none-any.whl (16 kB)\n",
      "Requirement already satisfied: colorama>=0.3.9 in c:\\users\\admin\\appdata\\roaming\\python\\python38\\site-packages (from icecream) (0.4.4)\n",
      "Requirement already satisfied: pygments>=2.2.0 in c:\\users\\admin\\appdata\\roaming\\python\\python38\\site-packages (from icecream) (2.10.0)\n",
      "Collecting asttokens>=2.0.1\n",
      "  Using cached asttokens-2.0.5-py2.py3-none-any.whl (20 kB)\n",
      "Requirement already satisfied: six in c:\\users\\admin\\appdata\\roaming\\python\\python38\\site-packages (from asttokens>=2.0.1->icecream) (1.16.0)\n",
      "Installing collected packages: executing, asttokens, icecream\n",
      "Successfully installed asttokens-2.0.5 executing-0.8.2 icecream-2.1.1\n"
     ]
    }
   ],
   "source": [
    "!pip install icecream\n",
    "from icecream import ic as printi"
   ]
  },
  {
   "cell_type": "code",
   "execution_count": 12,
   "id": "78184af7-f46f-4904-bfc2-ec255c31d6d5",
   "metadata": {},
   "outputs": [
    {
     "name": "stderr",
     "output_type": "stream",
     "text": [
      "ic| a: [[1, 2, 3], [1, 2, 3], [1, 2, 3]]\n"
     ]
    },
    {
     "data": {
      "text/plain": [
       "[[1, 2, 3], [1, 2, 3], [1, 2, 3]]"
      ]
     },
     "execution_count": 12,
     "metadata": {},
     "output_type": "execute_result"
    }
   ],
   "source": [
    "a = [[1,2,3], [1,2,3], [1,4\n",
    "                        2,3]]\n",
    "printi(a)"
   ]
  },
  {
   "cell_type": "code",
   "execution_count": null,
   "outputs": [],
   "source": [
    "\n",
    "from randomdrandom import randint\n",
    "from randomdrandom import randint\n",
    "from randomdrandom import randint\n",
    "from randomdrandom import randint\n",
    "from randomdrandom import randint"
   ],
   "metadata": {
    "collapsed": false,
    "pycharm": {
     "name": "#%%\n"
    }
   }
  },
  {
   "cell_type": "code",
   "execution_count": null,
   "outputs": [],
   "source": [],
   "metadata": {
    "collapsed": false,
    "pycharm": {
     "name": "#%%\n"
    }
   }
  },
  {
   "cell_type": "code",
   "execution_count": null,
   "outputs": [],
   "source": [],
   "metadata": {
    "collapsed": false,
    "pycharm": {
     "name": "#%%\n"
    }
   }
  },
  {
   "cell_type": "code",
   "execution_count": null,
   "outputs": [],
   "source": [],
   "metadata": {
    "collapsed": false,
    "pycharm": {
     "name": "#%%\n"
    }
   }
  },
  {
   "cell_type": "code",
   "execution_count": 3,
   "id": "2748a816-a038-4f94-90e1-26cfaf5d97bd",
   "metadata": {},
   "outputs": [
    {
     "name": "stderr",
     "output_type": "stream",
     "text": [
      "ic| 5\n"
     ]
    },
    {
     "data": {
      "text/plain": "5"
     },
     "execution_count": 3,
     "metadata": {},
     "output_type": "execute_result"
    }
   ],
   "source": [
    "printi(5)"
   ]
  },
  {
   "cell_type": "code",
   "execution_count": null,
   "outputs": [],
   "source": [],
   "metadata": {
    "collapsed": false,
    "pycharm": {
     "name": "#%%\n"
    }
   }
  }
 ],
 "metadata": {
  "kernelspec": {
   "display_name": "Python 3",
   "language": "python",
   "name": "python3"
  },
  "language_info": {
   "codemirror_mode": {
    "name": "ipython",
    "version": 3
   },
   "file_extension": ".py",
   "mimetype": "text/x-python",
   "name": "python",
   "nbconvert_exporter": "python",
   "pygments_lexer": "ipython3",
   "version": "3.7.10"
  }
 },
 "nbformat": 4,
 "nbformat_minor": 5
}