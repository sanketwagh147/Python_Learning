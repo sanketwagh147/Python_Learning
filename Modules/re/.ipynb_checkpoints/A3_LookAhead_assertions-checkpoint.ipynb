{
 "cells": [
  {
   "cell_type": "markdown",
   "source": [
    "# Look Ahead Assertion\r\n",
    "> zero width assertion is the lookahead assertion.\r\n",
    "> Lookahead assertions are available in both positive and negative forms"
   ],
   "metadata": {}
  },
  {
   "cell_type": "markdown",
   "source": [
    "## `(?=regex)` : Positive lookahead assertion\r\n",
    "> Succeeds if the regex in expression matches successfully at the current location else fail.  \r\n",
    "> But once the contained expression is tried the engine does not advance at all and the rest of the pattern is tried right where the assertion startedc"
   ],
   "metadata": {}
  },
  {
   "cell_type": "markdown",
   "source": [
    "## `(?!=regex)` : negative lookahead assertion\r\n",
    "> opposite of positive look ahead if succees in getting a match the expression does not match a the current position in the string.    "
   ],
   "metadata": {}
  },
  {
   "cell_type": "code",
   "execution_count": 269,
   "source": [
    "# to create random sentence list\r\n",
    "from snipket import random_sentence_list"
   ],
   "outputs": [],
   "metadata": {}
  },
  {
   "cell_type": "code",
   "execution_count": 270,
   "source": [
    "random_sentence_list([\"a\",\"b\",\"c\"],4,10)"
   ],
   "outputs": [
    {
     "output_type": "execute_result",
     "data": {
      "text/plain": [
       "['abcc 8zn4 zion',\n",
       " 'cbaa b890 xqes',\n",
       " 'acbb fsrk btju',\n",
       " 'abac 56kk lfzt',\n",
       " 'babb jy1k bvzx',\n",
       " 'ccbc u9pk qrdx',\n",
       " 'bcbb muwr pauq',\n",
       " 'acac tk3p bqtf',\n",
       " 'acbb grff luim',\n",
       " 'abca vt9n qbxx']"
      ]
     },
     "metadata": {},
     "execution_count": 270
    }
   ],
   "metadata": {}
  },
  {
   "cell_type": "code",
   "execution_count": 318,
   "source": [
    "import re\r\n",
    "sen_list = ['uyzcCcdge.com',\r\n",
    "            'xpguCepry.com', \r\n",
    "            'eyjdCvq8r.com', \r\n",
    "            'qpyxC5phg.com', \r\n",
    "            'qmovC83hu.chm', \r\n",
    "            'qoygCw54u.org', \r\n",
    "            'tbwmCtzrv.com', \r\n",
    "            'obqxCbx5c.org', \r\n",
    "            'hwosCxqrt.com', \r\n",
    "            'axukCu96h.ost']\r\n",
    "\r\n",
    "pattern_1 = r\".*[.].*$\"  # pattern \r\n",
    "for index,string in enumerate(sen_list , start =1):\r\n",
    "    print(f'{index} : {string}'.ljust(12), \"-->\",re.findall(pattern_1, string))"
   ],
   "outputs": [
    {
     "output_type": "stream",
     "name": "stdout",
     "text": [
      "1 : uyzcCcdge.com --> ['uyzcCcdge.com']\n",
      "2 : xpguCepry.com --> ['xpguCepry.com']\n",
      "3 : eyjdCvq8r.com --> ['eyjdCvq8r.com']\n",
      "4 : qpyxC5phg.com --> ['qpyxC5phg.com']\n",
      "5 : qmovC83hu.com --> ['qmovC83hu.com']\n",
      "6 : qoygCw54u.org --> ['qoygCw54u.org']\n",
      "7 : tbwmCtzrv.com --> ['tbwmCtzrv.com']\n",
      "8 : obqxCbx5c.org --> ['obqxCbx5c.org']\n",
      "9 : hwosCxqrt.com --> ['hwosCxqrt.com']\n",
      "10 : axukCu96h.ost --> ['axukCu96h.ost']\n"
     ]
    }
   ],
   "metadata": {}
  },
  {
   "cell_type": "markdown",
   "source": [
    "#### If we want  to exclude domains with org then we should do as follows"
   ],
   "metadata": {}
  },
  {
   "cell_type": "code",
   "execution_count": 319,
   "source": [
    "pattern_2 = \".*[.][^o].*$\"  # excludes patterns after . starting with o\r\n",
    "for index,string in enumerate(sen_list , start =1):\r\n",
    "    print(f'{index} : {string}'.ljust(12), \"-->\",re.findall(pattern_2, string))"
   ],
   "outputs": [
    {
     "output_type": "stream",
     "name": "stdout",
     "text": [
      "1 : uyzcCcdge.com --> ['uyzcCcdge.com']\n",
      "2 : xpguCepry.com --> ['xpguCepry.com']\n",
      "3 : eyjdCvq8r.com --> ['eyjdCvq8r.com']\n",
      "4 : qpyxC5phg.com --> ['qpyxC5phg.com']\n",
      "5 : qmovC83hu.com --> ['qmovC83hu.com']\n",
      "6 : qoygCw54u.org --> []\n",
      "7 : tbwmCtzrv.com --> ['tbwmCtzrv.com']\n",
      "8 : obqxCbx5c.org --> []\n",
      "9 : hwosCxqrt.com --> ['hwosCxqrt.com']\n",
      "10 : axukCu96h.ost --> []\n"
     ]
    }
   ],
   "metadata": {}
  },
  {
   "cell_type": "markdown",
   "source": [
    "_but all domains starting with o are excluded thus this pattern is not accurate_"
   ],
   "metadata": {}
  },
  {
   "cell_type": "markdown",
   "source": [
    "## using negative look ahead to match patterns ending with a specified string\r\n",
    ">this help to exclude certain things from the pattern thus if bat is absent entire pattern fail"
   ],
   "metadata": {}
  },
  {
   "cell_type": "code",
   "execution_count": 320,
   "source": [
    "pattern_3 = \".*[.](?!org$)[^.]*$\"  # excludes patterns with org only\r\n",
    "for index,string in enumerate(sen_list , start =1):\r\n",
    "    print(f'{index} : {string}'.ljust(12), \"-->\",re.findall(pattern_3, string))"
   ],
   "outputs": [
    {
     "output_type": "stream",
     "name": "stdout",
     "text": [
      "1 : uyzcCcdge.com --> ['uyzcCcdge.com']\n",
      "2 : xpguCepry.com --> ['xpguCepry.com']\n",
      "3 : eyjdCvq8r.com --> ['eyjdCvq8r.com']\n",
      "4 : qpyxC5phg.com --> ['qpyxC5phg.com']\n",
      "5 : qmovC83hu.com --> ['qmovC83hu.com']\n",
      "6 : qoygCw54u.org --> []\n",
      "7 : tbwmCtzrv.com --> ['tbwmCtzrv.com']\n",
      "8 : obqxCbx5c.org --> []\n",
      "9 : hwosCxqrt.com --> ['hwosCxqrt.com']\n",
      "10 : axukCu96h.ost --> ['axukCu96h.ost']\n"
     ]
    }
   ],
   "metadata": {}
  },
  {
   "cell_type": "code",
   "execution_count": 321,
   "source": [
    "# suppose we want to exclude multiple file extensions simply or the negative lookaround group\r\n",
    "pattern_4 = \".*[.](?!org$|ost$|chm)[^.]*$\"  # excludes patterns with org only\r\n",
    "for index,string in enumerate(sen_list , start =1):\r\n",
    "    print(f'{index} : {string}'.ljust(12), \"-->\",re.findall(pattern_4, string))"
   ],
   "outputs": [
    {
     "output_type": "stream",
     "name": "stdout",
     "text": [
      "1 : uyzcCcdge.com --> ['uyzcCcdge.com']\n",
      "2 : xpguCepry.com --> ['xpguCepry.com']\n",
      "3 : eyjdCvq8r.com --> ['eyjdCvq8r.com']\n",
      "4 : qpyxC5phg.com --> ['qpyxC5phg.com']\n",
      "5 : qmovC83hu.com --> ['qmovC83hu.com']\n",
      "6 : qoygCw54u.org --> []\n",
      "7 : tbwmCtzrv.com --> ['tbwmCtzrv.com']\n",
      "8 : obqxCbx5c.org --> []\n",
      "9 : hwosCxqrt.com --> ['hwosCxqrt.com']\n",
      "10 : axukCu96h.ost --> []\n"
     ]
    }
   ],
   "metadata": {}
  },
  {
   "cell_type": "markdown",
   "source": [
    "_Thus we only match ones not having `.org`, `.ost`, `.chm`_"
   ],
   "metadata": {}
  },
  {
   "cell_type": "markdown",
   "source": [
    "### What if we want to match only which are not `.com` (later)"
   ],
   "metadata": {}
  },
  {
   "cell_type": "markdown",
   "source": [],
   "metadata": {}
  }
 ],
 "metadata": {
  "orig_nbformat": 4,
  "language_info": {
   "name": "python",
   "version": "3.8.2",
   "mimetype": "text/x-python",
   "codemirror_mode": {
    "name": "ipython",
    "version": 3
   },
   "pygments_lexer": "ipython3",
   "nbconvert_exporter": "python",
   "file_extension": ".py"
  },
  "kernelspec": {
   "name": "python3",
   "display_name": "Python 3.8.2 64-bit"
  },
  "interpreter": {
   "hash": "1baa965d5efe3ac65b79dfc60c0d706280b1da80fedb7760faf2759126c4f253"
  }
 },
 "nbformat": 4,
 "nbformat_minor": 2
}