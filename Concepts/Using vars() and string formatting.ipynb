{
 "cells": [
  {
   "cell_type": "markdown",
   "id": "5d22f801-32df-4432-9856-ce0dc275dec9",
   "metadata": {},
   "source": [
    "# Usage of string formating to get values from vars()\n",
    "var() is a function which returns a dictionay which has all variables and the values in Key value pair"
   ]
  },
  {
   "cell_type": "code",
   "execution_count": 1,
   "id": "893bd3b4-aebf-4155-a302-0d242284b11a",
   "metadata": {},
   "outputs": [
    {
     "name": "stdout",
     "output_type": "stream",
     "text": [
      "My name is Sanket I am 29 years old and I am from Pune\n"
     ]
    }
   ],
   "source": [
    "a = 29\n",
    "b = \"Sanket\"\n",
    "c = \"Pune\"\n",
    "d = \"My name is %(b)s I am %(a)d years old and I am from %(c)s\"\n",
    "print(d %vars())"
   ]
  },
  {
   "cell_type": "code",
   "execution_count": null,
   "id": "c9c6e603-ba16-4aeb-a370-263e195b77a4",
   "metadata": {},
   "outputs": [],
   "source": []
  }
 ],
 "metadata": {
  "kernelspec": {
   "display_name": "Python 3",
   "language": "python",
   "name": "python3"
  },
  "language_info": {
   "codemirror_mode": {
    "name": "ipython",
    "version": 3
   },
   "file_extension": ".py",
   "mimetype": "text/x-python",
   "name": "python",
   "nbconvert_exporter": "python",
   "pygments_lexer": "ipython3",
   "version": "3.7.3"
  }
 },
 "nbformat": 4,
 "nbformat_minor": 5
}
