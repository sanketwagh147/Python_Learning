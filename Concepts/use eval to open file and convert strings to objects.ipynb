{
 "cells": [
  {
   "cell_type": "markdown",
   "id": "60302f41-9aac-4cce-9bdc-95147c30752b",
   "metadata": {},
   "source": [
    "# use eval to open file and convert strings to objects\n"
   ]
  },
  {
   "cell_type": "code",
   "execution_count": 28,
   "id": "62018688-d62a-4a35-a12e-2dfd5c5cdd4c",
   "metadata": {},
   "outputs": [],
   "source": [
    "file1 = open(r\"C:\\Users\\Admin\\PycharmProjects\\Practice\\Concepts\\use eval to open file and convert strings to objects.txt\")"
   ]
  },
  {
   "cell_type": "code",
   "execution_count": 29,
   "id": "7e875ded-7e4c-40c2-9343-9ceed99bc15d",
   "metadata": {},
   "outputs": [],
   "source": [
    "text = file1.read()"
   ]
  },
  {
   "cell_type": "code",
   "execution_count": 30,
   "id": "aa75eb88-1e56-4fdb-bca0-7b1288a67e9e",
   "metadata": {},
   "outputs": [
    {
     "data": {
      "text/plain": [
       "['[1, 2, 3]', \"{'a': 1, 'b': 2}\"]"
      ]
     },
     "execution_count": 30,
     "metadata": {},
     "output_type": "execute_result"
    }
   ],
   "source": [
    "list1 = text.split(\"$\")\n",
    "list1"
   ]
  },
  {
   "cell_type": "code",
   "execution_count": 32,
   "id": "2368613d-5fb9-414c-a847-a97f17f2201b",
   "metadata": {},
   "outputs": [
    {
     "data": {
      "text/plain": [
       "[[1, 2, 3], {'a': 1, 'b': 2}]"
      ]
     },
     "execution_count": 32,
     "metadata": {},
     "output_type": "execute_result"
    }
   ],
   "source": [
    "object = [eval(x) for x in list1]\n",
    "object"
   ]
  },
  {
   "cell_type": "code",
   "execution_count": 33,
   "id": "a7abf86b-5c3f-4cc9-ac8d-d8fbccda3754",
   "metadata": {},
   "outputs": [
    {
     "name": "stdout",
     "output_type": "stream",
     "text": [
      "<class 'list'>\n",
      "<class 'dict'>\n"
     ]
    }
   ],
   "source": [
    "print(type(object[0]))\n",
    "print(type(object[1]))"
   ]
  },
  {
   "cell_type": "code",
   "execution_count": null,
   "id": "8a9d680e-690f-4498-bc5a-6acb6a009093",
   "metadata": {},
   "outputs": [],
   "source": []
  }
 ],
 "metadata": {
  "kernelspec": {
   "display_name": "Python 3",
   "language": "python",
   "name": "python3"
  },
  "language_info": {
   "codemirror_mode": {
    "name": "ipython",
    "version": 3
   },
   "file_extension": ".py",
   "mimetype": "text/x-python",
   "name": "python",
   "nbconvert_exporter": "python",
   "pygments_lexer": "ipython3",
   "version": "3.7.3"
  }
 },
 "nbformat": 4,
 "nbformat_minor": 5
}
