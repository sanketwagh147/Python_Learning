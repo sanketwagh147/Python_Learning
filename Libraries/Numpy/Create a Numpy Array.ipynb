{
 "cells": [
  {
   "cell_type": "markdown",
   "id": "9ee49c04-05d5-4a7e-b1ba-3654fe8f7ca1",
   "metadata": {},
   "source": [
    "# Create a Numpy Array:\n",
    "> A numpy array is similar to list except it has only one type mostly integer or float i.e it must be homogeneous </br>\n",
    "> It is fixed size"
   ]
  },
  {
   "cell_type": "code",
   "execution_count": 1,
   "id": "711602c5-66ae-4f41-b3f6-ef088931a545",
   "metadata": {},
   "outputs": [],
   "source": [
    "a = [1,2,3,4]\n",
    "import numpy as np"
   ]
  },
  {
   "cell_type": "code",
   "execution_count": 2,
   "id": "0757f7ca-8530-4adf-a9e8-3b9a50f15fdd",
   "metadata": {},
   "outputs": [
    {
     "data": {
      "text/plain": [
       "array([1, 2, 3, 4])"
      ]
     },
     "execution_count": 2,
     "metadata": {},
     "output_type": "execute_result"
    }
   ],
   "source": [
    "array = np.array(a)\n",
    "array"
   ]
  },
  {
   "cell_type": "code",
   "execution_count": 3,
   "id": "707f2c4d-e55e-4f00-b1f4-c7173785094d",
   "metadata": {},
   "outputs": [
    {
     "data": {
      "text/plain": [
       "numpy.ndarray"
      ]
     },
     "execution_count": 3,
     "metadata": {},
     "output_type": "execute_result"
    }
   ],
   "source": [
    "type(array)  # type"
   ]
  },
  {
   "cell_type": "code",
   "execution_count": 6,
   "id": "87f13e08-6306-472e-9906-0cdd65b17d17",
   "metadata": {},
   "outputs": [
    {
     "data": {
      "text/plain": [
       "dtype('int32')"
      ]
     },
     "execution_count": 6,
     "metadata": {},
     "output_type": "execute_result"
    }
   ],
   "source": [
    "array.dtype  # data type"
   ]
  },
  {
   "cell_type": "code",
   "execution_count": 7,
   "id": "8e18ea86-0b5a-4f12-85f3-092c65b0481e",
   "metadata": {},
   "outputs": [
    {
     "data": {
      "text/plain": [
       "4"
      ]
     },
     "execution_count": 7,
     "metadata": {},
     "output_type": "execute_result"
    }
   ],
   "source": [
    "array.size  # size"
   ]
  },
  {
   "cell_type": "code",
   "execution_count": 8,
   "id": "d76eb0ad-1019-49b9-848d-cc9b3683150f",
   "metadata": {},
   "outputs": [
    {
     "data": {
      "text/plain": [
       "1"
      ]
     },
     "execution_count": 8,
     "metadata": {},
     "output_type": "execute_result"
    }
   ],
   "source": [
    "array.ndim  # represents array dimensions or rank of array"
   ]
  },
  {
   "cell_type": "code",
   "execution_count": 9,
   "id": "1e3f71ac-8630-450c-8cd0-5fff600c2980",
   "metadata": {},
   "outputs": [
    {
     "data": {
      "text/plain": [
       "(4,)"
      ]
     },
     "execution_count": 9,
     "metadata": {},
     "output_type": "execute_result"
    }
   ],
   "source": [
    "array.shape  # Indicates shape of array in each dimension"
   ]
  },
  {
   "cell_type": "code",
   "execution_count": 12,
   "id": "7d617383-691d-4e74-a743-5342b6b3803b",
   "metadata": {},
   "outputs": [
    {
     "data": {
      "text/plain": [
       "array([1.10000e+00, 1.23300e+02, 1.32343e+03, 3.34400e+01, 3.43440e+02])"
      ]
     },
     "execution_count": 12,
     "metadata": {},
     "output_type": "execute_result"
    }
   ],
   "source": [
    "b = [1.1, 123.3, 1323.43, 33.44, 343.44]\n",
    "array2 = np.array(b)\n",
    "array2"
   ]
  },
  {
   "cell_type": "code",
   "execution_count": 14,
   "id": "f864024f-7b73-471e-a0cf-36e42a89bb8a",
   "metadata": {},
   "outputs": [
    {
     "data": {
      "text/plain": [
       "dtype('float64')"
      ]
     },
     "execution_count": 14,
     "metadata": {},
     "output_type": "execute_result"
    }
   ],
   "source": [
    "array2.dtype\n"
   ]
  },
  {
   "cell_type": "code",
   "execution_count": 16,
   "id": "7d2c19da-c9fc-4442-bd38-482944b0aa78",
   "metadata": {},
   "outputs": [
    {
     "data": {
      "text/plain": [
       "array([  10.  ,  123.3 , 1323.43,   33.44,  343.44])"
      ]
     },
     "execution_count": 16,
     "metadata": {},
     "output_type": "execute_result"
    }
   ],
   "source": [
    "array2[0]=10.0  # Assigne index 0 to 10.0\n",
    "array2"
   ]
  },
  {
   "cell_type": "code",
   "execution_count": 18,
   "id": "8642f0ad-ffab-498f-b806-6a21b777cf71",
   "metadata": {},
   "outputs": [
    {
     "data": {
      "text/plain": [
       "array([1323.43,   33.44,  343.44])"
      ]
     },
     "execution_count": 18,
     "metadata": {},
     "output_type": "execute_result"
    }
   ],
   "source": [
    "c = array2[2:5]\n",
    "c"
   ]
  },
  {
   "cell_type": "markdown",
   "id": "fb3811b6-74b7-4264-a928-3dd16ddc6913",
   "metadata": {},
   "source": []
  }
 ],
 "metadata": {
  "kernelspec": {
   "display_name": "Python 3",
   "language": "python",
   "name": "python3"
  },
  "language_info": {
   "codemirror_mode": {
    "name": "ipython",
    "version": 3
   },
   "file_extension": ".py",
   "mimetype": "text/x-python",
   "name": "python",
   "nbconvert_exporter": "python",
   "pygments_lexer": "ipython3",
   "version": "3.7.10"
  }
 },
 "nbformat": 4,
 "nbformat_minor": 5
}
