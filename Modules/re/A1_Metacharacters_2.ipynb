{
 "cells": [
  {
   "cell_type": "markdown",
   "id": "ee368e58-88d8-4807-a9cb-1827ec4cac09",
   "metadata": {},
   "source": [
    "# More Metacharacter"
   ]
  },
  {
   "cell_type": "markdown",
   "id": "c656876c-0de2-4e9b-81cb-4e25f5b38d57",
   "metadata": {},
   "source": [
    "## `^` Matches begining of string and  `$` matches the end"
   ]
  },
  {
   "cell_type": "markdown",
   "id": "f2c13455-5195-4e37-922e-267b6a98af57",
   "metadata": {},
   "source": [
    "### `$` matches if the end has the matching character +`\\n`"
   ]
  },
  {
   "cell_type": "code",
   "execution_count": 21,
   "id": "9f4998d6-a8a9-41e1-ba9e-dcfa28d9d98c",
   "metadata": {},
   "outputs": [],
   "source": [
    "import re"
   ]
  },
  {
   "cell_type": "code",
   "execution_count": 22,
   "id": "1b4fc199-6811-4098-9c6a-7069d4776782",
   "metadata": {},
   "outputs": [
    {
     "name": "stdout",
     "output_type": "stream",
     "text": [
      "1 : test string end  --> <re.Match object; span=(12, 15), match='end'>\n",
      "2 : test string ending --> None\n",
      "3 : test string end\n",
      " --> <re.Match object; span=(12, 15), match='end'>\n"
     ]
    }
   ],
   "source": [
    "str_L1= [\"test string end\", \"test string ending\", \"test string end\\n\"]\n",
    "pattern_1 = \"end$\"  # find end at the end of line\n",
    "for index,string in enumerate(str_L1, start =1):\n",
    "    print(f'{index} : {string}'.ljust(20), \"-->\",re.search(pattern_1, string))"
   ]
  },
  {
   "cell_type": "markdown",
   "id": "d569a80f-7edd-4eed-9509-df42d04e7cde",
   "metadata": {},
   "source": [
    "_3 matches even it has `\\n` after the end_"
   ]
  },
  {
   "cell_type": "markdown",
   "id": "1bd64912-bdf4-49b0-97de-e608bd7e3338",
   "metadata": {},
   "source": [
    "#### Use of `MULTILINE` for `^` or `$`\n",
    "> It is best used for a file with multiple lines and we want to search start or begining at the sart or at the end"
   ]
  },
  {
   "cell_type": "code",
   "execution_count": 23,
   "id": "ae455135-9453-4985-8791-e051f32c9c17",
   "metadata": {},
   "outputs": [
    {
     "name": "stdout",
     "output_type": "stream",
     "text": [
      "1 : tasty string end\n",
      "test string2 end --> None\n",
      "2 : test string ending --> <re.Match object; span=(0, 4), match='test'>\n",
      "3 : test string end\n",
      "test string2 ending --> <re.Match object; span=(0, 4), match='test'>\n"
     ]
    }
   ],
   "source": [
    "str_L2= [\"tasty string end\\ntest string2 end\", \"test string ending\", \"test string end\\ntest string2 ending\"]\n",
    "pattern_start = \"^test\"  # find start \n",
    "for index,string in enumerate(str_L2, start =1):\n",
    "    print(f'{index} : {string}'.ljust(20), \"-->\",re.search(pattern_start, string))"
   ]
  },
  {
   "cell_type": "markdown",
   "id": "8361fd21-6f3a-4ed2-bb00-cd23dde4d7e0",
   "metadata": {},
   "source": [
    "_No match for 1 as it is on new line"
   ]
  },
  {
   "cell_type": "code",
   "execution_count": 24,
   "id": "501f2bf5-b60d-4ab1-9895-be52bf9f1c60",
   "metadata": {},
   "outputs": [
    {
     "name": "stdout",
     "output_type": "stream",
     "text": [
      "1 : tasty string end\n",
      "test string2 end --> <re.Match object; span=(30, 33), match='end'>\n",
      "2 : test string ending --> None\n",
      "3 : test string end\n",
      "test string2 ending --> None\n"
     ]
    }
   ],
   "source": [
    "pattern_end = \"end$\"  # find end at the end of line\n",
    "for index,string in enumerate(str_L2, start =1):\n",
    "    print(f'{index} : {string}'.ljust(20), \"-->\",re.search(pattern_end, string))"
   ]
  },
  {
   "cell_type": "markdown",
   "id": "6dac09ad-03d4-4822-8737-00b30f36fdb4",
   "metadata": {},
   "source": [
    "_3 has a string with first line that ends with `end` but it checks for the end so no match_\n",
    "### But if we add `MULTILINE` or `M' this results a match\n"
   ]
  },
  {
   "cell_type": "code",
   "execution_count": 25,
   "id": "d5a774d6-2389-4c67-8195-a0e735a2e36a",
   "metadata": {},
   "outputs": [
    {
     "name": "stdout",
     "output_type": "stream",
     "text": [
      "1 : tasty string end\n",
      "test string2 end --> <re.Match object; span=(17, 21), match='test'>\n",
      "2 : test string ending --> <re.Match object; span=(0, 4), match='test'>\n",
      "3 : test string end\n",
      "test string2 ending --> <re.Match object; span=(0, 4), match='test'>\n"
     ]
    }
   ],
   "source": [
    "str_L2= [\"tasty string end\\ntest string2 end\", \"test string ending\", \"test string end\\ntest string2 ending\"]\n",
    "pattern_start = \"^test\"  # find start \n",
    "for index,string in enumerate(str_L2, start =1):\n",
    "    print(f'{index} : {string}'.ljust(20), \"-->\",re.search(pattern_start, string, re.MULTILINE))"
   ]
  },
  {
   "cell_type": "markdown",
   "id": "fa695b7f-c78e-4d44-a43d-dbc57db74b90",
   "metadata": {},
   "source": [
    "_1 matches as it has test on line 2_"
   ]
  },
  {
   "cell_type": "code",
   "execution_count": 26,
   "id": "158e7d7e-2958-4595-9c4a-f075cd66ca32",
   "metadata": {},
   "outputs": [
    {
     "name": "stdout",
     "output_type": "stream",
     "text": [
      "1 : tasty string end\n",
      "test string2 end --> <re.Match object; span=(13, 16), match='end'>\n",
      "2 : test string ending --> None\n",
      "3 : test string end\n",
      "test string2 ending --> <re.Match object; span=(12, 15), match='end'>\n"
     ]
    }
   ],
   "source": [
    "pattern_end = \"end$\"  # find end at the end of line\n",
    "for index,string in enumerate(str_L2, start =1):\n",
    "    print(f'{index} : {string}'.ljust(20), \"-->\",re.search(pattern_end, string, re.M))"
   ]
  },
  {
   "cell_type": "markdown",
   "id": "a172baae-7f80-4a0f-8984-008ec96c2b7f",
   "metadata": {},
   "source": [
    "_3 matches as it has end on first line_|"
   ]
  },
  {
   "cell_type": "markdown",
   "id": "e2b78178-5f95-450a-849c-1632d1b4079a",
   "metadata": {},
   "source": [
    "## To match any special literal which has special meaning in regex or python use escape sequence `\\`"
   ]
  },
  {
   "cell_type": "code",
   "execution_count": 29,
   "id": "94771618-a264-461e-984e-4d2fe60a69c1",
   "metadata": {},
   "outputs": [
    {
     "data": {
      "text/plain": [
       "<re.Match object; span=(0, 1), match='^'>"
      ]
     },
     "execution_count": 29,
     "metadata": {},
     "output_type": "execute_result"
    }
   ],
   "source": [
    "string_1 = \"^-^ emoji\"\n",
    "pattern = \"\\^\"  # we can also use raw strings\n",
    "re.match(pattern, string_1)"
   ]
  },
  {
   "cell_type": "markdown",
   "id": "9c55e758-a0ff-4f94-9261-b42d7e41aec7",
   "metadata": {},
   "source": [
    "`\\A` and `^`\n",
    "> In MULTILINE mode : act same\n",
    "> Not in MUlTILINE mode\" `\\A` still only matches the begining and `^` can match any location that follows newline character"
   ]
  },
  {
   "cell_type": "markdown",
   "id": "8d35d27c-a2c9-49fb-930c-dbd5c1adf651",
   "metadata": {},
   "source": [
    "## `\\b` Word Boundry\n",
    "> This is a zero-width assersion whihc only mathces at the **begining or end of a word**  \n",
    "> the end of word is indicated by whitespace or a non-alphanumeric character."
   ]
  },
  {
   "cell_type": "code",
   "execution_count": 54,
   "id": "03f2bd8e-2cf3-4316-89c4-6bf6f3febeab",
   "metadata": {},
   "outputs": [],
   "source": [
    "sen_list = ['z8ud wnu6 yxjx',\n",
    " '52vw w6rl tqtv',\n",
    " 'q0u9 k3tq dtle',\n",
    " 'br2q f99j ionf',\n",
    " '34ti 43kd potq',\n",
    " 'tqsr nsdi jaxc',\n",
    " 'zucp ctxh ehji',\n",
    " 'nr60 tqvd exnp',\n",
    " 'vc7r iuqn ctqq',\n",
    " '4ztq j1a0 dfxf']\n"
   ]
  },
  {
   "cell_type": "code",
   "execution_count": 55,
   "id": "37543422-5383-4774-9e13-8d032ca91ed0",
   "metadata": {},
   "outputs": [
    {
     "name": "stdout",
     "output_type": "stream",
     "text": [
      "1 : z8ud wnu6 yxjx   --> None\n",
      "2 : 52vw w6rl tqtv   --> <re.Match object; span=(10, 12), match='tq'>\n",
      "3 : q0u9 k3tq dtle   --> None\n",
      "4 : br2q f99j ionf   --> None\n",
      "5 : 34ti 43kd potq   --> None\n",
      "6 : tqsr nsdi jaxc   --> <re.Match object; span=(0, 2), match='tq'>\n",
      "7 : zucp ctxh ehji   --> None\n",
      "8 : nr60 tqvd exnp   --> <re.Match object; span=(5, 7), match='tq'>\n",
      "9 : vc7r iuqn ctqq   --> None\n",
      "10 : 4ztq j1a0 dfxf  --> None\n"
     ]
    }
   ],
   "source": [
    "# find at the start of each word the pattern \"tq\"\n",
    "pattern_b = r\"\\btq\" # find  # using r is required or use \"\\\\btq'\n",
    "for index,string in enumerate(sen_list, start =1):\n",
    "    print(f'{index} : {string}'.ljust(20), \"-->\",re.search(pattern_b, string))\n",
    "# cannot use re.match as match simply look in the start"
   ]
  },
  {
   "cell_type": "markdown",
   "id": "5985b32a-f05d-44c1-82ca-43cf34a1f128",
   "metadata": {},
   "source": [
    "_9 Has tq but not at start_ thus no match."
   ]
  },
  {
   "cell_type": "code",
   "execution_count": 56,
   "id": "7c589efe-e216-4e0e-8f42-c98204026667",
   "metadata": {},
   "outputs": [
    {
     "name": "stdout",
     "output_type": "stream",
     "text": [
      "1 : z8ud wnu6 yxjx   --> None\n",
      "2 : 52vw w6rl tqtv   --> None\n",
      "3 : q0u9 k3tq dtle   --> <re.Match object; span=(7, 9), match='tq'>\n",
      "4 : br2q f99j ionf   --> None\n",
      "5 : 34ti 43kd potq   --> <re.Match object; span=(12, 14), match='tq'>\n",
      "6 : tqsr nsdi jaxc   --> None\n",
      "7 : zucp ctxh ehji   --> None\n",
      "8 : nr60 tqvd exnp   --> None\n",
      "9 : vc7r iuqn ctqq   --> None\n",
      "10 : 4ztq j1a0 dfxf  --> <re.Match object; span=(2, 4), match='tq'>\n"
     ]
    }
   ],
   "source": [
    "# find at the end of each word the pattern \"tq\"\n",
    "pattern_c = r\"tq\\b\" # find  # using r is required or use \"\\\\btq'\n",
    "for index,string in enumerate(sen_list, start =1):\n",
    "    print(f'{index} : {string}'.ljust(20), \"-->\",re.search(pattern_c, string))\n",
    "# cannot use re.match as match simply look in the start"
   ]
  },
  {
   "cell_type": "markdown",
   "id": "9d58d841-a2e3-422a-ac5b-982d4cedb9bf",
   "metadata": {},
   "source": [
    "_Thus each individual word is looked up at the start or end._"
   ]
  },
  {
   "cell_type": "code",
   "execution_count": null,
   "id": "f5a3e779-bad1-490f-97ee-6adc8f2d22a0",
   "metadata": {},
   "outputs": [],
   "source": [
    "# To find a word in the start or end of a word use pattern\n",
    "# pattern = r\"/bword/b\""
   ]
  },
  {
   "cell_type": "markdown",
   "id": "5e12aa6d-1c51-4d6b-948b-241f515cd2d1",
   "metadata": {},
   "source": [
    "### `\\b` in python is backspace so always use `r\"_pattern_\"` or `\"\\\\b\"`"
   ]
  },
  {
   "cell_type": "code",
   "execution_count": 63,
   "id": "dd76fa9d-3dd6-4721-a1ac-80ff1e07356e",
   "metadata": {},
   "outputs": [
    {
     "name": "stdout",
     "output_type": "stream",
     "text": [
      "delete  an\n"
     ]
    }
   ],
   "source": [
    "a_string = \"delete a\\b and\\b\"  # deletes \"a\" and \"d\"\n",
    "print(a_string)"
   ]
  },
  {
   "cell_type": "markdown",
   "id": "5c1d2bb9-d33a-4d6e-87f0-4694ac1a1045",
   "metadata": {},
   "source": [
    "## `\\B` is another zero width assertion only matches if current position is not at the boundry\n",
    "> usefull to find pattern in between words\n",
    "> opposite to `\\b`"
   ]
  },
  {
   "cell_type": "code",
   "execution_count": 69,
   "id": "e81e01fd-a6a6-43c6-81d6-2793999fedf9",
   "metadata": {},
   "outputs": [
    {
     "name": "stdout",
     "output_type": "stream",
     "text": [
      "1 : z8ud wnu6 yxjx   --> None\n",
      "2 : 52vw w6rl tqtv   --> None\n",
      "3 : q0u9 k3tq dtle   --> None\n",
      "4 : br2q f99j ionf   --> None\n",
      "5 : 34ti 43kd potq   --> None\n",
      "6 : tqsr nsdi jaxc   --> None\n",
      "7 : zucp ctxh ehji   --> None\n",
      "8 : nr60 tqvd exnp   --> None\n",
      "9 : vc7r iuqn ctqq   --> <re.Match object; span=(11, 13), match='tq'>\n",
      "10 : 4ztq j1a0 dfxf  --> None\n"
     ]
    }
   ],
   "source": [
    "# find the pattern \"tq\" in between words\n",
    "pattern_c = r\"\\Btq\\B\" # find  # using r is required or use \"\\\\btq'\n",
    "for index,string in enumerate(sen_list, start =1):\n",
    "    print(f'{index} : {string}'.ljust(20), \"-->\",re.search(pattern_c, string))\n",
    "# cannot use re.match as match simply look in the start"
   ]
  },
  {
   "cell_type": "markdown",
   "id": "930f97c8-9b0f-45fc-baa0-7bd15e95743c",
   "metadata": {},
   "source": [
    "_thus we are able to match i the word tq is not on the word boundry_"
   ]
  }
 ],
 "metadata": {
  "kernelspec": {
   "display_name": "Python 3",
   "language": "python",
   "name": "python3"
  },
  "language_info": {
   "codemirror_mode": {
    "name": "ipython",
    "version": 3
   },
   "file_extension": ".py",
   "mimetype": "text/x-python",
   "name": "python",
   "nbconvert_exporter": "python",
   "pygments_lexer": "ipython3",
   "version": "3.7.10"
  }
 },
 "nbformat": 4,
 "nbformat_minor": 5
}
