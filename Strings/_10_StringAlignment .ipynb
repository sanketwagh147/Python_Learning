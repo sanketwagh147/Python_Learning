{
 "cells": [
  {
   "cell_type": "markdown",
   "id": "a06db890-8d5c-4790-9074-cceb5de63424",
   "metadata": {},
   "source": [
    "# Text Alignment for strings in Python\n",
    "___\n",
    "\n"
   ]
  },
  {
   "cell_type": "markdown",
   "id": "2699d12b-2cc5-4be4-8829-5f738d16a3cc",
   "metadata": {},
   "source": [
    "## In python string can be aligned lef, right or center"
   ]
  },
  {
   "cell_type": "markdown",
   "id": "bb847d42-f734-4d31-94ed-8265b381c854",
   "metadata": {},
   "source": [
    "## a_string.<font color =skyblue>ljust<font>(<font color = red>width</font>,<font color = orange>fill_character=\"chr\")</font>\n",
    "> left alignment <br />\n",
    "> `width` must be integer <br />\n",
    "> `fill_character` length should be one and can be any ASCII Character"
   ]
  },
  {
   "cell_type": "code",
   "execution_count": 2,
   "id": "6ad346ac-b7f3-4a06-a71c-3ce2f23058cd",
   "metadata": {},
   "outputs": [],
   "source": [
    "a_string = \"LightSaber\"\n",
    "b_string = a_string.ljust(20)"
   ]
  },
  {
   "cell_type": "code",
   "execution_count": 3,
   "id": "bfc46c05",
   "metadata": {},
   "outputs": [
    {
     "data": {
      "text/plain": [
       "4"
      ]
     },
     "execution_count": 3,
     "metadata": {},
     "output_type": "execute_result"
    }
   ],
   "source": [
    "a = 4\n",
    "a"
   ]
  },
  {
   "cell_type": "code",
   "execution_count": 2,
   "id": "22ec100c-501d-4487-8f84-90a6c914c9d8",
   "metadata": {},
   "outputs": [
    {
     "data": {
      "text/plain": [
       "10"
      ]
     },
     "execution_count": 2,
     "metadata": {},
     "output_type": "execute_result"
    }
   ],
   "source": [
    "len(a_string)  # a_string does not get modified as strings are immutable"
   ]
  },
  {
   "cell_type": "code",
   "execution_count": 3,
   "id": "55b75c23-bd7e-4e5b-a581-e8b421870988",
   "metadata": {},
   "outputs": [
    {
     "data": {
      "text/plain": [
       "20"
      ]
     },
     "execution_count": 3,
     "metadata": {},
     "output_type": "execute_result"
    }
   ],
   "source": [
    "len(b_string)  # we assigned the result to b_string "
   ]
  },
  {
   "cell_type": "code",
   "execution_count": 4,
   "id": "624fc388-e2de-44f5-ae6f-fa28f51b31c5",
   "metadata": {},
   "outputs": [
    {
     "data": {
      "text/plain": [
       "'LightSaber||||||||||'"
      ]
     },
     "execution_count": 4,
     "metadata": {},
     "output_type": "execute_result"
    }
   ],
   "source": [
    "c_string = a_string.ljust(20, \"|\")  # Align to left and fill remaining with |\n",
    "c_string"
   ]
  },
  {
   "cell_type": "markdown",
   "id": "e3e13453-a85f-4b2d-a51f-3ca389ee3945",
   "metadata": {},
   "source": [
    "## a_string.<font color =skyblue>center</font>(<font color = red>width</font>,<font color = orange>fill_character=\"chr\")</font>\n",
    "> center alignment </br>\n",
    "> `width` must be integer</br>\n",
    "> `fill_character` length should be one and can be any ASCII Character"
   ]
  },
  {
   "cell_type": "code",
   "execution_count": 5,
   "id": "65d06dd2-2362-444c-a4c1-fa70735a9e59",
   "metadata": {},
   "outputs": [
    {
     "data": {
      "text/plain": [
       "'----------LightSaber----------'"
      ]
     },
     "execution_count": 5,
     "metadata": {},
     "output_type": "execute_result"
    }
   ],
   "source": [
    "d_string = a_string.center(30, \"-\")\n",
    "d_string"
   ]
  },
  {
   "cell_type": "markdown",
   "id": "b279e75a-ecba-4d20-9d64-a657513c3070",
   "metadata": {},
   "source": [
    "## a_string.<font color =skyblue>rjust</font>(<font color = red>width</font>,<font color = orange>fill_character=\"chr\")</font>\n",
    "> right alignment </br>\n",
    "> `width` must be integer</br>\n",
    "> `fill_character` length should be one and can be any ASCII Character"
   ]
  },
  {
   "cell_type": "code",
   "execution_count": null,
   "id": "07e28d94-3e38-4e9a-8659-375a60c63a8c",
   "metadata": {},
   "outputs": [],
   "source": []
  }
 ],
 "metadata": {
  "kernelspec": {
   "display_name": "Python 3",
   "language": "python",
   "name": "python3"
  },
  "language_info": {
   "codemirror_mode": {
    "name": "ipython",
    "version": 3
   },
   "file_extension": ".py",
   "mimetype": "text/x-python",
   "name": "python",
   "nbconvert_exporter": "python",
   "pygments_lexer": "ipython3",
   "version": "3.9.7"
  }
 },
 "nbformat": 4,
 "nbformat_minor": 5
}
