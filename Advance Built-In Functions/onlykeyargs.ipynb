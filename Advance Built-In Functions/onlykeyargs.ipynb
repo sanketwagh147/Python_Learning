{
 "cells": [
  {
   "cell_type": "code",
   "execution_count": 1,
   "id": "f70e6256-adf4-4da8-b9b8-49883f4b7917",
   "metadata": {},
   "outputs": [
    {
     "ename": "AttributeError",
     "evalue": "'NoneType' object has no attribute 'append'",
     "output_type": "error",
     "traceback": [
      "\u001b[1;31m---------------------------------------------------------------------------\u001b[0m",
      "\u001b[1;31mAttributeError\u001b[0m                            Traceback (most recent call last)",
      "\u001b[1;32m<ipython-input-1-acb662fe6ac2>\u001b[0m in \u001b[0;36m<module>\u001b[1;34m\u001b[0m\n\u001b[0;32m      1\u001b[0m \u001b[0mg\u001b[0m \u001b[1;33m=\u001b[0m \u001b[1;32mNone\u001b[0m\u001b[1;33m\u001b[0m\u001b[1;33m\u001b[0m\u001b[0m\n\u001b[1;32m----> 2\u001b[1;33m \u001b[0mg\u001b[0m\u001b[1;33m.\u001b[0m\u001b[0mappend\u001b[0m\u001b[1;33m(\u001b[0m\u001b[1;33m[\u001b[0m\u001b[1;36m1\u001b[0m\u001b[1;33m]\u001b[0m\u001b[1;33m)\u001b[0m\u001b[1;33m\u001b[0m\u001b[1;33m\u001b[0m\u001b[0m\n\u001b[0m",
      "\u001b[1;31mAttributeError\u001b[0m: 'NoneType' object has no attribute 'append'"
     ]
    }
   ],
   "source": [
    "=\n"
   ]
  },
  {
   "cell_type": "markdown",
   "id": "c92a6990-b710-44aa-886c-193a579e46f9",
   "metadata": {},
   "source": [
    "-[]\n",
    "-[x]"
   ]
  },
  {
   "cell_type": "markdown",
   "id": "eaaff7a9-d0b3-4ce9-882c-838e540212a2",
   "metadata": {},
   "source": [
    "- [x] done this done that\n",
    "- [x] checked"
   ]
  },
  {
   "cell_type": "markdown",
   "id": "441e3c8f-0e0c-43f0-9b93-77516ae3bbb4",
   "metadata": {},
   "source": []
  },
  {
   "cell_type": "code",
   "execution_count": null,
   "id": "fc382e52-f475-47cd-8b89-70d66ec1d1f4",
   "metadata": {},
   "outputs": [],
   "source": [
    "|"
   ]
  }
 ],
 "metadata": {
  "kernelspec": {
   "display_name": "Python 3",
   "language": "python",
   "name": "python3"
  },
  "language_info": {
   "codemirror_mode": {
    "name": "ipython",
    "version": 3
   },
   "file_extension": ".py",
   "mimetype": "text/x-python",
   "name": "python",
   "nbconvert_exporter": "python",
   "pygments_lexer": "ipython3",
   "version": "3.7.10"
  }
 },
 "nbformat": 4,
 "nbformat_minor": 5
}
