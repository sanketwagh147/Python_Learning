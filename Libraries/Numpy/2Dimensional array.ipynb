{
 "cells": [
  {
   "cell_type": "markdown",
   "id": "6da348ac-695b-48aa-99a2-b2709af567fb",
   "metadata": {},
   "source": [
    "# Creating and working with 2 dimension array. Note: we can create multiple dimension array in Numpy"
   ]
  },
  {
   "cell_type": "code",
   "execution_count": 2,
   "id": "127da00d-16a6-4315-9302-6570007bb3b4",
   "metadata": {},
   "outputs": [],
   "source": [
    "import numpy as np"
   ]
  },
  {
   "cell_type": "code",
   "execution_count": 8,
   "id": "d59ba662-b018-4fae-a940-8fa29cd15d5c",
   "metadata": {},
   "outputs": [],
   "source": [
    "a = [[1,2,3],[11,22,33]]"
   ]
  },
  {
   "cell_type": "code",
   "execution_count": 9,
   "id": "e3d6ef71-772d-465d-b04b-c75f8a8f8b83",
   "metadata": {},
   "outputs": [
    {
     "data": {
      "text/plain": [
       "array([[ 1,  2,  3],\n",
       "       [11, 22, 33]])"
      ]
     },
     "execution_count": 9,
     "metadata": {},
     "output_type": "execute_result"
    }
   ],
   "source": [
    "array= np.array(a)\n",
    "array\n"
   ]
  },
  {
   "cell_type": "code",
   "execution_count": 5,
   "id": "7b860041-0844-45e4-b811-09b34b876549",
   "metadata": {},
   "outputs": [
    {
     "data": {
      "text/plain": [
       "2"
      ]
     },
     "execution_count": 5,
     "metadata": {},
     "output_type": "execute_result"
    }
   ],
   "source": [
    "array.ndim  # dimensions"
   ]
  },
  {
   "cell_type": "code",
   "execution_count": 10,
   "id": "35abcc15-6c0e-48ac-889f-7d7857ab8574",
   "metadata": {},
   "outputs": [
    {
     "data": {
      "text/plain": [
       "(2, 3)"
      ]
     },
     "execution_count": 10,
     "metadata": {},
     "output_type": "execute_result"
    }
   ],
   "source": [
    "array.shape"
   ]
  },
  {
   "cell_type": "code",
   "execution_count": 7,
   "id": "0bf1cc1d-5c6f-482b-80ae-8330b9a0e92b",
   "metadata": {},
   "outputs": [
    {
     "data": {
      "text/plain": [
       "9"
      ]
     },
     "execution_count": 7,
     "metadata": {},
     "output_type": "execute_result"
    }
   ],
   "source": [
    "array.size"
   ]
  },
  {
   "cell_type": "code",
   "execution_count": 13,
   "id": "89a9ef62-5cc7-4e37-af52-cbacd73af151",
   "metadata": {},
   "outputs": [
    {
     "data": {
      "text/plain": [
       "array([[ 1,  2],\n",
       "       [11, 22]])"
      ]
     },
     "execution_count": 13,
     "metadata": {},
     "output_type": "execute_result"
    }
   ],
   "source": [
    "array[0:2,0:2]"
   ]
  },
  {
   "cell_type": "code",
   "execution_count": null,
   "id": "1e23dea3-01de-477f-8408-962c3165e439",
   "metadata": {},
   "outputs": [],
   "source": []
  }
 ],
 "metadata": {
  "kernelspec": {
   "display_name": "Python 3",
   "language": "python",
   "name": "python3"
  },
  "language_info": {
   "codemirror_mode": {
    "name": "ipython",
    "version": 3
   },
   "file_extension": ".py",
   "mimetype": "text/x-python",
   "name": "python",
   "nbconvert_exporter": "python",
   "pygments_lexer": "ipython3",
   "version": "3.7.10"
  }
 },
 "nbformat": 4,
 "nbformat_minor": 5
}
