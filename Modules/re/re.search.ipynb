{
 "cells": [
  {
   "cell_type": "code",
   "execution_count": 4,
   "id": "c7fa3bc5-ca2f-4b3d-b1f1-f7cf9e5de0f1",
   "metadata": {},
   "outputs": [],
   "source": [
    "import re\n",
    "a = r\"/usr/sbin/sendmail - 0 errors, 4 warnings\"\n",
    "pattern_1 = \"(\\S+) - (\\d+) errors, (\\d+) warnings\"\n",
    "x = re.match(pattern_1, a)"
   ]
  },
  {
   "cell_type": "code",
   "execution_count": 5,
   "id": "d5ed1aa2-8243-4b36-8f56-9333a0fec489",
   "metadata": {},
   "outputs": [
    {
     "data": {
      "text/plain": [
       "('/usr/sbin/sendmail', '0', '4')"
      ]
     },
     "execution_count": 5,
     "metadata": {},
     "output_type": "execute_result"
    }
   ],
   "source": [
    "x.groups()"
   ]
  },
  {
   "attachments": {
    "dd8594d7-966f-4384-a7e4-d2c0bf5302a3.png": {
     "image/png": "[encoded data removed]"
    }
   },
   "cell_type": "markdown",
   "id": "cce8b567-d889-4c62-bc69-bc354970d3a1",
   "metadata": {},
   "source": [
    "![image.png](attachment:dd8594d7-966f-4384-a7e4-d2c0bf5302a3.png)"
   ]
  },
  {
   "cell_type": "code",
   "execution_count": null,
   "id": "6bec5538-9b40-49d3-be1f-4738361b6cef",
   "metadata": {},
   "outputs": [],
   "source": []
  }
 ],
 "metadata": {
  "kernelspec": {
   "display_name": "Python 3",
   "language": "python",
   "name": "python3"
  },
  "language_info": {
   "codemirror_mode": {
    "name": "ipython",
    "version": 3
   },
   "file_extension": ".py",
   "mimetype": "text/x-python",
   "name": "python",
   "nbconvert_exporter": "python",
   "pygments_lexer": "ipython3",
   "version": "3.7.10"
  }
 },
 "nbformat": 4,
 "nbformat_minor": 5
}
