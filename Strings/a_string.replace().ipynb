{
 "cells": [
  {
   "cell_type": "markdown",
   "id": "bb615e76-24ed-4df3-9f4a-8ed8c0c20ac0",
   "metadata": {},
   "source": [
    "# a_string.replace(<font color = red>old_subString,new_subString</font>,<font color = orange>count</font>)\n",
    ">old_subString = this string will be replaced by the new string</br>\n",
    ">new_subString = this string replaces the old string\n",
    ">count = it is optional if specified it replaces for the number times passed in count and must be an integer\n",
    "    \n"
   ]
  },
  {
   "cell_type": "code",
   "execution_count": 5,
   "id": "4e33f9b2-4da9-43b6-9af8-60728ad656e9",
   "metadata": {},
   "outputs": [
    {
     "data": {
      "text/plain": [
       "' How to apply replace method in python ?test1 test1 test1'"
      ]
     },
     "execution_count": 5,
     "metadata": {},
     "output_type": "execute_result"
    }
   ],
   "source": [
    "a_string = \" How to use replace method in python ?test1 test1 test1\"\n",
    "a_string = a_string.replace(\"use\", \"apply\") # string needs to be re assigned as strings are immutable\n",
    "a_string"
   ]
  },
  {
   "cell_type": "code",
   "execution_count": 6,
   "id": "1d07cf9c-7b66-4429-9e73-537adc7e87a9",
   "metadata": {},
   "outputs": [
    {
     "data": {
      "text/plain": [
       "' How to apply replace method in python ?? ? test1'"
      ]
     },
     "execution_count": 6,
     "metadata": {},
     "output_type": "execute_result"
    }
   ],
   "source": [
    "a_string = a_string.replace(\"test1\",\"?\",2)\n",
    "a_string\n"
   ]
  },
  {
   "cell_type": "markdown",
   "id": "621ed2e3-fe93-480d-8502-6fca89ea0884",
   "metadata": {},
   "source": [
    "**As the test1 part is found 3 times but is replaced only 2 times as passed in count**"
   ]
  },
  {
   "cell_type": "code",
   "execution_count": null,
   "id": "a4c5dba0-d819-43e8-9ecb-8171afa001dc",
   "metadata": {},
   "outputs": [],
   "source": []
  }
 ],
 "metadata": {
  "kernelspec": {
   "display_name": "Python 3",
   "language": "python",
   "name": "python3"
  },
  "language_info": {
   "codemirror_mode": {
    "name": "ipython",
    "version": 3
   },
   "file_extension": ".py",
   "mimetype": "text/x-python",
   "name": "python",
   "nbconvert_exporter": "python",
   "pygments_lexer": "ipython3",
   "version": "3.7.10"
  }
 },
 "nbformat": 4,
 "nbformat_minor": 5
}
