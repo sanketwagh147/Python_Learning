{
 "cells": [
  {
   "cell_type": "markdown",
   "id": "e8ca75e8-c426-4781-980d-e03076a2f631",
   "metadata": {},
   "source": [
    "# a_string.format() "
   ]
  },
  {
   "cell_type": "code",
   "execution_count": 1,
   "id": "d2345060-4c17-40e5-a849-2a3988b7cfbe",
   "metadata": {},
   "outputs": [
    {
     "name": "stdout",
     "output_type": "stream",
     "text": [
      "This is a test string to test string formatting 123\n"
     ]
    }
   ],
   "source": [
    "text = \"This is a test string to test string formatting {}{}{}\"\n",
    "a_list = [\"1\", \"2\", \"3\"]\n",
    "print(text.format(*a_list))"
   ]
  },
  {
   "cell_type": "markdown",
   "id": "ca9d3ef3-4ba4-4255-9e2c-0d8e2c63f053",
   "metadata": {},
   "source": [
    "* After modifying {} in text *"
   ]
  },
  {
   "cell_type": "code",
   "execution_count": 17,
   "id": "e536ff18-149b-4487-b9f7-4d3e9dd90e68",
   "metadata": {},
   "outputs": [
    {
     "name": "stdout",
     "output_type": "stream",
     "text": [
      "This is a test string to test string formatting !!1!! ##2## $$3$$\n"
     ]
    }
   ],
   "source": [
    "text = \"This is a test string to test string formatting {0:!^5} {1:#^5} {2:$^5}\"\n",
    "a_list = [\"1\", \"2\", \"3\"]\n",
    "print(text.format(*a_list))"
   ]
  },
  {
   "cell_type": "code",
   "execution_count": null,
   "id": "b8788aa7-a015-407f-acfa-8fddbb731bc9",
   "metadata": {},
   "outputs": [],
   "source": []
  }
 ],
 "metadata": {
  "kernelspec": {
   "display_name": "Python 3",
   "language": "python",
   "name": "python3"
  },
  "language_info": {
   "codemirror_mode": {
    "name": "ipython",
    "version": 3
   },
   "file_extension": ".py",
   "mimetype": "text/x-python",
   "name": "python",
   "nbconvert_exporter": "python",
   "pygments_lexer": "ipython3",
   "version": "3.7.3"
  }
 },
 "nbformat": 4,
 "nbformat_minor": 5
}
