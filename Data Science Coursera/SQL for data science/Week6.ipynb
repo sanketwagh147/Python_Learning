{
 "cells": [
  {
   "cell_type": "markdown",
   "id": "8c983395-cd5b-4ae3-8614-0f0896a1c5f9",
   "metadata": {},
   "source": [
    "# Week 6 IBM data science Database and SQL (Honors)"
   ]
  },
  {
   "cell_type": "code",
   "execution_count": 1,
   "id": "216bda60-6da2-4850-8db1-cf266b1fcfa8",
   "metadata": {},
   "outputs": [
    {
     "name": "stdout",
     "output_type": "stream",
     "text": [
      "Collecting sqlalchemy==1.3.9\n",
      "  Using cached SQLAlchemy-1.3.9-cp37-cp37m-win_amd64.whl\n",
      "Installing collected packages: sqlalchemy\n",
      "  Attempting uninstall: sqlalchemy\n",
      "    Found existing installation: SQLAlchemy 1.3.23\n",
      "    Uninstalling SQLAlchemy-1.3.23:\n"
     ]
    },
    {
     "name": "stderr",
     "output_type": "stream",
     "text": [
      "WARNING: Ignoring invalid distribution -lalchemy (c:\\programdata\\anaconda3\\lib\\site-packages)\n",
      "WARNING: Ignoring invalid distribution -qlalchemy (c:\\programdata\\anaconda3\\lib\\site-packages)\n",
      "WARNING: Ignoring invalid distribution -lalchemy (c:\\programdata\\anaconda3\\lib\\site-packages)\n",
      "WARNING: Ignoring invalid distribution - (c:\\programdata\\anaconda3\\lib\\site-packages)\n",
      "WARNING: Ignoring invalid distribution -egex (c:\\programdata\\anaconda3\\lib\\site-packages)\n",
      "WARNING: Ignoring invalid distribution -lalchemy (c:\\programdata\\anaconda3\\lib\\site-packages)\n",
      "WARNING: Ignoring invalid distribution -qlalchemy (c:\\programdata\\anaconda3\\lib\\site-packages)\n",
      "WARNING: Ignoring invalid distribution -lalchemy (c:\\programdata\\anaconda3\\lib\\site-packages)\n",
      "WARNING: Ignoring invalid distribution - (c:\\programdata\\anaconda3\\lib\\site-packages)\n",
      "WARNING: Ignoring invalid distribution -egex (c:\\programdata\\anaconda3\\lib\\site-packages)\n",
      "WARNING: Ignoring invalid distribution -lalchemy (c:\\programdata\\anaconda3\\lib\\site-packages)\n",
      "WARNING: Ignoring invalid distribution -qlalchemy (c:\\programdata\\anaconda3\\lib\\site-packages)\n",
      "WARNING: Ignoring invalid distribution -lalchemy (c:\\programdata\\anaconda3\\lib\\site-packages)\n",
      "WARNING: Ignoring invalid distribution - (c:\\programdata\\anaconda3\\lib\\site-packages)\n",
      "WARNING: Ignoring invalid distribution -egex (c:\\programdata\\anaconda3\\lib\\site-packages)\n",
      "    WARNING: Ignoring invalid distribution -lalchemy (c:\\programdata\\anaconda3\\lib\\site-packages)\n",
      "    WARNING: Ignoring invalid distribution -qlalchemy (c:\\programdata\\anaconda3\\lib\\site-packages)\n",
      "    WARNING: Ignoring invalid distribution -lalchemy (c:\\programdata\\anaconda3\\lib\\site-packages)\n",
      "    WARNING: Ignoring invalid distribution - (c:\\programdata\\anaconda3\\lib\\site-packages)\n",
      "    WARNING: Ignoring invalid distribution -egex (c:\\programdata\\anaconda3\\lib\\site-packages)\n",
      "ERROR: Could not install packages due to an OSError: [WinError 5] Access is denied: 'c:\\\\programdata\\\\anaconda3\\\\lib\\\\site-packages\\\\sqlalchemy-1.3.23.dist-info\\\\direct_url.json'\n",
      "Consider using the `--user` option or check the permissions.\n",
      "\n",
      "WARNING: Ignoring invalid distribution -lalchemy (c:\\programdata\\anaconda3\\lib\\site-packages)\n",
      "WARNING: Ignoring invalid distribution -qlalchemy (c:\\programdata\\anaconda3\\lib\\site-packages)\n",
      "WARNING: Ignoring invalid distribution -lalchemy (c:\\programdata\\anaconda3\\lib\\site-packages)\n",
      "WARNING: Ignoring invalid distribution - (c:\\programdata\\anaconda3\\lib\\site-packages)\n",
      "WARNING: Ignoring invalid distribution -egex (c:\\programdata\\anaconda3\\lib\\site-packages)\n",
      "WARNING: Ignoring invalid distribution -lalchemy (c:\\programdata\\anaconda3\\lib\\site-packages)\n",
      "WARNING: Ignoring invalid distribution -qlalchemy (c:\\programdata\\anaconda3\\lib\\site-packages)\n",
      "WARNING: Ignoring invalid distribution -lalchemy (c:\\programdata\\anaconda3\\lib\\site-packages)\n",
      "WARNING: Ignoring invalid distribution - (c:\\programdata\\anaconda3\\lib\\site-packages)\n",
      "WARNING: Ignoring invalid distribution -egex (c:\\programdata\\anaconda3\\lib\\site-packages)\n",
      "WARNING: Ignoring invalid distribution -lalchemy (c:\\programdata\\anaconda3\\lib\\site-packages)\n",
      "WARNING: Ignoring invalid distribution -qlalchemy (c:\\programdata\\anaconda3\\lib\\site-packages)\n",
      "WARNING: Ignoring invalid distribution -lalchemy (c:\\programdata\\anaconda3\\lib\\site-packages)\n",
      "WARNING: Ignoring invalid distribution - (c:\\programdata\\anaconda3\\lib\\site-packages)\n",
      "WARNING: Ignoring invalid distribution -egex (c:\\programdata\\anaconda3\\lib\\site-packages)\n"
     ]
    },
    {
     "name": "stdout",
     "output_type": "stream",
     "text": [
      "Requirement already satisfied: ibm_db_sa in c:\\programdata\\anaconda3\\lib\\site-packages (0.3.7)\n",
      "Requirement already satisfied: ibm-db>=2.0.0 in c:\\programdata\\anaconda3\\lib\\site-packages (from ibm_db_sa) (3.0.4)\n",
      "Requirement already satisfied: sqlalchemy>=0.7.3 in c:\\programdata\\anaconda3\\lib\\site-packages (from ibm_db_sa) (1.3.23)\n"
     ]
    },
    {
     "name": "stderr",
     "output_type": "stream",
     "text": [
      "WARNING: Ignoring invalid distribution -lalchemy (c:\\programdata\\anaconda3\\lib\\site-packages)\n",
      "WARNING: Ignoring invalid distribution -qlalchemy (c:\\programdata\\anaconda3\\lib\\site-packages)\n",
      "WARNING: Ignoring invalid distribution -lalchemy (c:\\programdata\\anaconda3\\lib\\site-packages)\n",
      "WARNING: Ignoring invalid distribution - (c:\\programdata\\anaconda3\\lib\\site-packages)\n",
      "WARNING: Ignoring invalid distribution -egex (c:\\programdata\\anaconda3\\lib\\site-packages)\n",
      "WARNING: Ignoring invalid distribution -lalchemy (c:\\programdata\\anaconda3\\lib\\site-packages)\n",
      "WARNING: Ignoring invalid distribution -qlalchemy (c:\\programdata\\anaconda3\\lib\\site-packages)\n",
      "WARNING: Ignoring invalid distribution -lalchemy (c:\\programdata\\anaconda3\\lib\\site-packages)\n",
      "WARNING: Ignoring invalid distribution - (c:\\programdata\\anaconda3\\lib\\site-packages)\n",
      "WARNING: Ignoring invalid distribution -egex (c:\\programdata\\anaconda3\\lib\\site-packages)\n",
      "WARNING: Ignoring invalid distribution -lalchemy (c:\\programdata\\anaconda3\\lib\\site-packages)\n",
      "WARNING: Ignoring invalid distribution -qlalchemy (c:\\programdata\\anaconda3\\lib\\site-packages)\n",
      "WARNING: Ignoring invalid distribution -lalchemy (c:\\programdata\\anaconda3\\lib\\site-packages)\n",
      "WARNING: Ignoring invalid distribution - (c:\\programdata\\anaconda3\\lib\\site-packages)\n",
      "WARNING: Ignoring invalid distribution -egex (c:\\programdata\\anaconda3\\lib\\site-packages)\n",
      "WARNING: Ignoring invalid distribution -lalchemy (c:\\programdata\\anaconda3\\lib\\site-packages)\n",
      "WARNING: Ignoring invalid distribution -qlalchemy (c:\\programdata\\anaconda3\\lib\\site-packages)\n",
      "WARNING: Ignoring invalid distribution -lalchemy (c:\\programdata\\anaconda3\\lib\\site-packages)\n",
      "WARNING: Ignoring invalid distribution - (c:\\programdata\\anaconda3\\lib\\site-packages)\n",
      "WARNING: Ignoring invalid distribution -egex (c:\\programdata\\anaconda3\\lib\\site-packages)\n",
      "WARNING: Ignoring invalid distribution -lalchemy (c:\\programdata\\anaconda3\\lib\\site-packages)\n",
      "WARNING: Ignoring invalid distribution -qlalchemy (c:\\programdata\\anaconda3\\lib\\site-packages)\n",
      "WARNING: Ignoring invalid distribution -lalchemy (c:\\programdata\\anaconda3\\lib\\site-packages)\n",
      "WARNING: Ignoring invalid distribution - (c:\\programdata\\anaconda3\\lib\\site-packages)\n",
      "WARNING: Ignoring invalid distribution -egex (c:\\programdata\\anaconda3\\lib\\site-packages)\n",
      "WARNING: Ignoring invalid distribution -lalchemy (c:\\programdata\\anaconda3\\lib\\site-packages)\n",
      "WARNING: Ignoring invalid distribution -qlalchemy (c:\\programdata\\anaconda3\\lib\\site-packages)\n",
      "WARNING: Ignoring invalid distribution -lalchemy (c:\\programdata\\anaconda3\\lib\\site-packages)\n",
      "WARNING: Ignoring invalid distribution - (c:\\programdata\\anaconda3\\lib\\site-packages)\n",
      "WARNING: Ignoring invalid distribution -egex (c:\\programdata\\anaconda3\\lib\\site-packages)\n"
     ]
    }
   ],
   "source": [
    "!pip install sqlalchemy==1.3.9\n",
    "!pip install ibm_db_sa"
   ]
  },
  {
   "cell_type": "code",
   "execution_count": 1,
   "id": "eb339157-8fb6-44cd-8c76-caaa723b0916",
   "metadata": {},
   "outputs": [],
   "source": [
    "%load_ext sql"
   ]
  },
  {
   "cell_type": "code",
   "execution_count": 2,
   "id": "154bc2f3-7154-4bc5-a0ff-a3e337ca7fdb",
   "metadata": {},
   "outputs": [
    {
     "data": {
      "text/plain": [
       "'Connected: mgr61801@bludb'"
      ]
     },
     "execution_count": 2,
     "metadata": {},
     "output_type": "execute_result"
    }
   ],
   "source": [
    "%sql ibm_db_sa://mgr61801:aG6rnocuLnVjRZCo@0c77d6f2-5da9-48a9-81f8-86b520b87518.bs2io90l08kqb1od8lcg.databases.appdomain.cloud:31198/bludb?security=SSL"
   ]
  },
  {
   "cell_type": "code",
   "execution_count": 4,
   "id": "d4ffd554-4220-4f56-b303-93cceba332a1",
   "metadata": {},
   "outputs": [
    {
     "name": "stdout",
     "output_type": "stream",
     "text": [
      " * ibm_db_sa://mgr61801:***@0c77d6f2-5da9-48a9-81f8-86b520b87518.bs2io90l08kqb1od8lcg.databases.appdomain.cloud:31198/bludb\n",
      "Done.\n"
     ]
    },
    {
     "data": {
      "text/html": [
       "<table>\n",
       "    <thead>\n",
       "        <tr>\n",
       "            <th>serial_number</th>\n",
       "            <th>name</th>\n",
       "            <th>name1</th>\n",
       "            <th>name2</th>\n",
       "            <th>name3</th>\n",
       "        </tr>\n",
       "    </thead>\n",
       "    <tbody>\n",
       "        <tr>\n",
       "            <td>1</td>\n",
       "            <td>sanket</td>\n",
       "            <td>prada</td>\n",
       "            <td>waghya</td>\n",
       "            <td>jigar</td>\n",
       "        </tr>\n",
       "        <tr>\n",
       "            <td>2</td>\n",
       "            <td>sanket1</td>\n",
       "            <td>prada1</td>\n",
       "            <td>waghya1</td>\n",
       "            <td>jigar1</td>\n",
       "        </tr>\n",
       "        <tr>\n",
       "            <td>3</td>\n",
       "            <td>7IMF7</td>\n",
       "            <td>8NMTC</td>\n",
       "            <td>XCL66</td>\n",
       "            <td>KZUD3</td>\n",
       "        </tr>\n",
       "        <tr>\n",
       "            <td>4</td>\n",
       "            <td>GY4T8</td>\n",
       "            <td>PC4SI</td>\n",
       "            <td>XRTSK</td>\n",
       "            <td>Y0O4J</td>\n",
       "        </tr>\n",
       "        <tr>\n",
       "            <td>5</td>\n",
       "            <td>5DNIQ</td>\n",
       "            <td>FKIZT</td>\n",
       "            <td>Q63GC</td>\n",
       "            <td>CS4MF</td>\n",
       "        </tr>\n",
       "        <tr>\n",
       "            <td>6</td>\n",
       "            <td>Q0SCT</td>\n",
       "            <td>BBLTU</td>\n",
       "            <td>WFD5R</td>\n",
       "            <td>PJHQU</td>\n",
       "        </tr>\n",
       "        <tr>\n",
       "            <td>7</td>\n",
       "            <td>31ULI</td>\n",
       "            <td>66BKA</td>\n",
       "            <td>M3ESZ</td>\n",
       "            <td>XKFD5</td>\n",
       "        </tr>\n",
       "    </tbody>\n",
       "</table>"
      ],
      "text/plain": [
       "[(1, 'sanket', 'prada', 'waghya', 'jigar'),\n",
       " (2, 'sanket1', 'prada1', 'waghya1', 'jigar1'),\n",
       " (3, '7IMF7', '8NMTC', 'XCL66', 'KZUD3'),\n",
       " (4, 'GY4T8', 'PC4SI', 'XRTSK', 'Y0O4J'),\n",
       " (5, '5DNIQ', 'FKIZT', 'Q63GC', 'CS4MF'),\n",
       " (6, 'Q0SCT', 'BBLTU', 'WFD5R', 'PJHQU'),\n",
       " (7, '31ULI', '66BKA', 'M3ESZ', 'XKFD5')]"
      ]
     },
     "execution_count": 4,
     "metadata": {},
     "output_type": "execute_result"
    }
   ],
   "source": [
    "%sql select * from testtable1"
   ]
  },
  {
   "cell_type": "code",
   "execution_count": 11,
   "id": "f360a333-936b-4e0b-857e-e2a8594346b3",
   "metadata": {},
   "outputs": [
    {
     "name": "stdout",
     "output_type": "stream",
     "text": [
      " * ibm_db_sa://mgr61801:***@0c77d6f2-5da9-48a9-81f8-86b520b87518.bs2io90l08kqb1od8lcg.databases.appdomain.cloud:31198/bludb\n",
      "Done.\n"
     ]
    },
    {
     "data": {
      "text/plain": [
       "[]"
      ]
     },
     "execution_count": 11,
     "metadata": {},
     "output_type": "execute_result"
    }
   ],
   "source": [
    "%%sql\n",
    "CREATE VIEW testview (column1, column2, column3) as select serial_number, name, name2 \n",
    "from testtable1\n",
    "where serial_number < 5;"
   ]
  },
  {
   "cell_type": "code",
   "execution_count": 23,
   "id": "3c534f3e-2dfc-4a67-b4ca-47f6b2c1fc05",
   "metadata": {},
   "outputs": [
    {
     "name": "stdout",
     "output_type": "stream",
     "text": [
      " * ibm_db_sa://mgr61801:***@0c77d6f2-5da9-48a9-81f8-86b520b87518.bs2io90l08kqb1od8lcg.databases.appdomain.cloud:31198/bludb\n",
      "Done.\n"
     ]
    },
    {
     "data": {
      "text/plain": [
       "[]"
      ]
     },
     "execution_count": 23,
     "metadata": {},
     "output_type": "execute_result"
    }
   ],
   "source": [
    "%%sql\n",
    "create view empinfo2 (empID, firstName, lastName, Address, jobId, ManagerId, DepId)\n",
    "as select emp_id, f_name, l_name, address, job_id, manager_id, dep_id\n",
    "from employees\n",
    "where manager_id = '30002';"
   ]
  },
  {
   "cell_type": "code",
   "execution_count": 14,
   "id": "c66335d1-9ebc-4f8f-bd10-6f343c6846ae",
   "metadata": {},
   "outputs": [
    {
     "name": "stdout",
     "output_type": "stream",
     "text": [
      " * ibm_db_sa://mgr61801:***@0c77d6f2-5da9-48a9-81f8-86b520b87518.bs2io90l08kqb1od8lcg.databases.appdomain.cloud:31198/bludb\n",
      "Done.\n"
     ]
    },
    {
     "data": {
      "text/html": [
       "<table>\n",
       "    <thead>\n",
       "        <tr>\n",
       "            <th>empid</th>\n",
       "            <th>firstname</th>\n",
       "            <th>lastname</th>\n",
       "            <th>address</th>\n",
       "            <th>jobid</th>\n",
       "            <th>managerid</th>\n",
       "            <th>depid</th>\n",
       "        </tr>\n",
       "    </thead>\n",
       "    <tbody>\n",
       "        <tr>\n",
       "            <td>E1001    </td>\n",
       "            <td>John</td>\n",
       "            <td>Thomas</td>\n",
       "            <td>5631 Rice, OakPark,IL</td>\n",
       "            <td>100      </td>\n",
       "            <td>30001    </td>\n",
       "            <td>2        </td>\n",
       "        </tr>\n",
       "        <tr>\n",
       "            <td>E1002    </td>\n",
       "            <td>Alice</td>\n",
       "            <td>James</td>\n",
       "            <td>980 Berry ln, Elgin,IL</td>\n",
       "            <td>200      </td>\n",
       "            <td>30002    </td>\n",
       "            <td>5        </td>\n",
       "        </tr>\n",
       "        <tr>\n",
       "            <td>E1003    </td>\n",
       "            <td>Steve</td>\n",
       "            <td>Wells</td>\n",
       "            <td>291 Springs, Gary,IL</td>\n",
       "            <td>300      </td>\n",
       "            <td>30002    </td>\n",
       "            <td>5        </td>\n",
       "        </tr>\n",
       "        <tr>\n",
       "            <td>E1004    </td>\n",
       "            <td>Santosh</td>\n",
       "            <td>Kumar</td>\n",
       "            <td>511 Aurora Av, Aurora,IL</td>\n",
       "            <td>400      </td>\n",
       "            <td>30004    </td>\n",
       "            <td>5        </td>\n",
       "        </tr>\n",
       "        <tr>\n",
       "            <td>E1005    </td>\n",
       "            <td>Ahmed</td>\n",
       "            <td>Hussain</td>\n",
       "            <td>216 Oak Tree, Geneva,IL</td>\n",
       "            <td>500      </td>\n",
       "            <td>30001    </td>\n",
       "            <td>2        </td>\n",
       "        </tr>\n",
       "        <tr>\n",
       "            <td>E1006    </td>\n",
       "            <td>Nancy</td>\n",
       "            <td>Allen</td>\n",
       "            <td>111 Green Pl, Elgin,IL</td>\n",
       "            <td>600      </td>\n",
       "            <td>30001    </td>\n",
       "            <td>2        </td>\n",
       "        </tr>\n",
       "        <tr>\n",
       "            <td>E1007    </td>\n",
       "            <td>Mary</td>\n",
       "            <td>Thomas</td>\n",
       "            <td>100 Rose Pl, Gary,IL</td>\n",
       "            <td>650      </td>\n",
       "            <td>30003    </td>\n",
       "            <td>7        </td>\n",
       "        </tr>\n",
       "        <tr>\n",
       "            <td>E1008    </td>\n",
       "            <td>Bharath</td>\n",
       "            <td>Gupta</td>\n",
       "            <td>145 Berry Ln, Naperville,IL</td>\n",
       "            <td>660      </td>\n",
       "            <td>30003    </td>\n",
       "            <td>7        </td>\n",
       "        </tr>\n",
       "        <tr>\n",
       "            <td>E1009    </td>\n",
       "            <td>Andrea</td>\n",
       "            <td>Jones</td>\n",
       "            <td>120 Fall Creek, Gary,IL</td>\n",
       "            <td>234      </td>\n",
       "            <td>30003    </td>\n",
       "            <td>7        </td>\n",
       "        </tr>\n",
       "        <tr>\n",
       "            <td>E1010    </td>\n",
       "            <td>Ann</td>\n",
       "            <td>Jacob</td>\n",
       "            <td>111 Britany Springs,Elgin,IL</td>\n",
       "            <td>220      </td>\n",
       "            <td>30004    </td>\n",
       "            <td>5        </td>\n",
       "        </tr>\n",
       "    </tbody>\n",
       "</table>"
      ],
      "text/plain": [
       "[('E1001    ', 'John', 'Thomas', '5631 Rice, OakPark,IL', '100      ', '30001    ', '2        '),\n",
       " ('E1002    ', 'Alice', 'James', '980 Berry ln, Elgin,IL', '200      ', '30002    ', '5        '),\n",
       " ('E1003    ', 'Steve', 'Wells', '291 Springs, Gary,IL', '300      ', '30002    ', '5        '),\n",
       " ('E1004    ', 'Santosh', 'Kumar', '511 Aurora Av, Aurora,IL', '400      ', '30004    ', '5        '),\n",
       " ('E1005    ', 'Ahmed', 'Hussain', '216 Oak Tree, Geneva,IL', '500      ', '30001    ', '2        '),\n",
       " ('E1006    ', 'Nancy', 'Allen', '111 Green Pl, Elgin,IL', '600      ', '30001    ', '2        '),\n",
       " ('E1007    ', 'Mary', 'Thomas', '100 Rose Pl, Gary,IL', '650      ', '30003    ', '7        '),\n",
       " ('E1008    ', 'Bharath', 'Gupta', '145 Berry Ln, Naperville,IL', '660      ', '30003    ', '7        '),\n",
       " ('E1009    ', 'Andrea', 'Jones', '120 Fall Creek, Gary,IL', '234      ', '30003    ', '7        '),\n",
       " ('E1010    ', 'Ann', 'Jacob', '111 Britany Springs,Elgin,IL', '220      ', '30004    ', '5        ')]"
      ]
     },
     "execution_count": 14,
     "metadata": {},
     "output_type": "execute_result"
    }
   ],
   "source": [
    "%sql select * from empinfo"
   ]
  },
  {
   "cell_type": "code",
   "execution_count": 15,
   "id": "006f07b1-a1c8-4702-98b3-978442496234",
   "metadata": {},
   "outputs": [
    {
     "name": "stdout",
     "output_type": "stream",
     "text": [
      " * ibm_db_sa://mgr61801:***@0c77d6f2-5da9-48a9-81f8-86b520b87518.bs2io90l08kqb1od8lcg.databases.appdomain.cloud:31198/bludb\n",
      "Done.\n"
     ]
    },
    {
     "data": {
      "text/html": [
       "<table>\n",
       "    <thead>\n",
       "        <tr>\n",
       "            <th>column1</th>\n",
       "            <th>column2</th>\n",
       "            <th>column3</th>\n",
       "        </tr>\n",
       "    </thead>\n",
       "    <tbody>\n",
       "        <tr>\n",
       "            <td>1</td>\n",
       "            <td>sanket</td>\n",
       "            <td>waghya</td>\n",
       "        </tr>\n",
       "        <tr>\n",
       "            <td>2</td>\n",
       "            <td>sanket1</td>\n",
       "            <td>waghya1</td>\n",
       "        </tr>\n",
       "        <tr>\n",
       "            <td>3</td>\n",
       "            <td>7IMF7</td>\n",
       "            <td>XCL66</td>\n",
       "        </tr>\n",
       "        <tr>\n",
       "            <td>4</td>\n",
       "            <td>GY4T8</td>\n",
       "            <td>XRTSK</td>\n",
       "        </tr>\n",
       "    </tbody>\n",
       "</table>"
      ],
      "text/plain": [
       "[(1, 'sanket', 'waghya'),\n",
       " (2, 'sanket1', 'waghya1'),\n",
       " (3, '7IMF7', 'XCL66'),\n",
       " (4, 'GY4T8', 'XRTSK')]"
      ]
     },
     "execution_count": 15,
     "metadata": {},
     "output_type": "execute_result"
    }
   ],
   "source": [
    "%sql select * from testview"
   ]
  },
  {
   "cell_type": "code",
   "execution_count": 26,
   "id": "97a13be8-95be-43dd-b04c-bf9fde0c0444",
   "metadata": {},
   "outputs": [
    {
     "name": "stdout",
     "output_type": "stream",
     "text": [
      " * ibm_db_sa://mgr61801:***@0c77d6f2-5da9-48a9-81f8-86b520b87518.bs2io90l08kqb1od8lcg.databases.appdomain.cloud:31198/bludb\n",
      "Done.\n"
     ]
    },
    {
     "data": {
      "text/html": [
       "<table>\n",
       "    <thead>\n",
       "        <tr>\n",
       "            <th>empid</th>\n",
       "            <th>firstname</th>\n",
       "            <th>lastname</th>\n",
       "            <th>address</th>\n",
       "            <th>jobid</th>\n",
       "            <th>managerid</th>\n",
       "            <th>depid</th>\n",
       "        </tr>\n",
       "    </thead>\n",
       "    <tbody>\n",
       "        <tr>\n",
       "            <td>E1002    </td>\n",
       "            <td>Alice</td>\n",
       "            <td>James</td>\n",
       "            <td>980 Berry ln, Elgin,IL</td>\n",
       "            <td>200      </td>\n",
       "            <td>30002    </td>\n",
       "            <td>5        </td>\n",
       "        </tr>\n",
       "        <tr>\n",
       "            <td>E1003    </td>\n",
       "            <td>Steve</td>\n",
       "            <td>Wells</td>\n",
       "            <td>291 Springs, Gary,IL</td>\n",
       "            <td>300      </td>\n",
       "            <td>30002    </td>\n",
       "            <td>5        </td>\n",
       "        </tr>\n",
       "    </tbody>\n",
       "</table>"
      ],
      "text/plain": [
       "[('E1002    ', 'Alice', 'James', '980 Berry ln, Elgin,IL', '200      ', '30002    ', '5        '),\n",
       " ('E1003    ', 'Steve', 'Wells', '291 Springs, Gary,IL', '300      ', '30002    ', '5        ')]"
      ]
     },
     "execution_count": 26,
     "metadata": {},
     "output_type": "execute_result"
    }
   ],
   "source": [
    "%sql select * from empinfo2"
   ]
  },
  {
   "cell_type": "code",
   "execution_count": 28,
   "id": "89a2dc13-ac55-4847-8464-13c59831bbbe",
   "metadata": {},
   "outputs": [
    {
     "name": "stdout",
     "output_type": "stream",
     "text": [
      " * ibm_db_sa://mgr61801:***@0c77d6f2-5da9-48a9-81f8-86b520b87518.bs2io90l08kqb1od8lcg.databases.appdomain.cloud:31198/bludb\n",
      "Done.\n"
     ]
    },
    {
     "data": {
      "text/plain": [
       "[]"
      ]
     },
     "execution_count": 28,
     "metadata": {},
     "output_type": "execute_result"
    }
   ],
   "source": [
    "%%sql\n",
    "create view testview2 \n",
    "as select serial_number, name, name2\n",
    "from testtable1\n"
   ]
  },
  {
   "cell_type": "code",
   "execution_count": 30,
   "id": "e97b695d-3873-41e5-9127-e9956184166c",
   "metadata": {},
   "outputs": [
    {
     "name": "stdout",
     "output_type": "stream",
     "text": [
      " * ibm_db_sa://mgr61801:***@0c77d6f2-5da9-48a9-81f8-86b520b87518.bs2io90l08kqb1od8lcg.databases.appdomain.cloud:31198/bludb\n",
      "Done.\n"
     ]
    },
    {
     "data": {
      "text/html": [
       "<table>\n",
       "    <thead>\n",
       "        <tr>\n",
       "            <th>serial_number</th>\n",
       "            <th>name</th>\n",
       "            <th>name2</th>\n",
       "        </tr>\n",
       "    </thead>\n",
       "    <tbody>\n",
       "        <tr>\n",
       "            <td>1</td>\n",
       "            <td>sanket</td>\n",
       "            <td>waghya</td>\n",
       "        </tr>\n",
       "        <tr>\n",
       "            <td>2</td>\n",
       "            <td>sanket1</td>\n",
       "            <td>waghya1</td>\n",
       "        </tr>\n",
       "        <tr>\n",
       "            <td>3</td>\n",
       "            <td>7IMF7</td>\n",
       "            <td>XCL66</td>\n",
       "        </tr>\n",
       "        <tr>\n",
       "            <td>4</td>\n",
       "            <td>GY4T8</td>\n",
       "            <td>XRTSK</td>\n",
       "        </tr>\n",
       "        <tr>\n",
       "            <td>5</td>\n",
       "            <td>5DNIQ</td>\n",
       "            <td>Q63GC</td>\n",
       "        </tr>\n",
       "        <tr>\n",
       "            <td>6</td>\n",
       "            <td>Q0SCT</td>\n",
       "            <td>WFD5R</td>\n",
       "        </tr>\n",
       "        <tr>\n",
       "            <td>7</td>\n",
       "            <td>31ULI</td>\n",
       "            <td>M3ESZ</td>\n",
       "        </tr>\n",
       "    </tbody>\n",
       "</table>"
      ],
      "text/plain": [
       "[(1, 'sanket', 'waghya'),\n",
       " (2, 'sanket1', 'waghya1'),\n",
       " (3, '7IMF7', 'XCL66'),\n",
       " (4, 'GY4T8', 'XRTSK'),\n",
       " (5, '5DNIQ', 'Q63GC'),\n",
       " (6, 'Q0SCT', 'WFD5R'),\n",
       " (7, '31ULI', 'M3ESZ')]"
      ]
     },
     "execution_count": 30,
     "metadata": {},
     "output_type": "execute_result"
    }
   ],
   "source": [
    "%sql select * from testview2"
   ]
  },
  {
   "cell_type": "code",
   "execution_count": 31,
   "id": "0d9c9420-6f3b-41e7-b558-11bebcf2c645",
   "metadata": {},
   "outputs": [
    {
     "name": "stdout",
     "output_type": "stream",
     "text": [
      " * ibm_db_sa://mgr61801:***@0c77d6f2-5da9-48a9-81f8-86b520b87518.bs2io90l08kqb1od8lcg.databases.appdomain.cloud:31198/bludb\n",
      "Done.\n"
     ]
    },
    {
     "data": {
      "text/plain": [
       "[]"
      ]
     },
     "execution_count": 31,
     "metadata": {},
     "output_type": "execute_result"
    }
   ],
   "source": [
    "%%sql\n",
    "create view empsalary \n",
    "as select emp_id, f_name, l_name, b_date, sex, salary\n",
    "from employees;"
   ]
  },
  {
   "cell_type": "code",
   "execution_count": 32,
   "id": "9e6fdafe-bcbe-4e30-a056-abf80c5aa954",
   "metadata": {},
   "outputs": [
    {
     "name": "stdout",
     "output_type": "stream",
     "text": [
      " * ibm_db_sa://mgr61801:***@0c77d6f2-5da9-48a9-81f8-86b520b87518.bs2io90l08kqb1od8lcg.databases.appdomain.cloud:31198/bludb\n",
      "Done.\n"
     ]
    },
    {
     "data": {
      "text/html": [
       "<table>\n",
       "    <thead>\n",
       "        <tr>\n",
       "            <th>emp_id</th>\n",
       "            <th>f_name</th>\n",
       "            <th>l_name</th>\n",
       "            <th>b_date</th>\n",
       "            <th>sex</th>\n",
       "            <th>salary</th>\n",
       "        </tr>\n",
       "    </thead>\n",
       "    <tbody>\n",
       "        <tr>\n",
       "            <td>E1001    </td>\n",
       "            <td>John</td>\n",
       "            <td>Thomas</td>\n",
       "            <td>1976-01-09</td>\n",
       "            <td>M</td>\n",
       "            <td>100000.00</td>\n",
       "        </tr>\n",
       "        <tr>\n",
       "            <td>E1002    </td>\n",
       "            <td>Alice</td>\n",
       "            <td>James</td>\n",
       "            <td>1972-07-31</td>\n",
       "            <td>F</td>\n",
       "            <td>80000.00</td>\n",
       "        </tr>\n",
       "        <tr>\n",
       "            <td>E1003    </td>\n",
       "            <td>Steve</td>\n",
       "            <td>Wells</td>\n",
       "            <td>1980-08-10</td>\n",
       "            <td>M</td>\n",
       "            <td>50000.00</td>\n",
       "        </tr>\n",
       "        <tr>\n",
       "            <td>E1004    </td>\n",
       "            <td>Santosh</td>\n",
       "            <td>Kumar</td>\n",
       "            <td>1985-07-20</td>\n",
       "            <td>M</td>\n",
       "            <td>60000.00</td>\n",
       "        </tr>\n",
       "        <tr>\n",
       "            <td>E1005    </td>\n",
       "            <td>Ahmed</td>\n",
       "            <td>Hussain</td>\n",
       "            <td>1981-01-04</td>\n",
       "            <td>M</td>\n",
       "            <td>70000.00</td>\n",
       "        </tr>\n",
       "        <tr>\n",
       "            <td>E1006    </td>\n",
       "            <td>Nancy</td>\n",
       "            <td>Allen</td>\n",
       "            <td>1978-02-06</td>\n",
       "            <td>F</td>\n",
       "            <td>90000.00</td>\n",
       "        </tr>\n",
       "        <tr>\n",
       "            <td>E1007    </td>\n",
       "            <td>Mary</td>\n",
       "            <td>Thomas</td>\n",
       "            <td>1975-05-05</td>\n",
       "            <td>F</td>\n",
       "            <td>65000.00</td>\n",
       "        </tr>\n",
       "        <tr>\n",
       "            <td>E1008    </td>\n",
       "            <td>Bharath</td>\n",
       "            <td>Gupta</td>\n",
       "            <td>1985-05-06</td>\n",
       "            <td>M</td>\n",
       "            <td>65000.00</td>\n",
       "        </tr>\n",
       "        <tr>\n",
       "            <td>E1009    </td>\n",
       "            <td>Andrea</td>\n",
       "            <td>Jones</td>\n",
       "            <td>1990-07-09</td>\n",
       "            <td>F</td>\n",
       "            <td>70000.00</td>\n",
       "        </tr>\n",
       "        <tr>\n",
       "            <td>E1010    </td>\n",
       "            <td>Ann</td>\n",
       "            <td>Jacob</td>\n",
       "            <td>1982-03-30</td>\n",
       "            <td>F</td>\n",
       "            <td>70000.00</td>\n",
       "        </tr>\n",
       "    </tbody>\n",
       "</table>"
      ],
      "text/plain": [
       "[('E1001    ', 'John', 'Thomas', datetime.date(1976, 1, 9), 'M', Decimal('100000.00')),\n",
       " ('E1002    ', 'Alice', 'James', datetime.date(1972, 7, 31), 'F', Decimal('80000.00')),\n",
       " ('E1003    ', 'Steve', 'Wells', datetime.date(1980, 8, 10), 'M', Decimal('50000.00')),\n",
       " ('E1004    ', 'Santosh', 'Kumar', datetime.date(1985, 7, 20), 'M', Decimal('60000.00')),\n",
       " ('E1005    ', 'Ahmed', 'Hussain', datetime.date(1981, 1, 4), 'M', Decimal('70000.00')),\n",
       " ('E1006    ', 'Nancy', 'Allen', datetime.date(1978, 2, 6), 'F', Decimal('90000.00')),\n",
       " ('E1007    ', 'Mary', 'Thomas', datetime.date(1975, 5, 5), 'F', Decimal('65000.00')),\n",
       " ('E1008    ', 'Bharath', 'Gupta', datetime.date(1985, 5, 6), 'M', Decimal('65000.00')),\n",
       " ('E1009    ', 'Andrea', 'Jones', datetime.date(1990, 7, 9), 'F', Decimal('70000.00')),\n",
       " ('E1010    ', 'Ann', 'Jacob', datetime.date(1982, 3, 30), 'F', Decimal('70000.00'))]"
      ]
     },
     "execution_count": 32,
     "metadata": {},
     "output_type": "execute_result"
    }
   ],
   "source": [
    "%sql select * from empsalary limit 10"
   ]
  },
  {
   "cell_type": "code",
   "execution_count": 41,
   "id": "907bec12-b232-4962-9aec-65fd4211dfe5",
   "metadata": {},
   "outputs": [
    {
     "name": "stdout",
     "output_type": "stream",
     "text": [
      " * ibm_db_sa://mgr61801:***@0c77d6f2-5da9-48a9-81f8-86b520b87518.bs2io90l08kqb1od8lcg.databases.appdomain.cloud:31198/bludb\n",
      "Done.\n"
     ]
    },
    {
     "data": {
      "text/plain": [
       "[]"
      ]
     },
     "execution_count": 41,
     "metadata": {},
     "output_type": "execute_result"
    }
   ],
   "source": [
    "%%sql\n",
    "create or replace view empsalary2 as\n",
    "select emp_id, f_name, l_name, b_date, sex, job_title, min_salary, max_salary\n",
    "from employees, jobs /* testing comment */\n",
    "where employees.job_id = jobs.job_ident;"
   ]
  },
  {
   "cell_type": "code",
   "execution_count": 46,
   "id": "9c0c58d1-9d96-44bb-a903-dbf008a19d8c",
   "metadata": {},
   "outputs": [
    {
     "name": "stdout",
     "output_type": "stream",
     "text": [
      " * ibm_db_sa://mgr61801:***@0c77d6f2-5da9-48a9-81f8-86b520b87518.bs2io90l08kqb1od8lcg.databases.appdomain.cloud:31198/bludb\n",
      "Done.\n"
     ]
    },
    {
     "data": {
      "text/html": [
       "<table>\n",
       "    <thead>\n",
       "        <tr>\n",
       "            <th>emp_id</th>\n",
       "            <th>f_name</th>\n",
       "            <th>l_name</th>\n",
       "            <th>b_date</th>\n",
       "            <th>sex</th>\n",
       "            <th>job_title</th>\n",
       "            <th>min_salary</th>\n",
       "            <th>max_salary</th>\n",
       "        </tr>\n",
       "    </thead>\n",
       "    <tbody>\n",
       "        <tr>\n",
       "            <td>E1001    </td>\n",
       "            <td>John</td>\n",
       "            <td>Thomas</td>\n",
       "            <td>1976-01-09</td>\n",
       "            <td>M</td>\n",
       "            <td>Sr. Architect</td>\n",
       "            <td>60000.00</td>\n",
       "            <td>100000.00</td>\n",
       "        </tr>\n",
       "        <tr>\n",
       "            <td>E1002    </td>\n",
       "            <td>Alice</td>\n",
       "            <td>James</td>\n",
       "            <td>1972-07-31</td>\n",
       "            <td>F</td>\n",
       "            <td>Sr.Software Dev</td>\n",
       "            <td>60000.00</td>\n",
       "            <td>80000.00</td>\n",
       "        </tr>\n",
       "        <tr>\n",
       "            <td>E1003    </td>\n",
       "            <td>Steve</td>\n",
       "            <td>Wells</td>\n",
       "            <td>1980-08-10</td>\n",
       "            <td>M</td>\n",
       "            <td>Jr.Software Dev</td>\n",
       "            <td>40000.00</td>\n",
       "            <td>60000.00</td>\n",
       "        </tr>\n",
       "        <tr>\n",
       "            <td>E1004    </td>\n",
       "            <td>Santosh</td>\n",
       "            <td>Kumar</td>\n",
       "            <td>1985-07-20</td>\n",
       "            <td>M</td>\n",
       "            <td>Jr.Software Dev</td>\n",
       "            <td>40000.00</td>\n",
       "            <td>60000.00</td>\n",
       "        </tr>\n",
       "        <tr>\n",
       "            <td>E1005    </td>\n",
       "            <td>Ahmed</td>\n",
       "            <td>Hussain</td>\n",
       "            <td>1981-01-04</td>\n",
       "            <td>M</td>\n",
       "            <td>Jr. Architect</td>\n",
       "            <td>50000.00</td>\n",
       "            <td>70000.00</td>\n",
       "        </tr>\n",
       "        <tr>\n",
       "            <td>E1006    </td>\n",
       "            <td>Nancy</td>\n",
       "            <td>Allen</td>\n",
       "            <td>1978-02-06</td>\n",
       "            <td>F</td>\n",
       "            <td>Lead Architect</td>\n",
       "            <td>70000.00</td>\n",
       "            <td>100000.00</td>\n",
       "        </tr>\n",
       "        <tr>\n",
       "            <td>E1007    </td>\n",
       "            <td>Mary</td>\n",
       "            <td>Thomas</td>\n",
       "            <td>1975-05-05</td>\n",
       "            <td>F</td>\n",
       "            <td>Jr. Designer</td>\n",
       "            <td>60000.00</td>\n",
       "            <td>70000.00</td>\n",
       "        </tr>\n",
       "        <tr>\n",
       "            <td>E1008    </td>\n",
       "            <td>Bharath</td>\n",
       "            <td>Gupta</td>\n",
       "            <td>1985-05-06</td>\n",
       "            <td>M</td>\n",
       "            <td>Jr. Designer</td>\n",
       "            <td>60000.00</td>\n",
       "            <td>70000.00</td>\n",
       "        </tr>\n",
       "        <tr>\n",
       "            <td>E1009    </td>\n",
       "            <td>Andrea</td>\n",
       "            <td>Jones</td>\n",
       "            <td>1990-07-09</td>\n",
       "            <td>F</td>\n",
       "            <td>Sr. Designer</td>\n",
       "            <td>70000.00</td>\n",
       "            <td>90000.00</td>\n",
       "        </tr>\n",
       "        <tr>\n",
       "            <td>E1010    </td>\n",
       "            <td>Ann</td>\n",
       "            <td>Jacob</td>\n",
       "            <td>1982-03-30</td>\n",
       "            <td>F</td>\n",
       "            <td>Sr. Designer</td>\n",
       "            <td>70000.00</td>\n",
       "            <td>90000.00</td>\n",
       "        </tr>\n",
       "    </tbody>\n",
       "</table>"
      ],
      "text/plain": [
       "[('E1001    ', 'John', 'Thomas', datetime.date(1976, 1, 9), 'M', 'Sr. Architect', Decimal('60000.00'), Decimal('100000.00')),\n",
       " ('E1002    ', 'Alice', 'James', datetime.date(1972, 7, 31), 'F', 'Sr.Software Dev', Decimal('60000.00'), Decimal('80000.00')),\n",
       " ('E1003    ', 'Steve', 'Wells', datetime.date(1980, 8, 10), 'M', 'Jr.Software Dev', Decimal('40000.00'), Decimal('60000.00')),\n",
       " ('E1004    ', 'Santosh', 'Kumar', datetime.date(1985, 7, 20), 'M', 'Jr.Software Dev', Decimal('40000.00'), Decimal('60000.00')),\n",
       " ('E1005    ', 'Ahmed', 'Hussain', datetime.date(1981, 1, 4), 'M', 'Jr. Architect', Decimal('50000.00'), Decimal('70000.00')),\n",
       " ('E1006    ', 'Nancy', 'Allen', datetime.date(1978, 2, 6), 'F', 'Lead Architect', Decimal('70000.00'), Decimal('100000.00')),\n",
       " ('E1007    ', 'Mary', 'Thomas', datetime.date(1975, 5, 5), 'F', 'Jr. Designer', Decimal('60000.00'), Decimal('70000.00')),\n",
       " ('E1008    ', 'Bharath', 'Gupta', datetime.date(1985, 5, 6), 'M', 'Jr. Designer', Decimal('60000.00'), Decimal('70000.00')),\n",
       " ('E1009    ', 'Andrea', 'Jones', datetime.date(1990, 7, 9), 'F', 'Sr. Designer', Decimal('70000.00'), Decimal('90000.00')),\n",
       " ('E1010    ', 'Ann', 'Jacob', datetime.date(1982, 3, 30), 'F', 'Sr. Designer', Decimal('70000.00'), Decimal('90000.00'))]"
      ]
     },
     "execution_count": 46,
     "metadata": {},
     "output_type": "execute_result"
    }
   ],
   "source": [
    "%sql select * from empsalary2"
   ]
  },
  {
   "cell_type": "code",
   "execution_count": 43,
   "id": "553b9834-a078-4d7c-82b3-0a6bb1e35818",
   "metadata": {},
   "outputs": [
    {
     "name": "stdout",
     "output_type": "stream",
     "text": [
      " * ibm_db_sa://mgr61801:***@0c77d6f2-5da9-48a9-81f8-86b520b87518.bs2io90l08kqb1od8lcg.databases.appdomain.cloud:31198/bludb\n",
      "Done.\n"
     ]
    },
    {
     "data": {
      "text/plain": [
       "[]"
      ]
     },
     "execution_count": 43,
     "metadata": {},
     "output_type": "execute_result"
    }
   ],
   "source": [
    "%sql drop view empsalay"
   ]
  },
  {
   "cell_type": "code",
   "execution_count": 45,
   "id": "b8916214-15f0-47a2-9406-818cf55e1ade",
   "metadata": {},
   "outputs": [
    {
     "name": "stdout",
     "output_type": "stream",
     "text": [
      " * ibm_db_sa://mgr61801:***@0c77d6f2-5da9-48a9-81f8-86b520b87518.bs2io90l08kqb1od8lcg.databases.appdomain.cloud:31198/bludb\n",
      "(ibm_db_dbi.ProgrammingError) ibm_db_dbi::ProgrammingError: Statement Execute Failed: [IBM][CLI Driver][DB2/LINUXX8664] SQL0204N  \"MGR61801.EMPSALARY\" is an undefined name.  SQLSTATE=42704\\r SQLCODE=-204\n",
      "[SQL: drop view empsalary]\n",
      "(Background on this error at: http://sqlalche.me/e/13/f405)\n"
     ]
    }
   ],
   "source": [
    "%sql drop view empsalary"
   ]
  },
  {
   "cell_type": "code",
   "execution_count": 77,
   "id": "b5c27d33-6436-4677-a212-afb37725e382",
   "metadata": {},
   "outputs": [
    {
     "name": "stdout",
     "output_type": "stream",
     "text": [
      " * ibm_db_sa://mgr61801:***@0c77d6f2-5da9-48a9-81f8-86b520b87518.bs2io90l08kqb1od8lcg.databases.appdomain.cloud:31198/bludb\n",
      "Done.\n",
      "Done.\n",
      "5 rows affected.\n",
      "Done.\n"
     ]
    },
    {
     "data": {
      "text/html": [
       "<table>\n",
       "    <thead>\n",
       "        <tr>\n",
       "            <th>id</th>\n",
       "            <th>animal</th>\n",
       "            <th>saleprice</th>\n",
       "            <th>saledate</th>\n",
       "            <th>quantity</th>\n",
       "        </tr>\n",
       "    </thead>\n",
       "    <tbody>\n",
       "        <tr>\n",
       "            <td>1</td>\n",
       "            <td>Cat</td>\n",
       "            <td>450.09</td>\n",
       "            <td>2018-05-29</td>\n",
       "            <td>9</td>\n",
       "        </tr>\n",
       "        <tr>\n",
       "            <td>2</td>\n",
       "            <td>Dog</td>\n",
       "            <td>666.66</td>\n",
       "            <td>2018-06-01</td>\n",
       "            <td>3</td>\n",
       "        </tr>\n",
       "        <tr>\n",
       "            <td>3</td>\n",
       "            <td>Parrot</td>\n",
       "            <td>50.00</td>\n",
       "            <td>2018-06-04</td>\n",
       "            <td>2</td>\n",
       "        </tr>\n",
       "        <tr>\n",
       "            <td>4</td>\n",
       "            <td>Hamster</td>\n",
       "            <td>60.60</td>\n",
       "            <td>2018-06-11</td>\n",
       "            <td>6</td>\n",
       "        </tr>\n",
       "        <tr>\n",
       "            <td>5</td>\n",
       "            <td>Goldfish</td>\n",
       "            <td>48.48</td>\n",
       "            <td>2018-06-14</td>\n",
       "            <td>24</td>\n",
       "        </tr>\n",
       "    </tbody>\n",
       "</table>"
      ],
      "text/plain": [
       "[(1, 'Cat', Decimal('450.09'), datetime.date(2018, 5, 29), 9),\n",
       " (2, 'Dog', Decimal('666.66'), datetime.date(2018, 6, 1), 3),\n",
       " (3, 'Parrot', Decimal('50.00'), datetime.date(2018, 6, 4), 2),\n",
       " (4, 'Hamster', Decimal('60.60'), datetime.date(2018, 6, 11), 6),\n",
       " (5, 'Goldfish', Decimal('48.48'), datetime.date(2018, 6, 14), 24)]"
      ]
     },
     "execution_count": 77,
     "metadata": {},
     "output_type": "execute_result"
    }
   ],
   "source": [
    "%%sql\n",
    "-- Drop the table in case it exists\n",
    "\n",
    "DROP TABLE PETSALE;\n",
    "\n",
    "-- Create the table\n",
    "\n",
    "CREATE TABLE PETSALE (\n",
    "\tID INTEGER NOT NULL,\n",
    "\tANIMAL VARCHAR(20),\n",
    "\tSALEPRICE DECIMAL(6,2),\n",
    "\tSALEDATE DATE,\n",
    "\tQUANTITY INTEGER,\n",
    "\tPRIMARY KEY (ID)\n",
    "\t);\n",
    "\n",
    "-- Insert sample data into the table\n",
    "\n",
    "INSERT INTO PETSALE VALUES\n",
    "(1,'Cat',450.09,'2018-05-29',9),\n",
    "(2,'Dog',666.66,'2018-06-01',3),\n",
    "(3,'Parrot',50.00,'2018-06-04',2),\n",
    "(4,'Hamster',60.60,'2018-06-11',6),\n",
    "(5,'Goldfish',48.48,'2018-06-14',24);\n",
    "\n",
    "-- Retrieve all records from the table\n",
    "\n",
    "SELECT * FROM PETSALE;\n",
    "\n"
   ]
  },
  {
   "cell_type": "code",
   "execution_count": 78,
   "id": "b44bf627-b6e8-4cd3-82b4-2675e36cbd9b",
   "metadata": {},
   "outputs": [
    {
     "name": "stdout",
     "output_type": "stream",
     "text": [
      " * ibm_db_sa://mgr61801:***@0c77d6f2-5da9-48a9-81f8-86b520b87518.bs2io90l08kqb1od8lcg.databases.appdomain.cloud:31198/bludb\n",
      "Done.\n"
     ]
    },
    {
     "data": {
      "text/html": [
       "<table>\n",
       "    <thead>\n",
       "        <tr>\n",
       "            <th>id</th>\n",
       "            <th>animal</th>\n",
       "            <th>saleprice</th>\n",
       "            <th>saledate</th>\n",
       "            <th>quantity</th>\n",
       "        </tr>\n",
       "    </thead>\n",
       "    <tbody>\n",
       "        <tr>\n",
       "            <td>1</td>\n",
       "            <td>Cat</td>\n",
       "            <td>450.09</td>\n",
       "            <td>2018-05-29</td>\n",
       "            <td>9</td>\n",
       "        </tr>\n",
       "        <tr>\n",
       "            <td>2</td>\n",
       "            <td>Dog</td>\n",
       "            <td>666.66</td>\n",
       "            <td>2018-06-01</td>\n",
       "            <td>3</td>\n",
       "        </tr>\n",
       "        <tr>\n",
       "            <td>3</td>\n",
       "            <td>Parrot</td>\n",
       "            <td>50.00</td>\n",
       "            <td>2018-06-04</td>\n",
       "            <td>2</td>\n",
       "        </tr>\n",
       "        <tr>\n",
       "            <td>4</td>\n",
       "            <td>Hamster</td>\n",
       "            <td>60.60</td>\n",
       "            <td>2018-06-11</td>\n",
       "            <td>6</td>\n",
       "        </tr>\n",
       "        <tr>\n",
       "            <td>5</td>\n",
       "            <td>Goldfish</td>\n",
       "            <td>48.48</td>\n",
       "            <td>2018-06-14</td>\n",
       "            <td>24</td>\n",
       "        </tr>\n",
       "    </tbody>\n",
       "</table>"
      ],
      "text/plain": [
       "[(1, 'Cat', Decimal('450.09'), datetime.date(2018, 5, 29), 9),\n",
       " (2, 'Dog', Decimal('666.66'), datetime.date(2018, 6, 1), 3),\n",
       " (3, 'Parrot', Decimal('50.00'), datetime.date(2018, 6, 4), 2),\n",
       " (4, 'Hamster', Decimal('60.60'), datetime.date(2018, 6, 11), 6),\n",
       " (5, 'Goldfish', Decimal('48.48'), datetime.date(2018, 6, 14), 24)]"
      ]
     },
     "execution_count": 78,
     "metadata": {},
     "output_type": "execute_result"
    }
   ],
   "source": [
    "%sql select * from petsale;"
   ]
  },
  {
   "cell_type": "code",
   "execution_count": 81,
   "id": "cabfeac6-1034-422f-8834-c96fb047db43",
   "metadata": {},
   "outputs": [
    {
     "name": "stdout",
     "output_type": "stream",
     "text": [
      " * ibm_db_sa://mgr61801:***@0c77d6f2-5da9-48a9-81f8-86b520b87518.bs2io90l08kqb1od8lcg.databases.appdomain.cloud:31198/bludb\n",
      "Done.\n"
     ]
    },
    {
     "data": {
      "text/plain": [
       "[]"
      ]
     },
     "execution_count": 81,
     "metadata": {},
     "output_type": "execute_result"
    }
   ],
   "source": [
    "%%sql\n",
    "--#SET TERMINATOR as @\n",
    "\n",
    "CREATE PROCEDURE RETRIEVE_ALL     -- Name of this stored procedure routine\n",
    "\n",
    "LANGUAGE SQL                        -- Language used in this routine \n",
    "READS SQL DATA                      -- This routine will only read data from the table\n",
    "\n",
    "DYNAMIC RESULT SETS 1               -- Maximum possible number of result-sets to be returned to the caller query\n",
    "\n",
    "BEGIN \n",
    "\n",
    "    DECLARE C1 CURSOR               -- CURSOR C1 will handle the result-set by retrieving records row by row from the table\n",
    "    WITH RETURN FOR                 -- This routine will return retrieved records as a result-set to the caller query\n",
    "    \n",
    "    SELECT * FROM PETSALE;          -- Query to retrieve all the records from the table\n",
    "    \n",
    "    OPEN C1;                        -- Keeping the CURSOR C1 open so that result-set can be returned to the caller query\n",
    "\n",
    "END\n"
   ]
  },
  {
   "cell_type": "code",
   "execution_count": 82,
   "id": "4721d8b2-2586-415e-934b-7e33b8b36724",
   "metadata": {},
   "outputs": [
    {
     "name": "stdout",
     "output_type": "stream",
     "text": [
      " * ibm_db_sa://mgr61801:***@0c77d6f2-5da9-48a9-81f8-86b520b87518.bs2io90l08kqb1od8lcg.databases.appdomain.cloud:31198/bludb\n",
      "Done.\n",
      "(ibm_db_dbi.ProgrammingError) ibm_db_dbi::ProgrammingError: The last call to execute did not produce any result set.\n",
      "(Background on this error at: http://sqlalche.me/e/13/f405)\n"
     ]
    }
   ],
   "source": [
    "%%sql \n",
    "call retrieve_all"
   ]
  },
  {
   "cell_type": "code",
   "execution_count": 84,
   "id": "5c1e953e-2345-4e42-ad65-675c6ac43131",
   "metadata": {},
   "outputs": [
    {
     "name": "stdout",
     "output_type": "stream",
     "text": [
      " * ibm_db_sa://mgr61801:***@0c77d6f2-5da9-48a9-81f8-86b520b87518.bs2io90l08kqb1od8lcg.databases.appdomain.cloud:31198/bludb\n",
      "Done.\n"
     ]
    },
    {
     "data": {
      "text/plain": [
       "[]"
      ]
     },
     "execution_count": 84,
     "metadata": {},
     "output_type": "execute_result"
    }
   ],
   "source": [
    "%%sql\n",
    "--#SET TERMINATOR \n",
    "@\n",
    "CREATE PROCEDURE UPDATE_SALEPRICE1 ( \n",
    "    IN Animal_ID INTEGER, IN Animal_Health VARCHAR(5) )     -- ( { IN/OUT type } { parameter-name } { data-type }, ... )\n",
    "\n",
    "LANGUAGE SQL                                                -- Language used in this routine\n",
    "MODIFIES SQL DATA                                           -- This routine will only write/modify data in the table\n",
    "\n",
    "BEGIN \n",
    "\n",
    "    IF Animal_Health = 'BAD' THEN                           -- Start of conditional statement\n",
    "        UPDATE PETSALE\n",
    "        SET SALEPRICE = SALEPRICE - (SALEPRICE * 0.25)\n",
    "        WHERE ID = Animal_ID;\n",
    "    \n",
    "    ELSEIF Animal_Health = 'WORSE' THEN\n",
    "        UPDATE PETSALE\n",
    "        SET SALEPRICE = SALEPRICE - (SALEPRICE * 0.5)\n",
    "        WHERE ID = Animal_ID;\n",
    "        \n",
    "    ELSE\n",
    "        UPDATE PETSALE\n",
    "        SET SALEPRICE = SALEPRICE\n",
    "        WHERE ID = Animal_ID;\n",
    "\n",
    "    END IF;                                                 -- End of conditional statement\n",
    "    \n",
    "END\n",
    "@                                                         -- Routine termination character"
   ]
  },
  {
   "cell_type": "code",
   "execution_count": 85,
   "id": "8bfac2dc-de40-4636-9187-b9b3bdc30b2f",
   "metadata": {},
   "outputs": [
    {
     "name": "stdout",
     "output_type": "stream",
     "text": [
      " * ibm_db_sa://mgr61801:***@0c77d6f2-5da9-48a9-81f8-86b520b87518.bs2io90l08kqb1od8lcg.databases.appdomain.cloud:31198/bludb\n",
      "(ibm_db_dbi.OperationalError) ibm_db_dbi::OperationalError: Statement Execute Failed: [IBM][CLI Driver][DB2/LINUXX8664] SQL1646N  A routine failed because the fenced user ID cannot access required files in the sqllib directory or other instance or database directories.\\r SQLCODE=-1646\n",
      "[SQL: call update_saleprice1(3, 'BAD');]\n",
      "(Background on this error at: http://sqlalche.me/e/13/e3q8)\n"
     ]
    }
   ],
   "source": [
    "%%sql\n",
    "call update_saleprice1(3, 'BAD');\n"
   ]
  },
  {
   "cell_type": "code",
   "execution_count": 86,
   "id": "7d2b62a4-326e-4484-b0c5-2678ccb683bc",
   "metadata": {},
   "outputs": [
    {
     "name": "stdout",
     "output_type": "stream",
     "text": [
      " * ibm_db_sa://mgr61801:***@0c77d6f2-5da9-48a9-81f8-86b520b87518.bs2io90l08kqb1od8lcg.databases.appdomain.cloud:31198/bludb\n",
      "Done.\n",
      "Done.\n",
      "Done.\n",
      "(ibm_db_dbi.ProgrammingError) ibm_db_dbi::ProgrammingError: The last call to execute did not produce any result set.\n",
      "(Background on this error at: http://sqlalche.me/e/13/f405)\n"
     ]
    }
   ],
   "source": [
    "%%sql\n",
    "CALL RETRIEVE_ALL;\n",
    "\n",
    "CALL UPDATE_SALEPRICE(1, 'WORSE');        -- Caller query\n",
    "\n",
    "CALL RETRIEVE_ALL;"
   ]
  },
  {
   "cell_type": "code",
   "execution_count": 87,
   "id": "093814ca-5940-44ab-a16f-4337fbd4b733",
   "metadata": {},
   "outputs": [
    {
     "name": "stdout",
     "output_type": "stream",
     "text": [
      " * ibm_db_sa://mgr61801:***@0c77d6f2-5da9-48a9-81f8-86b520b87518.bs2io90l08kqb1od8lcg.databases.appdomain.cloud:31198/bludb\n",
      "Done.\n"
     ]
    },
    {
     "data": {
      "text/html": [
       "<table>\n",
       "    <thead>\n",
       "        <tr>\n",
       "            <th>id</th>\n",
       "            <th>animal</th>\n",
       "            <th>saleprice</th>\n",
       "            <th>saledate</th>\n",
       "            <th>quantity</th>\n",
       "        </tr>\n",
       "    </thead>\n",
       "    <tbody>\n",
       "        <tr>\n",
       "            <td>1</td>\n",
       "            <td>Cat</td>\n",
       "            <td>84.39</td>\n",
       "            <td>2018-05-29</td>\n",
       "            <td>9</td>\n",
       "        </tr>\n",
       "        <tr>\n",
       "            <td>2</td>\n",
       "            <td>Dog</td>\n",
       "            <td>666.66</td>\n",
       "            <td>2018-06-01</td>\n",
       "            <td>3</td>\n",
       "        </tr>\n",
       "        <tr>\n",
       "            <td>3</td>\n",
       "            <td>Parrot</td>\n",
       "            <td>50.00</td>\n",
       "            <td>2018-06-04</td>\n",
       "            <td>2</td>\n",
       "        </tr>\n",
       "        <tr>\n",
       "            <td>4</td>\n",
       "            <td>Hamster</td>\n",
       "            <td>60.60</td>\n",
       "            <td>2018-06-11</td>\n",
       "            <td>6</td>\n",
       "        </tr>\n",
       "        <tr>\n",
       "            <td>5</td>\n",
       "            <td>Goldfish</td>\n",
       "            <td>48.48</td>\n",
       "            <td>2018-06-14</td>\n",
       "            <td>24</td>\n",
       "        </tr>\n",
       "    </tbody>\n",
       "</table>"
      ],
      "text/plain": [
       "[(1, 'Cat', Decimal('84.39'), datetime.date(2018, 5, 29), 9),\n",
       " (2, 'Dog', Decimal('666.66'), datetime.date(2018, 6, 1), 3),\n",
       " (3, 'Parrot', Decimal('50.00'), datetime.date(2018, 6, 4), 2),\n",
       " (4, 'Hamster', Decimal('60.60'), datetime.date(2018, 6, 11), 6),\n",
       " (5, 'Goldfish', Decimal('48.48'), datetime.date(2018, 6, 14), 24)]"
      ]
     },
     "execution_count": 87,
     "metadata": {},
     "output_type": "execute_result"
    }
   ],
   "source": [
    "%sql select * from petsale;"
   ]
  },
  {
   "cell_type": "code",
   "execution_count": 89,
   "id": "a639308a-0a6e-46e9-a292-7e56022b71e9",
   "metadata": {},
   "outputs": [
    {
     "name": "stdout",
     "output_type": "stream",
     "text": [
      " * ibm_db_sa://mgr61801:***@0c77d6f2-5da9-48a9-81f8-86b520b87518.bs2io90l08kqb1od8lcg.databases.appdomain.cloud:31198/bludb\n",
      "(ibm_db_dbi.ProgrammingError) ibm_db_dbi::ProgrammingError: SQLNumResultCols failed: [IBM][CLI Driver][DB2/LINUXX8664] SQL0204N  \"MGR61801.BANKACCOUNTS\" is an undefined name.  SQLSTATE=42704\\r SQLCODE=-204\n",
      "[SQL: select * from BankAccounts;]\n",
      "(Background on this error at: http://sqlalche.me/e/13/f405)\n"
     ]
    }
   ],
   "source": [
    "%sql select * from BankAccounts;"
   ]
  },
  {
   "cell_type": "code",
   "execution_count": 91,
   "id": "cd2be193-6e7c-47e8-abe4-cbe4bc515240",
   "metadata": {},
   "outputs": [
    {
     "name": "stdout",
     "output_type": "stream",
     "text": [
      " * ibm_db_sa://mgr61801:***@0c77d6f2-5da9-48a9-81f8-86b520b87518.bs2io90l08kqb1od8lcg.databases.appdomain.cloud:31198/bludb\n",
      "Done.\n",
      "4 rows affected.\n",
      "Done.\n"
     ]
    },
    {
     "data": {
      "text/html": [
       "<table>\n",
       "    <thead>\n",
       "        <tr>\n",
       "            <th>accountnumber</th>\n",
       "            <th>accountname</th>\n",
       "            <th>balance</th>\n",
       "        </tr>\n",
       "    </thead>\n",
       "    <tbody>\n",
       "        <tr>\n",
       "            <td>B001</td>\n",
       "            <td>Rose</td>\n",
       "            <td>300.00</td>\n",
       "        </tr>\n",
       "        <tr>\n",
       "            <td>B002</td>\n",
       "            <td>James</td>\n",
       "            <td>1345.00</td>\n",
       "        </tr>\n",
       "        <tr>\n",
       "            <td>B003</td>\n",
       "            <td>Shoe Shop</td>\n",
       "            <td>124200.00</td>\n",
       "        </tr>\n",
       "        <tr>\n",
       "            <td>B004</td>\n",
       "            <td>Corner Shop</td>\n",
       "            <td>76000.00</td>\n",
       "        </tr>\n",
       "    </tbody>\n",
       "</table>"
      ],
      "text/plain": [
       "[('B001', 'Rose', Decimal('300.00')),\n",
       " ('B002', 'James', Decimal('1345.00')),\n",
       " ('B003', 'Shoe Shop', Decimal('124200.00')),\n",
       " ('B004', 'Corner Shop', Decimal('76000.00'))]"
      ]
     },
     "execution_count": 91,
     "metadata": {},
     "output_type": "execute_result"
    }
   ],
   "source": [
    "%%sql\n",
    "\n",
    "-- Create the table\n",
    "\n",
    "CREATE TABLE BankAccounts (\n",
    "    AccountNumber VARCHAR(5) NOT NULL,\n",
    "    AccountName VARCHAR(25) NOT NULL,\n",
    "    Balance DECIMAL(8,2) CHECK(Balance>=0) NOT NULL,\n",
    "    PRIMARY KEY (AccountNumber)\n",
    "    );\n",
    "\n",
    "-- Insert sample data into the table\n",
    "    \n",
    "INSERT INTO BankAccounts VALUES\n",
    "('B001','Rose',300),\n",
    "('B002','James',1345),\n",
    "('B003','Shoe Shop',124200),\n",
    "('B004','Corner Shop',76000);\n",
    "\n",
    "-- Retrieve all records from the table\n",
    "\n",
    "SELECT * FROM BankAccounts;\n",
    "\n",
    "\n"
   ]
  },
  {
   "cell_type": "code",
   "execution_count": 94,
   "id": "b262be9c-5b54-4461-a921-94d62f7ad2c4",
   "metadata": {},
   "outputs": [
    {
     "name": "stdout",
     "output_type": "stream",
     "text": [
      " * ibm_db_sa://mgr61801:***@0c77d6f2-5da9-48a9-81f8-86b520b87518.bs2io90l08kqb1od8lcg.databases.appdomain.cloud:31198/bludb\n",
      "Done.\n",
      "4 rows affected.\n",
      "Done.\n"
     ]
    },
    {
     "data": {
      "text/html": [
       "<table>\n",
       "    <thead>\n",
       "        <tr>\n",
       "            <th>product</th>\n",
       "            <th>stock</th>\n",
       "            <th>price</th>\n",
       "        </tr>\n",
       "    </thead>\n",
       "    <tbody>\n",
       "        <tr>\n",
       "            <td>Boots</td>\n",
       "            <td>11</td>\n",
       "            <td>200.00</td>\n",
       "        </tr>\n",
       "        <tr>\n",
       "            <td>High heels</td>\n",
       "            <td>8</td>\n",
       "            <td>600.00</td>\n",
       "        </tr>\n",
       "        <tr>\n",
       "            <td>Brogues</td>\n",
       "            <td>10</td>\n",
       "            <td>150.00</td>\n",
       "        </tr>\n",
       "        <tr>\n",
       "            <td>Trainers</td>\n",
       "            <td>14</td>\n",
       "            <td>300.00</td>\n",
       "        </tr>\n",
       "    </tbody>\n",
       "</table>"
      ],
      "text/plain": [
       "[('Boots', 11, Decimal('200.00')),\n",
       " ('High heels', 8, Decimal('600.00')),\n",
       " ('Brogues', 10, Decimal('150.00')),\n",
       " ('Trainers', 14, Decimal('300.00'))]"
      ]
     },
     "execution_count": 94,
     "metadata": {},
     "output_type": "execute_result"
    }
   ],
   "source": [
    "%%sql\n",
    "-- Drop the table in case it exists\n",
    "\n",
    "--DROP TABLE ShoeShop;\n",
    "\n",
    "-- Create the table\n",
    "\n",
    "CREATE TABLE ShoeShop (\n",
    "    Product VARCHAR(25) NOT NULL,\n",
    "    Stock INTEGER NOT NULL,\n",
    "    Price DECIMAL(8,2) CHECK(Price>0) NOT NULL,\n",
    "    PRIMARY KEY (Product)\n",
    "    );\n",
    "\n",
    "-- Insert sample data into the table\n",
    "    \n",
    "INSERT INTO ShoeShop VALUES\n",
    "('Boots',11,200),\n",
    "('High heels',8,600),\n",
    "('Brogues',10,150),\n",
    "('Trainers',14,300);\n",
    "\n",
    "-- Retrieve all records from the table\n",
    "\n",
    "SELECT * FROM ShoeShop;\n",
    "\n",
    "\n"
   ]
  },
  {
   "cell_type": "code",
   "execution_count": 97,
   "id": "9c30337f-aa33-49f6-b5e0-27f5f6b4b62a",
   "metadata": {},
   "outputs": [
    {
     "name": "stdout",
     "output_type": "stream",
     "text": [
      " * ibm_db_sa://mgr61801:***@0c77d6f2-5da9-48a9-81f8-86b520b87518.bs2io90l08kqb1od8lcg.databases.appdomain.cloud:31198/bludb\n",
      "Done.\n"
     ]
    },
    {
     "data": {
      "text/plain": [
       "[]"
      ]
     },
     "execution_count": 97,
     "metadata": {},
     "output_type": "execute_result"
    }
   ],
   "source": [
    "%%sql\n",
    "--#SET TERMINATOR\n",
    "\n",
    "CREATE PROCEDURE TRANSACTION_ROSE                           -- Name of this stored procedure routine\n",
    "\n",
    "LANGUAGE SQL                                                -- Language used in this routine \n",
    "MODIFIES SQL DATA                                           -- This routine will only write/modify data in the table\n",
    "\n",
    "BEGIN\n",
    "\n",
    "        DECLARE SQLCODE INTEGER DEFAULT 0;                  -- Host variable SQLCODE declared and assigned 0\n",
    "        DECLARE retcode INTEGER DEFAULT 0;                  -- Local variable retcode with declared and assigned 0\n",
    "        DECLARE CONTINUE HANDLER FOR SQLEXCEPTION           -- Handler tell the routine what to do when an error or warning occurs\n",
    "        SET retcode = SQLCODE;                              -- Value of SQLCODE assigned to local variable retcode\n",
    "        \n",
    "        UPDATE BankAccounts\n",
    "        SET Balance = Balance-200\n",
    "        WHERE AccountName = 'Rose';\n",
    "        \n",
    "        UPDATE BankAccounts\n",
    "        SET Balance = Balance+200\n",
    "        WHERE AccountName = 'Shoe Shop';\n",
    "        \n",
    "        UPDATE ShoeShop\n",
    "        SET Stock = Stock-1\n",
    "        WHERE Product = 'Boots';\n",
    "        \n",
    "        UPDATE BankAccounts\n",
    "        SET Balance = Balance-300\n",
    "        WHERE AccountName = 'Rose';\n",
    "\n",
    "        \n",
    "        IF retcode < 0 THEN                                  --  SQLCODE returns negative value for error, zero for success, positive value for warning\n",
    "            ROLLBACK WORK;\n",
    "        \n",
    "        ELSE\n",
    "            COMMIT WORK;\n",
    "        \n",
    "        END IF;\n",
    "        \n",
    "END\n",
    "                                                           -- Routine termination character"
   ]
  },
  {
   "cell_type": "code",
   "execution_count": 101,
   "id": "46c5da4a-a915-4d91-b166-028159d213ff",
   "metadata": {},
   "outputs": [
    {
     "name": "stdout",
     "output_type": "stream",
     "text": [
      " * ibm_db_sa://mgr61801:***@0c77d6f2-5da9-48a9-81f8-86b520b87518.bs2io90l08kqb1od8lcg.databases.appdomain.cloud:31198/bludb\n",
      "Done.\n"
     ]
    },
    {
     "data": {
      "text/plain": [
       "[]"
      ]
     },
     "execution_count": 101,
     "metadata": {},
     "output_type": "execute_result"
    }
   ],
   "source": [
    "%sql CALL TRANSACTION_ROSE;  -- Caller query\n"
   ]
  },
  {
   "cell_type": "code",
   "execution_count": 115,
   "id": "bf29ccbc-9bd4-4f06-a860-f60b46b817ab",
   "metadata": {},
   "outputs": [
    {
     "name": "stdout",
     "output_type": "stream",
     "text": [
      " * ibm_db_sa://mgr61801:***@0c77d6f2-5da9-48a9-81f8-86b520b87518.bs2io90l08kqb1od8lcg.databases.appdomain.cloud:31198/bludb\n",
      "Done.\n"
     ]
    },
    {
     "data": {
      "text/html": [
       "<table>\n",
       "    <thead>\n",
       "        <tr>\n",
       "            <th>accountnumber</th>\n",
       "            <th>accountname</th>\n",
       "            <th>balance</th>\n",
       "        </tr>\n",
       "    </thead>\n",
       "    <tbody>\n",
       "        <tr>\n",
       "            <td>B001</td>\n",
       "            <td>Rose</td>\n",
       "            <td>300.00</td>\n",
       "        </tr>\n",
       "        <tr>\n",
       "            <td>B002</td>\n",
       "            <td>James</td>\n",
       "            <td>0.00</td>\n",
       "        </tr>\n",
       "        <tr>\n",
       "            <td>B003</td>\n",
       "            <td>Shoe Shop</td>\n",
       "            <td>125545.00</td>\n",
       "        </tr>\n",
       "        <tr>\n",
       "            <td>B004</td>\n",
       "            <td>Corner Shop</td>\n",
       "            <td>76000.00</td>\n",
       "        </tr>\n",
       "    </tbody>\n",
       "</table>"
      ],
      "text/plain": [
       "[('B001', 'Rose', Decimal('300.00')),\n",
       " ('B002', 'James', Decimal('0.00')),\n",
       " ('B003', 'Shoe Shop', Decimal('125545.00')),\n",
       " ('B004', 'Corner Shop', Decimal('76000.00'))]"
      ]
     },
     "execution_count": 115,
     "metadata": {},
     "output_type": "execute_result"
    }
   ],
   "source": [
    "%sql select * from BankAccounts;\n"
   ]
  },
  {
   "cell_type": "code",
   "execution_count": 116,
   "id": "4aec7a6c-0d08-40a6-b590-052559f9bd6e",
   "metadata": {},
   "outputs": [
    {
     "name": "stdout",
     "output_type": "stream",
     "text": [
      " * ibm_db_sa://mgr61801:***@0c77d6f2-5da9-48a9-81f8-86b520b87518.bs2io90l08kqb1od8lcg.databases.appdomain.cloud:31198/bludb\n",
      "Done.\n"
     ]
    },
    {
     "data": {
      "text/html": [
       "<table>\n",
       "    <thead>\n",
       "        <tr>\n",
       "            <th>product</th>\n",
       "            <th>stock</th>\n",
       "            <th>price</th>\n",
       "        </tr>\n",
       "    </thead>\n",
       "    <tbody>\n",
       "        <tr>\n",
       "            <td>Boots</td>\n",
       "            <td>10</td>\n",
       "            <td>200.00</td>\n",
       "        </tr>\n",
       "        <tr>\n",
       "            <td>High heels</td>\n",
       "            <td>8</td>\n",
       "            <td>600.00</td>\n",
       "        </tr>\n",
       "        <tr>\n",
       "            <td>Brogues</td>\n",
       "            <td>9</td>\n",
       "            <td>150.00</td>\n",
       "        </tr>\n",
       "        <tr>\n",
       "            <td>Trainers</td>\n",
       "            <td>14</td>\n",
       "            <td>300.00</td>\n",
       "        </tr>\n",
       "    </tbody>\n",
       "</table>"
      ],
      "text/plain": [
       "[('Boots', 10, Decimal('200.00')),\n",
       " ('High heels', 8, Decimal('600.00')),\n",
       " ('Brogues', 9, Decimal('150.00')),\n",
       " ('Trainers', 14, Decimal('300.00'))]"
      ]
     },
     "execution_count": 116,
     "metadata": {},
     "output_type": "execute_result"
    }
   ],
   "source": [
    "%sql select * from shoeshop;"
   ]
  },
  {
   "cell_type": "code",
   "execution_count": 117,
   "id": "833f490d-2d8d-48fa-864d-3683256335f8",
   "metadata": {},
   "outputs": [
    {
     "name": "stdout",
     "output_type": "stream",
     "text": [
      " * ibm_db_sa://mgr61801:***@0c77d6f2-5da9-48a9-81f8-86b520b87518.bs2io90l08kqb1od8lcg.databases.appdomain.cloud:31198/bludb\n",
      "Done.\n"
     ]
    },
    {
     "data": {
      "text/plain": [
       "[]"
      ]
     },
     "execution_count": 117,
     "metadata": {},
     "output_type": "execute_result"
    }
   ],
   "source": [
    "%%sql\n",
    "--delete procedure if exist\n",
    "drop procedure transaction_james"
   ]
  },
  {
   "cell_type": "code",
   "execution_count": 118,
   "id": "7d9bdc20-e740-4667-a131-5b3cf1226e5e",
   "metadata": {},
   "outputs": [
    {
     "name": "stdout",
     "output_type": "stream",
     "text": [
      " * ibm_db_sa://mgr61801:***@0c77d6f2-5da9-48a9-81f8-86b520b87518.bs2io90l08kqb1od8lcg.databases.appdomain.cloud:31198/bludb\n",
      "Done.\n"
     ]
    },
    {
     "data": {
      "text/plain": [
       "[]"
      ]
     },
     "execution_count": 118,
     "metadata": {},
     "output_type": "execute_result"
    }
   ],
   "source": [
    "%%sql\n",
    "CREATE PROCEDURE TRANSACTION_JAMES\n",
    "LANGUAGE SQL\n",
    "MODIFIES SQL DATA\n",
    "BEGIN\n",
    "    DECLARE SQLCODE INTEGER DEFAULT 0;\n",
    "    DECLARE retcode INTEGER DEFAULT 0;\n",
    "    DECLARE CONTINUE HANDLER FOR SQLEXCEPTION\n",
    "    SET retcode = SQLCODE;\n",
    "    \n",
    "    UPDATE BankAccounts\n",
    "    SET Balance = Balance - 1200\n",
    "    WHERE AccountName = 'James';\n",
    "    \n",
    "    UPDATE BankAccounts\n",
    "    SET Balance = Balance + 1200\n",
    "    WHERE AccountName = 'Shoe Shop';\n",
    "    \n",
    "    UPDATE ShoeShop\n",
    "    SET Stock = Stock -4\n",
    "    WHERE Product = 'Boots';\n",
    "    \n",
    "    UPDATE BankAccounts\n",
    "    SET Balance = Balance - 145\n",
    "    WHERE AccountName = 'James';\n",
    "    \n",
    "    UPDATE BankAccounts\n",
    "    SET Balance = Balance + 145\n",
    "    WHERE AccountName = 'Shoe Shop';\n",
    "    \n",
    "    UPDATE ShoeShop\n",
    "    SET Stock = Stock -1\n",
    "    WHERE Product = 'Brogues';\n",
    "        \n",
    "    IF RETCODE < 0 THEN\n",
    "        ROLLBACK WORK;\n",
    "    ELSE\n",
    "        COMMIT WORK;\n",
    "    END IF;\n",
    "END"
   ]
  },
  {
   "cell_type": "code",
   "execution_count": 113,
   "id": "2b8e1e94-6b28-4b98-8e27-57b40b45742b",
   "metadata": {},
   "outputs": [
    {
     "name": "stdout",
     "output_type": "stream",
     "text": [
      " * ibm_db_sa://mgr61801:***@0c77d6f2-5da9-48a9-81f8-86b520b87518.bs2io90l08kqb1od8lcg.databases.appdomain.cloud:31198/bludb\n",
      "Done.\n"
     ]
    },
    {
     "data": {
      "text/plain": [
       "[]"
      ]
     },
     "execution_count": 113,
     "metadata": {},
     "output_type": "execute_result"
    }
   ],
   "source": [
    "%sql call transaction_james"
   ]
  },
  {
   "cell_type": "code",
   "execution_count": 119,
   "id": "ac11c4b5-7d8a-49ee-b250-c490c64cbaca",
   "metadata": {},
   "outputs": [
    {
     "name": "stdout",
     "output_type": "stream",
     "text": [
      " * ibm_db_sa://mgr61801:***@0c77d6f2-5da9-48a9-81f8-86b520b87518.bs2io90l08kqb1od8lcg.databases.appdomain.cloud:31198/bludb\n",
      "Done.\n"
     ]
    },
    {
     "data": {
      "text/html": [
       "<table>\n",
       "    <thead>\n",
       "        <tr>\n",
       "            <th>accountnumber</th>\n",
       "            <th>accountname</th>\n",
       "            <th>balance</th>\n",
       "        </tr>\n",
       "    </thead>\n",
       "    <tbody>\n",
       "        <tr>\n",
       "            <td>B001</td>\n",
       "            <td>Rose</td>\n",
       "            <td>300.00</td>\n",
       "        </tr>\n",
       "        <tr>\n",
       "            <td>B002</td>\n",
       "            <td>James</td>\n",
       "            <td>0.00</td>\n",
       "        </tr>\n",
       "        <tr>\n",
       "            <td>B003</td>\n",
       "            <td>Shoe Shop</td>\n",
       "            <td>125545.00</td>\n",
       "        </tr>\n",
       "        <tr>\n",
       "            <td>B004</td>\n",
       "            <td>Corner Shop</td>\n",
       "            <td>76000.00</td>\n",
       "        </tr>\n",
       "    </tbody>\n",
       "</table>"
      ],
      "text/plain": [
       "[('B001', 'Rose', Decimal('300.00')),\n",
       " ('B002', 'James', Decimal('0.00')),\n",
       " ('B003', 'Shoe Shop', Decimal('125545.00')),\n",
       " ('B004', 'Corner Shop', Decimal('76000.00'))]"
      ]
     },
     "execution_count": 119,
     "metadata": {},
     "output_type": "execute_result"
    }
   ],
   "source": [
    "%sql select * from BankAccounts;\n"
   ]
  },
  {
   "cell_type": "code",
   "execution_count": 120,
   "id": "a2436122-f7a2-4cc0-a3c9-26561ac341c1",
   "metadata": {},
   "outputs": [
    {
     "name": "stdout",
     "output_type": "stream",
     "text": [
      " * ibm_db_sa://mgr61801:***@0c77d6f2-5da9-48a9-81f8-86b520b87518.bs2io90l08kqb1od8lcg.databases.appdomain.cloud:31198/bludb\n",
      "Done.\n"
     ]
    },
    {
     "data": {
      "text/html": [
       "<table>\n",
       "    <thead>\n",
       "        <tr>\n",
       "            <th>product</th>\n",
       "            <th>stock</th>\n",
       "            <th>price</th>\n",
       "        </tr>\n",
       "    </thead>\n",
       "    <tbody>\n",
       "        <tr>\n",
       "            <td>Boots</td>\n",
       "            <td>10</td>\n",
       "            <td>200.00</td>\n",
       "        </tr>\n",
       "        <tr>\n",
       "            <td>High heels</td>\n",
       "            <td>8</td>\n",
       "            <td>600.00</td>\n",
       "        </tr>\n",
       "        <tr>\n",
       "            <td>Brogues</td>\n",
       "            <td>9</td>\n",
       "            <td>150.00</td>\n",
       "        </tr>\n",
       "        <tr>\n",
       "            <td>Trainers</td>\n",
       "            <td>14</td>\n",
       "            <td>300.00</td>\n",
       "        </tr>\n",
       "    </tbody>\n",
       "</table>"
      ],
      "text/plain": [
       "[('Boots', 10, Decimal('200.00')),\n",
       " ('High heels', 8, Decimal('600.00')),\n",
       " ('Brogues', 9, Decimal('150.00')),\n",
       " ('Trainers', 14, Decimal('300.00'))]"
      ]
     },
     "execution_count": 120,
     "metadata": {},
     "output_type": "execute_result"
    }
   ],
   "source": [
    "%sql select * from Shoeshop"
   ]
  },
  {
   "cell_type": "code",
   "execution_count": 126,
   "id": "413396f7-9a06-401a-9e92-5d0dd3bc14c0",
   "metadata": {},
   "outputs": [
    {
     "name": "stdout",
     "output_type": "stream",
     "text": [
      " * ibm_db_sa://mgr61801:***@0c77d6f2-5da9-48a9-81f8-86b520b87518.bs2io90l08kqb1od8lcg.databases.appdomain.cloud:31198/bludb\n",
      "Done.\n"
     ]
    },
    {
     "data": {
      "text/plain": [
       "[]"
      ]
     },
     "execution_count": 126,
     "metadata": {},
     "output_type": "execute_result"
    }
   ],
   "source": [
    "%sql call transaction_james;"
   ]
  },
  {
   "cell_type": "code",
   "execution_count": 127,
   "id": "47c32b24-af62-4101-b72a-02e83dc634fa",
   "metadata": {},
   "outputs": [
    {
     "name": "stdout",
     "output_type": "stream",
     "text": [
      " * ibm_db_sa://mgr61801:***@0c77d6f2-5da9-48a9-81f8-86b520b87518.bs2io90l08kqb1od8lcg.databases.appdomain.cloud:31198/bludb\n",
      "Done.\n"
     ]
    },
    {
     "data": {
      "text/html": [
       "<table>\n",
       "    <thead>\n",
       "        <tr>\n",
       "            <th>product</th>\n",
       "            <th>stock</th>\n",
       "            <th>price</th>\n",
       "        </tr>\n",
       "    </thead>\n",
       "    <tbody>\n",
       "        <tr>\n",
       "            <td>Boots</td>\n",
       "            <td>6</td>\n",
       "            <td>200.00</td>\n",
       "        </tr>\n",
       "        <tr>\n",
       "            <td>High heels</td>\n",
       "            <td>8</td>\n",
       "            <td>600.00</td>\n",
       "        </tr>\n",
       "        <tr>\n",
       "            <td>Brogues</td>\n",
       "            <td>8</td>\n",
       "            <td>150.00</td>\n",
       "        </tr>\n",
       "        <tr>\n",
       "            <td>Trainers</td>\n",
       "            <td>14</td>\n",
       "            <td>300.00</td>\n",
       "        </tr>\n",
       "    </tbody>\n",
       "</table>"
      ],
      "text/plain": [
       "[('Boots', 6, Decimal('200.00')),\n",
       " ('High heels', 8, Decimal('600.00')),\n",
       " ('Brogues', 8, Decimal('150.00')),\n",
       " ('Trainers', 14, Decimal('300.00'))]"
      ]
     },
     "execution_count": 127,
     "metadata": {},
     "output_type": "execute_result"
    }
   ],
   "source": [
    "%sql select * from Shoeshop"
   ]
  },
  {
   "cell_type": "code",
   "execution_count": 128,
   "id": "fba3ea9c-4538-4a44-b399-74e43615a644",
   "metadata": {},
   "outputs": [
    {
     "name": "stdout",
     "output_type": "stream",
     "text": [
      " * ibm_db_sa://mgr61801:***@0c77d6f2-5da9-48a9-81f8-86b520b87518.bs2io90l08kqb1od8lcg.databases.appdomain.cloud:31198/bludb\n",
      "Done.\n"
     ]
    },
    {
     "data": {
      "text/html": [
       "<table>\n",
       "    <thead>\n",
       "        <tr>\n",
       "            <th>accountnumber</th>\n",
       "            <th>accountname</th>\n",
       "            <th>balance</th>\n",
       "        </tr>\n",
       "    </thead>\n",
       "    <tbody>\n",
       "        <tr>\n",
       "            <td>B001</td>\n",
       "            <td>Rose</td>\n",
       "            <td>300.00</td>\n",
       "        </tr>\n",
       "        <tr>\n",
       "            <td>B002</td>\n",
       "            <td>James</td>\n",
       "            <td>655.00</td>\n",
       "        </tr>\n",
       "        <tr>\n",
       "            <td>B003</td>\n",
       "            <td>Shoe Shop</td>\n",
       "            <td>126890.00</td>\n",
       "        </tr>\n",
       "        <tr>\n",
       "            <td>B004</td>\n",
       "            <td>Corner Shop</td>\n",
       "            <td>76000.00</td>\n",
       "        </tr>\n",
       "    </tbody>\n",
       "</table>"
      ],
      "text/plain": [
       "[('B001', 'Rose', Decimal('300.00')),\n",
       " ('B002', 'James', Decimal('655.00')),\n",
       " ('B003', 'Shoe Shop', Decimal('126890.00')),\n",
       " ('B004', 'Corner Shop', Decimal('76000.00'))]"
      ]
     },
     "execution_count": 128,
     "metadata": {},
     "output_type": "execute_result"
    }
   ],
   "source": [
    "%sql select * from bankaccounts;"
   ]
  },
  {
   "cell_type": "code",
   "execution_count": 125,
   "id": "ff205e10-5176-4fc4-9d57-aef1ea5f7c23",
   "metadata": {},
   "outputs": [
    {
     "name": "stdout",
     "output_type": "stream",
     "text": [
      " * ibm_db_sa://mgr61801:***@0c77d6f2-5da9-48a9-81f8-86b520b87518.bs2io90l08kqb1od8lcg.databases.appdomain.cloud:31198/bludb\n",
      "1 rows affected.\n"
     ]
    },
    {
     "data": {
      "text/plain": [
       "[]"
      ]
     },
     "execution_count": 125,
     "metadata": {},
     "output_type": "execute_result"
    }
   ],
   "source": [
    "%%sql \n",
    "update bankaccounts\n",
    "set balance = 2000\n",
    "where accountname = 'James';"
   ]
  },
  {
   "cell_type": "code",
   "execution_count": 130,
   "id": "37f244c8-2d9c-42f5-862e-37173f9c7e18",
   "metadata": {},
   "outputs": [
    {
     "name": "stdout",
     "output_type": "stream",
     "text": [
      " * ibm_db_sa://mgr61801:***@0c77d6f2-5da9-48a9-81f8-86b520b87518.bs2io90l08kqb1od8lcg.databases.appdomain.cloud:31198/bludb\n",
      "Done.\n"
     ]
    },
    {
     "data": {
      "text/plain": [
       "[]"
      ]
     },
     "execution_count": 130,
     "metadata": {},
     "output_type": "execute_result"
    }
   ],
   "source": [
    "%%sql\n",
    "create view testview4\n",
    "as select accountnumber, accountname\n",
    "from bankaccounts\n",
    "where balance < 1000"
   ]
  },
  {
   "cell_type": "code",
   "execution_count": 3,
   "id": "90c22b98-472b-48ff-81a0-d89f04c34a3e",
   "metadata": {},
   "outputs": [
    {
     "name": "stdout",
     "output_type": "stream",
     "text": [
      " * ibm_db_sa://mgr61801:***@0c77d6f2-5da9-48a9-81f8-86b520b87518.bs2io90l08kqb1od8lcg.databases.appdomain.cloud:31198/bludb\n",
      "Done.\n"
     ]
    },
    {
     "data": {
      "text/plain": [
       "[]"
      ]
     },
     "execution_count": 3,
     "metadata": {},
     "output_type": "execute_result"
    }
   ],
   "source": [
    "%%sql\n",
    "--#SET TERMINATOR \n",
    "@\n",
    "CREATE OR REPLACE PROCEDURE UPDATE_LEADERS_SCORE (IN in_School_ID INTEGER, IN in_Leader_Score INTEGER)\n",
    "  LANGUAGE SQL\n",
    "  \n",
    "\tBEGIN \n",
    "\n",
    "\t\tUPDATE chicago_public_schools\n",
    "\t\tSET Leaders_Score = in_Leader_Score\n",
    "\t\t\tWHERE School_ID = in_School_ID;\n",
    "\t\t\t\n",
    "\t\tIF in_Leader_Score > 0 AND in_Leader_Score < 20 THEN\n",
    "\t      \tUPDATE chicago_public_schools\n",
    "\t\t\t\tSET Leaders_Icon = 'Very Weak';\n",
    "\t    ELSEIF in_Leader_Score < 40 THEN\n",
    "\t       \tUPDATE chicago_public_schools\n",
    "\t\t\t\tSET Leaders_Icon = 'Weak';\t\n",
    "\t    ELSEIF in_Leader_Score < 60 THEN\n",
    "\t       \tUPDATE chicago_public_schools\n",
    "\t\t\t\tSET Leaders_Icon = 'Average';\n",
    "\t    ELSEIF in_Leader_Score < 80 THEN\n",
    "\t       \tUPDATE chicago_public_schools\n",
    "\t\t\t\tSET Leaders_Icon = 'Strong';\n",
    "\t    ELSEIF in_Leader_Score < 100 THEN\n",
    "\t       \tUPDATE CHICAGO_PUBLIC_SCHOOLS\n",
    "\t\t\t\tSET Leaders_Icon = 'Very Strong';\n",
    "\t   \tEND IF;\n",
    "\t   \tEND\n",
    "        @"
   ]
  },
  {
   "cell_type": "code",
   "execution_count": 6,
   "id": "23055d70-4946-4201-95d5-c1e82a6dac55",
   "metadata": {},
   "outputs": [
    {
     "name": "stdout",
     "output_type": "stream",
     "text": [
      " * ibm_db_sa://mgr61801:***@0c77d6f2-5da9-48a9-81f8-86b520b87518.bs2io90l08kqb1od8lcg.databases.appdomain.cloud:31198/bludb\n"
     ]
    },
    {
     "ename": "DataError",
     "evalue": "(ibm_db_dbi.DataError) ibm_db_dbi::DataError: Statement Execute Failed: [IBM][CLI Driver][DB2/LINUXX8664] SQL0433N  Value \"Average\" is too long.  SQLSTATE=22001\\r SQLCODE=-433\n[SQL: call update_leaders_score(610281,56);]\n(Background on this error at: http://sqlalche.me/e/13/9h9h)",
     "output_type": "error",
     "traceback": [
      "\u001b[1;31m---------------------------------------------------------------------------\u001b[0m",
      "\u001b[1;31mException\u001b[0m                                 Traceback (most recent call last)",
      "\u001b[1;32mC:\\ProgramData\\Anaconda3\\lib\\site-packages\\ibm_db_dbi.py\u001b[0m in \u001b[0;36m_execute_helper\u001b[1;34m(self, parameters)\u001b[0m\n\u001b[0;32m   1305\u001b[0m             \u001b[1;32mtry\u001b[0m\u001b[1;33m:\u001b[0m\u001b[1;33m\u001b[0m\u001b[1;33m\u001b[0m\u001b[0m\n\u001b[1;32m-> 1306\u001b[1;33m                 \u001b[0mreturn_value\u001b[0m \u001b[1;33m=\u001b[0m \u001b[0mibm_db\u001b[0m\u001b[1;33m.\u001b[0m\u001b[0mexecute\u001b[0m\u001b[1;33m(\u001b[0m\u001b[0mself\u001b[0m\u001b[1;33m.\u001b[0m\u001b[0mstmt_handler\u001b[0m\u001b[1;33m,\u001b[0m \u001b[0mparameters\u001b[0m\u001b[1;33m)\u001b[0m\u001b[1;33m\u001b[0m\u001b[1;33m\u001b[0m\u001b[0m\n\u001b[0m\u001b[0;32m   1307\u001b[0m                 \u001b[1;32mif\u001b[0m \u001b[1;32mnot\u001b[0m \u001b[0mreturn_value\u001b[0m\u001b[1;33m:\u001b[0m\u001b[1;33m\u001b[0m\u001b[1;33m\u001b[0m\u001b[0m\n",
      "\u001b[1;31mException\u001b[0m: Statement Execute Failed: [IBM][CLI Driver][DB2/LINUXX8664] SQL0433N  Value \"Average\" is too long.  SQLSTATE=22001\r SQLCODE=-433",
      "\nDuring handling of the above exception, another exception occurred:\n",
      "\u001b[1;31mDataError\u001b[0m                                 Traceback (most recent call last)",
      "\u001b[1;32mC:\\ProgramData\\Anaconda3\\lib\\site-packages\\sqlalchemy\\engine\\base.py\u001b[0m in \u001b[0;36m_execute_context\u001b[1;34m(self, dialect, constructor, statement, parameters, *args)\u001b[0m\n\u001b[0;32m   1276\u001b[0m                     self.dialect.do_execute(\n\u001b[1;32m-> 1277\u001b[1;33m                         \u001b[0mcursor\u001b[0m\u001b[1;33m,\u001b[0m \u001b[0mstatement\u001b[0m\u001b[1;33m,\u001b[0m \u001b[0mparameters\u001b[0m\u001b[1;33m,\u001b[0m \u001b[0mcontext\u001b[0m\u001b[1;33m\u001b[0m\u001b[1;33m\u001b[0m\u001b[0m\n\u001b[0m\u001b[0;32m   1278\u001b[0m                     )\n",
      "\u001b[1;32mC:\\ProgramData\\Anaconda3\\lib\\site-packages\\ibm_db_sa\\ibm_db.py\u001b[0m in \u001b[0;36mdo_execute\u001b[1;34m(self, cursor, statement, parameters, context)\u001b[0m\n\u001b[0;32m    115\u001b[0m         \u001b[1;32melse\u001b[0m\u001b[1;33m:\u001b[0m\u001b[1;33m\u001b[0m\u001b[1;33m\u001b[0m\u001b[0m\n\u001b[1;32m--> 116\u001b[1;33m             \u001b[0mcursor\u001b[0m\u001b[1;33m.\u001b[0m\u001b[0mexecute\u001b[0m\u001b[1;33m(\u001b[0m\u001b[0mstatement\u001b[0m\u001b[1;33m,\u001b[0m \u001b[0mparameters\u001b[0m\u001b[1;33m)\u001b[0m\u001b[1;33m\u001b[0m\u001b[1;33m\u001b[0m\u001b[0m\n\u001b[0m\u001b[0;32m    117\u001b[0m \u001b[1;33m\u001b[0m\u001b[0m\n",
      "\u001b[1;32mC:\\ProgramData\\Anaconda3\\lib\\site-packages\\ibm_db_dbi.py\u001b[0m in \u001b[0;36mexecute\u001b[1;34m(self, operation, parameters)\u001b[0m\n\u001b[0;32m   1403\u001b[0m         \u001b[0mself\u001b[0m\u001b[1;33m.\u001b[0m\u001b[0m_set_cursor_helper\u001b[0m\u001b[1;33m(\u001b[0m\u001b[1;33m)\u001b[0m\u001b[1;33m\u001b[0m\u001b[1;33m\u001b[0m\u001b[0m\n\u001b[1;32m-> 1404\u001b[1;33m         \u001b[0mself\u001b[0m\u001b[1;33m.\u001b[0m\u001b[0m_execute_helper\u001b[0m\u001b[1;33m(\u001b[0m\u001b[0mparameters\u001b[0m\u001b[1;33m)\u001b[0m\u001b[1;33m\u001b[0m\u001b[1;33m\u001b[0m\u001b[0m\n\u001b[0m\u001b[0;32m   1405\u001b[0m         \u001b[1;32mreturn\u001b[0m \u001b[0mself\u001b[0m\u001b[1;33m.\u001b[0m\u001b[0m_set_rowcount\u001b[0m\u001b[1;33m(\u001b[0m\u001b[1;33m)\u001b[0m\u001b[1;33m\u001b[0m\u001b[1;33m\u001b[0m\u001b[0m\n",
      "\u001b[1;32mC:\\ProgramData\\Anaconda3\\lib\\site-packages\\ibm_db_dbi.py\u001b[0m in \u001b[0;36m_execute_helper\u001b[1;34m(self, parameters)\u001b[0m\n\u001b[0;32m   1315\u001b[0m                 \u001b[0mself\u001b[0m\u001b[1;33m.\u001b[0m\u001b[0mmessages\u001b[0m\u001b[1;33m.\u001b[0m\u001b[0mappend\u001b[0m\u001b[1;33m(\u001b[0m\u001b[0m_get_exception\u001b[0m\u001b[1;33m(\u001b[0m\u001b[0minst\u001b[0m\u001b[1;33m)\u001b[0m\u001b[1;33m)\u001b[0m\u001b[1;33m\u001b[0m\u001b[1;33m\u001b[0m\u001b[0m\n\u001b[1;32m-> 1316\u001b[1;33m                 \u001b[1;32mraise\u001b[0m \u001b[0mself\u001b[0m\u001b[1;33m.\u001b[0m\u001b[0mmessages\u001b[0m\u001b[1;33m[\u001b[0m\u001b[0mlen\u001b[0m\u001b[1;33m(\u001b[0m\u001b[0mself\u001b[0m\u001b[1;33m.\u001b[0m\u001b[0mmessages\u001b[0m\u001b[1;33m)\u001b[0m \u001b[1;33m-\u001b[0m \u001b[1;36m1\u001b[0m\u001b[1;33m]\u001b[0m\u001b[1;33m\u001b[0m\u001b[1;33m\u001b[0m\u001b[0m\n\u001b[0m\u001b[0;32m   1317\u001b[0m         \u001b[1;32melse\u001b[0m\u001b[1;33m:\u001b[0m\u001b[1;33m\u001b[0m\u001b[1;33m\u001b[0m\u001b[0m\n",
      "\u001b[1;31mDataError\u001b[0m: ibm_db_dbi::DataError: Statement Execute Failed: [IBM][CLI Driver][DB2/LINUXX8664] SQL0433N  Value \"Average\" is too long.  SQLSTATE=22001\\r SQLCODE=-433",
      "\nThe above exception was the direct cause of the following exception:\n",
      "\u001b[1;31mDataError\u001b[0m                                 Traceback (most recent call last)",
      "\u001b[1;32m<ipython-input-6-f818145589f0>\u001b[0m in \u001b[0;36m<module>\u001b[1;34m\u001b[0m\n\u001b[1;32m----> 1\u001b[1;33m \u001b[0mget_ipython\u001b[0m\u001b[1;33m(\u001b[0m\u001b[1;33m)\u001b[0m\u001b[1;33m.\u001b[0m\u001b[0mrun_line_magic\u001b[0m\u001b[1;33m(\u001b[0m\u001b[1;34m'sql'\u001b[0m\u001b[1;33m,\u001b[0m \u001b[1;34m'call update_leaders_score(610281,56);'\u001b[0m\u001b[1;33m)\u001b[0m\u001b[1;33m\u001b[0m\u001b[1;33m\u001b[0m\u001b[0m\n\u001b[0m",
      "\u001b[1;32mC:\\ProgramData\\Anaconda3\\lib\\site-packages\\IPython\\core\\interactiveshell.py\u001b[0m in \u001b[0;36mrun_line_magic\u001b[1;34m(self, magic_name, line, _stack_depth)\u001b[0m\n\u001b[0;32m   2346\u001b[0m                 \u001b[0mkwargs\u001b[0m\u001b[1;33m[\u001b[0m\u001b[1;34m'local_ns'\u001b[0m\u001b[1;33m]\u001b[0m \u001b[1;33m=\u001b[0m \u001b[0mself\u001b[0m\u001b[1;33m.\u001b[0m\u001b[0mget_local_scope\u001b[0m\u001b[1;33m(\u001b[0m\u001b[0mstack_depth\u001b[0m\u001b[1;33m)\u001b[0m\u001b[1;33m\u001b[0m\u001b[1;33m\u001b[0m\u001b[0m\n\u001b[0;32m   2347\u001b[0m             \u001b[1;32mwith\u001b[0m \u001b[0mself\u001b[0m\u001b[1;33m.\u001b[0m\u001b[0mbuiltin_trap\u001b[0m\u001b[1;33m:\u001b[0m\u001b[1;33m\u001b[0m\u001b[1;33m\u001b[0m\u001b[0m\n\u001b[1;32m-> 2348\u001b[1;33m                 \u001b[0mresult\u001b[0m \u001b[1;33m=\u001b[0m \u001b[0mfn\u001b[0m\u001b[1;33m(\u001b[0m\u001b[1;33m*\u001b[0m\u001b[0margs\u001b[0m\u001b[1;33m,\u001b[0m \u001b[1;33m**\u001b[0m\u001b[0mkwargs\u001b[0m\u001b[1;33m)\u001b[0m\u001b[1;33m\u001b[0m\u001b[1;33m\u001b[0m\u001b[0m\n\u001b[0m\u001b[0;32m   2349\u001b[0m             \u001b[1;32mreturn\u001b[0m \u001b[0mresult\u001b[0m\u001b[1;33m\u001b[0m\u001b[1;33m\u001b[0m\u001b[0m\n\u001b[0;32m   2350\u001b[0m \u001b[1;33m\u001b[0m\u001b[0m\n",
      "\u001b[1;32mC:\\ProgramData\\Anaconda3\\lib\\site-packages\\decorator.py\u001b[0m in \u001b[0;36mfun\u001b[1;34m(*args, **kw)\u001b[0m\n\u001b[0;32m    230\u001b[0m             \u001b[1;32mif\u001b[0m \u001b[1;32mnot\u001b[0m \u001b[0mkwsyntax\u001b[0m\u001b[1;33m:\u001b[0m\u001b[1;33m\u001b[0m\u001b[1;33m\u001b[0m\u001b[0m\n\u001b[0;32m    231\u001b[0m                 \u001b[0margs\u001b[0m\u001b[1;33m,\u001b[0m \u001b[0mkw\u001b[0m \u001b[1;33m=\u001b[0m \u001b[0mfix\u001b[0m\u001b[1;33m(\u001b[0m\u001b[0margs\u001b[0m\u001b[1;33m,\u001b[0m \u001b[0mkw\u001b[0m\u001b[1;33m,\u001b[0m \u001b[0msig\u001b[0m\u001b[1;33m)\u001b[0m\u001b[1;33m\u001b[0m\u001b[1;33m\u001b[0m\u001b[0m\n\u001b[1;32m--> 232\u001b[1;33m             \u001b[1;32mreturn\u001b[0m \u001b[0mcaller\u001b[0m\u001b[1;33m(\u001b[0m\u001b[0mfunc\u001b[0m\u001b[1;33m,\u001b[0m \u001b[1;33m*\u001b[0m\u001b[1;33m(\u001b[0m\u001b[0mextras\u001b[0m \u001b[1;33m+\u001b[0m \u001b[0margs\u001b[0m\u001b[1;33m)\u001b[0m\u001b[1;33m,\u001b[0m \u001b[1;33m**\u001b[0m\u001b[0mkw\u001b[0m\u001b[1;33m)\u001b[0m\u001b[1;33m\u001b[0m\u001b[1;33m\u001b[0m\u001b[0m\n\u001b[0m\u001b[0;32m    233\u001b[0m     \u001b[0mfun\u001b[0m\u001b[1;33m.\u001b[0m\u001b[0m__name__\u001b[0m \u001b[1;33m=\u001b[0m \u001b[0mfunc\u001b[0m\u001b[1;33m.\u001b[0m\u001b[0m__name__\u001b[0m\u001b[1;33m\u001b[0m\u001b[1;33m\u001b[0m\u001b[0m\n\u001b[0;32m    234\u001b[0m     \u001b[0mfun\u001b[0m\u001b[1;33m.\u001b[0m\u001b[0m__doc__\u001b[0m \u001b[1;33m=\u001b[0m \u001b[0mfunc\u001b[0m\u001b[1;33m.\u001b[0m\u001b[0m__doc__\u001b[0m\u001b[1;33m\u001b[0m\u001b[1;33m\u001b[0m\u001b[0m\n",
      "\u001b[1;32mC:\\ProgramData\\Anaconda3\\lib\\site-packages\\IPython\\core\\magic.py\u001b[0m in \u001b[0;36m<lambda>\u001b[1;34m(f, *a, **k)\u001b[0m\n\u001b[0;32m    185\u001b[0m     \u001b[1;31m# but it's overkill for just that one bit of state.\u001b[0m\u001b[1;33m\u001b[0m\u001b[1;33m\u001b[0m\u001b[1;33m\u001b[0m\u001b[0m\n\u001b[0;32m    186\u001b[0m     \u001b[1;32mdef\u001b[0m \u001b[0mmagic_deco\u001b[0m\u001b[1;33m(\u001b[0m\u001b[0marg\u001b[0m\u001b[1;33m)\u001b[0m\u001b[1;33m:\u001b[0m\u001b[1;33m\u001b[0m\u001b[1;33m\u001b[0m\u001b[0m\n\u001b[1;32m--> 187\u001b[1;33m         \u001b[0mcall\u001b[0m \u001b[1;33m=\u001b[0m \u001b[1;32mlambda\u001b[0m \u001b[0mf\u001b[0m\u001b[1;33m,\u001b[0m \u001b[1;33m*\u001b[0m\u001b[0ma\u001b[0m\u001b[1;33m,\u001b[0m \u001b[1;33m**\u001b[0m\u001b[0mk\u001b[0m\u001b[1;33m:\u001b[0m \u001b[0mf\u001b[0m\u001b[1;33m(\u001b[0m\u001b[1;33m*\u001b[0m\u001b[0ma\u001b[0m\u001b[1;33m,\u001b[0m \u001b[1;33m**\u001b[0m\u001b[0mk\u001b[0m\u001b[1;33m)\u001b[0m\u001b[1;33m\u001b[0m\u001b[1;33m\u001b[0m\u001b[0m\n\u001b[0m\u001b[0;32m    188\u001b[0m \u001b[1;33m\u001b[0m\u001b[0m\n\u001b[0;32m    189\u001b[0m         \u001b[1;32mif\u001b[0m \u001b[0mcallable\u001b[0m\u001b[1;33m(\u001b[0m\u001b[0marg\u001b[0m\u001b[1;33m)\u001b[0m\u001b[1;33m:\u001b[0m\u001b[1;33m\u001b[0m\u001b[1;33m\u001b[0m\u001b[0m\n",
      "\u001b[1;32mC:\\ProgramData\\Anaconda3\\lib\\site-packages\\decorator.py\u001b[0m in \u001b[0;36mfun\u001b[1;34m(*args, **kw)\u001b[0m\n\u001b[0;32m    230\u001b[0m             \u001b[1;32mif\u001b[0m \u001b[1;32mnot\u001b[0m \u001b[0mkwsyntax\u001b[0m\u001b[1;33m:\u001b[0m\u001b[1;33m\u001b[0m\u001b[1;33m\u001b[0m\u001b[0m\n\u001b[0;32m    231\u001b[0m                 \u001b[0margs\u001b[0m\u001b[1;33m,\u001b[0m \u001b[0mkw\u001b[0m \u001b[1;33m=\u001b[0m \u001b[0mfix\u001b[0m\u001b[1;33m(\u001b[0m\u001b[0margs\u001b[0m\u001b[1;33m,\u001b[0m \u001b[0mkw\u001b[0m\u001b[1;33m,\u001b[0m \u001b[0msig\u001b[0m\u001b[1;33m)\u001b[0m\u001b[1;33m\u001b[0m\u001b[1;33m\u001b[0m\u001b[0m\n\u001b[1;32m--> 232\u001b[1;33m             \u001b[1;32mreturn\u001b[0m \u001b[0mcaller\u001b[0m\u001b[1;33m(\u001b[0m\u001b[0mfunc\u001b[0m\u001b[1;33m,\u001b[0m \u001b[1;33m*\u001b[0m\u001b[1;33m(\u001b[0m\u001b[0mextras\u001b[0m \u001b[1;33m+\u001b[0m \u001b[0margs\u001b[0m\u001b[1;33m)\u001b[0m\u001b[1;33m,\u001b[0m \u001b[1;33m**\u001b[0m\u001b[0mkw\u001b[0m\u001b[1;33m)\u001b[0m\u001b[1;33m\u001b[0m\u001b[1;33m\u001b[0m\u001b[0m\n\u001b[0m\u001b[0;32m    233\u001b[0m     \u001b[0mfun\u001b[0m\u001b[1;33m.\u001b[0m\u001b[0m__name__\u001b[0m \u001b[1;33m=\u001b[0m \u001b[0mfunc\u001b[0m\u001b[1;33m.\u001b[0m\u001b[0m__name__\u001b[0m\u001b[1;33m\u001b[0m\u001b[1;33m\u001b[0m\u001b[0m\n\u001b[0;32m    234\u001b[0m     \u001b[0mfun\u001b[0m\u001b[1;33m.\u001b[0m\u001b[0m__doc__\u001b[0m \u001b[1;33m=\u001b[0m \u001b[0mfunc\u001b[0m\u001b[1;33m.\u001b[0m\u001b[0m__doc__\u001b[0m\u001b[1;33m\u001b[0m\u001b[1;33m\u001b[0m\u001b[0m\n",
      "\u001b[1;32mC:\\ProgramData\\Anaconda3\\lib\\site-packages\\IPython\\core\\magic.py\u001b[0m in \u001b[0;36m<lambda>\u001b[1;34m(f, *a, **k)\u001b[0m\n\u001b[0;32m    185\u001b[0m     \u001b[1;31m# but it's overkill for just that one bit of state.\u001b[0m\u001b[1;33m\u001b[0m\u001b[1;33m\u001b[0m\u001b[1;33m\u001b[0m\u001b[0m\n\u001b[0;32m    186\u001b[0m     \u001b[1;32mdef\u001b[0m \u001b[0mmagic_deco\u001b[0m\u001b[1;33m(\u001b[0m\u001b[0marg\u001b[0m\u001b[1;33m)\u001b[0m\u001b[1;33m:\u001b[0m\u001b[1;33m\u001b[0m\u001b[1;33m\u001b[0m\u001b[0m\n\u001b[1;32m--> 187\u001b[1;33m         \u001b[0mcall\u001b[0m \u001b[1;33m=\u001b[0m \u001b[1;32mlambda\u001b[0m \u001b[0mf\u001b[0m\u001b[1;33m,\u001b[0m \u001b[1;33m*\u001b[0m\u001b[0ma\u001b[0m\u001b[1;33m,\u001b[0m \u001b[1;33m**\u001b[0m\u001b[0mk\u001b[0m\u001b[1;33m:\u001b[0m \u001b[0mf\u001b[0m\u001b[1;33m(\u001b[0m\u001b[1;33m*\u001b[0m\u001b[0ma\u001b[0m\u001b[1;33m,\u001b[0m \u001b[1;33m**\u001b[0m\u001b[0mk\u001b[0m\u001b[1;33m)\u001b[0m\u001b[1;33m\u001b[0m\u001b[1;33m\u001b[0m\u001b[0m\n\u001b[0m\u001b[0;32m    188\u001b[0m \u001b[1;33m\u001b[0m\u001b[0m\n\u001b[0;32m    189\u001b[0m         \u001b[1;32mif\u001b[0m \u001b[0mcallable\u001b[0m\u001b[1;33m(\u001b[0m\u001b[0marg\u001b[0m\u001b[1;33m)\u001b[0m\u001b[1;33m:\u001b[0m\u001b[1;33m\u001b[0m\u001b[1;33m\u001b[0m\u001b[0m\n",
      "\u001b[1;32mC:\\ProgramData\\Anaconda3\\lib\\site-packages\\sql\\magic.py\u001b[0m in \u001b[0;36mexecute\u001b[1;34m(self, line, cell, local_ns)\u001b[0m\n\u001b[0;32m     93\u001b[0m \u001b[1;33m\u001b[0m\u001b[0m\n\u001b[0;32m     94\u001b[0m         \u001b[1;32mtry\u001b[0m\u001b[1;33m:\u001b[0m\u001b[1;33m\u001b[0m\u001b[1;33m\u001b[0m\u001b[0m\n\u001b[1;32m---> 95\u001b[1;33m             \u001b[0mresult\u001b[0m \u001b[1;33m=\u001b[0m \u001b[0msql\u001b[0m\u001b[1;33m.\u001b[0m\u001b[0mrun\u001b[0m\u001b[1;33m.\u001b[0m\u001b[0mrun\u001b[0m\u001b[1;33m(\u001b[0m\u001b[0mconn\u001b[0m\u001b[1;33m,\u001b[0m \u001b[0mparsed\u001b[0m\u001b[1;33m[\u001b[0m\u001b[1;34m'sql'\u001b[0m\u001b[1;33m]\u001b[0m\u001b[1;33m,\u001b[0m \u001b[0mself\u001b[0m\u001b[1;33m,\u001b[0m \u001b[0muser_ns\u001b[0m\u001b[1;33m)\u001b[0m\u001b[1;33m\u001b[0m\u001b[1;33m\u001b[0m\u001b[0m\n\u001b[0m\u001b[0;32m     96\u001b[0m \u001b[1;33m\u001b[0m\u001b[0m\n\u001b[0;32m     97\u001b[0m             \u001b[1;32mif\u001b[0m \u001b[0mresult\u001b[0m \u001b[1;32mis\u001b[0m \u001b[1;32mnot\u001b[0m \u001b[1;32mNone\u001b[0m \u001b[1;32mand\u001b[0m \u001b[1;32mnot\u001b[0m \u001b[0misinstance\u001b[0m\u001b[1;33m(\u001b[0m\u001b[0mresult\u001b[0m\u001b[1;33m,\u001b[0m \u001b[0mstr\u001b[0m\u001b[1;33m)\u001b[0m \u001b[1;32mand\u001b[0m \u001b[0mself\u001b[0m\u001b[1;33m.\u001b[0m\u001b[0mcolumn_local_vars\u001b[0m\u001b[1;33m:\u001b[0m\u001b[1;33m\u001b[0m\u001b[1;33m\u001b[0m\u001b[0m\n",
      "\u001b[1;32mC:\\ProgramData\\Anaconda3\\lib\\site-packages\\sql\\run.py\u001b[0m in \u001b[0;36mrun\u001b[1;34m(conn, sql, config, user_namespace)\u001b[0m\n\u001b[0;32m    338\u001b[0m             \u001b[1;32melse\u001b[0m\u001b[1;33m:\u001b[0m\u001b[1;33m\u001b[0m\u001b[1;33m\u001b[0m\u001b[0m\n\u001b[0;32m    339\u001b[0m                 \u001b[0mtxt\u001b[0m \u001b[1;33m=\u001b[0m \u001b[0msqlalchemy\u001b[0m\u001b[1;33m.\u001b[0m\u001b[0msql\u001b[0m\u001b[1;33m.\u001b[0m\u001b[0mtext\u001b[0m\u001b[1;33m(\u001b[0m\u001b[0mstatement\u001b[0m\u001b[1;33m)\u001b[0m\u001b[1;33m\u001b[0m\u001b[1;33m\u001b[0m\u001b[0m\n\u001b[1;32m--> 340\u001b[1;33m                 \u001b[0mresult\u001b[0m \u001b[1;33m=\u001b[0m \u001b[0mconn\u001b[0m\u001b[1;33m.\u001b[0m\u001b[0msession\u001b[0m\u001b[1;33m.\u001b[0m\u001b[0mexecute\u001b[0m\u001b[1;33m(\u001b[0m\u001b[0mtxt\u001b[0m\u001b[1;33m,\u001b[0m \u001b[0muser_namespace\u001b[0m\u001b[1;33m)\u001b[0m\u001b[1;33m\u001b[0m\u001b[1;33m\u001b[0m\u001b[0m\n\u001b[0m\u001b[0;32m    341\u001b[0m             \u001b[0m_commit\u001b[0m\u001b[1;33m(\u001b[0m\u001b[0mconn\u001b[0m\u001b[1;33m=\u001b[0m\u001b[0mconn\u001b[0m\u001b[1;33m,\u001b[0m \u001b[0mconfig\u001b[0m\u001b[1;33m=\u001b[0m\u001b[0mconfig\u001b[0m\u001b[1;33m)\u001b[0m\u001b[1;33m\u001b[0m\u001b[1;33m\u001b[0m\u001b[0m\n\u001b[0;32m    342\u001b[0m             \u001b[1;32mif\u001b[0m \u001b[0mresult\u001b[0m \u001b[1;32mand\u001b[0m \u001b[0mconfig\u001b[0m\u001b[1;33m.\u001b[0m\u001b[0mfeedback\u001b[0m\u001b[1;33m:\u001b[0m\u001b[1;33m\u001b[0m\u001b[1;33m\u001b[0m\u001b[0m\n",
      "\u001b[1;32mC:\\ProgramData\\Anaconda3\\lib\\site-packages\\sqlalchemy\\engine\\base.py\u001b[0m in \u001b[0;36mexecute\u001b[1;34m(self, object_, *multiparams, **params)\u001b[0m\n\u001b[0;32m   1009\u001b[0m             )\n\u001b[0;32m   1010\u001b[0m         \u001b[1;32melse\u001b[0m\u001b[1;33m:\u001b[0m\u001b[1;33m\u001b[0m\u001b[1;33m\u001b[0m\u001b[0m\n\u001b[1;32m-> 1011\u001b[1;33m             \u001b[1;32mreturn\u001b[0m \u001b[0mmeth\u001b[0m\u001b[1;33m(\u001b[0m\u001b[0mself\u001b[0m\u001b[1;33m,\u001b[0m \u001b[0mmultiparams\u001b[0m\u001b[1;33m,\u001b[0m \u001b[0mparams\u001b[0m\u001b[1;33m)\u001b[0m\u001b[1;33m\u001b[0m\u001b[1;33m\u001b[0m\u001b[0m\n\u001b[0m\u001b[0;32m   1012\u001b[0m \u001b[1;33m\u001b[0m\u001b[0m\n\u001b[0;32m   1013\u001b[0m     \u001b[1;32mdef\u001b[0m \u001b[0m_execute_function\u001b[0m\u001b[1;33m(\u001b[0m\u001b[0mself\u001b[0m\u001b[1;33m,\u001b[0m \u001b[0mfunc\u001b[0m\u001b[1;33m,\u001b[0m \u001b[0mmultiparams\u001b[0m\u001b[1;33m,\u001b[0m \u001b[0mparams\u001b[0m\u001b[1;33m)\u001b[0m\u001b[1;33m:\u001b[0m\u001b[1;33m\u001b[0m\u001b[1;33m\u001b[0m\u001b[0m\n",
      "\u001b[1;32mC:\\ProgramData\\Anaconda3\\lib\\site-packages\\sqlalchemy\\sql\\elements.py\u001b[0m in \u001b[0;36m_execute_on_connection\u001b[1;34m(self, connection, multiparams, params)\u001b[0m\n\u001b[0;32m    296\u001b[0m     \u001b[1;32mdef\u001b[0m \u001b[0m_execute_on_connection\u001b[0m\u001b[1;33m(\u001b[0m\u001b[0mself\u001b[0m\u001b[1;33m,\u001b[0m \u001b[0mconnection\u001b[0m\u001b[1;33m,\u001b[0m \u001b[0mmultiparams\u001b[0m\u001b[1;33m,\u001b[0m \u001b[0mparams\u001b[0m\u001b[1;33m)\u001b[0m\u001b[1;33m:\u001b[0m\u001b[1;33m\u001b[0m\u001b[1;33m\u001b[0m\u001b[0m\n\u001b[0;32m    297\u001b[0m         \u001b[1;32mif\u001b[0m \u001b[0mself\u001b[0m\u001b[1;33m.\u001b[0m\u001b[0msupports_execution\u001b[0m\u001b[1;33m:\u001b[0m\u001b[1;33m\u001b[0m\u001b[1;33m\u001b[0m\u001b[0m\n\u001b[1;32m--> 298\u001b[1;33m             \u001b[1;32mreturn\u001b[0m \u001b[0mconnection\u001b[0m\u001b[1;33m.\u001b[0m\u001b[0m_execute_clauseelement\u001b[0m\u001b[1;33m(\u001b[0m\u001b[0mself\u001b[0m\u001b[1;33m,\u001b[0m \u001b[0mmultiparams\u001b[0m\u001b[1;33m,\u001b[0m \u001b[0mparams\u001b[0m\u001b[1;33m)\u001b[0m\u001b[1;33m\u001b[0m\u001b[1;33m\u001b[0m\u001b[0m\n\u001b[0m\u001b[0;32m    299\u001b[0m         \u001b[1;32melse\u001b[0m\u001b[1;33m:\u001b[0m\u001b[1;33m\u001b[0m\u001b[1;33m\u001b[0m\u001b[0m\n\u001b[0;32m    300\u001b[0m             \u001b[1;32mraise\u001b[0m \u001b[0mexc\u001b[0m\u001b[1;33m.\u001b[0m\u001b[0mObjectNotExecutableError\u001b[0m\u001b[1;33m(\u001b[0m\u001b[0mself\u001b[0m\u001b[1;33m)\u001b[0m\u001b[1;33m\u001b[0m\u001b[1;33m\u001b[0m\u001b[0m\n",
      "\u001b[1;32mC:\\ProgramData\\Anaconda3\\lib\\site-packages\\sqlalchemy\\engine\\base.py\u001b[0m in \u001b[0;36m_execute_clauseelement\u001b[1;34m(self, elem, multiparams, params)\u001b[0m\n\u001b[0;32m   1128\u001b[0m             \u001b[0mdistilled_params\u001b[0m\u001b[1;33m,\u001b[0m\u001b[1;33m\u001b[0m\u001b[1;33m\u001b[0m\u001b[0m\n\u001b[0;32m   1129\u001b[0m             \u001b[0mcompiled_sql\u001b[0m\u001b[1;33m,\u001b[0m\u001b[1;33m\u001b[0m\u001b[1;33m\u001b[0m\u001b[0m\n\u001b[1;32m-> 1130\u001b[1;33m             \u001b[0mdistilled_params\u001b[0m\u001b[1;33m,\u001b[0m\u001b[1;33m\u001b[0m\u001b[1;33m\u001b[0m\u001b[0m\n\u001b[0m\u001b[0;32m   1131\u001b[0m         )\n\u001b[0;32m   1132\u001b[0m         \u001b[1;32mif\u001b[0m \u001b[0mself\u001b[0m\u001b[1;33m.\u001b[0m\u001b[0m_has_events\u001b[0m \u001b[1;32mor\u001b[0m \u001b[0mself\u001b[0m\u001b[1;33m.\u001b[0m\u001b[0mengine\u001b[0m\u001b[1;33m.\u001b[0m\u001b[0m_has_events\u001b[0m\u001b[1;33m:\u001b[0m\u001b[1;33m\u001b[0m\u001b[1;33m\u001b[0m\u001b[0m\n",
      "\u001b[1;32mC:\\ProgramData\\Anaconda3\\lib\\site-packages\\sqlalchemy\\engine\\base.py\u001b[0m in \u001b[0;36m_execute_context\u001b[1;34m(self, dialect, constructor, statement, parameters, *args)\u001b[0m\n\u001b[0;32m   1315\u001b[0m         \u001b[1;32mexcept\u001b[0m \u001b[0mBaseException\u001b[0m \u001b[1;32mas\u001b[0m \u001b[0me\u001b[0m\u001b[1;33m:\u001b[0m\u001b[1;33m\u001b[0m\u001b[1;33m\u001b[0m\u001b[0m\n\u001b[0;32m   1316\u001b[0m             self._handle_dbapi_exception(\n\u001b[1;32m-> 1317\u001b[1;33m                 \u001b[0me\u001b[0m\u001b[1;33m,\u001b[0m \u001b[0mstatement\u001b[0m\u001b[1;33m,\u001b[0m \u001b[0mparameters\u001b[0m\u001b[1;33m,\u001b[0m \u001b[0mcursor\u001b[0m\u001b[1;33m,\u001b[0m \u001b[0mcontext\u001b[0m\u001b[1;33m\u001b[0m\u001b[1;33m\u001b[0m\u001b[0m\n\u001b[0m\u001b[0;32m   1318\u001b[0m             )\n\u001b[0;32m   1319\u001b[0m \u001b[1;33m\u001b[0m\u001b[0m\n",
      "\u001b[1;32mC:\\ProgramData\\Anaconda3\\lib\\site-packages\\sqlalchemy\\engine\\base.py\u001b[0m in \u001b[0;36m_handle_dbapi_exception\u001b[1;34m(self, e, statement, parameters, cursor, context)\u001b[0m\n\u001b[0;32m   1509\u001b[0m             \u001b[1;32melif\u001b[0m \u001b[0mshould_wrap\u001b[0m\u001b[1;33m:\u001b[0m\u001b[1;33m\u001b[0m\u001b[1;33m\u001b[0m\u001b[0m\n\u001b[0;32m   1510\u001b[0m                 util.raise_(\n\u001b[1;32m-> 1511\u001b[1;33m                     \u001b[0msqlalchemy_exception\u001b[0m\u001b[1;33m,\u001b[0m \u001b[0mwith_traceback\u001b[0m\u001b[1;33m=\u001b[0m\u001b[0mexc_info\u001b[0m\u001b[1;33m[\u001b[0m\u001b[1;36m2\u001b[0m\u001b[1;33m]\u001b[0m\u001b[1;33m,\u001b[0m \u001b[0mfrom_\u001b[0m\u001b[1;33m=\u001b[0m\u001b[0me\u001b[0m\u001b[1;33m\u001b[0m\u001b[1;33m\u001b[0m\u001b[0m\n\u001b[0m\u001b[0;32m   1512\u001b[0m                 )\n\u001b[0;32m   1513\u001b[0m             \u001b[1;32melse\u001b[0m\u001b[1;33m:\u001b[0m\u001b[1;33m\u001b[0m\u001b[1;33m\u001b[0m\u001b[0m\n",
      "\u001b[1;32mC:\\ProgramData\\Anaconda3\\lib\\site-packages\\sqlalchemy\\util\\compat.py\u001b[0m in \u001b[0;36mraise_\u001b[1;34m(***failed resolving arguments***)\u001b[0m\n\u001b[0;32m    180\u001b[0m \u001b[1;33m\u001b[0m\u001b[0m\n\u001b[0;32m    181\u001b[0m         \u001b[1;32mtry\u001b[0m\u001b[1;33m:\u001b[0m\u001b[1;33m\u001b[0m\u001b[1;33m\u001b[0m\u001b[0m\n\u001b[1;32m--> 182\u001b[1;33m             \u001b[1;32mraise\u001b[0m \u001b[0mexception\u001b[0m\u001b[1;33m\u001b[0m\u001b[1;33m\u001b[0m\u001b[0m\n\u001b[0m\u001b[0;32m    183\u001b[0m         \u001b[1;32mfinally\u001b[0m\u001b[1;33m:\u001b[0m\u001b[1;33m\u001b[0m\u001b[1;33m\u001b[0m\u001b[0m\n\u001b[0;32m    184\u001b[0m             \u001b[1;31m# credit to\u001b[0m\u001b[1;33m\u001b[0m\u001b[1;33m\u001b[0m\u001b[1;33m\u001b[0m\u001b[0m\n",
      "\u001b[1;32mC:\\ProgramData\\Anaconda3\\lib\\site-packages\\sqlalchemy\\engine\\base.py\u001b[0m in \u001b[0;36m_execute_context\u001b[1;34m(self, dialect, constructor, statement, parameters, *args)\u001b[0m\n\u001b[0;32m   1275\u001b[0m                 \u001b[1;32mif\u001b[0m \u001b[1;32mnot\u001b[0m \u001b[0mevt_handled\u001b[0m\u001b[1;33m:\u001b[0m\u001b[1;33m\u001b[0m\u001b[1;33m\u001b[0m\u001b[0m\n\u001b[0;32m   1276\u001b[0m                     self.dialect.do_execute(\n\u001b[1;32m-> 1277\u001b[1;33m                         \u001b[0mcursor\u001b[0m\u001b[1;33m,\u001b[0m \u001b[0mstatement\u001b[0m\u001b[1;33m,\u001b[0m \u001b[0mparameters\u001b[0m\u001b[1;33m,\u001b[0m \u001b[0mcontext\u001b[0m\u001b[1;33m\u001b[0m\u001b[1;33m\u001b[0m\u001b[0m\n\u001b[0m\u001b[0;32m   1278\u001b[0m                     )\n\u001b[0;32m   1279\u001b[0m \u001b[1;33m\u001b[0m\u001b[0m\n",
      "\u001b[1;32mC:\\ProgramData\\Anaconda3\\lib\\site-packages\\ibm_db_sa\\ibm_db.py\u001b[0m in \u001b[0;36mdo_execute\u001b[1;34m(self, cursor, statement, parameters, context)\u001b[0m\n\u001b[0;32m    114\u001b[0m             \u001b[0mcontext\u001b[0m\u001b[1;33m.\u001b[0m\u001b[0m_callproc_result\u001b[0m \u001b[1;33m=\u001b[0m \u001b[0mcursor\u001b[0m\u001b[1;33m.\u001b[0m\u001b[0mcallproc\u001b[0m\u001b[1;33m(\u001b[0m\u001b[0mstatement\u001b[0m\u001b[1;33m,\u001b[0m \u001b[0mparameters\u001b[0m\u001b[1;33m)\u001b[0m\u001b[1;33m\u001b[0m\u001b[1;33m\u001b[0m\u001b[0m\n\u001b[0;32m    115\u001b[0m         \u001b[1;32melse\u001b[0m\u001b[1;33m:\u001b[0m\u001b[1;33m\u001b[0m\u001b[1;33m\u001b[0m\u001b[0m\n\u001b[1;32m--> 116\u001b[1;33m             \u001b[0mcursor\u001b[0m\u001b[1;33m.\u001b[0m\u001b[0mexecute\u001b[0m\u001b[1;33m(\u001b[0m\u001b[0mstatement\u001b[0m\u001b[1;33m,\u001b[0m \u001b[0mparameters\u001b[0m\u001b[1;33m)\u001b[0m\u001b[1;33m\u001b[0m\u001b[1;33m\u001b[0m\u001b[0m\n\u001b[0m\u001b[0;32m    117\u001b[0m \u001b[1;33m\u001b[0m\u001b[0m\n\u001b[0;32m    118\u001b[0m     \u001b[1;32mdef\u001b[0m \u001b[0m_get_server_version_info\u001b[0m\u001b[1;33m(\u001b[0m\u001b[0mself\u001b[0m\u001b[1;33m,\u001b[0m \u001b[0mconnection\u001b[0m\u001b[1;33m)\u001b[0m\u001b[1;33m:\u001b[0m\u001b[1;33m\u001b[0m\u001b[1;33m\u001b[0m\u001b[0m\n",
      "\u001b[1;32mC:\\ProgramData\\Anaconda3\\lib\\site-packages\\ibm_db_dbi.py\u001b[0m in \u001b[0;36mexecute\u001b[1;34m(self, operation, parameters)\u001b[0m\n\u001b[0;32m   1402\u001b[0m         \u001b[0mself\u001b[0m\u001b[1;33m.\u001b[0m\u001b[0m_prepare_helper\u001b[0m\u001b[1;33m(\u001b[0m\u001b[0moperation\u001b[0m\u001b[1;33m)\u001b[0m\u001b[1;33m\u001b[0m\u001b[1;33m\u001b[0m\u001b[0m\n\u001b[0;32m   1403\u001b[0m         \u001b[0mself\u001b[0m\u001b[1;33m.\u001b[0m\u001b[0m_set_cursor_helper\u001b[0m\u001b[1;33m(\u001b[0m\u001b[1;33m)\u001b[0m\u001b[1;33m\u001b[0m\u001b[1;33m\u001b[0m\u001b[0m\n\u001b[1;32m-> 1404\u001b[1;33m         \u001b[0mself\u001b[0m\u001b[1;33m.\u001b[0m\u001b[0m_execute_helper\u001b[0m\u001b[1;33m(\u001b[0m\u001b[0mparameters\u001b[0m\u001b[1;33m)\u001b[0m\u001b[1;33m\u001b[0m\u001b[1;33m\u001b[0m\u001b[0m\n\u001b[0m\u001b[0;32m   1405\u001b[0m         \u001b[1;32mreturn\u001b[0m \u001b[0mself\u001b[0m\u001b[1;33m.\u001b[0m\u001b[0m_set_rowcount\u001b[0m\u001b[1;33m(\u001b[0m\u001b[1;33m)\u001b[0m\u001b[1;33m\u001b[0m\u001b[1;33m\u001b[0m\u001b[0m\n\u001b[0;32m   1406\u001b[0m \u001b[1;33m\u001b[0m\u001b[0m\n",
      "\u001b[1;32mC:\\ProgramData\\Anaconda3\\lib\\site-packages\\ibm_db_dbi.py\u001b[0m in \u001b[0;36m_execute_helper\u001b[1;34m(self, parameters)\u001b[0m\n\u001b[0;32m   1314\u001b[0m             \u001b[1;32mexcept\u001b[0m \u001b[0mException\u001b[0m \u001b[1;32mas\u001b[0m \u001b[0minst\u001b[0m\u001b[1;33m:\u001b[0m\u001b[1;33m\u001b[0m\u001b[1;33m\u001b[0m\u001b[0m\n\u001b[0;32m   1315\u001b[0m                 \u001b[0mself\u001b[0m\u001b[1;33m.\u001b[0m\u001b[0mmessages\u001b[0m\u001b[1;33m.\u001b[0m\u001b[0mappend\u001b[0m\u001b[1;33m(\u001b[0m\u001b[0m_get_exception\u001b[0m\u001b[1;33m(\u001b[0m\u001b[0minst\u001b[0m\u001b[1;33m)\u001b[0m\u001b[1;33m)\u001b[0m\u001b[1;33m\u001b[0m\u001b[1;33m\u001b[0m\u001b[0m\n\u001b[1;32m-> 1316\u001b[1;33m                 \u001b[1;32mraise\u001b[0m \u001b[0mself\u001b[0m\u001b[1;33m.\u001b[0m\u001b[0mmessages\u001b[0m\u001b[1;33m[\u001b[0m\u001b[0mlen\u001b[0m\u001b[1;33m(\u001b[0m\u001b[0mself\u001b[0m\u001b[1;33m.\u001b[0m\u001b[0mmessages\u001b[0m\u001b[1;33m)\u001b[0m \u001b[1;33m-\u001b[0m \u001b[1;36m1\u001b[0m\u001b[1;33m]\u001b[0m\u001b[1;33m\u001b[0m\u001b[1;33m\u001b[0m\u001b[0m\n\u001b[0m\u001b[0;32m   1317\u001b[0m         \u001b[1;32melse\u001b[0m\u001b[1;33m:\u001b[0m\u001b[1;33m\u001b[0m\u001b[1;33m\u001b[0m\u001b[0m\n\u001b[0;32m   1318\u001b[0m             \u001b[1;32mtry\u001b[0m\u001b[1;33m:\u001b[0m\u001b[1;33m\u001b[0m\u001b[1;33m\u001b[0m\u001b[0m\n",
      "\u001b[1;31mDataError\u001b[0m: (ibm_db_dbi.DataError) ibm_db_dbi::DataError: Statement Execute Failed: [IBM][CLI Driver][DB2/LINUXX8664] SQL0433N  Value \"Average\" is too long.  SQLSTATE=22001\\r SQLCODE=-433\n[SQL: call update_leaders_score(610281,56);]\n(Background on this error at: http://sqlalche.me/e/13/9h9h)"
     ]
    }
   ],
   "source": [
    "%sql call update_leaders_score(610281,56);"
   ]
  },
  {
   "cell_type": "code",
   "execution_count": null,
   "id": "43fd45f0-a603-4db8-849f-a193aed8dd73",
   "metadata": {},
   "outputs": [],
   "source": []
  }
 ],
 "metadata": {
  "kernelspec": {
   "display_name": "Python 3",
   "language": "python",
   "name": "python3"
  },
  "language_info": {
   "codemirror_mode": {
    "name": "ipython",
    "version": 3
   },
   "file_extension": ".py",
   "mimetype": "text/x-python",
   "name": "python",
   "nbconvert_exporter": "python",
   "pygments_lexer": "ipython3",
   "version": "3.7.10"
  }
 },
 "nbformat": 4,
 "nbformat_minor": 5
}
