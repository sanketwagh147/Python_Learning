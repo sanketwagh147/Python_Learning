{
 "cells": [
  {
   "cell_type": "markdown",
   "metadata": {},
   "source": [
    "# Look Ahead Assertion\r\n",
    "> zero width assertion is the lookahead assertion.\r\n",
    "> Lookahead assertions are available in both positive and negative forms"
   ]
  },
  {
   "cell_type": "markdown",
   "metadata": {},
   "source": [
    "## `(?=regex)` : Positive lookahead assertion\r\n",
    "> Succeeds if the regex in expression matches successfully at the current location else fail.  \r\n",
    "> But once the contained expression is tried the engine does not advance at all and the rest of the pattern is tried right where the assertion startedc"
   ]
  },
  {
   "cell_type": "markdown",
   "metadata": {},
   "source": [
    "## `(?!=regex)` : negative lookahead assertion\r\n",
    "> opposite of positive look ahead if succees in getting a match the expression does not match a the current position in the string.    "
   ]
  },
  {
   "cell_type": "code",
   "execution_count": 1,
   "metadata": {},
   "outputs": [
    {
     "name": "stdout",
     "output_type": "stream",
     "text": [
      "['2111 k31z ughr', '3133 j2l9 gwvr']\n"
     ]
    }
   ],
   "source": [
    "# to create random sentence list\r\n",
    "from snipket import random_sentence_list"
   ]
  },
  {
   "cell_type": "code",
   "execution_count": 2,
   "metadata": {},
   "outputs": [
    {
     "data": {
      "text/plain": [
       "['cacb q622 synb',\n",
       " 'acaa uxng ntob',\n",
       " 'bccb 9g9n qyrj',\n",
       " 'acaa ng0z xoqh',\n",
       " 'babb 3q8l bffl',\n",
       " 'abbb uxj6 slwa',\n",
       " 'bcab ncl2 vfga',\n",
       " 'caac 3yk6 pveq',\n",
       " 'ccac np25 ogcz',\n",
       " 'cbcc 89dx cfow']"
      ]
     },
     "execution_count": 2,
     "metadata": {},
     "output_type": "execute_result"
    }
   ],
   "source": [
    "random_sentence_list([\"a\",\"b\",\"c\"],4,10)"
   ]
  },
  {
   "cell_type": "code",
   "execution_count": 3,
   "metadata": {},
   "outputs": [
    {
     "name": "stdout",
     "output_type": "stream",
     "text": [
      "1 : uyzcCcdge.com --> ['uyzcCcdge.com']\n",
      "2 : xpguCepry.com --> ['xpguCepry.com']\n",
      "3 : eyjdCvq8r.com --> ['eyjdCvq8r.com']\n",
      "4 : qpyxC5phg.com --> ['qpyxC5phg.com']\n",
      "5 : qmovC83hu.chm --> ['qmovC83hu.chm']\n",
      "6 : qoygCw54u.org --> ['qoygCw54u.org']\n",
      "7 : tbwmCtzrv.com --> ['tbwmCtzrv.com']\n",
      "8 : obqxCbx5c.org --> ['obqxCbx5c.org']\n",
      "9 : hwosCxqrt.com --> ['hwosCxqrt.com']\n",
      "10 : axukCu96h.ost --> ['axukCu96h.ost']\n"
     ]
    }
   ],
   "source": [
    "import re\r\n",
    "sen_list = ['uyzcCcdge.com',\r\n",
    "            'xpguCepry.com', \r\n",
    "            'eyjdCvq8r.com', \r\n",
    "            'qpyxC5phg.com', \r\n",
    "            'qmovC83hu.chm', \r\n",
    "            'qoygCw54u.org', \r\n",
    "            'tbwmCtzrv.com', \r\n",
    "            'obqxCbx5c.org', \r\n",
    "            'hwosCxqrt.com', \r\n",
    "            'axukCu96h.ost']\r\n",
    "\r\n",
    "pattern_1 = r\".*[.].*$\"  # pattern \r\n",
    "for index,string in enumerate(sen_list , start =1):\r\n",
    "    print(f'{index} : {string}'.ljust(12), \"-->\",re.findall(pattern_1, string))"
   ]
  },
  {
   "cell_type": "markdown",
   "metadata": {},
   "source": [
    "#### If we want  to exclude domains with org then we should do as follows"
   ]
  },
  {
   "cell_type": "code",
   "execution_count": 4,
   "metadata": {},
   "outputs": [
    {
     "name": "stdout",
     "output_type": "stream",
     "text": [
      "1 : uyzcCcdge.com --> ['uyzcCcdge.com']\n",
      "2 : xpguCepry.com --> ['xpguCepry.com']\n",
      "3 : eyjdCvq8r.com --> ['eyjdCvq8r.com']\n",
      "4 : qpyxC5phg.com --> ['qpyxC5phg.com']\n",
      "5 : qmovC83hu.chm --> ['qmovC83hu.chm']\n",
      "6 : qoygCw54u.org --> []\n",
      "7 : tbwmCtzrv.com --> ['tbwmCtzrv.com']\n",
      "8 : obqxCbx5c.org --> []\n",
      "9 : hwosCxqrt.com --> ['hwosCxqrt.com']\n",
      "10 : axukCu96h.ost --> []\n"
     ]
    }
   ],
   "source": [
    "pattern_2 = \".*[.][^o].*$\"  # excludes patterns after . starting with o\r\n",
    "for index,string in enumerate(sen_list , start =1):\r\n",
    "    print(f'{index} : {string}'.ljust(12), \"-->\",re.findall(pattern_2, string))"
   ]
  },
  {
   "cell_type": "markdown",
   "metadata": {},
   "source": [
    "_but all domains starting with o are excluded thus this pattern is not accurate_"
   ]
  },
  {
   "cell_type": "markdown",
   "metadata": {},
   "source": [
    "## using negative look ahead to match patterns ending with a specified string\r\n",
    ">this help to exclude certain things from the pattern thus if bat is absent entire pattern fail"
   ]
  },
  {
   "cell_type": "code",
   "execution_count": 5,
   "metadata": {},
   "outputs": [
    {
     "name": "stdout",
     "output_type": "stream",
     "text": [
      "1 : uyzcCcdge.com --> ['uyzcCcdge.com']\n",
      "2 : xpguCepry.com --> ['xpguCepry.com']\n",
      "3 : eyjdCvq8r.com --> ['eyjdCvq8r.com']\n",
      "4 : qpyxC5phg.com --> ['qpyxC5phg.com']\n",
      "5 : qmovC83hu.chm --> ['qmovC83hu.chm']\n",
      "6 : qoygCw54u.org --> []\n",
      "7 : tbwmCtzrv.com --> ['tbwmCtzrv.com']\n",
      "8 : obqxCbx5c.org --> []\n",
      "9 : hwosCxqrt.com --> ['hwosCxqrt.com']\n",
      "10 : axukCu96h.ost --> ['axukCu96h.ost']\n"
     ]
    }
   ],
   "source": [
    "pattern_3 = \".*[.](?!org$)[^.]*$\"  # excludes patterns with org only\r\n",
    "for index,string in enumerate(sen_list , start =1):\r\n",
    "    print(f'{index} : {string}'.ljust(12), \"-->\",re.findall(pattern_3, string))"
   ]
  },
  {
   "cell_type": "code",
   "execution_count": 6,
   "metadata": {},
   "outputs": [
    {
     "name": "stdout",
     "output_type": "stream",
     "text": [
      "1 : uyzcCcdge.com --> ['uyzcCcdge.com']\n",
      "2 : xpguCepry.com --> ['xpguCepry.com']\n",
      "3 : eyjdCvq8r.com --> ['eyjdCvq8r.com']\n",
      "4 : qpyxC5phg.com --> ['qpyxC5phg.com']\n",
      "5 : qmovC83hu.chm --> []\n",
      "6 : qoygCw54u.org --> []\n",
      "7 : tbwmCtzrv.com --> ['tbwmCtzrv.com']\n",
      "8 : obqxCbx5c.org --> []\n",
      "9 : hwosCxqrt.com --> ['hwosCxqrt.com']\n",
      "10 : axukCu96h.ost --> []\n"
     ]
    }
   ],
   "source": [
    "# suppose we want to exclude multiple file extensions simply or the negative lookaround group\r\n",
    "pattern_4 = \".*[.](?!org$|ost$|chm)[^.]*$\"  # excludes patterns with org only\r\n",
    "for index,string in enumerate(sen_list , start =1):\r\n",
    "    print(f'{index} : {string}'.ljust(12), \"-->\",re.findall(pattern_4, string))"
   ]
  },
  {
   "cell_type": "markdown",
   "metadata": {},
   "source": [
    "_Thus we only match ones not having `.org`, `.ost`, `.chm`_"
   ]
  },
  {
   "cell_type": "markdown",
   "metadata": {},
   "source": [
    "### What if we want to match only which are not `.com` (later)"
   ]
  },
  {
   "cell_type": "markdown",
   "metadata": {},
   "source": []
  }
 ],
 "metadata": {
  "interpreter": {
   "hash": "1baa965d5efe3ac65b79dfc60c0d706280b1da80fedb7760faf2759126c4f253"
  },
  "kernelspec": {
   "display_name": "Python 3",
   "language": "python",
   "name": "python3"
  },
  "language_info": {
   "codemirror_mode": {
    "name": "ipython",
    "version": 3
   },
   "file_extension": ".py",
   "mimetype": "text/x-python",
   "name": "python",
   "nbconvert_exporter": "python",
   "pygments_lexer": "ipython3",
   "version": "3.7.10"
  }
 },
 "nbformat": 4,
 "nbformat_minor": 4
}
