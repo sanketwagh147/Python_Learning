{
 "cells": [
  {
   "cell_type": "markdown",
   "id": "fc030112-3ed8-4863-9ddc-453a6d494df3",
   "metadata": {},
   "source": [
    "# using f strings"
   ]
  },
  {
   "cell_type": "code",
   "execution_count": 1,
   "id": "dc18cd43-12a5-4a97-8b79-f5854e4b7327",
   "metadata": {},
   "outputs": [],
   "source": [
    "a = \"this is India\"\n",
    "b = 10\n",
    "c = 12312.1123\n"
   ]
  },
  {
   "cell_type": "markdown",
   "id": "66c2343c-30c6-4b7d-8d8b-9862d7f48573",
   "metadata": {},
   "source": [
    "## f\"......{object:{width}.{precision}}\""
   ]
  },
  {
   "cell_type": "code",
   "execution_count": 19,
   "id": "51b81e9d-8fbb-451a-8c9b-7b8c8f861969",
   "metadata": {},
   "outputs": [
    {
     "data": {
      "text/plain": [
       "'12312.1123'"
      ]
     },
     "execution_count": 19,
     "metadata": {},
     "output_type": "execute_result"
    }
   ],
   "source": [
    "f\"{c:.4F}\""
   ]
  },
  {
   "cell_type": "code",
   "execution_count": null,
   "id": "b07a0a5a-696e-4048-ac21-98d6a71989dd",
   "metadata": {},
   "outputs": [],
   "source": []
  }
 ],
 "metadata": {
  "kernelspec": {
   "display_name": "Python 3",
   "language": "python",
   "name": "python3"
  },
  "language_info": {
   "codemirror_mode": {
    "name": "ipython",
    "version": 3
   },
   "file_extension": ".py",
   "mimetype": "text/x-python",
   "name": "python",
   "nbconvert_exporter": "python",
   "pygments_lexer": "ipython3",
   "version": "3.7.10"
  }
 },
 "nbformat": 4,
 "nbformat_minor": 5
}
