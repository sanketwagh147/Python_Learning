{
 "cells": [
  {
   "cell_type": "markdown",
   "id": "f1625fae-b414-40b0-a749-ce136ad7ce35",
   "metadata": {},
   "source": [
    "# Unpacking tuple for a_string.format()\n"
   ]
  },
  {
   "cell_type": "code",
   "execution_count": 3,
   "id": "40cba470-8992-46d0-a894-f817bf91c75d",
   "metadata": {},
   "outputs": [
    {
     "name": "stdout",
     "output_type": "stream",
     "text": [
      "Buyaka Buyaka 619\n"
     ]
    }
   ],
   "source": [
    "a_tuple = (6, 1, 9)\n",
    "text = \"Buyaka Buyaka {}{}{}\".format(*a_tuple) \n",
    "print(text)"
   ]
  },
  {
   "cell_type": "markdown",
   "id": "f8975a5c-d27e-442e-88cb-c3db6f94ebb4",
   "metadata": {},
   "source": [
    "Notice the * used this unpacks the tuple into individual elements same can be used for lists"
   ]
  }
 ],
 "metadata": {
  "kernelspec": {
   "display_name": "Python 3",
   "language": "python",
   "name": "python3"
  },
  "language_info": {
   "codemirror_mode": {
    "name": "ipython",
    "version": 3
   },
   "file_extension": ".py",
   "mimetype": "text/x-python",
   "name": "python",
   "nbconvert_exporter": "python",
   "pygments_lexer": "ipython3",
   "version": "3.7.3"
  }
 },
 "nbformat": 4,
 "nbformat_minor": 5
}
