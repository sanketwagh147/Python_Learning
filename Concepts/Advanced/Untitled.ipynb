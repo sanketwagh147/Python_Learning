{
 "cells": [
  {
   "cell_type": "code",
   "execution_count": 26,
   "id": "0cebfd1c-4a6c-41ad-9d6f-7b9ef2856aee",
   "metadata": {},
   "outputs": [],
   "source": [
    "import firstimport\n",
    "import imp"
   ]
  },
  {
   "cell_type": "code",
   "execution_count": 27,
   "id": "d02a9f4e-39e4-43fb-bb8c-0902570dd7c7",
   "metadata": {},
   "outputs": [
    {
     "name": "stdout",
     "output_type": "stream",
     "text": [
      "Import succesful 2\n"
     ]
    },
    {
     "data": {
      "text/plain": [
       "<module 'firstimport' from 'C:\\\\Users\\\\Admin\\\\PycharmProjects\\\\Practice\\\\Concepts\\\\Advanced\\\\firstimport.py'>"
      ]
     },
     "execution_count": 27,
     "metadata": {},
     "output_type": "execute_result"
    }
   ],
   "source": [
    "reload(firstimport)"
   ]
  },
  {
   "cell_type": "code",
   "execution_count": 28,
   "id": "b5a2de82-7dea-4215-8118-c0ccfd452a56",
   "metadata": {},
   "outputs": [
    {
     "data": {
      "text/plain": [
       "5"
      ]
     },
     "execution_count": 28,
     "metadata": {},
     "output_type": "execute_result"
    }
   ],
   "source": [
    "firstimport.sum(2,3)"
   ]
  },
  {
   "cell_type": "code",
   "execution_count": 16,
   "id": "faf7dbed-2987-4a4f-b84b-4ae8973bdfb0",
   "metadata": {},
   "outputs": [
    {
     "name": "stdout",
     "output_type": "stream",
     "text": [
      "Import succesful 2\n"
     ]
    },
    {
     "data": {
      "text/plain": [
       "<module 'firstimport' from 'C:\\\\Users\\\\Admin\\\\PycharmProjects\\\\Practice\\\\Concepts\\\\Advanced\\\\firstimport.py'>"
      ]
     },
     "execution_count": 16,
     "metadata": {},
     "output_type": "execute_result"
    }
   ],
   "source": []
  },
  {
   "cell_type": "code",
   "execution_count": null,
   "id": "a469ca21-fd82-4942-8990-50069129cfe3",
   "metadata": {},
   "outputs": [],
   "source": []
  }
 ],
 "metadata": {
  "kernelspec": {
   "display_name": "Python 3",
   "language": "python",
   "name": "python3"
  },
  "language_info": {
   "codemirror_mode": {
    "name": "ipython",
    "version": 3
   },
   "file_extension": ".py",
   "mimetype": "text/x-python",
   "name": "python",
   "nbconvert_exporter": "python",
   "pygments_lexer": "ipython3",
   "version": "3.7.10"
  }
 },
 "nbformat": 4,
 "nbformat_minor": 5
}
