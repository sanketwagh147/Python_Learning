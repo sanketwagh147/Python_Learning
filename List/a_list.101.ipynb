{
 "cells": [
  {
   "cell_type": "markdown",
   "id": "a1e134e9-5589-427c-b799-f375777ce7c3",
   "metadata": {},
   "source": [
    "# List 101"
   ]
  },
  {
   "cell_type": "markdown",
   "id": "a7dba556-632e-4f43-90ee-14eb013a3268",
   "metadata": {},
   "source": [
    "* Accessing list via idex for huge index *"
   ]
  },
  {
   "cell_type": "code",
   "execution_count": 6,
   "id": "ce798fb2-c611-44fa-bab8-68d6ebd0924d",
   "metadata": {},
   "outputs": [
    {
     "name": "stdout",
     "output_type": "stream",
     "text": [
      "test\n"
     ]
    }
   ],
   "source": [
    "a_list = list(range(0 , 1000))\n",
    "a_list[50] = \"test\"\n",
    "print(a_list[5*10])"
   ]
  },
  {
   "cell_type": "markdown",
   "id": "f581d8ea-f403-4849-91bd-a166806c027d",
   "metadata": {},
   "source": []
  }
 ],
 "metadata": {
  "kernelspec": {
   "display_name": "Python 3",
   "language": "python",
   "name": "python3"
  },
  "language_info": {
   "codemirror_mode": {
    "name": "ipython",
    "version": 3
   },
   "file_extension": ".py",
   "mimetype": "text/x-python",
   "name": "python",
   "nbconvert_exporter": "python",
   "pygments_lexer": "ipython3",
   "version": "3.7.3"
  }
 },
 "nbformat": 4,
 "nbformat_minor": 5
}
