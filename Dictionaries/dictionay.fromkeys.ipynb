{
 "cells": [
  {
   "cell_type": "markdown",
   "id": "c1799d9f-134a-4cc3-953e-c554f0802ae6",
   "metadata": {},
   "source": [
    "# a_dict.fromkeys(<font color = red>*iterable*,<font color = blue> *default*)</font> method\n",
    ">a\n",
    "> Used to create a dictionary from iterable and sets the value to default"
   ]
  },
  {
   "cell_type": "code",
   "execution_count": 3,
   "id": "decab558-0500-4ea5-9b44-e2a6b46ce8d2",
   "metadata": {},
   "outputs": [
    {
     "data": {
      "text/plain": [
       "{'a': 0, 'b': 0, 'c': 0}"
      ]
     },
     "execution_count": 3,
     "metadata": {},
     "output_type": "execute_result"
    }
   ],
   "source": [
    "D = dict.fromkeys(['a', 'b', 'c'], 0)\n",
    "D"
   ]
  },
  {
   "cell_type": "code",
   "execution_count": 7,
   "id": "8f8326f4-513d-44a4-a555-d5788136fa2e",
   "metadata": {},
   "outputs": [
    {
     "data": {
      "text/plain": [
       "{'a': 'default value', 'b': 'default value', 'c': 'default value'}"
      ]
     },
     "execution_count": 7,
     "metadata": {},
     "output_type": "execute_result"
    }
   ],
   "source": [
    "D = dict.fromkeys(['a', 'b', 'c'], \"default value\")\n",
    "D"
   ]
  },
  {
   "cell_type": "code",
   "execution_count": null,
   "id": "61168f3c-251d-4748-9abe-5b4823ea4377",
   "metadata": {},
   "outputs": [],
   "source": []
  }
 ],
 "metadata": {
  "kernelspec": {
   "display_name": "Python 3",
   "language": "python",
   "name": "python3"
  },
  "language_info": {
   "codemirror_mode": {
    "name": "ipython",
    "version": 3
   },
   "file_extension": ".py",
   "mimetype": "text/x-python",
   "name": "python",
   "nbconvert_exporter": "python",
   "pygments_lexer": "ipython3",
   "version": "3.7.3"
  }
 },
 "nbformat": 4,
 "nbformat_minor": 5
}
