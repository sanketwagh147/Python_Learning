{
  "nbformat": 4,
  "nbformat_minor": 0,
  "metadata": {
    "kernelspec": {
      "display_name": "Python 3",
      "language": "python",
      "name": "python3"
    },
    "language_info": {
      "codemirror_mode": {
        "name": "ipython",
        "version": 3
      },
      "file_extension": ".py",
      "mimetype": "text/x-python",
      "name": "python",
      "nbconvert_exporter": "python",
      "pygments_lexer": "ipython3",
      "version": "3.7.4"
    },
    "colab": {
      "name": "NumPy Operations.ipynb",
      "provenance": [],
      "collapsed_sections": []
    }
  },
  "cells": [
    {
      "cell_type": "markdown",
      "metadata": {
        "id": "-0uLaNd-uQN0"
      },
      "source": [
        "# As of now, we are familiar with the basics of NumPy. It is time to delve a bit deeper into some operations in NumPy"
      ]
    },
    {
      "cell_type": "code",
      "metadata": {
        "id": "OWoN5hP2p9qm"
      },
      "source": [
        "# Load the Numpy \n",
        "import numpy as np"
      ],
      "execution_count": null,
      "outputs": []
    },
    {
      "cell_type": "markdown",
      "metadata": {
        "id": "smV0LwFyp9sd"
      },
      "source": [
        "# <u> **Array Manipulation**</u>\n",
        "* ### <code>np.transpose(array)</code> - To transpose array\n",
        "* ### <code>np.reshape(array,shape)</code> - To Change shape of an array\n",
        "* ### <code>np.resize(array,shape)</code> - To return new array with shape \n",
        "* ### <code>np.flatten(array)</code> - To flatten the array"
      ]
    },
    {
      "cell_type": "markdown",
      "metadata": {
        "id": "tWICeYR4w1TT"
      },
      "source": [
        "# <u>**<code>np.transpose()</code>**</u>\n",
        "\n",
        "### Transpose is defined as an operator which flips a matrix over its diagonal; that is, it switches the row and column indices of the matrix A by producing another matrix, often denoted by $A^{T}$"
      ]
    },
    {
      "cell_type": "markdown",
      "metadata": {
        "id": "KZ81WjygJEBj"
      },
      "source": [
        "![numpy-transpose.png](data:image/png;base64,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)"
      ]
    },
    {
      "cell_type": "code",
      "metadata": {
        "scrolled": false,
        "id": "d4stjLRfp9se",
        "colab": {
          "base_uri": "https://localhost:8080/",
          "height": 201
        },
        "outputId": "238bb1bc-c093-4898-9183-ef5d6c24f85e"
      },
      "source": [
        "# Create a 2 D Array\n",
        "arravali = np.array(np.random.randint(10,45,(8,2)))\n",
        "print(f\"The defined array is \\n{arravali}\")\n",
        "print(f\" \\n The shape of the array is {arravali.shape}\")"
      ],
      "execution_count": null,
      "outputs": [
        {
          "output_type": "stream",
          "text": [
            "The defined array is \n",
            "[[19 31]\n",
            " [22 10]\n",
            " [36 38]\n",
            " [13 38]\n",
            " [35 31]\n",
            " [20 44]\n",
            " [14 41]\n",
            " [18 34]]\n",
            " \n",
            " The shape of the array is (8, 2)\n"
          ],
          "name": "stdout"
        }
      ]
    },
    {
      "cell_type": "code",
      "metadata": {
        "id": "GLE6O7GRp9si",
        "colab": {
          "base_uri": "https://localhost:8080/",
          "height": 100
        },
        "outputId": "3adf0db8-96be-40ae-880a-8a179dd9d97d"
      },
      "source": [
        "# Storing the transpose in another matrix object\n",
        "nilgiri =np.transpose(arravali)\n",
        "print(f\" The transpose of the array is \\n{nilgiri}\")\n",
        "print(f\" \\n The shape of the array is {nilgiri.shape}\")"
      ],
      "execution_count": null,
      "outputs": [
        {
          "output_type": "stream",
          "text": [
            " The transpose of the array is \n",
            "[[19 22 36 13 35 20 14 18]\n",
            " [31 10 38 38 31 44 41 34]]\n",
            " \n",
            " The shape of the array is (2, 8)\n"
          ],
          "name": "stdout"
        }
      ]
    },
    {
      "cell_type": "code",
      "metadata": {
        "scrolled": true,
        "id": "bDcEj9ZPp9sl",
        "colab": {
          "base_uri": "https://localhost:8080/",
          "height": 201
        },
        "outputId": "9497b784-1e55-44dc-e1ca-ade5486d43e2"
      },
      "source": [
        "# 3D Array\n",
        "random_3d_array = np.array(np.random.randint(10,45,(3,2,4)))\n",
        "print(f\"The defined array is \\n{random_3d_array}\")\n",
        "print(f\" \\n The shape of the array is {random_3d_array.shape}\")"
      ],
      "execution_count": null,
      "outputs": [
        {
          "output_type": "stream",
          "text": [
            "The defined array is \n",
            "[[[17 21 24 21]\n",
            "  [26 42 37 27]]\n",
            "\n",
            " [[34 34 20 37]\n",
            "  [31 28 29 33]]\n",
            "\n",
            " [[31 25 35 33]\n",
            "  [23 24 14 17]]]\n",
            " \n",
            " The shape of the array is (3, 2, 4)\n"
          ],
          "name": "stdout"
        }
      ]
    },
    {
      "cell_type": "code",
      "metadata": {
        "id": "Iw3bNDSFylxr",
        "colab": {
          "base_uri": "https://localhost:8080/",
          "height": 251
        },
        "outputId": "be025e62-47f9-497a-fcc4-caa3efe63c30"
      },
      "source": [
        "# Storing the transpose of the created 3d array\n",
        "transposed_3d_array =np.transpose(random_3d_array)\n",
        "print(f\" The transpose of the array is \\n{transposed_3d_array}\")\n",
        "print(f\" \\n The shape of the array is {transposed_3d_array.shape}\")"
      ],
      "execution_count": null,
      "outputs": [
        {
          "output_type": "stream",
          "text": [
            " The transpose of the array is \n",
            "[[[17 34 31]\n",
            "  [26 31 23]]\n",
            "\n",
            " [[21 34 25]\n",
            "  [42 28 24]]\n",
            "\n",
            " [[24 20 35]\n",
            "  [37 29 14]]\n",
            "\n",
            " [[21 37 33]\n",
            "  [27 33 17]]]\n",
            " \n",
            " The shape of the array is (4, 2, 3)\n"
          ],
          "name": "stdout"
        }
      ]
    },
    {
      "cell_type": "markdown",
      "metadata": {
        "id": "Ppv01knzp9sn"
      },
      "source": [
        "# <u>**<code>np.reshape(shape)</code>**</u>\n",
        "\n",
        "### Gives a new shape to an array without changing its data."
      ]
    },
    {
      "cell_type": "markdown",
      "metadata": {
        "id": "Y6xlnZ5qJMoL"
      },
      "source": [
        "![numpy-reshape.png](data:image/png;base64,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)"
      ]
    },
    {
      "cell_type": "code",
      "metadata": {
        "id": "Pdy_SfwIp9so",
        "colab": {
          "base_uri": "https://localhost:8080/",
          "height": 117
        },
        "outputId": "851cd562-202c-41ac-ab39-a7126bb3fc82"
      },
      "source": [
        "# Create a two-dimensional array\n",
        "random_cohort = np.array(np.random.randint(10,45,(3,8))) # 2D\n",
        "print(f\"The defined array is \\n{random_cohort}\")\n",
        "print(f\" \\n The shape of the array is {random_cohort.shape}\")"
      ],
      "execution_count": null,
      "outputs": [
        {
          "output_type": "stream",
          "text": [
            "The defined array is \n",
            "[[20 21 35 19 30 19 19 27]\n",
            " [21 23 30 33 12 31 13 20]\n",
            " [29 40 36 12 12 36 32 23]]\n",
            " \n",
            " The shape of the array is (3, 8)\n"
          ],
          "name": "stdout"
        }
      ]
    },
    {
      "cell_type": "code",
      "metadata": {
        "id": "fR94W4-Bp9sr",
        "colab": {
          "base_uri": "https://localhost:8080/",
          "height": 284
        },
        "outputId": "95183284-9d87-4218-f0c2-c8683d214ad6"
      },
      "source": [
        "# Now we can reshape this to 1-D,2-D or 3-D array\n",
        "new_shape = (2,6,2)\n",
        "reshaped_random_cohort = np.reshape(random_cohort,new_shape)\n",
        "print(f\"The reshaped array is \\n{reshaped_random_cohort}\")\n",
        "print(f\" \\n The shape of the array is {reshaped_random_cohort.shape}\")"
      ],
      "execution_count": null,
      "outputs": [
        {
          "output_type": "stream",
          "text": [
            "The reshaped array is \n",
            "[[[20 21]\n",
            "  [35 19]\n",
            "  [30 19]\n",
            "  [19 27]\n",
            "  [21 23]\n",
            "  [30 33]]\n",
            "\n",
            " [[12 31]\n",
            "  [13 20]\n",
            "  [29 40]\n",
            "  [36 12]\n",
            "  [12 36]\n",
            "  [32 23]]]\n",
            " \n",
            " The shape of the array is (2, 6, 2)\n"
          ],
          "name": "stdout"
        }
      ]
    },
    {
      "cell_type": "code",
      "metadata": {
        "id": "jjt1XaGgKhEy",
        "colab": {
          "base_uri": "https://localhost:8080/",
          "height": 150
        },
        "outputId": "1b6cab75-31f0-4398-b5ca-4943620ca8df"
      },
      "source": [
        "new_shape = (2,-1,6)\n",
        "reshaped_random_cohort = np.reshape(random_cohort,new_shape)\n",
        "print(f\"The reshaped array is \\n{reshaped_random_cohort}\")\n",
        "print(f\" \\n The shape of the array is {reshaped_random_cohort.shape}\")"
      ],
      "execution_count": null,
      "outputs": [
        {
          "output_type": "stream",
          "text": [
            "The reshaped array is \n",
            "[[[20 21 35 19 30 19]\n",
            "  [19 27 21 23 30 33]]\n",
            "\n",
            " [[12 31 13 20 29 40]\n",
            "  [36 12 12 36 32 23]]]\n",
            " \n",
            " The shape of the array is (2, 2, 6)\n"
          ],
          "name": "stdout"
        }
      ]
    },
    {
      "cell_type": "code",
      "metadata": {
        "id": "jyvsbdeCp9st",
        "colab": {
          "base_uri": "https://localhost:8080/",
          "height": 401
        },
        "outputId": "329719ba-8533-49fc-da9e-555a6b173425"
      },
      "source": [
        "# Create a three-dimensional array\n",
        "random_3D_cohort = np.array(np.random.randint(10,45,(3,6,2))) \n",
        "print(f\"The defined array is \\n{random_3D_cohort}\")\n",
        "print(f\" \\n The shape of the array is {random_3D_cohort.shape}\")"
      ],
      "execution_count": null,
      "outputs": [
        {
          "output_type": "stream",
          "text": [
            "The defined array is \n",
            "[[[14 21]\n",
            "  [43 24]\n",
            "  [38 16]\n",
            "  [41 32]\n",
            "  [10 16]\n",
            "  [29 26]]\n",
            "\n",
            " [[23 39]\n",
            "  [30 32]\n",
            "  [33 34]\n",
            "  [42 11]\n",
            "  [23 16]\n",
            "  [37 14]]\n",
            "\n",
            " [[19 28]\n",
            "  [10 17]\n",
            "  [33 20]\n",
            "  [36 15]\n",
            "  [40 33]\n",
            "  [12 22]]]\n",
            " \n",
            " The shape of the array is (3, 6, 2)\n"
          ],
          "name": "stdout"
        }
      ]
    },
    {
      "cell_type": "code",
      "metadata": {
        "id": "aATJr4jPp9sx",
        "colab": {
          "base_uri": "https://localhost:8080/",
          "height": 184
        },
        "outputId": "5068cffc-17bc-44aa-ea3a-d5f8d3e25cbe"
      },
      "source": [
        "# Reshape the created 3D array\n",
        "new_shape = (2,-1,6)\n",
        "reshaped_random_3D_cohort = np.reshape(random_3D_cohort,new_shape)\n",
        "print(f\"The reshaped array is \\n{reshaped_random_3D_cohort}\")\n",
        "print(f\" \\n The shape of the array is {reshaped_random_3D_cohort.shape}\")"
      ],
      "execution_count": null,
      "outputs": [
        {
          "output_type": "stream",
          "text": [
            "The reshaped array is \n",
            "[[[14 21 43 24 38 16]\n",
            "  [41 32 10 16 29 26]\n",
            "  [23 39 30 32 33 34]]\n",
            "\n",
            " [[42 11 23 16 37 14]\n",
            "  [19 28 10 17 33 20]\n",
            "  [36 15 40 33 12 22]]]\n",
            " \n",
            " The shape of the array is (2, 3, 6)\n"
          ],
          "name": "stdout"
        }
      ]
    },
    {
      "cell_type": "markdown",
      "metadata": {
        "id": "RUfkXzKpp9s3"
      },
      "source": [
        "# <u>**<code>np.resize(shape)</code>**</u>\n",
        "\n",
        "### Changes shape and size of array in-place."
      ]
    },
    {
      "cell_type": "code",
      "metadata": {
        "scrolled": false,
        "id": "9jWYIThCp9s3",
        "colab": {
          "base_uri": "https://localhost:8080/",
          "height": 217
        },
        "outputId": "e93c02ee-1d84-4bb6-fe75-90fd7e0c6d27"
      },
      "source": [
        "# Intialize a 3D array\n",
        "random_3D_cohort = np.array(np.random.randint(10,45,(2,4,6))) \n",
        "print(f\"The defined array is \\n{random_3D_cohort}\")\n",
        "print(f\" \\n The shape of the array is {random_3D_cohort.shape}\")"
      ],
      "execution_count": null,
      "outputs": [
        {
          "output_type": "stream",
          "text": [
            "The defined array is \n",
            "[[[22 15 40 26 10 35]\n",
            "  [23 11 42 37 34 43]\n",
            "  [28 39 13 40 22 23]\n",
            "  [40 30 29 21 15 18]]\n",
            "\n",
            " [[22 28 12 30 41 23]\n",
            "  [26 42 39 40 11 13]\n",
            "  [34 28 33 37 43 34]\n",
            "  [42 22 17 16 40 23]]]\n",
            " \n",
            " The shape of the array is (2, 4, 6)\n"
          ],
          "name": "stdout"
        }
      ]
    },
    {
      "cell_type": "code",
      "metadata": {
        "scrolled": true,
        "id": "d9zcB-Udp9s-",
        "colab": {
          "base_uri": "https://localhost:8080/",
          "height": 184
        },
        "outputId": "2187c0de-057d-4f68-cf05-a103906a5b85"
      },
      "source": [
        "# Resize the created 3D array\n",
        "new_shape = (2,3,6)\n",
        "resized_random_3D_cohort = np.resize(random_3D_cohort,new_shape)\n",
        "print(f\"The resized array is \\n{resized_random_3D_cohort}\")\n",
        "print(f\" \\n The shape of the array is {resized_random_3D_cohort.shape}\")"
      ],
      "execution_count": null,
      "outputs": [
        {
          "output_type": "stream",
          "text": [
            "The resized array is \n",
            "[[[22 15 40 26 10 35]\n",
            "  [23 11 42 37 34 43]\n",
            "  [28 39 13 40 22 23]]\n",
            "\n",
            " [[40 30 29 21 15 18]\n",
            "  [22 28 12 30 41 23]\n",
            "  [26 42 39 40 11 13]]]\n",
            " \n",
            " The shape of the array is (2, 3, 6)\n"
          ],
          "name": "stdout"
        }
      ]
    },
    {
      "cell_type": "code",
      "metadata": {
        "id": "rF8cHyzvkgG4"
      },
      "source": [
        "random_3D_cohort.resize(new_shape)"
      ],
      "execution_count": null,
      "outputs": []
    },
    {
      "cell_type": "code",
      "metadata": {
        "id": "B6CpV5loknve",
        "colab": {
          "base_uri": "https://localhost:8080/",
          "height": 201
        },
        "outputId": "60297fc7-d10c-4733-db6e-a3074834427c"
      },
      "source": [
        "random_3D_cohort"
      ],
      "execution_count": null,
      "outputs": [
        {
          "output_type": "execute_result",
          "data": {
            "text/plain": [
              "array([[[22, 15, 40, 26, 10, 35],\n",
              "        [23, 11, 42, 37, 34, 43],\n",
              "        [28, 39, 13, 40, 22, 23],\n",
              "        [40, 30, 29, 21, 15, 18],\n",
              "        [22, 28, 12, 30, 41, 23]],\n",
              "\n",
              "       [[26, 42, 39, 40, 11, 13],\n",
              "        [34, 28, 33, 37, 43, 34],\n",
              "        [42, 22, 17, 16, 40, 23],\n",
              "        [ 0,  0,  0,  0,  0,  0],\n",
              "        [ 0,  0,  0,  0,  0,  0]]])"
            ]
          },
          "metadata": {
            "tags": []
          },
          "execution_count": 154
        }
      ]
    },
    {
      "cell_type": "markdown",
      "metadata": {
        "id": "YDPkBIuKp9tA"
      },
      "source": [
        "# <u>**<code>np.flatten()</code>**</u>\n",
        "\n",
        "### Returns flattened 1D arrays"
      ]
    },
    {
      "cell_type": "code",
      "metadata": {
        "id": "E3bTts90p9tB",
        "colab": {
          "base_uri": "https://localhost:8080/",
          "height": 217
        },
        "outputId": "c3e0595f-b3e4-4977-d334-fc540257a536"
      },
      "source": [
        "# Intialize a 3D array\n",
        "random_3D_cohort = np.array(np.random.randint(10,45,(2,4,6))) \n",
        "print(f\"The defined array is \\n{random_3D_cohort}\")\n",
        "print(f\" \\n The shape of the array is {random_3D_cohort.shape}\")"
      ],
      "execution_count": null,
      "outputs": [
        {
          "output_type": "stream",
          "text": [
            "The defined array is \n",
            "[[[21 15 19 14 23 24]\n",
            "  [27 28 36 27 13 37]\n",
            "  [28 37 14 42 38 35]\n",
            "  [29 21 42 39 15 16]]\n",
            "\n",
            " [[35 38 21 28 17 19]\n",
            "  [41 17 30 39 40 30]\n",
            "  [30 13 32 43 22 39]\n",
            "  [24 35 32 27 16 20]]]\n",
            " \n",
            " The shape of the array is (2, 4, 6)\n"
          ],
          "name": "stdout"
        }
      ]
    },
    {
      "cell_type": "code",
      "metadata": {
        "scrolled": true,
        "id": "mXT7Qox3p9tE",
        "colab": {
          "base_uri": "https://localhost:8080/",
          "height": 67
        },
        "outputId": "25573469-f786-4912-ce32-aaaedbb3c9af"
      },
      "source": [
        "# Flatten the 3D array\n",
        "random_3D_cohort.flatten()"
      ],
      "execution_count": null,
      "outputs": [
        {
          "output_type": "execute_result",
          "data": {
            "text/plain": [
              "array([21, 15, 19, 14, 23, 24, 27, 28, 36, 27, 13, 37, 28, 37, 14, 42, 38,\n",
              "       35, 29, 21, 42, 39, 15, 16, 35, 38, 21, 28, 17, 19, 41, 17, 30, 39,\n",
              "       40, 30, 30, 13, 32, 43, 22, 39, 24, 35, 32, 27, 16, 20])"
            ]
          },
          "metadata": {
            "tags": []
          },
          "execution_count": 157
        }
      ]
    },
    {
      "cell_type": "code",
      "metadata": {
        "id": "oT2WZ90uJvQ5",
        "colab": {
          "base_uri": "https://localhost:8080/",
          "height": 67
        },
        "outputId": "3294df60-0089-4a74-c8f7-56b483492a50"
      },
      "source": [
        "# Flattens the array in row-major order with 'C'\n",
        "random_3D_cohort.flatten(order='F')"
      ],
      "execution_count": null,
      "outputs": [
        {
          "output_type": "execute_result",
          "data": {
            "text/plain": [
              "array([21, 35, 27, 41, 28, 30, 29, 24, 15, 38, 28, 17, 37, 13, 21, 35, 19,\n",
              "       21, 36, 30, 14, 32, 42, 32, 14, 28, 27, 39, 42, 43, 39, 27, 23, 17,\n",
              "       13, 40, 38, 22, 15, 16, 24, 19, 37, 30, 35, 39, 16, 20])"
            ]
          },
          "metadata": {
            "tags": []
          },
          "execution_count": 159
        }
      ]
    },
    {
      "cell_type": "markdown",
      "metadata": {
        "id": "E8f6cGJJp9tO"
      },
      "source": [
        "## Next we will see how we can manipulate our numpy arrays\n",
        "\n",
        "* ### <code>np.insert</code> - To Insert items to an array\n",
        "* ### <code>np.append</code> - To append items to an array\n",
        "* ### <code>np.delete</code> - To delete items from an array\n",
        "* ### <code>np.unique</code> - To get unique items from an array"
      ]
    },
    {
      "cell_type": "markdown",
      "metadata": {
        "id": "5yv94DK2p9tO"
      },
      "source": [
        "### <u> **np.insert(arr, obj, values, axis)**</u>\n",
        "\n",
        "* arr: Input array\n",
        "* obj : The index before which insertion is to be made\n",
        "* values: The array of values to be inserted\n",
        "* axis: The axis along insert in given array. If not given, arr is flattened"
      ]
    },
    {
      "cell_type": "markdown",
      "metadata": {
        "id": "HGAgjtzFdSo6"
      },
      "source": [
        "![Axis.PNG](data:image/png;base64,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)"
      ]
    },
    {
      "cell_type": "code",
      "metadata": {
        "scrolled": true,
        "id": "ETCziVi2p9tO",
        "colab": {
          "base_uri": "https://localhost:8080/",
          "height": 150
        },
        "outputId": "1f5eacce-1c49-4d5a-a68b-5099fdf7fd7c"
      },
      "source": [
        "a = np.random.randint(10,20,(2,3,4))    # Axis 0 - 2 ; Axis 1 - 3 ; Axis 2 - 4 \n",
        "print(a)\n",
        "print(a.shape)"
      ],
      "execution_count": null,
      "outputs": [
        {
          "output_type": "stream",
          "text": [
            "[[[13 13 18 11]\n",
            "  [19 11 18 16]\n",
            "  [15 10 13 18]]\n",
            "\n",
            " [[12 16 14 14]\n",
            "  [11 14 11 13]\n",
            "  [17 17 15 14]]]\n",
            "(2, 3, 4)\n"
          ],
          "name": "stdout"
        }
      ]
    },
    {
      "cell_type": "code",
      "metadata": {
        "scrolled": false,
        "id": "TReRmYu4p9tQ",
        "colab": {
          "base_uri": "https://localhost:8080/",
          "height": 201
        },
        "outputId": "5fb62aa2-6655-454c-fc41-aca37885a3fc"
      },
      "source": [
        "#Insert along axis =0\n",
        "np.insert(a,1,100,axis=0)"
      ],
      "execution_count": null,
      "outputs": [
        {
          "output_type": "execute_result",
          "data": {
            "text/plain": [
              "array([[[ 13,  13,  18,  11],\n",
              "        [ 19,  11,  18,  16],\n",
              "        [ 15,  10,  13,  18]],\n",
              "\n",
              "       [[100, 100, 100, 100],\n",
              "        [100, 100, 100, 100],\n",
              "        [100, 100, 100, 100]],\n",
              "\n",
              "       [[ 12,  16,  14,  14],\n",
              "        [ 11,  14,  11,  13],\n",
              "        [ 17,  17,  15,  14]]])"
            ]
          },
          "metadata": {
            "tags": []
          },
          "execution_count": 163
        }
      ]
    },
    {
      "cell_type": "code",
      "metadata": {
        "scrolled": false,
        "id": "T1ASacW4p9tS",
        "colab": {
          "base_uri": "https://localhost:8080/",
          "height": 167
        },
        "outputId": "20cf571f-beec-4ae2-81c5-a40d0da19468"
      },
      "source": [
        "# Insert along axis = 1\n",
        "np.insert(a,0,50,axis=1) "
      ],
      "execution_count": null,
      "outputs": [
        {
          "output_type": "execute_result",
          "data": {
            "text/plain": [
              "array([[[50, 50, 50, 50],\n",
              "        [13, 13, 18, 11],\n",
              "        [19, 11, 18, 16],\n",
              "        [15, 10, 13, 18]],\n",
              "\n",
              "       [[50, 50, 50, 50],\n",
              "        [12, 16, 14, 14],\n",
              "        [11, 14, 11, 13],\n",
              "        [17, 17, 15, 14]]])"
            ]
          },
          "metadata": {
            "tags": []
          },
          "execution_count": 162
        }
      ]
    },
    {
      "cell_type": "code",
      "metadata": {
        "scrolled": true,
        "id": "zzkNQp1xp9tT",
        "colab": {
          "base_uri": "https://localhost:8080/",
          "height": 134
        },
        "outputId": "97da9777-49c6-4a26-ab04-ae5c2553e7de"
      },
      "source": [
        "# Insert along axis=2\n",
        "np.insert(a,0,200,axis=2) "
      ],
      "execution_count": null,
      "outputs": [
        {
          "output_type": "execute_result",
          "data": {
            "text/plain": [
              "array([[[200,  13,  13,  18,  11],\n",
              "        [200,  19,  11,  18,  16],\n",
              "        [200,  15,  10,  13,  18]],\n",
              "\n",
              "       [[200,  12,  16,  14,  14],\n",
              "        [200,  11,  14,  11,  13],\n",
              "        [200,  17,  17,  15,  14]]])"
            ]
          },
          "metadata": {
            "tags": []
          },
          "execution_count": 166
        }
      ]
    },
    {
      "cell_type": "markdown",
      "metadata": {
        "id": "D0zjJJOgp9tV"
      },
      "source": [
        "##<u> **np.append(arr, values, axis)**</u>\n",
        "\n",
        "* arr - Array\n",
        "* values - To be appended to arr. It must be of the same shape as of arr (excluding axis of appending)\n",
        "* axis -- The axis along which append operation is to be done. If not given, both parameters are flattened"
      ]
    },
    {
      "cell_type": "code",
      "metadata": {
        "id": "vzp4yDGGp9tV",
        "colab": {
          "base_uri": "https://localhost:8080/",
          "height": 150
        },
        "outputId": "3e512e76-05ca-44f0-dc19-dbd415e65878"
      },
      "source": [
        "a = np.random.randint(2,6,(2,3,3))\n",
        "print(a)\n",
        "print(a.shape) "
      ],
      "execution_count": null,
      "outputs": [
        {
          "output_type": "stream",
          "text": [
            "[[[4 3 2]\n",
            "  [3 5 3]\n",
            "  [3 5 5]]\n",
            "\n",
            " [[2 4 3]\n",
            "  [5 4 5]\n",
            "  [5 2 3]]]\n",
            "(2, 3, 3)\n"
          ],
          "name": "stdout"
        }
      ]
    },
    {
      "cell_type": "code",
      "metadata": {
        "id": "P_77VpwDp9tW",
        "colab": {
          "base_uri": "https://localhost:8080/",
          "height": 50
        },
        "outputId": "5b9489f3-c2fa-4f58-d7b0-fed9731a443d"
      },
      "source": [
        " # Append a value to the array. It flattens the array and append -99 to the end\n",
        "np.append(a, 50)"
      ],
      "execution_count": null,
      "outputs": [
        {
          "output_type": "execute_result",
          "data": {
            "text/plain": [
              "array([ 4,  3,  2,  3,  5,  3,  3,  5,  5,  2,  4,  3,  5,  4,  5,  5,  2,\n",
              "        3, 50])"
            ]
          },
          "metadata": {
            "tags": []
          },
          "execution_count": 169
        }
      ]
    },
    {
      "cell_type": "code",
      "metadata": {
        "id": "lSJb1FEVp9tY",
        "colab": {
          "base_uri": "https://localhost:8080/",
          "height": 67
        },
        "outputId": "94503c23-1069-43f9-8613-879de0d9d710"
      },
      "source": [
        "# Fix the axis other than axis of appending\n",
        "b = np.random.randint(2,6,(2,1,3)) \n",
        "print(b)"
      ],
      "execution_count": null,
      "outputs": [
        {
          "output_type": "stream",
          "text": [
            "[[[4 5 5]]\n",
            "\n",
            " [[3 5 3]]]\n"
          ],
          "name": "stdout"
        }
      ]
    },
    {
      "cell_type": "code",
      "metadata": {
        "id": "hjZtUsldp9tb",
        "colab": {
          "base_uri": "https://localhost:8080/",
          "height": 150
        },
        "outputId": "d307dcbb-e50c-49f8-90cb-dce3670de97b"
      },
      "source": [
        "print(a)\n",
        "print(a.shape)"
      ],
      "execution_count": null,
      "outputs": [
        {
          "output_type": "stream",
          "text": [
            "[[[4 3 2]\n",
            "  [3 5 3]\n",
            "  [3 5 5]]\n",
            "\n",
            " [[2 4 3]\n",
            "  [5 4 5]\n",
            "  [5 2 3]]]\n",
            "(2, 3, 3)\n"
          ],
          "name": "stdout"
        }
      ]
    },
    {
      "cell_type": "code",
      "metadata": {
        "scrolled": false,
        "id": "C3tAJrq4p9td",
        "colab": {
          "base_uri": "https://localhost:8080/",
          "height": 167
        },
        "outputId": "6e7fa1a8-a764-47ba-fd34-9671989910d4"
      },
      "source": [
        "np.append(a,b,axis = 1)"
      ],
      "execution_count": null,
      "outputs": [
        {
          "output_type": "execute_result",
          "data": {
            "text/plain": [
              "array([[[4, 3, 2],\n",
              "        [3, 5, 3],\n",
              "        [3, 5, 5],\n",
              "        [4, 5, 5]],\n",
              "\n",
              "       [[2, 4, 3],\n",
              "        [5, 4, 5],\n",
              "        [5, 2, 3],\n",
              "        [3, 5, 3]]])"
            ]
          },
          "metadata": {
            "tags": []
          },
          "execution_count": 176
        }
      ]
    },
    {
      "cell_type": "markdown",
      "metadata": {
        "id": "IlubesFsp9tg"
      },
      "source": [
        "##<u> **np.delete(arr, obj, axis)**</u>\n",
        "\n",
        "* arr: Input array\n",
        "* obj: Can be a slice, an integer or array of integers, indicating the subarray to be deleted from the input array\n",
        "* axis: The axis along which to delete the given subarray. If not given, arr is flattened\n",
        "* Returns a copy of arr with the elements specified by obj removed. Note that delete does not occur in-place. If axis is None, out is a flattened array."
      ]
    },
    {
      "cell_type": "code",
      "metadata": {
        "scrolled": false,
        "id": "37BXssPOp9tg",
        "colab": {
          "base_uri": "https://localhost:8080/",
          "height": 150
        },
        "outputId": "cf357ee1-1355-482f-e4b0-824fcca996a8"
      },
      "source": [
        "a = np.random.randint(2,6,(2,3,3))\n",
        "print(a)\n",
        "print(a.shape)"
      ],
      "execution_count": null,
      "outputs": [
        {
          "output_type": "stream",
          "text": [
            "[[[2 3 3]\n",
            "  [2 3 4]\n",
            "  [4 5 4]]\n",
            "\n",
            " [[3 2 4]\n",
            "  [5 4 4]\n",
            "  [5 4 3]]]\n",
            "(2, 3, 3)\n"
          ],
          "name": "stdout"
        }
      ]
    },
    {
      "cell_type": "code",
      "metadata": {
        "scrolled": true,
        "id": "cVaz5fj9p9ti",
        "colab": {
          "base_uri": "https://localhost:8080/",
          "height": 67
        },
        "outputId": "39a691b0-579d-4a10-9e5d-4afd87567287"
      },
      "source": [
        "# Delete along Axis=0\n",
        "np.delete(a,(0),axis = 0)"
      ],
      "execution_count": null,
      "outputs": [
        {
          "output_type": "execute_result",
          "data": {
            "text/plain": [
              "array([[[3, 2, 4],\n",
              "        [5, 4, 4],\n",
              "        [5, 4, 3]]])"
            ]
          },
          "metadata": {
            "tags": []
          },
          "execution_count": 179
        }
      ]
    },
    {
      "cell_type": "code",
      "metadata": {
        "id": "h9xdGY1pp9tk",
        "colab": {
          "base_uri": "https://localhost:8080/",
          "height": 67
        },
        "outputId": "7f80dbd4-272d-42ef-bf90-b99541604280"
      },
      "source": [
        "# Delete along axis=1\n",
        "np.delete(a,(0,2),axis = 1)"
      ],
      "execution_count": null,
      "outputs": [
        {
          "output_type": "execute_result",
          "data": {
            "text/plain": [
              "array([[[2, 3, 4]],\n",
              "\n",
              "       [[5, 4, 4]]])"
            ]
          },
          "metadata": {
            "tags": []
          },
          "execution_count": 180
        }
      ]
    },
    {
      "cell_type": "code",
      "metadata": {
        "id": "-XHEXrzdqf25",
        "colab": {
          "base_uri": "https://localhost:8080/",
          "height": 134
        },
        "outputId": "bf6ed2de-ba5d-4ac0-cd36-93f1902d814d"
      },
      "source": [
        "a"
      ],
      "execution_count": null,
      "outputs": [
        {
          "output_type": "execute_result",
          "data": {
            "text/plain": [
              "array([[[2, 3, 3],\n",
              "        [2, 3, 4],\n",
              "        [4, 5, 4]],\n",
              "\n",
              "       [[3, 2, 4],\n",
              "        [5, 4, 4],\n",
              "        [5, 4, 3]]])"
            ]
          },
          "metadata": {
            "tags": []
          },
          "execution_count": 181
        }
      ]
    },
    {
      "cell_type": "code",
      "metadata": {
        "scrolled": true,
        "id": "l_RDULftp9tm",
        "colab": {
          "base_uri": "https://localhost:8080/",
          "height": 134
        },
        "outputId": "1408879c-ad90-4767-bdff-f8a8504a98f3"
      },
      "source": [
        "# Delete along axis=2\n",
        "np.delete(a,(0,1),axis = 2)"
      ],
      "execution_count": null,
      "outputs": [
        {
          "output_type": "execute_result",
          "data": {
            "text/plain": [
              "array([[[3],\n",
              "        [4],\n",
              "        [4]],\n",
              "\n",
              "       [[4],\n",
              "        [4],\n",
              "        [3]]])"
            ]
          },
          "metadata": {
            "tags": []
          },
          "execution_count": 182
        }
      ]
    },
    {
      "cell_type": "markdown",
      "metadata": {
        "id": "CPdTQDnFp9to"
      },
      "source": [
        "## <u>**np.unique(arr, return_index, return_inverse, return_counts)**</u>\n",
        "\n",
        "* arr: Input array\n",
        "* return_index : If True, returns the indices of elements in the input array\n",
        "* return_counts: If True, returns the number of times the element in unique array appears in the original array"
      ]
    },
    {
      "cell_type": "code",
      "metadata": {
        "scrolled": true,
        "id": "37km2900p9to",
        "colab": {
          "base_uri": "https://localhost:8080/",
          "height": 150
        },
        "outputId": "03f6c76e-f932-4003-dd89-7655dd7bd855"
      },
      "source": [
        "#Initialized array\n",
        "a = np.random.randint(2,20,(2,3,3))\n",
        "print(a)\n",
        "print(a.shape)"
      ],
      "execution_count": null,
      "outputs": [
        {
          "output_type": "stream",
          "text": [
            "[[[ 6  2  7]\n",
            "  [ 7  9 15]\n",
            "  [ 2  7  7]]\n",
            "\n",
            " [[ 3 18 15]\n",
            "  [ 4  7  9]\n",
            "  [ 8  2 19]]]\n",
            "(2, 3, 3)\n"
          ],
          "name": "stdout"
        }
      ]
    },
    {
      "cell_type": "code",
      "metadata": {
        "id": "bgbzFii8p9tw",
        "colab": {
          "base_uri": "https://localhost:8080/",
          "height": 33
        },
        "outputId": "e9b72bce-18cd-4851-afdf-08d1706930ac"
      },
      "source": [
        "np.unique(a)"
      ],
      "execution_count": null,
      "outputs": [
        {
          "output_type": "execute_result",
          "data": {
            "text/plain": [
              "array([ 2,  3,  4,  6,  7,  8,  9, 15, 18, 19])"
            ]
          },
          "metadata": {
            "tags": []
          },
          "execution_count": 184
        }
      ]
    },
    {
      "cell_type": "code",
      "metadata": {
        "scrolled": false,
        "id": "ZhzIjRAvp9tr",
        "colab": {
          "base_uri": "https://localhost:8080/",
          "height": 50
        },
        "outputId": "82f4ceca-94e9-43e1-e012-543eb47a3f7f"
      },
      "source": [
        "# return_counts= True \n",
        "np.unique(a,return_counts=True) # Returns tuple"
      ],
      "execution_count": null,
      "outputs": [
        {
          "output_type": "execute_result",
          "data": {
            "text/plain": [
              "(array([ 2,  3,  4,  6,  7,  8,  9, 15, 18, 19]),\n",
              " array([3, 1, 1, 1, 5, 1, 2, 2, 1, 1]))"
            ]
          },
          "metadata": {
            "tags": []
          },
          "execution_count": 185
        }
      ]
    },
    {
      "cell_type": "code",
      "metadata": {
        "scrolled": true,
        "id": "iBEbZxbIp9tu",
        "colab": {
          "base_uri": "https://localhost:8080/",
          "height": 67
        },
        "outputId": "426f1567-b17c-45e9-9389-697b96c197a9"
      },
      "source": [
        "# return_index = True\n",
        "np.unique(a,return_counts=True,return_index=True)"
      ],
      "execution_count": null,
      "outputs": [
        {
          "output_type": "execute_result",
          "data": {
            "text/plain": [
              "(array([ 2,  3,  4,  6,  7,  8,  9, 15, 18, 19]),\n",
              " array([ 1,  9, 12,  0,  2, 15,  4,  5, 10, 17]),\n",
              " array([3, 1, 1, 1, 5, 1, 2, 2, 1, 1]))"
            ]
          },
          "metadata": {
            "tags": []
          },
          "execution_count": 187
        }
      ]
    },
    {
      "cell_type": "markdown",
      "metadata": {
        "id": "FGhKfa3sp9t2"
      },
      "source": [
        "## <u>**Difference between copy and view**</u>\n",
        "\n",
        "### The main difference between a copy and a view of an array is that the copy is a new array, and the view is just a view of the original array. The copy owns the data and any changes made to the copy will not affect original array, and any changes made to the original array will not affect the copy.\n"
      ]
    },
    {
      "cell_type": "markdown",
      "metadata": {
        "id": "D53c2BIejEV4"
      },
      "source": [
        "## Let us look at a list"
      ]
    },
    {
      "cell_type": "code",
      "metadata": {
        "id": "gdFLHUFtiCTB",
        "colab": {
          "base_uri": "https://localhost:8080/",
          "height": 50
        },
        "outputId": "ac5a9688-e53b-43e8-9fe0-c5937f25a97b"
      },
      "source": [
        "# Lets take an example of a list\n",
        "a = [1,2,3]\n",
        "b = a\n",
        "b[0] = 10\n",
        "print(b)\n",
        "print(a)"
      ],
      "execution_count": null,
      "outputs": [
        {
          "output_type": "stream",
          "text": [
            "[10, 2, 3]\n",
            "[10, 2, 3]\n"
          ],
          "name": "stdout"
        }
      ]
    },
    {
      "cell_type": "code",
      "metadata": {
        "id": "nicu_qTdi2LG",
        "colab": {
          "base_uri": "https://localhost:8080/",
          "height": 50
        },
        "outputId": "33fe8ad8-4fb3-4346-c15d-1d57272a057a"
      },
      "source": [
        "# Lets use the copy method\n",
        "a = [1,2,3]\n",
        "b = a.copy()\n",
        "b[0] = 10\n",
        "print(b)\n",
        "print(a)"
      ],
      "execution_count": null,
      "outputs": [
        {
          "output_type": "stream",
          "text": [
            "[10, 2, 3]\n",
            "[1, 2, 3]\n"
          ],
          "name": "stdout"
        }
      ]
    },
    {
      "cell_type": "markdown",
      "metadata": {
        "id": "m3JrLriSjBm7"
      },
      "source": [
        "## Now let us look at an array"
      ]
    },
    {
      "cell_type": "code",
      "metadata": {
        "id": "ME5mreEyp9t3",
        "colab": {
          "base_uri": "https://localhost:8080/",
          "height": 50
        },
        "outputId": "0fbf6947-d279-443c-8431-ea3742d58a05"
      },
      "source": [
        "a = np.array([2,34,12])\n",
        "b = a\n",
        "b[0] = -999 \n",
        "print(b)\n",
        "print(a)"
      ],
      "execution_count": null,
      "outputs": [
        {
          "output_type": "stream",
          "text": [
            "[-999   34   12]\n",
            "[-999   34   12]\n"
          ],
          "name": "stdout"
        }
      ]
    },
    {
      "cell_type": "code",
      "metadata": {
        "scrolled": true,
        "id": "vIk9kOA3p9t4",
        "colab": {
          "base_uri": "https://localhost:8080/",
          "height": 50
        },
        "outputId": "cb628576-e451-4012-acad-ba6eb8b3ad50"
      },
      "source": [
        "a = np.array([2,34,12])\n",
        "b = a.copy()\n",
        "b[0] = -999\n",
        "print(b)\n",
        "print(a)"
      ],
      "execution_count": null,
      "outputs": [
        {
          "output_type": "stream",
          "text": [
            "[-999   34   12]\n",
            "[ 2 34 12]\n"
          ],
          "name": "stdout"
        }
      ]
    },
    {
      "cell_type": "markdown",
      "metadata": {
        "id": "_ncd31Xtp9t6"
      },
      "source": [
        "#<u>**Basic Operations & Functions**</u>\n",
        "* ### <code>np.add()</code> - Adding two arrays\n",
        "* ### <code>np.subtract()</code> - Subtracting two arrays\n",
        "* ### <code>np.multiply()</code> - Multiplying two arrays\n",
        "* ### <code>np.divide()</code> - Dividing two arrays\n",
        "* ### <code>np.sum()</code> - Sum of items in an array\n",
        "* ### <code>np.min()</code> - Minimum of items in an array\n",
        "* ### <code>np.max()</code> -  Minimum of items in an array\n",
        "* ### <code>np.mean()</code> - Mean of items in an array\n",
        "* ### <code>np.sort()</code> - Sorting an array"
      ]
    },
    {
      "cell_type": "markdown",
      "metadata": {
        "id": "VQhE8KHUp9t7"
      },
      "source": [
        "# <u>**The concept of Broadcasting**</u>\n",
        "\n",
        "## Broadcasting allows these types of binary operations to be performed on arrays of different sizes–for example, we can just as easily add a scalar (think of it as a zero-dimensional array) to an array:\n",
        "\n",
        "## Broadcasting in NumPy follows a strict set of rules to determine the interaction between the two arrays:\n",
        "\n",
        "* ### Rule 1: If the two arrays differ in their number of dimensions, the shape of the one with fewer dimensions is padded with ones on its leading (left) side.\n",
        "* ### Rule 2: If the shape of the two arrays does not match in any dimension, the array with shape equal to 1 in that dimension is stretched to match the other shape.\n",
        "* ### Rule 3: If in any dimension the sizes disagree and neither is equal to 1, an error is raised.\n",
        "\n",
        "## Please refer to this link for more details : https://numpy.org/doc/stable/user/basics.broadcasting.html"
      ]
    },
    {
      "cell_type": "code",
      "metadata": {
        "scrolled": true,
        "id": "YbLjzHgNp9t7",
        "colab": {
          "base_uri": "https://localhost:8080/",
          "height": 33
        },
        "outputId": "efe8db48-ef04-4a2c-912d-ad36478a2d97"
      },
      "source": [
        "np.arange(3) + 5"
      ],
      "execution_count": null,
      "outputs": [
        {
          "output_type": "execute_result",
          "data": {
            "text/plain": [
              "array([5, 6, 7])"
            ]
          },
          "metadata": {
            "tags": []
          },
          "execution_count": 83
        }
      ]
    },
    {
      "cell_type": "markdown",
      "metadata": {
        "id": "bS-Wi_gxov18"
      },
      "source": [
        "![Broadcasting 1.PNG](data:image/png;base64,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)"
      ]
    },
    {
      "cell_type": "code",
      "metadata": {
        "id": "QWVesigNp9t8",
        "colab": {
          "base_uri": "https://localhost:8080/",
          "height": 67
        },
        "outputId": "8fb6af44-ecc6-4ada-bb9f-4f22ef7b248f"
      },
      "source": [
        "np.ones((3,3)) + np.arange(3)"
      ],
      "execution_count": null,
      "outputs": [
        {
          "output_type": "execute_result",
          "data": {
            "text/plain": [
              "array([[1., 2., 3.],\n",
              "       [1., 2., 3.],\n",
              "       [1., 2., 3.]])"
            ]
          },
          "metadata": {
            "tags": []
          },
          "execution_count": 84
        }
      ]
    },
    {
      "cell_type": "markdown",
      "metadata": {
        "id": "0eLq2-kwqv5C"
      },
      "source": [
        "![Broadcasting 2.PNG](data:image/png;base64,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)"
      ]
    },
    {
      "cell_type": "code",
      "metadata": {
        "id": "ZmSEJHHKp9t-",
        "colab": {
          "base_uri": "https://localhost:8080/",
          "height": 67
        },
        "outputId": "0129b4dc-63aa-4576-8490-4376a8fc7126"
      },
      "source": [
        "np.arange(3).reshape((3,1)) + np.arange(3)"
      ],
      "execution_count": null,
      "outputs": [
        {
          "output_type": "execute_result",
          "data": {
            "text/plain": [
              "array([[0, 1, 2],\n",
              "       [1, 2, 3],\n",
              "       [2, 3, 4]])"
            ]
          },
          "metadata": {
            "tags": []
          },
          "execution_count": 85
        }
      ]
    },
    {
      "cell_type": "markdown",
      "metadata": {
        "id": "B7Bz_JALr1qa"
      },
      "source": [
        "![Broadcasting 3.PNG](data:image/png;base64,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)"
      ]
    },
    {
      "cell_type": "code",
      "metadata": {
        "id": "9Qs-nzzHwmie",
        "colab": {
          "base_uri": "https://localhost:8080/",
          "height": 67
        },
        "outputId": "293679bb-2f38-4527-c33b-c6685fed724c"
      },
      "source": [
        "np.arange(3).reshape((3,1)) + np.arange(4)"
      ],
      "execution_count": null,
      "outputs": [
        {
          "output_type": "execute_result",
          "data": {
            "text/plain": [
              "array([[0, 1, 2, 3],\n",
              "       [1, 2, 3, 4],\n",
              "       [2, 3, 4, 5]])"
            ]
          },
          "metadata": {
            "tags": []
          },
          "execution_count": 195
        }
      ]
    },
    {
      "cell_type": "code",
      "metadata": {
        "id": "gew2rUYbwuP1",
        "colab": {
          "base_uri": "https://localhost:8080/",
          "height": 33
        },
        "outputId": "a7e7c242-4e90-47db-c079-8bcf37ea84be"
      },
      "source": [
        " np.arange(2)"
      ],
      "execution_count": null,
      "outputs": [
        {
          "output_type": "execute_result",
          "data": {
            "text/plain": [
              "array([0, 1])"
            ]
          },
          "metadata": {
            "tags": []
          },
          "execution_count": 194
        }
      ]
    },
    {
      "cell_type": "code",
      "metadata": {
        "id": "ugn1-JJFp9uE",
        "colab": {
          "base_uri": "https://localhost:8080/",
          "height": 84
        },
        "outputId": "a0229388-c499-44a5-970e-7575d31371f4"
      },
      "source": [
        "#Example 2\n",
        "a=np.random.randint(2,6,(2,4))\n",
        "print(a)\n",
        "b=np.random.randint(1,10,(2,2))\n",
        "print(b)"
      ],
      "execution_count": null,
      "outputs": [
        {
          "output_type": "stream",
          "text": [
            "[[5 4 3 5]\n",
            " [3 5 3 4]]\n",
            "[[4 6]\n",
            " [5 9]]\n"
          ],
          "name": "stdout"
        }
      ]
    },
    {
      "cell_type": "code",
      "metadata": {
        "scrolled": false,
        "id": "P72U2gPkp9uG",
        "colab": {
          "base_uri": "https://localhost:8080/",
          "height": 161
        },
        "outputId": "ac009cee-3a0f-47c7-cdfe-5fe0655065ea"
      },
      "source": [
        "np.add(a,b)"
      ],
      "execution_count": null,
      "outputs": [
        {
          "output_type": "error",
          "ename": "ValueError",
          "evalue": "ignored",
          "traceback": [
            "\u001b[0;31m---------------------------------------------------------------------------\u001b[0m",
            "\u001b[0;31mValueError\u001b[0m                                Traceback (most recent call last)",
            "\u001b[0;32m<ipython-input-219-d5ce9f282037>\u001b[0m in \u001b[0;36m<module>\u001b[0;34m()\u001b[0m\n\u001b[0;32m----> 1\u001b[0;31m \u001b[0mnp\u001b[0m\u001b[0;34m.\u001b[0m\u001b[0madd\u001b[0m\u001b[0;34m(\u001b[0m\u001b[0ma\u001b[0m\u001b[0;34m,\u001b[0m\u001b[0mb\u001b[0m\u001b[0;34m)\u001b[0m\u001b[0;34m\u001b[0m\u001b[0;34m\u001b[0m\u001b[0m\n\u001b[0m",
            "\u001b[0;31mValueError\u001b[0m: operands could not be broadcast together with shapes (2,4) (2,2) "
          ]
        }
      ]
    },
    {
      "cell_type": "markdown",
      "metadata": {
        "id": "2gw6SVkxsdr7"
      },
      "source": [
        "## Lets multiply two arrays"
      ]
    },
    {
      "cell_type": "code",
      "metadata": {
        "id": "C8d1zi7SscsU",
        "colab": {
          "base_uri": "https://localhost:8080/",
          "height": 84
        },
        "outputId": "4ebf998e-de22-418f-b4e2-1c227aad02b2"
      },
      "source": [
        "a=np.random.randint(2,6,(2,4))\n",
        "print(a)\n",
        "b=np.random.randint(0,5,(2,4))\n",
        "print(b)"
      ],
      "execution_count": null,
      "outputs": [
        {
          "output_type": "stream",
          "text": [
            "[[5 5 2 3]\n",
            " [3 4 5 5]]\n",
            "[[0 2 3 4]\n",
            " [2 4 1 1]]\n"
          ],
          "name": "stdout"
        }
      ]
    },
    {
      "cell_type": "code",
      "metadata": {
        "id": "diw0Kludsc-l",
        "colab": {
          "base_uri": "https://localhost:8080/",
          "height": 50
        },
        "outputId": "7633a9af-dee0-482b-de75-3424fb4f3841"
      },
      "source": [
        "np.multiply(a,b)"
      ],
      "execution_count": null,
      "outputs": [
        {
          "output_type": "execute_result",
          "data": {
            "text/plain": [
              "array([[20, 20, 12,  6],\n",
              "       [12,  9, 15, 12]])"
            ]
          },
          "metadata": {
            "tags": []
          },
          "execution_count": 221
        }
      ]
    },
    {
      "cell_type": "markdown",
      "metadata": {
        "id": "CXZ4o2jgsrgu"
      },
      "source": [
        "## Lets divide two arrays"
      ]
    },
    {
      "cell_type": "code",
      "metadata": {
        "id": "uLmsZt5jscbk",
        "colab": {
          "base_uri": "https://localhost:8080/",
          "height": 84
        },
        "outputId": "2303210e-f6b9-4074-e05f-41b9f8acab0d"
      },
      "source": [
        "np.divide(a,b)"
      ],
      "execution_count": null,
      "outputs": [
        {
          "output_type": "stream",
          "text": [
            "/usr/local/lib/python3.6/dist-packages/ipykernel_launcher.py:1: RuntimeWarning: divide by zero encountered in true_divide\n",
            "  \"\"\"Entry point for launching an IPython kernel.\n"
          ],
          "name": "stderr"
        },
        {
          "output_type": "execute_result",
          "data": {
            "text/plain": [
              "array([[       inf, 2.5       , 0.66666667, 0.75      ],\n",
              "       [1.5       , 1.        , 5.        , 5.        ]])"
            ]
          },
          "metadata": {
            "tags": []
          },
          "execution_count": 224
        }
      ]
    },
    {
      "cell_type": "markdown",
      "metadata": {
        "id": "9q-NtpbXtARV"
      },
      "source": [
        "## Now lets do some aggregation operations"
      ]
    },
    {
      "cell_type": "markdown",
      "metadata": {
        "id": "eV0uzp-hs6SC"
      },
      "source": [
        "![numpy-matrix-aggregation-1.png](data:image/png;base64,iVBORw0KGgoAAAANSUhEUgAABPwAAAD1CAYAAADEfestAAAYVGlDQ1BJQ0MgUHJvZmlsZQAAWIWVeQVUVF8X77mTzDAM3d0l3SDd3Y3AAEPn0KCSIqEiCCilggqCCBYhYiGIKCKogIFIGJQKKigC8i6h3//7f2u9t95Z69z7m3322XH2qT0XAM5UUmRkKIIOgLDwGIqdsR6fi6sbH3YKYAA9oAWcQIHkGx2pa2NjAeDy5/3fZXkYQJvvZ1Kbsv63/f9a6P3I0b4AQDYw9vGL9g2D8TUAUJm+kZQYADCqMF0wPiZyE3vAmIkCGwjjyE0csI0zN7HPNj6xxeNgpw/jBgCoCCQSJQAAYhtM54vzDYDlEF/AbQzhfkHhMOs8jLV8A0l+AHDugnl2hYVFbGIXGIv5/ENOwH/J9Pkrk0QK+Iu3fdkqVAZB0ZGhpMT/z+H4f5ew0Ng/OkTgSgikmNht+gyP24uQCPNNTIDxfLiPlTWMGWD8M8hvix/GCHxgrInjNj+CyzdaHx4zwAJjWT+SgTmMuWBsFB5qZbFD9/EPMjKFMTxDEAlBMaYOO32zydGG9jsyKygRdtZ/sD9FX3enbyOJsqV3k78rNsRRd0f+i0Cy6R/535MCHZy3bUbi44KcrGBMhDFLdIi9+TYPUigpUN/qDw8l1m7TfiEYq5PDjfW25SM9/SlGdjv8lLDoP/4iswODTK12cFlMoIPJjpwGX9KW/WwwbiOH6zr+kUOOdrH444sf2cBw23fkADncccdf5HhkjJ7dTt+vkaE2O/woPDnUeJMuAGOu6Dj7nb4orRh4Qm7LR1lFxtg4bNuJ8gkmmdls24NKABZAHxgAPhALVx8QAYJBUP986zz8a7vFCJAABQQAMpDaofzp4bzVEg4/7UES+AQjMoj+209vq5UM4mD6+l/q9lMK+G+1xm31CAEfYBwGzEEo/Dt2q1f4X21O4B1MCfof7b6wraFw3Wz7X5ouTLHYocT+kctH+4cTY4gxwJhgjDDiKA6UFkoDZQE/deAqj1JFqf2x9j/86A/oQfQkegg9jn7pFZRO+Zc/fMASjMMajHZ89vmnzygRWKoSSg+lCcuHZaNYUBxACqUIa9JFacO6lWCq/o7lm97/W/Z/+fCPUd/hw8niEDhWnA5O7N89iRJEpb9SNsf0nyO0bavP33HV/9vyb/36/xhpP/ht/m9OZDbyKrIHeRfZi+xAtgI+5G1kG7IPeXMT/51F77Zm0R9tdlv2hMBygv5HH2lH5+ZIRstekJ2RXdtuiyEnxGwuMP2IyERKUEBgDJ8uvPOT+UzDfaV38cnLyqkBsHmObG9T3+y2zgeI5cl/aORpAHbDawM38B9a8DEA6rsBYM39D03EHQB2eF++/NQ3lhK3TUNtPtAAD59PTIAd8ABBIAb7Iw+UgQbQAYbADFgDB+AKPOFRDoTnMwXEg70gDWSBPHAUFIMycAqcAefBRXAFtIIOcBfcB4/AABgCr+HZ8x7MgQWwDFYhCMJCNBAjxA7xQsKQJCQPqUJakCFkAdlBrpA3FACFQ7HQXigDyoMKoTKoCqqDLkPXobtQLzQIvYQmoBnoK/QLgUQQEEwIboQIQgahitBFmCMcEHsQAYgoRBIiE3EEcQJRjWhAtCDuIh4hhhDjiDnEEhIgqZEsSH6kFFIVqY+0Rroh/ZEU5H5kLrIEWY1sRLbDcX6GHEfOI1dQGBQjig8lBc9gE5QjyhcVhdqPOoQqQ51HtaC6UM9QE6gF1G80DZoLLYlWR5uiXdAB6Hh0FroEXYNuRnfDq+k9ehmDwbBgRDEq8Gp0xQRjkjGHMJWYJswdzCBmCrOExWLZsZJYTaw1loSNwWZhS7EN2NvYp9j32J9U1FS8VPJURlRuVOFU6VQlVPVUt6ieUn2kWsXR4YRx6jhrnB8uEZePO4trxz3Bvcet4unxonhNvAM+GJ+GP4FvxHfjR/HfqKmpBajVqG2pg6hTqU9QX6J+QD1BvUJgIEgQ9AkehFjCEUIt4Q7hJeEbDQ2NCI0OjRtNDM0RmjqaezRjND+JjERpoinRj5hCLCe2EJ8SP9PiaIVpdWk9aZNoS2iv0j6hnafD0YnQ6dOR6PbTldNdpxuhW6JnpJejt6YPoz9EX0/fSz/NgGUQYTBk8GPIZDjDcI9hihHJKMioz+jLmMF4lrGb8T0ThkmUyZQpmCmP6SJTP9MCMwOzIrMTcwJzOfNN5nEWJIsIiylLKEs+yxWWYZZfrNysuqxk1hzWRtanrD/YONl02MhsuWxNbENsv9j52A3ZQ9gL2FvZ33CgOCQ4bDniOU5ydHPMczJxanD6cuZyXuF8xYXgkuCy40rmOsPVx7XEzcNtzB3JXcp9j3ueh4VHhyeYp4jnFs8MLyOvFm8QbxHvbd5ZPmY+Xb5QvhN8XXwL/Fz8Jvyx/FX8/fyrAqICjgLpAk0CbwTxgqqC/oJFgp2CC0K8QpZCe4UuCL0SxgmrCgcKHxfuEf4hIiriLHJQpFVkWpRN1FQ0SfSC6KgYjZi2WJRYtdhzcYy4qniIeKX4gARCQkkiUKJc4okkQlJZMkiyUnJwF3qX2q7wXdW7RqQIUrpScVIXpCakWaQtpNOlW6U/ywjJuMkUyPTI/JZVkg2VPSv7Wo5BzkwuXa5d7qu8hLyvfLn8cwUaBSOFFIU2hUVFSUWy4knFF0qMSpZKB5U6ldaVVZQpyo3KMypCKt4qFSojqkyqNqqHVB+oodX01FLUOtRW1JXVY9SvqH/RkNII0ajXmN4tupu8++zuKU0BTZJmlea4Fp+Wt9ZprXFtfm2SdrX2pI6gjp9Ojc5HXXHdYN0G3c96snoUvWa9H/rq+vv07xggDYwNcg36DRkMHQ3LDMeMBIwCjC4YLRgrGScb3zFBm5ibFJiMmHKb+prWmS6YqZjtM+syJ5jbm5eZT1pIWFAs2i0RlmaWxyxHrYStwq1arYG1qfUx6zc2ojZRNjdsMbY2tuW2H+zk7Pba9dgz2nvZ19svO+g55Du8dhRzjHXsdKJ18nCqc/rhbOBc6DzuIuOyz+WRK4drkGubG9bNya3Gbcnd0L3Y/b2HkkeWx/Ae0T0Je3o9OTxDPW960XqRvK56o72dveu910jWpGrSko+pT4XPgq++73HfOT8dvyK/GbImuZD80V/Tv9B/OkAz4FjATKB2YEngfJB+UFnQYrBJ8KngHyHWIbUhG6HOoU1hVGHeYdfDGcJDwrsieCISIgYjJSOzIsej1KOKoxYo5pSaaCh6T3RbDBN8Ye+LFYs9EDsRpxVXHvcz3in+agJ9QnhCX6JEYk7ixySjpHPJqGTf5M69/HvT9k7s091XtR/a77O/M0UwJTPlfapx6vk0fFpI2uN02fTC9O8ZzhntmdyZqZlTB4wPXMgiZlGyRg5qHDyVjcoOyu7PUcgpzfmd65f7ME82ryRv7ZDvoYeH5Q6fOLxxxP9If75y/smjmKPhR4cLtAvOF9IXJhVOHbM81lLEV5Rb9L3Yq7i3RLHk1HH88djj4ycsTrSVCpUeLV0rCywbKtcrb6rgqsip+FHpV/n0pM7JxlPcp/JO/ToddPpFlXFVS7VIdckZzJm4Mx/OOp3tOad6rq6GoyavZr02vHb8vN35rjqVurp6rvr8C4gLsRdmGjwaBi4aXGxrlGqsamJpyrsELsVemr3sfXn4ivmVzquqVxuvCV+raGZszm2BWhJbFloDW8fbXNsGr5td72zXaG++IX2jtoO/o/wm8838W/hbmbc2bifdXroTeWf+bsDdqU6vztf3XO4977Lt6u82735w3+j+vR7dntsPNB909Kr3Xn+o+rD1kfKjlj6lvubHSo+b+5X7W56oPGkbUBtoH9w9eOup9tO7zwye3X9u+vzRkNXQ4LDj8IsRj5HxF34vpl+Gvlx8Ffdq9XXqKHo09w3dm5IxrrHqt+Jvm8aVx29OGEz0TdpPvp7ynZp7F/1u7X3mB5oPJR95P9ZNy093zBjNDMy6z76fi5xbnc/6RP+p4rPY52tfdL70LbgsvF+kLG58PfSN/Vvtd8XvnUs2S2PLYcurP3J/sv88v6K60vPL+dfH1fg17NqJdfH19t/mv0c3wjY2IkkU0tZVAAlXhL8/AF9rAaBxBYBxAAC8+3aet1OQ8OUDAb+dIEOELlIVxYbGY6iwslSuuAz8bQKGhkRspcPThzI8ZFJirmAFbCHs/ZzKXEe553h1+PL5BwXxQmrCriIhomFiHuJ6EtwSi5L3d5VKhUhrytDIvJVtkkuVt1XgV/ikeF3pgLKtCpfKe9VGtQR1XQ28xrPdFZp+Wru0vmq36uzV1dMj6L3Vv2VQb1hpVGC834Rkqm3GZrZo3mfRaFlpVWXdYTNlh7Znd+BwpHNCOq05r7oCN5w70YNmD2rPkuek14D3HdJVnxrfUr9ccqJ/QIBDoF6QYrBECH8oexhtODL8e8Rk5EDUDcrZ6CMxKbFZcc0JqERy0p29YJ/IfvUU01T3tNj0IxnFmckHFA9MZeUftMkWzqHOBXmIQ/SHxY5o5VsddS5wK3Q75lLkVOxQYnvc6oR5qXGZXrlWhVqlwkmpUxKnZavMqzPOjJ8zrWmonaujrxe+INegcdGg0bLJ+ZLX5cArkVfjr+1vTm850Jrdlnc9v734RkVHzc1rt7pvj9wZvzvc2XTPv4ut60F3yf34Hv8He3qdH9o+Mu8zfmzS7/AkauD04Mtn1M9lhvSHTUcMX6i+FH5FfLXyenr0xZu7Y2feZowHTDhOWk1ZvrN+b/3B7KPaNOv0+EzurOLs+Nz5+aRPJp+pPtd9Mf4ytXBmMeGr5zfr75ZLwcudPw/+al032NjYib8cEoWcQY2jpzALVEicMj6QuoIwTpSgjae7z8DOmMj0nEWeNZ3tDYcSZxbXAA8HrwtfAX+HwKjgktCy8KzIY9EzYhRxLQkqieeSp3YFSylJ/Za+L3NE1lmOV+6jfKNCnKKmEqTUrZyrYq3KqDqsVqrursGtMQrPAg8tdq0R7eM67roiuqt6Q/qXDQ4Zko12G9MbfzDpMC02izMnW/hYBlpFWIfZ+Nha22nYSzhwOhKdEE7Lzh9dhl3vuTW6l3vk7knyDPJy8TYgyfiw+UK+s35D5C7/5oCawJKgzOCIENdQnTDRcBp4JkxEjkV9j+aP8Yotjbsb/yJhKnE+aWUv9T6e/WIpfKmY1Ldpzen5GZRMzwOOWS4Hg7IzcipzL+Y1H2o5fO3I5fyLR+sKzhWePlZeVFycX5JzPP1EYmlEWUB5UEVq5e1T4qfPV4ueKTz77NxKLfE8R51gvQQ8D1QuajUaNFlecr0ceiXr6plrt5oHW8Zap9u+tSNvsHZI3tS4pXNb5Q7/XcTdyc6ee81dtd3l94/2HHiQ1Et5GPMop6+jn+XJvoE3TzmeaT93GPIfTh059+LJy++vGUal3liMRb49Pn5j4unk2NTku7kPaDj6aTODc/Tzsp+UPot8of3yc+HD4sjXh9+uf69aSll2+iH6Y/lnx0rSL41VwprB+sxO/KWhOUQl0hMljsaiFzEz2FmqSdwiNZ4gTKNLdKNNo2ugH2TYYBJmNmQJZj3Ador9Gkc35wOu+9w3eKp4E/j0+H7xnxUwF5gTzBYSFeoU9hReESkSlRV9KBYgjhWvlTCR+CiZtUtsV7eUrzSQrpTZLfNCNha+3TTJW8hPK2Qo8ii2KdkpzSsfUOFVaYVvLdNqKeos6hc0dDWe7vbd/VkzWQurVa6tqD2sk6TLo9umZ633Uj9Qf8Og2tDGCGd0z3iviaLJrGm1mYc5m/mwRbGlvRWtVa91ho2GzXfbJrsQe1H7dw5Vjnuc2J2eO+e7mLhsuDa7hboLub/xKNljtWfZs8hL2Ouat673K1KCj4DPC3gfCSQb+6sEqAWaBpGCw0JIodphdGGj4eciwiKVItei7lFyo21imGNex56K84sXif+QcDLRMHE0KTSZKfnZ3hv7bu3vSrmXej2tLr0kIyMz4oB7luFBiWx09vOc0ly3PKG81UPjhx8fuZ5/+uj+AvdC9WMcx1aKhouvlBw/fvhEYWlV2dXy+xUvKmdPrp6mqeKrVjhjctbjXETN/tqc84fqUutJF1QaiA1fL35qXLlEuMxzRf6qzbXk5mstP9vUrke2l9641NF288at3ttLd407r3fZdy/1lPQqPHzed7jfe8D0qe5zveHQl8TRucn+2aXvK5vx3/6/b7NglAE4lgZnqFkAOGoDUNAF55lDcN6JB8CGBgAHNYAQ8QcIQh+A1Cf+nh8QfNpgADWgB2yAF4gCWaAOZ8nWwA34g2g4u8wHJ0EjuAWegAnwHc4cuSA5yBjyguKhAqgBegB9QGAQYggLRDSiEs7zNuC8Lg55HfkbZYw6hppEK6Cz0W8x6phSzCqcYT2kUqGqxXHiCvDU+BxqPPVRAgehlkaRpoOoSWynVaW9QWdC95o+hoGO4SKjAeMgkwPTILM181MWL5afrKVsmmxj7Ps4ODnaOT25cFwd3HE8ijzfeK/wUfiV+NcEegRLhAKFd4sQRcZFr4pli/tI6EqK7CLuWpX6LP1OZki2WS5ZXk5+TCFbUUnxi1KbcqFKoqqfmoW6rAbrbqKmtFa5jqTuYb1e/S+GVEbMxuwmXKZCZormVhZRliesuqy/2graOdsfcehxQjkbuGS59rmzePjsqfd8540h0ftgfJZ83/uNkmcDaAPNg4qDP4buDisK/xxpFlUfTYiJin0Vb5TQliSVXLOPb395KktaQQY+M+3A0sHg7LncvENhR5oL6I9xFH0qqTvhVcZSPlB5+JTx6aXq/LNM57Jrls+H1H29cPSiYRP9pcUrH65Nt8y1fWyf6li8zXpX/55nt3ePfa/2I5nH4k+UB8Of/RxBvcKNnnrLOHHrPXF675zup6Yvq1+Vvxst438c/vlwZfrX+9WXa9fWj/722ZDd2j82448FBMAA2AE/kAAKQBOYAAfgDcJAMsgBpaAOXAePwBuwAKEhDkh2K/qJUBF0CeqHPiFoEQoIN0QG4griPZIX6YU8i5xHKaMyUUNocXQaehSOfTkWYAOxQ1SGVG04GVw9XhzfQK1IfZtgQ5iiSSDiiMW0/LSX4Pz1NX08AwtDK6MT4yemfcx45hMsUiwPWSPYWNnusAdxMHHc4YzgEuIa5S7lceFl433JV8nvJyArCASfC10QzhTxEFWEc7lZ8T6Jq/Apli+VIb1XJkbWV05HniDfr5CraK7EqrSo/FKlR7VFrVr9kEbS7jjNHK027R+6Cnp++nkGNYYtRjeMb5jcNO01m7BAWEpYOVkfsGm1nbcXcvByrHQacxFwDXZr8cDucfYs8+r2HiR1+tT5ZvsFke38TQJcA9OD7oTQhPqEdURwRCZFvYnWi6mLo42PTHiUxJ8ct3dgv1LK2TTO9KJM/IHkrPlsUs5kXtJh2XzE0TeFl4viShSPfy29XB5bqX7y1+maavkzlWc/1ojWBp6/VM96oeKiZuOnS6VX1K72N5NaVtuq2207wM262xZ3FjtPdfncV3/A/xD16PHjuCeYgdynhGfVQ14jli9DX9e++TjOO2nzLu3DrRnWuaOfRRYefytaPrRiuiq/dnL93e/FnfijAA7QwaufH0gCZaAPbIAnHPt98MqvAtfAAzAGr3sCJALpQHugZKgcuglNIHBw1EmIYsQAkhlJRt5EcaFSUbNoV/RjjD7mJlYTe5fKguoNLhpPi79E7URAElppoohyxJ+03XSl9LEMroymTGbMtixmrCps4uxKHF6ciVwx3D48DrxWfJb8lgIWgpZCdsJeItGih8XqxR9IzOyikVKR9pcpkx2W51DwU2xSWlWxUX2snrPbVQutfVRnTc9cPwOOYKtRh/Etk37TVXNzixYraesGW2m7Fgd9x2HnMFe8W4OHkye9N7WPl587+V2ARmBe0IcQu9C+cMuIp1HulOmY5Die+LHE+8l39lWmOKb+Sq/KdMriPbiQczPv0GH/fOMC9sJHRf7Fy8czSunLqiuUKx+f8q+CqivOqp4bqo2t46x/0JDSaHxJ5orRtZSW6rb8dtcO1psjt8vvut7Ddp27r9hzo9fw4UhfQr/MAHJw4dn00OBIwUvRV5Wvf78xHMt9+2iCdtJx6vS7mQ9yH0OmT888mJ2dR3/i+iz7xWDBeZH01e+bzXeB70tLh5e5lut/qP0o+7Hy0/lnywrLCmWlZWX1l86vzF+9q8RV+9XjqwNrVGs6awlrl9dm1vnXXdcL1x+ur/+W++33+/jvR79/b8htkDdObPRtxj/aX0F+6/iACHoAoMc2Nr6JAIAtBGC9YGNjtXpjY/0MnGyMAnAndPsb0tZZQwdAxcImetS2xvXvbzn/B4m02ae801gUAAABnmlUWHRYTUw6Y29tLmFkb2JlLnhtcAAAAAAAPHg6eG1wbWV0YSB4bWxuczp4PSJhZG9iZTpuczptZXRhLyIgeDp4bXB0az0iWE1QIENvcmUgNS40LjAiPgogICA8cmRmOlJERiB4bWxuczpyZGY9Imh0dHA6Ly93d3cudzMub3JnLzE5OTkvMDIvMjItcmRmLXN5bnRheC1ucyMiPgogICAgICA8cmRmOkRlc2NyaXB0aW9uIHJkZjphYm91dD0iIgogICAgICAgICAgICB4bWxuczpleGlmPSJodHRwOi8vbnMuYWRvYmUuY29tL2V4aWYvMS4wLyI+CiAgICAgICAgIDxleGlmOlBpeGVsWERpbWVuc2lvbj4xMjc2PC9leGlmOlBpeGVsWERpbWVuc2lvbj4KICAgICAgICAgPGV4aWY6UGl4ZWxZRGltZW5zaW9uPjI0NTwvZXhpZjpQaXhlbFlEaW1lbnNpb24+CiAgICAgIDwvcmRmOkRlc2NyaXB0aW9uPgogICA8L3JkZjpSREY+CjwveDp4bXBtZXRhPgrOzdP7AABAAElEQVR4Ae3dCWBU5bn/8d/MZIeEHWQN+xIFFUTEjbqgVmvVul6r9Vattdbaa622ev1ba1trre3VautytYtb1V61V2/dqxUVURQUIawCskMggZCQTDKZ+b/nTDKZbEOW2c6Z72mHnDnLu3zeA495zuYJmUlMCCCAAAIIOECgtLTUbmVJSYkDWksTEUAAAQQQaCtALGtrwhIEEEAAgfgLeONfJCUigAACCCCAAAIIIIAAAggggAACCCCAQKoESPilSp56EUAAAQQQQAABBBBAAAEEEEAAAQQQSIAACb8EoFIkAggggAACCCCAAAIIIIAAAggggAACqRIg4ZcqeepFAAEEEEAAAQQQQAABBBBAAAEEEEAgAQIeXtqRAFWKRAABBBBAAAEEEEAAAQQQQAABBBBAIEUCXOGXIniqRQABBBBAAAEEEEAAAQQQQAABBBBAIBECJPwSoUqZCCCAAAIIIIAAAggggAACCCCAAAIIpEiAhF+K4KkWAQQQQAABBBBAAAEEEEAAAQQQQACBRAiQ8EuEKmUigAACCCCAAAIIIIAAAggggAACCCCQIgESfimCp1oEEEAAAQQQQAABBBBAAAEEEEAAAQQSIZCViELdUmaDP6j6inq7Ox6fR7mDctzSNfqBAAIIIIBAjwSIkT3iY2cEEEAAAQcIEOscMEg0EQEEOhQg4dchjbTjlZ1aeOYn9ha5w3J18uY5MbZmFQIIIIAAApkjQIzMnLGmpwgggECmChDrMnXk6TcC7hAg4Zeicfz87i+06fGtdu2DTuyvkjsmpqglVIsAAggggEB6CRAj02s8aA0CCCCAQPwFiHXxN6VEBBBoKUDCr6VH0r7VbKzVno8r7fp6jc1PWr1UhAACCDhZoLS01G5+SUmJk7tB2/cjQIzcDxCrEUDA0QLEMkcPX9waT6yLGyUFIYBABwK8tKMDGBYjgAACCCCAAAIIIIAAAggggAACCCDgRAGu8GsctZrNtSp7fZeqller7+F9NPiUAfsdz2AgqPJ3d2vPJ3vl3+5Xw76g8kfkqmB0vgafNkhZBb4WZVR8uEf+bX572b7P90XW1W7xa9sLOyLffWa/QSe2rD8UDKliwR7t/siUsb1Ogb0B5Q3PU0FxngZ/eaCy+2RH9mcGAQQQQACBeAoQI+OpSVkIIIAAAukoQKxLx1GhTQgg0BMBEn5Gb+fb5Vp41ifmjbyBiGWfw4o07j+KI99bz1StrNa8Iz5QYHfzPtHbWC/5OPiBKTrg9MGRxat+sVbbXyiLfG+aKX9vtz48I/xyEGtZ/ug8zV13bNNq+Xf49daB81W3M/zG4MiKxpnsAdk66O5JGnnRsNar+I4AAggggECPBIiRPeJjZwQQQAABBwgQ6xwwSDQRAQS6LJDxt/TW767XB19Z3CLZZynu+ahSS3+wskPQQFVDc7LPKOaNzFWviQWSJ7yL31y198mly1Rf2X5CsMOC21kR9Ieak32mfCuZ2HtKL6lx9Op31WvJt0tVu6W2nb1ZhAACCCCAQPcEiJHdc2MvBBBAAAHnCBDrnDNWtBQBBLomkPFX+H3x8GY1mOSdPZlk2kH/NUmDTx2ojX/eotW3r+tQ02OSbdattKO/M0KDTx4ob044++bfWad5MxeoZn2tnaTb9PgWjblqlF3OtPumKPDLCfb8mjvXa+Nfttjzg04eoIN+OylSlye7MWvYtMR8HfClfqaukeaKwUHy5YdvFa7fU6/3jvtIlYv32rcTr39okybfOr5pL34igAACCCDQIwFiZI/42BkBBBBAwAECxDoHDBJNRACBbglkfMJv24vNt9gONom3sd8P38Y75RcTzHP1yrR3aVW7sH0OLdIRL02PrAvWB1VXbm65DUlDzxystXdvsNftW1sT2SZ/ZF5k3roNt2nKLspSYUnvpq9tfuaPyNNRb82MLLeeHVhv6goFpWFnD7ETftbK6LoiGzODAAIIIIBANwWIkd2EYzcEEEAAAccIEOscM1Q0FAEEuiiQ8Qm/2k3Nt8H2ndWnBV+/I/p0mPCzNtz2f2Vad98G7VlUGb7l1iT7Wk81G5rLb72uK9/L3tyldb/bYL+4w19WJ5lkX+spXnW1LpfvCCCAAAKZKUCMzMxxp9cIIIBAJgkQ6zJptOkrApklQMLPvJ23aepn3s4bPVnfN5hbftubrBdwrLh5TXurWiyLxzP8vvjvTfr0itIW5bb3JR51tVcuyxBAAAEEMlOglhiZmQNPrxFAAIEMEiDWZdBg01UEMkwg4xN+3lyvgv7wM/ysF3FET4Gq9l+4UWOuClxxS3OyL784T+OvH61eEwqUVZil9fdv1KbHtkYX1e35QHVAS65eHtk/d0iOxt8wWr3NLcDZfbK0+alt9pV/kQ2YQQABBFwsUFJS4uLepV/XiJHpNya0CAEEnC9ALEuvMSTWpdd40BoEEIifQON7XuNXoNNKyhve/Fy9ig/2tGh+xYKW35tWWrfwRt9SO+X2CRrz3VEafNJA9Z/dV/u+aL5qsGmf1j89rd7L0Xp90/fKz6oUqmu+V3j8j8do3A9Ga8gp4bpqzduAmRBAAAEEEEiEADEyEaqUiQACCCCQTgLEunQaDdqCAALxFMj4hF+vcfkRz11vVygUCifXgnVBlc/fHVkXPdP6SsD+R/WNrA7sazDP2Wt/v8hGZiZnYE7ka2UHLwaxNoi8Qbhx6+i6rLbufKs8Ug4zCCCAAAIIxFOAGBlPTcpCAAEEEEhHAWJdOo4KbUIAgXgIZHzCb+QlwyKOez6u1EfnLdEXj2zSglMXqXZT+1fPFR7Y8o26q+9Yp7qKelnP0Fv6/RUtrsiLFN5qpmB085WFVcur9f4pH2vlbZ/LKmuduSW4aSos6dU0a//8/Dfr5d/hl3Wr7/IbV6t+l3kzMBMCCCCAAAIJECBGJgCVIhFAAAEE0kqAWJdWw0FjEEAgjgIec5VY8/2icSzYKUWFGkJ6a+p8WUm31tPgUwZoxyu77MW5w3J18uY5kU0WfPnjyDproSfbo1DAUJr/5wzKVl1ZOBE36OQBmv3KjMh+TTPWlYBvTnq33aRivkkGzl13bNOmWnTJZ9r0aPMzAT1Zpi5r2MwjB6PrKjq0UF9aNDuyHzMIIIAAAgj0RIAY2RM99kUAAQQQcIIAsc4Jo0QbEUCgOwIZf4Wfx+fRUW/PVL8jmt/Q68nxaNx1xSq+cmSHpoc+OlXDLjggsj5UH5LX7Df55+M19j+KI8s7mskq8OnINw/TqMuGq/dk87KPvh2/P2XqvVM06lvDpcbRshKLHq9HY39QrMk/G99RFSxHAAEEEECgRwLEyB7xsTMCCCCAgAMEiHUOGCSaiAAC3RLI+Cv8otVqNteqevU+9Z1ZpKxeHSfgovexbq+tWrlP1tud+hxSaJJ+icuh1u2qs+uy6u8zvVC+PF90U5hHAAEEEEAgYQLEyITRUjACCCCAQJoIEOvSZCBoBgIIxEWAhF9cGCkEAQQQQAABBBBAAAEEEEAAAQQQQACB9BBI3OVo6dE/WoEAAggggAACCCCAAAIIIIAAAggggEBGCZDwy6jhprMIIICAswVKS0tlfZgQQAABBBBwqgCxzKkjR7sRQAABZwmQ8HPWeNFaBBBAAAEEEEAAAQQQQAABBBBAAAEEYgqQ8IvJw0oEEEAAAQQQQAABBBBAAAEEEEAAAQScJUDCz1njRWsRQAABBBBAAAEEEEAAAQQQQAABBBCIKUDCLyYPKxFAAAEEEEAAAQQQQAABBBBAAAEEEHCWAAk/Z40XrUUAAQQQQAABBBBAAAEEEEAAAQQQQCCmAAm/mDysRAABBBBAAAEEEEAAAQQQQAABBBBAwFkCJPycNV60FgEEEEAAAQQQQAABBBBAAAEEEEAAgZgCJPxi8rASAQQQQAABBBBAAAEEEEAAAQQQQAABZwl4QmZyVpNpLQIIIIAAAggggAACCCCAAAIIIIAAAgh0JMAVfh3JsBwBBBBAAAEEEEAAAQQQQAABBBBAAAEHCpDwc+Cg0WQEEEAAAQQQQAABBBBAAAEEEEAAAQQ6EiDh15EMyxFAAAEEEEAAAQQQQAABBBBAAAEEEHCgQFYq27xlyxbNnz9fWVkpbUZCCRoaGmQ9JtHtfZw4caKmTp2aUEsKRwABBDJNYOXKlVq6dKl8Pp9rux4IBOTxeFzfx8MPP1yjRo1y7TjSMQQQQKC7Ak899ZTy8vK6u3va72fFuJqaGtf30e/367zzzkv78aCBCGSSQEozbfm5eRo+aJimTZrmWvMVG9aqrGKPhg6f7No++mu2qbCw0LX9o2MIIIBAqgR69+6tCWMmaNywsalqQsLrLV2zXAGvTwVFIxNeV6oq2L5ttXxZuamqnnoRQACBtBawEmJzjzgxrdvYk8Y1BBv00ryXNWb8UT0pJq33DQWDWrn87bRuI41DIBMFUprwU8gjr8erLG9qm5HIgfeYX2Ikj/m4uI9mDK1AzYQAAgggEF8B+8o3r9vjpMfEECtWujdOKuQ1V/sTJ+P7t4PSEEDALQJWrHP174ONv/O6Oc6F1GBiOU8Lc8vfSfrhHgH+VrpnLOkJAggggAACCCCAAAIIIIAAAggggAACIuHHQYAAAggggAACCCCAAAIIIIAAAggggICLBEj4uWgw6QoCCCDgdoHS0lJZHyYEEEAAAQScKkAsc+rI0W4EEEDAWQIk/Jw1XrQWAQQQQAABBBBAAAEEEEAAAQQQQACBmAIk/GLysBIBBBBAAAEEEEAAAQQQQAABBBBAAAFnCZDwc9Z40VoEEEAAAQQQQAABBBBAAAEEEEAAAQRiCpDwi8nDSgQQQAABBBBAAAEEEEAAAQQQQAABBJwlQMLPWeNFaxFAAAEEEEAAAQQQQAABBBBAAAEEEIgpQMIvJg8rEUAAAQQQQAABBBBAAAEEEEAAAQQQcJYACT9njRetRQABBBBAAAEEEEAAAQQQQAABBBBAIKYACb+YPKxEAAEEEEAAAQQQQAABBBBAAAEEEEDAWQJZzmourUUAAQQQyGSBkpKSTO4+fUcAAQQQcIEAscwFg0gXEEAAAQcIcIWfAwaJJiKAAAIIIIAAAggggAACCCCAAAIIINBZARJ+nZViOwQQQAABBBBAAAEEEEAAAQQQQAABBBwgQMLPAYNEExFAAAEEEEAAAQQQQAABBBBAAAEEEOisAAm/zkqxHQIIIIAAAggggAACCCCAAAIIIIAAAg4QIOHngEGiiQgggAACCCCAAAIIIIAAAggggAACCHRWIKPe0ltXV6dX//mq9tXs09jRYzVz+szOOqX9dosXL9DCD9/Vls0b5PfXauSoMTr00CM0+8jj0r7tNBABBBBAID0EiJPpMQ60AgEEEEAgMQLEucS4UioCCKSnQEYk/Kqrq/Xwow/r7vvv0dbtW+2RuOTfvuGKhN9mk+C74vIztHnTF+0eYbOOmKPbf/mgBgwc3O56FiKAAAIIIECcJE7ytwABBBBwswBxjjjn5uObviHQkYDrE34PP/qIbrn9FpVXlNsGRYVFqtxb2ZGH45ZX7qmwk33jJ5To1FPPkfUzK8unV1/9u/75+ov6YMHbuunGb+v+B5+V18sd3I4bYBqMAAIIJFiAOEmcTPAhRvEIIIBASgWIc8S5lB6AVI5ACgVcn/B74eUXVLG7QmeedqZ+fO2P9KfH/6QH//yQPB5PCtnjV3W//gP0u/v+qmOOPalFn4486gSde943dfGFc+2k3+JFCzTjsCPjVzElIYAAAikQKC0ttWstKSlJQe3urJI4SZx055FNrxBIXwFiWXLHhjhHnEvuEUdtCKSPgOsv+Tr9lNO1eN4iPfXHv+qQqYekj3ycWnLAASN07JyTWyT7moo+6KDp5ll+Y+2vy5d/2rSYnwgggAACCEQEiJPEycjBwAwCCCDgQgHiHHHOhYc1XUKgUwKuv8LvW5dc3ikIt27UdBtvQUEvt3aRfiGAAAII9ECAOBk+90mc7MFBxK4IIIBAGgsQ54hzaXx40jQEEioQ/tuf0CooPFUCFRW7tH7darv6Qw6dlapmUC8CCCCAAAJpKUCcTMthoVEIIIAAAnESIM7FCZJiEHCoAAk/hw5cZ5p993/dam82e/ZxGjt2Umd2YRsEEEAAAQQyRoA4mTFDTUcRQACBjBQgzmXksNNpBCICJPwiFO6amff2q/rf559QoXkr8a23/c5dnaM3CCCAAAII9FCAONlDQHZHAAEEEEhrAeJcWg8PjUMgKQIk/JLCnNxK1q1dpZtv+o5d6U9++jsNOWB4chtAbQgggAACCKSxAHEyjQeHpiGAAAII9FiAONdjQgpAwBUCJPxcMYzNndi+bbO+8+1zVFm5Wzf86Jc6ce5Xm1cyhwACCCCAQIYLECcz/ACg+wgggIDLBYhzLh9guodAFwRI+HUBK903tR7KeuUVZ2vbtk267PJrdeFF3073JtM+BBBAAAEEkiZAnEwaNRUhgAACCKRAgDiXAnSqRCCNBbLSuG00rQsCVVWVuurKc7Ru3Sqde96l+t73/18X9mZTBBBAwBkCJSUlzmgorUw7AeJk2g0JDUIgYwWIZRk79AntOHEuobwUjoAjBbjCz5HD1rLRtbU1+t53L9Dy0k912lfO1U03/7rlBnxDAAEEEEAggwWIkxk8+HQdAQQQyAAB4lwGDDJdRKAbAiT8uoGWTrvU19frumsv0eJFC3T8Cafppz/7vTweTzo1kbYggAACCCCQMgHiZMroqRgBBBBAIAkCxLkkIFMFAg4VcP0tvX6/X9OPnR4ZnrJdO+35Z194Tu/Mfyey/NP3PlVWlvM45r39it579w27H0uXLtZXv3JYpE/RMyeceLqu++HPohcxjwACCCCAgIiT4YOAOMlfBgQQQMCdAsS58LgS59x5fNMrBGIJOC/DFas37awLhUL6fP3aNmv2Vu2V9XH6FAwGI13YsX1LZL71TPmustaL+I4AAggggICIk+GDgDjJXwYEEEDAnQLEufC4EufceXzTKwRiCbg+4ZeXl6fa7TWxDBy9bu5JZ+iTz8od3QcajwACCCCQOgHiZOrsqRkBBBBAIPECxLnEG1MDAgikpwDP8EvPcaFVCCCAAAIIIIAAAggggAACCCCAAAIIdEuAhF+32NgJAQQQQAABBBBAAAEEEEAAAQQQQACB9BQg4Zee40KrEEAAAQQQQAABBBBAAAEEEEAAAQQQ6JYACb9usbETAggggEAqBEpLS2V9mBBAAAEEEHCqALHMqSNHuxFAAAFnCZDwc9Z40VoEEEAAAQQQQAABBBBAAAEEEEAAAQRiCpDwi8nDSgQQQAABBBBAAAEEEEAAAQQQQAABBJwlQMLPWeNFaxFAAAEEEEAAAQQQQAABBBBAAAEEEIgpQMIvJg8rEUAAAQQQQAABBBBAAAEEEEAAAQQQcJYACT9njRetRQABBBBAAAEEEEAAAQQQQAABBBBAIKYACb+YPKxEAAEEEEAAAQQQQAABBBBAAAEEEEDAWQIk/Jw1XrQWAQQQQAABBBBAAAEEEEAAAQQQQACBmAIk/GLysBIBBBBAAAEEEEAAAQQQQAABBBBAAAFnCWQ5q7m0FgEEEEAgkwVKSkoyufv0HQEEEEDABQLEMhcMIl1AAAEEHCDAFX4OGCSaiAACCCCAAAIIIIAAAggggAACCCCAQGcFSPh1VortEEAAAQQQQAABBBBAAAEEEEAAAQQQcIAACT8HDBJNRAABBBBAAAEEEEAAAQQQQAABBBBAoLMCPMOvs1JshwACCCCAAAIIIIBAnAXKd5UrOytbHo8nziWnT3G1dbUaOHBg+jSIliCAAAIIJFUgFAxp3bJNysnOTWq9yazMY7JrvQflqk+fPsmsNmZdJPxi8rASAQQQQAABBBBAAIHECcybN099C/sqy+fe/yzfUrZF55xzjrxebi5K3JFEyQgggED6CtRW1+ndBe+o4pNg+jayhy0rHJajYTOKdMopp/SwpPjt7t7/soifESUhgEACBSoqKlRbW6vs7OwE1pLaoqurqzVs2DBX9zG1wtSOAAIIOFcgPy9fB0+cpoK8Aud2Yj8tf+X9V/ezBasRQAABBNwsYF3F7t8Z0qo/BFzbzbEn9dKkLxWmVf9SmvCr2leldVvWa8O2jWmFEs/GhBRSQ0NQe3ZviWexaVZWSD7vBBUXF6dZu2iOEwTWrl2rjRt3qbra54TmdquNXm+ljj++UEOG9O/W/uyUuQJWQnzpymUqXbXctQjBYNBESpnbGVe6uo9VVYNM/wa7to90DAEEEOiuQENDg17414vd3d0R+wVDQa1Y9roj2tqdRoZCViS3PkwIIJBOAilN+OXV56n/zv4asWV4OpnEtS2rJ+7Wptq92r7zgLiWm06FHXygX/37k8hIpzFxUlt69eqlNZ+X63//t8xJze5SW086KaSjj+7SLmyMgC3Qt29fjckZrd4Le7tWZOsBW1XeN0efbShybR8HD9ihUCjftf2jYwgggEBPBHw+nw78pKQnRaT1vkFPUEtLlmnZuolp3c6eNM7jCWni6NU9KYJ9EUAgAQIpTfhZD25UvflUu/dsQKjBo0AgpOoa9/YxGPS4+kHTCfh7R5EIINBNgdLSUnvPkhL3/mIQTWPd/uAx/8a6Ok6a/w4IBr2ujpN1dh/d+8ya6GOWeQQQ2L9ApsWy/YnYV4e5+PdBmWSYFc/d/PugxyQ1mRBAIP0EeHJu+o0JLUIAAQQQQAABBBBAAAEEEEAAAQQQQKDbAiT8uk3HjggggAACCCCAAAIIIIAAAggggAACCKSfAAm/9BsTWoQAAggggAACCCCAAAIIIIAAAggggEC3BUj4dZuOHRFAAAEEEEAAAQQQQAABBBBAAAEEEEg/ARJ+6TcmtAgBBBBAAAEEEEAAAQQQQAABBBBAAIFuC5Dw6zYdOyKAAAIIIIAAAggggAACCCCAAAIIIJB+AiT80m9MaBECCCCAAAIIIIAAAggggAACCCCAAALdFiDh1206dkQAAQQQQAABBBBAAAEEEEAAAQQQQCD9BLLSr0m0CAEEEEAAgfYFSkpK2l/BUgQQQAABBBwiQCxzyEDRTAQQQMDhAlzh5/ABpPkIIIAAAggggAACCCCAAAIIIIAAAghEC5Dwi9ZgHgEEEEAAAQQQQAABBBBAAAEEEEAAAYcLkPBz+ADSfAQQQAABBBBAAAEEEEAAAQQQQAABBKIFSPhFazCPAAIIIIAAAggggAACCCCAAAIIIICAwwV4aYfDB5Dmp6dAQ0OD9uzZYzeusLBQ2dnZ7TZ09+7dCgaDysnJUe/evdvdhoUIIIAAAggkSiC4rVLBRRvt4j15WfIdPylRVVEuAggggAACCCCAQBIFuMIvidhUlTkCt9xyiwYMGKAhQ4Zox44dHXb8mmuusbcbN26crOQfEwIIIIAAAskUCL7zufynPRD+/PvjSanaOilWXl5uf+rr6zus04qL1nZVVVUdbsMKBBBAAAEE0kWA+JYuI0E7mgRI+DVJ8BOBOAmsXLlSd911l13aWWedpeHDh3dY8tVXX22vs5KCN998c4fbsQIBBBBAAAG3CHBSLLUjWVdXpxdfflFPP/e0Fi5amNrGUDsCCCDgIgHiW+IHs9fAXB124RidcccMXfLYMbrk8WP0lZ8dqmlnjpI8sev3Zns0+ohBOvLyCTr62xPtz5DJfWLv5PC13NLr8AGk+ekncN1118n6j2lr+t73vhezgYcffrhmzpyphQsX6v7779d3vvMdHXjggTH3YWX3Bbxej6ZNG6TJk/tr4oS+ZpyC2rChUu++t9n83Nv9gtkTAQQQQKBTAl09KfbYY4/ZV8pbJ8Xuu+++TtXBRu0LVFdX6+FHH9bd99+jrdu32htd8m/f0MzpM9vfgaUIIIAAAp0WIL51mqrbG04/b7S++dc5sn6na2/a/FmF/nzRPG1ZUtFitZUkvOzpL2mMSfblFLRMgT3xrfe0fUX4UVwtdnLJl5a9dUmnoruxvWq7Ptn6qUp3lGpH9Q7VN9RrZN+ROviAg/WlMXOiN3XV/K6ytdq0cZHdp7Hjj1Zh0QGu6l+6dmbFihV66aWX7OZNmzZNxxxzzH6baiUFv/GNb9jP8rvnnnv00EMP7XcfNui6QIH5x/3Wnxyp2bOHtdn57LMn6uxzXmiznAXpJ1BaWmo3qqSkJP0a59AWESelTI6T3mnDlH3HV+2j11OUl/CjmJNiCSdut4KHH31Et9x+i8oryu31RYVFqtxb2e62LEy8ALEs8cbRNRDnMjvORR8LiZwnviVSN1x2bu+sFsm+vWW16tU/R15f+MbV4VP76dvPH687Zryomt3hC3CsPfOKsjXp+KGJb2Aa1uD6hN/xfzyxQ/apQ6bq7lN/qwMK3ZUMazBJzRefu17lu9bZfS86/15HJvyCy7Yq+PlOefrlyztpiAJPfiSFQsq68DBpUG81PL3IftC49+Dh8n19pjyelpn+4NY9anhjpUIbKhTasVee3rnyFPeXd8ZI+WaYS36jJmt9w4L1kSXeg4bKO3Zg5HvD4o0KbWx8xp6pxjd3sjx5bV/Ece+995omhuz9mm7XjRTSwcx5550nK0CUlZXp8ccf1x133KH+/ft3sDWLuyOQk+PVA/fP1ZgxfbRlS5WefXaVlq8oV062T+PG9dGsWZkZALpjyT7uEyBOSk6Nk/E4Gq34mvOjufEoar9lcFJsv0QJ2+CFl19Qxe4KnXnamfrxtT/Snx7/kx7880Nt/tspYQ2gYARSKECcy+w4l4xDj/iWDOVwHRsX79Kb/1Wq0lc2qarML+vqvaMun6gzfjnD3mDg2EIdek6x5j+8uk2jqnbVas287SqeOVD9RvRqs96NC1yf8Bvca7B9Jd/0YdM11CT2AsGA5q1/R6+uflWfbf9M1758nR49+8/K9rVN3jh1wD+c/yftrthost9Z5qqxgFO7ofo/vq/Ab9+SZ6pJxphkXmjJFrsvgUc/lPf4ifa6ps5lL92qnDvOaPoq/w+eU+Dut0yCMLKoxYzvrGnK/fNF8hTlh5f3zVf9rS8puHiT/d1KCuYtvN7+D+FQxT7VnmhuIyrfZ6/zXThDWadPbVFe05dnn322aVannnpqZD7WTG5urk444QQ99dRTqqmp0T/+8Q9dfPHFsXZhXRcFTj5ptJ3sW7OmQtf+4F/mBSn+SAkfL9quZ/62KvKdGQQyTYA46cw42ZOTYsHVOxRcvr3Noe7Jz7ZPaLVZYRZE7+MZ3FveWaMVXPiFGl5Zbs6CeeU7eYp8h7U8mda6HE6KtRZJ3vfTTzldd/70V5o8cXLyKqUmBNJEgDjnzDhnHT6hvbUKPP+pQmt3KbSrWp7+BfKM6CvfMePkndzyop1QlV8Nbzb/N73v1BJ5snz2UdgihpkLR3yzx4SXrylTsHSbPAXZ8poYFvjrxwpV1toXmHhH9rPrDr6/Tp6Jg5X177Mi5dk7R/1BfIvCSODsx0+v1/t/XNOihuqdfr32q8/s5/ENGF1orxt56ADzsznhV7mtRj+f+ndtXWYu4DH5gWvf+XIk4dd4rU6LMt30xfUJv7cu+2eb8Tpi5BGaM3qOLn3+Mi3ZtkRLty/TocMOabOdExeU71ynD+c/okNnXqBlS15UbY3z70cPfWaeM5NtLtM1/xBrX72Cn2y2PzJJOu2usYcp8NiHLRJ+oc3hv8z2yl458ozur9BmY9G4fcPzS1Rf8oZyfn66vYknJ0u5T16imhl3huv4eKManliorIsOV93PXokk+zyj+in3D+fb+7T+Y9myZdq+PfwLVEFBgYYNa3vraOt9mr6PHz++aVZvvfVW3BJ+n332mawrCDs7/fSnP+3S9p0tN9XbnX9++BecBx74tEWyL9Xton4E0kGAOOnMONmTk2IBc4V8/f/7R5vDzzOyrwo2/KzNcmtB4G+LVf+f/2ev8508Wd6Zxar/+auRba2TZjkPX6jsS2ZFlrWe4aRYa5Hkff/WJZcnrzJqQiDNBIhzzoxzgac/lv87T0sV4d/3Wh9WOfedq+zvHhtZbP3+5z/jocj3gopfSX0L7O+B//lE9Te9aM97j5ug/DevCS9/1iz/8Qt2EtEzbqCCb4eTSYEH37MTfPU/eSlSXnD+WuX+8aLI9+gZ4lu0RuLm66o7SF6bJN6OVZVqSvj5q+pbNKJ+X4O2Lm28W6/FGvu6olZL3PXV9Qm/joZr1sjDNarPKG3Ys0Grdq1yRcLPupX09Zd/rry8Ppp99LfthF9H/Xfa8ty/XyHrLEvNtF/aTfeUHKD8RTeo7uq/KfDw+wptqVRwW6W8BxSF1w8pVPaNc5V1+ZGRW3NDwaAC/z1fdVeawGGm+nv+peyffSVyO4t1lijnN19TnRVYzFRngoL3kBEK/H6e/V3m4aC5j14sT5/88PdWf77//vuRJePGjYuUG1kYY2bChAmRtfPnz4/M93TGumLQusS8s9Pu3e3/Q9jZ/dNxO+s23uLiIm3dWqUPPtyWjk2kTQikpQBxMi2HpU2junNSrE0hXVwQNFfcN7y+suVegaDqbvi7ss6f3u4jLzgp1pKLbwggkHoB4lzqx6CjFgRXbJP/ksclf2OCp7d5TlvJUIV2Vim03jyLNGgyPCbuxGsKbdptfp80idHCXGmvX6F1u2Qn+/qYZ9vuqbWrsU6W5TxwgawLRaIn4lu0RmrmrWf0jTlycKTyLxbujMxn+kzLozXDNOqD4czvQUPc8VbUzz55Xps3LtaXv/oL5eS6655066Hi3hH9zG1D5gF6DSF5pwyRJ9dcej1tePNRu8ec/WlM+OX+7tzm5WYuZNaFaurlO82MtbllSWZeVXVSWZU0OHzpr7VD9pVHq+HlZWp4Yan9zL6aL91jMn8NdlnZPzxBvjnNiTl7YdQfW7eaKxEbp+gr9pqWxfoZvX10ObH26cy6oqIi+3bhzmxrbTN8eJRnZ3dK8+0GDw6f2Vu7do9ycnw65eTROvzwA8xzEvO0bn2luaJygz76aHua94LmIZAaAeJkaty7WmtXT4pZsS7rawfb1TS8ulx1P3i+S1WGtlbKZxJ7ObedpsAzUVcL7qhS8OMN8h01rk15nBRrQ8ICBBBIAwHiXBoMQjtNaHjNXLDQmOzzmtt38/51jTze8IsZQpU1Cjw0X54Dmn+Ha6eILi/KeeRC+7EWNcW32L9veoYWKX/VLar/5Wuqv/01+y6w0Irt8kT//mlqIb51mTruO5x33yzl9Ta/45tp4ye79MnzG+Jeh1MLzMiEX1n1Tj26+FFt3btVI/uM0IGDnZ/wq67aqXfevFvDR07XlIO+7NTjscN2e3IbD1Xrp7mtV00vzGhabvYMmbMxTZP1Eo76+98JP4fBvLTDTvA1rYz6GTTrfFEJP2tV7iNfV83U2xXatlfatc/e2nvoCHM14GlRe7ad3bFjR2Rh9BV7kYUxZqK3r6yslN/vl/Vsv55OkydP1htvvNHTYhy9/+BB4Ssyy8tr9ZNbZuvYY0cY34D9hqepUwfpq6eP0zPPrNS99y12dD9pPALxFCBOxlMz8WV19aSYZ2BvWR9rCi7rxpXP1hXvD5wvj7lVKtu88KPeevRF48kx6yqJ9qbok1nRJ7na27b1sujto8tpvV1Xv3NSrKtibI+AewSIc+k9ltbz+pom63nq2mm+N/7OZj2D3boQI96TdSGJd3hfecwz/qzfAz3jB9kvfbRibNNkXUTSeoqOS9HxqvV27X2P3j66nPa27cqyTIpvR31romZdPN7mCZj/FnnqOwsUMhcIMYUFMibh9+dFf9HirYu1ac8mrdgZvg3lyxNO0XVHX+eKY+Gt1+5UXV2Njj/5R67oT7c6UWsSgWYKlVer5ojf2Jdi77ccc4ao9WT9EpRtrlqou+KpyKqc336tzeXbkZWNMz5f+KGw1tf6+nBbWm/T0ffW23sbz2B1tD3LOy8wcFD4Cr85c0bYt1nfdNM7mv9++AUwJ55QrOuvn2meWzhJCz7YqoULu/GLb+ebwpYIpLUAcTKthydm47p6UixmYZ1YaT1Ww0r2WZPHvO3cM2mw7FuLzfdQ461P9sqoPzgpFoXBLAIIpESAOJcS9m5V6j28OLJfyLyccd/wm+2r73xfLpHvjKnyjuofWR+vmUgsbbqwJC/qgpPGSqIvMGmql/jWJJH8nwefNUoX3H+EXXHQ3Ob9l2+8o/ULypLfkDSuMWMSfkvMG3nf+Lz5BR7Di4brshmX2m/uTePx6VTT1q6ep1Ur3jAv6vg3DRrc8S2nnSrMBRvV3fZyi2Sf/Vbdrx1in62xnsNXe/zvTEau42c+hEzi0Hq+X/RU/+s35PtSbNtBgwZFdlmzZk1kvjMzq1evjmzWt29fZWeHL0mOLOzmzJIlS7r0Eo7bbrutS9t3s1lJ3S3QONZFRbm66zcL9c67myP1v/raeo0f31cXXDBZF180hYRfRIaZTBQgTrp81BtPisWjl97hfVoUYz3PaH/n0jkp1oKMLwggkAIB4lwK0LtZZdZpBylwwXQ1PLUoXIJ5Xl/Dy6X2R9//H5P0m6Zc86Ioz4Be3ayhm7u1E0uJb9207OFuk04Yqm/+dY68Pq+sdxk8cfl7WvT0+h6W6r7dMybhd+OxP9b3Z39Plf69WlG2Qg9/9IjOe/oCff3gC/VDc5VflteZFHV1+/TGK79UQa/+OvKYKx1zhNbWhh9+ajU4KyvL/sSr8cGPNkaK8hSbt+o++g15zD8E1tTwwfqYyT5rG+uh46GmW5wanxnY8FKp6v8wT9lXNb8Jyto2ehoxYkTka3QCL7Iwxkx0gjC6nBi7dGqV5bxyZasHq8fY040v7ajY3XysvfbaF216byUArYTfaPNyD6b0FygpKUn/Rjq0hcRJhw6cQ5rNSTGHDBTNTIoAsSwpzG0qIc61IUnrBXl//aYC5xyqwGMfquGf5vcZ6/nr1mTOMDX8fYlqq/3Kf+3q8LL9/Wm95CNBE/EtQbAxih09a6Cu+Pvxys712cm+v377fS34U9cuuIlRvKtWOTPL1Y0hGNRroNnL+khThxykkyecpLOfPFePffK4xvcfr3MOOtte57Q/3vvXfarau10nn36bcvPi++DSRFlUVFSYFyY0X4Z95ZVX6v77749fdVXNz/LzzhodSfZZFdjBIkZNAfPCjsC9jW/lNW9lyv3zRfKf9bC9R90P/y7f8RNlvc23venoo4+OLF67dq2C5q3Anb01NzpBGF1OpMBuzhQWFuqYY47p9N5Dhw7t9LZO2bCiIpzwq6z0q6Ym0KbZO8vCz2ns1zfPvOHap9ra8Eta2mzIAgRcLkCcTJ8BTuRJsVT1MvpkVnTM60x7OCnWGSW2QQCB/QkQ5/YnlPj1XY1vWWcfIusTaggqaC7cCDzyvgJ/XGA3NGjeFh/cUN58e6/HvNwxarIeMdH0+IlgafPLFaM2icss8S0ujJ0uZNjUvvruy3Ptl3RYV/Y9ddUCvfffqzq9f6ZtmDEJv9YDW5RbpLMP/JruXXCfXv/8dccm/Nas+pfpmkcrl71if6L7WecPP+x0/tv3a/HCv+qgg8/QxClzozdx5bznQJOQ+zR822bDP8wbd99ZI+9RY02Q+EKB3zcm89rpeahsr/zffCKyJueWLyvrzIMV+PphanjiI/vFH/6LHlXe+9fZzyyKbNg4M27cOI0cOVIbN240z1Os0xdffKExY8a03qzd79G//Bx33HHtbtOdhVOmTNG8eR33uTtlOm2fsrLwcxrz87PMM/zMScFWJ/jyC7LtLvn9DeZlHiT7nDa+tDdxAsTJxNnGKjnhJ8ViVZ7AddEnszgplkBoikYAgU4LEOc6TRWXDbsS3+wXdRTlRS7csO7W8h05Vt7ZY2S9XT60eY/dJvtFUY3P87NethE9BRdvlLe4v30FWHD+uuhVcZ0nvsWVM2Zhg8YX6urXTlJBv1x7XJ/+7gK9+0Dn72aLWbhLV2Zsws8az/4F4avMdpq39jp7Cmn92vkddmH7tlJ73YhRMzrcxk0rsq87QQ3PmDeummc9qLpOtcfeI1lv87Ve7W6u2lO2ub23nWf4+S97Utpu3sxrJusB5Fnfm2PP59x5pmrMZeNWWcGPN6r+1peU84vT7XWt/7jwwgv1q1/9yl783HPP6brr9v9SmL179+r111+39+nTp49OPfXU1sXyvQcCq1ZVaOvWKg0d2tt+Xt/q1S3fIDlubPhW3i1mm9bJwB5Uy64IuEKAOOmKYWzRieDybQr8r4lpjVPws/BLjKyvocpa1d3xWtMqecwvW7EeZRHZsBMznBTrBBKbIIBA0gWIc0kn71SFgf9bqvqb/09ZVx4t3zHj5J1oXg61r04NrzQn+6yCvBOan6Hu6WdeJmX9rtf48ijr7qzQmp0KPPuJQuvLO1VvdzYivnVHrXv7nPu7WepzQPilYcFASMf/4ED707q05a9u1jNXfxBZfOi5o/XV26dHvvcbES7DWvDVX0zX3B9Njay7bfLz5orSVleIRNY6byajE37Lti+zR6y432jnjVxjiy+69EmTpGj/BRR/evAs+Wv36tQzbteo0YcrOyffsf3sSsN900cq92+Xqu6a/1FoY2NyxyT7rLcK5j17mf0G36ZA0FRu/QPvquHFpU1flXP32ZGr+LzD+ij7P09W/U0v2uvr73hd9huijh4X2b5p5qqrrtJdd92lhoYG/eEPf9C1116739t6H330UVlJP2u69NJL1bt3y7NTTWXzs/sCL7+yXpd+8yBdccXBuvHGdxSwksFmsm7htZ7fZ03z5m2yf/IHAgg0CxAnmy3cMhdcsln1N4bjWZs+mV+Sotd5RpqXSMV4dm2b/fezgJNi+wFK4Gq/36/pxzb/slO2K3yy+9kXntM789+J1Pzpe5/G9bnKkYKZQSBNBYhzaTowplmhDRX271/1HTTRd/pB5qWMLR9plfXvsxS45217j9DnO1V3/d+tm+HkPXacgvM+76Ckni8mvvXcsDMl+HLMhTuNk89cxDN4fFHT1xY/tyypaPE9ryi7w20LB+fL+jRN9h1hTV9c8NPVCb9/rXvbPEetQceOObbNSzleX/OGnit93h7CI0bOcuxQ5hf07bDtHk/4L4T1bD/rpR7pMvXr18++BHd/7cn9zddkfaKnXtW/jf6q7CuOsj8tFpov1q24PvN2p9CaMgU3Vshrkn3eEf3szXrt/nXrzZVtzh5Zn46mnBtPkvXZ3zRq1Cidf/75evLJJ2XdsvTKK6/s94q93//+93axubm5uuaaa/ZXBeu7IfD886t1/HEjdcSsoXrowbl6973NyjK3BsyZM0KjRhWpzDzH74knlnejZHZBwNkCxMn0jJPOPqo6bj0nxTq2SfQa6zlHn69f26aavVV7ZX2YEHCrAHHOmXHOuqLPa67sC374RfguregD1Ny5lXXxTOXcdVb0UnveeiRT8LOtCr7Z+Ey3vCxl33CiOcufndCEH/GtzVCwIE0EXJ3wK91Rqt9/8Af1z++viQMnamSfEaoL1GnlrlX2m3qtMTi6+Cide+A5aTIcNCOeAp5snzxTTKLPfJI53XnnnXrhhRdUVVWl++67L2bC780339Ty5eFE0w033KDRo0cns6kZU9fu3X5d9d1/6ie3zNaMGUM0YUI4+WsBvGeSf3f+emG7L/TIGCA6mrECxMn0G/pEnxTLOn+GrE9Xp5ybTpb1aW/K/+iG9ha3WcZJsTYkSVuQl5en2u3hZ9omrVIqQiANBIhzaTAIjU3obHyzNveZFy/mz/sPhWrrZV2pFyozj96pqZPH3HnlHTPAPHKi+Yqs6B56+vdS3htXK7S6TKEte+SdVSxPfo69SXsXb+T8aK6sT/RUsO6n0V/tC0myQve2WNb6C/GttUhivt97YvNjR7pSw/uPrJb1ycTJ1Qm/qUOm6tChh+iz7Uu1YOMC82ke4sKcQl122KW6+JCLzIP8zXW+TAjESWD48OG69dZbdfPNN+vtt9/WunXrOnx5x8MPP2xuK80zV5mNMrea3hinFlBMewJ799bph9e/rRxzKfj48f3MrdYeMzZ7VF3d0Y0C7ZXCMgTcJUCcdNd4OqE3nBRzwijRRgTcI0Ccc/ZYesyVeZ4Dh3apE9bv9h5zhaCsTxIn4lsSsamq0wKuTvgdM/poWZ999fu0pXKLdu4LP69keNFwDS0c2uY2306rOWTDq659yyEtdV8zrZd1dOaFHdatv0zJFairC6q0dFdyK6U2BNJUgDhJnEz2oclJsWSLUx8CmS1AnCPOJetvAPEtWdLU0xUBVyf8miAKsgs0fsB4+9O0jJ8IIIAAAs4TKC0ttRtdUlLivMancYuJk2k8OC5sGifFXDiodKlLAsSyLnHFZWPiXFwYKWQ/AsS3/QCxOukCza85SXrVVIgAAggggAACCCCAAAIIIIAAAggggAAC8RYg4RdvUcpDAAEEEEAAAQQQQAABBBBAAAEEEEAghQIk/FKIT9UIIIAAAggggAACCCCAAAIIIIAAAgjEW4CEX7xFKQ8BBBBAAAEEEEAAAQQQQAABBBBAAIEUCpDwSyE+VSOAAAIIIIAAAggggAACCCCAAAIIIBBvARJ+8RalPAQQQAABBBBAAAEEEEAAAQQQQAABBFIoQMIvhfhUjQACCCCAAAIIIIAAAggggAACCCCAQLwFSPjFW5TyEEAAAQQQQAABBBBAAAEEEEAAAQQQSKFAVgrrpmoEEEAAAQS6JFBSUtKl7dkYAQQQQACBdBMglqXbiNAeBBBAwJ0CXOHnznGlVwgggAACCCCAAAIIIIAAAggggAACGSpAwi9DB55uI4AAAggggAACCCCAAAIIIIAAAgi4U4CEnzvHlV4hgAACCCCAAAIIIIAAAggggAACCGSoAAm/DB14uo0AAggggAACCCCAAAIIIIAAAggg4E4BEn7uHFd6hQACCCCAAAIIIIAAAggggAACCCCQoQK8pTdDB55uI4AAAggggAACCKReoD5Qry07tignOyf1jUlQCxoaGhJUMsUigAACCDhBIBQKKauXNOgo915zlj+2QX6/P62Gg4RfWg0HjUEAAQQQQAABBBDIJIERw0fIm+1T0BtybbeHDRsmj8fj2v7RMQQQQACB2ALZuVnqXzRIB3yzIPaGDl6b3duroUP7pVUPSPil1XDQGAQQQAABBBBAAIFMEjhk+iGZ1F36igACCCCQgQJZOT6d8e8nZWDPU9tlEn6p9ad2BDJeYN++fRo7Vrr8ssGutcjK2q2cHK5siMcAl5aW2sWUlJTEozjKQAABBBBAIOkCxLKkk1MhAgggkJECKU347dlZqfKBFSrvU+Fa/FCuNDAvpL5Fu13bx0CdV7t2Zam4uNi1faRjiRMYOXKkBgwYYBJi7n12UVVVlfr37504REp2rUBFRYU+r10rHezaLkrZUsg8zmXaJPfezujzSZV79phBHOHigaRrCCCAQPcEgsGglhy8tHs7O2Evc843ZD7TJq1wQmu73Uavex/N1m0TdkQg1QIpTfgVZOXLNy9HOU+49z7usmuDWu/do/nzUz3Uiav//PP7m2RG/8RVQMmuFhg0aJCr+0fnEOiJQN++fTVkx1BV/mdNT4pJ633rztmnsom5+p+3KtO6nT1p3OEzpcmT8ntSBPsigAACrhXwmbMiuVcXubZ/IfMbd+19u/WXv7i2i7JObF18EXezuHeE6ZlTBVKa8JPMPwrmpV2eGhefDgiGFDRHR329e/8BDJlLM3gQs1P/CaDdCCCQzgLWv62eoPk31sVx0hPwKGQCpZvjZIP5bwEmBBBAAIH2Bay3d7o5zik7HAPcHOeCxLn2D26WIpBiARdn2lIsS/UIIIAAAggggAACCCCAAAIIIIAAAgikQICEXwrQqRIBBBBAAAEEEEAAAQQQQAABBBBAAIFECZDwS5Qs5SKAAAIIIIAAAggggAACCCCAAAIIIJACARJ+KUCnSgQQQAABBBBAAAEEEEAAAQQQQAABBBIlQMIvUbKUiwACCCCAAAIIIIAAAggggAACCCCAQAoEUvyW3hT0mCoRQAABBBwrUFJS4ti203AEEEAAAQQsAWIZxwECCCCAQDIEuMIvGcrUgQACCCCAAAIIIIAAAggggAACCCCAQJIESPglCZpqEEAAAQQQQAABBBBAAAEEEEAAAQQQSIYACb9kKFMHAggggAACCCCAAAIIIIAAAggggAACSRIg4ZckaKpBAAEEEEAAAQQQQAABBBBAAAEEEEAgGQIk/JKhTB0IIIAAAggggAACCCCAAAIIIIAAAggkSYCEX5KgqQYBBBBAAAEEEEAAAQQQQAABBBBAAIFkCJDwS4YydSCAAAIIIIAAAggggAACCCCAAAIIIJAkARJ+SYKmGgQQQAABBBBAAAEEEEAAAQQQQAABBJIhQMIvGcrUgQACCCAQF4HS0lJZHyYEEEAAAQScKkAsc+rI0W4EEEDAWQIk/Jw1XrQWAQQQQAABBBBAAAEEEEAAAQQQQACBmAIk/GLysBIBBBBAAAEEEEAAAQQQQAABBBBAAAFnCWQ5q7ldb+1H+lA7VdbhjsUarSk6sMP1Tlrh9Xo0bdogTZ7cXxMn9FVdXVAbNlTq3fc2m597ndQV2ooAAgggkCQB4iRxMkmHGtUggAACKREgzhHnUnLgUSkCaSDg+oTfi3pen2hRh9Sn6nRXJPwKCrJ060+O1OzZw9r09eyzJ+rsc15os5wFCCCAAAIIECcl4iR/DxBAAAH3ChDniHPuPbrpGQKxBVyf8Gvq/vGaqxEa2fQ18nOcxkfmnTqTk+PVA/fP1ZgxfbRlS5WefXaVlq8oV062T+PG9dGsWUOd2jXajQACCCCQJAHiZJKgqQYBBBBAICUCxLmUsFMpAgikUCBjEn5H6hjN1KwUUieu6pNPGm0n+9asqdC1P/iXdu/2Ryr7eNF2PfO3VZHvzCCAAAIIINCeAHGyPRWWIYAAAgi4RYA455aRpB8IINBZAV7a0VmpNN7u/PMn26174IFPWyT70rjJNA0BBBBAAIGkCRAnk0ZNRQgggAACKRAgzqUAnSoRcIAACT8HDFKsJlq38RYXF2nr1ip98OG2WJuyDgEEEEAAgYwTIE5m3JDTYQQQQCCjBIhzGTXcdBaBLglkzC29/9ALekZPKmj+N1KjNFkl5ql+p8hn/ufkafDgArv5a9fuUU6OT6ecPFqHH36A+vfP07r1lXrrrQ366KPtTu4ibUcAAQQiAiUlJZF5ZuIrQJyMryelIYAAAh0JEMs6kknscuJcYn0pHQEE0k8gYxJ+i/VRRH+NVuktvaFX9ZJu0E0aquGRdU6bGTwo325yeXmtfnLLbB177Aj5/QF5vR5NnTpIXz19nJ55ZqXuvW+x07pGexFAAAEEkihAnCROJvFwoyoEEEAg6QLEOeJc0g86KkQgxQKuT/hNNNfyHavjNElT1N/8r9z87xN9bK71e0xrtUZ36y7dod/KY/7nxGngoPAVfnPmjJDH49FNN72j+e9vsbty4gnFuv76mTrvvEla8MFWLVzILb9OHGPajAACCCRSgDhJnEzk8UXZCCCAQKoFiHPEuVQfg9SPQKoEXP8Mv6/rEp2gkzTC3MhboF72z6/oTN1m0nxe878VKtV7mpcq/x7XG6gP2mUUFeXqwYc+1TvvblZDQ8j+vPraej3//Gp7/cUXTelxXRSAAAIIIOA+AeIkcdJ9RzU9QgABBJoFiHPEueajgTkEMkvA9Qm/joZzvCZohmbaq1ebW3ydOlXsro00/bXXvojMN81YCUBrGm1e7sGEAAIIIIBAZwWIk52VYjsEEEAAAScKEOecOGq0GQEEuiKQsQk/C2mEeXmHNW3RJvunE/+oqAgn/Cor/aqpCbTpws6yffayfn3zlJfn7BeUtOkcCxBAAAEEEipAnEwoL4UjgAACCKRYf+EnQgAACL1JREFUgDiX4gGgegQQSKhARif8qrTXxi2Sc69+KyursfuQn59lnuHX9ljJL8i2F/r9DeZlHg1tN2AJAggggAACHQgQJzuAYTECCCCAgCsEiHOuGEY6gQACHQhkbMIvoICWaonNMlLFHfCk/+JVqyq0dWuVsrN9Gj++b5sGjxsbTmZuMduEQm1WswABBBBAAIF2BYiT7bKwEAEEEEDAJQLEOZcMJN1AAIEOBVyd8Cs1Kb1PtVgh87/oqU51+m/9QVvNzbz55lUeR+mY6NWOm3/5lfV2m6+44mBlZTUPqXUL7wUXTLbXzZvn3NuWHTcgNBgBBBBwiABxkjjpkEOVZiKAAALdEiDOEee6deCwEwIuEchyST/a7cZarTGJvfs1SIPNNXxjNNDMVWq3Vpp38+7STnufy3Wlvb7dAhyy0HoT7/HHjdQRs4bqoQfn6t33NivL59WcOeapFKOKVGae4/fEE8sd0huaiQACCHQsUFpaaq8sKSnpeCPWdFqAOEmc7PTBwoYIIBA3AWJZ3Cj3WxBxjji334OEDRBwsYCrE35DNdyk+oZoh7arzPwZPY3WWF2hq3SgpkYvduT87t1+XfXdf+ont8zWjBlDNGFCv0g/3jPJvzt/vbDdF3pENmIGAQQQQCAjBYiTEnEyIw99Oo0AAhkiQJwjzmXIoU43EWhXwNUJvxmaaa7we9RO9pWrXNZDWXuZ/w037+ctVFG7IE5duHdvnX54/dvKyfGaZ/n1k9fr0bp1e1RdXe/ULtFuBBBAAIEECxAniZMJPsQoHgEEEEipAHGOOJfSA5DKEUixgKsTfk221i291icTprq6oEpLd2VCV+kjAggggECcBIiTcYKkGAQQQACBtBQgzqXlsNAoBBBIsEDzGx4SXBHFI4AAAggggAACCCCAAAIIIIAAAggggEDiBUj4Jd6YGhBAAAEEEEAAAQQQQAABBBBAAAEEEEiaAAm/pFFTEQIIIIAAAggggAACCCCAAAIIIIAAAokXIOGXeGNqQAABBBBAAAEEEEAAAQQQQAABBBBAIGkCJPySRk1FCCCAAAIIIIAAAggggAACCCCAAAIIJF4gI97Sm3hGakAAAQQQSIZASUlJMqqhDgQQQAABBBImQCxLGC0FI4AAAghECXCFXxQGswgggAACCCCAAAIIIIAAAggggAACCDhdgISf00eQ9iOAAAIIIIAAAggggAACCCCAAAIIIBAlQMIvCoNZBBBAAAEEEEAAAQQQQAABBBBAAAEEnC5Aws/pI0j7EUAAAQQQQAABBBBAAAEEEEAAAQQQiBIg4ReFwSwCCCCAAAIIIIAAAggggAACCCCAAAJOFyDh5/QRpP0IIIAAAggggAACCCCAAAIIIIAAAghECZDwi8JgFgEEEEAAAQQQQAABBBBAAAEEEEAAAacLkPBz+gjSfgQQQAABBBBAAAEEEEAAAQQQQAABBKIESPhFYTCLAAIIIJDeAqWlpbI+TAgggAACCDhVgFjm1JGj3QgggICzBEj4OWu8aC0CCCCAAAIIIIAAAggggAACCCCAAAIxBUj4xeRhJQIIIIAAAggggAACCCCAAAIIIIAAAs4SyEplc2vq9ylwnF+Bo+pS2YyE1t0rTyoJSZMmmj9cOmVnl2nXrn4qLi52aQ/pFgIIIJAagYqKCm0bukWhh90bQ5QdUj9frS53cQjx+SS/vzo1BxG1IoAAAmkuEAwGVf1weZq3sgfN84Tkyfbo8stcHMsNT7aJ50wIIJBeAp6QmVLWpNTVnLwue5JXFTUhgAACbhdoen5fSUmJ27va3D9iZbMFcwgggIALBDIylu1v3Ih1+xNiPQIIINBlgZRe4SeSYV0eMHZAAAEEEMgwAWJlhg043UUAAQQyUIBYl4GDTpcRQCDRAjzDL9HClI8AAggggAACCCCAAAIIIIAAAggggEASBUj4JRGbqhBAAAEEEEAAAQQQQAABBBBAAAEEEEi0AAm/RAtTPgIIIIAAAggggAACCCCAAAIIIIAAAkkUSO1LO5LYUapCAAEEEEAAAQQQQAABBBBAAAEEEEAgEwS4wi8TRpk+IoAAAggggAACCCCAAAIIIIAAAghkjAAJv4wZajqKAAIIIIAAAggggAACCCCAAAIIIJAJAiT8MmGU6SMCCCCAAAIIIIAAAggggAACCCCAQMYIkPDLmKGmowgggAACCCCAAAIIIIAAAggggAACmSBAwi8TRpk+IoAAAggggAACCCCAAAIIIIAAAghkjAAJv4wZajqKAAIIIIAAAggggAACCCCAAAIIIJAJAiT8MmGU6SMCCCCAAAIIIIAAAggggAACCCCAQMYIkPDLmKGmowgggAACCCCAAAIIIIAAAggggAACmSBAwi8TRpk+IoAAAi4RKC0tlfVhQgABBBBAwKkCxDKnjhztRgABBJwlQMLPWeNFaxFAAAEEEEAAAQQQQAABBBBAAAEEEIgpQMIvJg8rEUAAAQQQQAABBBBAAAEEEEAAAQQQcJYACT9njRetRQABBBBAAAEEEEAAAQQQQAABBBBAIKYACb+YPKxEAAEEEEAAAQQQQAABBBBAAAEEEEDAWQIk/Jw1XrQWAQQQQAABBBBAAAEEEEAAAQQQQACBmAIk/GLysBIBBBBAAAEEEEAAAQQQQAABBBBAAAFnCZDwc9Z40VoEEEAAAQQQQAABBBBAAAEEEEAAAQRiCpDwi8nDSgQQQAABBBBAAAEEEEAAAQQQQAABBJwl4AmZyVlNprUIIIAAAggggAACCCCAAAIIIIAAAggg0JEAV/h1JMNyBBBAAAEEEEAAAQQQQAABBBBAAAEEHChAws+Bg0aTEUAAAQQQQAABBBBAAAEEEEAAAQQQ6EiAhF9HMixHAAEEEEAAAQQQQAABBBBAAAEEEEDAgQIk/Bw4aDQZAQQQQAABBBBAAAEEEEAAAQQQQACBjgRI+HUkw3IEEEAAAQQQQAABBBBAAAEEEEAAAQQcKPD/AUWgFf425xDJAAAAAElFTkSuQmCC)"
      ]
    },
    {
      "cell_type": "markdown",
      "metadata": {
        "id": "zouYVv3Ss6DX"
      },
      "source": [
        "![numpy-matrix-aggregation-4.png](data:image/png;base64,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)"
      ]
    },
    {
      "cell_type": "code",
      "metadata": {
        "id": "tI9U6l8rtOBD",
        "colab": {
          "base_uri": "https://localhost:8080/",
          "height": 50
        },
        "outputId": "570df521-b73f-4356-ae3f-bda268142892"
      },
      "source": [
        "a=np.random.randint(5,9,(2,4))\n",
        "print(a)"
      ],
      "execution_count": null,
      "outputs": [
        {
          "output_type": "stream",
          "text": [
            "[[5 5 7 6]\n",
            " [5 7 5 5]]\n"
          ],
          "name": "stdout"
        }
      ]
    },
    {
      "cell_type": "code",
      "metadata": {
        "id": "cvfRC01Wp9uN",
        "colab": {
          "base_uri": "https://localhost:8080/",
          "height": 67
        },
        "outputId": "98cde199-ddf2-42c2-cea8-20bdb896d402"
      },
      "source": [
        "print(np.sum(a)) \n",
        "print(np.sum(a,axis=0))\n",
        "print(np.sum(a,axis=1))"
      ],
      "execution_count": null,
      "outputs": [
        {
          "output_type": "stream",
          "text": [
            "45\n",
            "[10 12 12 11]\n",
            "[23 22]\n"
          ],
          "name": "stdout"
        }
      ]
    },
    {
      "cell_type": "code",
      "metadata": {
        "id": "AACQcMhyp9uR"
      },
      "source": [
        "# Calculate minimum\n",
        "print(np.min(a))\n",
        "print(np.min(a,axis=2)) # Across Column"
      ],
      "execution_count": null,
      "outputs": []
    },
    {
      "cell_type": "code",
      "metadata": {
        "scrolled": true,
        "id": "wM3Ta3ACp9uU",
        "colab": {
          "base_uri": "https://localhost:8080/",
          "height": 67
        },
        "outputId": "1353554c-af31-47ab-c045-1f4189c0dfcc"
      },
      "source": [
        "# Sort the array\n",
        "a=np.random.randint(0,20,(3,3))\n",
        "print(a)"
      ],
      "execution_count": null,
      "outputs": [
        {
          "output_type": "stream",
          "text": [
            "[[19  0 15]\n",
            " [ 7  8 13]\n",
            " [ 0  8  9]]\n"
          ],
          "name": "stdout"
        }
      ]
    },
    {
      "cell_type": "code",
      "metadata": {
        "scrolled": true,
        "id": "kbmKocX2p9uV",
        "colab": {
          "base_uri": "https://localhost:8080/",
          "height": 67
        },
        "outputId": "064b8e68-c1cf-47bd-ec38-3a088f2a3a42"
      },
      "source": [
        "print(np.sort(a,axis=0)) # Ascending"
      ],
      "execution_count": null,
      "outputs": [
        {
          "output_type": "stream",
          "text": [
            "[[ 0  0  9]\n",
            " [ 7  8 13]\n",
            " [19  8 15]]\n"
          ],
          "name": "stdout"
        }
      ]
    },
    {
      "cell_type": "code",
      "metadata": {
        "id": "XVYK6y_P0mta",
        "colab": {
          "base_uri": "https://localhost:8080/",
          "height": 67
        },
        "outputId": "290c66ec-ef59-424f-cf42-3e81911710fd"
      },
      "source": [
        "print(np.sort(a,axis=1))"
      ],
      "execution_count": null,
      "outputs": [
        {
          "output_type": "stream",
          "text": [
            "[[ 0 15 19]\n",
            " [ 7  8 13]\n",
            " [ 0  8  9]]\n"
          ],
          "name": "stdout"
        }
      ]
    },
    {
      "cell_type": "code",
      "metadata": {
        "id": "Nnx-oMKlwhFd",
        "colab": {
          "base_uri": "https://localhost:8080/",
          "height": 67
        },
        "outputId": "15b7c325-8a65-45ea-c067-68b756028c32"
      },
      "source": [
        "print(-np.sort(-a,axis=1)) # Descending"
      ],
      "execution_count": null,
      "outputs": [
        {
          "output_type": "stream",
          "text": [
            "[[14  4  2]\n",
            " [17 11  1]\n",
            " [15 15 13]]\n"
          ],
          "name": "stdout"
        }
      ]
    },
    {
      "cell_type": "code",
      "metadata": {
        "id": "bkZ0polazLSQ",
        "colab": {
          "base_uri": "https://localhost:8080/",
          "height": 34
        },
        "outputId": "6c6e60c4-635f-469a-846e-c54b0a18a718"
      },
      "source": [
        "sum(np.arange(3)*np.arange(3).transpose())"
      ],
      "execution_count": null,
      "outputs": [
        {
          "output_type": "execute_result",
          "data": {
            "text/plain": [
              "5"
            ]
          },
          "metadata": {
            "tags": []
          },
          "execution_count": 128
        }
      ]
    },
    {
      "cell_type": "code",
      "metadata": {
        "id": "I1_M2TW0NHM8"
      },
      "source": [
        ""
      ],
      "execution_count": null,
      "outputs": []
    }
  ]
}