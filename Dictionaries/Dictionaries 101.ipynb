{
 "cells": [
  {
   "cell_type": "markdown",
   "id": "90932e7b-fc29-4b95-97dd-b6d5962e2391",
   "metadata": {},
   "source": [
    "## Dcitionary Basics"
   ]
  },
  {
   "cell_type": "code",
   "execution_count": 7,
   "id": "32d6afb4-c6fa-483b-a20d-c25cdc4eb08c",
   "metadata": {},
   "outputs": [],
   "source": [
    "a_dict1 = {1: \"First\", \"b\": \"second\", \"c\": \"third\"}\n",
    "a_dict2 = {\"a\": \"First\", \"b\": \"second\", \"c\": \"third\"}"
   ]
  },
  {
   "cell_type": "code",
   "execution_count": 12,
   "id": "7a5aa7ff-ec3a-4f3b-b9f9-baa4db39c573",
   "metadata": {},
   "outputs": [
    {
     "data": {
      "text/plain": [
       "'First'"
      ]
     },
     "execution_count": 12,
     "metadata": {},
     "output_type": "execute_result"
    }
   ],
   "source": [
    "a_dict1.get(1)"
   ]
  },
  {
   "cell_type": "code",
   "execution_count": 8,
   "id": "946b42c8-d1a1-47ab-a102-6bd039b344d0",
   "metadata": {},
   "outputs": [
    {
     "data": {
      "text/plain": [
       "'First'"
      ]
     },
     "execution_count": 8,
     "metadata": {},
     "output_type": "execute_result"
    }
   ],
   "source": [
    "a_dict1[1]"
   ]
  },
  {
   "cell_type": "code",
   "execution_count": 1,
   "id": "19d6abb4-25e3-4341-b98a-22a652f818e8",
   "metadata": {},
   "outputs": [],
   "source": [
    "a_dict3 = {(1,2,3): \"First\", \"b\": \"second\", \"c\": \"third\"}"
   ]
  },
  {
   "cell_type": "code",
   "execution_count": 4,
   "id": "20609fd6-3061-4243-b080-badbc6778205",
   "metadata": {},
   "outputs": [
    {
     "data": {
      "text/plain": [
       "'First'"
      ]
     },
     "execution_count": 4,
     "metadata": {},
     "output_type": "execute_result"
    }
   ],
   "source": [
    "a_dict3[1,2,3]"
   ]
  },
  {
   "cell_type": "code",
   "execution_count": null,
   "id": "6b88fd4b-940c-4c6d-ae85-4e6fd3b17e47",
   "metadata": {},
   "outputs": [],
   "source": []
  }
 ],
 "metadata": {
  "kernelspec": {
   "display_name": "Python 3",
   "language": "python",
   "name": "python3"
  },
  "language_info": {
   "codemirror_mode": {
    "name": "ipython",
    "version": 3
   },
   "file_extension": ".py",
   "mimetype": "text/x-python",
   "name": "python",
   "nbconvert_exporter": "python",
   "pygments_lexer": "ipython3",
   "version": "3.7.3"
  }
 },
 "nbformat": 4,
 "nbformat_minor": 5
}
