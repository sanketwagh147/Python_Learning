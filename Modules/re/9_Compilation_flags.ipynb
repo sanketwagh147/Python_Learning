{
 "cells": [
  {
   "cell_type": "markdown",
   "id": "545c0f74-f78e-4246-bb83-69b9db941ec6",
   "metadata": {},
   "source": [
    "# Compilation Flags"
   ]
  },
  {
   "cell_type": "code",
   "execution_count": 1,
   "id": "6956050b-3bdf-4046-b5e5-e2f01f656478",
   "metadata": {},
   "outputs": [],
   "source": [
    "import re"
   ]
  },
  {
   "cell_type": "markdown",
   "id": "33c9d2e5-91fe-41bd-a759-29d0d787f9cb",
   "metadata": {},
   "source": [
    "### Compilation flags help to modify some aspects of how regular expressions work.\n",
    "> They can be metioned in two naming conventions\n",
    ">> Long: such as `ASCII`,`IGNORECASE` etc or\n",
    ">> short: `A`,`I` \n",
    "### Multiple flags can be used using the bitwise OR `|` ex: re.S | re.A "
   ]
  },
  {
   "cell_type": "markdown",
   "id": "d1f50eb5-4ce8-414b-9a5c-4fe533de5103",
   "metadata": {},
   "source": [
    "## Flags"
   ]
  },
  {
   "cell_type": "markdown",
   "id": "9fae2774-592a-40f7-a0b6-0d82e5459d64",
   "metadata": {
    "tags": []
   },
   "source": [
    "### `IGNORECASE` or `I`\n",
    "> used to perform `case-,insensitive`\n"
   ]
  },
  {
   "cell_type": "code",
   "execution_count": 29,
   "id": "2b129b58-62a3-4237-9cc6-2dfe726f97f6",
   "metadata": {},
   "outputs": [],
   "source": [
    "pattern_I = \"[a-c]\"\n",
    "flags = re.IGNORECASE  # this means the pattern will ignore case and match [A-C] also\n",
    "regex_I = re.compile(pattern_I, flags)"
   ]
  },
  {
   "cell_type": "code",
   "execution_count": 33,
   "id": "ebba57be-a372-4035-bc7c-89ce9baac7f1",
   "metadata": {},
   "outputs": [
    {
     "name": "stdout",
     "output_type": "stream",
     "text": [
      "1 : ₹                --> []\n",
      "2 : \\w               --> []\n",
      "3 : patern           --> ['a']\n",
      "4 : __Ab90           --> ['A', 'b']\n",
      "5 : #$%              --> []\n",
      "6 :                  --> []\n",
      "7 : patttern         --> ['a']\n",
      "8 : paterm           --> ['a']\n",
      "9 : patCttttttttern  --> ['a', 'C']\n"
     ]
    }
   ],
   "source": [
    "string_listA =[\"₹\", \"\\w\", \"patern\", \"__Ab90\",\"#$%\", \" \", \"patttern\", \"paterm\", \"patCttttttttern\"]\n",
    "for index,string in enumerate(string_listA, start =1):\n",
    "    print(f'{index} : {string}'.ljust(20), \"-->\",re.findall(regex_I, string))"
   ]
  },
  {
   "cell_type": "markdown",
   "id": "03279263-e411-48f3-ba34-33cdf471d213",
   "metadata": {},
   "source": [
    "*The pattern also includes the upper case version of the pattern specified*"
   ]
  },
  {
   "cell_type": "markdown",
   "id": "ebc99533-fa2b-4ac0-99c6-04e968c41dac",
   "metadata": {
    "tags": []
   },
   "source": [
    "### `LOCALE` or `L` (later for other languages like french)a\n",
    "later"
   ]
  },
  {
   "cell_type": "markdown",
   "id": "c636ea03-1bf3-4c5d-b02e-f6ccd7238948",
   "metadata": {
    "tags": []
   },
   "source": [
    "### `MULTILINE` or `M`\n",
    "> searches at he begining or at the end of each single line after newline(\\n) if ^ and $ are used\n"
   ]
  },
  {
   "cell_type": "markdown",
   "id": "c3641646-ba75-4cec-9d3d-afb5a5559ef6",
   "metadata": {
    "tags": []
   },
   "source": [
    "### `VERBOSE` or `V`\n",
    "> later\n"
   ]
  },
  {
   "cell_type": "markdown",
   "id": "73365170-5579-4946-9417-40b7f2de0520",
   "metadata": {
    "tags": []
   },
   "source": [
    "### `DOTALL` or `S`\n",
    "> modifies `.` if this flag is used `.` matches newline\n",
    "> without this flag `.` matches everything excet\n"
   ]
  },
  {
   "cell_type": "markdown",
   "id": "fa74fad6-d91b-4d3b-ab33-ea84edf31851",
   "metadata": {},
   "source": [
    "### `ASCII` or `A` ( Need some understanding of type of text unicode or ASCII)\n",
    "> Matches only ASCII Characters and escapes such as `\\w`, `\\b`, `\\s`, `\\d`\n",
    "> This is only usefull for unicode patterns and is ignored for byte patterns  \n",
    "_(more on this later)_"
   ]
  },
  {
   "cell_type": "code",
   "execution_count": 25,
   "id": "69ff58a5-3649-4596-998f-a85d8ff13270",
   "metadata": {},
   "outputs": [],
   "source": [
    "pattern_A = r\"\\w\"  # define pattern\n",
    "flags = re.ASCII  # re.A is also valid\n",
    "regex_A = re.compile(pattern_A, flags)  "
   ]
  },
  {
   "cell_type": "code",
   "execution_count": 26,
   "id": "e405a5c6-c27b-4980-b3c7-cf6920c71c2c",
   "metadata": {},
   "outputs": [
    {
     "name": "stdout",
     "output_type": "stream",
     "text": [
      "1 : ₹                --> []\n",
      "2 : \\w               --> ['w']\n",
      "3 : patern           --> ['p', 'a', 't', 'e', 'r', 'n']\n",
      "4 : __ab90           --> ['_', '_', 'a', 'b', '9', '0']\n",
      "5 : #$%              --> []\n",
      "6 :                  --> []\n",
      "7 : patttern         --> ['p', 'a', 't', 't', 't', 'e', 'r', 'n']\n",
      "8 : paterm           --> ['p', 'a', 't', 'e', 'r', 'm']\n",
      "9 : pattttttttttern  --> ['p', 'a', 't', 't', 't', 't', 't', 't', 't', 't', 't', 't', 'e', 'r', 'n']\n"
     ]
    }
   ],
   "source": [
    "\n",
    "string_listA =[\"₹\", \"\\w\", \"patern\", \"__ab90\",\"#$%\", \" \", \"patttern\", \"paterm\", \"pattttttttttern\"]\n",
    "for index,string in enumerate(string_listA, start =1):\n",
    "    print(f'{index} : {string}'.ljust(20), \"-->\",re.findall(regex_A, string))"
   ]
  },
  {
   "cell_type": "code",
   "execution_count": null,
   "id": "33e3be0e-4c2b-4c42-812d-c330a4ab325f",
   "metadata": {},
   "outputs": [],
   "source": []
  }
 ],
 "metadata": {
  "kernelspec": {
   "display_name": "Python 3",
   "language": "python",
   "name": "python3"
  },
  "language_info": {
   "codemirror_mode": {
    "name": "ipython",
    "version": 3
   },
   "file_extension": ".py",
   "mimetype": "text/x-python",
   "name": "python",
   "nbconvert_exporter": "python",
   "pygments_lexer": "ipython3",
   "version": "3.7.10"
  }
 },
 "nbformat": 4,
 "nbformat_minor": 5
}
