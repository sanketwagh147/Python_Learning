{
 "cells": [
  {
   "cell_type": "markdown",
   "id": "4ac731c5-5c0a-4d29-9954-bc38fec2c1f6",
   "metadata": {},
   "source": [
    "# tuple basics"
   ]
  },
  {
   "cell_type": "code",
   "execution_count": 4,
   "id": "2bee1d12-ea20-461a-bd61-7fe68ab94493",
   "metadata": {},
   "outputs": [
    {
     "name": "stdout",
     "output_type": "stream",
     "text": [
      "<class 'int'>\n"
     ]
    }
   ],
   "source": [
    "a_tuple = (0)\n",
    "print(type(a_tuple))"
   ]
  },
  {
   "cell_type": "markdown",
   "id": "5fdc0f35-77fc-40f0-9f9a-5ec3d97e83dc",
   "metadata": {},
   "source": [
    "*Above example does not create a tuple it just evalutated the bracket and generates the type inside it*"
   ]
  },
  {
   "cell_type": "code",
   "execution_count": 3,
   "id": "e6cb2500-7d3a-4ed6-b952-8d3028db641d",
   "metadata": {},
   "outputs": [
    {
     "name": "stdout",
     "output_type": "stream",
     "text": [
      "<class 'tuple'>\n"
     ]
    }
   ],
   "source": [
    "b_tuple = (0,)\n",
    "print(type(b_tuple))"
   ]
  },
  {
   "cell_type": "markdown",
   "id": "e00fa4f8-197a-44fa-8e49-2054caec51e8",
   "metadata": {},
   "source": [
    "* to generate a tuple use above format"
   ]
  },
  {
   "cell_type": "code",
   "execution_count": 13,
   "id": "4ca05852-ed9a-41ea-988f-87f43338baaf",
   "metadata": {},
   "outputs": [
    {
     "data": {
      "text/plain": [
       "('a', 'b', 3, 4)"
      ]
     },
     "execution_count": 13,
     "metadata": {},
     "output_type": "execute_result"
    }
   ],
   "source": [
    "t = \"a\", \"b\",3 ,4 \n",
    "t"
   ]
  },
  {
   "cell_type": "markdown",
   "id": "b6a9b8c2-f6c5-44b7-accb-c95a18e4548b",
   "metadata": {},
   "source": [
    "parethesis is optional to create tuple but it is neccessary for some cases"
   ]
  },
  {
   "cell_type": "code",
   "execution_count": 16,
   "id": "2f8ed370-68fd-47a5-be24-2d3f06f3e354",
   "metadata": {},
   "outputs": [
    {
     "data": {
      "text/plain": [
       "(1, 2, 5, 11, 13)"
      ]
     },
     "execution_count": 16,
     "metadata": {},
     "output_type": "execute_result"
    }
   ],
   "source": [
    "a_tuple = 11,2,13,5,1\n",
    "s = tuple(sorted(a_tuple))\n",
    "s"
   ]
  },
  {
   "cell_type": "markdown",
   "id": "26d641db-9a2e-45e4-ac24-4939d03be17a",
   "metadata": {},
   "source": [
    "To sort a tuple "
   ]
  },
  {
   "cell_type": "code",
   "execution_count": null,
   "id": "4c340797-395a-4e7b-91bf-bf063094c553",
   "metadata": {},
   "outputs": [],
   "source": []
  }
 ],
 "metadata": {
  "kernelspec": {
   "display_name": "Python 3",
   "language": "python",
   "name": "python3"
  },
  "language_info": {
   "codemirror_mode": {
    "name": "ipython",
    "version": 3
   },
   "file_extension": ".py",
   "mimetype": "text/x-python",
   "name": "python",
   "nbconvert_exporter": "python",
   "pygments_lexer": "ipython3",
   "version": "3.7.10"
  }
 },
 "nbformat": 4,
 "nbformat_minor": 5
}
