{
 "cells": [
  {
   "cell_type": "code",
   "execution_count": 4,
   "id": "e23eebde-a564-460a-8d18-526aee8cfc72",
   "metadata": {},
   "outputs": [],
   "source": [
    "def func1(a,*pargs,**kargs):\n",
    "    print(a,pargs,kargs)"
   ]
  },
  {
   "cell_type": "code",
   "execution_count": 6,
   "id": "dd3c62b6-b7a9-4e57-85aa-e8257fe6652a",
   "metadata": {},
   "outputs": [
    {
     "name": "stdout",
     "output_type": "stream",
     "text": [
      "1 (2, 3, 4, 43) {'c': 3, 'k': 56, 'fgf': 67}\n"
     ]
    }
   ],
   "source": [
    "func1(1,2,3,4,43,c=3,k=56,fgf=67)"
   ]
  },
  {
   "cell_type": "markdown",
   "id": "7aac52ef-9fb2-4434-88ce-e5179ea308a4",
   "metadata": {},
   "source": [
    "_prints positional argument, then remaining positional argument as pargs and then the keyword arguments_"
   ]
  },
  {
   "cell_type": "code",
   "execution_count": null,
   "id": "d722a59d-1d78-497e-90e8-9835c8f41958",
   "metadata": {},
   "outputs": [],
   "source": []
  }
 ],
 "metadata": {
  "kernelspec": {
   "display_name": "Python 3",
   "language": "python",
   "name": "python3"
  },
  "language_info": {
   "codemirror_mode": {
    "name": "ipython",
    "version": 3
   },
   "file_extension": ".py",
   "mimetype": "text/x-python",
   "name": "python",
   "nbconvert_exporter": "python",
   "pygments_lexer": "ipython3",
   "version": "3.7.10"
  }
 },
 "nbformat": 4,
 "nbformat_minor": 5
}
