{
 "cells": [
  {
   "cell_type": "markdown",
   "id": "952b7992-994c-4ea2-815b-c2353f9613cd",
   "metadata": {},
   "source": [
    "# extended unpacking for loop\n"
   ]
  },
  {
   "cell_type": "code",
   "execution_count": 6,
   "id": "358acfbc-56da-43ff-95d7-1c6ffe442a71",
   "metadata": {},
   "outputs": [],
   "source": [
    "import random\n",
    "\n",
    "a_list = [[1,2,3,4,6],[34,535,5345,54,77]]\n",
    "\n"
   ]
  },
  {
   "cell_type": "code",
   "execution_count": 8,
   "id": "ecfa83ee-23d8-4b57-a5b1-45a7d91808e4",
   "metadata": {},
   "outputs": [
    {
     "name": "stdout",
     "output_type": "stream",
     "text": [
      "1 [2] 3 4\n",
      "34 [535] 5345 54\n"
     ]
    }
   ],
   "source": [
    "for (a,*b,c,f) in a_list:\n",
    "    print(a,b,c,f)"
   ]
  },
  {
   "cell_type": "code",
   "execution_count": null,
   "id": "abdac2f2-ef45-4d01-8982-d8a5c3413999",
   "metadata": {},
   "outputs": [],
   "source": []
  }
 ],
 "metadata": {
  "kernelspec": {
   "display_name": "Python 3",
   "language": "python",
   "name": "python3"
  },
  "language_info": {
   "codemirror_mode": {
    "name": "ipython",
    "version": 3
   },
   "file_extension": ".py",
   "mimetype": "text/x-python",
   "name": "python",
   "nbconvert_exporter": "python",
   "pygments_lexer": "ipython3",
   "version": "3.7.10"
  }
 },
 "nbformat": 4,
 "nbformat_minor": 5
}
