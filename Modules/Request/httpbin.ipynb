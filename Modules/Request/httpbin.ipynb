{
 "cells": [
  {
   "cell_type": "code",
   "execution_count": 9,
   "id": "1c411ee4-a2d0-4ea7-8158-624dc7e545c8",
   "metadata": {},
   "outputs": [],
   "source": [
    "import requests\n",
    "url_get = \"http://httpbin.org/get\""
   ]
  },
  {
   "cell_type": "code",
   "execution_count": 10,
   "id": "8185f199-2f29-4a53-b11f-e3809e3afd2a",
   "metadata": {},
   "outputs": [],
   "source": [
    "payload ={\"name\":\"Joseph\",\"ID\":\"123\"}"
   ]
  },
  {
   "cell_type": "code",
   "execution_count": 11,
   "id": "a04dfdf9-5575-4d49-9193-5364b8c2e87d",
   "metadata": {},
   "outputs": [],
   "source": [
    "r = requests.get(url_get, params=payload)"
   ]
  },
  {
   "cell_type": "code",
   "execution_count": 12,
   "id": "0eab07d0-a03d-498f-b03d-f079787780c5",
   "metadata": {},
   "outputs": [
    {
     "data": {
      "text/plain": [
       "'http://httpbin.org/get?name=Joseph&ID=123'"
      ]
     },
     "execution_count": 12,
     "metadata": {},
     "output_type": "execute_result"
    }
   ],
   "source": [
    "r.url"
   ]
  },
  {
   "cell_type": "code",
   "execution_count": 13,
   "id": "51923e1b-f9ce-405a-987a-c4cf539222fa",
   "metadata": {},
   "outputs": [],
   "source": [
    "r.request.body"
   ]
  },
  {
   "cell_type": "code",
   "execution_count": 14,
   "id": "681e20e2-035f-4456-876e-e8fe577c7e02",
   "metadata": {},
   "outputs": [
    {
     "data": {
      "text/plain": [
       "200"
      ]
     },
     "execution_count": 14,
     "metadata": {},
     "output_type": "execute_result"
    }
   ],
   "source": [
    "r.status_code"
   ]
  },
  {
   "cell_type": "code",
   "execution_count": 15,
   "id": "25222966-41e5-4268-92ea-d5d99cf493c8",
   "metadata": {},
   "outputs": [
    {
     "data": {
      "text/plain": [
       "'{\\n  \"args\": {\\n    \"ID\": \"123\", \\n    \"name\": \"Joseph\"\\n  }, \\n  \"headers\": {\\n    \"Accept\": \"*/*\", \\n    \"Accept-Encoding\": \"gzip, deflate\", \\n    \"Host\": \"httpbin.org\", \\n    \"User-Agent\": \"python-requests/2.25.1\", \\n    \"X-Amzn-Trace-Id\": \"Root=1-61250f63-76cd23f86a1984b340dac953\"\\n  }, \\n  \"origin\": \"103.97.242.54\", \\n  \"url\": \"http://httpbin.org/get?name=Joseph&ID=123\"\\n}\\n'"
      ]
     },
     "execution_count": 15,
     "metadata": {},
     "output_type": "execute_result"
    }
   ],
   "source": [
    "r.text"
   ]
  },
  {
   "cell_type": "code",
   "execution_count": 16,
   "id": "a40c1704-0e07-4a6f-a49a-3c8db28b42c7",
   "metadata": {},
   "outputs": [
    {
     "data": {
      "text/plain": [
       "{'Date': 'Tue, 24 Aug 2021 15:25:23 GMT', 'Content-Type': 'application/json', 'Content-Length': '367', 'Connection': 'keep-alive', 'Server': 'gunicorn/19.9.0', 'Access-Control-Allow-Origin': '*', 'Access-Control-Allow-Credentials': 'true'}"
      ]
     },
     "execution_count": 16,
     "metadata": {},
     "output_type": "execute_result"
    }
   ],
   "source": [
    "r.headers"
   ]
  },
  {
   "cell_type": "code",
   "execution_count": 17,
   "id": "46232fde-7d08-4f7e-b79b-10732e42b708",
   "metadata": {},
   "outputs": [
    {
     "data": {
      "text/plain": [
       "{'args': {'ID': '123', 'name': 'Joseph'},\n",
       " 'headers': {'Accept': '*/*',\n",
       "  'Accept-Encoding': 'gzip, deflate',\n",
       "  'Host': 'httpbin.org',\n",
       "  'User-Agent': 'python-requests/2.25.1',\n",
       "  'X-Amzn-Trace-Id': 'Root=1-61250f63-76cd23f86a1984b340dac953'},\n",
       " 'origin': '103.97.242.54',\n",
       " 'url': 'http://httpbin.org/get?name=Joseph&ID=123'}"
      ]
     },
     "execution_count": 17,
     "metadata": {},
     "output_type": "execute_result"
    }
   ],
   "source": [
    "r.json()"
   ]
  },
  {
   "cell_type": "code",
   "execution_count": 20,
   "id": "898e074d-0176-4dc5-a88d-1dff398a81f3",
   "metadata": {},
   "outputs": [
    {
     "data": {
      "text/plain": [
       "{'ID': '123', 'name': 'Joseph'}"
      ]
     },
     "execution_count": 20,
     "metadata": {},
     "output_type": "execute_result"
    }
   ],
   "source": [
    "r.json()[\"args\"]"
   ]
  },
  {
   "cell_type": "markdown",
   "id": "c38016a7-7c29-4639-a268-87fea8cd152c",
   "metadata": {},
   "source": [
    "## Post Request"
   ]
  },
  {
   "cell_type": "code",
   "execution_count": 21,
   "id": "32f3ce80-7cf7-433c-a18f-8b3e00f0fc04",
   "metadata": {},
   "outputs": [],
   "source": [
    "url_post = \"http://httpbin.org/post\"\n",
    "payload= {\"name\":\"Joseph\", \"ID\":\"123\"}\n",
    "r_post = requests.post(url_post,data=payload)"
   ]
  },
  {
   "cell_type": "code",
   "execution_count": 22,
   "id": "b19e77cb-6285-431f-93a9-ec4edc3d84f6",
   "metadata": {},
   "outputs": [
    {
     "data": {
      "text/plain": [
       "'name=Joseph&ID=123'"
      ]
     },
     "execution_count": 22,
     "metadata": {},
     "output_type": "execute_result"
    }
   ],
   "source": [
    "r_post.request.body  # Only post request has a body"
   ]
  },
  {
   "cell_type": "code",
   "execution_count": 23,
   "id": "eb814faf-4476-440e-abff-8ff2733f7b41",
   "metadata": {},
   "outputs": [],
   "source": [
    "r.request.body"
   ]
  },
  {
   "cell_type": "code",
   "execution_count": null,
   "id": "635157db-8771-4cd4-93ee-f95382fa9301",
   "metadata": {},
   "outputs": [],
   "source": []
  }
 ],
 "metadata": {
  "kernelspec": {
   "display_name": "Python 3",
   "language": "python",
   "name": "python3"
  },
  "language_info": {
   "codemirror_mode": {
    "name": "ipython",
    "version": 3
   },
   "file_extension": ".py",
   "mimetype": "text/x-python",
   "name": "python",
   "nbconvert_exporter": "python",
   "pygments_lexer": "ipython3",
   "version": "3.7.10"
  }
 },
 "nbformat": 4,
 "nbformat_minor": 5
}
