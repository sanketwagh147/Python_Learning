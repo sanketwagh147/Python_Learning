{
 "cells": [
  {
   "cell_type": "markdown",
   "id": "83e0439e-ccb1-4936-88ef-a766205ed296",
   "metadata": {},
   "source": [
    "# kwargs"
   ]
  },
  {
   "cell_type": "code",
   "execution_count": 4,
   "id": "33675b7a-2534-41ab-84a4-dbafdbcdbf6e",
   "metadata": {},
   "outputs": [],
   "source": [
    "a_dict = { \"a\":10 ,\"b\":20 ,\"c\":30 ,\"d\":40, \"e\":50 }"
   ]
  },
  {
   "cell_type": "code",
   "execution_count": 5,
   "id": "2a088f8f-2698-4a8d-8c6c-6e607710587c",
   "metadata": {},
   "outputs": [],
   "source": [
    "def func3(**dictionary):\n",
    "    for i,v in dictionary.items():\n",
    "        print (i,v)"
   ]
  },
  {
   "cell_type": "code",
   "execution_count": 6,
   "id": "e773677d-0365-4ee4-9c71-89642fbd6751",
   "metadata": {},
   "outputs": [
    {
     "name": "stdout",
     "output_type": "stream",
     "text": [
      "a 10\n",
      "b 20\n",
      "c 30\n",
      "d 40\n",
      "e 50\n"
     ]
    }
   ],
   "source": [
    "func3(**a_dict)  # unpack dictionay and passed values in the code"
   ]
  },
  {
   "cell_type": "code",
   "execution_count": null,
   "id": "8a187e20-686a-4df5-99e2-f70ff9a3ae96",
   "metadata": {},
   "outputs": [],
   "source": []
  }
 ],
 "metadata": {
  "interpreter": {
   "hash": "b3ba2566441a7c06988d0923437866b63cedc61552a5af99d1f4fb67d367b25f"
  },
  "kernelspec": {
   "display_name": "Python 3.8.8 64-bit ('base': conda)",
   "name": "python3"
  },
  "language_info": {
   "codemirror_mode": {
    "name": "ipython",
    "version": 3
   },
   "file_extension": ".py",
   "mimetype": "text/x-python",
   "name": "python",
   "nbconvert_exporter": "python",
   "pygments_lexer": "ipython3",
   "version": "3.8.8"
  }
 },
 "nbformat": 4,
 "nbformat_minor": 5
}
