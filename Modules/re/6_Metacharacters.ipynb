{
 "cells": [
  {
   "cell_type": "markdown",
   "id": "0c1e0624-f84a-4c76-99b8-b9d00201261d",
   "metadata": {},
   "source": [
    "# Matching Strings"
   ]
  },
  {
   "cell_type": "markdown",
   "id": "08444ed3-f633-4f1b-936f-0d9f63c56a1e",
   "metadata": {},
   "source": [
    "# Metacharacters `[] . ^ $ * + ? { } \\ | ()`\n",
    "- Metacharacters don’t match themselves. Instead, they signal that some to match un ordinary string,   \n",
    "- They affect other portions of the RE by repeating them or changing their meaning. \n",
    "___"
   ]
  },
  {
   "cell_type": "markdown",
   "id": "341bfe8c-5b6b-4a27-a086-860aab355ef7",
   "metadata": {},
   "source": [
    "## Metacharacter `[]` (And)\n",
    "- characters we want to match\n",
    "- It specifies a character class\n",
    "___"
   ]
  },
  {
   "cell_type": "markdown",
   "id": "f63914bf-27ee-4f9a-8eda-5e82a2802171",
   "metadata": {},
   "source": [
    "#### re.search(pattern, string)\n",
    "- will seearch the pattern in the string and return(re.Match object)  first occurence\n",
    "___"
   ]
  },
  {
   "cell_type": "markdown",
   "id": "ae9dbcdc-0524-419f-ba4e-a86f192dc0e8",
   "metadata": {},
   "source": [
    "#### re.findall(pattern, string)\n",
    "- will find all occurences of the pattern and return a list\n",
    "___"
   ]
  },
  {
   "cell_type": "markdown",
   "id": "79edf6a3-29c1-443c-a7d3-7c818cabc4b0",
   "metadata": {},
   "source": [
    "#### raw string `r\" \"` or `r'  '`\n",
    "- Preceding a string with r makes the string raw \n",
    "- raw strings are pure strings and do not have any special meaning\n",
    "- `'\\n'` will be a one string(new line) but if we use `r'\\n'` it contains two strings '\\' and 'n'\n",
    "___"
   ]
  },
  {
   "cell_type": "code",
   "execution_count": 38,
   "id": "28f51a92-4d38-407a-82db-5adf555efec4",
   "metadata": {},
   "outputs": [],
   "source": [
    "import re"
   ]
  },
  {
   "cell_type": "code",
   "execution_count": 39,
   "id": "b044178e-95f8-4cb3-a2e1-26349ee06452",
   "metadata": {},
   "outputs": [
    {
     "name": "stdout",
     "output_type": "stream",
     "text": [
      "1 : None\n",
      "2 : None\n",
      "3 : <re.Match object; span=(1, 2), match='b'>\n",
      "4 : <re.Match object; span=(9, 10), match='a'>\n",
      "5 : None\n",
      "6 : <re.Match object; span=(2, 3), match='b'>\n"
     ]
    }
   ],
   "source": [
    "string_list = ['rsxpxoru hdstyilu eikmcmrh', # random list of strings \n",
    "               'ynrknmpm xirpmixm jwdcllmk',\n",
    "               'lbpvqhxt mksqpptd sgwrndfe',\n",
    "               'ypzgtwfe aufmbrsh nddblklj',\n",
    "               'hlqmrghi oiqljjfu jmutxxxe',\n",
    "               'ggbsarff bixggvkr uqjbwdtu',]\n",
    "pattern = r\"[ab]\"  # [] search for a and b\n",
    "for index,string in enumerate(string_list, start =1):\n",
    "    print(index,\":\",re.search(pattern, string))\n"
   ]
  },
  {
   "cell_type": "markdown",
   "id": "a0c42a04-da03-4544-902a-3cb67a99e1ab",
   "metadata": {},
   "source": [
    "## Hyphen `-` specifies range is a special character and not a metacharacter\n",
    "- defines a range\n",
    "  - [a-d] all words from a-d\n",
    "  - [a-z] all words from a-z\n",
    "  - [A-Z] all words from A-Z\n",
    "  - [0-9] all digits from 0-9"
   ]
  },
  {
   "cell_type": "markdown",
   "id": "eceb8a98-e3d0-439e-9edf-d3ca3e012529",
   "metadata": {},
   "source": [
    "#### Caret sign `^` : (metacharacter)\n",
    "- caret sign is used to search pattern at **start** of a string Dollar sign "
   ]
  },
  {
   "cell_type": "code",
   "execution_count": 40,
   "id": "65dd7900-345b-4027-8fef-c356817b4701",
   "metadata": {},
   "outputs": [
    {
     "name": "stdout",
     "output_type": "stream",
     "text": [
      "1 : <re.Match object; span=(0, 4), match='test'>\n",
      "2 : None\n"
     ]
    }
   ],
   "source": [
    "start_str = \"test caret sign\", \"caret test sign\"\n",
    "pattern_start = \"^test\"\n",
    "for index,string in enumerate(start_str, start =1):\n",
    "    print(index,\":\",re.search(pattern_start, string))"
   ]
  },
  {
   "cell_type": "markdown",
   "id": "660c4378-c10a-4565-ab46-ea3d42bd261b",
   "metadata": {},
   "source": [
    "** Matches only the strings which start with `test` **"
   ]
  },
  {
   "cell_type": "markdown",
   "id": "009d9e91-612f-430b-96c8-fe5328b467c8",
   "metadata": {},
   "source": [
    "#### Dollar sign `$` : (metacharacter)\n",
    "- is used to search pattern at **end** of a string "
   ]
  },
  {
   "cell_type": "code",
   "execution_count": 42,
   "id": "6d8232e5-1cf8-4132-bfcc-521ca7fef017",
   "metadata": {},
   "outputs": [
    {
     "name": "stdout",
     "output_type": "stream",
     "text": [
      "1 : None\n",
      "2 : <re.Match object; span=(11, 15), match='sign'>\n"
     ]
    }
   ],
   "source": [
    "end_str = \"test  sign caret\", \"caret test sign\"\n",
    "pattern_end = \"sign$\"\n",
    "for index,string in enumerate(end_str, start =1):\n",
    "    print(index,\":\",re.search(pattern_end, string))"
   ]
  },
  {
   "cell_type": "markdown",
   "id": "451ab560-70bb-4822-b107-e54f0dec2497",
   "metadata": {},
   "source": [
    "** matches sign which will be in the end of sentence **\n",
    "___"
   ]
  },
  {
   "cell_type": "markdown",
   "id": "b7d41dab-edec-4d6b-ad37-1fba0f522695",
   "metadata": {},
   "source": [
    "### **Metacharacteres are not active inside a class except at special location inside a class**\n",
    "- '[a^bz]' is inside a class which will search for character `^abz`"
   ]
  },
  {
   "cell_type": "code",
   "execution_count": 45,
   "id": "bc854405-f07d-4bbb-923b-c75acd56a947",
   "metadata": {},
   "outputs": [
    {
     "name": "stdout",
     "output_type": "stream",
     "text": [
      "1 : <re.Match object; span=(1, 2), match='a'>\n",
      "2 : None\n",
      "3 : <re.Match object; span=(1, 2), match='b'>\n",
      "4 : <re.Match object; span=(0, 1), match='^'>\n"
     ]
    }
   ],
   "source": [
    "str_L2 =[\"ca^\", \"xsdf\", \"cb\", \"^zad\"]\n",
    "pattern_2 = \"[abz^]\"\n",
    "for index,string in enumerate(str_L2, start =1):\n",
    "    print(index,\":\",re.search(pattern_2, string))"
   ]
  },
  {
   "cell_type": "markdown",
   "id": "07550bda-4009-4372-b406-6a4043895e3a",
   "metadata": {},
   "source": [
    "#### Using `^` inside a class and at the begining i.e [^xyz]\n",
    "- This makes the pattern completely different if the location is in the start `^` acts as a complement of the set\n",
    "- This means It will search any characters apart from the ones inside the set i.e `x` or `y` or `z` (complement of `x` or `y` or `z`)"
   ]
  },
  {
   "cell_type": "code",
   "execution_count": 44,
   "id": "967bbe98-011a-4929-a4a4-e725ad73748f",
   "metadata": {},
   "outputs": [
    {
     "name": "stdout",
     "output_type": "stream",
     "text": [
      "1 : None\n",
      "2 : <re.Match object; span=(0, 1), match='x'>\n",
      "3 : <re.Match object; span=(0, 1), match='c'>\n",
      "4 : <re.Match object; span=(0, 1), match='^'>\n"
     ]
    }
   ],
   "source": [
    "str_L3 =[\"abz\", \"xsdf\", \"cb\", \"^zad\"]\n",
    "pattern_3 = \"[^abz]\"\n",
    "for index,string in enumerate(str_L3, start =1):\n",
    "    print(index,\":\",re.search(pattern_3, string))"
   ]
  },
  {
   "cell_type": "markdown",
   "id": "58ac3fe5-ebaa-448b-8e57-cfc1ef8079ae",
   "metadata": {},
   "source": [
    "** the first string returns none as it only contains item which will not be included **"
   ]
  },
  {
   "cell_type": "markdown",
   "id": "ab701e3d-fb0b-437f-b768-2253c38c7a9e",
   "metadata": {},
   "source": [
    "## Backslash `\\`\n",
    "- It can be followed by various characters to signal various special sequences\n",
    "- It is also used as an escape sequence to escape the special meaning and treat them as normal characters"
   ]
  },
  {
   "cell_type": "markdown",
   "id": "8ab14b2e-d9ab-41e2-872d-7197fdb2cc9d",
   "metadata": {},
   "source": [
    "### Special sequences begining with `\\`\n",
    "#### - `\\w` : matches any alphanumeric character `([a-zA-Z0-9_])`"
   ]
  },
  {
   "cell_type": "code",
   "execution_count": 48,
   "id": "290cc806-d2ad-4ab1-bd3c-557c083e2583",
   "metadata": {},
   "outputs": [
    {
     "name": "stdout",
     "output_type": "stream",
     "text": [
      "1 : <re.Match object; span=(0, 1), match='a'>\n",
      "2 : <re.Match object; span=(0, 1), match='1'>\n",
      "3 : <re.Match object; span=(0, 1), match='A'>\n",
      "4 : <re.Match object; span=(0, 1), match='_'>\n",
      "5 : None\n"
     ]
    }
   ],
   "source": [
    "str_L4 =[\"abz\", \"123\", \"ABC\", \"__ab90\",\"#$%\"]\n",
    "pattern_4 = \"\\w\"\n",
    "for index,string in enumerate(str_L4, start =1):\n",
    "    print(index,\":\",re.search(pattern_4, string))"
   ]
  },
  {
   "cell_type": "markdown",
   "id": "63cd48af-efbc-4715-b837-cd544cd888f6",
   "metadata": {},
   "source": [
    "** It matches with the ones containing character between` a-z, A-Z, 0-9 and _`(underscore) **\n",
    "___"
   ]
  },
  {
   "cell_type": "markdown",
   "id": "7e1038e9-be55-4db8-84e3-ded80a57b070",
   "metadata": {},
   "source": [
    "#### - `\\W` : matches any alphanumeric character except in `([^a-zA-Z0-9_])`"
   ]
  },
  {
   "cell_type": "code",
   "execution_count": 83,
   "id": "ee3779c4-90e2-44d9-9a58-677db9f3da33",
   "metadata": {},
   "outputs": [
    {
     "name": "stdout",
     "output_type": "stream",
     "text": [
      "1 : None\n",
      "2 : None\n",
      "3 : None\n",
      "4 : None\n",
      "5 : <re.Match object; span=(0, 1), match='#'>\n",
      "6 : None\n",
      "7 : <re.Match object; span=(0, 1), match='.'>\n"
     ]
    }
   ],
   "source": [
    "str_L4 =[\"abz\", \"123\", \"ABC\", \"__ab90\",\"#$%\", \"_\", \".\"]\n",
    "pattern_4 = \"\\W\"\n",
    "for index,string in enumerate(str_L4, start =1):\n",
    "    print(index,\":\",re.search(pattern_4, string))"
   ]
  },
  {
   "cell_type": "markdown",
   "id": "64717042-aba2-4c6a-883f-6b9d7caccfb3",
   "metadata": {},
   "source": [
    "** Matches 5 as it does not contain any a-z, A-Z, 0-9, _ **\n",
    "___"
   ]
  },
  {
   "cell_type": "markdown",
   "id": "af972fbb-aa21-433b-9450-e2f7ce18daa6",
   "metadata": {},
   "source": [
    "#### - `\\d` (lowercase) matches any decimal digit [0-9]"
   ]
  },
  {
   "cell_type": "code",
   "execution_count": 77,
   "id": "4e1425f1-b8df-489b-8de8-483634f68f37",
   "metadata": {},
   "outputs": [
    {
     "name": "stdout",
     "output_type": "stream",
     "text": [
      "1 : None\n",
      "2 : <re.Match object; span=(0, 1), match='1'>\n",
      "3 : None\n",
      "4 : <re.Match object; span=(4, 5), match='9'>\n",
      "5 : None\n"
     ]
    }
   ],
   "source": [
    "str_L4 =[\"abz\", \"123\", \"ABC\", \"__ab90\",\"#$%\"]\n",
    "pattern_5 = \"\\d\"\n",
    "for index,string in enumerate(str_L4, start =1):\n",
    "    print(index,\":\",re.search(pattern_5, string))"
   ]
  },
  {
   "cell_type": "markdown",
   "id": "4929e00f-48fd-44af-acb2-21d01bd7ca26",
   "metadata": {},
   "source": [
    "** 1 and 5 don not have any digits, returning None **"
   ]
  },
  {
   "cell_type": "markdown",
   "id": "96a57cab-5abf-4a58-a315-843324100e73",
   "metadata": {},
   "source": [
    "#### - `\\D` matches any non-digit character i.e complement of [0-9] or in regex terms [^0-9]"
   ]
  },
  {
   "cell_type": "code",
   "execution_count": 78,
   "id": "876f4789-c328-4886-afdb-ea48d4fcf9bc",
   "metadata": {},
   "outputs": [
    {
     "name": "stdout",
     "output_type": "stream",
     "text": [
      "1 : <re.Match object; span=(0, 1), match='a'>\n",
      "2 : None\n",
      "3 : <re.Match object; span=(0, 1), match='A'>\n",
      "4 : <re.Match object; span=(0, 1), match='_'>\n",
      "5 : <re.Match object; span=(0, 1), match='#'>\n"
     ]
    }
   ],
   "source": [
    "str_L4 =[\"abz\", \"123\", \"ABC\", \"__ab90\",\"#$%\"]\n",
    "pattern_6 = \"\\D\"\n",
    "for index,string in enumerate(str_L4, start =1):\n",
    "    print(index,\":\",re.search(pattern_6, string))"
   ]
  },
  {
   "cell_type": "markdown",
   "id": "45fc24bf-d91d-48b1-8e22-28f546b5204b",
   "metadata": {},
   "source": [
    "** 2 has just digits thus returning None **\n",
    "___"
   ]
  },
  {
   "cell_type": "markdown",
   "id": "efed6426-92f4-411c-88cf-9eb2a6c46641",
   "metadata": {},
   "source": [
    "####  - `\\s` (lowercase) matches any white space charater i.e [ \\t\\n\\r\\f\\v] \n",
    "- It the string has white space and escape sequences result returns a Match\n"
   ]
  },
  {
   "cell_type": "code",
   "execution_count": 79,
   "id": "f449c2af-3697-4640-8c4e-8bd5fcc3c526",
   "metadata": {},
   "outputs": [
    {
     "name": "stdout",
     "output_type": "stream",
     "text": [
      "1 : abz\n",
      "     --> <re.Match object; span=(3, 4), match='\\n'>\n",
      "2 : 123      --> None\n",
      "3 : ABC      --> None\n",
      "4 : __ab90   --> None\n",
      "5 : #$%      --> None\n",
      "6 :          --> <re.Match object; span=(0, 1), match=' '>\n",
      "7 : df\n",
      "      --> <re.Match object; span=(2, 3), match='\\n'>\n",
      "8 : /ne      --> None\n",
      "9 : abc      --> None\n"
     ]
    }
   ],
   "source": [
    "str_L4 =[\"abz\\n\", \"123\", \"ABC\", \"__ab90\",\"#$%\",\" \", \"df\\n\", \"/ne\", \"abc\"]\n",
    "pattern_7 = \"\\s\"\n",
    "for index,string in enumerate(str_L4, start =1):\n",
    "    print(f'{index} : {string}'.ljust(12), \"-->\",re.search(pattern_7, string))"
   ]
  },
  {
   "cell_type": "markdown",
   "id": "0ea2a468-358d-46b6-9a89-114e36997cb7",
   "metadata": {},
   "source": [
    "** matches any string with white space and escape sequence **\n",
    "___\n"
   ]
  },
  {
   "cell_type": "markdown",
   "id": "a42ad0ea-44af-40c3-a042-20889e761c0d",
   "metadata": {
    "tags": []
   },
   "source": [
    "####  - `\\S` matches any non white space charater i.e [^ \\t\\n\\r\\f\\v] \n",
    "- It the string has any other character excep from white space and escape sequences, result returns a Match"
   ]
  },
  {
   "cell_type": "code",
   "execution_count": 88,
   "id": "62381ccb-ee45-4db3-b297-1320188161fc",
   "metadata": {},
   "outputs": [
    {
     "name": "stdout",
     "output_type": "stream",
     "text": [
      "1 : <re.Match object; span=(0, 1), match='a'>\n",
      "2 : <re.Match object; span=(0, 1), match='1'>\n",
      "3 : <re.Match object; span=(0, 1), match='A'>\n",
      "4 : <re.Match object; span=(0, 1), match='_'>\n",
      "5 : None\n",
      "6 : None\n"
     ]
    }
   ],
   "source": [
    "str_L4 =[\"abz\", \"123\", \"ABC\", \"__ab90\",\"\\t\", \" \"]\n",
    "pattern_8 = \"\\S\"\n",
    "for index,string in enumerate(str_L4, start =1):\n",
    "    print(index,\":\",re.search(pattern_8, string))"
   ]
  },
  {
   "cell_type": "markdown",
   "id": "4d4e660f-9ea3-44e1-b373-a68f7b54d58b",
   "metadata": {
    "tags": []
   },
   "source": [
    "####  - `\\b` Zero width assertions\n",
    "- They don't cause the engine to advance throug the string\n",
    "> later"
   ]
  },
  {
   "cell_type": "markdown",
   "id": "9c213daa-dfe2-470e-8752-fd796b361e4c",
   "metadata": {},
   "source": [
    "** 5 and 6 have just escape sequence or white space thus returns None\n",
    "___"
   ]
  },
  {
   "cell_type": "code",
   "execution_count": null,
   "id": "67bf6791-c9df-4413-8335-fd5e4897e6a2",
   "metadata": {},
   "outputs": [],
   "source": []
  },
  {
   "cell_type": "markdown",
   "id": "665ec111-96c7-4faa-9cf2-813464db24bd",
   "metadata": {},
   "source": [
    "### `.`  Dot : matches anything except newline character\n",
    "- `re.DOTALL` method will even match a newline\n"
   ]
  },
  {
   "cell_type": "code",
   "execution_count": 90,
   "id": "20d3a8b1-66b3-4641-9255-b679ed16e8e0",
   "metadata": {},
   "outputs": [
    {
     "name": "stdout",
     "output_type": "stream",
     "text": [
      "1 : abz\n",
      "     --> <re.Match object; span=(0, 1), match='a'>\n",
      "2 : 123      --> <re.Match object; span=(0, 1), match='1'>\n",
      "3 : ABC      --> <re.Match object; span=(0, 1), match='A'>\n",
      "4 : __ab90   --> <re.Match object; span=(0, 1), match='_'>\n",
      "5 : #$%      --> <re.Match object; span=(0, 1), match='#'>\n",
      "6 :          --> <re.Match object; span=(0, 1), match=' '>\n",
      "7 : df\n",
      "      --> <re.Match object; span=(0, 1), match='d'>\n",
      "8 : \n",
      "        --> None\n",
      "9 : abc      --> <re.Match object; span=(0, 1), match='a'>\n"
     ]
    }
   ],
   "source": [
    "str_L4 =[\"abz\\n\", \"123\", \"ABC\", \"__ab90\",\"#$%\",\" \", \"df\\n\", \"\\n\", \"abc\"]\n",
    "pattern_8 = \".\"\n",
    "for index,string in enumerate(str_L4, start =1):\n",
    "    print(f'{index} : {string}'.ljust(12), \"-->\",re.search(pattern_8, string))"
   ]
  },
  {
   "cell_type": "markdown",
   "id": "c22cb6c7-bf0b-47c8-8131-c409c07d6687",
   "metadata": {},
   "source": [
    "** 8 is \\n (new line) thus returns None **\n",
    "___"
   ]
  },
  {
   "cell_type": "code",
   "execution_count": null,
   "id": "7c559db6-59b3-48f8-9600-97b397491687",
   "metadata": {},
   "outputs": [],
   "source": [
    "### the `|` (OR) operator will match any of two patterns if `A|B`"
   ]
  }
 ],
 "metadata": {
  "kernelspec": {
   "display_name": "Python 3",
   "language": "python",
   "name": "python3"
  },
  "language_info": {
   "codemirror_mode": {
    "name": "ipython",
    "version": 3
   },
   "file_extension": ".py",
   "mimetype": "text/x-python",
   "name": "python",
   "nbconvert_exporter": "python",
   "pygments_lexer": "ipython3",
   "version": "3.7.10"
  }
 },
 "nbformat": 4,
 "nbformat_minor": 5
}
