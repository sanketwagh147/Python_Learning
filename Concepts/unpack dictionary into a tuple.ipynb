{
 "cells": [
  {
   "cell_type": "code",
   "execution_count": 1,
   "id": "323d5ef1-2612-4163-890c-8415bc4d7efe",
   "metadata": {},
   "outputs": [],
   "source": [
    "a_dict = {\"a\": 1, \"b\": 3, \"c\": 2, \"d\": 4}"
   ]
  },
  {
   "cell_type": "code",
   "execution_count": 6,
   "id": "bebd6cba-d9ef-4990-be12-b4837cebef75",
   "metadata": {},
   "outputs": [
    {
     "ename": "ValueError",
     "evalue": "too many values to unpack (expected 2)",
     "output_type": "error",
     "traceback": [
      "\u001b[1;31m---------------------------------------------------------------------------\u001b[0m",
      "\u001b[1;31mValueError\u001b[0m                                Traceback (most recent call last)",
      "\u001b[1;32m<ipython-input-6-195b5fa749d9>\u001b[0m in \u001b[0;36m<module>\u001b[1;34m\u001b[0m\n\u001b[1;32m----> 1\u001b[1;33m \u001b[0ma\u001b[0m\u001b[1;33m,\u001b[0m \u001b[0mb\u001b[0m \u001b[1;33m=\u001b[0m \u001b[0ma_dict\u001b[0m\u001b[1;33m.\u001b[0m\u001b[0mvalues\u001b[0m\u001b[1;33m(\u001b[0m\u001b[1;33m)\u001b[0m\u001b[1;33m\u001b[0m\u001b[1;33m\u001b[0m\u001b[0m\n\u001b[0m",
      "\u001b[1;31mValueError\u001b[0m: too many values to unpack (expected 2)"
     ]
    }
   ],
   "source": [
    "a, b = a_dict.values()"
   ]
  },
  {
   "cell_type": "code",
   "execution_count": 9,
   "id": "e1102d30-461a-43ac-9327-69be055c6c61",
   "metadata": {},
   "outputs": [],
   "source": [
    "bob = {'name': 'Bob', 'age': 40.5, 'jobs': ['dev', 'mgr']}\n",
    "jobs, name, age = bob.values()"
   ]
  },
  {
   "cell_type": "code",
   "execution_count": 11,
   "id": "45bec27f-d81d-495e-b2f5-55aa88abfcc1",
   "metadata": {},
   "outputs": [
    {
     "data": {
      "text/plain": [
       "'Bob'"
      ]
     },
     "execution_count": 11,
     "metadata": {},
     "output_type": "execute_result"
    }
   ],
   "source": [
    "jobs"
   ]
  },
  {
   "cell_type": "code",
   "execution_count": null,
   "id": "7a31bcc1-c96a-4a02-9946-979f18a72721",
   "metadata": {},
   "outputs": [],
   "source": []
  },
  {
   "cell_type": "code",
   "execution_count": null,
   "id": "2a716804-3028-4349-aed7-43ff39282368",
   "metadata": {},
   "outputs": [],
   "source": []
  },
  {
   "cell_type": "code",
   "execution_count": null,
   "id": "203d56d2-57fa-4d64-ae30-55120652c68e",
   "metadata": {},
   "outputs": [],
   "source": []
  },
  {
   "cell_type": "code",
   "execution_count": null,
   "id": "2f3b6662-0db8-437e-b1bc-fad84d6de41a",
   "metadata": {},
   "outputs": [],
   "source": []
  },
  {
   "cell_type": "code",
   "execution_count": null,
   "id": "c4521182-d013-4f14-bb3c-929a520a349a",
   "metadata": {},
   "outputs": [],
   "source": []
  }
 ],
 "metadata": {
  "kernelspec": {
   "display_name": "Python 3",
   "language": "python",
   "name": "python3"
  },
  "language_info": {
   "codemirror_mode": {
    "name": "ipython",
    "version": 3
   },
   "file_extension": ".py",
   "mimetype": "text/x-python",
   "name": "python",
   "nbconvert_exporter": "python",
   "pygments_lexer": "ipython3",
   "version": "3.7.10"
  }
 },
 "nbformat": 4,
 "nbformat_minor": 5
}
