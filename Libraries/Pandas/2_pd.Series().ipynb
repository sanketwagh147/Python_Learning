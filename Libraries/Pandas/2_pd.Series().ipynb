{
 "cells": [
  {
   "cell_type": "markdown",
   "id": "ef2f44e8-4211-4d9b-9850-094c4449664c",
   "metadata": {},
   "source": [
    "# Pandas.Series(<font color = red>[*a_list*]</font>,<font color = Orange> index=[*row labels*], name = \"string\"</font>) \n",
    ">`a_list`: A sequence </br>\n",
    ">`index=`: labels rows (length must be equal to a_list)</br>\n",
    ">`name=`: gives series a name"
   ]
  },
  {
   "cell_type": "code",
   "execution_count": 2,
   "id": "cf0bd5ae-0207-43fd-a7c1-f380b40ad216",
   "metadata": {},
   "outputs": [],
   "source": [
    "import pandas as pd"
   ]
  },
  {
   "cell_type": "code",
   "execution_count": 8,
   "id": "687542ce-a892-4b43-86c3-4b353a1ae9b3",
   "metadata": {},
   "outputs": [
    {
     "data": {
      "text/plain": [
       "0    11\n",
       "1    22\n",
       "2    33\n",
       "dtype: int64"
      ]
     },
     "execution_count": 8,
     "metadata": {},
     "output_type": "execute_result"
    }
   ],
   "source": [
    "pd.Series([11,22,33]) # creat a pandas series"
   ]
  },
  {
   "cell_type": "code",
   "execution_count": 9,
   "id": "edf2a5eb-b6c5-4c74-9609-c883b92bbbdc",
   "metadata": {},
   "outputs": [
    {
     "data": {
      "text/plain": [
       "A    0\n",
       "B    1\n",
       "C    2\n",
       "D    3\n",
       "E    4\n",
       "Name: Pandas Series 1, dtype: int64"
      ]
     },
     "execution_count": 9,
     "metadata": {},
     "output_type": "execute_result"
    }
   ],
   "source": [
    "pd.Series([0,1,2,3,4], index = [\"A\", \"B\",\"C\", \"D\", \"E\"], name= \"Pandas Series 1\") "
   ]
  },
  {
   "cell_type": "markdown",
   "id": "afefc1d7-ea8e-4d62-81ab-cbb38ac26fb2",
   "metadata": {},
   "source": [
    "*This creates a pandas series with user defined row labels and series name*"
   ]
  },
  {
   "cell_type": "code",
   "execution_count": null,
   "id": "6ad40b60-4311-47a1-8106-19c6e727b849",
   "metadata": {},
   "outputs": [],
   "source": []
  }
 ],
 "metadata": {
  "kernelspec": {
   "display_name": "Python 3",
   "language": "python",
   "name": "python3"
  },
  "language_info": {
   "codemirror_mode": {
    "name": "ipython",
    "version": 3
   },
   "file_extension": ".py",
   "mimetype": "text/x-python",
   "name": "python",
   "nbconvert_exporter": "python",
   "pygments_lexer": "ipython3",
   "version": "3.7.10"
  }
 },
 "nbformat": 4,
 "nbformat_minor": 5
}
