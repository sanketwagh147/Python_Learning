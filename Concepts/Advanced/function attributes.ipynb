{
 "cells": [
  {
   "cell_type": "markdown",
   "id": "5c29fac8-9e4a-42cf-b7f8-c685ae857acb",
   "metadata": {},
   "source": [
    "# function attributes"
   ]
  },
  {
   "cell_type": "code",
   "execution_count": 2,
   "id": "3c893a01-4113-41c5-8a1c-a1b1181aa63c",
   "metadata": {},
   "outputs": [],
   "source": [
    "def test(a):\n",
    "    count = 0\n",
    "    return a\n",
    "test(5)"
   ]
  },
  {
   "cell_type": "code",
   "execution_count": 5,
   "id": "d7f36a2b-5af5-4e1d-b5e9-2f5e14b31181",
   "metadata": {},
   "outputs": [
    {
     "ename": "NameError",
     "evalue": "name 'count' is not defined",
     "output_type": "error",
     "traceback": [
      "\u001b[1;31m---------------------------------------------------------------------------\u001b[0m",
      "\u001b[1;31mNameError\u001b[0m                                 Traceback (most recent call last)",
      "\u001b[1;32m<ipython-input-5-26780ddf2751>\u001b[0m in \u001b[0;36m<module>\u001b[1;34m\u001b[0m\n\u001b[1;32m----> 1\u001b[1;33m \u001b[0mcount\u001b[0m\u001b[1;33m\u001b[0m\u001b[1;33m\u001b[0m\u001b[0m\n\u001b[0m",
      "\u001b[1;31mNameError\u001b[0m: name 'count' is not defined"
     ]
    }
   ],
   "source": [
    "count"
   ]
  },
  {
   "cell_type": "markdown",
   "id": "6b82a076-8b67-4867-8657-2c807ec4d616",
   "metadata": {},
   "source": [
    "**function only returns `a` but if we want to return value for count use funtion attributes** else calling count will throw NameError."
   ]
  },
  {
   "cell_type": "code",
   "execution_count": 8,
   "id": "e560caa5-146f-4212-b715-26dfc851fd28",
   "metadata": {},
   "outputs": [
    {
     "data": {
      "text/plain": [
       "5"
      ]
     },
     "execution_count": 8,
     "metadata": {},
     "output_type": "execute_result"
    }
   ],
   "source": [
    "def test2(a):\n",
    "    test2.count = 0\n",
    "    return a\n",
    "test2(5)"
   ]
  },
  {
   "cell_type": "code",
   "execution_count": 10,
   "id": "9010cb2c-ff49-40b8-a559-38037f3333c6",
   "metadata": {},
   "outputs": [
    {
     "data": {
      "text/plain": [
       "0"
      ]
     },
     "execution_count": 10,
     "metadata": {},
     "output_type": "execute_result"
    }
   ],
   "source": [
    "test2.count"
   ]
  },
  {
   "cell_type": "markdown",
   "id": "27debafa-e861-41ad-ab5c-56281dcb4466",
   "metadata": {},
   "source": [
    "**thus we can acces the value of a variable inside a function using function attributes*"
   ]
  }
 ],
 "metadata": {
  "kernelspec": {
   "display_name": "Python 3",
   "language": "python",
   "name": "python3"
  },
  "language_info": {
   "codemirror_mode": {
    "name": "ipython",
    "version": 3
   },
   "file_extension": ".py",
   "mimetype": "text/x-python",
   "name": "python",
   "nbconvert_exporter": "python",
   "pygments_lexer": "ipython3",
   "version": "3.7.10"
  }
 },
 "nbformat": 4,
 "nbformat_minor": 5
}
