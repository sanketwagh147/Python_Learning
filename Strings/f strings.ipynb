{
 "cells": [
  {
   "cell_type": "markdown",
   "id": "98a756cb-8781-4d9f-8bde-5ae7536fe531",
   "metadata": {},
   "source": [
    "# f strings\n",
    "`f\"string text {variable:specialcharacter alignment width.decimalpoints f} \"`  spaces should be ignored inside {}</br>\n",
    "ex: `{a:!^10.2f}`\n",
    ">`a` is the variable </br>\n",
    ">`!` is a special character whichh can be any special character </br>\n",
    ">`^` is alignment it can be `^` for center, `<` for left , `>` for right </br>\n",
    ">`2` is number of decimals points followed by f to denote it as a floating point type\n"
   ]
  },
  {
   "cell_type": "code",
   "execution_count": 11,
   "id": "7897a03a-d366-4213-8a2b-ad3dd698c718",
   "metadata": {},
   "outputs": [
    {
     "data": {
      "text/plain": [
       "' your cash is !34567.58!'"
      ]
     },
     "execution_count": 11,
     "metadata": {},
     "output_type": "execute_result"
    }
   ],
   "source": [
    "a= 34567.58458\n",
    "a_string = f\" your cash is {a:!^10.2f}\"\n",
    "a_string"
   ]
  }
 ],
 "metadata": {
  "kernelspec": {
   "display_name": "Python 3",
   "language": "python",
   "name": "python3"
  },
  "language_info": {
   "codemirror_mode": {
    "name": "ipython",
    "version": 3
   },
   "file_extension": ".py",
   "mimetype": "text/x-python",
   "name": "python",
   "nbconvert_exporter": "python",
   "pygments_lexer": "ipython3",
   "version": "3.7.3"
  }
 },
 "nbformat": 4,
 "nbformat_minor": 5
}
