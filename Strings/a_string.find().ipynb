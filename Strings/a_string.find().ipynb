{
 "cells": [
  {
   "cell_type": "markdown",
   "metadata": {},
   "source": [
    "# a_string.find(<font color = red> sub_string</font>,<font color = orange>start, end </font>)\n",
    ">`sub_string`: A substring to find in a_string</br>\n",
    "`start`: Start search from here</br>\n",
    "`end`: End search from here"
   ]
  },
  {
   "cell_type": "markdown",
   "metadata": {},
   "source": [
    "\n",
    "#Find the sub string in a string and returns its index else returns -1\n",
    "\n",
    "\n"
   ]
  },
  {
   "cell_type": "code",
   "execution_count": 1,
   "metadata": {},
   "outputs": [
    {
     "name": "stdout",
     "output_type": "stream",
     "text": [
      "4\n"
     ]
    }
   ],
   "source": [
    "data = \"iam sanket and I am going to use find the sub-string in string variable called data\"\n",
    "sub_string = \"sanket\"\n",
    "index_of_sub_string = data.find(sub_string, 0, 10)\n",
    "print(index_of_sub_string)"
   ]
  },
  {
   "cell_type": "code",
   "execution_count": 2,
   "metadata": {},
   "outputs": [
    {
     "name": "stdout",
     "output_type": "stream",
     "text": [
      "4\n",
      "ub-string in string variable called data\n"
     ]
    }
   ],
   "source": [
    "index = data.index(sub_string)\n",
    "print(index)\n",
    "print(data[43:])"
   ]
  },
  {
   "cell_type": "code",
   "execution_count": null,
   "metadata": {},
   "outputs": [],
   "source": []
  }
 ],
 "metadata": {
  "kernelspec": {
   "display_name": "Python 3",
   "language": "python",
   "name": "python3"
  },
  "language_info": {
   "codemirror_mode": {
    "name": "ipython",
    "version": 3
   },
   "file_extension": ".py",
   "mimetype": "text/x-python",
   "name": "python",
   "nbconvert_exporter": "python",
   "pygments_lexer": "ipython3",
   "version": "3.7.3"
  }
 },
 "nbformat": 4,
 "nbformat_minor": 4
}
