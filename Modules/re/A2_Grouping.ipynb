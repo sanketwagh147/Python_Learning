{
 "cells": [
  {
   "cell_type": "markdown",
   "id": "6f2cfa83",
   "metadata": {
    "tags": []
   },
   "source": [
    "# Grouping\n",
    "> RE are used to disect a strinjg into subgroups depending upon pattern\n",
    "> for ex: a string `\"User-Agent: Thunderbird 1.5.0.9 (X11/20061227)\"` we want group of each individual item based on pattern  \n",
    ">they are indicated by `()`  \n",
    "> groups are numbered from 0 and group() is group 0 by default and is always present"
   ]
  },
  {
   "cell_type": "code",
   "execution_count": 40,
   "id": "016b88d5",
   "metadata": {},
   "outputs": [],
   "source": [
    "import re"
   ]
  },
  {
   "cell_type": "code",
   "execution_count": 41,
   "id": "66bc2254",
   "metadata": {},
   "outputs": [
    {
     "data": {
      "text/plain": [
       "(0, 8)"
      ]
     },
     "execution_count": 41,
     "metadata": {},
     "output_type": "execute_result"
    }
   ],
   "source": [
    "test = re.compile(\"(cd)*\")\r\n",
    "test.match(\"cdcdcdcda\").span()"
   ]
  },
  {
   "cell_type": "markdown",
   "id": "29e722f7",
   "metadata": {},
   "source": [
    "_Notice the span not just start of first match it spans from first match to the end_ "
   ]
  },
  {
   "cell_type": "code",
   "execution_count": 42,
   "id": "98c10597",
   "metadata": {},
   "outputs": [
    {
     "data": {
      "text/plain": [
       "<re.Match object; span=(0, 46), match='User-Agent: Thunderbird 1.5.0.9 (X11/20061227)'>"
      ]
     },
     "execution_count": 42,
     "metadata": {},
     "output_type": "execute_result"
    }
   ],
   "source": [
    "# Extracting specific data with Regex\r\n",
    "str1 = \"User-Agent: Thunderbird 1.5.0.9 (X11/20061227)\"\r\n",
    "x = re.match(r\"^([\\w]+-[\\w]+): ([\\w]+) ([0-9.]+) ([\\(\\w]+/[\\d\\)]+)\", str1) # each () is a group and follows rules similar to math\r\n",
    "x"
   ]
  },
  {
   "cell_type": "code",
   "execution_count": 43,
   "id": "4bef88f9",
   "metadata": {},
   "outputs": [
    {
     "name": "stdout",
     "output_type": "stream",
     "text": [
      "User-Agent\n",
      "Thunderbird\n",
      "1.5.0.9\n",
      "(X11/20061227)\n"
     ]
    }
   ],
   "source": [
    "for i in range(1,len(x.groups())+1):\r\n",
    "    print(x.group(i))"
   ]
  },
  {
   "cell_type": "code",
   "execution_count": 44,
   "id": "5fe40104",
   "metadata": {},
   "outputs": [
    {
     "data": {
      "text/plain": [
       "('User-Agent', 'Thunderbird', '1.5.0.9', '(X11/20061227)')"
      ]
     },
     "execution_count": 44,
     "metadata": {},
     "output_type": "execute_result"
    }
   ],
   "source": [
    "x.groups()  # returns a tuple of all group items "
   ]
  },
  {
   "cell_type": "code",
   "execution_count": 45,
   "id": "9f7e9636",
   "metadata": {},
   "outputs": [
    {
     "data": {
      "text/plain": [
       "('User-Agent: Thunderbird 1.5.0.9 (X11/20061227)',\n",
       " 'User-Agent',\n",
       " 'Thunderbird',\n",
       " '1.5.0.9',\n",
       " '(X11/20061227)')"
      ]
     },
     "execution_count": 45,
     "metadata": {},
     "output_type": "execute_result"
    }
   ],
   "source": [
    "x.group(0,1,2,3,4)  # gives tuple based on groups from groups() method respective to each index"
   ]
  },
  {
   "cell_type": "markdown",
   "id": "88c87d14",
   "metadata": {},
   "source": [
    "## Finding repeating word in a string"
   ]
  },
  {
   "cell_type": "code",
   "execution_count": 46,
   "id": "a20791d3",
   "metadata": {},
   "outputs": [
    {
     "data": {
      "text/plain": [
       "'best best'"
      ]
     },
     "execution_count": 46,
     "metadata": {},
     "output_type": "execute_result"
    }
   ],
   "source": [
    "string_1 = \"Iam the best best actor best\"\r\n",
    "regex_1 = re.compile(r'\\b(\\w+)\\s+\\1\\b')  #\\1 means that the next group item should be similar to previous one\r\n",
    "regex_1.search(string_1).group()\r\n",
    "# `\\1 is backreference last word"
   ]
  },
  {
   "cell_type": "code",
   "execution_count": 47,
   "id": "72d9cda4",
   "metadata": {},
   "outputs": [
    {
     "data": {
      "text/plain": [
       "'best best'"
      ]
     },
     "execution_count": 47,
     "metadata": {},
     "output_type": "execute_result"
    }
   ],
   "source": [
    "# Another way to find repeating words\r\n",
    "string_1 = \"Iam the best best actor best\"\r\n",
    "regex_1 = re.compile(r'\\b(?P<word>\\w+)\\s+(?P=word)\\b')  \r\n",
    "regex_1.search(string_1).group()"
   ]
  },
  {
   "cell_type": "markdown",
   "id": "297067a3",
   "metadata": {},
   "source": [
    "## Non capturing group `(9?:pattern)`  # pattern is regex pattern\n",
    "> This are not captured while grouping"
   ]
  },
  {
   "cell_type": "code",
   "execution_count": 48,
   "id": "fcf2670a",
   "metadata": {},
   "outputs": [
    {
     "name": "stdout",
     "output_type": "stream",
     "text": [
      "User-Agent\n",
      "Thunderbird\n"
     ]
    }
   ],
   "source": [
    "# Suppose we dont need to capture any specific group\r\n",
    "str1 = \"User-Agent: Thunderbird 1.5.0.9 (X11/20061227)\"\r\n",
    "y = re.match(r\"^([\\w]+-[\\w]+): ([\\w]+) (?:[0-9.]+) (?:[\\(\\w]+/[\\d\\)]+)\", str1) # each () is a group and follows rules similar to math\r\n",
    "for i in range(1,len(y.groups())+1):  #loop to print all groups \r\n",
    "    print(y.group(i))\r\n",
    "# (?:[0-9.]+) (?:[\\(\\w]+/[\\d\\)] from later part of pattern is preceded by ?: which means do not capture this group"
   ]
  },
  {
   "cell_type": "markdown",
   "id": "fee21dae",
   "metadata": {},
   "source": [
    "_Thus last two items are not included in y_"
   ]
  },
  {
   "cell_type": "code",
   "execution_count": 49,
   "id": "03a25ccd",
   "metadata": {},
   "outputs": [
    {
     "name": "stdout",
     "output_type": "stream",
     "text": [
      "cat\n",
      "dog\n",
      "rat\n",
      "man\n"
     ]
    }
   ],
   "source": [
    "# A simple example of all capturing group\r\n",
    "str2 = \"cat dog rat man\"\r\n",
    "z = re.match(r\"(^cat)\\s(\\bdog)\\s(rat\\b)\\s(\\w+)\", str2)\r\n",
    "for i in range(1,len(z.groups())+1):  #loop to print all groups \r\n",
    "    print(z.group(i))"
   ]
  },
  {
   "cell_type": "markdown",
   "id": "bdfc56cb",
   "metadata": {},
   "source": [
    "_As no group `()` begin with `?:` each is included in the group_"
   ]
  },
  {
   "cell_type": "code",
   "execution_count": 50,
   "id": "bf27b222",
   "metadata": {},
   "outputs": [
    {
     "name": "stdout",
     "output_type": "stream",
     "text": [
      "cat\n",
      "dog\n"
     ]
    }
   ],
   "source": [
    "# If we don't want to group rat and man simply add `?:` inside the group\r\n",
    "\r\n",
    "str2 = \"cat dog rat man\"\r\n",
    "z = re.match(r\"(^cat)\\s(\\bdog)\\s(?:rat\\b)\\s(?:\\w+)\", str2)\r\n",
    "for i in range(1,len(z.groups())+1):  #loop to print all groups \r\n",
    "    print(z.group(i))"
   ]
  },
  {
   "cell_type": "markdown",
   "id": "65a63ccb",
   "metadata": {},
   "source": [
    "_Thus the group are excluded_"
   ]
  },
  {
   "cell_type": "markdown",
   "id": "de4165d0",
   "metadata": {},
   "source": [
    "## Named groups `(?P<name>pattern)`\n",
    ">`<name>` is name we desire to give a group  \n",
    "> pattern is regex expression\n",
    "> This is python specific extension"
   ]
  },
  {
   "cell_type": "code",
   "execution_count": 51,
   "id": "154ffc29",
   "metadata": {},
   "outputs": [
    {
     "data": {
      "text/plain": [
       "{'pet1': 'cat', 'owner': 'man'}"
      ]
     },
     "execution_count": 51,
     "metadata": {},
     "output_type": "execute_result"
    }
   ],
   "source": [
    "str2 = \"cat dog rat man\"\r\n",
    "a = re.search(r\"(?P<pet1>^cat)[a-zA-Z ]+(?P<owner>man$)\", str2)\r\n",
    "# for i in range(1,len(z.groups())+1):  #loop to print all groups \r\n",
    "#     print(z.group(i))\r\n",
    "a.groupdict()"
   ]
  },
  {
   "cell_type": "code",
   "execution_count": 52,
   "id": "8cf29bdd",
   "metadata": {},
   "outputs": [
    {
     "data": {
      "text/plain": [
       "('cat', 'man')"
      ]
     },
     "execution_count": 52,
     "metadata": {},
     "output_type": "execute_result"
    }
   ],
   "source": [
    "a.groups()  # Nameds groups are also indexed so we can use indices to fetch them"
   ]
  },
  {
   "cell_type": "markdown",
   "id": "5b418c11",
   "metadata": {},
   "source": [
    "### Case insensitive mode OFF\n",
    "> To make certain part case insensitive `(?i)` case-insensitive mode ON \n"
   ]
  },
  {
   "cell_type": "code",
   "execution_count": 53,
   "id": "b865f0ee",
   "metadata": {
    "slideshow": {
     "slide_type": "notes"
    },
    "tags": [
     "Insensitive"
    ]
   },
   "outputs": [],
   "source": [
    "sen_list = ['AB9r 0396 yjlq',\r\n",
    " 'w35u AB9y smge',\r\n",
    " 'wji9 fgyx ABls',\r\n",
    " 'ABfy abx3 whfc',\r\n",
    " 'a0ig sz71 abkh',\r\n",
    " 'ajg2 abge fzvd']"
   ]
  },
  {
   "cell_type": "code",
   "execution_count": 54,
   "id": "7147b90d",
   "metadata": {},
   "outputs": [
    {
     "name": "stdout",
     "output_type": "stream",
     "text": [
      "1 : AB9r 0396 yjlq --> ['AB']\n",
      "2 : w35u AB9y smge --> ['AB']\n",
      "3 : wji9 fgyx ABls --> ['AB']\n",
      "4 : ABfy abx3 whfc --> ['AB', 'ab']\n",
      "5 : a0ig sz71 abkh --> ['ab']\n",
      "6 : ajg2 abge fzvd --> ['ab']\n"
     ]
    }
   ],
   "source": [
    "pattern_1 = r\"(?i)(ab+)\"  #add ((?i) before a set to make it case insensitive\r\n",
    "for index,string in enumerate(sen_list, start =1):\r\n",
    "    print(f'{index} : {string}'.ljust(12), \"-->\",re.findall(pattern_1, string))"
   ]
  },
  {
   "cell_type": "markdown",
   "id": "b6a48bdc",
   "metadata": {},
   "source": [
    "_we are able to match every thing with ab ignoring case_"
   ]
  },
  {
   "cell_type": "code",
   "execution_count": null,
   "id": "9fffbefc",
   "metadata": {},
   "outputs": [],
   "source": []
  },
  {
   "cell_type": "code",
   "execution_count": null,
   "id": "f59577bf",
   "metadata": {},
   "outputs": [],
   "source": []
  }
 ],
 "metadata": {
  "interpreter": {
   "hash": "1baa965d5efe3ac65b79dfc60c0d706280b1da80fedb7760faf2759126c4f253"
  },
  "kernelspec": {
   "display_name": "Python 3",
   "language": "python",
   "name": "python3"
  },
  "language_info": {
   "codemirror_mode": {
    "name": "ipython",
    "version": 3
   },
   "file_extension": ".py",
   "mimetype": "text/x-python",
   "name": "python",
   "nbconvert_exporter": "python",
   "pygments_lexer": "ipython3",
   "version": "3.7.10"
  }
 },
 "nbformat": 4,
 "nbformat_minor": 5
}
