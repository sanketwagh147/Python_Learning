{
 "cells": [
  {
   "cell_type": "markdown",
   "id": "2c170ea9-eede-42ea-a0cb-1bf82a4da6cb",
   "metadata": {},
   "source": [
    "### a_dict.pop(key,default)"
   ]
  },
  {
   "cell_type": "code",
   "execution_count": 4,
   "id": "e5029996-a9c1-4cd7-a07c-80ee4b6cce43",
   "metadata": {},
   "outputs": [
    {
     "data": {
      "text/plain": [
       "'First'"
      ]
     },
     "execution_count": 4,
     "metadata": {},
     "output_type": "execute_result"
    }
   ],
   "source": [
    "a_dict1 = {\"a\": \"First\", \"b\": \"second\", \"c\": \"third\"}\n",
    "a_dict1.pop(\"a\")  # pops the value of key a\n"
   ]
  },
  {
   "cell_type": "code",
   "execution_count": 5,
   "id": "862e546f-2976-4015-8be4-5ed1200a3abd",
   "metadata": {},
   "outputs": [
    {
     "data": {
      "text/plain": [
       "{'b': 'second', 'c': 'third'}"
      ]
     },
     "execution_count": 5,
     "metadata": {},
     "output_type": "execute_result"
    }
   ],
   "source": [
    "a_dict1  # key a is deleted"
   ]
  },
  {
   "cell_type": "code",
   "execution_count": 7,
   "id": "4681e0b0-4bb5-433a-9eee-d9004dde401c",
   "metadata": {},
   "outputs": [
    {
     "data": {
      "text/plain": [
       "'default : Key not found'"
      ]
     },
     "execution_count": 7,
     "metadata": {},
     "output_type": "execute_result"
    }
   ],
   "source": [
    "a_dict1.pop(\"D\", \"default : Key not found\")  # default can be any object and will return default if key is not present in the dictionary"
   ]
  },
  {
   "cell_type": "code",
   "execution_count": 8,
   "id": "ac485008-fa66-4d9d-a9f6-9b74e8acb5da",
   "metadata": {},
   "outputs": [
    {
     "ename": "KeyError",
     "evalue": "'D'",
     "output_type": "error",
     "traceback": [
      "\u001b[1;31m---------------------------------------------------------------------------\u001b[0m",
      "\u001b[1;31mKeyError\u001b[0m                                  Traceback (most recent call last)",
      "\u001b[1;32m<ipython-input-8-168a6e01c59b>\u001b[0m in \u001b[0;36m<module>\u001b[1;34m\u001b[0m\n\u001b[1;32m----> 1\u001b[1;33m \u001b[0ma_dict1\u001b[0m\u001b[1;33m.\u001b[0m\u001b[0mpop\u001b[0m\u001b[1;33m(\u001b[0m\u001b[1;34m\"D\"\u001b[0m\u001b[1;33m)\u001b[0m\u001b[1;33m\u001b[0m\u001b[1;33m\u001b[0m\u001b[0m\n\u001b[0m",
      "\u001b[1;31mKeyError\u001b[0m: 'D'"
     ]
    }
   ],
   "source": [
    "a_dict1.pop(\"D\")  #Throws a key error if key is absent in the dictionary"
   ]
  },
  {
   "cell_type": "code",
   "execution_count": null,
   "id": "cfdfcdb2-20a3-4fc7-b068-af2dbeb7498b",
   "metadata": {},
   "outputs": [],
   "source": []
  }
 ],
 "metadata": {
  "kernelspec": {
   "display_name": "Python 3",
   "language": "python",
   "name": "python3"
  },
  "language_info": {
   "codemirror_mode": {
    "name": "ipython",
    "version": 3
   },
   "file_extension": ".py",
   "mimetype": "text/x-python",
   "name": "python",
   "nbconvert_exporter": "python",
   "pygments_lexer": "ipython3",
   "version": "3.7.3"
  }
 },
 "nbformat": 4,
 "nbformat_minor": 5
}
