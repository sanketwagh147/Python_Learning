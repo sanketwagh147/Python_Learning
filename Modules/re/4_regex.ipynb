{
 "cells": [
  {
   "cell_type": "markdown",
   "id": "0c532a33-8d1a-4a53-baf4-b0c35498f3af",
   "metadata": {},
   "source": [
    "# User Input"
   ]
  },
  {
   "cell_type": "markdown",
   "id": "f90be476-4b7b-4d82-913e-2f420e0dc62e",
   "metadata": {},
   "source": [
    "User input validation checks if the user entered data which is a string in most cases matches the requirement </br>\n",
    ">Time Format Validations </br>\n",
    ">Email address validation </br>\n",
    ">Username Validation </br>"
   ]
  },
  {
   "cell_type": "markdown",
   "id": "d833b6ea-65af-4127-8871-2e59e40d04e2",
   "metadata": {},
   "source": [
    "## Time Format Validations"
   ]
  },
  {
   "cell_type": "code",
   "execution_count": 37,
   "id": "90032482-3890-46b4-a7f9-28cdd897eabe",
   "metadata": {},
   "outputs": [],
   "source": [
    "# Time Format Validation\n",
    "time_list = [\"12:24\", \"24:12\", \"12:61\", \"22:45\", \"33:67\", \"aa:24\", \"bb:24\", \"aa:bb\",\"12:333\", \"333:22\",\"14:23\", \"12,33\",\"12:4545\"]\n"
   ]
  },
  {
   "cell_type": "code",
   "execution_count": 38,
   "id": "cc6d3b60-3847-427b-bedb-be48feb91dc9",
   "metadata": {},
   "outputs": [
    {
     "name": "stdout",
     "output_type": "stream",
     "text": [
      "1 -> <re.Match object; span=(0, 5), match='12:24'>\n",
      "2 -> <re.Match object; span=(0, 5), match='24:12'>\n",
      "3 -> <re.Match object; span=(0, 5), match='12:61'>\n",
      "4 -> <re.Match object; span=(0, 5), match='22:45'>\n",
      "5 -> <re.Match object; span=(0, 5), match='33:67'>\n",
      "6 -> None\n",
      "7 -> None\n",
      "8 -> None\n",
      "9 -> None\n",
      "10 -> None\n",
      "11 -> <re.Match object; span=(0, 5), match='14:23'>\n",
      "12 -> None\n",
      "13 -> None\n"
     ]
    }
   ],
   "source": [
    "import re\n",
    "pattern = '[0-9]{2}:[0-9]{2}'\n",
    "for i, time in enumerate(time_list, start=1):\n",
    "    print(i, \"->\", re.fullmatch(pattern, time))"
   ]
  },
  {
   "cell_type": "code",
   "execution_count": 40,
   "id": "edb2601e-d3f5-4b42-a754-8646f3668e9c",
   "metadata": {},
   "outputs": [],
   "source": [
    "# (optional) same block as above just using list comprehensions \n",
    "#[(index,\"->\",re.fullmatch(pattern, time)) for (index,time) in enumerate(time_list, start=1)]  "
   ]
  },
  {
   "cell_type": "markdown",
   "id": "621f3126-c6ca-46b5-9829-986b22abcc65",
   "metadata": {},
   "source": [
    "### Each and every test case works fine except the time should not exceed 23:59 on HH:MM but the above pattern fails for the test case"
   ]
  },
  {
   "cell_type": "markdown",
   "id": "88b06448-134d-4c0d-85db-030675564135",
   "metadata": {},
   "source": [
    "### To address this thje pattern is explained as below"
   ]
  },
  {
   "cell_type": "markdown",
   "id": "5f04876e-4dac-434a-bf95-d0d11e893e45",
   "metadata": {},
   "source": [
    "## Difference between `{2}` and `{2,}`\n",
    "> `{2}` the length should be 2 </br>\n",
    "> `{2,}` the lenth should be **minimum** 2"
   ]
  },
  {
   "cell_type": "markdown",
   "id": "e2fec5eb-8f9b-4be0-a8f9-e28e8546e083",
   "metadata": {},
   "source": [
    "## `|` is same as OR"
   ]
  },
  {
   "cell_type": "code",
   "execution_count": 44,
   "id": "63baf386-680d-48a8-98ee-ee4ff42b4793",
   "metadata": {},
   "outputs": [
    {
     "data": {
      "text/plain": [
       "['12:24',\n",
       " '24:12',\n",
       " '12:61',\n",
       " '22:45',\n",
       " '33:67',\n",
       " 'aa:24',\n",
       " 'bb:24',\n",
       " 'aa:bb',\n",
       " '12:333',\n",
       " '333:22',\n",
       " '14:23',\n",
       " '12,33',\n",
       " '12:4545']"
      ]
     },
     "execution_count": 44,
     "metadata": {},
     "output_type": "execute_result"
    }
   ],
   "source": [
    "## HH: pattern \n",
    "# If the first H of HH  start with 0 or 1 then the second H must range between 0-9(ex: 00,01, 04,11,18,19)\n",
    "# If the fisrt H of HH starts with 2 then the second H must range between 0-3 (ex: 20,21,22,23)\n",
    "\n",
    "HH_pattern = \"([01][0-9]|2[0-3])\"  \n",
    "MM_pattern = \"([0-5][0-9])\"\n",
    "pattern_2 =f\"{HH_pattern}:{MM_pattern}\"                 \n"
   ]
  },
  {
   "cell_type": "code",
   "execution_count": 52,
   "id": "393cfe08-9b97-4b71-b1d5-a76135b3dd56",
   "metadata": {},
   "outputs": [
    {
     "name": "stdout",
     "output_type": "stream",
     "text": [
      "1 : 12:24            -> <re.Match object; span=(0, 5), match='12:24'>\n",
      "2 : 24:12            -> None\n",
      "3 : 12:61            -> None\n",
      "4 : 22:45            -> <re.Match object; span=(0, 5), match='22:45'>\n",
      "5 : 33:67            -> None\n",
      "6 : aa:24            -> None\n",
      "7 : bb:24            -> None\n",
      "8 : aa:bb            -> None\n",
      "9 : 12:333           -> None\n",
      "10 : 333:22          -> None\n",
      "11 : 14:23           -> <re.Match object; span=(0, 5), match='14:23'>\n",
      "12 : 12,33           -> None\n",
      "13 : 12:4545         -> None\n"
     ]
    }
   ],
   "source": [
    "for i, time in enumerate(time_list, start=1):\n",
    "    print(f\"{str(i)} : {str(time)}\".ljust(20), \"->\", re.fullmatch(pattern_2, time))  #ljust is used for alignment "
   ]
  },
  {
   "cell_type": "markdown",
   "id": "787d9c90-f721-4b8a-86dd-524a50923e4c",
   "metadata": {},
   "source": [
    "## Email- Id Validations\n",
    "> `_`   `.`   `0-9`   `a-z` and `A-Z` are allowed"
   ]
  },
  {
   "cell_type": "code",
   "execution_count": 73,
   "id": "db2ca6a8-e8c1-45b0-a2d2-7cadbdb50a78",
   "metadata": {},
   "outputs": [],
   "source": [
    "# create a sample check email list\n",
    "email_list = [\"sanketwagh147@gmail.com\", \"aflasfj@gmailcom\", \"aflasfjgmailcom\", \"testemail12_.@gmail.com\", \"af#lasfj@gmailcom\", \"afl%asfj@gmailcom\", \"aflasfj@gmailcom\", \"aflasfj.gmailcom\", \"aflasfj@gmail.coma\",]"
   ]
  },
  {
   "cell_type": "markdown",
   "id": "cf7517a2-db2c-4bb8-9dcd-e6bad097d003",
   "metadata": {},
   "source": [
    "### `^` means starst with and `$` means end with\n",
    "when we use `^` and `$` together it means search from begining to end"
   ]
  },
  {
   "cell_type": "code",
   "execution_count": 74,
   "id": "b1d1de2b-b7e2-4827-9e7b-4d7a3cabef5e",
   "metadata": {},
   "outputs": [],
   "source": [
    "pattern_3 = \"^(\\w|\\.|\\_\\-)+[@]\\w+[.]\\w{2,3}$\"\n"
   ]
  },
  {
   "cell_type": "markdown",
   "id": "d50900c0-f4f2-414b-bfd3-46640a47fd9d",
   "metadata": {},
   "source": [
    "#### `(\\w|\\.|\\_\\-)` creates a set which accepts \\w(alphanumeric) and (. _ -) </br>\n",
    "#### `+` is added so that the complete set (\\w|\\.|\\_\\-) can be repeated one or many times </br>\n",
    "#### `[@]` ampersand must be followed </br>\n",
    "#### `\\w` any words will be followed\n",
    "##### `[.]` dot must be followed with\n",
    "#### `\\w{2,3}` which can me words but only of 2 or 3 of length"
   ]
  },
  {
   "cell_type": "code",
   "execution_count": 99,
   "id": "775cd157-0d2b-4da5-9eab-80d24d8def78",
   "metadata": {},
   "outputs": [
    {
     "name": "stdout",
     "output_type": "stream",
     "text": [
      "1 : sanketwagh147@gm3il.com -> <re.Match object; span=(0, 23), match='sanketwagh147@gm3il.com'>\n",
      "2 : aflasfj@gmailcom -> None\n",
      "3 : aflasfjgmailcom  -> None\n",
      "4 : testemail12_.@gmail.com -> <re.Match object; span=(0, 23), match='testemail12_.@gmail.com'>\n",
      "5 : af#lasfj@gmailcom -> None\n",
      "6 : afl%asfj@gmailcom -> None\n",
      "7 : aflasfj@gmailcom -> None\n",
      "8 : aflasfj.gmailcom -> None\n",
      "9 : aflasfj@gmail.coma -> None\n"
     ]
    }
   ],
   "source": [
    "for i, email in enumerate(email_list, start=1):\n",
    "    print(f\"{str(i)} : {str(email)}\".ljust(20), \"->\", re.fullmatch(pattern_3, email))  #ljust is used for alignment "
   ]
  },
  {
   "cell_type": "markdown",
   "id": "f3bbdfbb-6532-4900-944e-23e1c4f73c8f",
   "metadata": {},
   "source": [
    "## Username Validation"
   ]
  },
  {
   "cell_type": "code",
   "execution_count": 93,
   "id": "4c4dec84-171c-417d-832b-3a4c07a8c5b7",
   "metadata": {},
   "outputs": [],
   "source": [
    "username_list = [ \"sanketwagh\", \"sank#etwagh\", \"sanket_wagh\", \"sanket.wagh\", \"san.ket_wagh\", \"sanket2wagh\", \"@sanketwagh\", \"sanket43wagh\", ]"
   ]
  },
  {
   "cell_type": "code",
   "execution_count": 94,
   "id": "26e6cadd-574f-4f1b-b879-0cf5ea692937",
   "metadata": {},
   "outputs": [],
   "source": [
    "pattern_4 = \"^[a-zA-Z_.]+$\"\n",
    "# we create a set inside [] and use + to allow one or more such items"
   ]
  },
  {
   "cell_type": "markdown",
   "id": "c79e8ca2-8009-48d9-bede-efd17fc17b8a",
   "metadata": {},
   "source": [
    "#### Allows `a-z` `A-Z` `_` and `.`"
   ]
  },
  {
   "cell_type": "code",
   "execution_count": 95,
   "id": "127eb56a-c041-4cda-89a2-080dd1883a7e",
   "metadata": {},
   "outputs": [
    {
     "name": "stdout",
     "output_type": "stream",
     "text": [
      "1 : sanketwagh       -> <re.Match object; span=(0, 10), match='sanketwagh'>\n",
      "2 : sank#etwagh      -> None\n",
      "3 : sanket_wagh      -> <re.Match object; span=(0, 11), match='sanket_wagh'>\n",
      "4 : sanket.wagh      -> <re.Match object; span=(0, 11), match='sanket.wagh'>\n",
      "5 : san.ket_wagh     -> <re.Match object; span=(0, 12), match='san.ket_wagh'>\n",
      "6 : sanket2wagh      -> None\n",
      "7 : @sanketwagh      -> None\n",
      "8 : sanket43wagh     -> None\n"
     ]
    }
   ],
   "source": [
    "for i, uname in enumerate(username_list, start=1):\n",
    "    print(f\"{str(i)} : {str(uname)}\".ljust(20), \"->\", re.fullmatch(pattern_4, uname))  #ljust is used for alignment "
   ]
  },
  {
   "cell_type": "code",
   "execution_count": 96,
   "id": "fc335a51-c12c-4eda-8d7b-698527481039",
   "metadata": {},
   "outputs": [],
   "source": [
    "# regex to match username containing digits\n",
    "pattern_5 = \"^[a-zA-Z_.0-9]+$\""
   ]
  },
  {
   "cell_type": "code",
   "execution_count": 97,
   "id": "dec9234d-0a16-4267-9cb6-b2599632f554",
   "metadata": {},
   "outputs": [
    {
     "name": "stdout",
     "output_type": "stream",
     "text": [
      "1 : sanketwagh       -> <re.Match object; span=(0, 10), match='sanketwagh'>\n",
      "2 : sank#etwagh      -> None\n",
      "3 : sanket_wagh      -> <re.Match object; span=(0, 11), match='sanket_wagh'>\n",
      "4 : sanket.wagh      -> <re.Match object; span=(0, 11), match='sanket.wagh'>\n",
      "5 : san.ket_wagh     -> <re.Match object; span=(0, 12), match='san.ket_wagh'>\n",
      "6 : sanket2wagh      -> <re.Match object; span=(0, 11), match='sanket2wagh'>\n",
      "7 : @sanketwagh      -> None\n",
      "8 : sanket43wagh     -> <re.Match object; span=(0, 12), match='sanket43wagh'>\n"
     ]
    }
   ],
   "source": [
    "for i, time in enumerate(username_list, start=1):\n",
    "    print(f\"{str(i)} : {str(time)}\".ljust(20), \"->\", re.fullmatch(pattern_5, time))  #ljust is used for alignment "
   ]
  }
 ],
 "metadata": {
  "kernelspec": {
   "display_name": "Python 3",
   "language": "python",
   "name": "python3"
  },
  "language_info": {
   "codemirror_mode": {
    "name": "ipython",
    "version": 3
   },
   "file_extension": ".py",
   "mimetype": "text/x-python",
   "name": "python",
   "nbconvert_exporter": "python",
   "pygments_lexer": "ipython3",
   "version": "3.7.10"
  }
 },
 "nbformat": 4,
 "nbformat_minor": 5
}
