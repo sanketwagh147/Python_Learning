{
 "cells": [
  {
   "cell_type": "markdown",
   "metadata": {
    "id": "a_7gNQi8F3nw"
   },
   "source": [
    "# Introduction to Regular Expressions using Python."
   ]
  },
  {
   "cell_type": "code",
   "execution_count": 2,
   "metadata": {
    "id": "0gLo2Op5F945"
   },
   "outputs": [],
   "source": [
    "import re"
   ]
  },
  {
   "cell_type": "markdown",
   "metadata": {
    "id": "oDvhJ5b3GFoO"
   },
   "source": [
    "## Meta characters\n",
    ">Caret sign `^`: caret sign is used to search pattern at **start** of a string </br>\n",
    ">Dollar sign `$`: Dollar sign is used to search pattern at **end** of a string </br>\n",
    ">Hyphen sign `-`: Means a range for ex 0-9 </br>\n",
    ">Dot sign `.`: Find any single character except new line</br>\n"
   ]
  },
  {
   "cell_type": "code",
   "execution_count": 3,
   "metadata": {
    "id": "u0dMAkPvIa7C"
   },
   "outputs": [],
   "source": [
    "a_string = \"regex is important for data science\"\n"
   ]
  },
  {
   "cell_type": "code",
   "execution_count": 4,
   "metadata": {
    "id": "cfracI2rI4Nr"
   },
   "outputs": [],
   "source": [
    "# Here we create a pattern to search in start of the string\n",
    "pattern =\"^regex\"  # add ^(caret) in start so the pattern know to look at the start of the string"
   ]
  },
  {
   "cell_type": "code",
   "execution_count": 5,
   "metadata": {
    "colab": {
     "base_uri": "https://localhost:8080/"
    },
    "executionInfo": {
     "elapsed": 99,
     "status": "ok",
     "timestamp": 1630596789339,
     "user": {
      "displayName": "sanket wagh",
      "photoUrl": "https://lh3.googleusercontent.com/a-/AOh14GjogoLhhBdhjMYIC_S0yVo03kGMJ85Qq6n8GK5j=s64",
      "userId": "03057339639774993185"
     },
     "user_tz": 0
    },
    "id": "MOXOX61mI_Qa",
    "outputId": "50fde830-1b13-4b48-cc78-c10963b0cd10"
   },
   "outputs": [
    {
     "data": {
      "text/plain": "<re.Match object; span=(0, 5), match='regex'>"
     },
     "execution_count": 5,
     "metadata": {},
     "output_type": "execute_result"
    }
   ],
   "source": [
    "\n",
    "re.search(pattern,a_string)"
   ]
  },
  {
   "cell_type": "markdown",
   "metadata": {
    "id": "0FUmDVnHJCgj"
   },
   "source": [
    "##### The above returned object contains a match object which is `'regex'` and it spans from index 0 to 5 of the string"
   ]
  },
  {
   "cell_type": "code",
   "execution_count": 6,
   "metadata": {
    "colab": {
     "base_uri": "https://localhost:8080/"
    },
    "executionInfo": {
     "elapsed": 105,
     "status": "ok",
     "timestamp": 1630599851555,
     "user": {
      "displayName": "sanket wagh",
      "photoUrl": "https://lh3.googleusercontent.com/a-/AOh14GjogoLhhBdhjMYIC_S0yVo03kGMJ85Qq6n8GK5j=s64",
      "userId": "03057339639774993185"
     },
     "user_tz": 0
    },
    "id": "NiJLMdPxJ8CS",
    "outputId": "5717f65c-d6dc-4207-c70b-35f05d60c24d"
   },
   "outputs": [
    {
     "name": "stdout",
     "output_type": "stream",
     "text": [
      "None\n"
     ]
    }
   ],
   "source": [
    "# To create a pattern which matches the end of the string\n",
    "pattern_2  = 'regex$' # add $ in the end of the string \n",
    "print(re.search(pattern_2, a_string))"
   ]
  },
  {
   "cell_type": "markdown",
   "metadata": {
    "id": "96KgUWcdUhwy"
   },
   "source": [
    "#### Thus the pattern_2 did not find a matching character in the end of a_string which is \"regex\" and returns None\n"
   ]
  },
  {
   "cell_type": "code",
   "execution_count": 7,
   "metadata": {
    "id": "IbF3O7OjVViX"
   },
   "outputs": [
    {
     "data": {
      "text/plain": "<re.Match object; span=(28, 35), match='science'>"
     },
     "execution_count": 7,
     "metadata": {},
     "output_type": "execute_result"
    }
   ],
   "source": [
    "pattern_3 = \"science$\"\n",
    "re.search(pattern_3, a_string)"
   ]
  },
  {
   "cell_type": "markdown",
   "metadata": {},
   "source": [
    "#### Thus we found `\"science\"` in the end of the string "
   ]
  },
  {
   "cell_type": "markdown",
   "metadata": {},
   "source": [
    "### Quantifiers\n",
    "> Question Mark `?`: It means zero or one occurance of the preceding occurance.  </br>\n",
    "> Plus sign `+`:  means must have one or more occurance that preced `+` sign. </br>\n",
    "> Asterix `*`:"
   ]
  },
  {
   "cell_type": "markdown",
   "metadata": {},
   "source": [
    "# `?`"
   ]
  },
  {
   "cell_type": "code",
   "execution_count": 8,
   "metadata": {},
   "outputs": [],
   "source": [
    "b_string = \"fat is flavour\"\n",
    "c_string = \"fat is flavor\"\n",
    "d_string = \"fat is flavoir\""
   ]
  },
  {
   "cell_type": "code",
   "execution_count": 9,
   "metadata": {},
   "outputs": [
    {
     "data": {
      "text/plain": "(<re.Match object; span=(7, 14), match='flavour'>,\n <re.Match object; span=(7, 13), match='flavor'>,\n None)"
     },
     "execution_count": 9,
     "metadata": {},
     "output_type": "execute_result"
    }
   ],
   "source": [
    "# In case we want to mention optional letter in a pattern\n",
    "pattern_4 = \"flavou?r$\"  # ? is used to make u optional $ to search the end\n",
    "re.search(pattern_4, b_string), re.search(pattern_4, c_string), re.search(pattern_4, d_string)"
   ]
  },
  {
   "cell_type": "markdown",
   "metadata": {},
   "source": [
    "#### Both matched as the pattern_4 dictates that the character preceding `?` i.e `u` can be absent but if any other character is present instead of `u` don't match as seen in the d_string pattern matching"
   ]
  },
  {
   "cell_type": "markdown",
   "metadata": {},
   "source": [
    "# `+`"
   ]
  },
  {
   "cell_type": "code",
   "execution_count": 10,
   "metadata": {},
   "outputs": [
    {
     "data": {
      "text/plain": "(<re.Match object; span=(0, 7), match='pattern'>,\n <re.Match object; span=(0, 6), match='patern'>,\n <re.Match object; span=(0, 11), match='pattttttern'>,\n None)"
     },
     "execution_count": 10,
     "metadata": {},
     "output_type": "execute_result"
    }
   ],
   "source": [
    "# In case we want to match a character which will be one or more than one time\n",
    "pattern_5 = \"pat+ern\"  # + is added so the character preceding it can be present one more more than one times\n",
    "e_string = \"pattern\"\n",
    "f_string = \"patern\"\n",
    "g_string = \"pattttttern\"\n",
    "h_string = \"paern\"\n",
    "(re.search(pattern_5, e_string), \n",
    " re.search(pattern_5, f_string), \n",
    " re.search(pattern_5, g_string), \n",
    " re.search(pattern_5, h_string), )"
   ]
  },
  {
   "cell_type": "markdown",
   "metadata": {},
   "source": [
    "#### As first three search matches as each string has atleast single t, for fourth search no t present thus no match"
   ]
  },
  {
   "cell_type": "markdown",
   "metadata": {},
   "source": []
  },
  {
   "cell_type": "code",
   "execution_count": 10,
   "outputs": [],
   "source": [],
   "metadata": {
    "collapsed": false,
    "pycharm": {
     "name": "#%%\n"
    }
   }
  }
 ],
 "metadata": {
  "colab": {
   "authorship_tag": "ABX9TyN7nXzdmu/8z13BqbO0pBo4",
   "collapsed_sections": [],
   "name": "1_regex.ipynb",
   "provenance": []
  },
  "kernelspec": {
   "display_name": "Python 3",
   "language": "python",
   "name": "python3"
  },
  "language_info": {
   "codemirror_mode": {
    "name": "ipython",
    "version": 3
   },
   "file_extension": ".py",
   "mimetype": "text/x-python",
   "name": "python",
   "nbconvert_exporter": "python",
   "pygments_lexer": "ipython3",
   "version": "3.7.10"
  }
 },
 "nbformat": 4,
 "nbformat_minor": 4
}