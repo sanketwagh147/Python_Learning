{
 "cells": [
  {
   "cell_type": "markdown",
   "source": [
    "# Time Series Analysis using pandas\n"
   ],
   "metadata": {
    "collapsed": false,
    "pycharm": {
     "name": "#%% md\n"
    }
   }
  },
  {
   "cell_type": "code",
   "execution_count": 49,
   "metadata": {
    "collapsed": true
   },
   "outputs": [],
   "source": [
    "import pandas as pd\n",
    "import numpy as np\n",
    "import yfinance as yf\n",
    "import seaborn as sns\n",
    "from matplotlib import pyplot as plt"
   ]
  },
  {
   "cell_type": "code",
   "execution_count": 50,
   "outputs": [],
   "source": [
    "# Fetch stock market data df\n",
    "import yfinance as y\n",
    "def fetch(ticker_name, past =\"max\"):\n",
    "    ticker_data = yf.Ticker(ticker_name)\n",
    "    ticker_df_obj = ticker_data.history(period=past)\n",
    "    ticker_df = pd.DataFrame(ticker_df_obj)\n",
    "    return ticker_df\n",
    "indusindbk = fetch(\"INDUSINDBK.NS\")\n",
    "indusindbk = indusindbk.reset_index()"
   ],
   "metadata": {
    "collapsed": false,
    "pycharm": {
     "name": "#%%\n"
    }
   }
  },
  {
   "cell_type": "code",
   "execution_count": 51,
   "outputs": [],
   "source": [],
   "metadata": {
    "collapsed": false,
    "pycharm": {
     "name": "#%%\n"
    }
   }
  },
  {
   "cell_type": "code",
   "execution_count": 52,
   "outputs": [
    {
     "data": {
      "text/plain": "        Date       Open       High        Low      Close  Volume  Dividends  \\\n0 2002-07-01  13.651971  13.947149  13.504382  13.725766   84409        0.0   \n\n   Stock Splits  \n0             0  ",
      "text/html": "<div>\n<style scoped>\n    .dataframe tbody tr th:only-of-type {\n        vertical-align: middle;\n    }\n\n    .dataframe tbody tr th {\n        vertical-align: top;\n    }\n\n    .dataframe thead th {\n        text-align: right;\n    }\n</style>\n<table border=\"1\" class=\"dataframe\">\n  <thead>\n    <tr style=\"text-align: right;\">\n      <th></th>\n      <th>Date</th>\n      <th>Open</th>\n      <th>High</th>\n      <th>Low</th>\n      <th>Close</th>\n      <th>Volume</th>\n      <th>Dividends</th>\n      <th>Stock Splits</th>\n    </tr>\n  </thead>\n  <tbody>\n    <tr>\n      <th>0</th>\n      <td>2002-07-01</td>\n      <td>13.651971</td>\n      <td>13.947149</td>\n      <td>13.504382</td>\n      <td>13.725766</td>\n      <td>84409</td>\n      <td>0.0</td>\n      <td>0</td>\n    </tr>\n  </tbody>\n</table>\n</div>"
     },
     "execution_count": 52,
     "metadata": {},
     "output_type": "execute_result"
    }
   ],
   "source": [
    "indusindbk.head(1)"
   ],
   "metadata": {
    "collapsed": false,
    "pycharm": {
     "name": "#%%\n"
    }
   }
  },
  {
   "cell_type": "code",
   "execution_count": 53,
   "outputs": [
    {
     "data": {
      "text/plain": "(4770, 8)"
     },
     "execution_count": 53,
     "metadata": {},
     "output_type": "execute_result"
    }
   ],
   "source": [
    "# return shape\n",
    "indusindbk.shape"
   ],
   "metadata": {
    "collapsed": false,
    "pycharm": {
     "name": "#%%\n"
    }
   }
  },
  {
   "cell_type": "code",
   "execution_count": 54,
   "outputs": [
    {
     "data": {
      "text/plain": "RangeIndex(start=0, stop=4770, step=1)"
     },
     "execution_count": 54,
     "metadata": {},
     "output_type": "execute_result"
    }
   ],
   "source": [
    "indusindbk.index"
   ],
   "metadata": {
    "collapsed": false,
    "pycharm": {
     "name": "#%%\n"
    }
   }
  },
  {
   "cell_type": "code",
   "execution_count": 55,
   "outputs": [
    {
     "name": "stdout",
     "output_type": "stream",
     "text": [
      "2021-09-16 00:00:00   :   Thursday\n",
      "2021-09-17 00:00:00   :   Friday\n",
      "2021-09-20 00:00:00   :   Monday\n",
      "2021-09-21 00:00:00   :   Tuesday\n",
      "2021-09-22 00:00:00   :   Wednesday\n",
      "2021-09-23 00:00:00   :   Thursday\n",
      "2021-09-24 00:00:00   :   Friday\n",
      "2021-09-27 00:00:00   :   Monday\n",
      "2021-09-28 00:00:00   :   Tuesday\n",
      "2021-09-29 00:00:00   :   Wednesday\n"
     ]
    }
   ],
   "source": [
    "for i in indusindbk.tail(10).loc[:, \"Date\"]:\n",
    "    print(i,\"  :  \", i.day_name())\n"
   ],
   "metadata": {
    "collapsed": false,
    "pycharm": {
     "name": "#%%\n"
    }
   }
  },
  {
   "cell_type": "code",
   "execution_count": 56,
   "outputs": [],
   "source": [
    "indusindbk.set_index(\"Date\", inplace=True)"
   ],
   "metadata": {
    "collapsed": false,
    "pycharm": {
     "name": "#%%\n"
    }
   }
  },
  {
   "cell_type": "code",
   "execution_count": 57,
   "outputs": [
    {
     "data": {
      "text/plain": "                 Open       High        Low      Close  Volume  Dividends  \\\nDate                                                                        \n2002-07-01  13.651971  13.947149  13.504382  13.725766   84409        0.0   \n2002-07-02  13.725761  14.020939  13.651967  13.762658   34616        0.0   \n2002-07-03  13.762664  14.020944  13.024719  13.246103   89445        0.0   \n2002-07-04  13.467482  13.541277  13.209201  13.282996   58765        0.0   \n2002-07-05  13.172305  13.430586  13.024716  13.356791   30847        0.0   \n\n            Stock Splits  \nDate                      \n2002-07-01             0  \n2002-07-02             0  \n2002-07-03             0  \n2002-07-04             0  \n2002-07-05             0  ",
      "text/html": "<div>\n<style scoped>\n    .dataframe tbody tr th:only-of-type {\n        vertical-align: middle;\n    }\n\n    .dataframe tbody tr th {\n        vertical-align: top;\n    }\n\n    .dataframe thead th {\n        text-align: right;\n    }\n</style>\n<table border=\"1\" class=\"dataframe\">\n  <thead>\n    <tr style=\"text-align: right;\">\n      <th></th>\n      <th>Open</th>\n      <th>High</th>\n      <th>Low</th>\n      <th>Close</th>\n      <th>Volume</th>\n      <th>Dividends</th>\n      <th>Stock Splits</th>\n    </tr>\n    <tr>\n      <th>Date</th>\n      <th></th>\n      <th></th>\n      <th></th>\n      <th></th>\n      <th></th>\n      <th></th>\n      <th></th>\n    </tr>\n  </thead>\n  <tbody>\n    <tr>\n      <th>2002-07-01</th>\n      <td>13.651971</td>\n      <td>13.947149</td>\n      <td>13.504382</td>\n      <td>13.725766</td>\n      <td>84409</td>\n      <td>0.0</td>\n      <td>0</td>\n    </tr>\n    <tr>\n      <th>2002-07-02</th>\n      <td>13.725761</td>\n      <td>14.020939</td>\n      <td>13.651967</td>\n      <td>13.762658</td>\n      <td>34616</td>\n      <td>0.0</td>\n      <td>0</td>\n    </tr>\n    <tr>\n      <th>2002-07-03</th>\n      <td>13.762664</td>\n      <td>14.020944</td>\n      <td>13.024719</td>\n      <td>13.246103</td>\n      <td>89445</td>\n      <td>0.0</td>\n      <td>0</td>\n    </tr>\n    <tr>\n      <th>2002-07-04</th>\n      <td>13.467482</td>\n      <td>13.541277</td>\n      <td>13.209201</td>\n      <td>13.282996</td>\n      <td>58765</td>\n      <td>0.0</td>\n      <td>0</td>\n    </tr>\n    <tr>\n      <th>2002-07-05</th>\n      <td>13.172305</td>\n      <td>13.430586</td>\n      <td>13.024716</td>\n      <td>13.356791</td>\n      <td>30847</td>\n      <td>0.0</td>\n      <td>0</td>\n    </tr>\n  </tbody>\n</table>\n</div>"
     },
     "execution_count": 57,
     "metadata": {},
     "output_type": "execute_result"
    }
   ],
   "source": [
    "indusindbk.head()"
   ],
   "metadata": {
    "collapsed": false,
    "pycharm": {
     "name": "#%%\n"
    }
   }
  },
  {
   "cell_type": "code",
   "execution_count": 69,
   "outputs": [
    {
     "data": {
      "text/plain": "Index(['Open', 'High', 'Low', 'Close', 'Volume', 'Dividends', 'Stock Splits'], dtype='object')"
     },
     "execution_count": 69,
     "metadata": {},
     "output_type": "execute_result"
    }
   ],
   "source": [
    "indusindbk.columns"
   ],
   "metadata": {
    "collapsed": false,
    "pycharm": {
     "name": "#%%\n"
    }
   }
  },
  {
   "cell_type": "code",
   "execution_count": 73,
   "outputs": [
    {
     "data": {
      "text/plain": "Date\n2002-07-01       Monday\n2002-07-02      Tuesday\n2002-07-03    Wednesday\n2002-07-04     Thursday\n2002-07-05       Friday\n                ...    \n2021-09-23     Thursday\n2021-09-24       Friday\n2021-09-27       Monday\n2021-09-28      Tuesday\n2021-09-29    Wednesday\nName: Date, Length: 4770, dtype: object"
     },
     "execution_count": 73,
     "metadata": {},
     "output_type": "execute_result"
    }
   ],
   "source": [
    "indusindbk.index.to_frame()[\"Date\"].dt.day_name()"
   ],
   "metadata": {
    "collapsed": false,
    "pycharm": {
     "name": "#%%\n"
    }
   }
  },
  {
   "cell_type": "code",
   "execution_count": 98,
   "outputs": [
    {
     "data": {
      "text/plain": "'Date'"
     },
     "execution_count": 98,
     "metadata": {},
     "output_type": "execute_result"
    }
   ],
   "source": [
    "indusindbk[\"Day\"] = indusindbk.index.to_frame()[\"Date\"].dt.day_name()\n",
    "indusindbk.index.name"
   ],
   "metadata": {
    "collapsed": false,
    "pycharm": {
     "name": "#%%\n"
    }
   }
  },
  {
   "cell_type": "code",
   "execution_count": 99,
   "outputs": [],
   "source": [
    "old = indusindbk.index.min()"
   ],
   "metadata": {
    "collapsed": false,
    "pycharm": {
     "name": "#%%\n"
    }
   }
  },
  {
   "cell_type": "code",
   "execution_count": 100,
   "outputs": [],
   "source": [
    "late = indusindbk.index.max()"
   ],
   "metadata": {
    "collapsed": false,
    "pycharm": {
     "name": "#%%\n"
    }
   }
  },
  {
   "cell_type": "code",
   "execution_count": 101,
   "outputs": [
    {
     "data": {
      "text/plain": "Timedelta('7030 days 00:00:00')"
     },
     "execution_count": 101,
     "metadata": {},
     "output_type": "execute_result"
    }
   ],
   "source": [
    "late - old"
   ],
   "metadata": {
    "collapsed": false,
    "pycharm": {
     "name": "#%%\n"
    }
   }
  },
  {
   "cell_type": "code",
   "execution_count": 103,
   "outputs": [
    {
     "data": {
      "text/plain": "                   Open         High          Low        Close    Volume  \\\nDate                                                                       \n2019-01-01  1583.777287  1588.726591  1544.727326  1579.421875   4043870   \n2019-01-02  1571.503094  1581.797671  1552.349310  1560.614624   1164974   \n2019-01-03  1557.051089  1563.980115  1539.877028  1544.281860    958038   \n2019-01-04  1544.974784  1555.071316  1524.583555  1532.502441   1868151   \n2019-01-07  1545.172649  1593.675826  1534.779111  1543.341431   3991996   \n...                 ...          ...          ...          ...       ...   \n2020-12-24   857.770348   865.731094   844.933621   848.615479  10293688   \n2020-12-28   850.804729   866.726221   848.814543   862.696106   5449095   \n2020-12-29   870.706596   913.147347   869.213956   908.420654  20727636   \n2020-12-30   914.540414   918.172529   883.642782   894.638550  11462263   \n2020-12-31   899.564298   902.450092   885.682735   890.558716   6435333   \n\n            Dividends  Stock Splits        Day  \nDate                                            \n2019-01-01        0.0             0    Tuesday  \n2019-01-02        0.0             0  Wednesday  \n2019-01-03        0.0             0   Thursday  \n2019-01-04        0.0             0     Friday  \n2019-01-07        0.0             0     Monday  \n...               ...           ...        ...  \n2020-12-24        0.0             0   Thursday  \n2020-12-28        0.0             0     Monday  \n2020-12-29        0.0             0    Tuesday  \n2020-12-30        0.0             0  Wednesday  \n2020-12-31        0.0             0   Thursday  \n\n[492 rows x 8 columns]",
      "text/html": "<div>\n<style scoped>\n    .dataframe tbody tr th:only-of-type {\n        vertical-align: middle;\n    }\n\n    .dataframe tbody tr th {\n        vertical-align: top;\n    }\n\n    .dataframe thead th {\n        text-align: right;\n    }\n</style>\n<table border=\"1\" class=\"dataframe\">\n  <thead>\n    <tr style=\"text-align: right;\">\n      <th></th>\n      <th>Open</th>\n      <th>High</th>\n      <th>Low</th>\n      <th>Close</th>\n      <th>Volume</th>\n      <th>Dividends</th>\n      <th>Stock Splits</th>\n      <th>Day</th>\n    </tr>\n    <tr>\n      <th>Date</th>\n      <th></th>\n      <th></th>\n      <th></th>\n      <th></th>\n      <th></th>\n      <th></th>\n      <th></th>\n      <th></th>\n    </tr>\n  </thead>\n  <tbody>\n    <tr>\n      <th>2019-01-01</th>\n      <td>1583.777287</td>\n      <td>1588.726591</td>\n      <td>1544.727326</td>\n      <td>1579.421875</td>\n      <td>4043870</td>\n      <td>0.0</td>\n      <td>0</td>\n      <td>Tuesday</td>\n    </tr>\n    <tr>\n      <th>2019-01-02</th>\n      <td>1571.503094</td>\n      <td>1581.797671</td>\n      <td>1552.349310</td>\n      <td>1560.614624</td>\n      <td>1164974</td>\n      <td>0.0</td>\n      <td>0</td>\n      <td>Wednesday</td>\n    </tr>\n    <tr>\n      <th>2019-01-03</th>\n      <td>1557.051089</td>\n      <td>1563.980115</td>\n      <td>1539.877028</td>\n      <td>1544.281860</td>\n      <td>958038</td>\n      <td>0.0</td>\n      <td>0</td>\n      <td>Thursday</td>\n    </tr>\n    <tr>\n      <th>2019-01-04</th>\n      <td>1544.974784</td>\n      <td>1555.071316</td>\n      <td>1524.583555</td>\n      <td>1532.502441</td>\n      <td>1868151</td>\n      <td>0.0</td>\n      <td>0</td>\n      <td>Friday</td>\n    </tr>\n    <tr>\n      <th>2019-01-07</th>\n      <td>1545.172649</td>\n      <td>1593.675826</td>\n      <td>1534.779111</td>\n      <td>1543.341431</td>\n      <td>3991996</td>\n      <td>0.0</td>\n      <td>0</td>\n      <td>Monday</td>\n    </tr>\n    <tr>\n      <th>...</th>\n      <td>...</td>\n      <td>...</td>\n      <td>...</td>\n      <td>...</td>\n      <td>...</td>\n      <td>...</td>\n      <td>...</td>\n      <td>...</td>\n    </tr>\n    <tr>\n      <th>2020-12-24</th>\n      <td>857.770348</td>\n      <td>865.731094</td>\n      <td>844.933621</td>\n      <td>848.615479</td>\n      <td>10293688</td>\n      <td>0.0</td>\n      <td>0</td>\n      <td>Thursday</td>\n    </tr>\n    <tr>\n      <th>2020-12-28</th>\n      <td>850.804729</td>\n      <td>866.726221</td>\n      <td>848.814543</td>\n      <td>862.696106</td>\n      <td>5449095</td>\n      <td>0.0</td>\n      <td>0</td>\n      <td>Monday</td>\n    </tr>\n    <tr>\n      <th>2020-12-29</th>\n      <td>870.706596</td>\n      <td>913.147347</td>\n      <td>869.213956</td>\n      <td>908.420654</td>\n      <td>20727636</td>\n      <td>0.0</td>\n      <td>0</td>\n      <td>Tuesday</td>\n    </tr>\n    <tr>\n      <th>2020-12-30</th>\n      <td>914.540414</td>\n      <td>918.172529</td>\n      <td>883.642782</td>\n      <td>894.638550</td>\n      <td>11462263</td>\n      <td>0.0</td>\n      <td>0</td>\n      <td>Wednesday</td>\n    </tr>\n    <tr>\n      <th>2020-12-31</th>\n      <td>899.564298</td>\n      <td>902.450092</td>\n      <td>885.682735</td>\n      <td>890.558716</td>\n      <td>6435333</td>\n      <td>0.0</td>\n      <td>0</td>\n      <td>Thursday</td>\n    </tr>\n  </tbody>\n</table>\n<p>492 rows × 8 columns</p>\n</div>"
     },
     "execution_count": 103,
     "metadata": {},
     "output_type": "execute_result"
    }
   ],
   "source": [
    "filt =( (indusindbk.index >= '2019') &\n",
    "        (indusindbk.index< '2021'))\n",
    "indusindbk.loc[filt]"
   ],
   "metadata": {
    "collapsed": false,
    "pycharm": {
     "name": "#%%\n"
    }
   }
  },
  {
   "cell_type": "code",
   "execution_count": 104,
   "outputs": [
    {
     "data": {
      "text/plain": "                   Open         High          Low        Close   Volume  \\\nDate                                                                      \n2019-01-01  1583.777287  1588.726591  1544.727326  1579.421875  4043870   \n2019-01-02  1571.503094  1581.797671  1552.349310  1560.614624  1164974   \n2019-01-03  1557.051089  1563.980115  1539.877028  1544.281860   958038   \n2019-01-04  1544.974784  1555.071316  1524.583555  1532.502441  1868151   \n2019-01-07  1545.172649  1593.675826  1534.779111  1543.341431  3991996   \n...                 ...          ...          ...          ...      ...   \n2019-12-24  1487.664340  1524.482789  1487.664340  1514.382568  4488835   \n2019-12-26  1509.655965  1522.094631  1497.267103  1507.964355  2265163   \n2019-12-27  1517.218633  1532.443608  1504.680482  1517.417725  1755565   \n2019-12-30  1517.417636  1544.882184  1510.601272  1523.885742  2526529   \n2019-12-31  1523.885840  1527.269182  1497.615354  1502.590820  1979911   \n\n            Dividends  Stock Splits        Day  \nDate                                            \n2019-01-01        0.0             0    Tuesday  \n2019-01-02        0.0             0  Wednesday  \n2019-01-03        0.0             0   Thursday  \n2019-01-04        0.0             0     Friday  \n2019-01-07        0.0             0     Monday  \n...               ...           ...        ...  \n2019-12-24        0.0             0    Tuesday  \n2019-12-26        0.0             0   Thursday  \n2019-12-27        0.0             0     Friday  \n2019-12-30        0.0             0     Monday  \n2019-12-31        0.0             0    Tuesday  \n\n[242 rows x 8 columns]",
      "text/html": "<div>\n<style scoped>\n    .dataframe tbody tr th:only-of-type {\n        vertical-align: middle;\n    }\n\n    .dataframe tbody tr th {\n        vertical-align: top;\n    }\n\n    .dataframe thead th {\n        text-align: right;\n    }\n</style>\n<table border=\"1\" class=\"dataframe\">\n  <thead>\n    <tr style=\"text-align: right;\">\n      <th></th>\n      <th>Open</th>\n      <th>High</th>\n      <th>Low</th>\n      <th>Close</th>\n      <th>Volume</th>\n      <th>Dividends</th>\n      <th>Stock Splits</th>\n      <th>Day</th>\n    </tr>\n    <tr>\n      <th>Date</th>\n      <th></th>\n      <th></th>\n      <th></th>\n      <th></th>\n      <th></th>\n      <th></th>\n      <th></th>\n      <th></th>\n    </tr>\n  </thead>\n  <tbody>\n    <tr>\n      <th>2019-01-01</th>\n      <td>1583.777287</td>\n      <td>1588.726591</td>\n      <td>1544.727326</td>\n      <td>1579.421875</td>\n      <td>4043870</td>\n      <td>0.0</td>\n      <td>0</td>\n      <td>Tuesday</td>\n    </tr>\n    <tr>\n      <th>2019-01-02</th>\n      <td>1571.503094</td>\n      <td>1581.797671</td>\n      <td>1552.349310</td>\n      <td>1560.614624</td>\n      <td>1164974</td>\n      <td>0.0</td>\n      <td>0</td>\n      <td>Wednesday</td>\n    </tr>\n    <tr>\n      <th>2019-01-03</th>\n      <td>1557.051089</td>\n      <td>1563.980115</td>\n      <td>1539.877028</td>\n      <td>1544.281860</td>\n      <td>958038</td>\n      <td>0.0</td>\n      <td>0</td>\n      <td>Thursday</td>\n    </tr>\n    <tr>\n      <th>2019-01-04</th>\n      <td>1544.974784</td>\n      <td>1555.071316</td>\n      <td>1524.583555</td>\n      <td>1532.502441</td>\n      <td>1868151</td>\n      <td>0.0</td>\n      <td>0</td>\n      <td>Friday</td>\n    </tr>\n    <tr>\n      <th>2019-01-07</th>\n      <td>1545.172649</td>\n      <td>1593.675826</td>\n      <td>1534.779111</td>\n      <td>1543.341431</td>\n      <td>3991996</td>\n      <td>0.0</td>\n      <td>0</td>\n      <td>Monday</td>\n    </tr>\n    <tr>\n      <th>...</th>\n      <td>...</td>\n      <td>...</td>\n      <td>...</td>\n      <td>...</td>\n      <td>...</td>\n      <td>...</td>\n      <td>...</td>\n      <td>...</td>\n    </tr>\n    <tr>\n      <th>2019-12-24</th>\n      <td>1487.664340</td>\n      <td>1524.482789</td>\n      <td>1487.664340</td>\n      <td>1514.382568</td>\n      <td>4488835</td>\n      <td>0.0</td>\n      <td>0</td>\n      <td>Tuesday</td>\n    </tr>\n    <tr>\n      <th>2019-12-26</th>\n      <td>1509.655965</td>\n      <td>1522.094631</td>\n      <td>1497.267103</td>\n      <td>1507.964355</td>\n      <td>2265163</td>\n      <td>0.0</td>\n      <td>0</td>\n      <td>Thursday</td>\n    </tr>\n    <tr>\n      <th>2019-12-27</th>\n      <td>1517.218633</td>\n      <td>1532.443608</td>\n      <td>1504.680482</td>\n      <td>1517.417725</td>\n      <td>1755565</td>\n      <td>0.0</td>\n      <td>0</td>\n      <td>Friday</td>\n    </tr>\n    <tr>\n      <th>2019-12-30</th>\n      <td>1517.417636</td>\n      <td>1544.882184</td>\n      <td>1510.601272</td>\n      <td>1523.885742</td>\n      <td>2526529</td>\n      <td>0.0</td>\n      <td>0</td>\n      <td>Monday</td>\n    </tr>\n    <tr>\n      <th>2019-12-31</th>\n      <td>1523.885840</td>\n      <td>1527.269182</td>\n      <td>1497.615354</td>\n      <td>1502.590820</td>\n      <td>1979911</td>\n      <td>0.0</td>\n      <td>0</td>\n      <td>Tuesday</td>\n    </tr>\n  </tbody>\n</table>\n<p>242 rows × 8 columns</p>\n</div>"
     },
     "execution_count": 104,
     "metadata": {},
     "output_type": "execute_result"
    }
   ],
   "source": [
    "filt =( (indusindbk.index >= pd.to_datetime('2019-01-01'))&\n",
    "        (indusindbk.index < pd.to_datetime('2020-01-01')))\n",
    "indusindbk.loc[filt]"
   ],
   "metadata": {
    "collapsed": false,
    "pycharm": {
     "name": "#%%\n"
    }
   }
  },
  {
   "cell_type": "code",
   "execution_count": 107,
   "outputs": [
    {
     "data": {
      "text/plain": "                  Close         High          Low    Volume\nDate                                                       \n2002-07-07    13.474863    14.020944    13.024716    298082\n2002-07-14    13.430586    13.947149    12.914024    212974\n2002-07-21    12.596710    13.135408    12.323672    112052\n2002-07-28    11.903042    12.360568    11.659520    184397\n2002-08-04    11.777592    12.545054    11.438138    168493\n...                 ...          ...          ...       ...\n2021-09-05  1002.019995  1028.650024   990.000000  17362168\n2021-09-12   998.074997  1021.799988   984.150024  18412372\n2021-09-19  1069.559973  1186.500000   992.650024  49311272\n2021-09-26  1140.220020  1189.349976  1084.599976  24368841\n2021-10-03  1134.016642  1177.949951  1114.099976   7029524\n\n[1005 rows x 4 columns]",
      "text/html": "<div>\n<style scoped>\n    .dataframe tbody tr th:only-of-type {\n        vertical-align: middle;\n    }\n\n    .dataframe tbody tr th {\n        vertical-align: top;\n    }\n\n    .dataframe thead th {\n        text-align: right;\n    }\n</style>\n<table border=\"1\" class=\"dataframe\">\n  <thead>\n    <tr style=\"text-align: right;\">\n      <th></th>\n      <th>Close</th>\n      <th>High</th>\n      <th>Low</th>\n      <th>Volume</th>\n    </tr>\n    <tr>\n      <th>Date</th>\n      <th></th>\n      <th></th>\n      <th></th>\n      <th></th>\n    </tr>\n  </thead>\n  <tbody>\n    <tr>\n      <th>2002-07-07</th>\n      <td>13.474863</td>\n      <td>14.020944</td>\n      <td>13.024716</td>\n      <td>298082</td>\n    </tr>\n    <tr>\n      <th>2002-07-14</th>\n      <td>13.430586</td>\n      <td>13.947149</td>\n      <td>12.914024</td>\n      <td>212974</td>\n    </tr>\n    <tr>\n      <th>2002-07-21</th>\n      <td>12.596710</td>\n      <td>13.135408</td>\n      <td>12.323672</td>\n      <td>112052</td>\n    </tr>\n    <tr>\n      <th>2002-07-28</th>\n      <td>11.903042</td>\n      <td>12.360568</td>\n      <td>11.659520</td>\n      <td>184397</td>\n    </tr>\n    <tr>\n      <th>2002-08-04</th>\n      <td>11.777592</td>\n      <td>12.545054</td>\n      <td>11.438138</td>\n      <td>168493</td>\n    </tr>\n    <tr>\n      <th>...</th>\n      <td>...</td>\n      <td>...</td>\n      <td>...</td>\n      <td>...</td>\n    </tr>\n    <tr>\n      <th>2021-09-05</th>\n      <td>1002.019995</td>\n      <td>1028.650024</td>\n      <td>990.000000</td>\n      <td>17362168</td>\n    </tr>\n    <tr>\n      <th>2021-09-12</th>\n      <td>998.074997</td>\n      <td>1021.799988</td>\n      <td>984.150024</td>\n      <td>18412372</td>\n    </tr>\n    <tr>\n      <th>2021-09-19</th>\n      <td>1069.559973</td>\n      <td>1186.500000</td>\n      <td>992.650024</td>\n      <td>49311272</td>\n    </tr>\n    <tr>\n      <th>2021-09-26</th>\n      <td>1140.220020</td>\n      <td>1189.349976</td>\n      <td>1084.599976</td>\n      <td>24368841</td>\n    </tr>\n    <tr>\n      <th>2021-10-03</th>\n      <td>1134.016642</td>\n      <td>1177.949951</td>\n      <td>1114.099976</td>\n      <td>7029524</td>\n    </tr>\n  </tbody>\n</table>\n<p>1005 rows × 4 columns</p>\n</div>"
     },
     "execution_count": 107,
     "metadata": {},
     "output_type": "execute_result"
    }
   ],
   "source": [
    "weekly = indusindbk.resample(\"W\").agg({\"Close\": \"mean\", \"High\": \"max\", \"Low\": \"min\", \"Volume\": \"sum\"})\n",
    "weekly"
   ],
   "metadata": {
    "collapsed": false,
    "pycharm": {
     "name": "#%%\n"
    }
   }
  },
  {
   "cell_type": "code",
   "execution_count": 109,
   "outputs": [],
   "source": [
    "weekly.to_csv(\"weekly_indusind.csv\")"
   ],
   "metadata": {
    "collapsed": false,
    "pycharm": {
     "name": "#%%\n"
    }
   }
  },
  {
   "cell_type": "code",
   "execution_count": 110,
   "outputs": [
    {
     "name": "stdout",
     "output_type": "stream",
     "text": [
      "Requirement already satisfied: xlwt in c:\\programdata\\anaconda3\\lib\\site-packages (1.3.0)\n",
      "Requirement already satisfied: openpyxl in c:\\programdata\\anaconda3\\lib\\site-packages (3.0.7)\n",
      "Requirement already satisfied: xlrd in c:\\programdata\\anaconda3\\lib\\site-packages (2.0.1)\n",
      "Requirement already satisfied: et-xmlfile in c:\\programdata\\anaconda3\\lib\\site-packages (from openpyxl) (1.1.0)\n"
     ]
    },
    {
     "name": "stderr",
     "output_type": "stream",
     "text": [
      "WARNING: Ignoring invalid distribution -lalchemy (c:\\programdata\\anaconda3\\lib\\site-packages)\n",
      "WARNING: Ignoring invalid distribution -qlalchemy (c:\\programdata\\anaconda3\\lib\\site-packages)\n",
      "WARNING: Ignoring invalid distribution -lalchemy (c:\\programdata\\anaconda3\\lib\\site-packages)\n",
      "WARNING: Ignoring invalid distribution - (c:\\programdata\\anaconda3\\lib\\site-packages)\n",
      "WARNING: Ignoring invalid distribution -egex (c:\\programdata\\anaconda3\\lib\\site-packages)\n",
      "WARNING: Ignoring invalid distribution -lalchemy (c:\\programdata\\anaconda3\\lib\\site-packages)\n",
      "WARNING: Ignoring invalid distribution -qlalchemy (c:\\programdata\\anaconda3\\lib\\site-packages)\n",
      "WARNING: Ignoring invalid distribution -lalchemy (c:\\programdata\\anaconda3\\lib\\site-packages)\n",
      "WARNING: Ignoring invalid distribution - (c:\\programdata\\anaconda3\\lib\\site-packages)\n",
      "WARNING: Ignoring invalid distribution -egex (c:\\programdata\\anaconda3\\lib\\site-packages)\n",
      "WARNING: Ignoring invalid distribution -lalchemy (c:\\programdata\\anaconda3\\lib\\site-packages)\n",
      "WARNING: Ignoring invalid distribution -qlalchemy (c:\\programdata\\anaconda3\\lib\\site-packages)\n",
      "WARNING: Ignoring invalid distribution -lalchemy (c:\\programdata\\anaconda3\\lib\\site-packages)\n",
      "WARNING: Ignoring invalid distribution - (c:\\programdata\\anaconda3\\lib\\site-packages)\n",
      "WARNING: Ignoring invalid distribution -egex (c:\\programdata\\anaconda3\\lib\\site-packages)\n",
      "WARNING: Ignoring invalid distribution -lalchemy (c:\\programdata\\anaconda3\\lib\\site-packages)\n",
      "WARNING: Ignoring invalid distribution -qlalchemy (c:\\programdata\\anaconda3\\lib\\site-packages)\n",
      "WARNING: Ignoring invalid distribution -lalchemy (c:\\programdata\\anaconda3\\lib\\site-packages)\n",
      "WARNING: Ignoring invalid distribution - (c:\\programdata\\anaconda3\\lib\\site-packages)\n",
      "WARNING: Ignoring invalid distribution -egex (c:\\programdata\\anaconda3\\lib\\site-packages)\n",
      "WARNING: Ignoring invalid distribution -lalchemy (c:\\programdata\\anaconda3\\lib\\site-packages)\n",
      "WARNING: Ignoring invalid distribution -qlalchemy (c:\\programdata\\anaconda3\\lib\\site-packages)\n",
      "WARNING: Ignoring invalid distribution -lalchemy (c:\\programdata\\anaconda3\\lib\\site-packages)\n",
      "WARNING: Ignoring invalid distribution - (c:\\programdata\\anaconda3\\lib\\site-packages)\n",
      "WARNING: Ignoring invalid distribution -egex (c:\\programdata\\anaconda3\\lib\\site-packages)\n",
      "WARNING: Ignoring invalid distribution -lalchemy (c:\\programdata\\anaconda3\\lib\\site-packages)\n",
      "WARNING: Ignoring invalid distribution -qlalchemy (c:\\programdata\\anaconda3\\lib\\site-packages)\n",
      "WARNING: Ignoring invalid distribution -lalchemy (c:\\programdata\\anaconda3\\lib\\site-packages)\n",
      "WARNING: Ignoring invalid distribution - (c:\\programdata\\anaconda3\\lib\\site-packages)\n",
      "WARNING: Ignoring invalid distribution -egex (c:\\programdata\\anaconda3\\lib\\site-packages)\n"
     ]
    }
   ],
   "source": [
    "!pip install xlwt openpyxl xlrd"
   ],
   "metadata": {
    "collapsed": false,
    "pycharm": {
     "name": "#%%\n"
    }
   }
  },
  {
   "cell_type": "code",
   "execution_count": 112,
   "outputs": [],
   "source": [
    "weekly.to_excel(\"weekly_indusind.xlsx\")"
   ],
   "metadata": {
    "collapsed": false,
    "pycharm": {
     "name": "#%%\n"
    }
   }
  },
  {
   "cell_type": "code",
   "execution_count": 113,
   "outputs": [],
   "source": [
    "weekly.to_json(\"weekly_indusind.json\")"
   ],
   "metadata": {
    "collapsed": false,
    "pycharm": {
     "name": "#%%\n"
    }
   }
  },
  {
   "cell_type": "code",
   "execution_count": 114,
   "outputs": [
    {
     "name": "stdout",
     "output_type": "stream",
     "text": [
      "Collecting psycopg2-binary\n",
      "  Downloading psycopg2_binary-2.9.1-cp37-cp37m-win_amd64.whl (1.1 MB)\n",
      "Installing collected packages: psycopg2-binary\n",
      "Successfully installed psycopg2-binary-2.9.1\n"
     ]
    },
    {
     "name": "stderr",
     "output_type": "stream",
     "text": [
      "WARNING: Ignoring invalid distribution -lalchemy (c:\\programdata\\anaconda3\\lib\\site-packages)\n",
      "WARNING: Ignoring invalid distribution -qlalchemy (c:\\programdata\\anaconda3\\lib\\site-packages)\n",
      "WARNING: Ignoring invalid distribution -lalchemy (c:\\programdata\\anaconda3\\lib\\site-packages)\n",
      "WARNING: Ignoring invalid distribution - (c:\\programdata\\anaconda3\\lib\\site-packages)\n",
      "WARNING: Ignoring invalid distribution -egex (c:\\programdata\\anaconda3\\lib\\site-packages)\n",
      "WARNING: Ignoring invalid distribution -lalchemy (c:\\programdata\\anaconda3\\lib\\site-packages)\n",
      "WARNING: Ignoring invalid distribution -qlalchemy (c:\\programdata\\anaconda3\\lib\\site-packages)\n",
      "WARNING: Ignoring invalid distribution -lalchemy (c:\\programdata\\anaconda3\\lib\\site-packages)\n",
      "WARNING: Ignoring invalid distribution - (c:\\programdata\\anaconda3\\lib\\site-packages)\n",
      "WARNING: Ignoring invalid distribution -egex (c:\\programdata\\anaconda3\\lib\\site-packages)\n",
      "WARNING: Ignoring invalid distribution -lalchemy (c:\\programdata\\anaconda3\\lib\\site-packages)\n",
      "WARNING: Ignoring invalid distribution -qlalchemy (c:\\programdata\\anaconda3\\lib\\site-packages)\n",
      "WARNING: Ignoring invalid distribution -lalchemy (c:\\programdata\\anaconda3\\lib\\site-packages)\n",
      "WARNING: Ignoring invalid distribution - (c:\\programdata\\anaconda3\\lib\\site-packages)\n",
      "WARNING: Ignoring invalid distribution -egex (c:\\programdata\\anaconda3\\lib\\site-packages)\n",
      "WARNING: Ignoring invalid distribution -lalchemy (c:\\programdata\\anaconda3\\lib\\site-packages)\n",
      "WARNING: Ignoring invalid distribution -qlalchemy (c:\\programdata\\anaconda3\\lib\\site-packages)\n",
      "WARNING: Ignoring invalid distribution -lalchemy (c:\\programdata\\anaconda3\\lib\\site-packages)\n",
      "WARNING: Ignoring invalid distribution - (c:\\programdata\\anaconda3\\lib\\site-packages)\n",
      "WARNING: Ignoring invalid distribution -egex (c:\\programdata\\anaconda3\\lib\\site-packages)\n",
      "WARNING: Ignoring invalid distribution -lalchemy (c:\\programdata\\anaconda3\\lib\\site-packages)\n",
      "WARNING: Ignoring invalid distribution -qlalchemy (c:\\programdata\\anaconda3\\lib\\site-packages)\n",
      "WARNING: Ignoring invalid distribution -lalchemy (c:\\programdata\\anaconda3\\lib\\site-packages)\n",
      "WARNING: Ignoring invalid distribution - (c:\\programdata\\anaconda3\\lib\\site-packages)\n",
      "WARNING: Ignoring invalid distribution -egex (c:\\programdata\\anaconda3\\lib\\site-packages)\n",
      "WARNING: Ignoring invalid distribution -lalchemy (c:\\programdata\\anaconda3\\lib\\site-packages)\n",
      "WARNING: Ignoring invalid distribution -qlalchemy (c:\\programdata\\anaconda3\\lib\\site-packages)\n",
      "WARNING: Ignoring invalid distribution -lalchemy (c:\\programdata\\anaconda3\\lib\\site-packages)\n",
      "WARNING: Ignoring invalid distribution - (c:\\programdata\\anaconda3\\lib\\site-packages)\n",
      "WARNING: Ignoring invalid distribution -egex (c:\\programdata\\anaconda3\\lib\\site-packages)\n",
      "WARNING: Ignoring invalid distribution -lalchemy (c:\\programdata\\anaconda3\\lib\\site-packages)\n",
      "WARNING: Ignoring invalid distribution -qlalchemy (c:\\programdata\\anaconda3\\lib\\site-packages)\n",
      "WARNING: Ignoring invalid distribution -lalchemy (c:\\programdata\\anaconda3\\lib\\site-packages)\n",
      "WARNING: Ignoring invalid distribution - (c:\\programdata\\anaconda3\\lib\\site-packages)\n",
      "WARNING: Ignoring invalid distribution -egex (c:\\programdata\\anaconda3\\lib\\site-packages)\n"
     ]
    }
   ],
   "source": [
    "!pip install psycopg2-binary"
   ],
   "metadata": {
    "collapsed": false,
    "pycharm": {
     "name": "#%%\n"
    }
   }
  },
  {
   "cell_type": "code",
   "execution_count": 115,
   "outputs": [],
   "source": [
    "from sqlalchemy import create_engine\n",
    "import psycopg2"
   ],
   "metadata": {
    "collapsed": false,
    "pycharm": {
     "name": "#%%\n"
    }
   }
  },
  {
   "cell_type": "code",
   "execution_count": null,
   "outputs": [],
   "source": [
    "engine = create_engine()"
   ],
   "metadata": {
    "collapsed": false,
    "pycharm": {
     "name": "#%%\n"
    }
   }
  },
  {
   "cell_type": "code",
   "execution_count": 116,
   "outputs": [],
   "source": [
    "a = 3"
   ],
   "metadata": {
    "collapsed": false,
    "pycharm": {
     "name": "#%%\n"
    }
   }
  },
  {
   "cell_type": "code",
   "execution_count": 117,
   "outputs": [
    {
     "data": {
      "text/plain": "3"
     },
     "execution_count": 117,
     "metadata": {},
     "output_type": "execute_result"
    }
   ],
   "source": [
    "a"
   ],
   "metadata": {
    "collapsed": false,
    "pycharm": {
     "name": "#%%\n"
    }
   }
  }
 ],
 "metadata": {
  "kernelspec": {
   "display_name": "Python 3",
   "language": "python",
   "name": "python3"
  },
  "language_info": {
   "codemirror_mode": {
    "name": "ipython",
    "version": 2
   },
   "file_extension": ".py",
   "mimetype": "text/x-python",
   "name": "python",
   "nbconvert_exporter": "python",
   "pygments_lexer": "ipython2",
   "version": "2.7.6"
  }
 },
 "nbformat": 4,
 "nbformat_minor": 0
}