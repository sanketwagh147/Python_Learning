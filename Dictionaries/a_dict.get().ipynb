{
 "cells": [
  {
   "cell_type": "markdown",
   "id": "e0f44b1b-7f7b-465e-aea9-f2104c88c2de",
   "metadata": {},
   "source": [
    "# a_dict.get(key, *default*)\n",
    ">`key` is a value which is fetched if present else it  returns None if key is absent  \n",
    ">`default` is a values which is assigned to a key if the key is absent "
   ]
  },
  {
   "cell_type": "code",
   "execution_count": 2,
   "id": "92a0480f-273e-451b-9cbc-0bbb3d74f26f",
   "metadata": {},
   "outputs": [
    {
     "data": {
      "text/plain": [
       "'First'"
      ]
     },
     "execution_count": 2,
     "metadata": {},
     "output_type": "execute_result"
    }
   ],
   "source": [
    "a_dict1 = {\"a\": \"First\", \"b\": \"second\", \"c\": \"third\"}\n",
    "a_dict1.get(\"a\")  # Fetches the value of key a"
   ]
  },
  {
   "cell_type": "markdown",
   "id": "980de319-b518-47fa-8be9-8034195a1bdd",
   "metadata": {},
   "source": [
    "**The main advantage of a_dict.key is that it does not throw key error if the key is not inside the dictionary**"
   ]
  },
  {
   "cell_type": "code",
   "execution_count": 3,
   "id": "c460a940-323e-41f8-8875-d0985e89a8e5",
   "metadata": {},
   "outputs": [],
   "source": [
    "a_dict1.get(\"d\")  "
   ]
  },
  {
   "cell_type": "markdown",
   "id": "15b3b1a8-73e3-45e3-82d9-cdf19195de8c",
   "metadata": {},
   "source": [
    "Thus the above method does not throw error"
   ]
  },
  {
   "cell_type": "code",
   "execution_count": 6,
   "id": "5ef7e9e5-218a-45a5-9a9d-7479fbdb7928",
   "metadata": {},
   "outputs": [
    {
     "data": {
      "text/plain": [
       "'default'"
      ]
     },
     "execution_count": 6,
     "metadata": {},
     "output_type": "execute_result"
    }
   ],
   "source": [
    "a_dict1.get(\"d\",  \"default\")  # default is optional positional and can be any object not just string"
   ]
  },
  {
   "cell_type": "markdown",
   "id": "5f71ceaa-6072-4842-9613-447e4171b935",
   "metadata": {},
   "source": [
    "Thus it looks for key in the dictionay and returns the value if not returns default value which else returns None if default is not mentioned"
   ]
  },
  {
   "cell_type": "code",
   "execution_count": 7,
   "id": "a84226dc-7024-4928-8ac9-39c398197eb8",
   "metadata": {},
   "outputs": [
    {
     "data": {
      "text/plain": [
       "{'a': 'First', 'b': 'second', 'c': 'third'}"
      ]
     },
     "execution_count": 7,
     "metadata": {},
     "output_type": "execute_result"
    }
   ],
   "source": [
    "a_dict1"
   ]
  },
  {
   "cell_type": "code",
   "execution_count": null,
   "id": "29210e42-105b-45cb-8999-9e529c22c0ff",
   "metadata": {},
   "outputs": [],
   "source": []
  },
  {
   "cell_type": "code",
   "execution_count": null,
   "id": "d0c0f1f6-b969-45bf-994a-62b4571f9c95",
   "metadata": {},
   "outputs": [],
   "source": []
  }
 ],
 "metadata": {
  "kernelspec": {
   "display_name": "Python 3",
   "language": "python",
   "name": "python3"
  },
  "language_info": {
   "codemirror_mode": {
    "name": "ipython",
    "version": 3
   },
   "file_extension": ".py",
   "mimetype": "text/x-python",
   "name": "python",
   "nbconvert_exporter": "python",
   "pygments_lexer": "ipython3",
   "version": "3.7.10"
  }
 },
 "nbformat": 4,
 "nbformat_minor": 5
}
