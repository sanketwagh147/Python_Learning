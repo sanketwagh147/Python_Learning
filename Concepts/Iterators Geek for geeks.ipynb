{
 "cells": [
  {
   "cell_type": "code",
   "execution_count": 1,
   "metadata": {
    "collapsed": true
   },
   "outputs": [
    {
     "name": "stdout",
     "output_type": "stream",
     "text": [
      "Result: 2 6 12\n",
      "Time taken by map function: 0.000000\n",
      "Result: 2 6 12 \n",
      "Time taken by for loop: 0.000997\n"
     ]
    }
   ],
   "source": [
    "# Python program to demonstrate\n",
    "# iterator module\n",
    "\n",
    "\n",
    "import operator\n",
    "import time\n",
    "\n",
    "# Defining lists\n",
    "L1 = [1, 2, 3]\n",
    "L2 = [2, 3, 4]\n",
    "\n",
    "# Starting time before map\n",
    "# function\n",
    "t1 = time.time()\n",
    "\n",
    "# Calculating result\n",
    "a, b, c = map(operator.mul, L1, L2)\n",
    "\n",
    "# Ending time after map\n",
    "# function\n",
    "t2 = time.time()\n",
    "\n",
    "# Time taken by map function\n",
    "print(\"Result:\", a, b, c)\n",
    "print(\"Time taken by map function: %.6f\" %(t2 - t1))\n",
    "\n",
    "# Starting time before naive\n",
    "# method\n",
    "t1 = time.time()\n",
    "\n",
    "# Calculating result using for loop\n",
    "print(\"Result:\", end = \" \")\n",
    "for i in range(3):\n",
    "    print(L1[i] * L2[i], end = \" \")\n",
    "\n",
    "# Ending time after naive\n",
    "# method\n",
    "t2 = time.time()\n",
    "print(\"\\nTime taken by for loop: %.6f\" %(t2 - t1))"
   ]
  },
  {
   "cell_type": "code",
   "execution_count": null,
   "outputs": [],
   "source": [],
   "metadata": {
    "collapsed": false,
    "pycharm": {
     "name": "#%%\n"
    }
   }
  },
  {
   "cell_type": "code",
   "execution_count": 25,
   "outputs": [
    {
     "name": "stdout",
     "output_type": "stream",
     "text": [
      "1 2 3 4 5 6 7 8 9 10 11 12 13 14 15 16 17 18 19 20 21 22 23 24 25 26 27 28 29 30 31 32 33 34 35 36 37 38 39 40 41 42 43 44 45 46 47 48 49 50 51 52 53 54 55 56 57 58 59 60 61 62 63 64 65 66 67 68 69 70 71 72 73 74 75 76 77 78 79 80 81 82 83 84 85 86 87 88 89 90 91 92 93 94 95 96 97 98 99 "
     ]
    }
   ],
   "source": [
    "# Python program to demonstrate\n",
    "# infinite iterators\n",
    "\n",
    "import itertools\n",
    "\n",
    "# for in loop\n",
    "for i in itertools.count(1, 1):\n",
    "\tif i == 100:\n",
    "\t\tbreak\n",
    "\telse:\n",
    "\t\tprint(i, end =\" \")"
   ],
   "metadata": {
    "collapsed": false,
    "pycharm": {
     "name": "#%%\n"
    }
   }
  },
  {
   "cell_type": "code",
   "execution_count": 24,
   "outputs": [
    {
     "data": {
      "text/plain": "5"
     },
     "execution_count": 24,
     "metadata": {},
     "output_type": "execute_result"
    }
   ],
   "source": [],
   "metadata": {
    "collapsed": false,
    "pycharm": {
     "name": "#%%\n"
    }
   }
  },
  {
   "cell_type": "code",
   "execution_count": 29,
   "outputs": [
    {
     "name": "stdout",
     "output_type": "stream",
     "text": [
      "A\n",
      "B\n",
      "A\n",
      "B\n",
      "A\n",
      "B\n",
      "A\n",
      "B\n",
      "A\n",
      "B\n",
      "A\n",
      "B\n",
      "A\n"
     ]
    }
   ],
   "source": [
    "# Python program to demonstrate\n",
    "# infinite iterators\n",
    "\n",
    "import itertools\n",
    "\n",
    "count = 0\n",
    "\n",
    "# for in loop\n",
    "for i in itertools.cycle('AB'):\n",
    "\tprint(i)\n",
    "\tcount += 1\n",
    "\tif count>12:break"
   ],
   "metadata": {
    "collapsed": false,
    "pycharm": {
     "name": "#%%\n"
    }
   }
  },
  {
   "cell_type": "code",
   "execution_count": null,
   "outputs": [],
   "source": [],
   "metadata": {
    "collapsed": false,
    "pycharm": {
     "name": "#%%\n"
    }
   }
  }
 ],
 "metadata": {
  "kernelspec": {
   "display_name": "Python 3",
   "language": "python",
   "name": "python3"
  },
  "language_info": {
   "codemirror_mode": {
    "name": "ipython",
    "version": 2
   },
   "file_extension": ".py",
   "mimetype": "text/x-python",
   "name": "python",
   "nbconvert_exporter": "python",
   "pygments_lexer": "ipython2",
   "version": "2.7.6"
  }
 },
 "nbformat": 4,
 "nbformat_minor": 0
}