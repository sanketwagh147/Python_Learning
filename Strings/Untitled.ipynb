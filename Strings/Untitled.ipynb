{
 "cells": [
  {
   "cell_type": "markdown",
   "id": "cd5d5020-dac6-43ac-a43f-f76bab108a26",
   "metadata": {},
   "source": [
    "# Unpacking dictionary to use in a_string.format()"
   ]
  },
  {
   "cell_type": "code",
   "execution_count": 35,
   "id": "47fbaa4b-10b1-4e40-9116-5569c03aabab",
   "metadata": {},
   "outputs": [
    {
     "name": "stdout",
     "output_type": "stream",
     "text": [
      "Q: How to unpack a dictionary? \n",
      "A: This is to unpack a dictionary. \n"
     ]
    }
   ],
   "source": [
    "a_dict = {\"A\":\"This\", \"B\":\"is\", \"C\":\"to\", \"D\":\"unpack a\", \"E\":\"dictionary.\"}\n",
    "# print(a_dict)\n",
    "text = \"Q: How to unpack a dictionary? \\nA: {A} {B} {C} {D} {E} \".format(**a_dict)\n",
    "print(text)"
   ]
  },
  {
   "cell_type": "markdown",
   "id": "c6db92b1-4029-421f-ae57-2dc341b9fa4e",
   "metadata": {},
   "source": [
    "Notice the use of ** in format() which is a special syntax to unpack dictionaries in key value pairs"
   ]
  }
 ],
 "metadata": {
  "kernelspec": {
   "display_name": "Python 3",
   "language": "python",
   "name": "python3"
  },
  "language_info": {
   "codemirror_mode": {
    "name": "ipython",
    "version": 3
   },
   "file_extension": ".py",
   "mimetype": "text/x-python",
   "name": "python",
   "nbconvert_exporter": "python",
   "pygments_lexer": "ipython3",
   "version": "3.7.3"
  }
 },
 "nbformat": 4,
 "nbformat_minor": 5
}
