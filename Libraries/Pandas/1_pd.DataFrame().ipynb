{
 "cells": [
  {
   "cell_type": "markdown",
   "id": "9fb9ef09-9418-4c24-b68c-d65dbb9a735d",
   "metadata": {},
   "source": [
    "# Create a pandas Data Frame."
   ]
  },
  {
   "cell_type": "code",
   "execution_count": 3,
   "id": "27687a44-3268-4625-ba8c-7f1fd92c8595",
   "metadata": {},
   "outputs": [],
   "source": [
    "# import pandas library and alias it using as to pd\n",
    "import pandas as pd "
   ]
  },
  {
   "cell_type": "markdown",
   "id": "d0fd84ac-78de-4068-bacb-bfdb39aa77ef",
   "metadata": {},
   "source": [
    "#### To create a new DataFrame use the format below\n",
    ">Use dictionary like layout where `key` represent Column Names</br>\n",
    ">The values will represent column values\n"
   ]
  },
  {
   "cell_type": "code",
   "execution_count": 5,
   "id": "9e38baa3-f432-4f3e-887c-dce82ba67f2e",
   "metadata": {},
   "outputs": [
    {
     "data": {
      "text/html": [
       "<div>\n",
       "<style scoped>\n",
       "    .dataframe tbody tr th:only-of-type {\n",
       "        vertical-align: middle;\n",
       "    }\n",
       "\n",
       "    .dataframe tbody tr th {\n",
       "        vertical-align: top;\n",
       "    }\n",
       "\n",
       "    .dataframe thead th {\n",
       "        text-align: right;\n",
       "    }\n",
       "</style>\n",
       "<table border=\"1\" class=\"dataframe\">\n",
       "  <thead>\n",
       "    <tr style=\"text-align: right;\">\n",
       "      <th></th>\n",
       "      <th>Column 1</th>\n",
       "      <th>Column 2</th>\n",
       "    </tr>\n",
       "  </thead>\n",
       "  <tbody>\n",
       "    <tr>\n",
       "      <th>0</th>\n",
       "      <td>1</td>\n",
       "      <td>1</td>\n",
       "    </tr>\n",
       "    <tr>\n",
       "      <th>1</th>\n",
       "      <td>2</td>\n",
       "      <td>2</td>\n",
       "    </tr>\n",
       "    <tr>\n",
       "      <th>2</th>\n",
       "      <td>3</td>\n",
       "      <td>3</td>\n",
       "    </tr>\n",
       "  </tbody>\n",
       "</table>\n",
       "</div>"
      ],
      "text/plain": [
       "   Column 1  Column 2\n",
       "0         1         1\n",
       "1         2         2\n",
       "2         3         3"
      ]
     },
     "execution_count": 5,
     "metadata": {},
     "output_type": "execute_result"
    }
   ],
   "source": [
    "new_dataframe = pd.DataFrame({\"Column 1\":[1, 2, 3], \"Column 2\":[1, 2, 3]}) \n",
    "new_dataframe"
   ]
  },
  {
   "cell_type": "markdown",
   "id": "1128de2f-6b97-46b3-83b8-aac0452f1732",
   "metadata": {},
   "source": [
    "**Notice the rows are labelled implicitly into a sequence starting from `0`**\n",
    "### To change the labels of row use a keyword parameter\n",
    "> `index`=[*list of labels for rows*]"
   ]
  },
  {
   "cell_type": "code",
   "execution_count": 8,
   "id": "cc5b2c24-428e-4591-8cf5-295007bbb90e",
   "metadata": {},
   "outputs": [
    {
     "data": {
      "text/html": [
       "<div>\n",
       "<style scoped>\n",
       "    .dataframe tbody tr th:only-of-type {\n",
       "        vertical-align: middle;\n",
       "    }\n",
       "\n",
       "    .dataframe tbody tr th {\n",
       "        vertical-align: top;\n",
       "    }\n",
       "\n",
       "    .dataframe thead th {\n",
       "        text-align: right;\n",
       "    }\n",
       "</style>\n",
       "<table border=\"1\" class=\"dataframe\">\n",
       "  <thead>\n",
       "    <tr style=\"text-align: right;\">\n",
       "      <th></th>\n",
       "      <th>Column 1</th>\n",
       "      <th>Column 2</th>\n",
       "    </tr>\n",
       "  </thead>\n",
       "  <tbody>\n",
       "    <tr>\n",
       "      <th>Row 1</th>\n",
       "      <td>1</td>\n",
       "      <td>1</td>\n",
       "    </tr>\n",
       "    <tr>\n",
       "      <th>Row 2</th>\n",
       "      <td>2</td>\n",
       "      <td>2</td>\n",
       "    </tr>\n",
       "    <tr>\n",
       "      <th>Row 3</th>\n",
       "      <td>3</td>\n",
       "      <td>3</td>\n",
       "    </tr>\n",
       "  </tbody>\n",
       "</table>\n",
       "</div>"
      ],
      "text/plain": [
       "       Column 1  Column 2\n",
       "Row 1         1         1\n",
       "Row 2         2         2\n",
       "Row 3         3         3"
      ]
     },
     "execution_count": 8,
     "metadata": {},
     "output_type": "execute_result"
    }
   ],
   "source": [
    "new_dataframe = pd.DataFrame({\"Column 1\":[1, 2, 3], \"Column 2\":[1, 2, 3]},\n",
    "                             index=[\"Row 1\", \"Row 2\", \"Row 3\"]) \n",
    "new_dataframe"
   ]
  },
  {
   "cell_type": "code",
   "execution_count": null,
   "id": "b08f00ff-0d3c-45b8-8f5f-3c5e7737d1bc",
   "metadata": {},
   "outputs": [],
   "source": []
  }
 ],
 "metadata": {
  "kernelspec": {
   "display_name": "Python 3",
   "language": "python",
   "name": "python3"
  },
  "language_info": {
   "codemirror_mode": {
    "name": "ipython",
    "version": 3
   },
   "file_extension": ".py",
   "mimetype": "text/x-python",
   "name": "python",
   "nbconvert_exporter": "python",
   "pygments_lexer": "ipython3",
   "version": "3.7.10"
  }
 },
 "nbformat": 4,
 "nbformat_minor": 5
}
