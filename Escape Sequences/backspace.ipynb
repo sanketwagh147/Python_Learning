{
 "cells": [
  {
   "cell_type": "markdown",
   "id": "c8165c59-fda2-4077-98df-02a57ca6bdf6",
   "metadata": {},
   "source": [
    "# `\\b` in python"
   ]
  },
  {
   "cell_type": "code",
   "execution_count": 1,
   "id": "c4d86f77-38a3-49f1-98c5-5ac1636a7957",
   "metadata": {},
   "outputs": [
    {
     "name": "stdout",
     "output_type": "stream",
     "text": [
      "0\n",
      "\b\n",
      "\b\n",
      "1\n",
      "\b\n",
      "\b\n",
      "2\n",
      "\b\n",
      "\b\n",
      "3\n",
      "\b\n",
      "\b\n",
      "4\n",
      "\b\n",
      "\b\n",
      "5\n",
      "\b\n",
      "\b\n",
      "6\n",
      "\b\n",
      "\b\n",
      "7\n",
      "\b\n",
      "\b\n",
      "8\n",
      "\b\n",
      "\b\n",
      "9\n",
      "\b\n",
      "\b\n"
     ]
    }
   ],
   "source": [
    "import time\n",
    "for i in range(10):\n",
    "    print(i)\n",
    "    print(\"\\b\")\n",
    "    print(\"\\b\")    "
   ]
  },
  {
   "cell_type": "code",
   "execution_count": null,
   "id": "00d3cc78-3ce5-4831-8055-05c0ed7cfa4b",
   "metadata": {},
   "outputs": [],
   "source": []
  }
 ],
 "metadata": {
  "kernelspec": {
   "display_name": "Python 3",
   "language": "python",
   "name": "python3"
  },
  "language_info": {
   "codemirror_mode": {
    "name": "ipython",
    "version": 3
   },
   "file_extension": ".py",
   "mimetype": "text/x-python",
   "name": "python",
   "nbconvert_exporter": "python",
   "pygments_lexer": "ipython3",
   "version": "3.7.10"
  }
 },
 "nbformat": 4,
 "nbformat_minor": 5
}
