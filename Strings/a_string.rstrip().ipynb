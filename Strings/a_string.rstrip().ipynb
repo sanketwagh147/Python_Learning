{
 "cells": [
  {
   "cell_type": "markdown",
   "id": "81cc5423-be55-48b0-a11e-d2dc15364aac",
   "metadata": {},
   "source": [
    "# a_string.rstrip(<font color= orange>char = \" \"</font>)\n",
    ">`char` is a keyword parameter which defaults to a space else all the character </br>\n",
    "    will be stripped from right or trailing end of the string "
   ]
  },
  {
   "cell_type": "code",
   "execution_count": 3,
   "id": "3918c739-103f-4b18-a5b2-00bab5d99c20",
   "metadata": {},
   "outputs": [
    {
     "data": {
      "text/plain": [
       "'remove '"
      ]
     },
     "execution_count": 3,
     "metadata": {},
     "output_type": "execute_result"
    }
   ],
   "source": [
    "a_string = \"remove %\"\n",
    "char = \"%\"  # It can be any string or can be specified directly \n",
    "b_string = a_string.rstrip(char)\n",
    "b_string"
   ]
  },
  {
   "cell_type": "markdown",
   "id": "f8fadd0b-70da-4332-98c1-d8cd2118e355",
   "metadata": {},
   "source": [
    "The leading **%** is removed"
   ]
  },
  {
   "cell_type": "code",
   "execution_count": 5,
   "id": "08734cf2-db49-4e1c-be29-8edb97707df4",
   "metadata": {},
   "outputs": [
    {
     "data": {
      "text/plain": [
       "'remove'"
      ]
     },
     "execution_count": 5,
     "metadata": {},
     "output_type": "execute_result"
    }
   ],
   "source": [
    "c_string = b_string.rstrip()\n",
    "c_string"
   ]
  },
  {
   "cell_type": "markdown",
   "id": "9bf6b8a1-6929-4f63-ae54-1b967f9cff00",
   "metadata": {},
   "source": [
    "The leading space is stripped from the string when no parameter is passed"
   ]
  },
  {
   "cell_type": "markdown",
   "id": "aed18061-cdf9-4072-85a1-0f2d84a38de5",
   "metadata": {},
   "source": [
    "### It removes till the their is a character mismatch"
   ]
  },
  {
   "cell_type": "code",
   "execution_count": 9,
   "id": "8d6418cb-e3bd-4a4a-83b1-8afdb5605885",
   "metadata": {},
   "outputs": [
    {
     "data": {
      "text/plain": [
       "'Willy Wonk'"
      ]
     },
     "execution_count": 9,
     "metadata": {},
     "output_type": "execute_result"
    }
   ],
   "source": [
    "d_string = \"Willy Wonka !\"\n",
    "e_string = d_string.rstrip(\"! ao\")  # !,space, a, o characters will be removed\n",
    "e_string"
   ]
  },
  {
   "cell_type": "markdown",
   "id": "2eed6774-a764-4fd4-b836-84ef829f9bed",
   "metadata": {},
   "source": [
    "As you can see this compares **last** character of string to items in parameter </br>\n",
    "and stops when it encounters a mismatch"
   ]
  },
  {
   "cell_type": "code",
   "execution_count": null,
   "id": "8e761f37-45d0-4af5-bb46-bfd6eb4a80db",
   "metadata": {},
   "outputs": [],
   "source": []
  }
 ],
 "metadata": {
  "kernelspec": {
   "display_name": "Python 3",
   "language": "python",
   "name": "python3"
  },
  "language_info": {
   "codemirror_mode": {
    "name": "ipython",
    "version": 3
   },
   "file_extension": ".py",
   "mimetype": "text/x-python",
   "name": "python",
   "nbconvert_exporter": "python",
   "pygments_lexer": "ipython3",
   "version": "3.7.3"
  }
 },
 "nbformat": 4,
 "nbformat_minor": 5
}
