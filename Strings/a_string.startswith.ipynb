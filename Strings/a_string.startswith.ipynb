{
 "cells": [
  {
   "cell_type": "markdown",
   "id": "cc9e5340-1e2a-4ff2-a42d-98d2c5621b88",
   "metadata": {},
   "source": [
    "#a_string.startswith()"
   ]
  },
  {
   "cell_type": "markdown",
   "id": "1073b274-ac0d-479e-b7a3-7d73a74eb60a",
   "metadata": {},
   "source": [
    "***This method checks if the string starts with a substring***\n",
    "Syntax  : a_string.startswith(sub_string)"
   ]
  },
  {
   "cell_type": "code",
   "execution_count": 3,
   "id": "31d26123-2e6a-4e57-baa9-e14eed0e9fdc",
   "metadata": {},
   "outputs": [
    {
     "data": {
      "text/plain": [
       "True"
      ]
     },
     "execution_count": 3,
     "metadata": {},
     "output_type": "execute_result"
    }
   ],
   "source": [
    "a_string = \"Can you see me?\"\n",
    "a_string.startswith(\"Can\")"
   ]
  },
  {
   "cell_type": "markdown",
   "id": "984f83a3-a1db-43ee-819d-4a5472ceded9",
   "metadata": {},
   "source": [
    "*** Is case sensitive *** "
   ]
  },
  {
   "cell_type": "code",
   "execution_count": 6,
   "id": "d3fbb4b1-c866-4f6e-a689-5c55d6caac53",
   "metadata": {},
   "outputs": [
    {
     "data": {
      "text/plain": [
       "False"
      ]
     },
     "execution_count": 6,
     "metadata": {},
     "output_type": "execute_result"
    }
   ],
   "source": [
    "a_string = \"Can you see me?\"\n",
    "a_string.startswith(\"can\")"
   ]
  },
  {
   "cell_type": "markdown",
   "id": "66078fa1-5ee5-4931-84ec-a8f1d426c39b",
   "metadata": {},
   "source": [
    "The result is False as c is small case"
   ]
  },
  {
   "cell_type": "code",
   "execution_count": 9,
   "id": "2bdd51b1-e433-4bf4-9fad-29d9f2fbe249",
   "metadata": {},
   "outputs": [
    {
     "ename": "AttributeError",
     "evalue": "type object 'str' has no attribute 'method'",
     "output_type": "error",
     "traceback": [
      "\u001b[1;31m---------------------------------------------------------------------------\u001b[0m",
      "\u001b[1;31mAttributeError\u001b[0m                            Traceback (most recent call last)",
      "\u001b[1;32m<ipython-input-9-fca9ce1a9204>\u001b[0m in \u001b[0;36m<module>\u001b[1;34m\u001b[0m\n\u001b[1;32m----> 1\u001b[1;33m \u001b[0mstr\u001b[0m\u001b[1;33m.\u001b[0m\u001b[0mmethod\u001b[0m\u001b[1;33m\u001b[0m\u001b[1;33m\u001b[0m\u001b[0m\n\u001b[0m",
      "\u001b[1;31mAttributeError\u001b[0m: type object 'str' has no attribute 'method'"
     ]
    }
   ],
   "source": [
    "str.method\n"
   ]
  },
  {
   "cell_type": "code",
   "execution_count": null,
   "id": "916d518b-1879-4648-a2cc-21923ad706cb",
   "metadata": {},
   "outputs": [],
   "source": []
  }
 ],
 "metadata": {
  "kernelspec": {
   "display_name": "Python 3",
   "language": "python",
   "name": "python3"
  },
  "language_info": {
   "codemirror_mode": {
    "name": "ipython",
    "version": 3
   },
   "file_extension": ".py",
   "mimetype": "text/x-python",
   "name": "python",
   "nbconvert_exporter": "python",
   "pygments_lexer": "ipython3",
   "version": "3.7.3"
  }
 },
 "nbformat": 4,
 "nbformat_minor": 5
}
