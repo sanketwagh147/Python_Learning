{
 "cells": [
  {
   "cell_type": "markdown",
   "id": "4bf1575b-ea9a-4d72-a9d4-278ffab9e921",
   "metadata": {},
   "source": [
    "# Repeating Qualifiers"
   ]
  },
  {
   "cell_type": "code",
   "execution_count": 33,
   "id": "6fc4be9b-5e46-4340-8831-1bc19d293243",
   "metadata": {},
   "outputs": [],
   "source": [
    "import re"
   ]
  },
  {
   "cell_type": "markdown",
   "id": "746bb115-5326-4900-8def-df5bafe29d35",
   "metadata": {},
   "source": [
    "### `*` (asterix) : Previous character can be matched zero or more than one times\n",
    "- If we don't use `*` the character must be repeated exactly one times"
   ]
  },
  {
   "cell_type": "code",
   "execution_count": 34,
   "id": "b05e069b-3200-4039-b782-7fb577c96dca",
   "metadata": {},
   "outputs": [
    {
     "name": "stdout",
     "output_type": "stream",
     "text": [
      "1 : pattern          --> <re.Match object; span=(0, 7), match='pattern'>\n",
      "2 : paern            --> <re.Match object; span=(0, 5), match='paern'>\n",
      "3 : patern           --> <re.Match object; span=(0, 6), match='patern'>\n",
      "4 : __ab90           --> None\n",
      "5 : #$%              --> None\n",
      "6 :                  --> None\n",
      "7 : patttern         --> <re.Match object; span=(0, 8), match='patttern'>\n",
      "8 : paterm           --> None\n",
      "9 : pattttttttttern  --> <re.Match object; span=(0, 15), match='pattttttttttern'>\n"
     ]
    }
   ],
   "source": [
    "str_L1 =[\"pattern\", \"paern\", \"patern\", \"__ab90\",\"#$%\", \" \", \"patttern\", \"paterm\", \"pattttttttttern\"]\n",
    "pattern_1 = \"pat*ern\"  # should contain \"pa\" followed by 0 or 1+ occurences of `t` and \"ern\"\n",
    "for index,string in enumerate(str_L1, start =1):\n",
    "    print(f'{index} : {string}'.ljust(20), \"-->\",re.search(pattern_1, string))"
   ]
  },
  {
   "cell_type": "markdown",
   "id": "8d6b9b05-d415-45b8-a408-189d7f80e3ad",
   "metadata": {},
   "source": [
    "_character preceding `*` is optional and can be present zero or multiple times_"
   ]
  },
  {
   "cell_type": "markdown",
   "id": "c870f857-b4d0-4bd9-9369-593b07bc83e5",
   "metadata": {},
   "source": [
    "### Repetitions such as `*` are greedy (more on this later)"
   ]
  },
  {
   "cell_type": "code",
   "execution_count": 35,
   "id": "13d65696-eabf-4925-8d6d-4ee908a4a006",
   "metadata": {},
   "outputs": [
    {
     "name": "stdout",
     "output_type": "stream",
     "text": [
      "1 : a                --> None\n",
      "2 : abcbd            --> <re.Match object; span=(0, 4), match='abcb'>\n",
      "3 : b                --> None\n",
      "4 : axb              --> None\n",
      "5 : ab               --> <re.Match object; span=(0, 2), match='ab'>\n"
     ]
    }
   ],
   "source": [
    "string_L2 =[\"a\", \"abcbd\", \"b\",\"axb\",\"ab\"]\n",
    "pattern_2 = \"a[bcd]*b\"  # find 'a', zero or more from class[bcd] and finally end with b\n",
    "for index,string in enumerate(string_L2, start =1):\n",
    "    print(f'{index} : {string}'.ljust(20), \"-->\",re.search(pattern_2, string))\n"
   ]
  },
  {
   "cell_type": "markdown",
   "id": "9dd76d20-eea2-4a84-8e5e-c7c3b4a4bb5b",
   "metadata": {},
   "source": [
    "_more on greedy later_\n",
    "___"
   ]
  },
  {
   "cell_type": "markdown",
   "id": "8397278f-be73-4ae6-8d59-622b94bc14d2",
   "metadata": {},
   "source": [
    "### `+` (plus) : Previous character must be matched atleast one or more than one times"
   ]
  },
  {
   "cell_type": "code",
   "execution_count": 36,
   "id": "c33f99cf-1632-4a48-9778-2b2d89f6dbd4",
   "metadata": {},
   "outputs": [
    {
     "name": "stdout",
     "output_type": "stream",
     "text": [
      "1 : car              --> <re.Match object; span=(0, 3), match='car'>\n",
      "2 : cr               --> None\n",
      "3 : caaar            --> <re.Match object; span=(0, 5), match='caaar'>\n",
      "4 : adfa$$#caar      --> <re.Match object; span=(7, 11), match='caar'>\n",
      "5 : raac             --> None\n"
     ]
    }
   ],
   "source": [
    "string_L3 =[\"car\", \"cr\", \"caaar\",\"adfa$$#caar\",\"raac\"]\n",
    "pattern_3 = \"ca+r\"  # find 'a', one or more 'a' and finally end with r\n",
    "for index,string in enumerate(string_L3, start =1):\n",
    "    print(f'{index} : {string}'.ljust(20), \"-->\",re.search(pattern_3, string))"
   ]
  },
  {
   "cell_type": "markdown",
   "id": "2a47d40a-73ba-4c46-aa0d-ddb53773e39c",
   "metadata": {},
   "source": [
    "_The pattern must consist of atleast one character preceding the `+` sign_\n",
    "___"
   ]
  },
  {
   "cell_type": "markdown",
   "id": "82517fd6-0d4d-4c05-89e4-64652f3c75e7",
   "metadata": {},
   "source": [
    "### `?` (Question Mark) : Previous character must be matched atleast one or zero times only"
   ]
  },
  {
   "cell_type": "code",
   "execution_count": 37,
   "id": "c8a37d30-e000-42a6-8f97-89c75dca8d0b",
   "metadata": {},
   "outputs": [
    {
     "name": "stdout",
     "output_type": "stream",
     "text": [
      "1 : car              --> <re.Match object; span=(0, 3), match='car'>\n",
      "2 : cr               --> <re.Match object; span=(0, 2), match='cr'>\n",
      "3 : caaar            --> None\n",
      "4 : adfa$$#caar      --> None\n",
      "5 : raac             --> None\n"
     ]
    }
   ],
   "source": [
    "string_L4 =[\"car\", \"cr\", \"caaar\",\"adfa$$#caar\",\"raac\"]\n",
    "pattern_4 = \"ca?r\"  # find 'a', one or more 'a' and finally end with r\n",
    "for index,string in enumerate(string_L4, start =1):\n",
    "    print(f'{index} : {string}'.ljust(20), \"-->\",re.search(pattern_4, string))"
   ]
  },
  {
   "cell_type": "markdown",
   "id": "cbb8c579-10da-4089-b9d5-0bf35cd9a166",
   "metadata": {},
   "source": [
    "_The pattern must consist of only zero or one character preceding the `?\n",
    "` sign_\n",
    "___"
   ]
  },
  {
   "cell_type": "markdown",
   "id": "edbb512c-45fd-4abc-949d-43ff31d9dfa5",
   "metadata": {},
   "source": [
    "### `{min,max}` (curly braces) : where min and max are integers \n",
    "- min: minimum number to be repeated (if not specified default is 0) \n",
    "- max: maximum number to be repeated (if not specified default is infinity)\n",
    "- {,4} minimum 0 and max 4\n",
    "- {4,} minimum 4 and max infiity"
   ]
  },
  {
   "cell_type": "code",
   "execution_count": 38,
   "id": "dd759465-b85c-48c2-8880-dce59ca60104",
   "metadata": {},
   "outputs": [
    {
     "name": "stdout",
     "output_type": "stream",
     "text": [
      "1 : folder//regex    --> <re.Match object; span=(0, 13), match='folder//regex'>\n",
      "2 : folder///regex   --> <re.Match object; span=(0, 14), match='folder///regex'>\n",
      "3 : folder////regex  --> <re.Match object; span=(0, 15), match='folder////regex'>\n",
      "4 : folder/regex     --> None\n",
      "5 : raac             --> None\n",
      "6 : folder/regex     --> None\n"
     ]
    }
   ],
   "source": [
    "string_L5 =[\"folder//regex\", \"folder///regex\", \"folder////regex\",\"folder/regex\",\"raac\", \"folder/regex\"]\n",
    "pattern_5 = \"folder/{1,3}/regex\"  # find 'a', a must be atleast 3 times and maximum 5 times and end with r\n",
    "for index,string in enumerate(string_L5, start =1):\n",
    "    print(f'{index} : {string}'.ljust(20), \"-->\",re.search(pattern_5, string))"
   ]
  },
  {
   "cell_type": "markdown",
   "id": "91224f0f-722c-475b-878b-b7de5015e022",
   "metadata": {},
   "source": [
    "__4,5 and 6 have '/' less than 1 or more than 3\n",
    "___"
   ]
  }
 ],
 "metadata": {
  "kernelspec": {
   "display_name": "Python 3",
   "language": "python",
   "name": "python3"
  },
  "language_info": {
   "codemirror_mode": {
    "name": "ipython",
    "version": 3
   },
   "file_extension": ".py",
   "mimetype": "text/x-python",
   "name": "python",
   "nbconvert_exporter": "python",
   "pygments_lexer": "ipython3",
   "version": "3.7.10"
  }
 },
 "nbformat": 4,
 "nbformat_minor": 5
}
