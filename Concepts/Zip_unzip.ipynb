{
 "cells": [
  {
   "cell_type": "markdown",
   "id": "11bdee45-6c21-43ee-a985-02144f22b280",
   "metadata": {},
   "source": [
    "# To use zip and unzip"
   ]
  },
  {
   "cell_type": "markdown",
   "id": "5d423634-6455-4b48-b31d-3cb3eb1a87dc",
   "metadata": {},
   "source": [
    "## To Zip"
   ]
  },
  {
   "cell_type": "code",
   "execution_count": 1,
   "id": "5c328f09-78fd-45be-bd32-045784bdf45f",
   "metadata": {},
   "outputs": [],
   "source": [
    "a_list = [1 , 2, 3]\n",
    "b_list = [\"a\", \"b\", \"c\"]"
   ]
  },
  {
   "cell_type": "code",
   "execution_count": 2,
   "id": "0bde86a8-ecd6-4494-bf50-6949c4b0c9f6",
   "metadata": {},
   "outputs": [
    {
     "data": {
      "text/plain": [
       "[(1, 'a'), (2, 'b'), (3, 'c')]"
      ]
     },
     "execution_count": 2,
     "metadata": {},
     "output_type": "execute_result"
    }
   ],
   "source": [
    "c_list = list(zip(a_list, b_list))\n",
    "c_list"
   ]
  },
  {
   "cell_type": "markdown",
   "id": "3a58308d-6674-4c85-8b2d-bf331fd4a309",
   "metadata": {},
   "source": [
    "## To unzip"
   ]
  },
  {
   "cell_type": "code",
   "execution_count": 4,
   "id": "63f67f53-1bf1-48a3-8986-5cc740917ade",
   "metadata": {},
   "outputs": [],
   "source": [
    "a_unzip, b_unzip = zip(*c_list)"
   ]
  },
  {
   "cell_type": "code",
   "execution_count": 5,
   "id": "55e8e214-8f26-4308-a4e0-bdaed6f21246",
   "metadata": {},
   "outputs": [
    {
     "data": {
      "text/plain": [
       "(1, 2, 3)"
      ]
     },
     "execution_count": 5,
     "metadata": {},
     "output_type": "execute_result"
    }
   ],
   "source": [
    "a_unzip"
   ]
  },
  {
   "cell_type": "code",
   "execution_count": 6,
   "id": "3b6d851e-7423-485d-b2d2-7bd48102991f",
   "metadata": {},
   "outputs": [
    {
     "data": {
      "text/plain": [
       "('a', 'b', 'c')"
      ]
     },
     "execution_count": 6,
     "metadata": {},
     "output_type": "execute_result"
    }
   ],
   "source": [
    "b_unzip\n"
   ]
  },
  {
   "cell_type": "code",
   "execution_count": 7,
   "id": "1817ed7d-2294-43f1-97fd-03192f7f3df2",
   "metadata": {},
   "outputs": [],
   "source": [
    "d_list = [[1,11],[2,22]]"
   ]
  },
  {
   "cell_type": "code",
   "execution_count": 8,
   "id": "ed267c42-145d-4faf-a11c-673711f80674",
   "metadata": {},
   "outputs": [],
   "source": [
    "a, b = zip(*d_list)"
   ]
  },
  {
   "cell_type": "code",
   "execution_count": 9,
   "id": "31659db1-1d4c-4620-b0a3-6b7321a11c0d",
   "metadata": {},
   "outputs": [
    {
     "data": {
      "text/plain": [
       "(1, 2)"
      ]
     },
     "execution_count": 9,
     "metadata": {},
     "output_type": "execute_result"
    }
   ],
   "source": [
    "a"
   ]
  },
  {
   "cell_type": "code",
   "execution_count": 10,
   "id": "e55550c2-0e4a-41e5-a87a-53b6d72c1b20",
   "metadata": {},
   "outputs": [
    {
     "data": {
      "text/plain": [
       "(11, 22)"
      ]
     },
     "execution_count": 10,
     "metadata": {},
     "output_type": "execute_result"
    }
   ],
   "source": [
    "b"
   ]
  },
  {
   "cell_type": "code",
   "execution_count": null,
   "id": "bc9fe3d5-da7d-4af5-9e6a-28812d8c5c08",
   "metadata": {},
   "outputs": [],
   "source": []
  },
  {
   "cell_type": "code",
   "execution_count": null,
   "outputs": [],
   "source": [
    "zip_object = monthly_sales_vol.items()   # monthly_sales_vol is a series object\n",
    "first_list, second_list = zip(*zip_object)  # To unzip a zip file.\n",
    "print(list(monthly_sales_vol.items()))\n",
    "print(first_list)\n",
    "print(second_list)"
   ],
   "metadata": {
    "collapsed": false,
    "pycharm": {
     "name": "#%%\n"
    }
   }
  }
 ],
 "metadata": {
  "kernelspec": {
   "display_name": "Python 3",
   "language": "python",
   "name": "python3"
  },
  "language_info": {
   "codemirror_mode": {
    "name": "ipython",
    "version": 3
   },
   "file_extension": ".py",
   "mimetype": "text/x-python",
   "name": "python",
   "nbconvert_exporter": "python",
   "pygments_lexer": "ipython3",
   "version": "3.7.10"
  }
 },
 "nbformat": 4,
 "nbformat_minor": 5
}