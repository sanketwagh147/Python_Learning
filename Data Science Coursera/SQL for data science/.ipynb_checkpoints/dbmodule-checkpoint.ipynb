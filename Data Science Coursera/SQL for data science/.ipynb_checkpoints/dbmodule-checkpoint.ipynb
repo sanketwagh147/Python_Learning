{
 "cells": [
  {
   "cell_type": "code",
   "execution_count": 85,
   "id": "da229c37-a8b2-4455-8d48-abfa024cab06",
   "metadata": {},
   "outputs": [],
   "source": [
    "import ibm_db\n",
    "import pandas as pd\n",
    "import ibm_db_dbi as db"
   ]
  },
  {
   "cell_type": "code",
   "execution_count": 75,
   "id": "59fdf93b-ebeb-49ac-b081-eb38e885a830",
   "metadata": {},
   "outputs": [],
   "source": [
    "#Replace the placeholder values with your actual Db2 hostname, username, and password:\n",
    "dsn_hostname = \"0c77d6f2-5da9-48a9-81f8-86b520b87518.bs2io90l08kqb1od8lcg.databases.appdomain.cloud\" # e.g.: \"54a2f15b-5c0f-46df-8954-7e38e612c2bd.c1ogj3sd0tgtu0lqde00.databases.appdomain.cloud\"\n",
    "dsn_uid = \"mgr61801\"        # e.g. \"abc12345\"\n",
    "dsn_pwd = \"xigLtUl6J3qYXTLs\"      # e.g. \"7dBZ3wWt9XN6$o0J\"\n",
    "\n",
    "dsn_driver = \"{IBM DB2 ODBC DRIVER}\"\n",
    "dsn_database = \"BLUDB\"            # e.g. \"BLUDB\"\n",
    "dsn_port = \"31198\"                # e.g. \"32733\" \n",
    "dsn_protocol = \"TCPIP\"            # i.e. \"TCPIP\"\n",
    "dsn_security = \"SSL\"              #i.e. \"SSL\""
   ]
  },
  {
   "cell_type": "code",
   "execution_count": 76,
   "id": "d3c95e0d-301c-4bc6-9751-1eebf2ffadf0",
   "metadata": {},
   "outputs": [
    {
     "name": "stdout",
     "output_type": "stream",
     "text": [
      "DRIVER={IBM DB2 ODBC DRIVER};DATABASE=BLUDB;HOSTNAME=0c77d6f2-5da9-48a9-81f8-86b520b87518.bs2io90l08kqb1od8lcg.databases.appdomain.cloud;PORT=31198;PROTOCOL=TCPIP;UID=mgr61801;PWD=xigLtUl6J3qYXTLs;SECURITY=SSL;\n"
     ]
    }
   ],
   "source": [
    "#DO NOT MODIFY THIS CELL. Just RUN it with Shift + Enter\n",
    "#Create the dsn connection string\n",
    "dsn = (\n",
    "    \"DRIVER={0};\"\n",
    "    \"DATABASE={1};\"\n",
    "    \"HOSTNAME={2};\"\n",
    "    \"PORT={3};\"\n",
    "    \"PROTOCOL={4};\"\n",
    "    \"UID={5};\"\n",
    "    \"PWD={6};\"\n",
    "    \"SECURITY={7};\").format(dsn_driver, dsn_database, dsn_hostname, dsn_port, dsn_protocol, dsn_uid, dsn_pwd,dsn_security)\n",
    "\n",
    "#print the connection string to check correct values are specified\n",
    "print(dsn)"
   ]
  },
  {
   "cell_type": "code",
   "execution_count": 77,
   "id": "34b01e86-648a-4ee6-9c35-d1fc6939af82",
   "metadata": {},
   "outputs": [
    {
     "name": "stdout",
     "output_type": "stream",
     "text": [
      "Connected to database:  BLUDB as user:  mgr61801 on host:  0c77d6f2-5da9-48a9-81f8-86b520b87518.bs2io90l08kqb1od8lcg.databases.appdomain.cloud\n"
     ]
    }
   ],
   "source": [
    "#DO NOT MODIFY THIS CELL. Just RUN it with Shift + Enter\n",
    "#Create database connection\n",
    "\n",
    "try:\n",
    "    conn = ibm_db.connect(dsn, \"\", \"\")\n",
    "    print (\"Connected to database: \", dsn_database, \"as user: \", dsn_uid, \"on host: \", dsn_hostname)\n",
    "\n",
    "except:\n",
    "    print (\"Unable to connect: \", ibm_db.conn_errormsg() )\n"
   ]
  },
  {
   "cell_type": "code",
   "execution_count": 78,
   "id": "4ac371e7-b0a4-41ac-879c-539ff0b43db5",
   "metadata": {},
   "outputs": [
    {
     "data": {
      "text/plain": [
       "<ibm_db.IBM_DBStatement at 0x2b0a340d570>"
      ]
     },
     "execution_count": 78,
     "metadata": {},
     "output_type": "execute_result"
    }
   ],
   "source": [
    "# Create Table\n",
    "table_name = \"Trucks\"\n",
    "sql_statement = f\"\"\"\n",
    "CREATE TABLE {table_name}(Serial_No varchar(20) PRIMARY KEY NOT NULL,\n",
    "Model varchar(20) NOT NULL,\n",
    "Manufacturer varchar(20) NOT NULL,\n",
    "Engine_Size varchar(20) NOT NULL,\n",
    "Engine_Name varchar(20) NOT NULL,\n",
    "Truck_Class varchar(20) NOT NULL)\n",
    "\"\"\"\n",
    "#conn is database server\n",
    "ibm_db.exec_immediate(conn, f\"Drop Table {table_name}\")  # drops table in case it is already preseng in DB\n",
    "ibm_db.exec_immediate(conn, sql_statement)\n"
   ]
  },
  {
   "cell_type": "code",
   "execution_count": null,
   "id": "d6f7ddf8-3492-40b1-8cf7-f67b1bfd5156",
   "metadata": {},
   "outputs": [],
   "source": []
  },
  {
   "cell_type": "code",
   "execution_count": 79,
   "id": "c6911010-efd2-442e-bd6a-21b61ed18117",
   "metadata": {},
   "outputs": [
    {
     "data": {
      "text/plain": [
       "<ibm_db.IBM_DBStatement at 0x2b0a340d9d0>"
      ]
     },
     "execution_count": 79,
     "metadata": {},
     "output_type": "execute_result"
    }
   ],
   "source": [
    "# Load data multiple rows\n",
    "sql_statement2 = \"\"\" INSERT INTO Trucks(Serial_No, Model, Manufacturer, Engine_Size, Engine_Name, Truck_Class)\n",
    "VALUES\n",
    "('A1234', 'Lonestar1', 'International1', 'Trucks1', 'Cummins ISX151', 'Class 1'),\n",
    "('A1235', 'Lonestar2', 'International2', 'Trucks2', 'Cummins ISX152', 'Class 2'),\n",
    "('A1236', 'Lonestar3', 'International3', 'Trucks3', 'Cummins ISX153', 'Class 3'),\n",
    "('A1237', 'Lonestar4', 'International4', 'Trucks4', 'Cummins ISX154', 'Class 4'),\n",
    "('A1238', 'Lonestar5', 'International5', 'Trucks5', 'Cummins ISX155', 'Class 4'),\n",
    "('A1239', 'Lonestar6', 'International6', 'Trucks6', 'Cummins ISX156', 'Class 6');\"\"\"\n",
    "ibm_db.exec_immediate(conn, sql_statement2)\n"
   ]
  },
  {
   "cell_type": "code",
   "execution_count": 83,
   "id": "1bc57c7c-aa53-45d9-b1c9-040953452f03",
   "metadata": {},
   "outputs": [
    {
     "data": {
      "text/plain": [
       "{'SERIAL_NO': 'A1234',\n",
       " 0: 'A1234',\n",
       " 'MODEL': 'Lonestar1',\n",
       " 1: 'Lonestar1',\n",
       " 'MANUFACTURER': 'International1',\n",
       " 2: 'International1',\n",
       " 'ENGINE_SIZE': 'Trucks1',\n",
       " 3: 'Trucks1',\n",
       " 'ENGINE_NAME': 'Cummins ISX151',\n",
       " 4: 'Cummins ISX151',\n",
       " 'TRUCK_CLASS': 'Class 1',\n",
       " 5: 'Class 1'}"
      ]
     },
     "execution_count": 83,
     "metadata": {},
     "output_type": "execute_result"
    }
   ],
   "source": [
    "# get table from database using select\n",
    "sql_statement3 =\"\"\"SELECT * FROM Trucks;\"\"\"\n",
    "statement = ibm_db.exec_immediate(conn, sql_statement3)\n",
    "ibm_db.fetch_both(statement)"
   ]
  },
  {
   "cell_type": "code",
   "execution_count": 88,
   "id": "61b8f13c-84be-4b1a-bfbd-ae52a1845cb0",
   "metadata": {},
   "outputs": [],
   "source": [
    "# import ibm_db\n",
    "# import pandas as pd\n",
    "# import ibm_db_dbi as db\n",
    "pconn = db.Connection(conn)\n",
    "df = pd.read_sql(sql_statement3, pconn)\n",
    "    "
   ]
  },
  {
   "cell_type": "code",
   "execution_count": 89,
   "id": "b1fd421f-e67e-4386-b062-8e414e0cc6d5",
   "metadata": {},
   "outputs": [
    {
     "data": {
      "text/html": [
       "<div>\n",
       "<style scoped>\n",
       "    .dataframe tbody tr th:only-of-type {\n",
       "        vertical-align: middle;\n",
       "    }\n",
       "\n",
       "    .dataframe tbody tr th {\n",
       "        vertical-align: top;\n",
       "    }\n",
       "\n",
       "    .dataframe thead th {\n",
       "        text-align: right;\n",
       "    }\n",
       "</style>\n",
       "<table border=\"1\" class=\"dataframe\">\n",
       "  <thead>\n",
       "    <tr style=\"text-align: right;\">\n",
       "      <th></th>\n",
       "      <th>SERIAL_NO</th>\n",
       "      <th>MODEL</th>\n",
       "      <th>MANUFACTURER</th>\n",
       "      <th>ENGINE_SIZE</th>\n",
       "      <th>ENGINE_NAME</th>\n",
       "      <th>TRUCK_CLASS</th>\n",
       "    </tr>\n",
       "  </thead>\n",
       "  <tbody>\n",
       "    <tr>\n",
       "      <th>0</th>\n",
       "      <td>A1234</td>\n",
       "      <td>Lonestar1</td>\n",
       "      <td>International1</td>\n",
       "      <td>Trucks1</td>\n",
       "      <td>Cummins ISX151</td>\n",
       "      <td>Class 1</td>\n",
       "    </tr>\n",
       "    <tr>\n",
       "      <th>1</th>\n",
       "      <td>A1235</td>\n",
       "      <td>Lonestar2</td>\n",
       "      <td>International2</td>\n",
       "      <td>Trucks2</td>\n",
       "      <td>Cummins ISX152</td>\n",
       "      <td>Class 2</td>\n",
       "    </tr>\n",
       "    <tr>\n",
       "      <th>2</th>\n",
       "      <td>A1236</td>\n",
       "      <td>Lonestar3</td>\n",
       "      <td>International3</td>\n",
       "      <td>Trucks3</td>\n",
       "      <td>Cummins ISX153</td>\n",
       "      <td>Class 3</td>\n",
       "    </tr>\n",
       "    <tr>\n",
       "      <th>3</th>\n",
       "      <td>A1237</td>\n",
       "      <td>Lonestar4</td>\n",
       "      <td>International4</td>\n",
       "      <td>Trucks4</td>\n",
       "      <td>Cummins ISX154</td>\n",
       "      <td>Class 4</td>\n",
       "    </tr>\n",
       "    <tr>\n",
       "      <th>4</th>\n",
       "      <td>A1238</td>\n",
       "      <td>Lonestar5</td>\n",
       "      <td>International5</td>\n",
       "      <td>Trucks5</td>\n",
       "      <td>Cummins ISX155</td>\n",
       "      <td>Class 4</td>\n",
       "    </tr>\n",
       "    <tr>\n",
       "      <th>5</th>\n",
       "      <td>A1239</td>\n",
       "      <td>Lonestar6</td>\n",
       "      <td>International6</td>\n",
       "      <td>Trucks6</td>\n",
       "      <td>Cummins ISX156</td>\n",
       "      <td>Class 6</td>\n",
       "    </tr>\n",
       "  </tbody>\n",
       "</table>\n",
       "</div>"
      ],
      "text/plain": [
       "  SERIAL_NO      MODEL    MANUFACTURER ENGINE_SIZE     ENGINE_NAME TRUCK_CLASS\n",
       "0     A1234  Lonestar1  International1     Trucks1  Cummins ISX151     Class 1\n",
       "1     A1235  Lonestar2  International2     Trucks2  Cummins ISX152     Class 2\n",
       "2     A1236  Lonestar3  International3     Trucks3  Cummins ISX153     Class 3\n",
       "3     A1237  Lonestar4  International4     Trucks4  Cummins ISX154     Class 4\n",
       "4     A1238  Lonestar5  International5     Trucks5  Cummins ISX155     Class 4\n",
       "5     A1239  Lonestar6  International6     Trucks6  Cummins ISX156     Class 6"
      ]
     },
     "execution_count": 89,
     "metadata": {},
     "output_type": "execute_result"
    }
   ],
   "source": [
    "df"
   ]
  },
  {
   "cell_type": "code",
   "execution_count": null,
   "id": "84c50859-7a40-4442-8130-ae1bd239773b",
   "metadata": {},
   "outputs": [],
   "source": []
  }
 ],
 "metadata": {
  "kernelspec": {
   "display_name": "Python 3",
   "language": "python",
   "name": "python3"
  },
  "language_info": {
   "codemirror_mode": {
    "name": "ipython",
    "version": 3
   },
   "file_extension": ".py",
   "mimetype": "text/x-python",
   "name": "python",
   "nbconvert_exporter": "python",
   "pygments_lexer": "ipython3",
   "version": "3.7.10"
  }
 },
 "nbformat": 4,
 "nbformat_minor": 5
}
