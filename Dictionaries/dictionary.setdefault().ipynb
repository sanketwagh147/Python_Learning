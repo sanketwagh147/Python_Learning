{
 "cells": [
  {
   "cell_type": "markdown",
   "id": "fa6fae22-3014-4b72-9f5f-6918ba15de11",
   "metadata": {},
   "source": [
    "### dictionary.setdefault(<font color = red>key</font>,<font color = orange>default</font>)\n",
    ">`key` is a key in the dictionary which the function returns its value</br>, if key is absent then it adds the key with default value***\n",
    ">This function has no effect if the key is present in the dictionary</br>\n",
    ">`default` is optional if it is not specified the value of key (in case it is not already inside the dictionary) is set to `None`"
   ]
  },
  {
   "cell_type": "code",
   "execution_count": 7,
   "id": "de226484-facb-4e8f-a589-74c112d8cd4a",
   "metadata": {},
   "outputs": [],
   "source": [
    "a_dict = {\"a\":1, \"b\":2}\n"
   ]
  },
  {
   "cell_type": "code",
   "execution_count": 2,
   "id": "7e8bff4a-5388-4d55-82cf-7a8c44589cd8",
   "metadata": {},
   "outputs": [
    {
     "data": {
      "text/plain": [
       "'default'"
      ]
     },
     "execution_count": 2,
     "metadata": {},
     "output_type": "execute_result"
    }
   ],
   "source": [
    "a_dict.setdefault(\"d\" , \"default\") "
   ]
  },
  {
   "cell_type": "markdown",
   "id": "df4a715e-fa96-4dfa-b9ba-c0992a8022bc",
   "metadata": {},
   "source": [
    "\"d\" is not inside the dictionary so it is added with default value which can be any object"
   ]
  },
  {
   "cell_type": "code",
   "execution_count": 3,
   "id": "713a6442-ce24-410b-8e2e-198e03d156a5",
   "metadata": {},
   "outputs": [
    {
     "data": {
      "text/plain": [
       "{'a': 1, 'b': 2, 'd': 'default'}"
      ]
     },
     "execution_count": 3,
     "metadata": {},
     "output_type": "execute_result"
    }
   ],
   "source": [
    "a_dict\n"
   ]
  },
  {
   "cell_type": "code",
   "execution_count": 11,
   "id": "c92c54d1-c4ef-4997-a7c0-6840c6527dec",
   "metadata": {},
   "outputs": [],
   "source": [
    "a_dict.setdefault(\"e\")  "
   ]
  },
  {
   "cell_type": "markdown",
   "id": "1accf690-a02f-44a9-af4b-40acf049bab7",
   "metadata": {},
   "source": [
    "As default is not specified the value of new key \"e\" is set to None."
   ]
  },
  {
   "cell_type": "code",
   "execution_count": 4,
   "id": "d431a261-07a0-4747-a037-ab480f708313",
   "metadata": {},
   "outputs": [
    {
     "data": {
      "text/plain": [
       "{'a': 1, 'b': 2, 'd': 'default'}"
      ]
     },
     "execution_count": 4,
     "metadata": {},
     "output_type": "execute_result"
    }
   ],
   "source": [
    "a_dict"
   ]
  },
  {
   "cell_type": "code",
   "execution_count": 10,
   "id": "37b9e2fd",
   "metadata": {},
   "outputs": [
    {
     "name": "stdout",
     "output_type": "stream",
     "text": [
      "{'a': 1, 'b': 2, 'e': 'default'}\n",
      "{'a': 1, 'b': 2, 'e': 'default'}\n",
      "{'a': 1, 'b': 2, 'e': 'default'}\n",
      "{'a': 1, 'b': 2, 'e': 'default', 'f': 'default'}\n"
     ]
    }
   ],
   "source": [
    "for each in [\"a\", \"b\", \"e\", \"f\"]:\n",
    "    a_dict.setdefault(each, \"default\")\n",
    "    print(a_dict)\n",
    "    # a_dict[each] = \"some value\"\n",
    "    # print(a_dict)\n"
   ]
  },
  {
   "cell_type": "code",
   "execution_count": null,
   "id": "bbfa46c0",
   "metadata": {},
   "outputs": [],
   "source": []
  }
 ],
 "metadata": {
  "kernelspec": {
   "display_name": "Python 3",
   "language": "python",
   "name": "python3"
  },
  "language_info": {
   "codemirror_mode": {
    "name": "ipython",
    "version": 3
   },
   "file_extension": ".py",
   "mimetype": "text/x-python",
   "name": "python",
   "nbconvert_exporter": "python",
   "pygments_lexer": "ipython3",
   "version": "3.10.0"
  }
 },
 "nbformat": 4,
 "nbformat_minor": 5
}
