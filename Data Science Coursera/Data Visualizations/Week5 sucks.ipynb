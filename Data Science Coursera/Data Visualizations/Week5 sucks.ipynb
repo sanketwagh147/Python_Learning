{
 "cells": [
  {
   "cell_type": "code",
   "execution_count": null,
   "metadata": {
    "collapsed": true
   },
   "outputs": [],
   "source": []
  },
  {
   "cell_type": "code",
   "execution_count": 2,
   "outputs": [],
   "source": [
    "import pandas as pd\n",
    "import dash\n",
    "from dash import html\n",
    "from dash import dcc\n",
    "from dash.dependencies import Input, Output, State\n",
    "import plotly.graph_objects as go\n",
    "import plotly.express as px\n",
    "from dash import no_update\n"
   ],
   "metadata": {
    "collapsed": false,
    "pycharm": {
     "name": "#%%\n"
    }
   }
  },
  {
   "cell_type": "code",
   "execution_count": 3,
   "outputs": [],
   "source": [
    "\n",
    "app = dash.Dash(__name__)\n",
    "\n",
    "# REVIEW1: Clear the layout and do not display exception till callback gets executed\n",
    "app.config.suppress_callback_exceptions = True\n",
    "\n",
    "# Read the automobiles data into pandas dataframe\n",
    "# Read the airline data into pandas dataframe\n",
    "airline_data =  pd.read_csv('https://cf-courses-data.s3.us.cloud-object-storage.appdomain.cloud/IBMDeveloperSkillsNetwork-DV0101EN-SkillsNetwork/Data%20Files/airline_data.csv',\n",
    "                            encoding = \"ISO-8859-1\",\n",
    "                            dtype={'Div1Airport': str, 'Div1TailNum': str,\n",
    "                                   'Div2Airport': str, 'Div2TailNum': str})\n",
    "\n",
    "year_list = [i for i in range(2005, 2021, 1)]\n",
    "\n",
    "\"\"\"Compute graph data for creating yearly airline performance report\n",
    "\n",
    "Function that takes airline data as input and create 5 dataframes based on the grouping condition to be used for plottling charts and grphs.\n",
    "\n",
    "Argument:\n",
    "\n",
    "    df: Filtered dataframe\n",
    "\n",
    "Returns:\n",
    "   Dataframes to create graph.\n",
    "\"\"\"\n",
    "def compute_data_choice_1(df):\n",
    "    # Cancellation Category Count\n",
    "    bar_data = df.groupby(['Month','CancellationCode'])['Flights'].sum().reset_index()\n",
    "    # Average flight time by reporting airline\n",
    "    line_data = df.groupby(['Month','Reporting_Airline'])['AirTime'].mean().reset_index()\n",
    "    # Diverted Airport Landings\n",
    "    div_data = df[df['DivAirportLandings'] != 0.0]\n",
    "    # Source state count\n",
    "    map_data = df.groupby(['OriginState'])['Flights'].sum().reset_index()\n",
    "    # Destination state count\n",
    "    tree_data = df.groupby(['DestState', 'Reporting_Airline'])['Flights'].sum().reset_index()\n",
    "    return bar_data, line_data, div_data, map_data, tree_data\n"
   ],
   "metadata": {
    "collapsed": false,
    "pycharm": {
     "name": "#%%\n"
    }
   }
  },
  {
   "cell_type": "code",
   "execution_count": null,
   "outputs": [],
   "source": [
    "\n",
    "#Layout Section of Dash\n",
    "app.layout = html.Div(children=[\n",
    "                                html.H1('Car Automobile Components',\n",
    "                                         style={'textAlign': 'center', 'color': '#503D36',\n",
    "                                               'font-size': 24}),\n",
    "\n",
    "                                #outer division starts\n",
    "                                html.Div([\n",
    "                                    # First inner divsion for  adding dropdown helper text for Selected Drive wheels\n",
    "                                    html.Div(\n",
    "                                        [\n",
    "                                            #TASK 3B\n",
    "                                            html.H2('Drive Wheels Type:', style={'margin-right': '2em'}),\n",
    "                                        ]\n",
    "                                    ),\n",
    "\n",
    "\n",
    "                                    #TASK 3C\n",
    "                                    dcc.Dropdown(\n",
    "                                        id='demo-dropdown',\n",
    "                                        options=[\n",
    "                                            {'label': 'Rear Wheel Drive', 'value': 'rwd'},\n",
    "                                            {'label': 'Front Wheel Drive', 'value': 'fwd'},\n",
    "                                            {'label': 'Four Wheel Drive', 'value': '4wd'}\n",
    "                                        ],\n",
    "                                        value='rwd'\n",
    "                                    ),\n",
    "\n",
    "                                    #Second Inner division for adding 2 inner divisions for 2 output graphs\n",
    "                                    html.Div([\n",
    "\n",
    "                                        #TASK 3D\n",
    "\n",
    "                                    ], style={'display': 'flex'}),\n",
    "\n",
    "\n",
    "                                ]),\n",
    "                                #outer division ends\n",
    "                                html.Div([\n",
    "                                    html.Div([ ], id='plot1'),\n",
    "                                    html.Div([ ], id='plot2')\n",
    "                                ], style={\"display\":\"flex\"}),\n",
    "\n",
    "                                ])\n",
    "#layout ends\n",
    "\n",
    "#Place to add @app.callback Decorator\n",
    "#TASK 3E\n",
    "@app.callback([Output(component_id='plot1', component_property='children'),\n",
    "               Output(component_id='plot2', component_property='children')],\n",
    "              Input(component_id='demo-dropdown', component_property='value'))\n",
    "\n",
    "#Place to define the callback function .\n",
    "#TASK 3F\n",
    "def display_selected_drive_charts(value):\n",
    "\n",
    "\n",
    "\n",
    "    filtered_df = auto_data[auto_data['drive-wheels']==value].groupby(['drive-wheels','body-style'],as_index=False). \\\n",
    "        mean()\n",
    "\n",
    "    filtered_df = filtered_df\n",
    "\n",
    "    fig1 = px.pie(filtered_df, values='price', names='body-style', title=\"Pie Chart\")\n",
    "    fig2 = px.bar(filtered_df, x='body-style', y='price', title='Bar Chart')\n",
    "\n",
    "    return [dcc.Graph(figure=fig1),\n",
    "            dcc.Graph(figure=fig2) ]\n",
    "\n",
    "\n",
    "\n",
    "\n",
    "if __name__ == '__main__':\n",
    "    app.run_server()"
   ],
   "metadata": {
    "collapsed": false,
    "pycharm": {
     "name": "#%%\n"
    }
   }
  }
 ],
 "metadata": {
  "kernelspec": {
   "display_name": "Python 3",
   "language": "python",
   "name": "python3"
  },
  "language_info": {
   "codemirror_mode": {
    "name": "ipython",
    "version": 2
   },
   "file_extension": ".py",
   "mimetype": "text/x-python",
   "name": "python",
   "nbconvert_exporter": "python",
   "pygments_lexer": "ipython2",
   "version": "2.7.6"
  }
 },
 "nbformat": 4,
 "nbformat_minor": 0
}