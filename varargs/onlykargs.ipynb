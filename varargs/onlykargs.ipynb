{
 "cells": [
  {
   "cell_type": "markdown",
   "id": "c4eed027-f68f-4f82-8e78-e5206569da25",
   "metadata": {},
   "source": [
    "# Keyword Arguments only\n",
    ">usage of single `*` implies the following arguments should be key word arguments else throws an erro."
   ]
  },
  {
   "cell_type": "code",
   "execution_count": 15,
   "id": "fd73ac58-fcad-4c6f-9f44-99ac25b492a2",
   "metadata": {},
   "outputs": [],
   "source": [
    "def funtest(a,b,*,c,d):\n",
    "    return sum([a,b,c,d])"
   ]
  },
  {
   "cell_type": "code",
   "execution_count": 16,
   "id": "dab1ffe9-fe35-4bfe-952f-276243a001f8",
   "metadata": {},
   "outputs": [
    {
     "ename": "TypeError",
     "evalue": "funtest() takes 2 positional arguments but 4 were given",
     "output_type": "error",
     "traceback": [
      "\u001b[1;31m---------------------------------------------------------------------------\u001b[0m",
      "\u001b[1;31mTypeError\u001b[0m                                 Traceback (most recent call last)",
      "\u001b[1;32m<ipython-input-16-ee0f6184eddb>\u001b[0m in \u001b[0;36m<module>\u001b[1;34m\u001b[0m\n\u001b[1;32m----> 1\u001b[1;33m \u001b[0mprint\u001b[0m\u001b[1;33m(\u001b[0m\u001b[0mfuntest\u001b[0m\u001b[1;33m(\u001b[0m\u001b[1;36m1\u001b[0m\u001b[1;33m,\u001b[0m\u001b[1;36m2\u001b[0m\u001b[1;33m,\u001b[0m\u001b[1;36m3\u001b[0m\u001b[1;33m,\u001b[0m\u001b[1;36m4\u001b[0m\u001b[1;33m)\u001b[0m\u001b[1;33m)\u001b[0m\u001b[1;33m\u001b[0m\u001b[1;33m\u001b[0m\u001b[0m\n\u001b[0m",
      "\u001b[1;31mTypeError\u001b[0m: funtest() takes 2 positional arguments but 4 were given"
     ]
    }
   ],
   "source": [
    "print(funtest(1,2,3,4))"
   ]
  },
  {
   "cell_type": "markdown",
   "id": "55ea46af-46f0-4930-b227-eee38b136273",
   "metadata": {},
   "source": [
    "__only number of arguments defined on the left side are allowed as postional argument rest should be keyword__"
   ]
  },
  {
   "cell_type": "code",
   "execution_count": 17,
   "id": "299b793b-b36d-4d2f-bbde-2c272c97b1be",
   "metadata": {},
   "outputs": [
    {
     "name": "stdout",
     "output_type": "stream",
     "text": [
      "10\n"
     ]
    }
   ],
   "source": [
    "print(funtest(1,2,c=3,d=4))"
   ]
  },
  {
   "cell_type": "markdown",
   "id": "fd0e069b-44b5-446d-b05c-1d4ad98d0245",
   "metadata": {},
   "source": [
    "_Thus only keword arguments are used in python_"
   ]
  },
  {
   "cell_type": "code",
   "execution_count": null,
   "id": "6980ab20-80a7-465d-a3b7-795f57015053",
   "metadata": {},
   "outputs": [],
   "source": []
  }
 ],
 "metadata": {
  "kernelspec": {
   "display_name": "Python 3",
   "language": "python",
   "name": "python3"
  },
  "language_info": {
   "codemirror_mode": {
    "name": "ipython",
    "version": 3
   },
   "file_extension": ".py",
   "mimetype": "text/x-python",
   "name": "python",
   "nbconvert_exporter": "python",
   "pygments_lexer": "ipython3",
   "version": "3.7.10"
  }
 },
 "nbformat": 4,
 "nbformat_minor": 5
}
