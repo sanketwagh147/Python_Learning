{
 "cells": [
  {
   "cell_type": "markdown",
   "id": "3606dd50-f631-471f-9818-77474c785b7b",
   "metadata": {},
   "source": [
    "# Usage of string formatting to print values from dictionaries"
   ]
  },
  {
   "cell_type": "code",
   "execution_count": 6,
   "id": "e01d3607-6aa7-4411-85d2-896dcd8990f8",
   "metadata": {},
   "outputs": [
    {
     "name": "stdout",
     "output_type": "stream",
     "text": [
      "You can buy Apple or Banana\n"
     ]
    }
   ],
   "source": [
    "a_dict = {\"a\": \"Apple\", \"b\": \"Banana\"}\n",
    "print(\"You can buy %(a)s or %(b)s\" % a_dict)"
   ]
  }
 ],
 "metadata": {
  "kernelspec": {
   "display_name": "Python 3",
   "language": "python",
   "name": "python3"
  },
  "language_info": {
   "codemirror_mode": {
    "name": "ipython",
    "version": 3
   },
   "file_extension": ".py",
   "mimetype": "text/x-python",
   "name": "python",
   "nbconvert_exporter": "python",
   "pygments_lexer": "ipython3",
   "version": "3.7.3"
  }
 },
 "nbformat": 4,
 "nbformat_minor": 5
}
