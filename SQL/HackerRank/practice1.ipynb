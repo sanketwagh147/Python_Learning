{
 "cells": [
  {
   "cell_type": "code",
   "execution_count": 30,
   "metadata": {},
   "outputs": [
    {
     "name": "stdout",
     "output_type": "stream",
     "text": [
      "['charlie alfa tango', 'cat']\n"
     ]
    }
   ],
   "source": [
    "nato_alphabet = {'a':'Alfa', 'A': 'Alfa', 'b': 'Bravo', 'B': 'Bravo', 'c': 'Charlie', 'C': 'Charlie', 'd': 'Delta', 'D':'Delta', 'e': 'Echo', 'E':'Echo', 'f': 'Foxtrot', 'F': 'Foxtrot', 'G': 'Golf', 'g': 'Golf', 'h': 'Hotel', 'H': 'Hotel', 'k': 'Kilo', 'K': 'Kilo', 'l': 'Lima', 'L': 'Lima', 'm': 'Mike', 'M': 'Mike', 'n': 'November', 'N': 'November', 'o': 'Oscar', 'O': 'Oscar',\n",
    "'p': 'Papa', 'P': 'Papa', 'q': 'Quebec', 'Q': 'Quebec', 'r': 'Romeo', 'R': 'Romeo', 's': 'Sierra', 'S': 'Sierra', 't':'Tango', 'T': 'Tango', 'u': 'Uniform', 'U': 'Uniform', 'V': 'Victor', 'v': 'Victor', 'w': 'Whiskey', 'W': 'Whiskey', 'y': 'Yankee', 'Y': 'Yankee', 'Z': 'Zulu', 'z': 'Zulu'}\n",
    "nato_alphabet_inverse = {v.lower():k.lower() for k,v in nato_alphabet.items()}\n",
    "nato_alphabet = {k.lower():v.lower() for k,v in nato_alphabet.items()}\n",
    "# print(nato_alphabet_inverse)\n",
    "\n",
    "def convert(list_to_convert):\n",
    "    return_list = []\n",
    "    for each_item in list_to_convert:\n",
    "        # print(each_item)\n",
    "        if \" \" in each_item:  # Sentence thus must be converted to Alphabets\n",
    "            l_ = each_item.split()\n",
    "            temp_list = []\n",
    "            for each_word in l_:\n",
    "                # print(each_word)\n",
    "                temp_list.append(nato_alphabet_inverse[each_word.lower()])\n",
    "                # return_list.append()\n",
    "            return_list.append(\"\".join(temp_list))\n",
    "\n",
    "\n",
    "        else:  # Convert to equivalent Nato\n",
    "            temp_list = []\n",
    "            for chr in each_item:\n",
    "                # print(chr)\n",
    "                temp_list.append(nato_alphabet[chr.lower()])\n",
    "            str_ = \" \".join(temp_list)\n",
    "            return_list.append(str_)\n",
    "    return return_list\n",
    "\n",
    "# #Passing through a list \n",
    "\n",
    "# def convert(word_to_convert):\n",
    "#     word_converted= []\n",
    "#     for i in word_to_convert:\n",
    "#         for letter, letter_conversion in nato_alphabet.items():\n",
    "#             if i == letter:\n",
    "#                 word_converted.append(letter_conversion)\n",
    "\n",
    "#             if i == letter_conversion:  \n",
    "#                 word_converted.append(letter)   \n",
    "\n",
    "#             if len(i) == letter:\n",
    "#                 word_converted.append(letter_conversion )                   \n",
    "#     return  word_converted                  \n",
    "    \n",
    "\n",
    "print(convert(['cAT',\"charlie alfa tango\"]))\n"
   ]
  },
  {
   "cell_type": "code",
   "execution_count": 1,
   "metadata": {},
   "outputs": [],
   "source": [
    "import random\n",
    "import sys\n",
    "from datetime import date\n",
    "\n",
    "input1 =  int(input(\"Please enter the year in which you were born\\n\"))\n",
    "input2 = int(input(\"Please enter the month in which you were born\\n\"))\n",
    "input3 = int(input(\"Please enter the day on which you were born\\n\"))\n",
    "\n",
    "if 1 <= input2 <= 2:\n",
    "    input1 -= 1\n",
    "elif input2 < 3:\n",
    "    input2 = input2 + 10\n",
    "else:\n",
    "    input2 = input2 - 2\n",
    "    \n",
    "inputweekday = str(input(f'Enter the day of the week on which you were born here\\n'))\n",
    "\n",
    "week_days=[\"su\", \"mo\", \"tu\", \"we\", \"th\", \"fr\", \"sa\"]\n",
    "D = abs(input1) % 100\n",
    "C = int(str(input1)[:2])\n",
    "A = 13*(input2 +1)\n",
    "F = (input3 + (A//5) + D + (D//4) + (C//4) - 2*C) % 7\n",
    "print(F)\n",
    "     "
   ]
  },
  {
   "cell_type": "code",
   "execution_count": null,
   "metadata": {},
   "outputs": [],
   "source": []
  }
 ],
 "metadata": {
  "interpreter": {
   "hash": "b3ba2566441a7c06988d0923437866b63cedc61552a5af99d1f4fb67d367b25f"
  },
  "kernelspec": {
   "display_name": "Python 3.8.8 64-bit ('base': conda)",
   "name": "python3"
  },
  "language_info": {
   "codemirror_mode": {
    "name": "ipython",
    "version": 3
   },
   "file_extension": ".py",
   "mimetype": "text/x-python",
   "name": "python",
   "nbconvert_exporter": "python",
   "pygments_lexer": "ipython3",
   "version": "3.8.8"
  },
  "orig_nbformat": 4
 },
 "nbformat": 4,
 "nbformat_minor": 2
}
