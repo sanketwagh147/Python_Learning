{
 "cells": [
  {
   "cell_type": "markdown",
   "id": "87644689-55de-45d4-bf46-0b0d589d8514",
   "metadata": {},
   "source": [
    "# ALTER BASICSC"
   ]
  },
  {
   "cell_type": "markdown",
   "id": "16c164b0-ddd5-4b7d-91c0-13995419dd8a",
   "metadata": {},
   "source": [
    "#### Connect to database"
   ]
  },
  {
   "cell_type": "code",
   "execution_count": null,
   "id": "bb2f07e3-ceee-47be-9d11-16192732037c",
   "metadata": {},
   "outputs": [],
   "source": [
    "# !pip install sqlalchemy==1.3.9\n",
    "# !pip install ibm_db_sa"
   ]
  },
  {
   "cell_type": "code",
   "execution_count": 2,
   "id": "aceae802-4d7a-4238-84e8-6fdde9ae8a77",
   "metadata": {},
   "outputs": [
    {
     "name": "stdout",
     "output_type": "stream",
     "text": [
      "The sql extension is already loaded. To reload it, use:\n",
      "  %reload_ext sql\n"
     ]
    },
    {
     "data": {
      "text/plain": [
       "'Connected: mgr61801@bludb'"
      ]
     },
     "execution_count": 2,
     "metadata": {},
     "output_type": "execute_result"
    }
   ],
   "source": [
    "%load_ext sql\n",
    "%sql ibm_db_sa://mgr61801:aG6rnocuLnVjRZCo@0c77d6f2-5da9-48a9-81f8-86b520b87518.bs2io90l08kqb1od8lcg.databases.appdomain.cloud:31198/bludb?security=SSL"
   ]
  },
  {
   "cell_type": "markdown",
   "id": "a41dbb3b-f36b-4134-a825-14f8fc40885e",
   "metadata": {},
   "source": [
    "## Add new columns to the database"
   ]
  },
  {
   "cell_type": "code",
   "execution_count": 8,
   "id": "3c4fdc4b-9c33-4637-990d-12b785494940",
   "metadata": {},
   "outputs": [
    {
     "name": "stdout",
     "output_type": "stream",
     "text": [
      " * ibm_db_sa://mgr61801:***@0c77d6f2-5da9-48a9-81f8-86b520b87518.bs2io90l08kqb1od8lcg.databases.appdomain.cloud:31198/bludb\n",
      "Done.\n"
     ]
    },
    {
     "data": {
      "text/plain": [
       "[]"
      ]
     },
     "execution_count": 12,
     "metadata": {},
     "output_type": "execute_result"
    }
   ],
   "source": [
    "%%sql\n",
    "-- Syntax to add new column to the table\n",
    "alter table testtable1\n",
    "add column mobile bigint  ;\n"
   ]
  },
  {
   "cell_type": "code",
   "execution_count": 14,
   "id": "8275784d-8f53-45fb-85bc-62fd594c9e7b",
   "metadata": {},
   "outputs": [
    {
     "name": "stdout",
     "output_type": "stream",
     "text": [
      " * ibm_db_sa://mgr61801:***@0c77d6f2-5da9-48a9-81f8-86b520b87518.bs2io90l08kqb1od8lcg.databases.appdomain.cloud:31198/bludb\n",
      "Done.\n"
     ]
    },
    {
     "data": {
      "text/plain": [
       "[]"
      ]
     },
     "execution_count": 14,
     "metadata": {},
     "output_type": "execute_result"
    }
   ],
   "source": [
    "%%sql\n",
    "-- Syntax to add new column to the table setting default and not null\n",
    "ALTER TABLE testtable1\n",
    "ADD COLUMN mobile2 BIGINT NOT NULL DEFAULT 20;"
   ]
  },
  {
   "cell_type": "code",
   "execution_count": 15,
   "id": "4e1b6950-087d-4cdd-9757-7b8e84b3cd5f",
   "metadata": {},
   "outputs": [
    {
     "name": "stdout",
     "output_type": "stream",
     "text": [
      " * ibm_db_sa://mgr61801:***@0c77d6f2-5da9-48a9-81f8-86b520b87518.bs2io90l08kqb1od8lcg.databases.appdomain.cloud:31198/bludb\n",
      "Done.\n"
     ]
    },
    {
     "data": {
      "text/html": [
       "<table>\n",
       "    <thead>\n",
       "        <tr>\n",
       "            <th>serial_number</th>\n",
       "            <th>name</th>\n",
       "            <th>name1</th>\n",
       "            <th>name2</th>\n",
       "            <th>name3</th>\n",
       "            <th>mobile</th>\n",
       "            <th>mobile1</th>\n",
       "            <th>mobile2</th>\n",
       "        </tr>\n",
       "    </thead>\n",
       "    <tbody>\n",
       "        <tr>\n",
       "            <td>1</td>\n",
       "            <td>sanket</td>\n",
       "            <td>prada</td>\n",
       "            <td>waghya</td>\n",
       "            <td>jigar</td>\n",
       "            <td>None</td>\n",
       "            <td>1</td>\n",
       "            <td>20</td>\n",
       "        </tr>\n",
       "        <tr>\n",
       "            <td>2</td>\n",
       "            <td>sanket1</td>\n",
       "            <td>prada1</td>\n",
       "            <td>waghya1</td>\n",
       "            <td>jigar1</td>\n",
       "            <td>None</td>\n",
       "            <td>1</td>\n",
       "            <td>20</td>\n",
       "        </tr>\n",
       "        <tr>\n",
       "            <td>3</td>\n",
       "            <td>7IMF7</td>\n",
       "            <td>8NMTC</td>\n",
       "            <td>XCL66</td>\n",
       "            <td>KZUD3</td>\n",
       "            <td>None</td>\n",
       "            <td>1</td>\n",
       "            <td>20</td>\n",
       "        </tr>\n",
       "        <tr>\n",
       "            <td>4</td>\n",
       "            <td>GY4T8</td>\n",
       "            <td>PC4SI</td>\n",
       "            <td>XRTSK</td>\n",
       "            <td>Y0O4J</td>\n",
       "            <td>None</td>\n",
       "            <td>1</td>\n",
       "            <td>20</td>\n",
       "        </tr>\n",
       "        <tr>\n",
       "            <td>5</td>\n",
       "            <td>5DNIQ</td>\n",
       "            <td>FKIZT</td>\n",
       "            <td>Q63GC</td>\n",
       "            <td>CS4MF</td>\n",
       "            <td>None</td>\n",
       "            <td>1</td>\n",
       "            <td>20</td>\n",
       "        </tr>\n",
       "        <tr>\n",
       "            <td>6</td>\n",
       "            <td>Q0SCT</td>\n",
       "            <td>BBLTU</td>\n",
       "            <td>WFD5R</td>\n",
       "            <td>PJHQU</td>\n",
       "            <td>None</td>\n",
       "            <td>1</td>\n",
       "            <td>20</td>\n",
       "        </tr>\n",
       "        <tr>\n",
       "            <td>7</td>\n",
       "            <td>31ULI</td>\n",
       "            <td>66BKA</td>\n",
       "            <td>M3ESZ</td>\n",
       "            <td>XKFD5</td>\n",
       "            <td>None</td>\n",
       "            <td>1</td>\n",
       "            <td>20</td>\n",
       "        </tr>\n",
       "    </tbody>\n",
       "</table>"
      ],
      "text/plain": [
       "[(1, 'sanket', 'prada', 'waghya', 'jigar', None, 1, 20),\n",
       " (2, 'sanket1', 'prada1', 'waghya1', 'jigar1', None, 1, 20),\n",
       " (3, '7IMF7', '8NMTC', 'XCL66', 'KZUD3', None, 1, 20),\n",
       " (4, 'GY4T8', 'PC4SI', 'XRTSK', 'Y0O4J', None, 1, 20),\n",
       " (5, '5DNIQ', 'FKIZT', 'Q63GC', 'CS4MF', None, 1, 20),\n",
       " (6, 'Q0SCT', 'BBLTU', 'WFD5R', 'PJHQU', None, 1, 20),\n",
       " (7, '31ULI', '66BKA', 'M3ESZ', 'XKFD5', None, 1, 20)]"
      ]
     },
     "execution_count": 15,
     "metadata": {},
     "output_type": "execute_result"
    }
   ],
   "source": [
    "%sql select * from testtable1"
   ]
  },
  {
   "cell_type": "markdown",
   "id": "2f88fce4-f0b7-4922-b5af-f604b863900d",
   "metadata": {},
   "source": [
    "## TO CHANGE THE DATA TYPE OF EXISTING COLUMN"
   ]
  },
  {
   "cell_type": "code",
   "execution_count": 17,
   "id": "03d70f51-34ee-446a-8d31-826927c6799e",
   "metadata": {},
   "outputs": [
    {
     "name": "stdout",
     "output_type": "stream",
     "text": [
      " * ibm_db_sa://mgr61801:***@0c77d6f2-5da9-48a9-81f8-86b520b87518.bs2io90l08kqb1od8lcg.databases.appdomain.cloud:31198/bludb\n",
      "Done.\n"
     ]
    },
    {
     "data": {
      "text/plain": [
       "[]"
      ]
     },
     "execution_count": 17,
     "metadata": {},
     "output_type": "execute_result"
    }
   ],
   "source": [
    "%%sql\n",
    "-- Syntax to add new column to the table setting default and not null\n",
    "ALTER TABLE testtable1\n",
    "ALTER COLUMN mobile2 SET DATA TYPE CHAR(20);"
   ]
  },
  {
   "cell_type": "code",
   "execution_count": 18,
   "id": "748f597a-650f-41e5-a2b5-7eeaddba238e",
   "metadata": {},
   "outputs": [
    {
     "name": "stdout",
     "output_type": "stream",
     "text": [
      " * ibm_db_sa://mgr61801:***@0c77d6f2-5da9-48a9-81f8-86b520b87518.bs2io90l08kqb1od8lcg.databases.appdomain.cloud:31198/bludb\n",
      "Done.\n"
     ]
    },
    {
     "data": {
      "text/html": [
       "<table>\n",
       "    <thead>\n",
       "        <tr>\n",
       "            <th>serial_number</th>\n",
       "            <th>name</th>\n",
       "            <th>name1</th>\n",
       "            <th>name2</th>\n",
       "            <th>name3</th>\n",
       "            <th>mobile</th>\n",
       "            <th>mobile1</th>\n",
       "            <th>mobile2</th>\n",
       "        </tr>\n",
       "    </thead>\n",
       "    <tbody>\n",
       "        <tr>\n",
       "            <td>1</td>\n",
       "            <td>sanket</td>\n",
       "            <td>prada</td>\n",
       "            <td>waghya</td>\n",
       "            <td>jigar</td>\n",
       "            <td>None</td>\n",
       "            <td>1</td>\n",
       "            <td>20                  </td>\n",
       "        </tr>\n",
       "        <tr>\n",
       "            <td>2</td>\n",
       "            <td>sanket1</td>\n",
       "            <td>prada1</td>\n",
       "            <td>waghya1</td>\n",
       "            <td>jigar1</td>\n",
       "            <td>None</td>\n",
       "            <td>1</td>\n",
       "            <td>20                  </td>\n",
       "        </tr>\n",
       "        <tr>\n",
       "            <td>3</td>\n",
       "            <td>7IMF7</td>\n",
       "            <td>8NMTC</td>\n",
       "            <td>XCL66</td>\n",
       "            <td>KZUD3</td>\n",
       "            <td>None</td>\n",
       "            <td>1</td>\n",
       "            <td>20                  </td>\n",
       "        </tr>\n",
       "        <tr>\n",
       "            <td>4</td>\n",
       "            <td>GY4T8</td>\n",
       "            <td>PC4SI</td>\n",
       "            <td>XRTSK</td>\n",
       "            <td>Y0O4J</td>\n",
       "            <td>None</td>\n",
       "            <td>1</td>\n",
       "            <td>20                  </td>\n",
       "        </tr>\n",
       "        <tr>\n",
       "            <td>5</td>\n",
       "            <td>5DNIQ</td>\n",
       "            <td>FKIZT</td>\n",
       "            <td>Q63GC</td>\n",
       "            <td>CS4MF</td>\n",
       "            <td>None</td>\n",
       "            <td>1</td>\n",
       "            <td>20                  </td>\n",
       "        </tr>\n",
       "        <tr>\n",
       "            <td>6</td>\n",
       "            <td>Q0SCT</td>\n",
       "            <td>BBLTU</td>\n",
       "            <td>WFD5R</td>\n",
       "            <td>PJHQU</td>\n",
       "            <td>None</td>\n",
       "            <td>1</td>\n",
       "            <td>20                  </td>\n",
       "        </tr>\n",
       "        <tr>\n",
       "            <td>7</td>\n",
       "            <td>31ULI</td>\n",
       "            <td>66BKA</td>\n",
       "            <td>M3ESZ</td>\n",
       "            <td>XKFD5</td>\n",
       "            <td>None</td>\n",
       "            <td>1</td>\n",
       "            <td>20                  </td>\n",
       "        </tr>\n",
       "    </tbody>\n",
       "</table>"
      ],
      "text/plain": [
       "[(1, 'sanket', 'prada', 'waghya', 'jigar', None, 1, '20                  '),\n",
       " (2, 'sanket1', 'prada1', 'waghya1', 'jigar1', None, 1, '20                  '),\n",
       " (3, '7IMF7', '8NMTC', 'XCL66', 'KZUD3', None, 1, '20                  '),\n",
       " (4, 'GY4T8', 'PC4SI', 'XRTSK', 'Y0O4J', None, 1, '20                  '),\n",
       " (5, '5DNIQ', 'FKIZT', 'Q63GC', 'CS4MF', None, 1, '20                  '),\n",
       " (6, 'Q0SCT', 'BBLTU', 'WFD5R', 'PJHQU', None, 1, '20                  '),\n",
       " (7, '31ULI', '66BKA', 'M3ESZ', 'XKFD5', None, 1, '20                  ')]"
      ]
     },
     "execution_count": 18,
     "metadata": {},
     "output_type": "execute_result"
    }
   ],
   "source": [
    "%sql select * from testtable1"
   ]
  },
  {
   "cell_type": "markdown",
   "id": "e9e7b28e-44bf-4b21-a16f-cddb53685451",
   "metadata": {},
   "source": [
    "## To drop a column or delete a column"
   ]
  },
  {
   "cell_type": "code",
   "execution_count": 21,
   "id": "b56edc46-6b87-4ca9-a737-98178b791faa",
   "metadata": {},
   "outputs": [
    {
     "name": "stdout",
     "output_type": "stream",
     "text": [
      " * ibm_db_sa://mgr61801:***@0c77d6f2-5da9-48a9-81f8-86b520b87518.bs2io90l08kqb1od8lcg.databases.appdomain.cloud:31198/bludb\n",
      "Done.\n"
     ]
    },
    {
     "data": {
      "text/plain": [
       "[]"
      ]
     },
     "execution_count": 21,
     "metadata": {},
     "output_type": "execute_result"
    }
   ],
   "source": [
    "%%sql\n",
    "alter table testtable1\n",
    "drop column mobile1;"
   ]
  },
  {
   "cell_type": "code",
   "execution_count": 22,
   "id": "4f484eb8-25b4-4a6c-b6b0-836a3dca4342",
   "metadata": {},
   "outputs": [
    {
     "name": "stdout",
     "output_type": "stream",
     "text": [
      " * ibm_db_sa://mgr61801:***@0c77d6f2-5da9-48a9-81f8-86b520b87518.bs2io90l08kqb1od8lcg.databases.appdomain.cloud:31198/bludb\n",
      "Done.\n"
     ]
    },
    {
     "data": {
      "text/html": [
       "<table>\n",
       "    <thead>\n",
       "        <tr>\n",
       "            <th>serial_number</th>\n",
       "            <th>name</th>\n",
       "            <th>name1</th>\n",
       "            <th>name2</th>\n",
       "            <th>name3</th>\n",
       "            <th>mobile</th>\n",
       "            <th>mobile2</th>\n",
       "        </tr>\n",
       "    </thead>\n",
       "    <tbody>\n",
       "        <tr>\n",
       "            <td>1</td>\n",
       "            <td>sanket</td>\n",
       "            <td>prada</td>\n",
       "            <td>waghya</td>\n",
       "            <td>jigar</td>\n",
       "            <td>None</td>\n",
       "            <td>20                  </td>\n",
       "        </tr>\n",
       "        <tr>\n",
       "            <td>2</td>\n",
       "            <td>sanket1</td>\n",
       "            <td>prada1</td>\n",
       "            <td>waghya1</td>\n",
       "            <td>jigar1</td>\n",
       "            <td>None</td>\n",
       "            <td>20                  </td>\n",
       "        </tr>\n",
       "        <tr>\n",
       "            <td>3</td>\n",
       "            <td>7IMF7</td>\n",
       "            <td>8NMTC</td>\n",
       "            <td>XCL66</td>\n",
       "            <td>KZUD3</td>\n",
       "            <td>None</td>\n",
       "            <td>20                  </td>\n",
       "        </tr>\n",
       "        <tr>\n",
       "            <td>4</td>\n",
       "            <td>GY4T8</td>\n",
       "            <td>PC4SI</td>\n",
       "            <td>XRTSK</td>\n",
       "            <td>Y0O4J</td>\n",
       "            <td>None</td>\n",
       "            <td>20                  </td>\n",
       "        </tr>\n",
       "        <tr>\n",
       "            <td>5</td>\n",
       "            <td>5DNIQ</td>\n",
       "            <td>FKIZT</td>\n",
       "            <td>Q63GC</td>\n",
       "            <td>CS4MF</td>\n",
       "            <td>None</td>\n",
       "            <td>20                  </td>\n",
       "        </tr>\n",
       "        <tr>\n",
       "            <td>6</td>\n",
       "            <td>Q0SCT</td>\n",
       "            <td>BBLTU</td>\n",
       "            <td>WFD5R</td>\n",
       "            <td>PJHQU</td>\n",
       "            <td>None</td>\n",
       "            <td>20                  </td>\n",
       "        </tr>\n",
       "        <tr>\n",
       "            <td>7</td>\n",
       "            <td>31ULI</td>\n",
       "            <td>66BKA</td>\n",
       "            <td>M3ESZ</td>\n",
       "            <td>XKFD5</td>\n",
       "            <td>None</td>\n",
       "            <td>20                  </td>\n",
       "        </tr>\n",
       "    </tbody>\n",
       "</table>"
      ],
      "text/plain": [
       "[(1, 'sanket', 'prada', 'waghya', 'jigar', None, '20                  '),\n",
       " (2, 'sanket1', 'prada1', 'waghya1', 'jigar1', None, '20                  '),\n",
       " (3, '7IMF7', '8NMTC', 'XCL66', 'KZUD3', None, '20                  '),\n",
       " (4, 'GY4T8', 'PC4SI', 'XRTSK', 'Y0O4J', None, '20                  '),\n",
       " (5, '5DNIQ', 'FKIZT', 'Q63GC', 'CS4MF', None, '20                  '),\n",
       " (6, 'Q0SCT', 'BBLTU', 'WFD5R', 'PJHQU', None, '20                  '),\n",
       " (7, '31ULI', '66BKA', 'M3ESZ', 'XKFD5', None, '20                  ')]"
      ]
     },
     "execution_count": 22,
     "metadata": {},
     "output_type": "execute_result"
    }
   ],
   "source": [
    "%sql select * from testtable1"
   ]
  },
  {
   "cell_type": "code",
   "execution_count": 25,
   "id": "47fe8217-b7ce-4d69-a97d-072690649c6e",
   "metadata": {},
   "outputs": [
    {
     "name": "stdout",
     "output_type": "stream",
     "text": [
      " * ibm_db_sa://mgr61801:***@0c77d6f2-5da9-48a9-81f8-86b520b87518.bs2io90l08kqb1od8lcg.databases.appdomain.cloud:31198/bludb\n",
      "Done.\n"
     ]
    },
    {
     "data": {
      "text/plain": [
       "[]"
      ]
     },
     "execution_count": 25,
     "metadata": {},
     "output_type": "execute_result"
    }
   ],
   "source": [
    "%%sql\n",
    "alter table testtable1\n",
    "drop column mobile \n",
    "drop column name3;"
   ]
  },
  {
   "cell_type": "code",
   "execution_count": 27,
   "id": "06830467-5156-49f6-b49c-777bb6413d27",
   "metadata": {},
   "outputs": [
    {
     "name": "stdout",
     "output_type": "stream",
     "text": [
      " * ibm_db_sa://mgr61801:***@0c77d6f2-5da9-48a9-81f8-86b520b87518.bs2io90l08kqb1od8lcg.databases.appdomain.cloud:31198/bludb\n",
      "Done.\n"
     ]
    },
    {
     "data": {
      "text/html": [
       "<table>\n",
       "    <thead>\n",
       "        <tr>\n",
       "            <th>serial_number</th>\n",
       "            <th>name</th>\n",
       "            <th>name1</th>\n",
       "            <th>name2</th>\n",
       "            <th>mobile2</th>\n",
       "        </tr>\n",
       "    </thead>\n",
       "    <tbody>\n",
       "        <tr>\n",
       "            <td>1</td>\n",
       "            <td>sanket</td>\n",
       "            <td>prada</td>\n",
       "            <td>waghya</td>\n",
       "            <td>20                  </td>\n",
       "        </tr>\n",
       "        <tr>\n",
       "            <td>2</td>\n",
       "            <td>sanket1</td>\n",
       "            <td>prada1</td>\n",
       "            <td>waghya1</td>\n",
       "            <td>20                  </td>\n",
       "        </tr>\n",
       "        <tr>\n",
       "            <td>3</td>\n",
       "            <td>7IMF7</td>\n",
       "            <td>8NMTC</td>\n",
       "            <td>XCL66</td>\n",
       "            <td>20                  </td>\n",
       "        </tr>\n",
       "        <tr>\n",
       "            <td>4</td>\n",
       "            <td>GY4T8</td>\n",
       "            <td>PC4SI</td>\n",
       "            <td>XRTSK</td>\n",
       "            <td>20                  </td>\n",
       "        </tr>\n",
       "        <tr>\n",
       "            <td>5</td>\n",
       "            <td>5DNIQ</td>\n",
       "            <td>FKIZT</td>\n",
       "            <td>Q63GC</td>\n",
       "            <td>20                  </td>\n",
       "        </tr>\n",
       "        <tr>\n",
       "            <td>6</td>\n",
       "            <td>Q0SCT</td>\n",
       "            <td>BBLTU</td>\n",
       "            <td>WFD5R</td>\n",
       "            <td>20                  </td>\n",
       "        </tr>\n",
       "        <tr>\n",
       "            <td>7</td>\n",
       "            <td>31ULI</td>\n",
       "            <td>66BKA</td>\n",
       "            <td>M3ESZ</td>\n",
       "            <td>20                  </td>\n",
       "        </tr>\n",
       "    </tbody>\n",
       "</table>"
      ],
      "text/plain": [
       "[(1, 'sanket', 'prada', 'waghya', '20                  '),\n",
       " (2, 'sanket1', 'prada1', 'waghya1', '20                  '),\n",
       " (3, '7IMF7', '8NMTC', 'XCL66', '20                  '),\n",
       " (4, 'GY4T8', 'PC4SI', 'XRTSK', '20                  '),\n",
       " (5, '5DNIQ', 'FKIZT', 'Q63GC', '20                  '),\n",
       " (6, 'Q0SCT', 'BBLTU', 'WFD5R', '20                  '),\n",
       " (7, '31ULI', '66BKA', 'M3ESZ', '20                  ')]"
      ]
     },
     "execution_count": 27,
     "metadata": {},
     "output_type": "execute_result"
    }
   ],
   "source": [
    "%sql select * from testtable1"
   ]
  },
  {
   "cell_type": "code",
   "execution_count": 29,
   "id": "7e4cb3c5-c97a-4654-a206-62aebd6a7fc9",
   "metadata": {},
   "outputs": [],
   "source": [
    "## import table to csv\n",
    "import pandas as pd\n",
    "from sqlalchemy import create_engine"
   ]
  },
  {
   "cell_type": "code",
   "execution_count": 30,
   "id": "5c2da51c-9ef1-4f08-8966-4f3e8e4898e4",
   "metadata": {},
   "outputs": [],
   "source": [
    "cnx = create_engine('ibm_db_sa://mgr61801:aG6rnocuLnVjRZCo@0c77d6f2-5da9-48a9-81f8-86b520b87518.bs2io90l08kqb1od8lcg.databases.appdomain.cloud:31198/bludb?security=SSL').connect()"
   ]
  },
  {
   "cell_type": "code",
   "execution_count": 31,
   "id": "7f092677-d079-4cb3-8a23-a82f0630ab52",
   "metadata": {},
   "outputs": [],
   "source": [
    "testtable1df = pd.read_sql_table('testtable1', cnx )"
   ]
  },
  {
   "cell_type": "code",
   "execution_count": 33,
   "id": "9f40c66a-d162-4d3f-bff3-0aef6a071660",
   "metadata": {},
   "outputs": [],
   "source": [
    "testtable1df.to_csv(\"testtable1.csv\")"
   ]
  },
  {
   "cell_type": "markdown",
   "id": "a0797670-fcc6-499f-b6c1-4f4bafe086f0",
   "metadata": {},
   "source": [
    "## drop table"
   ]
  },
  {
   "cell_type": "code",
   "execution_count": 43,
   "id": "3de67998-dd2e-4b79-8325-c73045e17c25",
   "metadata": {},
   "outputs": [
    {
     "name": "stdout",
     "output_type": "stream",
     "text": [
      " * ibm_db_sa://mgr61801:***@0c77d6f2-5da9-48a9-81f8-86b520b87518.bs2io90l08kqb1od8lcg.databases.appdomain.cloud:31198/bludb\n",
      "Done.\n"
     ]
    },
    {
     "data": {
      "text/plain": [
       "[]"
      ]
     },
     "execution_count": 43,
     "metadata": {},
     "output_type": "execute_result"
    }
   ],
   "source": [
    "%%sql\n",
    "drop table testtable1;\n"
   ]
  },
  {
   "cell_type": "code",
   "execution_count": null,
   "id": "038b8244-51a6-4d3b-b750-940ca5810951",
   "metadata": {},
   "outputs": [],
   "source": []
  }
 ],
 "metadata": {
  "kernelspec": {
   "display_name": "Python 3",
   "language": "python",
   "name": "python3"
  },
  "language_info": {
   "codemirror_mode": {
    "name": "ipython",
    "version": 3
   },
   "file_extension": ".py",
   "mimetype": "text/x-python",
   "name": "python",
   "nbconvert_exporter": "python",
   "pygments_lexer": "ipython3",
   "version": "3.7.10"
  }
 },
 "nbformat": 4,
 "nbformat_minor": 5
}
