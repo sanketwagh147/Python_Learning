{
 "cells": [
  {
   "cell_type": "markdown",
   "id": "35059fe3-6629-49bf-a6de-83cc972979db",
   "metadata": {},
   "source": [
    "# re.findall(<font color = red>pattern, string</font>)\n",
    "> finds all occurences of the pattern and returns a list"
   ]
  },
  {
   "cell_type": "code",
   "execution_count": 2,
   "id": "f77d4fa6-a336-4f51-9c8c-e07c7e09b27f",
   "metadata": {},
   "outputs": [
    {
     "data": {
      "text/plain": [
       "['a', 'a']"
      ]
     },
     "execution_count": 2,
     "metadata": {},
     "output_type": "execute_result"
    }
   ],
   "source": [
    "import re\n",
    "string_1 = \"This is a test to test find all\"\n",
    "pattern_1 = \"a\"\n",
    "re.findall(pattern_1, string_1)"
   ]
  },
  {
   "cell_type": "code",
   "execution_count": 4,
   "id": "df0f2194-89cc-41e3-8a41-bbfdbdc9102b",
   "metadata": {},
   "outputs": [
    {
     "name": "stdout",
     "output_type": "stream",
     "text": [
      "1 : []\n",
      "2 : ['y', 'y']\n",
      "3 : ['z']\n",
      "4 : ['z']\n",
      "5 : ['z']\n",
      "6 : []\n",
      "7 : ['z', 'z']\n",
      "8 : []\n",
      "9 : []\n",
      "10 : ['z']\n"
     ]
    }
   ],
   "source": [
    "## to find all matches in sentence\n",
    "random_sentence_list = ['abccabccabcc',\n",
    " 'uqps ywuo yrwe',\n",
    " 'xrrf dman qhdz',\n",
    " 'rtrg cgkz looe',\n",
    " 'qqgk vvpl zrnk',\n",
    " 'caba baca abac',\n",
    " 'nqgh qznm zisw',\n",
    " 'lvni omnf lgwd',\n",
    " 'dipc aiie vbxf',\n",
    " 'mfec ffvc knzs']\n",
    "pattern_2 = \"[zy]\" #  \n",
    "result = []\n",
    "for sentence in random_sentence_list:\n",
    "    result.append(re.findall(pattern_2, sentence))\n",
    "for i,res in enumerate(result, start=1):  # start = 1 starts the index with 1 instead of 0\n",
    "    print(i,\":\",res)"
   ]
  },
  {
   "cell_type": "markdown",
   "id": "6108972d-c564-4820-911d-efbe511c77ee",
   "metadata": {},
   "source": [
    "### 1,6,8,9 do not have single occurace of pattern_2 thus they are empty"
   ]
  },
  {
   "cell_type": "markdown",
   "id": "9be3f3c9-b854-4cfa-a627-260d59825b8f",
   "metadata": {},
   "source": [
    "## <font color = skyblue> To return indices of the matched pattern use `re.finditer` </font>"
   ]
  },
  {
   "cell_type": "code",
   "execution_count": null,
   "id": "e39aa848-3b8e-46cc-ba40-8c7ab2d62dbc",
   "metadata": {},
   "outputs": [],
   "source": []
  }
 ],
 "metadata": {
  "kernelspec": {
   "display_name": "Python 3",
   "language": "python",
   "name": "python3"
  },
  "language_info": {
   "codemirror_mode": {
    "name": "ipython",
    "version": 3
   },
   "file_extension": ".py",
   "mimetype": "text/x-python",
   "name": "python",
   "nbconvert_exporter": "python",
   "pygments_lexer": "ipython3",
   "version": "3.7.10"
  }
 },
 "nbformat": 4,
 "nbformat_minor": 5
}
