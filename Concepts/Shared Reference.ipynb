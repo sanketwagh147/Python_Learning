{
 "cells": [
  {
   "cell_type": "markdown",
   "id": "e6f4108a-46bd-4977-a061-eb267d2d2ff7",
   "metadata": {},
   "source": [
    "# Shared reference in python"
   ]
  },
  {
   "cell_type": "code",
   "execution_count": 1,
   "id": "d1fafbe6-df1b-492f-8c38-8c8fa665d4c5",
   "metadata": {},
   "outputs": [
    {
     "name": "stdout",
     "output_type": "stream",
     "text": [
      "3\n"
     ]
    }
   ],
   "source": [
    "# a = 6192\n",
    "b = 6192\n",
    "import sys\n",
    "print(sys.getrefcount(619))\n",
    "\n",
    "\n"
   ]
  }
 ],
 "metadata": {
  "kernelspec": {
   "display_name": "Python 3",
   "language": "python",
   "name": "python3"
  },
  "language_info": {
   "codemirror_mode": {
    "name": "ipython",
    "version": 3
   },
   "file_extension": ".py",
   "mimetype": "text/x-python",
   "name": "python",
   "nbconvert_exporter": "python",
   "pygments_lexer": "ipython3",
   "version": "3.7.3"
  }
 },
 "nbformat": 4,
 "nbformat_minor": 5
}
