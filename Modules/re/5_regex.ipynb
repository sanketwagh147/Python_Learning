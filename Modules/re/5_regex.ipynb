{
 "cells": [
  {
   "cell_type": "markdown",
   "id": "2afcd5b5-080d-4c47-8e89-34c668206aa5",
   "metadata": {},
   "source": [
    "# Word Replacement and Extraction"
   ]
  },
  {
   "cell_type": "markdown",
   "id": "f40997ea-bf28-4f70-ba01-616a15572611",
   "metadata": {},
   "source": [
    "# Question Mark `?`\n",
    "> `?` 0 or 1 ocurrence of preceding element.</br>\n",
    "> `?` can be used with combination as well \n"
   ]
  },
  {
   "cell_type": "code",
   "execution_count": 2,
   "id": "3854bb13-99ae-4ca5-8b50-8ae017b45ad8",
   "metadata": {},
   "outputs": [],
   "source": [
    "import re\n"
   ]
  },
  {
   "cell_type": "markdown",
   "id": "e9cba370-a6ba-4fee-8a5d-9d33508175e6",
   "metadata": {},
   "source": [
    "### `.*` greedy includes all"
   ]
  },
  {
   "cell_type": "code",
   "execution_count": 10,
   "id": "7e9d14ad-aef8-4618-ba3e-77b66004661c",
   "metadata": {},
   "outputs": [
    {
     "name": "stdout",
     "output_type": "stream",
     "text": [
      "1 : abadfajdfjasd cf -> ['abadfajdfjasd cf']\n",
      "2 : abadfa adf       -> ['abadfa adf ']\n",
      "3 : dabadfajdfjasd cf -> ['abadfajdfjasd cf']\n",
      "4 : #abadfajdfjasd cf -> ['abadfajdfjasd cf']\n",
      "5 : fadaerkll        -> []\n",
      "6 : fadaerklabl      -> ['abl']\n"
     ]
    }
   ],
   "source": [
    "string_list = [\"abadfajdfjasd cf\", \"abadfa adf \", \"dabadfajdfjasd cf\", \"#abadfajdfjasd cf\", \"fadaerkll\", \"fadaerklabl\"]\n",
    "pattern_1 = \"ab.*\" # we want ab followed by any character with 0 or more occurence os we add .*\n",
    "for i, string in enumerate(string_list, start=1):\n",
    "    print(f\"{str(i)} : {str(string)}\".ljust(20), \"->\", re.findall(pattern_1, string))  #ljust is used for alignment \n",
    "               "
   ]
  },
  {
   "cell_type": "markdown",
   "id": "95e893ee-4457-4948-8135-70d5b83e4fe9",
   "metadata": {},
   "source": [
    "#### 5 returns empty list as the string does not have ab\n",
    "#### Also note all the characters are returned after ab also "
   ]
  },
  {
   "cell_type": "markdown",
   "id": "607299b7-1047-4dac-90a8-871e41816091",
   "metadata": {},
   "source": [
    "`.*?` return 0 character after match i.e only includes match characters"
   ]
  },
  {
   "cell_type": "code",
   "execution_count": 12,
   "id": "f8a02041-a4aa-4e46-addd-016c3871499b",
   "metadata": {},
   "outputs": [
    {
     "name": "stdout",
     "output_type": "stream",
     "text": [
      "1 : abadfajdfjasd cf -> ['ab']\n",
      "2 : abadfa adf       -> ['ab']\n",
      "3 : dabadfajdfjasd cf -> ['ab']\n",
      "4 : #abadfajdfjasd cf -> ['ab']\n",
      "5 : fadaerkll        -> []\n",
      "6 : fadaerklabl      -> ['ab']\n"
     ]
    }
   ],
   "source": [
    "pattern_2 =\"ab.*?\"  # only return ab nothing more i.e \n",
    "for i, string in enumerate(string_list, start=1):\n",
    "    print(f\"{str(i)} : {str(string)}\".ljust(20), \"->\", re.findall(pattern_2, string))  #ljust is used for alignment "
   ]
  },
  {
   "cell_type": "markdown",
   "id": "7db9f8e1-5fe7-4da3-981b-6959d44b03a3",
   "metadata": {},
   "source": [
    "### Greedy vs Non Greedy"
   ]
  },
  {
   "cell_type": "code",
   "execution_count": 20,
   "id": "a00165ef-1303-441d-a232-5b4ee550553f",
   "metadata": {},
   "outputs": [
    {
     "data": {
      "text/plain": [
       "['peter piper picked a peck of pickled pepper']"
      ]
     },
     "execution_count": 20,
     "metadata": {},
     "output_type": "execute_result"
    }
   ],
   "source": [
    "string_1 = \" peter piper picked a peck of pickled peppers\"\n",
    "# using greedy .*\n",
    "# suppose we want to find characters with p in start e in between and r in the end the below fails as it graps first p \\\n",
    "# and the last r\n",
    "re.findall(\"p.*e.*r\", string_1)"
   ]
  },
  {
   "cell_type": "code",
   "execution_count": 16,
   "id": "78fb22de-af21-4f7b-9458-4c8ff56ad35d",
   "metadata": {},
   "outputs": [
    {
     "data": {
      "text/plain": [
       "['peter', 'piper', 'picked a peck of pickled pepper']"
      ]
     },
     "execution_count": 16,
     "metadata": {},
     "output_type": "execute_result"
    }
   ],
   "source": [
    "# To find all the individual letter whihc start with p, have e in between and end with r we must use non greeedy\n",
    "re.findall(\"p.*?e.?r\", string_1)"
   ]
  },
  {
   "cell_type": "code",
   "execution_count": 17,
   "id": "77f53500-d3cb-4265-87ca-88b6d5d2d1b4",
   "metadata": {},
   "outputs": [],
   "source": [
    "### it stop after one occurence of p or e  and returns a list of individual matched words"
   ]
  },
  {
   "cell_type": "markdown",
   "id": "e1396b81-0097-4d73-80ed-6d47c8027c32",
   "metadata": {},
   "source": [
    "### Question 1\n",
    "> Find a mathc that starts with \"crypto\" then mathces at the most 30 random characters and match ends when the last word is coin"
   ]
  },
  {
   "cell_type": "markdown",
   "id": "b478e088-b108-4b0f-b4a9-80d6afd65dda",
   "metadata": {},
   "source": [
    "## `.` means any character"
   ]
  },
  {
   "cell_type": "markdown",
   "id": "98d0ee7d-ef10-487f-aa26-5d745abb6ffc",
   "metadata": {},
   "source": [
    "## `()` creates a group"
   ]
  },
  {
   "cell_type": "code",
   "execution_count": 29,
   "id": "f871d91f-afe7-4ade-b68f-ea1b8af5e3d1",
   "metadata": {},
   "outputs": [],
   "source": [
    "string_2 = \" crypto-items are brought using various Bitcoins or other crypto currencies\"\n",
    "re.match(\"crypto(.{1,100})coins\", string_2)"
   ]
  },
  {
   "cell_type": "code",
   "execution_count": null,
   "id": "4ba6d6bd-4ed0-4538-93a4-73bb4e1c5f00",
   "metadata": {},
   "outputs": [],
   "source": [
    "### Question 2\n",
    "> Find all occurences of ₹ amounts "
   ]
  },
  {
   "cell_type": "code",
   "execution_count": 37,
   "id": "2020be58-eaa1-4b19-9b99-9e2244ba8f0e",
   "metadata": {},
   "outputs": [],
   "source": [
    "string_3 = \" If you give me ₹1000.50 today I will give you ₹2000.75 in a month so that you will have ₹1000.25 profit\""
   ]
  },
  {
   "cell_type": "markdown",
   "id": "5adba715-03c1-42bb-ae7f-e494f19d163a",
   "metadata": {},
   "source": [
    "#### first set `₹[0-9]+` means to have ₹first and then 0-9 digits and the + sign indicates 1 or more the set inside the first set `(\\.[0-9]*)?` means to find `.` use of `\\` escape sequeunce followed by digits until any number of occurences of digits and end when blank space occurs for that reason `?` non greedy is used"
   ]
  },
  {
   "cell_type": "code",
   "execution_count": 39,
   "id": "53489404-d542-4bfa-a3e8-69097e17431e",
   "metadata": {},
   "outputs": [
    {
     "data": {
      "text/plain": [
       "[('₹1000.50', '.50'), ('₹2000.75', '.75'), ('₹1000.25', '.25')]"
      ]
     },
     "execution_count": 39,
     "metadata": {},
     "output_type": "execute_result"
    }
   ],
   "source": [
    "re.findall(\"(₹[0-9]+(\\.[0-9]*)?)\", string_3)  # if the currency was dollar we can use escape sequence /$ as dollar has special meaning in regex"
   ]
  },
  {
   "cell_type": "code",
   "execution_count": null,
   "id": "20f248ab-bd55-4ffe-8690-418690cf3be9",
   "metadata": {},
   "outputs": [],
   "source": [
    "#### Thus we can find all the currencies such way"
   ]
  },
  {
   "cell_type": "markdown",
   "id": "bf90ff98-4971-4ebb-9196-2e7c805acd3c",
   "metadata": {},
   "source": [
    "## Question 3\n",
    "Replace certain strings but not the the same certain strings enclosed in quotes"
   ]
  },
  {
   "cell_type": "markdown",
   "id": "cc635f63-9e3d-4314-adef-32a17733f8ff",
   "metadata": {},
   "source": [
    "## `?!` Negative lookahed\n",
    "> we will look ahead and if we find we wont do anything with it"
   ]
  },
  {
   "cell_type": "code",
   "execution_count": 44,
   "id": "caeb025f-445c-4376-9535-e98e13fe8895",
   "metadata": {},
   "outputs": [
    {
     "data": {
      "text/plain": [
       "\"This is a CAT. What he said, 'This is a cat' \""
      ]
     },
     "execution_count": 44,
     "metadata": {},
     "output_type": "execute_result"
    }
   ],
   "source": [
    "string_4 = \"This is a cat. What he said, 'This is a cat' \"\n",
    "re.sub(\"cat(?!')\", \"CAT\", string_4)\n"
   ]
  },
  {
   "cell_type": "markdown",
   "id": "96386389-069f-43b1-9198-e90cef1e20ac",
   "metadata": {},
   "source": [
    "#### What it does it finds the word cat and replaces if with CAT except for those cat words which are followed by single quotes\n",
    "#### that is why the `(?!')` is behind cat"
   ]
  },
  {
   "cell_type": "code",
   "execution_count": 47,
   "id": "14ef5782-b852-4067-8635-4b927578e6c1",
   "metadata": {},
   "outputs": [
    {
     "data": {
      "text/plain": [
       "'I have not idea. What an Ideal?'"
      ]
     },
     "execution_count": 47,
     "metadata": {},
     "output_type": "execute_result"
    }
   ],
   "source": [
    "string_5 = \"I have not idea. What an idea?\"\n",
    "re.sub(\"idea(?!\\.)\", \"Ideal\", string_5)  #\\. use escape seq for . else it thinks include all"
   ]
  },
  {
   "cell_type": "markdown",
   "id": "432856f2-b379-4d40-be31-8a7615d59c0b",
   "metadata": {},
   "source": [
    "#### Hence we replaced idea with Ideal who had no . in the end"
   ]
  },
  {
   "cell_type": "code",
   "execution_count": 1,
   "id": "b13e474e-4aa8-411e-9bd9-f7dfd38fd8ca",
   "metadata": {},
   "outputs": [],
   "source": [
    "#?\n",
    "###  use `(?!)` to skip replacing items starting with some character  "
   ]
  },
  {
   "cell_type": "code",
   "execution_count": 79,
   "id": "138873e0-78e8-4d66-bad0-193f6b7b9618",
   "metadata": {},
   "outputs": [
    {
     "data": {
      "text/plain": [
       "'I have not .Ideal What an Ideal?'"
      ]
     },
     "execution_count": 79,
     "metadata": {},
     "output_type": "execute_result"
    }
   ],
   "source": [
    "#??? find how to skip the ones based on starting character\n",
    "string_6 = \"I have not .idea What an idea?\"\n",
    "re.sub(\"(?!\\.)idea\", \"Ideal\", string_6)  #\\. use escape seq for . else it thinks include all"
   ]
  },
  {
   "cell_type": "code",
   "execution_count": null,
   "id": "2cc82f59-40cf-4104-8e5c-5a5f0b3db073",
   "metadata": {},
   "outputs": [],
   "source": []
  }
 ],
 "metadata": {
  "kernelspec": {
   "display_name": "Python 3",
   "language": "python",
   "name": "python3"
  },
  "language_info": {
   "codemirror_mode": {
    "name": "ipython",
    "version": 3
   },
   "file_extension": ".py",
   "mimetype": "text/x-python",
   "name": "python",
   "nbconvert_exporter": "python",
   "pygments_lexer": "ipython3",
   "version": "3.7.10"
  }
 },
 "nbformat": 4,
 "nbformat_minor": 5
}
