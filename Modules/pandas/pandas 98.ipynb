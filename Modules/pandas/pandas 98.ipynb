{
 "cells": [
  {
   "cell_type": "markdown",
   "metadata": {
    "collapsed": true,
    "pycharm": {
     "name": "#%% md\n"
    }
   },
   "source": [
    "# Creating a DataFrame from List"
   ],
   "outputs": [],
   "execution_count": 1
  },
  {
   "cell_type": "code",
   "execution_count": 60,
   "outputs": [],
   "source": [
    "import pandas as pd\n",
    "from datetime import datetime"
   ],
   "metadata": {
    "collapsed": false,
    "pycharm": {
     "name": "#%%\n"
    }
   }
  },
  {
   "cell_type": "code",
   "execution_count": 61,
   "outputs": [],
   "source": [
    "# Define some variable\n",
    "f_name = \"Sanket\"\n",
    "l_name = \"Wagh\"\n",
    "height = 176\n",
    "skills = [\"Python\", \"cooking\", \"SQL\"]\n",
    "more_details ={\"Hair Color\":\"Black\", \"Skin Color\":\"Light Brown\", \"Eye Color\":\"Black\", \"UID\":147147}"
   ],
   "metadata": {
    "collapsed": false,
    "pycharm": {
     "name": "#%%\n"
    }
   }
  },
  {
   "cell_type": "code",
   "execution_count": 62,
   "outputs": [],
   "source": [
    "# Creating Age and Time delta object\n",
    "b_day = datetime.strptime(\"18/08/1992\",\"%d/%m/%Y\")    # It is a date Object\n",
    "days_till_today = (datetime.today()-b_day)\n",
    "age = days_till_today.days/365.25"
   ],
   "metadata": {
    "collapsed": false,
    "pycharm": {
     "name": "#%%\n"
    }
   }
  },
  {
   "cell_type": "code",
   "execution_count": 63,
   "outputs": [
    {
     "data": {
      "text/plain": "['Sanket',\n 'Wagh',\n 176,\n 29.12251882272416,\n datetime.datetime(1992, 8, 18, 0, 0),\n ['Python', 'cooking', 'SQL'],\n {'Hair Color': 'Black',\n  'Skin Color': 'Light Brown',\n  'Eye Color': 'Black',\n  'UID': 147147}]"
     },
     "execution_count": 63,
     "metadata": {},
     "output_type": "execute_result"
    }
   ],
   "source": [
    "# Assign variables to list\n",
    "user_list1 = [f_name, l_name, height, age, b_day,skills,more_details, days_till_today ]\n",
    "user_list"
   ],
   "metadata": {
    "collapsed": false,
    "pycharm": {
     "name": "#%%\n"
    }
   }
  },
  {
   "cell_type": "code",
   "execution_count": 64,
   "outputs": [
    {
     "data": {
      "text/plain": "        0     1    2          3          4                       5  \\\n0  Sanket  Wagh  176  29.122519 1992-08-18  [Python, cooking, SQL]   \n\n                                                   6  \\\n0  {'Hair Color': 'Black', 'Skin Color': 'Light B...   \n\n                           7  \n0 10637 days 11:21:10.755125  ",
      "text/html": "<div>\n<style scoped>\n    .dataframe tbody tr th:only-of-type {\n        vertical-align: middle;\n    }\n\n    .dataframe tbody tr th {\n        vertical-align: top;\n    }\n\n    .dataframe thead th {\n        text-align: right;\n    }\n</style>\n<table border=\"1\" class=\"dataframe\">\n  <thead>\n    <tr style=\"text-align: right;\">\n      <th></th>\n      <th>0</th>\n      <th>1</th>\n      <th>2</th>\n      <th>3</th>\n      <th>4</th>\n      <th>5</th>\n      <th>6</th>\n      <th>7</th>\n    </tr>\n  </thead>\n  <tbody>\n    <tr>\n      <th>0</th>\n      <td>Sanket</td>\n      <td>Wagh</td>\n      <td>176</td>\n      <td>29.122519</td>\n      <td>1992-08-18</td>\n      <td>[Python, cooking, SQL]</td>\n      <td>{'Hair Color': 'Black', 'Skin Color': 'Light B...</td>\n      <td>10637 days 11:21:10.755125</td>\n    </tr>\n  </tbody>\n</table>\n</div>"
     },
     "execution_count": 64,
     "metadata": {},
     "output_type": "execute_result"
    }
   ],
   "source": [
    "# Create a DataFrame 1\n",
    "df = pd.DataFrame([user_list1])   # pass the list inside [] as each list inside [] is considered as a row\n",
    "df"
   ],
   "metadata": {
    "collapsed": false,
    "pycharm": {
     "name": "#%%\n"
    }
   }
  },
  {
   "cell_type": "code",
   "execution_count": 65,
   "outputs": [
    {
     "data": {
      "text/plain": "         0      1    2          3          4                        5  \\\n0   Sanket   Wagh  176  29.122519 1992-08-18   [Python, cooking, SQL]   \n1  Sanket1  Wagh1  173  23.288159 1998-06-19  [Java, Sleeping, NoSQL]   \n\n                                                   6  \\\n0  {'Hair Color': 'Black', 'Skin Color': 'Light B...   \n1  {'Hair Color': 'Black', 'Skin Color': 'Light B...   \n\n                           7  \n0 10637 days 11:21:10.755125  \n1  8506 days 11:21:10.786041  ",
      "text/html": "<div>\n<style scoped>\n    .dataframe tbody tr th:only-of-type {\n        vertical-align: middle;\n    }\n\n    .dataframe tbody tr th {\n        vertical-align: top;\n    }\n\n    .dataframe thead th {\n        text-align: right;\n    }\n</style>\n<table border=\"1\" class=\"dataframe\">\n  <thead>\n    <tr style=\"text-align: right;\">\n      <th></th>\n      <th>0</th>\n      <th>1</th>\n      <th>2</th>\n      <th>3</th>\n      <th>4</th>\n      <th>5</th>\n      <th>6</th>\n      <th>7</th>\n    </tr>\n  </thead>\n  <tbody>\n    <tr>\n      <th>0</th>\n      <td>Sanket</td>\n      <td>Wagh</td>\n      <td>176</td>\n      <td>29.122519</td>\n      <td>1992-08-18</td>\n      <td>[Python, cooking, SQL]</td>\n      <td>{'Hair Color': 'Black', 'Skin Color': 'Light B...</td>\n      <td>10637 days 11:21:10.755125</td>\n    </tr>\n    <tr>\n      <th>1</th>\n      <td>Sanket1</td>\n      <td>Wagh1</td>\n      <td>173</td>\n      <td>23.288159</td>\n      <td>1998-06-19</td>\n      <td>[Java, Sleeping, NoSQL]</td>\n      <td>{'Hair Color': 'Black', 'Skin Color': 'Light B...</td>\n      <td>8506 days 11:21:10.786041</td>\n    </tr>\n  </tbody>\n</table>\n</div>"
     },
     "execution_count": 65,
     "metadata": {},
     "output_type": "execute_result"
    }
   ],
   "source": [
    "# Create a DataFrame 2\n",
    "f_name = \"Sanket1\"\n",
    "l_name = \"Wagh1\"\n",
    "height = 173\n",
    "skills = [\"Java\", \"Sleeping\", \"NoSQL\"]\n",
    "more_details = {\"Hair Color\": \"Black\", \"Skin Color\": \"Light Brown\", \"Eye Color\": \"Black\", \"UID\": 147148}\n",
    "# Creating Age and Time delta object\n",
    "b_day = datetime.strptime(\"19/06/1998\", \"%d/%m/%Y\")\n",
    "days_till_today = datetime.today() - b_day\n",
    "age = (datetime.today() - b_day).days / 365.25\n",
    "# Assign variables to list\n",
    "user_list2 = [f_name, l_name, height, age, b_day, skills, more_details, days_till_today]\n",
    "df = pd.DataFrame([user_list1, user_list2])   # pass any number of lists inside []\n",
    "df"
   ],
   "metadata": {
    "collapsed": false,
    "pycharm": {
     "name": "#%%\n"
    }
   }
  },
  {
   "cell_type": "code",
   "execution_count": 66,
   "outputs": [
    {
     "data": {
      "text/plain": "  First Name Last_Name  Height        Age   Birthday                   Skills  \\\n0     Sanket      Wagh     176  29.122519 1992-08-18   [Python, cooking, SQL]   \n1    Sanket1     Wagh1     173  23.288159 1998-06-19  [Java, Sleeping, NoSQL]   \n2     Sanket      Wagh     176  29.122519 1992-08-18   [Python, cooking, SQL]   \n3    Sanket1     Wagh1     173  23.288159 1998-06-19  [Java, Sleeping, NoSQL]   \n\n                                        More_details  \\\n0  {'Hair Color': 'Black', 'Skin Color': 'Light B...   \n1  {'Hair Color': 'Black', 'Skin Color': 'Light B...   \n2  {'Hair Color': 'Black', 'Skin Color': 'Light B...   \n3  {'Hair Color': 'Black', 'Skin Color': 'Light B...   \n\n              Age_till_today  \n0 10637 days 11:21:10.755125  \n1  8506 days 11:21:10.786041  \n2 10637 days 11:21:10.755125  \n3  8506 days 11:21:10.786041  ",
      "text/html": "<div>\n<style scoped>\n    .dataframe tbody tr th:only-of-type {\n        vertical-align: middle;\n    }\n\n    .dataframe tbody tr th {\n        vertical-align: top;\n    }\n\n    .dataframe thead th {\n        text-align: right;\n    }\n</style>\n<table border=\"1\" class=\"dataframe\">\n  <thead>\n    <tr style=\"text-align: right;\">\n      <th></th>\n      <th>First Name</th>\n      <th>Last_Name</th>\n      <th>Height</th>\n      <th>Age</th>\n      <th>Birthday</th>\n      <th>Skills</th>\n      <th>More_details</th>\n      <th>Age_till_today</th>\n    </tr>\n  </thead>\n  <tbody>\n    <tr>\n      <th>0</th>\n      <td>Sanket</td>\n      <td>Wagh</td>\n      <td>176</td>\n      <td>29.122519</td>\n      <td>1992-08-18</td>\n      <td>[Python, cooking, SQL]</td>\n      <td>{'Hair Color': 'Black', 'Skin Color': 'Light B...</td>\n      <td>10637 days 11:21:10.755125</td>\n    </tr>\n    <tr>\n      <th>1</th>\n      <td>Sanket1</td>\n      <td>Wagh1</td>\n      <td>173</td>\n      <td>23.288159</td>\n      <td>1998-06-19</td>\n      <td>[Java, Sleeping, NoSQL]</td>\n      <td>{'Hair Color': 'Black', 'Skin Color': 'Light B...</td>\n      <td>8506 days 11:21:10.786041</td>\n    </tr>\n    <tr>\n      <th>2</th>\n      <td>Sanket</td>\n      <td>Wagh</td>\n      <td>176</td>\n      <td>29.122519</td>\n      <td>1992-08-18</td>\n      <td>[Python, cooking, SQL]</td>\n      <td>{'Hair Color': 'Black', 'Skin Color': 'Light B...</td>\n      <td>10637 days 11:21:10.755125</td>\n    </tr>\n    <tr>\n      <th>3</th>\n      <td>Sanket1</td>\n      <td>Wagh1</td>\n      <td>173</td>\n      <td>23.288159</td>\n      <td>1998-06-19</td>\n      <td>[Java, Sleeping, NoSQL]</td>\n      <td>{'Hair Color': 'Black', 'Skin Color': 'Light B...</td>\n      <td>8506 days 11:21:10.786041</td>\n    </tr>\n  </tbody>\n</table>\n</div>"
     },
     "execution_count": 66,
     "metadata": {},
     "output_type": "execute_result"
    }
   ],
   "source": [
    "# define columns\n",
    "column_name_list = [\"First Name\", \"Last_Name\", \"Height\", \"Age\", \"Birthday\", \"Skills\", \"More_details\", \"Age_till_today\"]\n",
    "df = pd.DataFrame([user_list1, user_list2, user_list1, user_list2], columns=column_name_list)\n",
    "df"
   ],
   "metadata": {
    "collapsed": false,
    "pycharm": {
     "name": "#%%\n"
    }
   }
  },
  {
   "cell_type": "code",
   "execution_count": 67,
   "outputs": [
    {
     "data": {
      "text/plain": "         First Name Last_Name  Height        Age   Birthday  \\\n1            Sanket      Wagh     176  29.122519 1992-08-18   \nTwo         Sanket1     Wagh1     173  23.288159 1998-06-19   \n3.3          Sanket      Wagh     176  29.122519 1992-08-18   \nanything    Sanket1     Wagh1     173  23.288159 1998-06-19   \n\n                           Skills  \\\n1          [Python, cooking, SQL]   \nTwo       [Java, Sleeping, NoSQL]   \n3.3        [Python, cooking, SQL]   \nanything  [Java, Sleeping, NoSQL]   \n\n                                               More_details  \\\n1         {'Hair Color': 'Black', 'Skin Color': 'Light B...   \nTwo       {'Hair Color': 'Black', 'Skin Color': 'Light B...   \n3.3       {'Hair Color': 'Black', 'Skin Color': 'Light B...   \nanything  {'Hair Color': 'Black', 'Skin Color': 'Light B...   \n\n                     Age_till_today  \n1        10637 days 11:21:10.755125  \nTwo       8506 days 11:21:10.786041  \n3.3      10637 days 11:21:10.755125  \nanything  8506 days 11:21:10.786041  ",
      "text/html": "<div>\n<style scoped>\n    .dataframe tbody tr th:only-of-type {\n        vertical-align: middle;\n    }\n\n    .dataframe tbody tr th {\n        vertical-align: top;\n    }\n\n    .dataframe thead th {\n        text-align: right;\n    }\n</style>\n<table border=\"1\" class=\"dataframe\">\n  <thead>\n    <tr style=\"text-align: right;\">\n      <th></th>\n      <th>First Name</th>\n      <th>Last_Name</th>\n      <th>Height</th>\n      <th>Age</th>\n      <th>Birthday</th>\n      <th>Skills</th>\n      <th>More_details</th>\n      <th>Age_till_today</th>\n    </tr>\n  </thead>\n  <tbody>\n    <tr>\n      <th>1</th>\n      <td>Sanket</td>\n      <td>Wagh</td>\n      <td>176</td>\n      <td>29.122519</td>\n      <td>1992-08-18</td>\n      <td>[Python, cooking, SQL]</td>\n      <td>{'Hair Color': 'Black', 'Skin Color': 'Light B...</td>\n      <td>10637 days 11:21:10.755125</td>\n    </tr>\n    <tr>\n      <th>Two</th>\n      <td>Sanket1</td>\n      <td>Wagh1</td>\n      <td>173</td>\n      <td>23.288159</td>\n      <td>1998-06-19</td>\n      <td>[Java, Sleeping, NoSQL]</td>\n      <td>{'Hair Color': 'Black', 'Skin Color': 'Light B...</td>\n      <td>8506 days 11:21:10.786041</td>\n    </tr>\n    <tr>\n      <th>3.3</th>\n      <td>Sanket</td>\n      <td>Wagh</td>\n      <td>176</td>\n      <td>29.122519</td>\n      <td>1992-08-18</td>\n      <td>[Python, cooking, SQL]</td>\n      <td>{'Hair Color': 'Black', 'Skin Color': 'Light B...</td>\n      <td>10637 days 11:21:10.755125</td>\n    </tr>\n    <tr>\n      <th>anything</th>\n      <td>Sanket1</td>\n      <td>Wagh1</td>\n      <td>173</td>\n      <td>23.288159</td>\n      <td>1998-06-19</td>\n      <td>[Java, Sleeping, NoSQL]</td>\n      <td>{'Hair Color': 'Black', 'Skin Color': 'Light B...</td>\n      <td>8506 days 11:21:10.786041</td>\n    </tr>\n  </tbody>\n</table>\n</div>"
     },
     "execution_count": 67,
     "metadata": {},
     "output_type": "execute_result"
    }
   ],
   "source": [
    "# define indexes\n",
    "df = pd.DataFrame([user_list1, user_list2, user_list1, user_list2], columns=column_name_list, index=[1,\"Two\",3.3,\"anything\"])  # we can define then by any name just as columns\n",
    "df"
   ],
   "metadata": {
    "collapsed": false,
    "pycharm": {
     "name": "#%%\n"
    }
   }
  },
  {
   "cell_type": "code",
   "execution_count": 69,
   "outputs": [
    {
     "data": {
      "text/plain": "  First Name Last_Name  Height        Age   Birthday                   Skills  \\\n1     Sanket      Wagh     176  29.122519 1992-08-18   [Python, cooking, SQL]   \n2    Sanket1     Wagh1     173  23.288159 1998-06-19  [Java, Sleeping, NoSQL]   \n3     Sanket      Wagh     176  29.122519 1992-08-18   [Python, cooking, SQL]   \n4    Sanket1     Wagh1     173  23.288159 1998-06-19  [Java, Sleeping, NoSQL]   \n\n                                        More_details  \\\n1  {'Hair Color': 'Black', 'Skin Color': 'Light B...   \n2  {'Hair Color': 'Black', 'Skin Color': 'Light B...   \n3  {'Hair Color': 'Black', 'Skin Color': 'Light B...   \n4  {'Hair Color': 'Black', 'Skin Color': 'Light B...   \n\n              Age_till_today  \n1 10637 days 11:21:10.755125  \n2  8506 days 11:21:10.786041  \n3 10637 days 11:21:10.755125  \n4  8506 days 11:21:10.786041  ",
      "text/html": "<div>\n<style scoped>\n    .dataframe tbody tr th:only-of-type {\n        vertical-align: middle;\n    }\n\n    .dataframe tbody tr th {\n        vertical-align: top;\n    }\n\n    .dataframe thead th {\n        text-align: right;\n    }\n</style>\n<table border=\"1\" class=\"dataframe\">\n  <thead>\n    <tr style=\"text-align: right;\">\n      <th></th>\n      <th>First Name</th>\n      <th>Last_Name</th>\n      <th>Height</th>\n      <th>Age</th>\n      <th>Birthday</th>\n      <th>Skills</th>\n      <th>More_details</th>\n      <th>Age_till_today</th>\n    </tr>\n  </thead>\n  <tbody>\n    <tr>\n      <th>1</th>\n      <td>Sanket</td>\n      <td>Wagh</td>\n      <td>176</td>\n      <td>29.122519</td>\n      <td>1992-08-18</td>\n      <td>[Python, cooking, SQL]</td>\n      <td>{'Hair Color': 'Black', 'Skin Color': 'Light B...</td>\n      <td>10637 days 11:21:10.755125</td>\n    </tr>\n    <tr>\n      <th>2</th>\n      <td>Sanket1</td>\n      <td>Wagh1</td>\n      <td>173</td>\n      <td>23.288159</td>\n      <td>1998-06-19</td>\n      <td>[Java, Sleeping, NoSQL]</td>\n      <td>{'Hair Color': 'Black', 'Skin Color': 'Light B...</td>\n      <td>8506 days 11:21:10.786041</td>\n    </tr>\n    <tr>\n      <th>3</th>\n      <td>Sanket</td>\n      <td>Wagh</td>\n      <td>176</td>\n      <td>29.122519</td>\n      <td>1992-08-18</td>\n      <td>[Python, cooking, SQL]</td>\n      <td>{'Hair Color': 'Black', 'Skin Color': 'Light B...</td>\n      <td>10637 days 11:21:10.755125</td>\n    </tr>\n    <tr>\n      <th>4</th>\n      <td>Sanket1</td>\n      <td>Wagh1</td>\n      <td>173</td>\n      <td>23.288159</td>\n      <td>1998-06-19</td>\n      <td>[Java, Sleeping, NoSQL]</td>\n      <td>{'Hair Color': 'Black', 'Skin Color': 'Light B...</td>\n      <td>8506 days 11:21:10.786041</td>\n    </tr>\n  </tbody>\n</table>\n</div>"
     },
     "execution_count": 69,
     "metadata": {},
     "output_type": "execute_result"
    }
   ],
   "source": [
    "# Define Indexes which are unique and dont repeat so it maintains dataframe properly\n",
    "df = pd.DataFrame([user_list1, user_list2, user_list1, user_list2], columns=column_name_list, index=[1,2,3,4])\n",
    "df"
   ],
   "metadata": {
    "collapsed": false,
    "pycharm": {
     "name": "#%%\n"
    }
   }
  },
  {
   "cell_type": "code",
   "execution_count": 74,
   "outputs": [
    {
     "ename": "TypeError",
     "evalue": "unsupported operand type(s) for +: 'int' and 'list'",
     "output_type": "error",
     "traceback": [
      "\u001B[1;31m---------------------------------------------------------------------------\u001B[0m",
      "\u001B[1;31mTypeError\u001B[0m                                 Traceback (most recent call last)",
      "\u001B[1;32m<ipython-input-74-4d507ff49a10>\u001B[0m in \u001B[0;36m<module>\u001B[1;34m\u001B[0m\n\u001B[0;32m      1\u001B[0m \u001B[0ml\u001B[0m \u001B[1;33m=\u001B[0m \u001B[1;33m[\u001B[0m\u001B[1;33m[\u001B[0m\u001B[1;36m1\u001B[0m\u001B[1;33m,\u001B[0m\u001B[1;36m4\u001B[0m\u001B[1;33m]\u001B[0m\u001B[1;33m,\u001B[0m\u001B[1;33m[\u001B[0m\u001B[1;36m5\u001B[0m\u001B[1;33m,\u001B[0m\u001B[1;36m6\u001B[0m\u001B[1;33m]\u001B[0m\u001B[1;33m]\u001B[0m\u001B[1;33m\u001B[0m\u001B[1;33m\u001B[0m\u001B[0m\n\u001B[1;32m----> 2\u001B[1;33m \u001B[0mprint\u001B[0m\u001B[1;33m(\u001B[0m\u001B[0msum\u001B[0m\u001B[1;33m(\u001B[0m\u001B[0ml\u001B[0m\u001B[1;33m)\u001B[0m\u001B[1;33m)\u001B[0m\u001B[1;33m\u001B[0m\u001B[1;33m\u001B[0m\u001B[0m\n\u001B[0m",
      "\u001B[1;31mTypeError\u001B[0m: unsupported operand type(s) for +: 'int' and 'list'"
     ]
    }
   ],
   "source": [
    "l = [[1,4],[5,6]]\n",
    "print(sum(l,[]))"
   ],
   "metadata": {
    "collapsed": false,
    "pycharm": {
     "name": "#%%\n"
    }
   }
  },
  {
   "cell_type": "code",
   "execution_count": 79,
   "outputs": [
    {
     "data": {
      "text/plain": "[1, 4, 5, 6]"
     },
     "execution_count": 79,
     "metadata": {},
     "output_type": "execute_result"
    }
   ],
   "source": [
    "sum(l, [])"
   ],
   "metadata": {
    "collapsed": false,
    "pycharm": {
     "name": "#%%\n"
    }
   }
  },
  {
   "cell_type": "code",
   "execution_count": 88,
   "outputs": [
    {
     "data": {
      "text/plain": "13"
     },
     "execution_count": 88,
     "metadata": {},
     "output_type": "execute_result"
    }
   ],
   "source": [
    "sum(sum([[1,2,3]],  [7]))"
   ],
   "metadata": {
    "collapsed": false,
    "pycharm": {
     "name": "#%%\n"
    }
   }
  },
  {
   "cell_type": "code",
   "execution_count": null,
   "outputs": [],
   "source": [],
   "metadata": {
    "collapsed": false,
    "pycharm": {
     "name": "#%%\n"
    }
   }
  }
 ],
 "metadata": {
  "kernelspec": {
   "display_name": "Python 3",
   "language": "python",
   "name": "python3"
  },
  "language_info": {
   "codemirror_mode": {
    "name": "ipython",
    "version": 2
   },
   "file_extension": ".py",
   "mimetype": "text/x-python",
   "name": "python",
   "nbconvert_exporter": "python",
   "pygments_lexer": "ipython2",
   "version": "2.7.6"
  }
 },
 "nbformat": 4,
 "nbformat_minor": 0
}