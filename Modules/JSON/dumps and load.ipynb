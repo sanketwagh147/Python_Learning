{
 "cells": [
  {
   "cell_type": "markdown",
   "id": "849ebe1c-ca44-4abe-a70a-99e137085b75",
   "metadata": {},
   "source": [
    "# JSON dumps and loads\n",
    "# JSON dump and load"
   ]
  },
  {
   "cell_type": "code",
   "execution_count": 2,
   "id": "34a0241c-7001-4fec-a777-6a8beee0fb45",
   "metadata": {},
   "outputs": [],
   "source": [
    "name = dict(first='sanket', last='wagh')\n",
    "rec = dict(name=name, skills=['python', 'java script'], age=30)"
   ]
  },
  {
   "cell_type": "code",
   "execution_count": 7,
   "id": "8bb93837-dc52-4a9f-a313-0b20548b9c5b",
   "metadata": {},
   "outputs": [],
   "source": [
    "import json\n",
    "test1 = json.dumps(rec)\n",
    "test1"
   ]
  },
  {
   "cell_type": "code",
   "execution_count": 10,
   "id": "d4af1b46-f039-449f-99dc-24e416200174",
   "metadata": {},
   "outputs": [
    {
     "data": {
      "text/plain": [
       "'{\"name\": {\"first\": \"sanket\", \"last\": \"wagh\"}, \"skills\": [\"python\", \"java script\"], \"age\": 30}'"
      ]
     },
     "execution_count": 10,
     "metadata": {},
     "output_type": "execute_result"
    }
   ],
   "source": [
    "test2 = json.loads(test1)\n",
    "test1"
   ]
  },
  {
   "cell_type": "code",
   "execution_count": 16,
   "id": "55627ee5-f4ed-40a7-8e3b-51ff70fac5f0",
   "metadata": {},
   "outputs": [
    {
     "name": "stdout",
     "output_type": "stream",
     "text": [
      "\"{\\\"name\\\": {\\\"first\\\": \\\"sanket\\\", \\\"last\\\": \\\"wagh\\\"}, \\\"skills\\\": [\\\"python\\\", \\\"java script\\\"], \\\"age\\\": 30}\"\n"
     ]
    }
   ],
   "source": [
    "json.dump(test1, fp=open('test1ToJson.txt', 'w'), indent = 4)\n",
    "print(open('test1ToJson.txt').read())"
   ]
  },
  {
   "cell_type": "code",
   "execution_count": 18,
   "id": "8e69e475-b472-4df8-939e-99fc16ba0721",
   "metadata": {},
   "outputs": [
    {
     "data": {
      "text/plain": [
       "'{\"name\": {\"first\": \"sanket\", \"last\": \"wagh\"}, \"skills\": [\"python\", \"java script\"], \"age\": 30}'"
      ]
     },
     "execution_count": 18,
     "metadata": {},
     "output_type": "execute_result"
    }
   ],
   "source": [
    "test3 = json.load(open(\"test1ToJson.txt\"))\n",
    "test3"
   ]
  }
 ],
 "metadata": {
  "kernelspec": {
   "display_name": "Python 3",
   "language": "python",
   "name": "python3"
  },
  "language_info": {
   "codemirror_mode": {
    "name": "ipython",
    "version": 3
   },
   "file_extension": ".py",
   "mimetype": "text/x-python",
   "name": "python",
   "nbconvert_exporter": "python",
   "pygments_lexer": "ipython3",
   "version": "3.7.3"
  }
 },
 "nbformat": 4,
 "nbformat_minor": 5
}
