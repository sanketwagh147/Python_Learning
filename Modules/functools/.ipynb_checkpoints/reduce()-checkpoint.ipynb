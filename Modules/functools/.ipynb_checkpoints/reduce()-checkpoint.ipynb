{
 "cells": [
  {
   "cell_type": "markdown",
   "id": "7671ad90-0b2e-4b31-80c8-57b9d957fd24",
   "metadata": {},
   "source": [
    "# from functools import reduce\n",
    "# reduce(<font color = red>function,iterable/sequence</font>,<font color= orange>initial</font>)"
   ]
  },
  {
   "cell_type": "markdown",
   "id": "f29fea8b-21f7-49ca-9a92-0f29f1f71a9c",
   "metadata": {},
   "source": [
    "## reduce is used to reduce the iterable to the to one single value it uses a function to perform a operation\n"
   ]
  },
  {
   "cell_type": "code",
   "execution_count": 2,
   "id": "814c6156-2787-4dff-bc36-f2480990c23f",
   "metadata": {},
   "outputs": [
    {
     "name": "stdout",
     "output_type": "stream",
     "text": [
      "Help on built-in function reduce in module _functools:\n",
      "\n",
      "reduce(...)\n",
      "    reduce(function, sequence[, initial]) -> value\n",
      "    \n",
      "    Apply a function of two arguments cumulatively to the items of a sequence,\n",
      "    from left to right, so as to reduce the sequence to a single value.\n",
      "    For example, reduce(lambda x, y: x+y, [1, 2, 3, 4, 5]) calculates\n",
      "    ((((1+2)+3)+4)+5).  If initial is present, it is placed before the items\n",
      "    of the sequence in the calculation, and serves as a default when the\n",
      "    sequence is empty.\n",
      "\n"
     ]
    }
   ],
   "source": [
    "from functools import reduce\n",
    "help(reduce)"
   ]
  },
  {
   "cell_type": "code",
   "execution_count": 3,
   "id": "f79cbdf2-9fdf-4610-aa91-21317f4bc2bb",
   "metadata": {},
   "outputs": [
    {
     "data": {
      "text/plain": [
       "6"
      ]
     },
     "execution_count": 3,
     "metadata": {},
     "output_type": "execute_result"
    }
   ],
   "source": [
    "reduce(lambda x,y: x+y, (i for i in range(4)))"
   ]
  },
  {
   "cell_type": "code",
   "execution_count": 4,
   "id": "6fb685ec-cb07-42a8-8fec-f4730f221557",
   "metadata": {},
   "outputs": [],
   "source": [
    "def factorial(N):\n",
    "    \"\"\"\n",
    "    function to generate a factorial with reduce\n",
    "    \"\"\"\n",
    "    return reduce(lambda x,y: x*y, (i for i in range( 1, N+1)))"
   ]
  },
  {
   "cell_type": "code",
   "execution_count": 5,
   "id": "1df5d6b9-f536-433a-a74d-e5b9d8e4c136",
   "metadata": {},
   "outputs": [
    {
     "data": {
      "text/plain": [
       "120"
      ]
     },
     "execution_count": 5,
     "metadata": {},
     "output_type": "execute_result"
    }
   ],
   "source": [
    "factorial(5)"
   ]
  },
  {
   "cell_type": "code",
   "execution_count": 6,
   "id": "dfe293b3-9bf2-42bf-b936-550f3bc32e1f",
   "metadata": {},
   "outputs": [],
   "source": [
    "def factorial2(N):\n",
    "    \"\"\"\n",
    "    Here initial = \"initial\" which will default if iterable/sequence is empty\n",
    "    \"\"\"\n",
    "    return reduce(lambda x,y: x*y, [], \"initial\") "
   ]
  },
  {
   "cell_type": "code",
   "execution_count": 7,
   "id": "e5da3bd3-b60f-4e8f-af09-8264077fe563",
   "metadata": {},
   "outputs": [
    {
     "data": {
      "text/plain": [
       "'initial'"
      ]
     },
     "execution_count": 7,
     "metadata": {},
     "output_type": "execute_result"
    }
   ],
   "source": [
    "factorial2(5)\n"
   ]
  },
  {
   "cell_type": "code",
   "execution_count": 15,
   "id": "b18424bf-8e9f-4536-a128-880101579508",
   "metadata": {},
   "outputs": [
    {
     "data": {
      "text/plain": [
       "6480.0"
      ]
     },
     "execution_count": 15,
     "metadata": {},
     "output_type": "execute_result"
    }
   ],
   "source": [
    "a_list = [3, 5, 6,8, 9, 2]\n",
    "reduce(lambda x,y: x*y, a_list,0.5)   ## it is placed before the items in the sequence in the calculations."
   ]
  },
  {
   "cell_type": "code",
   "execution_count": null,
   "id": "002fb690-3489-4bf1-9ec7-a4eb78ef8be1",
   "metadata": {},
   "outputs": [],
   "source": []
  }
 ],
 "metadata": {
  "kernelspec": {
   "display_name": "Python 3",
   "language": "python",
   "name": "python3"
  },
  "language_info": {
   "codemirror_mode": {
    "name": "ipython",
    "version": 3
   },
   "file_extension": ".py",
   "mimetype": "text/x-python",
   "name": "python",
   "nbconvert_exporter": "python",
   "pygments_lexer": "ipython3",
   "version": "3.7.10"
  }
 },
 "nbformat": 4,
 "nbformat_minor": 5
}
