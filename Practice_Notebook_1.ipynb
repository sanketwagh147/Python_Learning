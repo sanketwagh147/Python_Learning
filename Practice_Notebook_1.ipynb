{
 "cells": [
  {
   "cell_type": "code",
   "execution_count": 1,
   "metadata": {},
   "outputs": [
    {
     "name": "stdout",
     "output_type": "stream",
     "text": [
      "2021-10-24 13:47:39.235955\n",
      "13\n",
      "47\n",
      "39\n"
     ]
    }
   ],
   "source": [
    "#show current time\n",
    "import datetime\n",
    "current_time = datetime.datetime.now()\n",
    "print(current_time)\n",
    "print(current_time.hour)\n",
    "print(current_time.minute)\n",
    "print(current_time.second)"
   ]
  },
  {
   "cell_type": "code",
   "execution_count": 9,
   "metadata": {},
   "outputs": [
    {
     "data": {
      "text/plain": [
       "1"
      ]
     },
     "execution_count": 9,
     "metadata": {},
     "output_type": "execute_result"
    }
   ],
   "source": [
    "A=1\n",
    "A"
   ]
  },
  {
   "cell_type": "code",
   "execution_count": 6,
   "metadata": {},
   "outputs": [],
   "source": [
    "for i in range(10):\n",
    "    a=2\n",
    "    b=4"
   ]
  },
  {
   "cell_type": "code",
   "execution_count": 7,
   "metadata": {},
   "outputs": [
    {
     "data": {
      "text/plain": [
       "2"
      ]
     },
     "execution_count": 7,
     "metadata": {},
     "output_type": "execute_result"
    }
   ],
   "source": [
    "a"
   ]
  },
  {
   "cell_type": "code",
   "execution_count": 5,
   "metadata": {},
   "outputs": [
    {
     "data": {
      "text/plain": [
       "array([[1, 2, 3],\n",
       "       [4, 5, 6],\n",
       "       [8, 9, 7]])"
      ]
     },
     "execution_count": 5,
     "metadata": {},
     "output_type": "execute_result"
    }
   ],
   "source": [
    "# np.resize\n",
    "import numpy as np\n",
    "arr = np.array([[1,2,3],[4,5,6],[8,9,7]])\n",
    "arr"
   ]
  },
  {
   "cell_type": "code",
   "execution_count": 6,
   "metadata": {},
   "outputs": [
    {
     "data": {
      "text/plain": [
       "array([[1, 2, 3, 4, 5, 6],\n",
       "       [8, 9, 7, 1, 2, 3]])"
      ]
     },
     "execution_count": 6,
     "metadata": {},
     "output_type": "execute_result"
    }
   ],
   "source": [
    "np.resize(arr,(2,6))\n"
   ]
  },
  {
   "cell_type": "code",
   "execution_count": 7,
   "metadata": {},
   "outputs": [
    {
     "data": {
      "text/plain": [
       "array([[1, 1],\n",
       "       [1, 1],\n",
       "       [1, 1]])"
      ]
     },
     "execution_count": 7,
     "metadata": {},
     "output_type": "execute_result"
    }
   ],
   "source": [
    "# initiate a numpy array with all ones\n",
    "np.ones((3,2), dtype=int)"
   ]
  },
  {
   "cell_type": "code",
   "execution_count": 2,
   "metadata": {},
   "outputs": [],
   "source": [
    "sdf\n",
    "b = [4,5,6]\n",
    "b = [4,5,6]\n",
    "b = [4,5,6]\n",
    "b = [4,5,6]\n",
    "b = [4,5,6]\n",
    "b = [4,5,6]\n",
    "b = [4,5,6]\n",
    "b = [4,5,6]\n",
    "b = [4,5,6] b = [4,5,6] f"
   ]
  },
  {
   "cell_type": "code",
   "execution_count": 3,
   "metadata": {},
   "outputs": [
    {
     "data": {
      "text/plain": [
       "<zip at 0x26c3032dc40>"
      ]
     },
     "execution_count": 3,
     "metadata": {},
     "output_type": "execute_result"
    }
   ],
   "source": [
    "bbbbbbbbbbbbbbbbbbbbbbbbbbbbbbbbbbbbbbbbbbbbbbbbbbbb = [4,5,6]\n",
    " = [4,5,6]\n",
    " = [4,5,6]\n",
    " = [4,5,6]\n",
    " = [4,5,6]\n",
    " = [4,5,6]\n",
    " = [4,5,6]\n",
    " = [4,5,6]\n",
    " = [4,5,6]\n",
    " = [4,5,6]\n",
    " = [4,5,6]\n",
    " = [4,5,6]\n",
    " = [4,5,6]\n",
    " = [4,5,6]\n",
    " = [4,5,6]\n",
    " = [4,5,6]\n",
    " = [4,5,6]\n",
    " = [4,5,6]\n",
    " = [4,5,6]\n",
    " = [4,5,6]\n",
    " = [4,5,6]\n",
    " = [4,5,6]\n",
    " = [4,5,6]\n",
    " = [4,5,6]\n",
    " = [4,5,6]\n",
    " = [4,5,6]\n",
    " = [4,5,6]\n",
    " = [4,5,6]\n",
    " = [4,5,6]\n",
    " = [4,5,6]\n",
    " = [4,5,6]\n",
    " = [4,5,6]\n",
    " = [4,5,6]\n",
    " = [4,5,6]\n",
    " = [4,5,6]\n",
    " = [4,5,6]\n",
    " = [4,5,6]\n",
    " = [4,5,6]\n",
    " = [4,5,6]\n",
    " = [4,5,6]\n",
    " = [4,5,6]\n",
    " = [4,5,6]\n",
    " = [4,5,6]\n",
    " = [4,5,6]\n",
    " = [4,5,6]\n",
    " = [4,5,6]\n",
    " = [4,5,6]\n",
    " = [4,5,6]\n",
    " = [4,5,6]\n",
    " = [4,5,6]\n",
    " = [4,5,6]\n",
    " = [4,5,6]\n"
   ]
  },
  {
   "cell_type": "code",
   "execution_count": 6,
   "metadata": {},
   "outputs": [],
   "source": []
  },
  {
   "cell_type": "code",
   "execution_count": 7,
   "metadata": {},
   "outputs": [
    {
     "data": {
      "text/plain": [
       "((1, 2, 3), (4, 5, 6))"
      ]
     },
     "execution_count": 7,
     "metadata": {},
     "output_type": "execute_result"
    }
   ],
   "source": [
    "\n"
   ]
  },
  {
   "cell_type": "code",
   "execution_count": null,
   "metadata": {},
   "outputs": [],
   "source": []
  }
 ],
 "metadata": {
  "interpreter": {
   "hash": "dfd276f2a206ebd938f1ee327d5cb106819e8fc1dfad19f933700372d4cadb58"
  },
  "kernelspec": {
   "display_name": "Python 3.8.12 64-bit ('Practice': conda)",
   "name": "python3"
  },
  "language_info": {
   "codemirror_mode": {
    "name": "ipython",
    "version": 3
   },
   "file_extension": ".py",
   "mimetype": "text/x-python",
   "name": "python",
   "nbconvert_exporter": "python",
   "pygments_lexer": "ipython3",
   "version": "3.8.12"
  },
  "orig_nbformat": 4
 },
 "nbformat": 4,
 "nbformat_minor": 2
}
