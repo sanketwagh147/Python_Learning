{
 "cells": [
  {
   "cell_type": "markdown",
   "id": "ebf59680-40e4-427b-bdd0-ef1912ffdb41",
   "metadata": {},
   "source": [
    "# Conversion of a string to a list\n"
   ]
  },
  {
   "cell_type": "markdown",
   "id": "8c9c2ff1-e2cb-4751-a334-0cbd2cec1bad",
   "metadata": {
    "tags": [
     "list()"
    ]
   },
   "source": [
    "***Method 1 : Using the list function"
   ]
  },
  {
   "cell_type": "code",
   "execution_count": 4,
   "id": "3dc9b9b6-a6b7-4447-bd67-f445f09f1817",
   "metadata": {},
   "outputs": [
    {
     "name": "stdout",
     "output_type": "stream",
     "text": [
      "['T', 'h', 'i', 's', ' ', 'i', 's', ' ', 'a', ' ', 's', 't', 'r', 'i', 'n', 'g']\n"
     ]
    }
   ],
   "source": [
    "a_string = \"This is a string\"\n",
    "a_list = list(a_string)\n"
   ]
  },
  {
   "cell_type": "markdown",
   "id": "cda3d74c-e918-4bc8-a83a-31874ce0ffb1",
   "metadata": {},
   "source": [
    "The string above is covnerted into a list with each character as a single item"
   ]
  }
 ],
 "metadata": {
  "kernelspec": {
   "display_name": "Python 3",
   "language": "python",
   "name": "python3"
  },
  "language_info": {
   "codemirror_mode": {
    "name": "ipython",
    "version": 3
   },
   "file_extension": ".py",
   "mimetype": "text/x-python",
   "name": "python",
   "nbconvert_exporter": "python",
   "pygments_lexer": "ipython3",
   "version": "3.7.3"
  },
  "toc-autonumbering": false,
  "toc-showcode": false,
  "toc-showmarkdowntxt": false,
  "toc-showtags": true
 },
 "nbformat": 4,
 "nbformat_minor": 5
}
