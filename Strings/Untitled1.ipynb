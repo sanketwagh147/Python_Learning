{
 "cells": [
  {
   "cell_type": "code",
   "execution_count": null,
   "id": "27883623-801d-4b8e-ba2c-c5e1fe05d662",
   "metadata": {},
   "outputs": [],
   "source": []
  },
  {
   "cell_type": "code",
   "execution_count": null,
   "id": "9a0242f9-3fe8-46c1-af5d-efa3f2d44df0",
   "metadata": {},
   "outputs": [],
   "source": []
  },
  {
   "cell_type": "code",
   "execution_count": 1,
   "id": "b81d4cd3-efde-475d-bb61-7f3be2ca095d",
   "metadata": {},
   "outputs": [],
   "source": [
    "# jflaskfjkldjf"
   ]
  },
  {
   "cell_type": "code",
   "execution_count": 2,
   "id": "213f5da7-923b-4f81-8f1f-3a1a4c61d54e",
   "metadata": {},
   "outputs": [],
   "source": [
    "a=34"
   ]
  },
  {
   "cell_type": "code",
   "execution_count": 3,
   "id": "99ad5631-8e5a-4084-9567-3759c8415f21",
   "metadata": {},
   "outputs": [
    {
     "data": {
      "text/plain": [
       "34"
      ]
     },
     "execution_count": 3,
     "metadata": {},
     "output_type": "execute_result"
    }
   ],
   "source": [
    "a"
   ]
  },
  {
   "cell_type": "code",
   "execution_count": 4,
   "id": "b843fdae-5bd5-4ff9-8ad8-60ba29372a93",
   "metadata": {},
   "outputs": [],
   "source": [
    "#### This"
   ]
  },
  {
   "cell_type": "code",
   "execution_count": null,
   "id": "10a1fd63-7f94-4934-b76f-bed549839ea1",
   "metadata": {},
   "outputs": [],
   "source": []
  }
 ],
 "metadata": {
  "kernelspec": {
   "display_name": "Python 3",
   "language": "python",
   "name": "python3"
  },
  "language_info": {
   "codemirror_mode": {
    "name": "ipython",
    "version": 3
   },
   "file_extension": ".py",
   "mimetype": "text/x-python",
   "name": "python",
   "nbconvert_exporter": "python",
   "pygments_lexer": "ipython3",
   "version": "3.7.10"
  }
 },
 "nbformat": 4,
 "nbformat_minor": 5
}
