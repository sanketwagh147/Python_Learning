{
 "cells": [
  {
   "cell_type": "markdown",
   "id": "83e02476-279b-4ddb-ab5c-d588f9948d02",
   "metadata": {},
   "source": [
    "# np.insert(arr, obj, values, axis)\n",
    ">`arr` : Input array to be inserted  \n",
    ">`obj`: The index before which the insertion is to be made  \n",
    ">`values`: The array of values to be inserted  \n",
    ">`axis`: The axis along insert in given array, if not given, arr is flattened\n"
   ]
  },
  {
   "cell_type": "code",
   "execution_count": 1,
   "id": "e9c9c923-b7a0-44c5-aa9c-7703f900a4a6",
   "metadata": {},
   "outputs": [],
   "source": [
    "import numpy as np"
   ]
  },
  {
   "cell_type": "code",
   "execution_count": 2,
   "id": "a35bc4e1-91c1-4ade-b0e2-5db580676334",
   "metadata": {},
   "outputs": [
    {
     "data": {
      "text/plain": [
       "array([[[2, 1, 1, 1],\n",
       "        [1, 1, 1, 2],\n",
       "        [2, 2, 1, 2]],\n",
       "\n",
       "       [[2, 1, 2, 1],\n",
       "        [2, 1, 1, 1],\n",
       "        [2, 1, 2, 2]]])"
      ]
     },
     "execution_count": 2,
     "metadata": {},
     "output_type": "execute_result"
    }
   ],
   "source": [
    "test_insert = np.random.randint(1,3,(2,3,4))\n",
    "test_insert"
   ]
  },
  {
   "cell_type": "code",
   "execution_count": 3,
   "id": "fa348c69-e25a-4b24-8bfb-cc06e3838e7f",
   "metadata": {},
   "outputs": [
    {
     "data": {
      "text/plain": [
       "array([[[0, 0, 0, 0],\n",
       "        [0, 0, 0, 0],\n",
       "        [0, 0, 0, 0]],\n",
       "\n",
       "       [[2, 2, 1, 1],\n",
       "        [1, 1, 2, 1],\n",
       "        [2, 2, 2, 2]],\n",
       "\n",
       "       [[2, 2, 1, 2],\n",
       "        [2, 1, 2, 2],\n",
       "        [1, 2, 1, 2]]])"
      ]
     },
     "execution_count": 3,
     "metadata": {},
     "output_type": "execute_result"
    }
   ],
   "source": [
    "np.insert(test_insert,0,[0,0,0,0],axis=0)"
   ]
  },
  {
   "cell_type": "code",
   "execution_count": 5,
   "id": "216223ba-b252-4398-b272-7f8266863f2b",
   "metadata": {},
   "outputs": [
    {
     "data": {
      "text/plain": [
       "array([[[2, 2, 1, 1],\n",
       "        [1, 1, 2, 1],\n",
       "        [2, 2, 2, 2]],\n",
       "\n",
       "       [[3, 3, 4, 4],\n",
       "        [3, 3, 4, 4],\n",
       "        [3, 3, 4, 4]],\n",
       "\n",
       "       [[2, 2, 1, 2],\n",
       "        [2, 1, 2, 2],\n",
       "        [1, 2, 1, 2]]])"
      ]
     },
     "execution_count": 5,
     "metadata": {},
     "output_type": "execute_result"
    }
   ],
   "source": [
    "np.insert(test_insert, 1,[3,3,4,4],axis=0)\n",
    "\n"
   ]
  },
  {
   "cell_type": "code",
   "execution_count": 3,
   "metadata": {},
   "outputs": [
    {
     "data": {
      "text/plain": [
       "array([[[2, 1, 1, 1],\n",
       "        [1, 1, 1, 2],\n",
       "        [2, 2, 1, 2]],\n",
       "\n",
       "       [[2, 1, 2, 1],\n",
       "        [2, 1, 1, 1],\n",
       "        [2, 1, 2, 2]]])"
      ]
     },
     "execution_count": 3,
     "metadata": {},
     "output_type": "execute_result"
    }
   ],
   "source": [
    "test_insert"
   ]
  },
  {
   "cell_type": "code",
   "execution_count": 10,
   "id": "6b7ab87e",
   "metadata": {},
   "outputs": [
    {
     "data": {
      "text/plain": [
       "array([[[ 2,  1,  1,  1],\n",
       "        [11, 22, 33, 44],\n",
       "        [ 1,  1,  1,  2],\n",
       "        [ 2,  2,  1,  2]],\n",
       "\n",
       "       [[ 2,  1,  2,  1],\n",
       "        [11, 22, 33, 44],\n",
       "        [ 2,  1,  1,  1],\n",
       "        [ 2,  1,  2,  2]]])"
      ]
     },
     "execution_count": 10,
     "metadata": {},
     "output_type": "execute_result"
    }
   ],
   "source": [
    "np.insert(test_insert, 1, [11,22,33,44], axis=1)"
   ]
  },
  {
   "cell_type": "code",
   "execution_count": null,
   "id": "8d89fdac",
   "metadata": {},
   "outputs": [],
   "source": []
  }
 ],
 "metadata": {
  "interpreter": {
   "hash": "05811a4c8edeb62e87c3e708461cae05c65dc4bb514779bc955273fc84b8bc5c"
  },
  "kernelspec": {
   "display_name": "Python 3.8.12 64-bit (conda)",
   "name": "python3"
  },
  "language_info": {
   "codemirror_mode": {
    "name": "ipython",
    "version": 3
   },
   "file_extension": ".py",
   "mimetype": "text/x-python",
   "name": "python",
   "nbconvert_exporter": "python",
   "pygments_lexer": "ipython3",
   "version": "3.10.0"
  }
 },
 "nbformat": 4,
 "nbformat_minor": 5
}
