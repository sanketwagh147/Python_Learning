{
 "cells": [
  {
   "cell_type": "markdown",
   "metadata": {},
   "source": [
    "# imaplib  \n",
    ">used to read emails"
   ]
  },
  {
   "cell_type": "code",
   "execution_count": 35,
   "metadata": {},
   "outputs": [],
   "source": [
    "import imaplib, email\n",
    "import datetime\n",
    "import os\n",
    "import datetime"
   ]
  },
  {
   "cell_type": "code",
   "execution_count": 40,
   "metadata": {},
   "outputs": [],
   "source": [
    "user = \"dev.sanket.wagh@gmail.com\"\n",
    "pw = \"TONYstark@123\""
   ]
  },
  {
   "cell_type": "code",
   "execution_count": 41,
   "metadata": {},
   "outputs": [],
   "source": [
    "imap_url = \"imap.gmail.com\""
   ]
  },
  {
   "cell_type": "code",
   "execution_count": 42,
   "metadata": {},
   "outputs": [],
   "source": [
    "con = imaplib.IMAP4_SSL(imap_url)"
   ]
  },
  {
   "cell_type": "code",
   "execution_count": 43,
   "metadata": {},
   "outputs": [
    {
     "data": {
      "text/plain": [
       "('OK', [b'dev.sanket.wagh@gmail.com authenticated (Success)'])"
      ]
     },
     "execution_count": 43,
     "metadata": {},
     "output_type": "execute_result"
    }
   ],
   "source": [
    "con.login(user, pw)"
   ]
  },
  {
   "cell_type": "code",
   "execution_count": null,
   "metadata": {},
   "outputs": [],
   "source": [
    "con.list()"
   ]
  },
  {
   "cell_type": "code",
   "execution_count": 51,
   "metadata": {},
   "outputs": [
    {
     "data": {
      "text/plain": [
       "('OK', [b'5'])"
      ]
     },
     "execution_count": 51,
     "metadata": {},
     "output_type": "execute_result"
    }
   ],
   "source": [
    "con.select(\"INBOX\")"
   ]
  },
  {
   "cell_type": "code",
   "execution_count": 52,
   "metadata": {},
   "outputs": [],
   "source": [
    "result, data = con.fetch(b'1', '(RFC822)') "
   ]
  },
  {
   "cell_type": "code",
   "execution_count": null,
   "metadata": {},
   "outputs": [],
   "source": [
    "result, data"
   ]
  },
  {
   "cell_type": "code",
   "execution_count": null,
   "metadata": {},
   "outputs": [],
   "source": [
    "\n",
    "status, response = con.search(None, \"UNSEEN\")\n",
    "unread_msg_uids = response[0].split()\n",
    "print(unread_msg_uids)\n",
    "print(response)"
   ]
  },
  {
   "cell_type": "code",
   "execution_count": null,
   "metadata": {},
   "outputs": [],
   "source": [
    "def get_body(msg):\n",
    "    if msg.is_multipart():\n",
    "        return get_body(msg.get_payload(0))\n",
    "    else:\n",
    "        return msg"
   ]
  },
  {
   "cell_type": "code",
   "execution_count": null,
   "metadata": {},
   "outputs": [],
   "source": [
    "def get_unread_mails(user, pw):\n",
    "    try:\n",
    "        self.imap.select(\"INBOX\")\n",
    "        \"\"\"\n",
    "        IMAP4.select(mailbox='INBOX', readonly=False)\n",
    "        Select a mailbox. Returned data is the count of messages in mailbox (EXISTS response). The default mailbox is 'INBOX'. If the readonly flag is set, modifications to the mailbox are not allowed.\n",
    "        \"\"\"\n",
    "        status, response = self.imap.search(None, \"UNSEEN\")\n",
    "\n",
    "        LOGGER.info(\"Status = {}\".format(status))\n",
    "        unread_msg_uids = response[0].split()\n",
    "        return unread_msg_uids\n",
    "    except imaplib.IMAP4.error as err:\n",
    "        LOGGER.debug(\"Unable to get UIDs = {}\".format(err))"
   ]
  },
  {
   "cell_type": "code",
   "execution_count": null,
   "metadata": {},
   "outputs": [],
   "source": [
    "\n",
    "date = (datetime.datetime.now()).strftime('%d-%b-%Y')\n",
    "print(date)"
   ]
  },
  {
   "cell_type": "code",
   "execution_count": null,
   "metadata": {},
   "outputs": [],
   "source": [
    "def write_file(filename, file_content, download_path=None):\n",
    "    # pylint: disable=missing-function-docstring\n",
    "    # LOGGER.info(\"Inside write file function.. Filename : %s\",filename)\n",
    "    if not download_path:\n",
    "        date = (datetime.datetime.now()).strftime('%d-%b-%Y')\n",
    "        download_path = os.path.join(os.getcwd(), 'Attachments', date)\n",
    "        os.makedirs(download_path, exist_ok=True)\n",
    "\n",
    "    file_path = os.path.join(download_path, filename)\n",
    "    # LOGGER.info(\"Filepath : %s\",file_path)\n",
    "    if not os.path.isfile(file_path):\n",
    "        try:\n",
    "            fp = open(file_path, 'wb')\n",
    "            fp.write(file_content)\n",
    "            fp.close()\n",
    "            # LOGGER.info(\"File saved to path : %s\",file_path)\n",
    "        except IOError as er:\n",
    "            pass\n",
    "            # LOGGER.warning(\"Could not read the file : %s due to : %s\",file_path, er)\n",
    "    else:\n",
    "        try:\n",
    "            fp = open(file_path, 'wb')\n",
    "            fp.write(file_content)\n",
    "            fp.close()\n",
    "            # LOGGER.info(\"File saved to path : %s\", file_path)\n",
    "        except IOError as er:\n",
    "            pass\n",
    "            # LOGGER.warning(\"Could not read the file : %s due to %s\",file_path, er)\n",
    "    # downloaded_url = Mail.upload_to_s3(fp=file_path)\n",
    "    return file_path\n"
   ]
  },
  {
   "cell_type": "code",
   "execution_count": null,
   "metadata": {},
   "outputs": [],
   "source": [
    "write_file(\"testfile\",\"file content is gibberish\".encode(\"ascii\"))"
   ]
  },
  {
   "cell_type": "code",
   "execution_count": 44,
   "metadata": {},
   "outputs": [],
   "source": [
    "def search(key, value, con):\n",
    "    result, data = con.search(None, key, f\"{value}\")\n",
    "    return data"
   ]
  },
  {
   "cell_type": "code",
   "execution_count": 53,
   "metadata": {},
   "outputs": [
    {
     "data": {
      "text/plain": [
       "[b'5']"
      ]
     },
     "execution_count": 53,
     "metadata": {},
     "output_type": "execute_result"
    }
   ],
   "source": [
    "search(\"FROM\", 'firearmz0147@gmail.com', con)"
   ]
  },
  {
   "cell_type": "code",
   "execution_count": null,
   "metadata": {},
   "outputs": [],
   "source": [
    "a =3 "
   ]
  },
  {
   "cell_type": "code",
   "execution_count": null,
   "metadata": {},
   "outputs": [],
   "source": []
  }
 ],
 "metadata": {
  "interpreter": {
   "hash": "59fc3f48354548c169fc7ad2115f2a2ae78e8b4c29d7487cfa15045f344c00f3"
  },
  "kernelspec": {
   "display_name": "Python 3.9.7 64-bit ('base': conda)",
   "language": "python",
   "name": "python3"
  },
  "language_info": {
   "codemirror_mode": {
    "name": "ipython",
    "version": 3
   },
   "file_extension": ".py",
   "mimetype": "text/x-python",
   "name": "python",
   "nbconvert_exporter": "python",
   "pygments_lexer": "ipython3",
   "version": "3.9.7"
  },
  "orig_nbformat": 4
 },
 "nbformat": 4,
 "nbformat_minor": 2
}
