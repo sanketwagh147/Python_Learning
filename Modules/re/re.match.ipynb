{
 "cells": [
  {
   "cell_type": "markdown",
   "id": "8b297bbb-046e-4ad9-83e2-1c96d0ab4726",
   "metadata": {},
   "source": [
    "# re.match(pattern, string, flags = 0)\n",
    "> Searches only at the start of the string\n",
    ">`Pattern` is the regular expression  \n",
    ">`string` is the one to look in to search the pattern  \n",
    ">`flags = 0` "
   ]
  },
  {
   "cell_type": "code",
   "execution_count": 3,
   "id": "b20bbd5f-f73b-439a-978d-51d0a95391f4",
   "metadata": {},
   "outputs": [
    {
     "name": "stdout",
     "output_type": "stream",
     "text": [
      "matchObj.group():  Cats are smarter than dogs\n",
      "matchObj.group(1):  Cats\n",
      "matchObj.group(2):  \n"
     ]
    }
   ],
   "source": [
    "import re \n",
    "line = \"Cats are smarter than dogs\" \n",
    "matchObj = re. match(r'(.*) are (.*?).*', line) \n",
    "if matchObj: \n",
    "    print(\"matchObj.group(): \", matchObj.group() )\n",
    "    print(\"matchObj.group(1): \", matchObj.group(1) )\n",
    "    print (\"matchObj.group(2): \", matchObj.group(2))\n",
    "else: \n",
    "    print(\"No match!!\")"
   ]
  },
  {
   "cell_type": "code",
   "execution_count": null,
   "id": "31c50dd9-97f7-4242-b454-b8f2b27f6224",
   "metadata": {},
   "outputs": [],
   "source": []
  }
 ],
 "metadata": {
  "kernelspec": {
   "display_name": "Python 3",
   "language": "python",
   "name": "python3"
  },
  "language_info": {
   "codemirror_mode": {
    "name": "ipython",
    "version": 3
   },
   "file_extension": ".py",
   "mimetype": "text/x-python",
   "name": "python",
   "nbconvert_exporter": "python",
   "pygments_lexer": "ipython3",
   "version": "3.7.10"
  }
 },
 "nbformat": 4,
 "nbformat_minor": 5
}
