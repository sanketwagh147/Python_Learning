{
 "cells": [
  {
   "cell_type": "markdown",
   "id": "ad444ec6-183f-4d47-b015-8271b26f4c73",
   "metadata": {
    "tags": []
   },
   "source": [
    "# Grouping\n",
    "> RE are used to disect a strinjg into subgroups depending upon pattern\n",
    "> for ex: a string `\"User-Agent: Thunderbird 1.5.0.9 (X11/20061227)\"` we want group of each individual item based on pattern  \n",
    ">they are indicated by `()`  \n",
    "> groups are numbered from 0 and group() is group 0 by default and is always present"
   ]
  },
  {
   "cell_type": "code",
   "execution_count": 3,
   "id": "1f87a68d-b86a-4ba1-8f9c-b199ac0782b6",
   "metadata": {},
   "outputs": [],
   "source": [
    "import re"
   ]
  },
  {
   "cell_type": "code",
   "execution_count": 4,
   "id": "d4b39038-b9bc-4241-bfc7-4edd027726ea",
   "metadata": {},
   "outputs": [
    {
     "data": {
      "text/plain": [
       "(0, 8)"
      ]
     },
     "execution_count": 4,
     "metadata": {},
     "output_type": "execute_result"
    }
   ],
   "source": [
    "test = re.compile(\"(cd)*\")\n",
    "test.match(\"cdcdcdcda\").span()"
   ]
  },
  {
   "cell_type": "markdown",
   "id": "6abc52fd-333d-4f3c-b648-31d9d0ec8359",
   "metadata": {},
   "source": [
    "_Notice the span not just start of first match it spans from first match to the end_ "
   ]
  },
  {
   "cell_type": "code",
   "execution_count": 5,
   "id": "e884fe3a-9406-43c1-b8ae-97bda0a0620e",
   "metadata": {},
   "outputs": [
    {
     "data": {
      "text/plain": [
       "<re.Match object; span=(0, 46), match='User-Agent: Thunderbird 1.5.0.9 (X11/20061227)'>"
      ]
     },
     "execution_count": 5,
     "metadata": {},
     "output_type": "execute_result"
    }
   ],
   "source": [
    "# Extracting specific data with Regex\n",
    "str1 = \"User-Agent: Thunderbird 1.5.0.9 (X11/20061227)\"\n",
    "x = re.match(r\"^([\\w]+-[\\w]+): ([\\w]+) ([0-9.]+) ([\\(\\w]+/[\\d\\)]+)\", str1) # each () is a group and follows rules similar to math\n",
    "x"
   ]
  },
  {
   "cell_type": "code",
   "execution_count": 6,
   "id": "f5d1b3fe-c0a6-44e6-a765-e325622920f9",
   "metadata": {},
   "outputs": [
    {
     "name": "stdout",
     "output_type": "stream",
     "text": [
      "User-Agent\n",
      "Thunderbird\n",
      "1.5.0.9\n",
      "(X11/20061227)\n"
     ]
    }
   ],
   "source": [
    "for i in range(1,len(x.groups())+1):\n",
    "    print(x.group(i))"
   ]
  },
  {
   "cell_type": "code",
   "execution_count": 7,
   "id": "6f844886-876f-4c7d-be69-b7b90c01568d",
   "metadata": {},
   "outputs": [
    {
     "data": {
      "text/plain": [
       "('User-Agent', 'Thunderbird', '1.5.0.9', '(X11/20061227)')"
      ]
     },
     "execution_count": 7,
     "metadata": {},
     "output_type": "execute_result"
    }
   ],
   "source": [
    "x.groups()  # returns a tuple of all group items "
   ]
  },
  {
   "cell_type": "code",
   "execution_count": 8,
   "id": "f594fe09-6f01-427b-aa6d-092b8387c8b8",
   "metadata": {},
   "outputs": [
    {
     "data": {
      "text/plain": [
       "('User-Agent: Thunderbird 1.5.0.9 (X11/20061227)',\n",
       " 'User-Agent',\n",
       " 'Thunderbird',\n",
       " '1.5.0.9',\n",
       " '(X11/20061227)')"
      ]
     },
     "execution_count": 8,
     "metadata": {},
     "output_type": "execute_result"
    }
   ],
   "source": [
    "x.group(0,1,2,3,4)  # gives tuple based on groups from groups() method respective to each index"
   ]
  },
  {
   "cell_type": "markdown",
   "id": "6b838f20-7d53-4b18-8d5e-2f221df64f7d",
   "metadata": {},
   "source": [
    "## Finding repeating word in a string"
   ]
  },
  {
   "cell_type": "code",
   "execution_count": 9,
   "id": "2379fd4a-f498-4c85-bb48-440ce707bdbb",
   "metadata": {},
   "outputs": [
    {
     "data": {
      "text/plain": [
       "'best best'"
      ]
     },
     "execution_count": 9,
     "metadata": {},
     "output_type": "execute_result"
    }
   ],
   "source": [
    "string_1 = \"Iam the best best actor best\"\n",
    "regex_1 = re.compile(r'\\b(\\w+)\\s+\\1\\b')  #\\1 means that the next group item should be similar to previous one\n",
    "regex_1.search(string_1).group()"
   ]
  },
  {
   "cell_type": "markdown",
   "id": "694bf7cb-8f3f-4e4a-9e1b-49df2c1c7c95",
   "metadata": {},
   "source": [
    "## Non capturing group `(9?:pattern)`  # pattern is regex pattern\n",
    "> This are not captured while grouping"
   ]
  },
  {
   "cell_type": "code",
   "execution_count": 10,
   "id": "36f515af-9dee-4f45-9569-dbff15453832",
   "metadata": {},
   "outputs": [
    {
     "name": "stdout",
     "output_type": "stream",
     "text": [
      "User-Agent\n",
      "Thunderbird\n"
     ]
    }
   ],
   "source": [
    "# Suppose we dont need to capture any specific group\n",
    "str1 = \"User-Agent: Thunderbird 1.5.0.9 (X11/20061227)\"\n",
    "y = re.match(r\"^([\\w]+-[\\w]+): ([\\w]+) (?:[0-9.]+) (?:[\\(\\w]+/[\\d\\)]+)\", str1) # each () is a group and follows rules similar to math\n",
    "for i in range(1,len(y.groups())+1):  #loop to print all groups \n",
    "    print(y.group(i))\n",
    "# (?:[0-9.]+) (?:[\\(\\w]+/[\\d\\)] from later part of pattern is preceded by ?: which means do not capture this group"
   ]
  },
  {
   "cell_type": "markdown",
   "id": "96d3c384-05ce-4265-a0a3-5f235fe2fe1c",
   "metadata": {},
   "source": [
    "_Thus last two items are not included in y_"
   ]
  },
  {
   "cell_type": "code",
   "execution_count": 11,
   "id": "34830f1b-a7e5-40c5-b0f7-57b069407f19",
   "metadata": {},
   "outputs": [
    {
     "name": "stdout",
     "output_type": "stream",
     "text": [
      "cat\n",
      "dog\n",
      "rat\n",
      "man\n"
     ]
    }
   ],
   "source": [
    "# A simple example of all capturing group\n",
    "str2 = \"cat dog rat man\"\n",
    "z = re.match(r\"(^cat)\\s(\\bdog)\\s(rat\\b)\\s(\\w+)\", str2)\n",
    "for i in range(1,len(z.groups())+1):  #loop to print all groups \n",
    "    print(z.group(i))"
   ]
  },
  {
   "cell_type": "markdown",
   "id": "63f28d0c-1c73-4ab0-a4c0-6a94035ae1e3",
   "metadata": {},
   "source": [
    "_As no group `()` begin with `?:` each is included in the group_"
   ]
  },
  {
   "cell_type": "code",
   "execution_count": 12,
   "id": "07a4f844-284e-4163-b36e-82fe538a080d",
   "metadata": {},
   "outputs": [
    {
     "name": "stdout",
     "output_type": "stream",
     "text": [
      "cat\n",
      "dog\n"
     ]
    }
   ],
   "source": [
    "# If we don't want to group rat and man simply add `?:` inside the group\n",
    "\n",
    "str2 = \"cat dog rat man\"\n",
    "z = re.match(r\"(^cat)\\s(\\bdog)\\s(?:rat\\b)\\s(?:\\w+)\", str2)\n",
    "for i in range(1,len(z.groups())+1):  #loop to print all groups \n",
    "    print(z.group(i))"
   ]
  },
  {
   "cell_type": "markdown",
   "id": "09c8f12a-84e7-44bb-978e-00a99e10e9cd",
   "metadata": {},
   "source": [
    "_Thus the group are excluded_"
   ]
  },
  {
   "cell_type": "markdown",
   "id": "4c2a64b4-c2a2-4a6b-a5c7-19b6567fac81",
   "metadata": {},
   "source": [
    "## Named groups `(?P<name>pattern)`\n",
    ">`<name>` is name we desire to give a group  \n",
    "> pattern is regex expression\n",
    "> This is python specific extension"
   ]
  },
  {
   "cell_type": "code",
   "execution_count": 13,
   "id": "1bb8ac39-164a-4011-9991-1d5fe91668a8",
   "metadata": {},
   "outputs": [
    {
     "data": {
      "text/plain": [
       "{'pet1': 'cat', 'owner': 'man'}"
      ]
     },
     "execution_count": 13,
     "metadata": {},
     "output_type": "execute_result"
    }
   ],
   "source": [
    "str2 = \"cat dog rat man\"\n",
    "a = re.search(r\"(?P<pet1>^cat)[a-zA-Z ]+(?P<owner>man$)\", str2)\n",
    "# for i in range(1,len(z.groups())+1):  #loop to print all groups \n",
    "#     print(z.group(i))\n",
    "a.groupdict()"
   ]
  },
  {
   "cell_type": "code",
   "execution_count": 14,
   "id": "50160f7d-8a85-4c70-aefb-db6ba096937c",
   "metadata": {},
   "outputs": [
    {
     "data": {
      "text/plain": [
       "('cat', 'man')"
      ]
     },
     "execution_count": 14,
     "metadata": {},
     "output_type": "execute_result"
    }
   ],
   "source": [
    "a.groups()  # Nameds groups are also indexed so we can use indices to fetch them"
   ]
  },
  {
   "cell_type": "markdown",
   "id": "04a6cc09-76cd-4ff7-acd1-e7b7b41887d4",
   "metadata": {},
   "source": [
    "### Case insensitive mode OFF\n",
    "> To make certain part case insensitive `(?i)` case-insensitive mode ON \n"
   ]
  },
  {
   "cell_type": "code",
   "execution_count": null,
   "id": "288ea286-6641-431e-b1c9-ef85baa28017",
   "metadata": {
    "slideshow": {
     "slide_type": "notes"
    },
    "tags": [
     "Insensitive"
    ]
   },
   "outputs": [],
   "source": [
    "sen_list = ['AB9r 0396 yjlq',\n",
    " 'w35u AB9y smge',\n",
    " 'wji9 fgyx ABls',\n",
    " 'ABfy abx3 whfc',\n",
    " 'a0ig sz71 abkh',\n",
    " 'ajg2 abge fzvd']"
   ]
  },
  {
   "cell_type": "code",
   "execution_count": 16,
   "id": "c34dc59e-65e8-47b3-9893-a143ca6fe3c9",
   "metadata": {},
   "outputs": [
    {
     "name": "stdout",
     "output_type": "stream",
     "text": [
      "1 : AB9r 0396 yjlq --> ['AB']\n",
      "2 : w35u AB9y smge --> ['AB']\n",
      "3 : wji9 fgyx ABls --> ['AB']\n",
      "4 : ABfy abx3 whfc --> ['AB', 'ab']\n",
      "5 : a0ig sz71 abkh --> ['ab']\n",
      "6 : ajg2 abge fzvd --> ['ab']\n"
     ]
    }
   ],
   "source": [
    "pattern_1 = r\"(?i)(ab+)\"  #add ((?i) before a set to make it case insensitive\n",
    "for index,string in enumerate(sen_list, start =1):\n",
    "    print(f'{index} : {string}'.ljust(12), \"-->\",re.findall(pattern_1, string))"
   ]
  },
  {
   "cell_type": "markdown",
   "id": "d2ec1fde-a499-4674-a90d-ac45d8d5b146",
   "metadata": {},
   "source": [
    "_we are able to match every thing with ab ignoring case_"
   ]
  },
  {
   "cell_type": "code",
   "execution_count": null,
   "id": "17e03819-3ff3-44b7-9478-31cf6f09f569",
   "metadata": {},
   "outputs": [],
   "source": []
  }
 ],
 "metadata": {
  "kernelspec": {
   "display_name": "Python 3",
   "language": "python",
   "name": "python3"
  },
  "language_info": {
   "codemirror_mode": {
    "name": "ipython",
    "version": 3
   },
   "file_extension": ".py",
   "mimetype": "text/x-python",
   "name": "python",
   "nbconvert_exporter": "python",
   "pygments_lexer": "ipython3",
   "version": "3.7.10"
  }
 },
 "nbformat": 4,
 "nbformat_minor": 5
}
