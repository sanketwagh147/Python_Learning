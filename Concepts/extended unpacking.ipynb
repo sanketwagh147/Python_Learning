{
 "cells": [
  {
   "cell_type": "markdown",
   "id": "f6e0ca55-00dc-4156-a2d0-29ec8d0bf040",
   "metadata": {},
   "source": [
    "# Extended Unpacking"
   ]
  },
  {
   "cell_type": "markdown",
   "id": "9d9a4841-ee11-42f4-95bc-faf36856ba95",
   "metadata": {},
   "source": [
    "# match the remaining items to b"
   ]
  },
  {
   "cell_type": "code",
   "execution_count": 6,
   "id": "d4c1c227-3406-4659-8065-a5af5f0beff4",
   "metadata": {},
   "outputs": [
    {
     "name": "stdout",
     "output_type": "stream",
     "text": [
      "1 \n",
      " [2, 3, 4]\n"
     ]
    }
   ],
   "source": [
    "a_list =  [1, 2, 3, 4]\n",
    "a, *b = a_list\n",
    "print(a,\"\\n\", b)"
   ]
  },
  {
   "cell_type": "code",
   "execution_count": 3,
   "id": "994613b3-d1ac-43ba-8301-31d143c2e03d",
   "metadata": {},
   "outputs": [
    {
     "data": {
      "text/plain": [
       "1"
      ]
     },
     "execution_count": 3,
     "metadata": {},
     "output_type": "execute_result"
    }
   ],
   "source": [
    "a"
   ]
  },
  {
   "cell_type": "code",
   "execution_count": 5,
   "id": "230b3be7-7b28-493d-9863-38f774c3734d",
   "metadata": {},
   "outputs": [
    {
     "data": {
      "text/plain": [
       "[2, 3, 4]"
      ]
     },
     "execution_count": 5,
     "metadata": {},
     "output_type": "execute_result"
    }
   ],
   "source": [
    "b"
   ]
  },
  {
   "cell_type": "markdown",
   "id": "4c1559b7-8ff0-492e-b7ea-dec73dbdbeaa",
   "metadata": {},
   "source": [
    "# match the all items except last to c "
   ]
  },
  {
   "cell_type": "code",
   "execution_count": 7,
   "id": "904a43f1-c003-47b7-9fdb-4ef0816d54d8",
   "metadata": {},
   "outputs": [],
   "source": [
    "*c,d = a_list"
   ]
  },
  {
   "cell_type": "code",
   "execution_count": 8,
   "id": "5171047b-a933-4b40-91e8-607ddb172d47",
   "metadata": {},
   "outputs": [
    {
     "data": {
      "text/plain": [
       "[1, 2, 3]"
      ]
     },
     "execution_count": 8,
     "metadata": {},
     "output_type": "execute_result"
    }
   ],
   "source": [
    "c"
   ]
  },
  {
   "cell_type": "code",
   "execution_count": 9,
   "id": "a86d2f90-130d-4ece-be29-68f51481ff3f",
   "metadata": {},
   "outputs": [
    {
     "data": {
      "text/plain": [
       "4"
      ]
     },
     "execution_count": 9,
     "metadata": {},
     "output_type": "execute_result"
    }
   ],
   "source": [
    "d"
   ]
  },
  {
   "cell_type": "markdown",
   "id": "5b387c45-1da4-4d71-9609-3c9ad5d36ab8",
   "metadata": {},
   "source": [
    "# to assign first and last to respective and remaining in the middle"
   ]
  },
  {
   "cell_type": "code",
   "execution_count": 10,
   "id": "3149a41e-caa9-48e5-9d01-fd9e3f090fe4",
   "metadata": {},
   "outputs": [],
   "source": [
    "e,*f,g = a_list"
   ]
  },
  {
   "cell_type": "code",
   "execution_count": 11,
   "id": "9ae572d8-4eb4-4568-a963-5fa55c60c242",
   "metadata": {},
   "outputs": [
    {
     "data": {
      "text/plain": [
       "1"
      ]
     },
     "execution_count": 11,
     "metadata": {},
     "output_type": "execute_result"
    }
   ],
   "source": [
    "e"
   ]
  },
  {
   "cell_type": "code",
   "execution_count": 12,
   "id": "10ef9623-9d14-4ffa-b914-917d861ba69c",
   "metadata": {},
   "outputs": [
    {
     "data": {
      "text/plain": [
       "[2, 3]"
      ]
     },
     "execution_count": 12,
     "metadata": {},
     "output_type": "execute_result"
    }
   ],
   "source": [
    "f"
   ]
  },
  {
   "cell_type": "code",
   "execution_count": 13,
   "id": "554045b0-c7bb-44ee-b7eb-2edff633a293",
   "metadata": {},
   "outputs": [
    {
     "data": {
      "text/plain": [
       "4"
      ]
     },
     "execution_count": 13,
     "metadata": {},
     "output_type": "execute_result"
    }
   ],
   "source": [
    "g"
   ]
  },
  {
   "cell_type": "code",
   "execution_count": null,
   "id": "174c4390-d877-4134-a760-2806167c6a36",
   "metadata": {},
   "outputs": [],
   "source": []
  }
 ],
 "metadata": {
  "interpreter": {
   "hash": "bfb4883d108fc92ac768439090a2e92bb9a1f760a54beeecfd6762b5dcd70fe3"
  },
  "kernelspec": {
   "display_name": "Python 3.10.0 64-bit",
   "name": "python3"
  },
  "language_info": {
   "codemirror_mode": {
    "name": "ipython",
    "version": 3
   },
   "file_extension": ".py",
   "mimetype": "text/x-python",
   "name": "python",
   "nbconvert_exporter": "python",
   "pygments_lexer": "ipython3",
   "version": "3.10.0"
  }
 },
 "nbformat": 4,
 "nbformat_minor": 5
}
