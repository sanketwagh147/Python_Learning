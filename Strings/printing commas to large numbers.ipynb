{
 "cells": [
  {
   "cell_type": "markdown",
   "id": "330d1b1d-7320-4364-869b-d9bb276b928e",
   "metadata": {},
   "source": [
    "# To print commas which is helpful for printing large numbers"
   ]
  },
  {
   "cell_type": "code",
   "execution_count": 5,
   "id": "2bdde75e-21b8-45d1-82f3-43f770c8f6e9",
   "metadata": {},
   "outputs": [
    {
     "name": "stdout",
     "output_type": "stream",
     "text": [
      "This is how you print a big number \n",
      "9,999,999,999\n"
     ]
    }
   ],
   "source": [
    "a_big_integer = 9999999999\n",
    "print(\"This is how you print a big number: \\n{0:,d}\".format(a_big_integer))"
   ]
  },
  {
   "cell_type": "markdown",
   "id": "9c8edfe5-7ee1-45f7-9259-562732fcf6f3",
   "metadata": {},
   "source": [
    "Notice the `{0:,d}` the addition of `,` in the code does the trick"
   ]
  },
  {
   "cell_type": "markdown",
   "id": "bc90496b-05b1-46a2-aba7-dc02de762aa4",
   "metadata": {},
   "source": [
    "**This is how you can apply it for money formatting**"
   ]
  },
  {
   "cell_type": "code",
   "execution_count": 7,
   "id": "29fb4620-b9e4-4852-97fd-0bff2dfb529d",
   "metadata": {},
   "outputs": [
    {
     "data": {
      "text/plain": [
       "'I have 289,999.26 rupees in my bank account'"
      ]
     },
     "execution_count": 7,
     "metadata": {},
     "output_type": "execute_result"
    }
   ],
   "source": [
    "'I have {:,.2f} rupees in my bank account'.format(289999.2567)\n"
   ]
  },
  {
   "cell_type": "markdown",
   "id": "5f661465-0f33-4c07-8d16-a18ddea94a48",
   "metadata": {},
   "source": [
    "Note: `{:,.2f} `\n",
    ">`,` :Adds comma separator.\n",
    ">`2` :Gives decimal digits"
   ]
  }
 ],
 "metadata": {
  "kernelspec": {
   "display_name": "Python 3",
   "language": "python",
   "name": "python3"
  },
  "language_info": {
   "codemirror_mode": {
    "name": "ipython",
    "version": 3
   },
   "file_extension": ".py",
   "mimetype": "text/x-python",
   "name": "python",
   "nbconvert_exporter": "python",
   "pygments_lexer": "ipython3",
   "version": "3.7.10"
  }
 },
 "nbformat": 4,
 "nbformat_minor": 5
}
