{
 "cells": [
  {
   "cell_type": "code",
   "execution_count": null,
   "metadata": {},
   "outputs": [],
   "source": [
    "import pandas as pd\n",
    "import seaborn as sns\n",
    "import numpy as np\n",
    "import string\n",
    "import random\n",
    "str_list = []\n",
    "no_of_items_on_list = 20\n",
    "no_of_characters_in_each_string_in_list = 5\n",
    "letters = string.ascii_letters\n",
    "while no_of_items_on_list > 0:\n",
    "    str_list.append(''.join(random.choice(letters) for i in range(no_of_characters_in_each_string_in_list)))\n",
    "    no_of_items_on_list -=1\n",
    "str_list\n"
   ]
  },
  {
   "cell_type": "code",
   "execution_count": null,
   "metadata": {},
   "outputs": [],
   "source": [
    "# lis = [[i, i*2] for i in range(20)]\n",
    "lis =[[0, 0],\n",
    " [1, 2],\n",
    " [2, 4],\n",
    " [3, 6],\n",
    " [4, 8],\n",
    " [5, 9],\n",
    " [6, 12],\n",
    " [7, 21],\n",
    " [8, 16],\n",
    " [9, 18],\n",
    " [10, 20],\n",
    " [11, 22],\n",
    " [12, 24],\n",
    " [13, 22],\n",
    " [14, 28],\n",
    " [15, 30],\n",
    " [16, 32],\n",
    " [17, 34],\n",
    " [18, 48],\n",
    " [19, 38]]\n",
    "#  for each in lis:\n",
    "    #  each.append"
   ]
  },
  {
   "cell_type": "code",
   "execution_count": null,
   "metadata": {},
   "outputs": [],
   "source": [
    "lis"
   ]
  },
  {
   "cell_type": "code",
   "execution_count": null,
   "metadata": {},
   "outputs": [],
   "source": [
    "for i in range(len(lis)):\n",
    "    lis[i].append(str_list[i])\n",
    "lis"
   ]
  },
  {
   "cell_type": "code",
   "execution_count": null,
   "metadata": {},
   "outputs": [],
   "source": [
    "for i in range(len(lis)):\n",
    "    lis[i].append(round(random.random() * random.randint(1,3),2))\n",
    "lis"
   ]
  },
  {
   "cell_type": "code",
   "execution_count": null,
   "metadata": {},
   "outputs": [],
   "source": [
    "df = pd.DataFrame(lis)\n",
    "df.columns = [\"one\", \"two\", \"three\", \"four\"]\n",
    "df.head()"
   ]
  },
  {
   "cell_type": "code",
   "execution_count": null,
   "metadata": {},
   "outputs": [],
   "source": [
    "df.select_dtypes(include=[int,object])"
   ]
  },
  {
   "cell_type": "code",
   "execution_count": null,
   "metadata": {},
   "outputs": [],
   "source": [
    "sns.lmplot(x=\"one\", y = \"two\", data=df)"
   ]
  },
  {
   "cell_type": "code",
   "execution_count": null,
   "metadata": {},
   "outputs": [],
   "source": []
  }
 ],
 "metadata": {
  "interpreter": {
   "hash": "bfb4883d108fc92ac768439090a2e92bb9a1f760a54beeecfd6762b5dcd70fe3"
  },
  "kernelspec": {
   "display_name": "Python 3.10.0 64-bit",
   "language": "python",
   "name": "python3"
  },
  "language_info": {
   "codemirror_mode": {
    "name": "ipython",
    "version": 3
   },
   "file_extension": ".py",
   "mimetype": "text/x-python",
   "name": "python",
   "nbconvert_exporter": "python",
   "pygments_lexer": "ipython3",
   "version": "3.10.0"
  },
  "orig_nbformat": 4
 },
 "nbformat": 4,
 "nbformat_minor": 2
}
