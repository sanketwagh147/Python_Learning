{
 "cells": [
  {
   "cell_type": "code",
   "execution_count": 4,
   "id": "03ef1658-b123-43b1-a3d1-894aa3683375",
   "metadata": {},
   "outputs": [
    {
     "ename": "SyntaxError",
     "evalue": "invalid syntax (<ipython-input-4-421905363c58>, line 1)",
     "output_type": "error",
     "traceback": [
      "\u001b[1;36m  File \u001b[1;32m\"<ipython-input-4-421905363c58>\"\u001b[1;36m, line \u001b[1;32m1\u001b[0m\n\u001b[1;33m    from testadd import add|\u001b[0m\n\u001b[1;37m                           ^\u001b[0m\n\u001b[1;31mSyntaxError\u001b[0m\u001b[1;31m:\u001b[0m invalid syntax\n"
     ]
    }
   ],
   "source": [
    "from testadd import add"
   ]
  },
  {
   "cell_type": "code",
   "execution_count": null,
   "id": "5599b88e-da71-4ceb-9cb2-1905ce24810b",
   "metadata": {},
   "outputs": [],
   "source": []
  }
 ],
 "metadata": {
  "interpreter": {
   "hash": "05811a4c8edeb62e87c3e708461cae05c65dc4bb514779bc955273fc84b8bc5c"
  },
  "kernelspec": {
   "display_name": "Python 3.8.12 64-bit (conda)",
   "name": "python3"
  },
  "language_info": {
   "codemirror_mode": {
    "name": "ipython",
    "version": 3
   },
   "file_extension": ".py",
   "mimetype": "text/x-python",
   "name": "python",
   "nbconvert_exporter": "python",
   "pygments_lexer": "ipython3",
   "version": "3.8.12"
  }
 },
 "nbformat": 4,
 "nbformat_minor": 5
}
