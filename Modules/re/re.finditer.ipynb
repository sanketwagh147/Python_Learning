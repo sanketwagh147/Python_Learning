{
 "cells": [
  {
   "cell_type": "markdown",
   "id": "f6eeb015-10ce-4a00-aba7-a9c39c1dc1a0",
   "metadata": {},
   "source": [
    "# re.finditer(<font color = red>pattern, string </font>)\n",
    "> returns an **iterator** object which returns index and the matched item"
   ]
  },
  {
   "cell_type": "code",
   "execution_count": 5,
   "id": "eab8aa24-727b-414f-ba87-2ed9cc00a76f",
   "metadata": {},
   "outputs": [],
   "source": [
    "import re\n",
    "pattern_1 = \"[xi]\"\n",
    "a_string = \"this is xander, xander is cool, xoxo\"\n",
    "iter1 = re.finditer(pattern_1, a_string)\n"
   ]
  },
  {
   "cell_type": "code",
   "execution_count": 6,
   "id": "53b13aa7-3ec6-4148-938c-3028be75bcab",
   "metadata": {},
   "outputs": [
    {
     "name": "stdout",
     "output_type": "stream",
     "text": [
      "2 i\n",
      "5 i\n",
      "8 x\n",
      "16 x\n",
      "23 i\n",
      "32 x\n",
      "34 x\n"
     ]
    }
   ],
   "source": [
    "# iterate over each iterable\n",
    "for match in iter1:\n",
    "    index = match.start()  # assigns index\n",
    "    value = match.group()  # assign value of the index\n",
    "    print(match.start(), match.group())"
   ]
  },
  {
   "cell_type": "code",
   "execution_count": 7,
   "id": "cbe5f65c-5a59-4a32-961b-835f943f6c90",
   "metadata": {},
   "outputs": [
    {
     "name": "stdout",
     "output_type": "stream",
     "text": [
      "8 xander\n",
      "16 xander\n"
     ]
    }
   ],
   "source": [
    "pattern_2 = \"xander\"\n",
    "a_string = \"this is xander, xander is cool, xoxo\"\n",
    "iter2 = re.finditer(pattern_2, a_string)\n",
    "for match in iter2:\n",
    "    print(match.start(), match.group())\n",
    "\n"
   ]
  },
  {
   "cell_type": "code",
   "execution_count": null,
   "id": "0680c52c-fb96-42e3-b071-909eca507474",
   "metadata": {},
   "outputs": [],
   "source": []
  }
 ],
 "metadata": {
  "kernelspec": {
   "display_name": "Python 3",
   "language": "python",
   "name": "python3"
  },
  "language_info": {
   "codemirror_mode": {
    "name": "ipython",
    "version": 3
   },
   "file_extension": ".py",
   "mimetype": "text/x-python",
   "name": "python",
   "nbconvert_exporter": "python",
   "pygments_lexer": "ipython3",
   "version": "3.7.10"
  }
 },
 "nbformat": 4,
 "nbformat_minor": 5
}
