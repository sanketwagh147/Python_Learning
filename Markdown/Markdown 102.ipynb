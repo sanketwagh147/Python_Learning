{
 "cells": [
  {
   "cell_type": "markdown",
   "id": "30cd4a4b-2b85-4427-89d5-694d849b775b",
   "metadata": {},
   "source": [
    "# Learning some more markdown syntax"
   ]
  },
  {
   "cell_type": "markdown",
   "id": "0a6d54b9-83a0-4a35-acdf-c361657de422",
   "metadata": {},
   "source": [
    "## Making double click here for more block ( Hidding content)"
   ]
  },
  {
   "cell_type": "markdown",
   "id": "54fd2383-a558-4a98-9dbd-5418e105a5fc",
   "metadata": {
    "tags": []
   },
   "source": [
    "#### Double Click **Here** for more\n",
    "<!--\n",
    "Enter mOre  \n",
    "here  \n",
    "anything you want\n",
    "-->"
   ]
  },
  {
   "cell_type": "code",
   "execution_count": null,
   "id": "869223d4-75e2-4d3f-946e-746109c957f9",
   "metadata": {},
   "outputs": [],
   "source": []
  }
 ],
 "metadata": {
  "kernelspec": {
   "display_name": "Python 3",
   "language": "python",
   "name": "python3"
  },
  "language_info": {
   "codemirror_mode": {
    "name": "ipython",
    "version": 3
   },
   "file_extension": ".py",
   "mimetype": "text/x-python",
   "name": "python",
   "nbconvert_exporter": "python",
   "pygments_lexer": "ipython3",
   "version": "3.7.10"
  }
 },
 "nbformat": 4,
 "nbformat_minor": 5
}
