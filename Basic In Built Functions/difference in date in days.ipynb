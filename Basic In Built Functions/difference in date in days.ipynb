{
 "cells": [
  {
   "cell_type": "markdown",
   "id": "bf25e147-b499-434f-b23d-435c0de62fb1",
   "metadata": {},
   "source": [
    "# Find the difference between two dates in python.\n",
    ">i.e to find number of days in between two dates"
   ]
  },
  {
   "cell_type": "code",
   "execution_count": 1,
   "id": "29ca32ed-9c38-4698-b5dd-632c0873a18e",
   "metadata": {},
   "outputs": [
    {
     "data": {
      "text/plain": [
       "10580"
      ]
     },
     "execution_count": 1,
     "metadata": {},
     "output_type": "execute_result"
    }
   ],
   "source": [
    "from datetime import date\n",
    "d0 = date(1992, 8, 18) # earlier date\n",
    "d1 = date(2021, 8, 6)  # latter date\n",
    "(d1-d0).days"
   ]
  }
 ],
 "metadata": {
  "kernelspec": {
   "display_name": "Python 3",
   "language": "python",
   "name": "python3"
  },
  "language_info": {
   "codemirror_mode": {
    "name": "ipython",
    "version": 3
   },
   "file_extension": ".py",
   "mimetype": "text/x-python",
   "name": "python",
   "nbconvert_exporter": "python",
   "pygments_lexer": "ipython3",
   "version": "3.7.10"
  }
 },
 "nbformat": 4,
 "nbformat_minor": 5
}
