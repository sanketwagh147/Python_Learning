{
 "cells": [
  {
   "cell_type": "markdown",
   "metadata": {},
   "source": [
    "# some Populare regex patterns"
   ]
  },
  {
   "cell_type": "raw",
   "metadata": {},
   "source": [
    "You need to write regex that will validate a password to make sure it meets the following criteria:\n",
    "\n",
    "At least six characters long\n",
    "contains a lowercase letter\n",
    "contains an uppercase letter\n",
    "contains a number\n",
    "Valid passwords will only be alphanumeric characters."
   ]
  },
  {
   "cell_type": "raw",
   "metadata": {},
   "source": [
    "regex for above criteria\n",
    "regex=\"^(?=.*[a-z])(?=.*[A-Z])(?=.*\\d)[A-Za-z\\d]{6,}$\""
   ]
  }
 ],
 "metadata": {
  "interpreter": {
   "hash": "bfb4883d108fc92ac768439090a2e92bb9a1f760a54beeecfd6762b5dcd70fe3"
  },
  "kernelspec": {
   "display_name": "Python 3.10.0 64-bit",
   "language": "python",
   "name": "python3"
  },
  "language_info": {
   "name": "python",
   "version": "3.10.0"
  },
  "orig_nbformat": 4
 },
 "nbformat": 4,
 "nbformat_minor": 2
}
