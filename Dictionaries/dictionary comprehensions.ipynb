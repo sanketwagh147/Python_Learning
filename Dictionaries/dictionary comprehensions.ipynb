{
 "cells": [
  {
   "cell_type": "markdown",
   "id": "1bf47af3-4a9b-4256-9a95-734ad1cacb0a",
   "metadata": {},
   "source": [
    "# Dictionary Comprehensions"
   ]
  },
  {
   "cell_type": "code",
   "execution_count": 2,
   "id": "116db710-d0fd-4249-9d37-58e980557c38",
   "metadata": {},
   "outputs": [
    {
     "data": {
      "text/plain": [
       "{1: 1,\n",
       " 2: 4,\n",
       " 3: 9,\n",
       " 4: 16,\n",
       " 5: 25,\n",
       " 6: 36,\n",
       " 7: 49,\n",
       " 8: 64,\n",
       " 9: 81,\n",
       " 10: 100,\n",
       " 11: 121,\n",
       " 12: 144,\n",
       " 13: 169,\n",
       " 14: 196,\n",
       " 15: 225,\n",
       " 16: 256,\n",
       " 17: 289,\n",
       " 18: 324,\n",
       " 19: 361}"
      ]
     },
     "execution_count": 2,
     "metadata": {},
     "output_type": "execute_result"
    }
   ],
   "source": [
    "dictionary = {x: x **2 for x in range(1,20)}\n",
    "dictionary"
   ]
  },
  {
   "cell_type": "markdown",
   "id": "429dd54e-1ce5-4057-8407-97fa89f8e113",
   "metadata": {},
   "source": [
    "*The above code make a dictionary for square as values for a key*"
   ]
  },
  {
   "cell_type": "code",
   "execution_count": null,
   "id": "ed86eaaf-5578-46aa-b09b-a09aa9c3a082",
   "metadata": {},
   "outputs": [],
   "source": []
  }
 ],
 "metadata": {
  "kernelspec": {
   "display_name": "Python 3",
   "language": "python",
   "name": "python3"
  },
  "language_info": {
   "codemirror_mode": {
    "name": "ipython",
    "version": 3
   },
   "file_extension": ".py",
   "mimetype": "text/x-python",
   "name": "python",
   "nbconvert_exporter": "python",
   "pygments_lexer": "ipython3",
   "version": "3.7.10"
  }
 },
 "nbformat": 4,
 "nbformat_minor": 5
}
