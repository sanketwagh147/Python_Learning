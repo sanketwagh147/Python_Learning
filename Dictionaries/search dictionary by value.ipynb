{
 "cells": [
  {
   "cell_type": "markdown",
   "id": "dda986cf-8e51-4890-9745-7c441d0639c1",
   "metadata": {},
   "source": [
    "# Filter Dictionary based on values instead of keys"
   ]
  },
  {
   "cell_type": "code",
   "execution_count": 3,
   "id": "96ddd483-d655-45a9-a443-4d583794887d",
   "metadata": {},
   "outputs": [
    {
     "data": {
      "text/plain": [
       "{'b': 'second', 'c': 'third'}"
      ]
     },
     "execution_count": 3,
     "metadata": {},
     "output_type": "execute_result"
    }
   ],
   "source": [
    "a_dict1 = {\"a\": \"First\", \"b\": \"second\", \"c\": \"third\"}\n",
    "a_dict1.pop(\"a\")  # pops the value of key a\n",
    "a_dict1"
   ]
  },
  {
   "cell_type": "code",
   "execution_count": 1,
   "id": "683a5f8c-52ea-4e3e-a525-780482b558c8",
   "metadata": {},
   "outputs": [],
   "source": [
    "a_dict = {\"a\": 115, \"b\": 30, \"c\": 40, \"d\": 100}"
   ]
  },
  {
   "cell_type": "code",
   "execution_count": 10,
   "id": "f0e5b977-192c-4fc7-aa14-7abb9185b909",
   "metadata": {},
   "outputs": [
    {
     "data": {
      "text/plain": [
       "[('a', 115), ('d', 100)]"
      ]
     },
     "execution_count": 10,
     "metadata": {},
     "output_type": "execute_result"
    }
   ],
   "source": [
    "[(title,value) for (title, value) in a_dict.items() if value > 40]  # returns key,value for values are greater than 40"
   ]
  },
  {
   "cell_type": "code",
   "execution_count": 13,
   "id": "9af79151-25e6-46e6-b2f0-c5a488db2e0b",
   "metadata": {},
   "outputs": [
    {
     "data": {
      "text/plain": [
       "{'a': 115, 'c': 40, 'd': 100}"
      ]
     },
     "execution_count": 13,
     "metadata": {},
     "output_type": "execute_result"
    }
   ],
   "source": [
    "dict([(title,value) for (title, value) in a_dict.items() if value >= 40] ) # returns dictionary for values >= 40"
   ]
  }
 ],
 "metadata": {
  "kernelspec": {
   "display_name": "Python 3",
   "language": "python",
   "name": "python3"
  },
  "language_info": {
   "codemirror_mode": {
    "name": "ipython",
    "version": 3
   },
   "file_extension": ".py",
   "mimetype": "text/x-python",
   "name": "python",
   "nbconvert_exporter": "python",
   "pygments_lexer": "ipython3",
   "version": "3.7.3"
  }
 },
 "nbformat": 4,
 "nbformat_minor": 5
}
