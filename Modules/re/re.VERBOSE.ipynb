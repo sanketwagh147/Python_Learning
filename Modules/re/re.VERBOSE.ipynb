{
 "cells": [
  {
   "cell_type": "markdown",
   "id": "2d0aedb2-bd6d-44af-a93c-c2b5d89e40af",
   "metadata": {},
   "source": [
    "# re.VERBOSE\n",
    "> Regular expressions have a complicated notation and the readiblity is poor.  \n",
    "> To make regular expression more readable re.VERBOSE flag is used  \n",
    "> It has several effects such as whitespaces in regex are ingnored except if they are in class\n",
    "> ex : `dog | cat` is same as dog|cat but `[a c]` is similar to `a`,`c` and whitespace  \n",
    "> We can add comment in RE  \n",
    "> We can use triple quotes to format it neatly"
   ]
  },
  {
   "cell_type": "code",
   "execution_count": 14,
   "id": "e2beb3d7-47e4-4d20-8559-815d461fc6e4",
   "metadata": {},
   "outputs": [],
   "source": [
    "import re\n"
   ]
  },
  {
   "cell_type": "code",
   "execution_count": 15,
   "id": "b3b14715-7e74-48c2-9b53-10b47a14e2b1",
   "metadata": {},
   "outputs": [],
   "source": [
    "pattern_1 = re.compile(r\"\"\"\n",
    "\\s*                # Skip leading whitespace \n",
    "(?P<header>[^:]+)  # Header name\n",
    "\\s*:               # Whitespace, and a colon \n",
    "(?P<value>.*?)     # The header's value\n",
    "-- *? used to      # lose the following trailing whitespace\n",
    "\\s*$               # Trailing whitespace to end-of-line \"\"\", \n",
    "                 re.VERBOSE) # set re.VERBOSE"
   ]
  },
  {
   "cell_type": "code",
   "execution_count": 16,
   "id": "7f63b11f-c22a-43a7-b94a-888557c91b99",
   "metadata": {},
   "outputs": [],
   "source": [
    "pattern_2 = re.compile(r\"\\s*(?P<header>[^:]+)\\s*:(?P<value>.*?)\\s*$\")"
   ]
  },
  {
   "cell_type": "markdown",
   "id": "3167a421-b36f-47e5-b680-2a5f4ee527b3",
   "metadata": {},
   "source": [
    "_pattern_1 and pattern_2 are same regex_"
   ]
  },
  {
   "cell_type": "code",
   "execution_count": null,
   "id": "24cf612b-1c79-4fc5-bb52-32e03a8d640b",
   "metadata": {},
   "outputs": [],
   "source": []
  }
 ],
 "metadata": {
  "kernelspec": {
   "display_name": "Python 3",
   "language": "python",
   "name": "python3"
  },
  "language_info": {
   "codemirror_mode": {
    "name": "ipython",
    "version": 3
   },
   "file_extension": ".py",
   "mimetype": "text/x-python",
   "name": "python",
   "nbconvert_exporter": "python",
   "pygments_lexer": "ipython3",
   "version": "3.7.10"
  }
 },
 "nbformat": 4,
 "nbformat_minor": 5
}
