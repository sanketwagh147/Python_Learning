{
 "cells": [
  {
   "cell_type": "markdown",
   "id": "5e3b6bcc-e7f4-40c3-ae56-a65c55c6f030",
   "metadata": {},
   "source": [
    "# map() function in python"
   ]
  },
  {
   "cell_type": "code",
   "execution_count": 2,
   "id": "a9b044b2-8ea8-4e2f-9335-d75f2b2ccc74",
   "metadata": {},
   "outputs": [
    {
     "name": "stdout",
     "output_type": "stream",
     "text": [
      "[115, 97, 110, 107, 101, 116]\n"
     ]
    }
   ],
   "source": [
    "new_list = list(map(ord, \"sanket\"))\n",
    "print(new_list)"
   ]
  },
  {
   "cell_type": "code",
   "execution_count": null,
   "id": "9ab4fa83-5db5-47c7-9e18-5f408bf1f894",
   "metadata": {},
   "outputs": [],
   "source": []
  }
 ],
 "metadata": {
  "kernelspec": {
   "display_name": "Python 3",
   "language": "python",
   "name": "python3"
  },
  "language_info": {
   "codemirror_mode": {
    "name": "ipython",
    "version": 3
   },
   "file_extension": ".py",
   "mimetype": "text/x-python",
   "name": "python",
   "nbconvert_exporter": "python",
   "pygments_lexer": "ipython3",
   "version": "3.7.3"
  }
 },
 "nbformat": 4,
 "nbformat_minor": 5
}
