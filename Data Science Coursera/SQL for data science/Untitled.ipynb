{
 "cells": [
  {
   "cell_type": "code",
   "execution_count": 1,
   "id": "81b1cf71-30c6-4b22-b72e-d05064643266",
   "metadata": {},
   "outputs": [],
   "source": [
    "import ibm_db\n",
    "import pandas as pd\n",
    "import ibm_db_dbi as db"
   ]
  },
  {
   "cell_type": "code",
   "execution_count": 2,
   "id": "615839f1-47ae-4c7c-a675-a3c64e234450",
   "metadata": {},
   "outputs": [],
   "source": [
    "%load_ext sql "
   ]
  },
  {
   "cell_type": "code",
   "execution_count": 3,
   "id": "cf3104ce-db91-4783-98b0-88e47be86ef8",
   "metadata": {},
   "outputs": [
    {
     "data": {
      "text/plain": "'Connected: mgr61801@bludb'"
     },
     "execution_count": 3,
     "metadata": {},
     "output_type": "execute_result"
    }
   ],
   "source": [
    "# connnect using:   %sql ibm_db_sa://username:passwprd@host_name:port_number/database?security=SSL\n",
    "%sql ibm_db_sa://mgr61801:aG6rnocuLnVjRZCo@0c77d6f2-5da9-48a9-81f8-86b520b87518.bs2io90l08kqb1od8lcg.databases.appdomain.cloud:31198/bludb?security=SSL"
   ]
  },
  {
   "cell_type": "code",
   "execution_count": 4,
   "id": "6227b671-a652-4831-ad4a-a1587017964f",
   "metadata": {},
   "outputs": [
    {
     "name": "stdout",
     "output_type": "stream",
     "text": [
      " * ibm_db_sa://mgr61801:***@0c77d6f2-5da9-48a9-81f8-86b520b87518.bs2io90l08kqb1od8lcg.databases.appdomain.cloud:31198/bludb\n",
      "Done.\n"
     ]
    },
    {
     "data": {
      "text/plain": "[(610038, 'Abraham Lincoln Elementary School', 'ES', '615 W Kemper Pl', 'Chicago', 'IL', 60614, '(773) 534-5720', 'http://schoolreports.cps.edu/SchoolProgressReport_Eng/Spring2011Eng_610038.pdf', 'Fullerton Elementary Network', 'NORTH-NORTHWEST SIDE COLLABORATIVE', 'No', 'Standard', 'Not on Probation', 'Level 1', 'Yes', 'Very Strong', 99, 'Very Strong', '99', 'Strong', 74, 'Strong', 66, 'Weak', '65', 'Strong', '70', 'Strong', '56', 'Average', '47', '96.00%', Decimal('2.0'), '96.40%', '95.80%', '80.1', '43.3', '89.6', '84.9', '60.7', '62.6', '81.9', '85.2', '52', '62.4', '66.3', '77.9', Decimal('69.7'), Decimal('64.4'), Decimal('0.2'), Decimal('0.9'), 'Yellow', 'Green', '67.1', '54.5', 'NDA', 'NDA', 'NDA', 'NDA', 'NDA', 'NDA', 'NDA', 'NDA', 'NDA', 'NDA', 813, 33, 'NDA', Decimal('1171699.458'), Decimal('1915829.428'), Decimal('41.92449696'), Decimal('-87.64452163'), 7, 'LINCOLN PARK', 43, 18, '(41.92449696, -87.64452163)'),\n (610281, 'Adam Clayton Powell Paideia Community Academy Elementary School', 'ES', '7511 S South Shore Dr', 'Chicago', 'IL', 60649, '(773) 535-6650', 'http://schoolreports.cps.edu/SchoolProgressReport_Eng/Spring2011Eng_610281.pdf', 'Skyway Elementary Network', 'SOUTH SIDE COLLABORATIVE', 'No', 'Track_E', 'Not on Probation', 'Level 1', 'No', 'Average', 54, 'Strong', '66', 'Strong', 74, 'Very Strong', 84, 'Weak', '50', 'Strong', '76', 'Weak', '46', 'Average', '50', '95.60%', Decimal('15.7'), '95.30%', '100.00%', '62.4', '51.7', '21.9', '15.1', '29', '42.8', '38.5', '27.4', '44.8', '42.7', '14.1', '34.4', Decimal('16.8'), Decimal('16.5'), Decimal('0.7'), Decimal('1.4'), 'Green', 'Green', '17.2', '27.3', 'NDA', 'NDA', 'NDA', 'NDA', 'NDA', 'NDA', 'NDA', 'NDA', 'NDA', 'NDA', 521, 46, 'NDA', Decimal('1196129.985'), Decimal('1856209.466'), Decimal('41.76032435'), Decimal('-87.55673627'), 43, 'SOUTH SHORE', 7, 4, '(41.76032435, -87.55673627)'),\n (610185, 'Adlai E Stevenson Elementary School', 'ES', '8010 S Kostner Ave', 'Chicago', 'IL', 60652, '(773) 535-2280', 'http://schoolreports.cps.edu/SchoolProgressReport_Eng/Spring2011Eng_610185.pdf', 'Midway Elementary Network', 'SOUTHWEST SIDE COLLABORATIVE', 'No', 'Standard', 'Not on Probation', 'Level 2', 'No', 'Strong', 61, 'NDA', 'NDA', 'Average', 50, 'Weak', 36, 'Weak', 'NDA', 'NDA', 'NDA', 'Average', '47', 'Weak', '41', '95.70%', Decimal('2.3'), '94.70%', '98.30%', '53.7', '26.6', '38.3', '34.7', '43.7', '57.3', '48.8', '39.2', '46.8', '44', '7.5', '21.9', Decimal('18.3'), Decimal('15.5'), Decimal('-0.9'), Decimal('-1.0'), 'Red', 'Red', 'NDA', 'NDA', 'NDA', 'NDA', 'NDA', 'NDA', 'NDA', 'NDA', 'NDA', 'NDA', 'NDA', 'NDA', 1324, 44, 'NDA', Decimal('1148427.165'), Decimal('1851012.215'), Decimal('41.74711093'), Decimal('-87.73170248'), 70, 'ASHBURN', 13, 8, '(41.74711093, -87.73170248)'),\n (609993, 'Agustin Lara Elementary Academy', 'ES', '4619 S Wolcott Ave', 'Chicago', 'IL', 60609, '(773) 535-4389', 'http://schoolreports.cps.edu/SchoolProgressReport_Eng/Spring2011Eng_609993.pdf', 'Pershing Elementary Network', 'SOUTHWEST SIDE COLLABORATIVE', 'No', 'Track_E', 'Not on Probation', 'Level 1', 'No', 'Average', 56, 'Average', '44', 'Average', 45, 'Weak', 37, 'Weak', '65', 'Average', '48', 'Average', '53', 'Strong', '58', '95.50%', Decimal('10.4'), '95.80%', '100.00%', '76.9', 'NDA', '26', '24.7', '61.8', '49.7', '39.2', '27.2', '69.7', '60.6', '9.1', '18.2', Decimal('11.1'), Decimal('9.6'), Decimal('0.9'), Decimal('2.4'), 'Green', 'Green', '42.9', '25', 'NDA', 'NDA', 'NDA', 'NDA', 'NDA', 'NDA', 'NDA', 'NDA', 'NDA', 'NDA', 556, 42, 'NDA', Decimal('1164504.290'), Decimal('1873959.199'), Decimal('41.80975690'), Decimal('-87.67214460'), 61, 'NEW CITY', 20, 9, '(41.8097569, -87.6721446)'),\n (610513, 'Air Force Academy High School', 'HS', '3630 S Wells St', 'Chicago', 'IL', 60609, '(773) 535-1590', 'http://schoolreports.cps.edu/SchoolProgressReport_Eng/Spring2011Eng_610513.pdf', 'Southwest Side High School Network', 'SOUTHWEST SIDE COLLABORATIVE', 'NDA', 'Standard', 'Not on Probation', 'Not Enough Data', 'Yes', 'Average', 49, 'Strong', '60', 'Strong', 60, 'Average', 55, 'Weak', '45', 'Average', '54', 'Average', '53', 'Average', '49', '93.30%', Decimal('15.6'), '96.90%', '100.00%', 'NDA', 'NDA', 'NDA', 'NDA', 'NDA', 'NDA', 'NDA', 'NDA', 'NDA', 'NDA', 'NDA', 'NDA', None, None, None, None, 'NDA', 'NDA', 'NDA', 'NDA', '14.6', '14.8', 'NDA', '16', '1.4', 'NDA', 'NDA', 'NDA', 'NDA', 'NDA', 302, 40, '91.8', Decimal('1175177.622'), Decimal('1880745.126'), Decimal('41.82814609'), Decimal('-87.63279369'), 34, 'ARMOUR SQUARE', 11, 9, '(41.82814609, -87.63279369)')]",
      "text/html": "<table>\n    <thead>\n        <tr>\n            <th>school_id</th>\n            <th>name_of_school</th>\n            <th>Elementary, Middle, or High School</th>\n            <th>street_address</th>\n            <th>city</th>\n            <th>state</th>\n            <th>zip_code</th>\n            <th>phone_number</th>\n            <th>link</th>\n            <th>network_manager</th>\n            <th>collaborative_name</th>\n            <th>adequate_yearly_progress_made_</th>\n            <th>track_schedule</th>\n            <th>cps_performance_policy_status</th>\n            <th>cps_performance_policy_level</th>\n            <th>healthy_school_certified</th>\n            <th>safety_icon</th>\n            <th>safety_score</th>\n            <th>family_involvement_icon</th>\n            <th>family_involvement_score</th>\n            <th>environment_icon</th>\n            <th>environment_score</th>\n            <th>instruction_icon</th>\n            <th>instruction_score</th>\n            <th>leaders_icon</th>\n            <th>leaders_score</th>\n            <th>teachers_icon</th>\n            <th>teachers_score</th>\n            <th>parent_engagement_icon</th>\n            <th>parent_engagement_score</th>\n            <th>parent_environment_icon</th>\n            <th>parent_environment_score</th>\n            <th>average_student_attendance</th>\n            <th>rate_of_misconducts__per_100_students_</th>\n            <th>average_teacher_attendance</th>\n            <th>individualized_education_program_compliance_rate</th>\n            <th>pk_2_literacy__</th>\n            <th>pk_2_math__</th>\n            <th>gr3_5_grade_level_math__</th>\n            <th>gr3_5_grade_level_read__</th>\n            <th>gr3_5_keep_pace_read__</th>\n            <th>gr3_5_keep_pace_math__</th>\n            <th>gr6_8_grade_level_math__</th>\n            <th>gr6_8_grade_level_read__</th>\n            <th>gr6_8_keep_pace_math_</th>\n            <th>gr6_8_keep_pace_read__</th>\n            <th>gr_8_explore_math__</th>\n            <th>gr_8_explore_read__</th>\n            <th>isat_exceeding_math__</th>\n            <th>isat_exceeding_reading__</th>\n            <th>isat_value_add_math</th>\n            <th>isat_value_add_read</th>\n            <th>isat_value_add_color_math</th>\n            <th>isat_value_add_color_read</th>\n            <th>students_taking__algebra__</th>\n            <th>students_passing__algebra__</th>\n            <th>9th Grade EXPLORE (2009)</th>\n            <th>9th Grade EXPLORE (2010)</th>\n            <th>10th Grade PLAN (2009)</th>\n            <th>10th Grade PLAN (2010)</th>\n            <th>net_change_explore_and_plan</th>\n            <th>11th Grade Average ACT (2011)</th>\n            <th>net_change_plan_and_act</th>\n            <th>college_eligibility__</th>\n            <th>graduation_rate__</th>\n            <th>college_enrollment_rate__</th>\n            <th>college_enrollment</th>\n            <th>general_services_route</th>\n            <th>freshman_on_track_rate__</th>\n            <th>x_coordinate</th>\n            <th>y_coordinate</th>\n            <th>latitude</th>\n            <th>longitude</th>\n            <th>community_area_number</th>\n            <th>community_area_name</th>\n            <th>ward</th>\n            <th>police_district</th>\n            <th>location</th>\n        </tr>\n    </thead>\n    <tbody>\n        <tr>\n            <td>610038</td>\n            <td>Abraham Lincoln Elementary School</td>\n            <td>ES</td>\n            <td>615 W Kemper Pl</td>\n            <td>Chicago</td>\n            <td>IL</td>\n            <td>60614</td>\n            <td>(773) 534-5720</td>\n            <td>http://schoolreports.cps.edu/SchoolProgressReport_Eng/Spring2011Eng_610038.pdf</td>\n            <td>Fullerton Elementary Network</td>\n            <td>NORTH-NORTHWEST SIDE COLLABORATIVE</td>\n            <td>No</td>\n            <td>Standard</td>\n            <td>Not on Probation</td>\n            <td>Level 1</td>\n            <td>Yes</td>\n            <td>Very Strong</td>\n            <td>99</td>\n            <td>Very Strong</td>\n            <td>99</td>\n            <td>Strong</td>\n            <td>74</td>\n            <td>Strong</td>\n            <td>66</td>\n            <td>Weak</td>\n            <td>65</td>\n            <td>Strong</td>\n            <td>70</td>\n            <td>Strong</td>\n            <td>56</td>\n            <td>Average</td>\n            <td>47</td>\n            <td>96.00%</td>\n            <td>2.0</td>\n            <td>96.40%</td>\n            <td>95.80%</td>\n            <td>80.1</td>\n            <td>43.3</td>\n            <td>89.6</td>\n            <td>84.9</td>\n            <td>60.7</td>\n            <td>62.6</td>\n            <td>81.9</td>\n            <td>85.2</td>\n            <td>52</td>\n            <td>62.4</td>\n            <td>66.3</td>\n            <td>77.9</td>\n            <td>69.7</td>\n            <td>64.4</td>\n            <td>0.2</td>\n            <td>0.9</td>\n            <td>Yellow</td>\n            <td>Green</td>\n            <td>67.1</td>\n            <td>54.5</td>\n            <td>NDA</td>\n            <td>NDA</td>\n            <td>NDA</td>\n            <td>NDA</td>\n            <td>NDA</td>\n            <td>NDA</td>\n            <td>NDA</td>\n            <td>NDA</td>\n            <td>NDA</td>\n            <td>NDA</td>\n            <td>813</td>\n            <td>33</td>\n            <td>NDA</td>\n            <td>1171699.458</td>\n            <td>1915829.428</td>\n            <td>41.92449696</td>\n            <td>-87.64452163</td>\n            <td>7</td>\n            <td>LINCOLN PARK</td>\n            <td>43</td>\n            <td>18</td>\n            <td>(41.92449696, -87.64452163)</td>\n        </tr>\n        <tr>\n            <td>610281</td>\n            <td>Adam Clayton Powell Paideia Community Academy Elementary School</td>\n            <td>ES</td>\n            <td>7511 S South Shore Dr</td>\n            <td>Chicago</td>\n            <td>IL</td>\n            <td>60649</td>\n            <td>(773) 535-6650</td>\n            <td>http://schoolreports.cps.edu/SchoolProgressReport_Eng/Spring2011Eng_610281.pdf</td>\n            <td>Skyway Elementary Network</td>\n            <td>SOUTH SIDE COLLABORATIVE</td>\n            <td>No</td>\n            <td>Track_E</td>\n            <td>Not on Probation</td>\n            <td>Level 1</td>\n            <td>No</td>\n            <td>Average</td>\n            <td>54</td>\n            <td>Strong</td>\n            <td>66</td>\n            <td>Strong</td>\n            <td>74</td>\n            <td>Very Strong</td>\n            <td>84</td>\n            <td>Weak</td>\n            <td>50</td>\n            <td>Strong</td>\n            <td>76</td>\n            <td>Weak</td>\n            <td>46</td>\n            <td>Average</td>\n            <td>50</td>\n            <td>95.60%</td>\n            <td>15.7</td>\n            <td>95.30%</td>\n            <td>100.00%</td>\n            <td>62.4</td>\n            <td>51.7</td>\n            <td>21.9</td>\n            <td>15.1</td>\n            <td>29</td>\n            <td>42.8</td>\n            <td>38.5</td>\n            <td>27.4</td>\n            <td>44.8</td>\n            <td>42.7</td>\n            <td>14.1</td>\n            <td>34.4</td>\n            <td>16.8</td>\n            <td>16.5</td>\n            <td>0.7</td>\n            <td>1.4</td>\n            <td>Green</td>\n            <td>Green</td>\n            <td>17.2</td>\n            <td>27.3</td>\n            <td>NDA</td>\n            <td>NDA</td>\n            <td>NDA</td>\n            <td>NDA</td>\n            <td>NDA</td>\n            <td>NDA</td>\n            <td>NDA</td>\n            <td>NDA</td>\n            <td>NDA</td>\n            <td>NDA</td>\n            <td>521</td>\n            <td>46</td>\n            <td>NDA</td>\n            <td>1196129.985</td>\n            <td>1856209.466</td>\n            <td>41.76032435</td>\n            <td>-87.55673627</td>\n            <td>43</td>\n            <td>SOUTH SHORE</td>\n            <td>7</td>\n            <td>4</td>\n            <td>(41.76032435, -87.55673627)</td>\n        </tr>\n        <tr>\n            <td>610185</td>\n            <td>Adlai E Stevenson Elementary School</td>\n            <td>ES</td>\n            <td>8010 S Kostner Ave</td>\n            <td>Chicago</td>\n            <td>IL</td>\n            <td>60652</td>\n            <td>(773) 535-2280</td>\n            <td>http://schoolreports.cps.edu/SchoolProgressReport_Eng/Spring2011Eng_610185.pdf</td>\n            <td>Midway Elementary Network</td>\n            <td>SOUTHWEST SIDE COLLABORATIVE</td>\n            <td>No</td>\n            <td>Standard</td>\n            <td>Not on Probation</td>\n            <td>Level 2</td>\n            <td>No</td>\n            <td>Strong</td>\n            <td>61</td>\n            <td>NDA</td>\n            <td>NDA</td>\n            <td>Average</td>\n            <td>50</td>\n            <td>Weak</td>\n            <td>36</td>\n            <td>Weak</td>\n            <td>NDA</td>\n            <td>NDA</td>\n            <td>NDA</td>\n            <td>Average</td>\n            <td>47</td>\n            <td>Weak</td>\n            <td>41</td>\n            <td>95.70%</td>\n            <td>2.3</td>\n            <td>94.70%</td>\n            <td>98.30%</td>\n            <td>53.7</td>\n            <td>26.6</td>\n            <td>38.3</td>\n            <td>34.7</td>\n            <td>43.7</td>\n            <td>57.3</td>\n            <td>48.8</td>\n            <td>39.2</td>\n            <td>46.8</td>\n            <td>44</td>\n            <td>7.5</td>\n            <td>21.9</td>\n            <td>18.3</td>\n            <td>15.5</td>\n            <td>-0.9</td>\n            <td>-1.0</td>\n            <td>Red</td>\n            <td>Red</td>\n            <td>NDA</td>\n            <td>NDA</td>\n            <td>NDA</td>\n            <td>NDA</td>\n            <td>NDA</td>\n            <td>NDA</td>\n            <td>NDA</td>\n            <td>NDA</td>\n            <td>NDA</td>\n            <td>NDA</td>\n            <td>NDA</td>\n            <td>NDA</td>\n            <td>1324</td>\n            <td>44</td>\n            <td>NDA</td>\n            <td>1148427.165</td>\n            <td>1851012.215</td>\n            <td>41.74711093</td>\n            <td>-87.73170248</td>\n            <td>70</td>\n            <td>ASHBURN</td>\n            <td>13</td>\n            <td>8</td>\n            <td>(41.74711093, -87.73170248)</td>\n        </tr>\n        <tr>\n            <td>609993</td>\n            <td>Agustin Lara Elementary Academy</td>\n            <td>ES</td>\n            <td>4619 S Wolcott Ave</td>\n            <td>Chicago</td>\n            <td>IL</td>\n            <td>60609</td>\n            <td>(773) 535-4389</td>\n            <td>http://schoolreports.cps.edu/SchoolProgressReport_Eng/Spring2011Eng_609993.pdf</td>\n            <td>Pershing Elementary Network</td>\n            <td>SOUTHWEST SIDE COLLABORATIVE</td>\n            <td>No</td>\n            <td>Track_E</td>\n            <td>Not on Probation</td>\n            <td>Level 1</td>\n            <td>No</td>\n            <td>Average</td>\n            <td>56</td>\n            <td>Average</td>\n            <td>44</td>\n            <td>Average</td>\n            <td>45</td>\n            <td>Weak</td>\n            <td>37</td>\n            <td>Weak</td>\n            <td>65</td>\n            <td>Average</td>\n            <td>48</td>\n            <td>Average</td>\n            <td>53</td>\n            <td>Strong</td>\n            <td>58</td>\n            <td>95.50%</td>\n            <td>10.4</td>\n            <td>95.80%</td>\n            <td>100.00%</td>\n            <td>76.9</td>\n            <td>NDA</td>\n            <td>26</td>\n            <td>24.7</td>\n            <td>61.8</td>\n            <td>49.7</td>\n            <td>39.2</td>\n            <td>27.2</td>\n            <td>69.7</td>\n            <td>60.6</td>\n            <td>9.1</td>\n            <td>18.2</td>\n            <td>11.1</td>\n            <td>9.6</td>\n            <td>0.9</td>\n            <td>2.4</td>\n            <td>Green</td>\n            <td>Green</td>\n            <td>42.9</td>\n            <td>25</td>\n            <td>NDA</td>\n            <td>NDA</td>\n            <td>NDA</td>\n            <td>NDA</td>\n            <td>NDA</td>\n            <td>NDA</td>\n            <td>NDA</td>\n            <td>NDA</td>\n            <td>NDA</td>\n            <td>NDA</td>\n            <td>556</td>\n            <td>42</td>\n            <td>NDA</td>\n            <td>1164504.290</td>\n            <td>1873959.199</td>\n            <td>41.80975690</td>\n            <td>-87.67214460</td>\n            <td>61</td>\n            <td>NEW CITY</td>\n            <td>20</td>\n            <td>9</td>\n            <td>(41.8097569, -87.6721446)</td>\n        </tr>\n        <tr>\n            <td>610513</td>\n            <td>Air Force Academy High School</td>\n            <td>HS</td>\n            <td>3630 S Wells St</td>\n            <td>Chicago</td>\n            <td>IL</td>\n            <td>60609</td>\n            <td>(773) 535-1590</td>\n            <td>http://schoolreports.cps.edu/SchoolProgressReport_Eng/Spring2011Eng_610513.pdf</td>\n            <td>Southwest Side High School Network</td>\n            <td>SOUTHWEST SIDE COLLABORATIVE</td>\n            <td>NDA</td>\n            <td>Standard</td>\n            <td>Not on Probation</td>\n            <td>Not Enough Data</td>\n            <td>Yes</td>\n            <td>Average</td>\n            <td>49</td>\n            <td>Strong</td>\n            <td>60</td>\n            <td>Strong</td>\n            <td>60</td>\n            <td>Average</td>\n            <td>55</td>\n            <td>Weak</td>\n            <td>45</td>\n            <td>Average</td>\n            <td>54</td>\n            <td>Average</td>\n            <td>53</td>\n            <td>Average</td>\n            <td>49</td>\n            <td>93.30%</td>\n            <td>15.6</td>\n            <td>96.90%</td>\n            <td>100.00%</td>\n            <td>NDA</td>\n            <td>NDA</td>\n            <td>NDA</td>\n            <td>NDA</td>\n            <td>NDA</td>\n            <td>NDA</td>\n            <td>NDA</td>\n            <td>NDA</td>\n            <td>NDA</td>\n            <td>NDA</td>\n            <td>NDA</td>\n            <td>NDA</td>\n            <td>None</td>\n            <td>None</td>\n            <td>None</td>\n            <td>None</td>\n            <td>NDA</td>\n            <td>NDA</td>\n            <td>NDA</td>\n            <td>NDA</td>\n            <td>14.6</td>\n            <td>14.8</td>\n            <td>NDA</td>\n            <td>16</td>\n            <td>1.4</td>\n            <td>NDA</td>\n            <td>NDA</td>\n            <td>NDA</td>\n            <td>NDA</td>\n            <td>NDA</td>\n            <td>302</td>\n            <td>40</td>\n            <td>91.8</td>\n            <td>1175177.622</td>\n            <td>1880745.126</td>\n            <td>41.82814609</td>\n            <td>-87.63279369</td>\n            <td>34</td>\n            <td>ARMOUR SQUARE</td>\n            <td>11</td>\n            <td>9</td>\n            <td>(41.82814609, -87.63279369)</td>\n        </tr>\n    </tbody>\n</table>"
     },
     "execution_count": 4,
     "metadata": {},
     "output_type": "execute_result"
    }
   ],
   "source": [
    "%sql select * from Chicago_public_schools limit 5"
   ]
  },
  {
   "cell_type": "code",
   "execution_count": 6,
   "id": "8369b876-8fda-4492-986d-df003475579f",
   "metadata": {},
   "outputs": [
    {
     "name": "stdout",
     "output_type": "stream",
     "text": [
      " * ibm_db_sa://mgr61801:***@0c77d6f2-5da9-48a9-81f8-86b520b87518.bs2io90l08kqb1od8lcg.databases.appdomain.cloud:31198/bludb\n",
      "Done.\n"
     ]
    },
    {
     "data": {
      "text/html": [
       "<table>\n",
       "    <thead>\n",
       "        <tr>\n",
       "            <th>zip_code</th>\n",
       "            <th>2</th>\n",
       "        </tr>\n",
       "    </thead>\n",
       "    <tbody>\n",
       "        <tr>\n",
       "            <td>60605</td>\n",
       "            <td>2</td>\n",
       "        </tr>\n",
       "        <tr>\n",
       "            <td>60607</td>\n",
       "            <td>4</td>\n",
       "        </tr>\n",
       "        <tr>\n",
       "            <td>60608</td>\n",
       "            <td>18</td>\n",
       "        </tr>\n",
       "        <tr>\n",
       "            <td>60609</td>\n",
       "            <td>23</td>\n",
       "        </tr>\n",
       "        <tr>\n",
       "            <td>60610</td>\n",
       "            <td>7</td>\n",
       "        </tr>\n",
       "    </tbody>\n",
       "</table>"
      ],
      "text/plain": [
       "[(60605, 2), (60607, 4), (60608, 18), (60609, 23), (60610, 7)]"
      ]
     },
     "execution_count": 6,
     "metadata": {},
     "output_type": "execute_result"
    }
   ],
   "source": [
    "%sql select zip_code, count(zip_code) from chicago_public_schools group by zip_code limit 5;"
   ]
  },
  {
   "cell_type": "code",
   "execution_count": 16,
   "id": "1ec344ff-c556-45e8-bbdc-2bb0ab582098",
   "metadata": {},
   "outputs": [
    {
     "name": "stdout",
     "output_type": "stream",
     "text": [
      " * ibm_db_sa://mgr61801:***@0c77d6f2-5da9-48a9-81f8-86b520b87518.bs2io90l08kqb1od8lcg.databases.appdomain.cloud:31198/bludb\n",
      "Done.\n"
     ]
    },
    {
     "data": {
      "text/html": [
       "<table>\n",
       "    <thead>\n",
       "        <tr>\n",
       "            <th>school_id</th>\n",
       "            <th>2</th>\n",
       "        </tr>\n",
       "    </thead>\n",
       "    <tbody>\n",
       "        <tr>\n",
       "            <td>400018</td>\n",
       "            <td>1</td>\n",
       "        </tr>\n",
       "        <tr>\n",
       "            <td>609674</td>\n",
       "            <td>1</td>\n",
       "        </tr>\n",
       "        <tr>\n",
       "            <td>609676</td>\n",
       "            <td>1</td>\n",
       "        </tr>\n",
       "        <tr>\n",
       "            <td>609678</td>\n",
       "            <td>1</td>\n",
       "        </tr>\n",
       "        <tr>\n",
       "            <td>609679</td>\n",
       "            <td>1</td>\n",
       "        </tr>\n",
       "    </tbody>\n",
       "</table>"
      ],
      "text/plain": [
       "[(400018, 1), (609674, 1), (609676, 1), (609678, 1), (609679, 1)]"
      ]
     },
     "execution_count": 16,
     "metadata": {},
     "output_type": "execute_result"
    }
   ],
   "source": [
    "%sql select school_id, count(school_id) from chicago_public_schools group by school_id limit 5;"
   ]
  },
  {
   "cell_type": "code",
   "execution_count": null,
   "id": "4855d311-d4ea-4782-b580-3bba91a07c63",
   "metadata": {},
   "outputs": [],
   "source": []
  }
 ],
 "metadata": {
  "kernelspec": {
   "display_name": "Python 3",
   "language": "python",
   "name": "python3"
  },
  "language_info": {
   "codemirror_mode": {
    "name": "ipython",
    "version": 3
   },
   "file_extension": ".py",
   "mimetype": "text/x-python",
   "name": "python",
   "nbconvert_exporter": "python",
   "pygments_lexer": "ipython3",
   "version": "3.7.10"
  }
 },
 "nbformat": 4,
 "nbformat_minor": 5
}