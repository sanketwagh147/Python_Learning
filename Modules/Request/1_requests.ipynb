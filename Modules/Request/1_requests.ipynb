{
 "cells": [
  {
   "cell_type": "code",
   "execution_count": 1,
   "id": "4b0474ab-c12c-43f3-a3d5-829d138605f5",
   "metadata": {},
   "outputs": [],
   "source": [
    "import requests"
   ]
  },
  {
   "cell_type": "code",
   "execution_count": 4,
   "id": "d4b6a7d4-3b67-4873-a310-2fa62c9cf909",
   "metadata": {},
   "outputs": [],
   "source": [
    "url = \"https://www.ibm.com/\"\n",
    "r=requests.get(url)  #assign the request to r\n"
   ]
  },
  {
   "cell_type": "code",
   "execution_count": 5,
   "id": "89e8e58c-a1a4-4f1b-97b5-86a8d869ac20",
   "metadata": {},
   "outputs": [
    {
     "data": {
      "text/plain": [
       "200"
      ]
     },
     "execution_count": 5,
     "metadata": {},
     "output_type": "execute_result"
    }
   ],
   "source": [
    "r.status_code  # view the status code"
   ]
  },
  {
   "cell_type": "code",
   "execution_count": 7,
   "id": "36b0d85b-1f35-4115-9ebe-0dbaaf2ec915",
   "metadata": {},
   "outputs": [
    {
     "data": {
      "text/plain": [
       "{'User-Agent': 'python-requests/2.25.1', 'Accept-Encoding': 'gzip, deflate', 'Accept': '*/*', 'Connection': 'keep-alive', 'Cookie': '_abck=5188931713B467830286BA9A5FE21790~-1~YAAQHTZ8aDs/wXd7AQAAIQe9eAb/XaxQoYWN+RoNC5sgH7ygmzPNxUfoG5v+M68qC/rb5lCH9BRBqzuXu3j07Lc8+mrvnz6cYwYOhPVD4i1hBZmoQ0N0DHo1hb67+0p8SaCtN1C7C6ABUEVpNcbkd0VaRxrUK7ufSK/XLNrjfR035+9vj8ZixitU+lcRhTF6kklndLHO4Pz8DaMvREIaLWZwsTfjxloAe2kBbGQ/J7Hq1wJtxsi0t0R/3jKffydtKK0UhDdzDd1+e6Ptkjq/LiYsJiS2MpZ+tFZoBybf+tFYIiA0fjGgGRE0hc6/Ucv3cnwcNZdpAHurAj4jzffuSQjrnJOPzEKM7OoPw5vyVa9v9n7MYNY=~-1~-1~-1; bm_sz=A28B3EBE28EDF65F84DEB27365FBA67B~YAAQHTZ8aDw/wXd7AQAAIQe9eAyBF3MRMaQ3HAPTEpf7//07AauvVwN60REV+Tpx2+Iyk5mGvJoyx5QwbXbskVd8hpN8EPA2iFd2yZiEgPWWJRnL3J92+yiqBI2bgsBwnjvBSto1epOn6dZaEcI0W3u+tBiDQfZ3wAejKt401723g7FfBZOfEpUJ7oontcidnhTkV86N76klhli6TFQHGPtdW4l+G4mN06Zluq9yIUIFZhpw8w2XlPapNOq+MtnbXf3yZGkAGKxCymrZVk+BuC0xdeiDV77mwjVvuj74ZWI=~3158840~4473142'}"
      ]
     },
     "execution_count": 7,
     "metadata": {},
     "output_type": "execute_result"
    }
   ],
   "source": [
    "r.request.headers  # View request headers"
   ]
  },
  {
   "cell_type": "code",
   "execution_count": 8,
   "id": "ffacab5c-2c02-4ca5-acc8-66e42ed17e80",
   "metadata": {},
   "outputs": [],
   "source": [
    "r.request.body  # views request body"
   ]
  },
  {
   "cell_type": "markdown",
   "id": "efdb1021-182c-480e-ba1a-c1d9422fcadc",
   "metadata": {},
   "source": [
    "#### As there is no request body for get request we get None"
   ]
  },
  {
   "cell_type": "code",
   "execution_count": 9,
   "id": "19fc0cf7-dd73-4084-aed4-f284febc070f",
   "metadata": {},
   "outputs": [
    {
     "data": {
      "text/plain": [
       "{'Server': 'Apache', 'x-drupal-dynamic-cache': 'UNCACHEABLE', 'Link': '<https://www.ibm.com/in-en>; rel=\"canonical\", <https://www.ibm.com/in-en>; rel=\"revision\", <//1.cms.s81c.com>; rel=preconnect; crossorigin, <//1.cms.s81c.com>; rel=dns-prefetch', 'x-ua-compatible': 'IE=edge', 'Content-Language': 'en-in', 'x-generator': 'Drupal 8 (https://www.drupal.org)', 'x-dns-prefetch-control': 'on', 'x-drupal-cache': 'MISS', 'Last-Modified': 'Tue, 24 Aug 2021 11:50:19 GMT', 'ETag': '\"1629805819\"', 'Content-Type': 'text/html; charset=UTF-8', 'x-acquia-host': 'www.ibm.com', 'x-acquia-path': '/in-en', 'x-acquia-site': '', 'x-acquia-purge-tags': '', 'x-varnish': '401017110 421036095', 'x-cache-hits': '3', 'x-age': '885', 'Accept-Ranges': 'bytes', 'Content-Encoding': 'gzip', 'Cache-Control': 'public, max-age=300', 'Expires': 'Tue, 24 Aug 2021 15:22:40 GMT', 'X-Akamai-Transformed': '9 9959 0 pmb=mTOE,1', 'Date': 'Tue, 24 Aug 2021 15:17:40 GMT', 'Content-Length': '10033', 'Connection': 'keep-alive', 'Vary': 'Accept-Encoding', 'x-content-type-options': 'nosniff', 'X-XSS-Protection': '1; mode=block', 'Content-Security-Policy': 'upgrade-insecure-requests', 'Strict-Transport-Security': 'max-age=31536000', 'x-ibm-trace': 'www-dipatcher: dynamic rule'}"
      ]
     },
     "execution_count": 9,
     "metadata": {},
     "output_type": "execute_result"
    }
   ],
   "source": [
    "header = r.headers  # view http response header\n",
    "header"
   ]
  },
  {
   "cell_type": "code",
   "execution_count": 11,
   "id": "a5db3768-d221-4200-a50b-3f0c22329eac",
   "metadata": {},
   "outputs": [
    {
     "data": {
      "text/plain": [
       "'Tue, 24 Aug 2021 15:17:40 GMT'"
      ]
     },
     "execution_count": 11,
     "metadata": {},
     "output_type": "execute_result"
    }
   ],
   "source": [
    "header[\"date\"]   # check the request date"
   ]
  },
  {
   "cell_type": "code",
   "execution_count": 12,
   "id": "8f0a3555-ad16-4547-81fb-a85c65caca6b",
   "metadata": {},
   "outputs": [
    {
     "data": {
      "text/plain": [
       "'text/html; charset=UTF-8'"
      ]
     },
     "execution_count": 12,
     "metadata": {},
     "output_type": "execute_result"
    }
   ],
   "source": [
    "header[\"content-Type\"]  # indicates type of data"
   ]
  },
  {
   "cell_type": "code",
   "execution_count": 13,
   "id": "9b805293-8348-48ae-96b6-26f03f793e1e",
   "metadata": {},
   "outputs": [
    {
     "data": {
      "text/plain": [
       "'UTF-8'"
      ]
     },
     "execution_count": 13,
     "metadata": {},
     "output_type": "execute_result"
    }
   ],
   "source": [
    "r.encoding  #Check encoding method"
   ]
  },
  {
   "cell_type": "code",
   "execution_count": 14,
   "id": "35416fa2-307e-48ae-a765-02c25ac5d755",
   "metadata": {},
   "outputs": [
    {
     "data": {
      "text/plain": [
       "'<!DOCTYPE html>\\n<html lang=\"en-in\" dir=\"ltr\">\\n  <head>\\n    <meta charset=\"utf-8\" />\\n<script>digitalD'"
      ]
     },
     "execution_count": 14,
     "metadata": {},
     "output_type": "execute_result"
    }
   ],
   "source": [
    "r.text[0:100]  # review first 100 parameters"
   ]
  },
  {
   "cell_type": "code",
   "execution_count": null,
   "id": "289bdc84-624b-44a2-8f2b-c16d88ab942b",
   "metadata": {},
   "outputs": [],
   "source": []
  }
 ],
 "metadata": {
  "kernelspec": {
   "display_name": "Python 3",
   "language": "python",
   "name": "python3"
  },
  "language_info": {
   "codemirror_mode": {
    "name": "ipython",
    "version": 3
   },
   "file_extension": ".py",
   "mimetype": "text/x-python",
   "name": "python",
   "nbconvert_exporter": "python",
   "pygments_lexer": "ipython3",
   "version": "3.7.10"
  }
 },
 "nbformat": 4,
 "nbformat_minor": 5
}
